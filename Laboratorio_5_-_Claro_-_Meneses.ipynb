{
  "cells": [
    {
      "cell_type": "markdown",
      "source": [
        "<h1><center>Laboratorio 5: El Pandas no Muerde (act IV) 🐼</center></h1>\n",
        "\n",
        "<center><strong>MDS7202: Laboratorio de Programación Científica para Ciencia de Datos</strong></center>"
      ],
      "metadata": {
        "id": "XUZ1dFPHzAHl",
        "cell_id": "00000-d922277a-c096-45e6-919d-d08ca8ca4c9c",
        "deepnote_cell_type": "markdown",
        "deepnote_cell_height": 155.43333435058594
      }
    },
    {
      "cell_type": "markdown",
      "source": [
        "### Cuerpo Docente:\n",
        "\n",
        "- Profesor: Pablo Badilla\n",
        "- Auxiliar: Ignacio Meza D.\n",
        "- Ayudante: Patricio Ortiz"
      ],
      "metadata": {
        "id": "UD8X1uhGzAHq",
        "cell_id": "00001-41058c5a-e4f2-45ba-8925-5dee28b63c02",
        "deepnote_cell_type": "markdown",
        "deepnote_cell_height": 165.78334045410156
      }
    },
    {
      "cell_type": "markdown",
      "source": [
        "### Equipo: SUPER IMPORTANTE - notebooks sin nombre no serán revisados\n",
        "\n",
        "- Gonzalo Claro\n",
        "- Camilo Meneses\n"
      ],
      "metadata": {
        "id": "tXflExjqzAHr",
        "cell_id": "00002-e1842bc9-c821-4133-b500-4fe9b07f9071",
        "deepnote_cell_type": "markdown",
        "deepnote_cell_height": 171.86666870117188
      }
    },
    {
      "cell_type": "markdown",
      "source": [
        "### [Link de repositorio de GitHub](https://github.com/GonzaloClaro/evaluaciones_mds7202_grupo23)"
      ],
      "metadata": {
        "id": "AD-V0bbZzAHr",
        "cell_id": "00003-1ff7590e-80bb-4f14-b210-a464229ab3d9",
        "deepnote_cell_type": "markdown",
        "deepnote_cell_height": 61.56666564941406
      }
    },
    {
      "cell_type": "markdown",
      "source": [
        "\n",
        "## Reglas:\n",
        "\n",
        "- Fecha de entrega: 22/10/2021\n",
        "- **Grupos de 2 personas**\n",
        "- **Ausentes** deberán realizar la actividad solos. \n",
        "- Cualquier duda fuera del horario de clases al foro. Mensajes al equipo docente serán respondidos por este medio.\n",
        "- Prohibidas las copias. \n",
        "- Pueden usar cualquer matrial del curso que estimen conveniente.\n",
        "\n",
        "### Objetivos principales del laboratorio\n",
        "\n",
        "- Aplicar los paradigmas y buenas prácticas de programación vistas hasta este momento.\n",
        "- Comprender y aprovechar las ventajas que nos ofrece la liberia `numpy` con respecto a trabajar en Python 'puro'.\n",
        "- Visualizar aplicaciones de filtros de imágenes sin el uso de librerías.\n",
        "- Verificar que el uso indiscriminado de `for` puede afectar en la eficiencia en al procesar datos masivos.\n",
        "\n",
        "\n",
        "El laboratorio deberá ser desarrollado sin el uso indiscriminado de iteradores nativos de python (aka \"for\", \"while\"). La idea es que aprendan a exprimir al máximo las funciones optimizadas que nos entrega `numpy`, las cuales vale mencionar, son bastante más eficientes que los iteradores nativos sobre arreglos (*o tensores*)."
      ],
      "metadata": {
        "id": "6uBLPj1PzAHs",
        "cell_id": "00005-9b6fbc71-5250-4293-939d-cff84ea69ac4",
        "deepnote_cell_type": "markdown",
        "deepnote_cell_height": 571
      }
    },
    {
      "cell_type": "markdown",
      "source": [
        "## Descripción del laboratorio."
      ],
      "metadata": {
        "id": "wrG4gYabzAHs",
        "cell_id": "00006-aba27b6e-506c-4de4-9ba7-161e8fa8eeb6",
        "deepnote_cell_type": "markdown",
        "deepnote_cell_height": 69.03334045410156
      }
    },
    {
      "cell_type": "markdown",
      "source": [
        "### Importamos librerias utiles 😸"
      ],
      "metadata": {
        "id": "MhISwri4zAHy",
        "cell_id": "00007-92b497a3-20e7-40e4-8a65-2115c3cf717b",
        "deepnote_cell_type": "markdown",
        "deepnote_cell_height": 61.03334045410156
      }
    },
    {
      "cell_type": "code",
      "metadata": {
        "ExecuteTime": {
          "end_time": "2021-03-29T00:08:16.884674Z",
          "start_time": "2021-03-29T00:08:16.349846Z"
        },
        "id": "uyc33dKdzAHy",
        "colab": {
          "base_uri": "https://localhost:8080/"
        },
        "outputId": "e8f347ba-7738-4f63-c960-bd5f1ae512d2",
        "deepnote_to_be_reexecuted": false,
        "source_hash": "80b1c1a9",
        "execution_start": 1634325916301,
        "execution_millis": 15959,
        "cell_id": "00008-02ea8e34-1cb6-4773-a4b1-3369d7843ddf",
        "deepnote_cell_type": "code",
        "deepnote_cell_height": 987.5499877929688
      },
      "source": [
        "# Libreria Core del lab.\n",
        "import numpy as np\n",
        "!pip install --upgrade pandas\n",
        "!pip install xlrd\n",
        "!pip install openpyxl\n",
        "import pandas as pd\n",
        "import datetime\n",
        "from scipy import stats\n",
        "\n",
        "from IPython.display import display, Markdown, Latex\n",
        "\n",
        "#Libreria para plotear\n",
        "!pip install --upgrade plotly\n",
        "!pip install missingno\n",
        "import matplotlib.pyplot as plt\n",
        "import missingno as msno\n",
        "import plotly.express as px"
      ],
      "execution_count": 133,
      "outputs": [
        {
          "output_type": "stream",
          "name": "stdout",
          "text": [
            "Looking in indexes: https://pypi.org/simple, https://us-python.pkg.dev/colab-wheels/public/simple/\n",
            "Requirement already satisfied: pandas in /usr/local/lib/python3.7/dist-packages (1.3.5)\n",
            "Requirement already satisfied: pytz>=2017.3 in /usr/local/lib/python3.7/dist-packages (from pandas) (2022.1)\n",
            "Requirement already satisfied: numpy>=1.17.3 in /usr/local/lib/python3.7/dist-packages (from pandas) (1.21.6)\n",
            "Requirement already satisfied: python-dateutil>=2.7.3 in /usr/local/lib/python3.7/dist-packages (from pandas) (2.8.2)\n",
            "Requirement already satisfied: six>=1.5 in /usr/local/lib/python3.7/dist-packages (from python-dateutil>=2.7.3->pandas) (1.15.0)\n",
            "Looking in indexes: https://pypi.org/simple, https://us-python.pkg.dev/colab-wheels/public/simple/\n",
            "Requirement already satisfied: xlrd in /usr/local/lib/python3.7/dist-packages (1.1.0)\n",
            "Looking in indexes: https://pypi.org/simple, https://us-python.pkg.dev/colab-wheels/public/simple/\n",
            "Requirement already satisfied: openpyxl in /usr/local/lib/python3.7/dist-packages (3.0.10)\n",
            "Requirement already satisfied: et-xmlfile in /usr/local/lib/python3.7/dist-packages (from openpyxl) (1.1.0)\n",
            "Looking in indexes: https://pypi.org/simple, https://us-python.pkg.dev/colab-wheels/public/simple/\n",
            "Requirement already satisfied: plotly in /usr/local/lib/python3.7/dist-packages (5.8.0)\n",
            "Requirement already satisfied: tenacity>=6.2.0 in /usr/local/lib/python3.7/dist-packages (from plotly) (8.0.1)\n",
            "Looking in indexes: https://pypi.org/simple, https://us-python.pkg.dev/colab-wheels/public/simple/\n",
            "Requirement already satisfied: missingno in /usr/local/lib/python3.7/dist-packages (0.5.1)\n",
            "Requirement already satisfied: scipy in /usr/local/lib/python3.7/dist-packages (from missingno) (1.4.1)\n",
            "Requirement already satisfied: seaborn in /usr/local/lib/python3.7/dist-packages (from missingno) (0.11.2)\n",
            "Requirement already satisfied: numpy in /usr/local/lib/python3.7/dist-packages (from missingno) (1.21.6)\n",
            "Requirement already satisfied: matplotlib in /usr/local/lib/python3.7/dist-packages (from missingno) (3.2.2)\n",
            "Requirement already satisfied: kiwisolver>=1.0.1 in /usr/local/lib/python3.7/dist-packages (from matplotlib->missingno) (1.4.2)\n",
            "Requirement already satisfied: python-dateutil>=2.1 in /usr/local/lib/python3.7/dist-packages (from matplotlib->missingno) (2.8.2)\n",
            "Requirement already satisfied: cycler>=0.10 in /usr/local/lib/python3.7/dist-packages (from matplotlib->missingno) (0.11.0)\n",
            "Requirement already satisfied: pyparsing!=2.0.4,!=2.1.2,!=2.1.6,>=2.0.1 in /usr/local/lib/python3.7/dist-packages (from matplotlib->missingno) (3.0.9)\n",
            "Requirement already satisfied: typing-extensions in /usr/local/lib/python3.7/dist-packages (from kiwisolver>=1.0.1->matplotlib->missingno) (4.2.0)\n",
            "Requirement already satisfied: six>=1.5 in /usr/local/lib/python3.7/dist-packages (from python-dateutil>=2.1->matplotlib->missingno) (1.15.0)\n",
            "Requirement already satisfied: pandas>=0.23 in /usr/local/lib/python3.7/dist-packages (from seaborn->missingno) (1.3.5)\n",
            "Requirement already satisfied: pytz>=2017.3 in /usr/local/lib/python3.7/dist-packages (from pandas>=0.23->seaborn->missingno) (2022.1)\n"
          ]
        }
      ]
    },
    {
      "cell_type": "code",
      "metadata": {
        "id": "gQ0-zPV4NNrq",
        "deepnote_to_be_reexecuted": false,
        "source_hash": "c60dc4a7",
        "execution_start": 1634315852279,
        "execution_millis": 4,
        "cell_id": "00009-ba85c0a3-286a-4df8-a94e-78588eb64ebd",
        "deepnote_cell_type": "code",
        "deepnote_cell_height": 218.53334045410156,
        "colab": {
          "base_uri": "https://localhost:8080/"
        },
        "outputId": "117ad059-3bd3-4431-f07e-558f19a4961b"
      },
      "source": [
        "# Si usted está utilizando Colabolatory le puede ser útil este código para cargar los archivos.\n",
        "try:\n",
        "    from google.colab import drive\n",
        "    drive.mount(\"/content/drive\")\n",
        "    path = '/content/drive/Othercomputers/Camilo!/Universidad/Laboratorio de Programación Científica para Ciencia de Datos/Laboratorios/Laboratorio 5/Archivos/'\n",
        "except: \n",
        "    print('Ignorando conexión drive-colab')"
      ],
      "execution_count": 134,
      "outputs": [
        {
          "output_type": "stream",
          "name": "stdout",
          "text": [
            "Drive already mounted at /content/drive; to attempt to forcibly remount, call drive.mount(\"/content/drive\", force_remount=True).\n"
          ]
        }
      ]
    },
    {
      "cell_type": "markdown",
      "source": [
        "<p align=\"center\"><iframe width=\"560\" height=\"315\" src=\"https://www.youtube.com/embed/MW4d8_LLYp8?rel=0&amp;controls=0&amp;showinfo=0\" frameborder=\"1\" allowfullscreen></iframe></p>"
      ],
      "metadata": {
        "tags": [],
        "cell_id": "00010-5ea0bd58-e4cf-4cd1-b34d-a6286ab74a6c",
        "deepnote_cell_type": "markdown",
        "deepnote_cell_height": 344.0333251953125,
        "id": "KNMxYFoBE-Md"
      }
    },
    {
      "cell_type": "markdown",
      "source": [
        "# Segmentación de Clientes en Tienda de Retail 🛍️"
      ],
      "metadata": {
        "id": "QDwIXTh7bK_A",
        "cell_id": "00011-0668869e-1260-4409-b506-4251e2a12350",
        "deepnote_cell_type": "markdown",
        "deepnote_cell_height": 133.03334045410156
      }
    },
    {
      "cell_type": "markdown",
      "source": [
        "<p align=\"center\">\n",
        "  <img width=300 src=\"https://s1.eestatic.com/2018/04/14/social/la_jungla_-_social_299733421_73842361_854x640.jpg\">\n",
        "</p>"
      ],
      "metadata": {
        "tags": [],
        "cell_id": "00012-f421236d-70fc-4317-934a-d9ca05ba774a",
        "deepnote_cell_type": "markdown",
        "deepnote_cell_height": 293.8500061035156,
        "id": "omxCr72cE-Me"
      }
    },
    {
      "cell_type": "markdown",
      "source": [
        "## 1.1 Cargar Dataset"
      ],
      "metadata": {
        "tags": [],
        "cell_id": "00013-b2816031-9bf6-401b-9ce5-d9a10d6d1395",
        "deepnote_cell_type": "markdown",
        "deepnote_cell_height": 69.03334045410156,
        "id": "vRj3n4U9E-Me"
      }
    },
    {
      "cell_type": "markdown",
      "source": [
        "Mr. Lepin Mora quien es el gerente de una cotizada tienda de retail en Europa, les solicita si pueden analizar los datos de algunas de sus tiendas y si es posible extraer los diferenciar los tipos de clientes que posee el retail.\n",
        "\n",
        "Para esto, el área de ventas les entrega el archivo `online_retail_II.xlsx` con el que se les pide que cargue y visualicen algunas de las filas que componen el Dataset.\n",
        "\n",
        "Realice una primera visualización de los datos y señale los atributos que componen el dataset. Señale las columnas que conforman el dataset, el tipo de variable presente en cada columna y comente que representa cada una de estas.\n",
        "\n",
        "**Respuesta:**"
      ],
      "metadata": {
        "tags": [],
        "cell_id": "00014-d3ac5fae-56fd-4d4e-83db-be9df9d130a4",
        "deepnote_cell_type": "markdown",
        "deepnote_cell_height": 272.6333312988281,
        "id": "mL3qW3EXE-Mf"
      }
    },
    {
      "cell_type": "code",
      "metadata": {
        "id": "7FNOu-CvjV5m",
        "colab": {
          "base_uri": "https://localhost:8080/",
          "height": 0
        },
        "outputId": "ebf79158-72a6-4e7d-ad89-2bcea5ebdd74",
        "deepnote_to_be_reexecuted": false,
        "source_hash": "579ecb11",
        "execution_start": 1634325932264,
        "execution_millis": 375,
        "cell_id": "00015-b7ecc992-93dc-4d37-8161-9e2a5238e17d",
        "deepnote_cell_type": "code",
        "deepnote_cell_height": 449.54998779296875,
        "deepnote_output_heights": [
          174
        ]
      },
      "source": [
        "df_retail = pd.read_pickle(path+\"online_retail_II.pickle\")\n",
        "df_retail = df_retail.astype(\n",
        "    {\n",
        "        \"Invoice\": \"category\",\n",
        "        \"StockCode\": \"category\",\n",
        "        \"Description\": str,\n",
        "        \"Customer ID\": \"category\",\n",
        "    }\n",
        ")\n",
        "df_retail.head()\n"
      ],
      "execution_count": 135,
      "outputs": [
        {
          "output_type": "execute_result",
          "data": {
            "text/plain": [
              "  Invoice StockCode                          Description  Quantity  \\\n",
              "0  489434     85048  15CM CHRISTMAS GLASS BALL 20 LIGHTS        12   \n",
              "1  489434    79323P                   PINK CHERRY LIGHTS        12   \n",
              "2  489434    79323W                  WHITE CHERRY LIGHTS        12   \n",
              "3  489434     22041         RECORD FRAME 7\" SINGLE SIZE         48   \n",
              "4  489434     21232       STRAWBERRY CERAMIC TRINKET BOX        24   \n",
              "\n",
              "          InvoiceDate  Price Customer ID         Country  \n",
              "0 2009-12-01 07:45:00   6.95     13085.0  United Kingdom  \n",
              "1 2009-12-01 07:45:00   6.75     13085.0  United Kingdom  \n",
              "2 2009-12-01 07:45:00   6.75     13085.0  United Kingdom  \n",
              "3 2009-12-01 07:45:00   2.10     13085.0  United Kingdom  \n",
              "4 2009-12-01 07:45:00   1.25     13085.0  United Kingdom  "
            ],
            "text/html": [
              "\n",
              "  <div id=\"df-24d70455-8250-470e-96b0-4b789868e728\">\n",
              "    <div class=\"colab-df-container\">\n",
              "      <div>\n",
              "<style scoped>\n",
              "    .dataframe tbody tr th:only-of-type {\n",
              "        vertical-align: middle;\n",
              "    }\n",
              "\n",
              "    .dataframe tbody tr th {\n",
              "        vertical-align: top;\n",
              "    }\n",
              "\n",
              "    .dataframe thead th {\n",
              "        text-align: right;\n",
              "    }\n",
              "</style>\n",
              "<table border=\"1\" class=\"dataframe\">\n",
              "  <thead>\n",
              "    <tr style=\"text-align: right;\">\n",
              "      <th></th>\n",
              "      <th>Invoice</th>\n",
              "      <th>StockCode</th>\n",
              "      <th>Description</th>\n",
              "      <th>Quantity</th>\n",
              "      <th>InvoiceDate</th>\n",
              "      <th>Price</th>\n",
              "      <th>Customer ID</th>\n",
              "      <th>Country</th>\n",
              "    </tr>\n",
              "  </thead>\n",
              "  <tbody>\n",
              "    <tr>\n",
              "      <th>0</th>\n",
              "      <td>489434</td>\n",
              "      <td>85048</td>\n",
              "      <td>15CM CHRISTMAS GLASS BALL 20 LIGHTS</td>\n",
              "      <td>12</td>\n",
              "      <td>2009-12-01 07:45:00</td>\n",
              "      <td>6.95</td>\n",
              "      <td>13085.0</td>\n",
              "      <td>United Kingdom</td>\n",
              "    </tr>\n",
              "    <tr>\n",
              "      <th>1</th>\n",
              "      <td>489434</td>\n",
              "      <td>79323P</td>\n",
              "      <td>PINK CHERRY LIGHTS</td>\n",
              "      <td>12</td>\n",
              "      <td>2009-12-01 07:45:00</td>\n",
              "      <td>6.75</td>\n",
              "      <td>13085.0</td>\n",
              "      <td>United Kingdom</td>\n",
              "    </tr>\n",
              "    <tr>\n",
              "      <th>2</th>\n",
              "      <td>489434</td>\n",
              "      <td>79323W</td>\n",
              "      <td>WHITE CHERRY LIGHTS</td>\n",
              "      <td>12</td>\n",
              "      <td>2009-12-01 07:45:00</td>\n",
              "      <td>6.75</td>\n",
              "      <td>13085.0</td>\n",
              "      <td>United Kingdom</td>\n",
              "    </tr>\n",
              "    <tr>\n",
              "      <th>3</th>\n",
              "      <td>489434</td>\n",
              "      <td>22041</td>\n",
              "      <td>RECORD FRAME 7\" SINGLE SIZE</td>\n",
              "      <td>48</td>\n",
              "      <td>2009-12-01 07:45:00</td>\n",
              "      <td>2.10</td>\n",
              "      <td>13085.0</td>\n",
              "      <td>United Kingdom</td>\n",
              "    </tr>\n",
              "    <tr>\n",
              "      <th>4</th>\n",
              "      <td>489434</td>\n",
              "      <td>21232</td>\n",
              "      <td>STRAWBERRY CERAMIC TRINKET BOX</td>\n",
              "      <td>24</td>\n",
              "      <td>2009-12-01 07:45:00</td>\n",
              "      <td>1.25</td>\n",
              "      <td>13085.0</td>\n",
              "      <td>United Kingdom</td>\n",
              "    </tr>\n",
              "  </tbody>\n",
              "</table>\n",
              "</div>\n",
              "      <button class=\"colab-df-convert\" onclick=\"convertToInteractive('df-24d70455-8250-470e-96b0-4b789868e728')\"\n",
              "              title=\"Convert this dataframe to an interactive table.\"\n",
              "              style=\"display:none;\">\n",
              "        \n",
              "  <svg xmlns=\"http://www.w3.org/2000/svg\" height=\"24px\"viewBox=\"0 0 24 24\"\n",
              "       width=\"24px\">\n",
              "    <path d=\"M0 0h24v24H0V0z\" fill=\"none\"/>\n",
              "    <path d=\"M18.56 5.44l.94 2.06.94-2.06 2.06-.94-2.06-.94-.94-2.06-.94 2.06-2.06.94zm-11 1L8.5 8.5l.94-2.06 2.06-.94-2.06-.94L8.5 2.5l-.94 2.06-2.06.94zm10 10l.94 2.06.94-2.06 2.06-.94-2.06-.94-.94-2.06-.94 2.06-2.06.94z\"/><path d=\"M17.41 7.96l-1.37-1.37c-.4-.4-.92-.59-1.43-.59-.52 0-1.04.2-1.43.59L10.3 9.45l-7.72 7.72c-.78.78-.78 2.05 0 2.83L4 21.41c.39.39.9.59 1.41.59.51 0 1.02-.2 1.41-.59l7.78-7.78 2.81-2.81c.8-.78.8-2.07 0-2.86zM5.41 20L4 18.59l7.72-7.72 1.47 1.35L5.41 20z\"/>\n",
              "  </svg>\n",
              "      </button>\n",
              "      \n",
              "  <style>\n",
              "    .colab-df-container {\n",
              "      display:flex;\n",
              "      flex-wrap:wrap;\n",
              "      gap: 12px;\n",
              "    }\n",
              "\n",
              "    .colab-df-convert {\n",
              "      background-color: #E8F0FE;\n",
              "      border: none;\n",
              "      border-radius: 50%;\n",
              "      cursor: pointer;\n",
              "      display: none;\n",
              "      fill: #1967D2;\n",
              "      height: 32px;\n",
              "      padding: 0 0 0 0;\n",
              "      width: 32px;\n",
              "    }\n",
              "\n",
              "    .colab-df-convert:hover {\n",
              "      background-color: #E2EBFA;\n",
              "      box-shadow: 0px 1px 2px rgba(60, 64, 67, 0.3), 0px 1px 3px 1px rgba(60, 64, 67, 0.15);\n",
              "      fill: #174EA6;\n",
              "    }\n",
              "\n",
              "    [theme=dark] .colab-df-convert {\n",
              "      background-color: #3B4455;\n",
              "      fill: #D2E3FC;\n",
              "    }\n",
              "\n",
              "    [theme=dark] .colab-df-convert:hover {\n",
              "      background-color: #434B5C;\n",
              "      box-shadow: 0px 1px 3px 1px rgba(0, 0, 0, 0.15);\n",
              "      filter: drop-shadow(0px 1px 2px rgba(0, 0, 0, 0.3));\n",
              "      fill: #FFFFFF;\n",
              "    }\n",
              "  </style>\n",
              "\n",
              "      <script>\n",
              "        const buttonEl =\n",
              "          document.querySelector('#df-24d70455-8250-470e-96b0-4b789868e728 button.colab-df-convert');\n",
              "        buttonEl.style.display =\n",
              "          google.colab.kernel.accessAllowed ? 'block' : 'none';\n",
              "\n",
              "        async function convertToInteractive(key) {\n",
              "          const element = document.querySelector('#df-24d70455-8250-470e-96b0-4b789868e728');\n",
              "          const dataTable =\n",
              "            await google.colab.kernel.invokeFunction('convertToInteractive',\n",
              "                                                     [key], {});\n",
              "          if (!dataTable) return;\n",
              "\n",
              "          const docLinkHtml = 'Like what you see? Visit the ' +\n",
              "            '<a target=\"_blank\" href=https://colab.research.google.com/notebooks/data_table.ipynb>data table notebook</a>'\n",
              "            + ' to learn more about interactive tables.';\n",
              "          element.innerHTML = '';\n",
              "          dataTable['output_type'] = 'display_data';\n",
              "          await google.colab.output.renderOutput(dataTable, element);\n",
              "          const docLink = document.createElement('div');\n",
              "          docLink.innerHTML = docLinkHtml;\n",
              "          element.appendChild(docLink);\n",
              "        }\n",
              "      </script>\n",
              "    </div>\n",
              "  </div>\n",
              "  "
            ]
          },
          "metadata": {},
          "execution_count": 135
        }
      ]
    },
    {
      "cell_type": "code",
      "source": [
        "df_retail[df_retail[\"StockCode\"]==85048]"
      ],
      "metadata": {
        "colab": {
          "base_uri": "https://localhost:8080/",
          "height": 0
        },
        "id": "Ia7cwsPhwr12",
        "outputId": "8b2bf457-4d94-4f25-9aeb-dd0c73b7d543"
      },
      "execution_count": 136,
      "outputs": [
        {
          "output_type": "execute_result",
          "data": {
            "text/plain": [
              "        Invoice StockCode                          Description  Quantity  \\\n",
              "0        489434     85048  15CM CHRISTMAS GLASS BALL 20 LIGHTS        12   \n",
              "400     C489518     85048  15CM CHRISTMAS GLASS BALL 20 LIGHTS        -1   \n",
              "626     C489528     85048  15CM CHRISTMAS GLASS BALL 20 LIGHTS        -1   \n",
              "1134    C489551     85048  15CM CHRISTMAS GLASS BALL 20 LIGHTS        -1   \n",
              "1256     489559     85048  15CM CHRISTMAS GLASS BALL 20 LIGHTS        12   \n",
              "...         ...       ...                                  ...       ...   \n",
              "523546   538068     85048  15CM CHRISTMAS GLASS BALL 20 LIGHTS         2   \n",
              "524636  C538109     85048  15CM CHRISTMAS GLASS BALL 20 LIGHTS        -1   \n",
              "524668   538116     85048  15CM CHRISTMAS GLASS BALL 20 LIGHTS         2   \n",
              "524884   538148     85048  15CM CHRISTMAS GLASS BALL 20 LIGHTS         1   \n",
              "524995   538149     85048  15CM CHRISTMAS GLASS BALL 20 LIGHTS         1   \n",
              "\n",
              "               InvoiceDate  Price Customer ID         Country  \n",
              "0      2009-12-01 07:45:00   6.95     13085.0  United Kingdom  \n",
              "400    2009-12-01 11:35:00   7.95     15461.0  United Kingdom  \n",
              "626    2009-12-01 11:50:00   7.95     16714.0  United Kingdom  \n",
              "1134   2009-12-01 12:35:00   6.95     17641.0  United Kingdom  \n",
              "1256   2009-12-01 12:55:00   6.95     17056.0  United Kingdom  \n",
              "...                    ...    ...         ...             ...  \n",
              "523546 2010-12-09 14:05:00   7.95     17978.0  United Kingdom  \n",
              "524636 2010-12-09 15:23:00   7.95     16042.0  United Kingdom  \n",
              "524668 2010-12-09 15:32:00   7.95     13327.0  United Kingdom  \n",
              "524884 2010-12-09 16:26:00  16.98         NaN  United Kingdom  \n",
              "524995 2010-12-09 16:27:00  16.98         NaN  United Kingdom  \n",
              "\n",
              "[319 rows x 8 columns]"
            ],
            "text/html": [
              "\n",
              "  <div id=\"df-df27afba-5f46-4ed9-b102-d8b1c3d96b62\">\n",
              "    <div class=\"colab-df-container\">\n",
              "      <div>\n",
              "<style scoped>\n",
              "    .dataframe tbody tr th:only-of-type {\n",
              "        vertical-align: middle;\n",
              "    }\n",
              "\n",
              "    .dataframe tbody tr th {\n",
              "        vertical-align: top;\n",
              "    }\n",
              "\n",
              "    .dataframe thead th {\n",
              "        text-align: right;\n",
              "    }\n",
              "</style>\n",
              "<table border=\"1\" class=\"dataframe\">\n",
              "  <thead>\n",
              "    <tr style=\"text-align: right;\">\n",
              "      <th></th>\n",
              "      <th>Invoice</th>\n",
              "      <th>StockCode</th>\n",
              "      <th>Description</th>\n",
              "      <th>Quantity</th>\n",
              "      <th>InvoiceDate</th>\n",
              "      <th>Price</th>\n",
              "      <th>Customer ID</th>\n",
              "      <th>Country</th>\n",
              "    </tr>\n",
              "  </thead>\n",
              "  <tbody>\n",
              "    <tr>\n",
              "      <th>0</th>\n",
              "      <td>489434</td>\n",
              "      <td>85048</td>\n",
              "      <td>15CM CHRISTMAS GLASS BALL 20 LIGHTS</td>\n",
              "      <td>12</td>\n",
              "      <td>2009-12-01 07:45:00</td>\n",
              "      <td>6.95</td>\n",
              "      <td>13085.0</td>\n",
              "      <td>United Kingdom</td>\n",
              "    </tr>\n",
              "    <tr>\n",
              "      <th>400</th>\n",
              "      <td>C489518</td>\n",
              "      <td>85048</td>\n",
              "      <td>15CM CHRISTMAS GLASS BALL 20 LIGHTS</td>\n",
              "      <td>-1</td>\n",
              "      <td>2009-12-01 11:35:00</td>\n",
              "      <td>7.95</td>\n",
              "      <td>15461.0</td>\n",
              "      <td>United Kingdom</td>\n",
              "    </tr>\n",
              "    <tr>\n",
              "      <th>626</th>\n",
              "      <td>C489528</td>\n",
              "      <td>85048</td>\n",
              "      <td>15CM CHRISTMAS GLASS BALL 20 LIGHTS</td>\n",
              "      <td>-1</td>\n",
              "      <td>2009-12-01 11:50:00</td>\n",
              "      <td>7.95</td>\n",
              "      <td>16714.0</td>\n",
              "      <td>United Kingdom</td>\n",
              "    </tr>\n",
              "    <tr>\n",
              "      <th>1134</th>\n",
              "      <td>C489551</td>\n",
              "      <td>85048</td>\n",
              "      <td>15CM CHRISTMAS GLASS BALL 20 LIGHTS</td>\n",
              "      <td>-1</td>\n",
              "      <td>2009-12-01 12:35:00</td>\n",
              "      <td>6.95</td>\n",
              "      <td>17641.0</td>\n",
              "      <td>United Kingdom</td>\n",
              "    </tr>\n",
              "    <tr>\n",
              "      <th>1256</th>\n",
              "      <td>489559</td>\n",
              "      <td>85048</td>\n",
              "      <td>15CM CHRISTMAS GLASS BALL 20 LIGHTS</td>\n",
              "      <td>12</td>\n",
              "      <td>2009-12-01 12:55:00</td>\n",
              "      <td>6.95</td>\n",
              "      <td>17056.0</td>\n",
              "      <td>United Kingdom</td>\n",
              "    </tr>\n",
              "    <tr>\n",
              "      <th>...</th>\n",
              "      <td>...</td>\n",
              "      <td>...</td>\n",
              "      <td>...</td>\n",
              "      <td>...</td>\n",
              "      <td>...</td>\n",
              "      <td>...</td>\n",
              "      <td>...</td>\n",
              "      <td>...</td>\n",
              "    </tr>\n",
              "    <tr>\n",
              "      <th>523546</th>\n",
              "      <td>538068</td>\n",
              "      <td>85048</td>\n",
              "      <td>15CM CHRISTMAS GLASS BALL 20 LIGHTS</td>\n",
              "      <td>2</td>\n",
              "      <td>2010-12-09 14:05:00</td>\n",
              "      <td>7.95</td>\n",
              "      <td>17978.0</td>\n",
              "      <td>United Kingdom</td>\n",
              "    </tr>\n",
              "    <tr>\n",
              "      <th>524636</th>\n",
              "      <td>C538109</td>\n",
              "      <td>85048</td>\n",
              "      <td>15CM CHRISTMAS GLASS BALL 20 LIGHTS</td>\n",
              "      <td>-1</td>\n",
              "      <td>2010-12-09 15:23:00</td>\n",
              "      <td>7.95</td>\n",
              "      <td>16042.0</td>\n",
              "      <td>United Kingdom</td>\n",
              "    </tr>\n",
              "    <tr>\n",
              "      <th>524668</th>\n",
              "      <td>538116</td>\n",
              "      <td>85048</td>\n",
              "      <td>15CM CHRISTMAS GLASS BALL 20 LIGHTS</td>\n",
              "      <td>2</td>\n",
              "      <td>2010-12-09 15:32:00</td>\n",
              "      <td>7.95</td>\n",
              "      <td>13327.0</td>\n",
              "      <td>United Kingdom</td>\n",
              "    </tr>\n",
              "    <tr>\n",
              "      <th>524884</th>\n",
              "      <td>538148</td>\n",
              "      <td>85048</td>\n",
              "      <td>15CM CHRISTMAS GLASS BALL 20 LIGHTS</td>\n",
              "      <td>1</td>\n",
              "      <td>2010-12-09 16:26:00</td>\n",
              "      <td>16.98</td>\n",
              "      <td>NaN</td>\n",
              "      <td>United Kingdom</td>\n",
              "    </tr>\n",
              "    <tr>\n",
              "      <th>524995</th>\n",
              "      <td>538149</td>\n",
              "      <td>85048</td>\n",
              "      <td>15CM CHRISTMAS GLASS BALL 20 LIGHTS</td>\n",
              "      <td>1</td>\n",
              "      <td>2010-12-09 16:27:00</td>\n",
              "      <td>16.98</td>\n",
              "      <td>NaN</td>\n",
              "      <td>United Kingdom</td>\n",
              "    </tr>\n",
              "  </tbody>\n",
              "</table>\n",
              "<p>319 rows × 8 columns</p>\n",
              "</div>\n",
              "      <button class=\"colab-df-convert\" onclick=\"convertToInteractive('df-df27afba-5f46-4ed9-b102-d8b1c3d96b62')\"\n",
              "              title=\"Convert this dataframe to an interactive table.\"\n",
              "              style=\"display:none;\">\n",
              "        \n",
              "  <svg xmlns=\"http://www.w3.org/2000/svg\" height=\"24px\"viewBox=\"0 0 24 24\"\n",
              "       width=\"24px\">\n",
              "    <path d=\"M0 0h24v24H0V0z\" fill=\"none\"/>\n",
              "    <path d=\"M18.56 5.44l.94 2.06.94-2.06 2.06-.94-2.06-.94-.94-2.06-.94 2.06-2.06.94zm-11 1L8.5 8.5l.94-2.06 2.06-.94-2.06-.94L8.5 2.5l-.94 2.06-2.06.94zm10 10l.94 2.06.94-2.06 2.06-.94-2.06-.94-.94-2.06-.94 2.06-2.06.94z\"/><path d=\"M17.41 7.96l-1.37-1.37c-.4-.4-.92-.59-1.43-.59-.52 0-1.04.2-1.43.59L10.3 9.45l-7.72 7.72c-.78.78-.78 2.05 0 2.83L4 21.41c.39.39.9.59 1.41.59.51 0 1.02-.2 1.41-.59l7.78-7.78 2.81-2.81c.8-.78.8-2.07 0-2.86zM5.41 20L4 18.59l7.72-7.72 1.47 1.35L5.41 20z\"/>\n",
              "  </svg>\n",
              "      </button>\n",
              "      \n",
              "  <style>\n",
              "    .colab-df-container {\n",
              "      display:flex;\n",
              "      flex-wrap:wrap;\n",
              "      gap: 12px;\n",
              "    }\n",
              "\n",
              "    .colab-df-convert {\n",
              "      background-color: #E8F0FE;\n",
              "      border: none;\n",
              "      border-radius: 50%;\n",
              "      cursor: pointer;\n",
              "      display: none;\n",
              "      fill: #1967D2;\n",
              "      height: 32px;\n",
              "      padding: 0 0 0 0;\n",
              "      width: 32px;\n",
              "    }\n",
              "\n",
              "    .colab-df-convert:hover {\n",
              "      background-color: #E2EBFA;\n",
              "      box-shadow: 0px 1px 2px rgba(60, 64, 67, 0.3), 0px 1px 3px 1px rgba(60, 64, 67, 0.15);\n",
              "      fill: #174EA6;\n",
              "    }\n",
              "\n",
              "    [theme=dark] .colab-df-convert {\n",
              "      background-color: #3B4455;\n",
              "      fill: #D2E3FC;\n",
              "    }\n",
              "\n",
              "    [theme=dark] .colab-df-convert:hover {\n",
              "      background-color: #434B5C;\n",
              "      box-shadow: 0px 1px 3px 1px rgba(0, 0, 0, 0.15);\n",
              "      filter: drop-shadow(0px 1px 2px rgba(0, 0, 0, 0.3));\n",
              "      fill: #FFFFFF;\n",
              "    }\n",
              "  </style>\n",
              "\n",
              "      <script>\n",
              "        const buttonEl =\n",
              "          document.querySelector('#df-df27afba-5f46-4ed9-b102-d8b1c3d96b62 button.colab-df-convert');\n",
              "        buttonEl.style.display =\n",
              "          google.colab.kernel.accessAllowed ? 'block' : 'none';\n",
              "\n",
              "        async function convertToInteractive(key) {\n",
              "          const element = document.querySelector('#df-df27afba-5f46-4ed9-b102-d8b1c3d96b62');\n",
              "          const dataTable =\n",
              "            await google.colab.kernel.invokeFunction('convertToInteractive',\n",
              "                                                     [key], {});\n",
              "          if (!dataTable) return;\n",
              "\n",
              "          const docLinkHtml = 'Like what you see? Visit the ' +\n",
              "            '<a target=\"_blank\" href=https://colab.research.google.com/notebooks/data_table.ipynb>data table notebook</a>'\n",
              "            + ' to learn more about interactive tables.';\n",
              "          element.innerHTML = '';\n",
              "          dataTable['output_type'] = 'display_data';\n",
              "          await google.colab.output.renderOutput(dataTable, element);\n",
              "          const docLink = document.createElement('div');\n",
              "          docLink.innerHTML = docLinkHtml;\n",
              "          element.appendChild(docLink);\n",
              "        }\n",
              "      </script>\n",
              "    </div>\n",
              "  </div>\n",
              "  "
            ]
          },
          "metadata": {},
          "execution_count": 136
        }
      ]
    },
    {
      "cell_type": "code",
      "source": [
        "df_retail[df_retail['Customer ID']==13085]"
      ],
      "metadata": {
        "colab": {
          "base_uri": "https://localhost:8080/",
          "height": 0
        },
        "id": "zNRRlCzM_c6i",
        "outputId": "16a13213-ce09-4f3d-c6f9-62129fa83ce4"
      },
      "execution_count": 137,
      "outputs": [
        {
          "output_type": "execute_result",
          "data": {
            "text/plain": [
              "        Invoice StockCode                          Description  Quantity  \\\n",
              "0        489434     85048  15CM CHRISTMAS GLASS BALL 20 LIGHTS        12   \n",
              "1        489434    79323P                   PINK CHERRY LIGHTS        12   \n",
              "2        489434    79323W                  WHITE CHERRY LIGHTS        12   \n",
              "3        489434     22041         RECORD FRAME 7\" SINGLE SIZE         48   \n",
              "4        489434     21232       STRAWBERRY CERAMIC TRINKET BOX        24   \n",
              "...         ...       ...                                  ...       ...   \n",
              "74409    496166    79323W                  WHITE CHERRY LIGHTS         8   \n",
              "74410    496166     21137             BLACK RECORD COVER FRAME         8   \n",
              "74411    496166     22041         RECORD FRAME 7\" SINGLE SIZE          6   \n",
              "74412    496166    40046A            RED DAISY PAPER LAMPSHADE        12   \n",
              "394957  C527339         M                               Manual        -1   \n",
              "\n",
              "               InvoiceDate   Price Customer ID         Country  \n",
              "0      2009-12-01 07:45:00    6.95     13085.0  United Kingdom  \n",
              "1      2009-12-01 07:45:00    6.75     13085.0  United Kingdom  \n",
              "2      2009-12-01 07:45:00    6.75     13085.0  United Kingdom  \n",
              "3      2009-12-01 07:45:00    2.10     13085.0  United Kingdom  \n",
              "4      2009-12-01 07:45:00    1.25     13085.0  United Kingdom  \n",
              "...                    ...     ...         ...             ...  \n",
              "74409  2010-01-29 11:42:00    6.75     13085.0  United Kingdom  \n",
              "74410  2010-01-29 11:42:00    3.75     13085.0  United Kingdom  \n",
              "74411  2010-01-29 11:42:00    2.55     13085.0  United Kingdom  \n",
              "74412  2010-01-29 11:42:00    1.25     13085.0  United Kingdom  \n",
              "394957 2010-10-15 15:35:00  830.12     13085.0  United Kingdom  \n",
              "\n",
              "[63 rows x 8 columns]"
            ],
            "text/html": [
              "\n",
              "  <div id=\"df-30add7b9-0df5-46ee-a0a6-fee863861051\">\n",
              "    <div class=\"colab-df-container\">\n",
              "      <div>\n",
              "<style scoped>\n",
              "    .dataframe tbody tr th:only-of-type {\n",
              "        vertical-align: middle;\n",
              "    }\n",
              "\n",
              "    .dataframe tbody tr th {\n",
              "        vertical-align: top;\n",
              "    }\n",
              "\n",
              "    .dataframe thead th {\n",
              "        text-align: right;\n",
              "    }\n",
              "</style>\n",
              "<table border=\"1\" class=\"dataframe\">\n",
              "  <thead>\n",
              "    <tr style=\"text-align: right;\">\n",
              "      <th></th>\n",
              "      <th>Invoice</th>\n",
              "      <th>StockCode</th>\n",
              "      <th>Description</th>\n",
              "      <th>Quantity</th>\n",
              "      <th>InvoiceDate</th>\n",
              "      <th>Price</th>\n",
              "      <th>Customer ID</th>\n",
              "      <th>Country</th>\n",
              "    </tr>\n",
              "  </thead>\n",
              "  <tbody>\n",
              "    <tr>\n",
              "      <th>0</th>\n",
              "      <td>489434</td>\n",
              "      <td>85048</td>\n",
              "      <td>15CM CHRISTMAS GLASS BALL 20 LIGHTS</td>\n",
              "      <td>12</td>\n",
              "      <td>2009-12-01 07:45:00</td>\n",
              "      <td>6.95</td>\n",
              "      <td>13085.0</td>\n",
              "      <td>United Kingdom</td>\n",
              "    </tr>\n",
              "    <tr>\n",
              "      <th>1</th>\n",
              "      <td>489434</td>\n",
              "      <td>79323P</td>\n",
              "      <td>PINK CHERRY LIGHTS</td>\n",
              "      <td>12</td>\n",
              "      <td>2009-12-01 07:45:00</td>\n",
              "      <td>6.75</td>\n",
              "      <td>13085.0</td>\n",
              "      <td>United Kingdom</td>\n",
              "    </tr>\n",
              "    <tr>\n",
              "      <th>2</th>\n",
              "      <td>489434</td>\n",
              "      <td>79323W</td>\n",
              "      <td>WHITE CHERRY LIGHTS</td>\n",
              "      <td>12</td>\n",
              "      <td>2009-12-01 07:45:00</td>\n",
              "      <td>6.75</td>\n",
              "      <td>13085.0</td>\n",
              "      <td>United Kingdom</td>\n",
              "    </tr>\n",
              "    <tr>\n",
              "      <th>3</th>\n",
              "      <td>489434</td>\n",
              "      <td>22041</td>\n",
              "      <td>RECORD FRAME 7\" SINGLE SIZE</td>\n",
              "      <td>48</td>\n",
              "      <td>2009-12-01 07:45:00</td>\n",
              "      <td>2.10</td>\n",
              "      <td>13085.0</td>\n",
              "      <td>United Kingdom</td>\n",
              "    </tr>\n",
              "    <tr>\n",
              "      <th>4</th>\n",
              "      <td>489434</td>\n",
              "      <td>21232</td>\n",
              "      <td>STRAWBERRY CERAMIC TRINKET BOX</td>\n",
              "      <td>24</td>\n",
              "      <td>2009-12-01 07:45:00</td>\n",
              "      <td>1.25</td>\n",
              "      <td>13085.0</td>\n",
              "      <td>United Kingdom</td>\n",
              "    </tr>\n",
              "    <tr>\n",
              "      <th>...</th>\n",
              "      <td>...</td>\n",
              "      <td>...</td>\n",
              "      <td>...</td>\n",
              "      <td>...</td>\n",
              "      <td>...</td>\n",
              "      <td>...</td>\n",
              "      <td>...</td>\n",
              "      <td>...</td>\n",
              "    </tr>\n",
              "    <tr>\n",
              "      <th>74409</th>\n",
              "      <td>496166</td>\n",
              "      <td>79323W</td>\n",
              "      <td>WHITE CHERRY LIGHTS</td>\n",
              "      <td>8</td>\n",
              "      <td>2010-01-29 11:42:00</td>\n",
              "      <td>6.75</td>\n",
              "      <td>13085.0</td>\n",
              "      <td>United Kingdom</td>\n",
              "    </tr>\n",
              "    <tr>\n",
              "      <th>74410</th>\n",
              "      <td>496166</td>\n",
              "      <td>21137</td>\n",
              "      <td>BLACK RECORD COVER FRAME</td>\n",
              "      <td>8</td>\n",
              "      <td>2010-01-29 11:42:00</td>\n",
              "      <td>3.75</td>\n",
              "      <td>13085.0</td>\n",
              "      <td>United Kingdom</td>\n",
              "    </tr>\n",
              "    <tr>\n",
              "      <th>74411</th>\n",
              "      <td>496166</td>\n",
              "      <td>22041</td>\n",
              "      <td>RECORD FRAME 7\" SINGLE SIZE</td>\n",
              "      <td>6</td>\n",
              "      <td>2010-01-29 11:42:00</td>\n",
              "      <td>2.55</td>\n",
              "      <td>13085.0</td>\n",
              "      <td>United Kingdom</td>\n",
              "    </tr>\n",
              "    <tr>\n",
              "      <th>74412</th>\n",
              "      <td>496166</td>\n",
              "      <td>40046A</td>\n",
              "      <td>RED DAISY PAPER LAMPSHADE</td>\n",
              "      <td>12</td>\n",
              "      <td>2010-01-29 11:42:00</td>\n",
              "      <td>1.25</td>\n",
              "      <td>13085.0</td>\n",
              "      <td>United Kingdom</td>\n",
              "    </tr>\n",
              "    <tr>\n",
              "      <th>394957</th>\n",
              "      <td>C527339</td>\n",
              "      <td>M</td>\n",
              "      <td>Manual</td>\n",
              "      <td>-1</td>\n",
              "      <td>2010-10-15 15:35:00</td>\n",
              "      <td>830.12</td>\n",
              "      <td>13085.0</td>\n",
              "      <td>United Kingdom</td>\n",
              "    </tr>\n",
              "  </tbody>\n",
              "</table>\n",
              "<p>63 rows × 8 columns</p>\n",
              "</div>\n",
              "      <button class=\"colab-df-convert\" onclick=\"convertToInteractive('df-30add7b9-0df5-46ee-a0a6-fee863861051')\"\n",
              "              title=\"Convert this dataframe to an interactive table.\"\n",
              "              style=\"display:none;\">\n",
              "        \n",
              "  <svg xmlns=\"http://www.w3.org/2000/svg\" height=\"24px\"viewBox=\"0 0 24 24\"\n",
              "       width=\"24px\">\n",
              "    <path d=\"M0 0h24v24H0V0z\" fill=\"none\"/>\n",
              "    <path d=\"M18.56 5.44l.94 2.06.94-2.06 2.06-.94-2.06-.94-.94-2.06-.94 2.06-2.06.94zm-11 1L8.5 8.5l.94-2.06 2.06-.94-2.06-.94L8.5 2.5l-.94 2.06-2.06.94zm10 10l.94 2.06.94-2.06 2.06-.94-2.06-.94-.94-2.06-.94 2.06-2.06.94z\"/><path d=\"M17.41 7.96l-1.37-1.37c-.4-.4-.92-.59-1.43-.59-.52 0-1.04.2-1.43.59L10.3 9.45l-7.72 7.72c-.78.78-.78 2.05 0 2.83L4 21.41c.39.39.9.59 1.41.59.51 0 1.02-.2 1.41-.59l7.78-7.78 2.81-2.81c.8-.78.8-2.07 0-2.86zM5.41 20L4 18.59l7.72-7.72 1.47 1.35L5.41 20z\"/>\n",
              "  </svg>\n",
              "      </button>\n",
              "      \n",
              "  <style>\n",
              "    .colab-df-container {\n",
              "      display:flex;\n",
              "      flex-wrap:wrap;\n",
              "      gap: 12px;\n",
              "    }\n",
              "\n",
              "    .colab-df-convert {\n",
              "      background-color: #E8F0FE;\n",
              "      border: none;\n",
              "      border-radius: 50%;\n",
              "      cursor: pointer;\n",
              "      display: none;\n",
              "      fill: #1967D2;\n",
              "      height: 32px;\n",
              "      padding: 0 0 0 0;\n",
              "      width: 32px;\n",
              "    }\n",
              "\n",
              "    .colab-df-convert:hover {\n",
              "      background-color: #E2EBFA;\n",
              "      box-shadow: 0px 1px 2px rgba(60, 64, 67, 0.3), 0px 1px 3px 1px rgba(60, 64, 67, 0.15);\n",
              "      fill: #174EA6;\n",
              "    }\n",
              "\n",
              "    [theme=dark] .colab-df-convert {\n",
              "      background-color: #3B4455;\n",
              "      fill: #D2E3FC;\n",
              "    }\n",
              "\n",
              "    [theme=dark] .colab-df-convert:hover {\n",
              "      background-color: #434B5C;\n",
              "      box-shadow: 0px 1px 3px 1px rgba(0, 0, 0, 0.15);\n",
              "      filter: drop-shadow(0px 1px 2px rgba(0, 0, 0, 0.3));\n",
              "      fill: #FFFFFF;\n",
              "    }\n",
              "  </style>\n",
              "\n",
              "      <script>\n",
              "        const buttonEl =\n",
              "          document.querySelector('#df-30add7b9-0df5-46ee-a0a6-fee863861051 button.colab-df-convert');\n",
              "        buttonEl.style.display =\n",
              "          google.colab.kernel.accessAllowed ? 'block' : 'none';\n",
              "\n",
              "        async function convertToInteractive(key) {\n",
              "          const element = document.querySelector('#df-30add7b9-0df5-46ee-a0a6-fee863861051');\n",
              "          const dataTable =\n",
              "            await google.colab.kernel.invokeFunction('convertToInteractive',\n",
              "                                                     [key], {});\n",
              "          if (!dataTable) return;\n",
              "\n",
              "          const docLinkHtml = 'Like what you see? Visit the ' +\n",
              "            '<a target=\"_blank\" href=https://colab.research.google.com/notebooks/data_table.ipynb>data table notebook</a>'\n",
              "            + ' to learn more about interactive tables.';\n",
              "          element.innerHTML = '';\n",
              "          dataTable['output_type'] = 'display_data';\n",
              "          await google.colab.output.renderOutput(dataTable, element);\n",
              "          const docLink = document.createElement('div');\n",
              "          docLink.innerHTML = docLinkHtml;\n",
              "          element.appendChild(docLink);\n",
              "        }\n",
              "      </script>\n",
              "    </div>\n",
              "  </div>\n",
              "  "
            ]
          },
          "metadata": {},
          "execution_count": 137
        }
      ]
    },
    {
      "cell_type": "code",
      "source": [
        "df_retail.info()"
      ],
      "metadata": {
        "colab": {
          "base_uri": "https://localhost:8080/"
        },
        "id": "vE9JYtui1D0E",
        "outputId": "4fb10282-e03c-44a3-dc0f-0413c11f0370"
      },
      "execution_count": 138,
      "outputs": [
        {
          "output_type": "stream",
          "name": "stdout",
          "text": [
            "<class 'pandas.core.frame.DataFrame'>\n",
            "RangeIndex: 525461 entries, 0 to 525460\n",
            "Data columns (total 8 columns):\n",
            " #   Column       Non-Null Count   Dtype         \n",
            "---  ------       --------------   -----         \n",
            " 0   Invoice      525461 non-null  category      \n",
            " 1   StockCode    525461 non-null  category      \n",
            " 2   Description  525461 non-null  object        \n",
            " 3   Quantity     525461 non-null  int64         \n",
            " 4   InvoiceDate  525461 non-null  datetime64[ns]\n",
            " 5   Price        525461 non-null  float64       \n",
            " 6   Customer ID  417534 non-null  category      \n",
            " 7   Country      525461 non-null  object        \n",
            "dtypes: category(3), datetime64[ns](1), float64(1), int64(1), object(2)\n",
            "memory usage: 24.6+ MB\n"
          ]
        }
      ]
    },
    {
      "cell_type": "code",
      "source": [
        "df_retail[\"Invoice\"].cat.categories"
      ],
      "metadata": {
        "colab": {
          "base_uri": "https://localhost:8080/"
        },
        "id": "4XI62Wat_rZH",
        "outputId": "87640e5c-af4c-46da-a8b7-21acf57fda73"
      },
      "execution_count": 139,
      "outputs": [
        {
          "output_type": "execute_result",
          "data": {
            "text/plain": [
              "Index([   489434,    489435,    489436,    489437,    489438,    489439,\n",
              "          489440,    489441,    489442,    489443,\n",
              "       ...\n",
              "       'C538112', 'C538114', 'C538115', 'C538118', 'C538119', 'C538121',\n",
              "       'C538122', 'C538123', 'C538124', 'C538164'],\n",
              "      dtype='object', length=28816)"
            ]
          },
          "metadata": {},
          "execution_count": 139
        }
      ]
    },
    {
      "cell_type": "code",
      "source": [
        "df_retail[\"Customer ID\"].cat.categories"
      ],
      "metadata": {
        "colab": {
          "base_uri": "https://localhost:8080/"
        },
        "id": "wUOCQ0BS9Ql-",
        "outputId": "4839ebbe-1082-4ef0-b99c-c3fa022bb163"
      },
      "execution_count": 140,
      "outputs": [
        {
          "output_type": "execute_result",
          "data": {
            "text/plain": [
              "Float64Index([12346.0, 12347.0, 12348.0, 12349.0, 12351.0, 12352.0, 12353.0,\n",
              "              12355.0, 12356.0, 12357.0,\n",
              "              ...\n",
              "              18277.0, 18278.0, 18279.0, 18280.0, 18281.0, 18283.0, 18284.0,\n",
              "              18285.0, 18286.0, 18287.0],\n",
              "             dtype='float64', length=4383)"
            ]
          },
          "metadata": {},
          "execution_count": 140
        }
      ]
    },
    {
      "cell_type": "markdown",
      "source": [
        "Se tienen 525461 filas de datos con las siguientes 8 columnas:\n",
        "\n",
        "- **Invoice:** Corresponde al número de factura. No posee datos nulos. El tipo de datos es *categórico*.\n",
        "\n",
        "- **StockCode:** Corresponde al código del producto. No posee datos nulos. El tipo de datos es *categórico*.\n",
        "\n",
        "- **Description:** Corresponde a la descripción del producto. No posee datos nulos. El tipo de datos es *string*.\n",
        "\n",
        "- **Quantity:** Corresponde a la cantidad del producto comprado por el cliente. No posee datos nulos, pero si valores negativos (no debería ser posible). El tipo de datos es *entero*.\n",
        "\n",
        "- **InvoiceDate:** Corresponde a la fecha y hora de la compra. No posee datos nulos. El tipo de datos es *datetime*.\n",
        "\n",
        "- **Price:** Corresponde al precio por unidad del producto en esa fecha. No posee datos nulos. El tipo de datos es *float*.\n",
        "\n",
        "- **Customer ID:** Corresponde al ID asociado a ese comprador. Posee 107.927 datos nulos. El tipo de datos es *float*.\n",
        "\n",
        "- **Country:** Corresponde al país del comprador. No posee datos nulos. El tipo de datos es *string*."
      ],
      "metadata": {
        "id": "n4gqE-OLuUx0"
      }
    },
    {
      "cell_type": "markdown",
      "source": [
        "## 1.2 Analisís Explotatorio de los Datos [0.5 puntos] \n",
        "\n",
        "En base a la primera visualización del dataset, *Don Mora* le solicita que realicen un análisis exploratorio de los datos, para esto les deberán realizar un análisis univariado y multivariado. De la revisión, ustedes deben explicar potenciales anomalías visualizadas y señalar si existe la necesidad de realizar una limpieza de datos.\n",
        "\n",
        "Explique a que nos referimos con análisis univariable, multivariable y de datos faltantes. ¿Qué beneficios nos otorga estudiar estos datos?. Sea conciso con su respuesta y no escriba mas de 5 líneas para su respuesta.\n",
        "\n",
        "**Respuesta a la Pregunta:**"
      ],
      "metadata": {
        "id": "Rcjs-dd1V-1u",
        "cell_id": "00016-95d543d8-e605-4635-98c6-8a4a1293df5a",
        "deepnote_cell_type": "markdown",
        "deepnote_cell_height": 332.23333740234375
      }
    },
    {
      "cell_type": "markdown",
      "source": [
        "> El análisis multivariable estudia como se comporta una variable respecto a otras. El análisis univariable estudia una sola variable, mediante resumenes estadísticos o análisis de su distribución con los datos. El análsis de datos faltantes permite sintetizar la información de estos, para luego poder filtralos o inputarlos. Estos análisis permiten estudiar el comportamiento de las variables para determinar cuales utilizar, mostrando outliers o datos faltantes, que conduzcan a el correcto manejo de estos."
      ],
      "metadata": {
        "tags": [],
        "cell_id": "00017-6d2ae959-397e-46d6-af72-1d1023615611",
        "deepnote_cell_type": "markdown",
        "deepnote_cell_height": 65.43333435058594,
        "id": "IPU9Wsm1E-Mg"
      }
    },
    {
      "cell_type": "markdown",
      "source": [
        "### 1.2.1 Análisis Univariado [2 Puntos]\n",
        "\n",
        "A continuación, se le presentan dos funciones para analizar los datos que componen un dataframe. La primera de estas es la función ``profile_serie()`` la cual recibe una serie y le entrega un análisis detallado de los datos que conforman dicha serie. \n",
        "\n",
        "Ejecute la funcion ``profile_serie()`` sobre cada serie para realizar un análisis univariado de estas. A continuación, comente acerca de el comportamiento de cada variable según las estadísticas descriptivas y los gráficos generados."
      ],
      "metadata": {
        "tags": [],
        "cell_id": "00018-0d2e4dfa-8dfb-4959-b694-e5ac27dd372a",
        "deepnote_cell_type": "markdown",
        "deepnote_cell_height": 225.43333435058594,
        "id": "KrhxwiAsE-Mg"
      }
    },
    {
      "cell_type": "code",
      "metadata": {
        "tags": [],
        "deepnote_to_be_reexecuted": false,
        "source_hash": "60609391",
        "execution_start": 1634325950632,
        "execution_millis": 1,
        "cell_id": "00019-075c9c6a-b956-4329-a280-abd00da1a752",
        "deepnote_cell_type": "code",
        "deepnote_cell_height": 1682.0333251953125,
        "id": "L_7PVvMoE-Mg"
      },
      "source": [
        "from pandas.api.types import is_numeric_dtype\n",
        "from pandas.core.dtypes.common import is_datetime_or_timedelta_dtype\n",
        "\n",
        "\n",
        "def profile_serie(serie_in, n_samples=1000, random_state=42):\n",
        "    serie = serie_in.copy()\n",
        "\n",
        "    profile = pd.Series(dtype='object')\n",
        "    profile[\"Type\"] = serie.dtype\n",
        "    profile = pd.concat([profile, serie.describe(datetime_is_numeric=True)])\n",
        "\n",
        "    # profile = pd.Series([])\n",
        "\n",
        "    if is_numeric_dtype(serie):\n",
        "        profile[\"Negative\"] = (serie < 0).sum()\n",
        "        profile[\"Negative (%)\"] = (\n",
        "            str(round((serie < 0).sum() / len(serie) * 100, 2)) + \" %\"\n",
        "        )\n",
        "        profile[\"Zeros\"] = (serie == 0).sum()\n",
        "        profile[\"Zeros (%)\"] = (\n",
        "            str(round((serie == 0).sum() / len(serie) * 100, 2)) + \" %\"\n",
        "        )\n",
        "        profile[\"Kurt\"] = serie.kurt()\n",
        "        profile[\"Skew\"] = serie.skew()\n",
        "\n",
        "    profile[\" \"] = \" \"  # espacio\n",
        "\n",
        "    profile[\"Missing cells\"] = serie.isnull().sum()\n",
        "    profile[\"Missing cells (%)\"] = (\n",
        "        str(round(serie.isnull().sum() / len(serie) * 100, 2)) + \" %\"\n",
        "    )\n",
        "    profile[\"Duplicate rows\"] = serie.duplicated(False).sum()\n",
        "    profile[\"Duplicate rows (%)\"] = (\n",
        "        str(round(serie.duplicated(False).sum() / len(serie) * 100, 2)) + \" %\"\n",
        "    )\n",
        "    profile[\"Total size in memory\"] = str(serie.memory_usage(index=True)) + \" bytes\"\n",
        "\n",
        "    # profile = pd.concat([profile, description])\n",
        "\n",
        "    profile = profile.rename(\n",
        "        index={\n",
        "            \"count\": \"Number of observations\",\n",
        "            \"mean\": \"Mean\",\n",
        "            \"std\": \"Std\",\n",
        "            \"min\": \"Min\",\n",
        "            \"max\": \"Max\",\n",
        "            \"unique\": \"Unique\",\n",
        "            \"top\": \"Top\",\n",
        "            \"freq\": \"Freq\",\n",
        "        }\n",
        "    )\n",
        "    no_outliers_fig = None\n",
        "\n",
        "    if is_numeric_dtype(serie):\n",
        "\n",
        "        sampled_serie = serie.sample(n_samples, random_state=random_state)\n",
        "        fig = px.histogram(\n",
        "            sampled_serie, marginal=\"box\", title=f\"{serie.name} - With Outliers\"\n",
        "        )\n",
        "\n",
        "        no_outliers = sampled_serie.loc[(np.abs(stats.zscore(sampled_serie)) < 3)]\n",
        "        # zscore = https://es.wikipedia.org/wiki/Unidad_tipificada\n",
        "        \n",
        "        no_outliers_fig = px.histogram(\n",
        "            no_outliers, marginal=\"box\", title=f\"{serie.name} - Without Outliers\"\n",
        "        )\n",
        "\n",
        "    elif is_datetime_or_timedelta_dtype(serie):\n",
        "        sampled_serie = serie.sample(n_samples, random_state=random_state)\n",
        "        fig = px.histogram(sampled_serie, marginal=\"box\", title=f\"{serie.name}\")\n",
        "    \n",
        "    else:\n",
        "        count = (\n",
        "            serie.value_counts()[0:100]\n",
        "            .reset_index()\n",
        "            .rename(columns={\"index\": serie.name, serie.name: \"Count\"})\n",
        "        )\n",
        "        fig = px.bar(\n",
        "            x=count[serie.name].astype(str),\n",
        "            y=count[\"Count\"],\n",
        "            title=f\"100 Most common categories of {serie.name}\",\n",
        "        )\n",
        "    display(Markdown(f'## {serie.name} Profile'))\n",
        "    display(profile)\n",
        "    fig.show()\n",
        "\n",
        "    if no_outliers_fig:\n",
        "        no_outliers_fig.show()\n",
        "\n",
        "    # return fig, profile"
      ],
      "execution_count": 141,
      "outputs": []
    },
    {
      "cell_type": "markdown",
      "source": [
        "#### Invoice profile"
      ],
      "metadata": {
        "id": "bJ1D6CiP484X"
      }
    },
    {
      "cell_type": "code",
      "source": [
        "profile_serie(df_retail['Invoice']) "
      ],
      "metadata": {
        "colab": {
          "base_uri": "https://localhost:8080/",
          "height": 0
        },
        "id": "NQMPlWI05AYA",
        "outputId": "31b1b0c8-bfe9-44c5-ee3f-9af521c1cf1f"
      },
      "execution_count": 142,
      "outputs": [
        {
          "output_type": "display_data",
          "data": {
            "text/plain": [
              "<IPython.core.display.Markdown object>"
            ],
            "text/markdown": "## Invoice Profile"
          },
          "metadata": {}
        },
        {
          "output_type": "display_data",
          "data": {
            "text/plain": [
              "Type                           category\n",
              "Number of observations           525461\n",
              "Unique                            28816\n",
              "Top                              537434\n",
              "Freq                                675\n",
              "                                       \n",
              "Missing cells                         0\n",
              "Missing cells (%)                 0.0 %\n",
              "Duplicate rows                   517456\n",
              "Duplicate rows (%)              98.48 %\n",
              "Total size in memory      2338386 bytes\n",
              "dtype: object"
            ]
          },
          "metadata": {}
        },
        {
          "output_type": "display_data",
          "data": {
            "text/html": [
              "<html>\n",
              "<head><meta charset=\"utf-8\" /></head>\n",
              "<body>\n",
              "    <div>            <script src=\"https://cdnjs.cloudflare.com/ajax/libs/mathjax/2.7.5/MathJax.js?config=TeX-AMS-MML_SVG\"></script><script type=\"text/javascript\">if (window.MathJax && window.MathJax.Hub && && window.MathJax.Hub.Config) {window.MathJax.Hub.Config({SVG: {font: \"STIX-Web\"}});}</script>                <script type=\"text/javascript\">window.PlotlyConfig = {MathJaxConfig: 'local'};</script>\n",
              "        <script src=\"https://cdn.plot.ly/plotly-2.12.1.min.js\"></script>                <div id=\"b7e766f5-c9b4-47f2-b285-7feb0147d8e2\" class=\"plotly-graph-div\" style=\"height:525px; width:100%;\"></div>            <script type=\"text/javascript\">                                    window.PLOTLYENV=window.PLOTLYENV || {};                                    if (document.getElementById(\"b7e766f5-c9b4-47f2-b285-7feb0147d8e2\")) {                    Plotly.newPlot(                        \"b7e766f5-c9b4-47f2-b285-7feb0147d8e2\",                        [{\"alignmentgroup\":\"True\",\"hovertemplate\":\"x=%{x}<br>y=%{y}<extra></extra>\",\"legendgroup\":\"\",\"marker\":{\"color\":\"#636efa\",\"pattern\":{\"shape\":\"\"}},\"name\":\"\",\"offsetgroup\":\"\",\"orientation\":\"v\",\"showlegend\":false,\"textposition\":\"auto\",\"x\":[\"537434\",\"538071\",\"537638\",\"537237\",\"536876\",\"536592\",\"537823\",\"536031\",\"490074\",\"491966\",\"537240\",\"490149\",\"491969\",\"490741\",\"537666\",\"536544\",\"489857\",\"513574\",\"490745\",\"489597\",\"535835\",\"491155\",\"492414\",\"532642\",\"492782\",\"491970\",\"491043\",\"533338\",\"492425\",\"491041\",\"534859\",\"535322\",\"533348\",\"503185\",\"534709\",\"491971\",\"530850\",\"535407\",\"531843\",\"490963\",\"532139\",\"534289\",\"534459\",\"533737\",\"534319\",\"489856\",\"534389\",\"498133\",\"492303\",\"532826\",\"532419\",\"532063\",\"494918\",\"531036\",\"532953\",\"533065\",\"533740\",\"531489\",\"494782\",\"495070\",\"492783\",\"531387\",\"513099\",\"529727\",\"494814\",\"492226\",\"495239\",\"494378\",\"530060\",\"494386\",\"493073\",\"530140\",\"494016\",\"493079\",\"510983\",\"500462\",\"527520\",\"504916\",\"510772\",\"530422\",\"510519\",\"494495\",\"502746\",\"493260\",\"503823\",\"500918\",\"530332\",\"499765\",\"503426\",\"494381\",\"500356\",\"494685\",\"494147\",\"510637\",\"501080\",\"494379\",\"501161\",\"525753\",\"504933\",\"521202\"],\"xaxis\":\"x\",\"y\":[675,652,601,597,593,592,591,582,580,579,568,559,548,546,536,527,516,515,507,502,501,500,498,487,486,486,482,480,480,477,472,472,465,464,460,449,448,443,442,442,442,440,430,430,429,426,422,416,413,407,405,405,384,379,376,372,371,369,368,363,358,355,348,348,343,342,340,337,335,332,326,324,320,316,315,307,301,299,296,295,285,284,280,279,276,275,274,272,272,272,270,268,267,267,266,264,263,263,258,256],\"yaxis\":\"y\",\"type\":\"bar\"}],                        {\"template\":{\"data\":{\"histogram2dcontour\":[{\"type\":\"histogram2dcontour\",\"colorbar\":{\"outlinewidth\":0,\"ticks\":\"\"},\"colorscale\":[[0.0,\"#0d0887\"],[0.1111111111111111,\"#46039f\"],[0.2222222222222222,\"#7201a8\"],[0.3333333333333333,\"#9c179e\"],[0.4444444444444444,\"#bd3786\"],[0.5555555555555556,\"#d8576b\"],[0.6666666666666666,\"#ed7953\"],[0.7777777777777778,\"#fb9f3a\"],[0.8888888888888888,\"#fdca26\"],[1.0,\"#f0f921\"]]}],\"choropleth\":[{\"type\":\"choropleth\",\"colorbar\":{\"outlinewidth\":0,\"ticks\":\"\"}}],\"histogram2d\":[{\"type\":\"histogram2d\",\"colorbar\":{\"outlinewidth\":0,\"ticks\":\"\"},\"colorscale\":[[0.0,\"#0d0887\"],[0.1111111111111111,\"#46039f\"],[0.2222222222222222,\"#7201a8\"],[0.3333333333333333,\"#9c179e\"],[0.4444444444444444,\"#bd3786\"],[0.5555555555555556,\"#d8576b\"],[0.6666666666666666,\"#ed7953\"],[0.7777777777777778,\"#fb9f3a\"],[0.8888888888888888,\"#fdca26\"],[1.0,\"#f0f921\"]]}],\"heatmap\":[{\"type\":\"heatmap\",\"colorbar\":{\"outlinewidth\":0,\"ticks\":\"\"},\"colorscale\":[[0.0,\"#0d0887\"],[0.1111111111111111,\"#46039f\"],[0.2222222222222222,\"#7201a8\"],[0.3333333333333333,\"#9c179e\"],[0.4444444444444444,\"#bd3786\"],[0.5555555555555556,\"#d8576b\"],[0.6666666666666666,\"#ed7953\"],[0.7777777777777778,\"#fb9f3a\"],[0.8888888888888888,\"#fdca26\"],[1.0,\"#f0f921\"]]}],\"heatmapgl\":[{\"type\":\"heatmapgl\",\"colorbar\":{\"outlinewidth\":0,\"ticks\":\"\"},\"colorscale\":[[0.0,\"#0d0887\"],[0.1111111111111111,\"#46039f\"],[0.2222222222222222,\"#7201a8\"],[0.3333333333333333,\"#9c179e\"],[0.4444444444444444,\"#bd3786\"],[0.5555555555555556,\"#d8576b\"],[0.6666666666666666,\"#ed7953\"],[0.7777777777777778,\"#fb9f3a\"],[0.8888888888888888,\"#fdca26\"],[1.0,\"#f0f921\"]]}],\"contourcarpet\":[{\"type\":\"contourcarpet\",\"colorbar\":{\"outlinewidth\":0,\"ticks\":\"\"}}],\"contour\":[{\"type\":\"contour\",\"colorbar\":{\"outlinewidth\":0,\"ticks\":\"\"},\"colorscale\":[[0.0,\"#0d0887\"],[0.1111111111111111,\"#46039f\"],[0.2222222222222222,\"#7201a8\"],[0.3333333333333333,\"#9c179e\"],[0.4444444444444444,\"#bd3786\"],[0.5555555555555556,\"#d8576b\"],[0.6666666666666666,\"#ed7953\"],[0.7777777777777778,\"#fb9f3a\"],[0.8888888888888888,\"#fdca26\"],[1.0,\"#f0f921\"]]}],\"surface\":[{\"type\":\"surface\",\"colorbar\":{\"outlinewidth\":0,\"ticks\":\"\"},\"colorscale\":[[0.0,\"#0d0887\"],[0.1111111111111111,\"#46039f\"],[0.2222222222222222,\"#7201a8\"],[0.3333333333333333,\"#9c179e\"],[0.4444444444444444,\"#bd3786\"],[0.5555555555555556,\"#d8576b\"],[0.6666666666666666,\"#ed7953\"],[0.7777777777777778,\"#fb9f3a\"],[0.8888888888888888,\"#fdca26\"],[1.0,\"#f0f921\"]]}],\"mesh3d\":[{\"type\":\"mesh3d\",\"colorbar\":{\"outlinewidth\":0,\"ticks\":\"\"}}],\"scatter\":[{\"fillpattern\":{\"fillmode\":\"overlay\",\"size\":10,\"solidity\":0.2},\"type\":\"scatter\"}],\"parcoords\":[{\"type\":\"parcoords\",\"line\":{\"colorbar\":{\"outlinewidth\":0,\"ticks\":\"\"}}}],\"scatterpolargl\":[{\"type\":\"scatterpolargl\",\"marker\":{\"colorbar\":{\"outlinewidth\":0,\"ticks\":\"\"}}}],\"bar\":[{\"error_x\":{\"color\":\"#2a3f5f\"},\"error_y\":{\"color\":\"#2a3f5f\"},\"marker\":{\"line\":{\"color\":\"#E5ECF6\",\"width\":0.5},\"pattern\":{\"fillmode\":\"overlay\",\"size\":10,\"solidity\":0.2}},\"type\":\"bar\"}],\"scattergeo\":[{\"type\":\"scattergeo\",\"marker\":{\"colorbar\":{\"outlinewidth\":0,\"ticks\":\"\"}}}],\"scatterpolar\":[{\"type\":\"scatterpolar\",\"marker\":{\"colorbar\":{\"outlinewidth\":0,\"ticks\":\"\"}}}],\"histogram\":[{\"marker\":{\"pattern\":{\"fillmode\":\"overlay\",\"size\":10,\"solidity\":0.2}},\"type\":\"histogram\"}],\"scattergl\":[{\"type\":\"scattergl\",\"marker\":{\"colorbar\":{\"outlinewidth\":0,\"ticks\":\"\"}}}],\"scatter3d\":[{\"type\":\"scatter3d\",\"line\":{\"colorbar\":{\"outlinewidth\":0,\"ticks\":\"\"}},\"marker\":{\"colorbar\":{\"outlinewidth\":0,\"ticks\":\"\"}}}],\"scattermapbox\":[{\"type\":\"scattermapbox\",\"marker\":{\"colorbar\":{\"outlinewidth\":0,\"ticks\":\"\"}}}],\"scatterternary\":[{\"type\":\"scatterternary\",\"marker\":{\"colorbar\":{\"outlinewidth\":0,\"ticks\":\"\"}}}],\"scattercarpet\":[{\"type\":\"scattercarpet\",\"marker\":{\"colorbar\":{\"outlinewidth\":0,\"ticks\":\"\"}}}],\"carpet\":[{\"aaxis\":{\"endlinecolor\":\"#2a3f5f\",\"gridcolor\":\"white\",\"linecolor\":\"white\",\"minorgridcolor\":\"white\",\"startlinecolor\":\"#2a3f5f\"},\"baxis\":{\"endlinecolor\":\"#2a3f5f\",\"gridcolor\":\"white\",\"linecolor\":\"white\",\"minorgridcolor\":\"white\",\"startlinecolor\":\"#2a3f5f\"},\"type\":\"carpet\"}],\"table\":[{\"cells\":{\"fill\":{\"color\":\"#EBF0F8\"},\"line\":{\"color\":\"white\"}},\"header\":{\"fill\":{\"color\":\"#C8D4E3\"},\"line\":{\"color\":\"white\"}},\"type\":\"table\"}],\"barpolar\":[{\"marker\":{\"line\":{\"color\":\"#E5ECF6\",\"width\":0.5},\"pattern\":{\"fillmode\":\"overlay\",\"size\":10,\"solidity\":0.2}},\"type\":\"barpolar\"}],\"pie\":[{\"automargin\":true,\"type\":\"pie\"}]},\"layout\":{\"autotypenumbers\":\"strict\",\"colorway\":[\"#636efa\",\"#EF553B\",\"#00cc96\",\"#ab63fa\",\"#FFA15A\",\"#19d3f3\",\"#FF6692\",\"#B6E880\",\"#FF97FF\",\"#FECB52\"],\"font\":{\"color\":\"#2a3f5f\"},\"hovermode\":\"closest\",\"hoverlabel\":{\"align\":\"left\"},\"paper_bgcolor\":\"white\",\"plot_bgcolor\":\"#E5ECF6\",\"polar\":{\"bgcolor\":\"#E5ECF6\",\"angularaxis\":{\"gridcolor\":\"white\",\"linecolor\":\"white\",\"ticks\":\"\"},\"radialaxis\":{\"gridcolor\":\"white\",\"linecolor\":\"white\",\"ticks\":\"\"}},\"ternary\":{\"bgcolor\":\"#E5ECF6\",\"aaxis\":{\"gridcolor\":\"white\",\"linecolor\":\"white\",\"ticks\":\"\"},\"baxis\":{\"gridcolor\":\"white\",\"linecolor\":\"white\",\"ticks\":\"\"},\"caxis\":{\"gridcolor\":\"white\",\"linecolor\":\"white\",\"ticks\":\"\"}},\"coloraxis\":{\"colorbar\":{\"outlinewidth\":0,\"ticks\":\"\"}},\"colorscale\":{\"sequential\":[[0.0,\"#0d0887\"],[0.1111111111111111,\"#46039f\"],[0.2222222222222222,\"#7201a8\"],[0.3333333333333333,\"#9c179e\"],[0.4444444444444444,\"#bd3786\"],[0.5555555555555556,\"#d8576b\"],[0.6666666666666666,\"#ed7953\"],[0.7777777777777778,\"#fb9f3a\"],[0.8888888888888888,\"#fdca26\"],[1.0,\"#f0f921\"]],\"sequentialminus\":[[0.0,\"#0d0887\"],[0.1111111111111111,\"#46039f\"],[0.2222222222222222,\"#7201a8\"],[0.3333333333333333,\"#9c179e\"],[0.4444444444444444,\"#bd3786\"],[0.5555555555555556,\"#d8576b\"],[0.6666666666666666,\"#ed7953\"],[0.7777777777777778,\"#fb9f3a\"],[0.8888888888888888,\"#fdca26\"],[1.0,\"#f0f921\"]],\"diverging\":[[0,\"#8e0152\"],[0.1,\"#c51b7d\"],[0.2,\"#de77ae\"],[0.3,\"#f1b6da\"],[0.4,\"#fde0ef\"],[0.5,\"#f7f7f7\"],[0.6,\"#e6f5d0\"],[0.7,\"#b8e186\"],[0.8,\"#7fbc41\"],[0.9,\"#4d9221\"],[1,\"#276419\"]]},\"xaxis\":{\"gridcolor\":\"white\",\"linecolor\":\"white\",\"ticks\":\"\",\"title\":{\"standoff\":15},\"zerolinecolor\":\"white\",\"automargin\":true,\"zerolinewidth\":2},\"yaxis\":{\"gridcolor\":\"white\",\"linecolor\":\"white\",\"ticks\":\"\",\"title\":{\"standoff\":15},\"zerolinecolor\":\"white\",\"automargin\":true,\"zerolinewidth\":2},\"scene\":{\"xaxis\":{\"backgroundcolor\":\"#E5ECF6\",\"gridcolor\":\"white\",\"linecolor\":\"white\",\"showbackground\":true,\"ticks\":\"\",\"zerolinecolor\":\"white\",\"gridwidth\":2},\"yaxis\":{\"backgroundcolor\":\"#E5ECF6\",\"gridcolor\":\"white\",\"linecolor\":\"white\",\"showbackground\":true,\"ticks\":\"\",\"zerolinecolor\":\"white\",\"gridwidth\":2},\"zaxis\":{\"backgroundcolor\":\"#E5ECF6\",\"gridcolor\":\"white\",\"linecolor\":\"white\",\"showbackground\":true,\"ticks\":\"\",\"zerolinecolor\":\"white\",\"gridwidth\":2}},\"shapedefaults\":{\"line\":{\"color\":\"#2a3f5f\"}},\"annotationdefaults\":{\"arrowcolor\":\"#2a3f5f\",\"arrowhead\":0,\"arrowwidth\":1},\"geo\":{\"bgcolor\":\"white\",\"landcolor\":\"#E5ECF6\",\"subunitcolor\":\"white\",\"showland\":true,\"showlakes\":true,\"lakecolor\":\"white\"},\"title\":{\"x\":0.05},\"mapbox\":{\"style\":\"light\"}}},\"xaxis\":{\"anchor\":\"y\",\"domain\":[0.0,1.0],\"title\":{\"text\":\"x\"}},\"yaxis\":{\"anchor\":\"x\",\"domain\":[0.0,1.0],\"title\":{\"text\":\"y\"}},\"legend\":{\"tracegroupgap\":0},\"title\":{\"text\":\"100 Most common categories of Invoice\"},\"barmode\":\"relative\"},                        {\"responsive\": true}                    ).then(function(){\n",
              "                            \n",
              "var gd = document.getElementById('b7e766f5-c9b4-47f2-b285-7feb0147d8e2');\n",
              "var x = new MutationObserver(function (mutations, observer) {{\n",
              "        var display = window.getComputedStyle(gd).display;\n",
              "        if (!display || display === 'none') {{\n",
              "            console.log([gd, 'removed!']);\n",
              "            Plotly.purge(gd);\n",
              "            observer.disconnect();\n",
              "        }}\n",
              "}});\n",
              "\n",
              "// Listen for the removal of the full notebook cells\n",
              "var notebookContainer = gd.closest('#notebook-container');\n",
              "if (notebookContainer) {{\n",
              "    x.observe(notebookContainer, {childList: true});\n",
              "}}\n",
              "\n",
              "// Listen for the clearing of the current output cell\n",
              "var outputEl = gd.closest('.output');\n",
              "if (outputEl) {{\n",
              "    x.observe(outputEl, {childList: true});\n",
              "}}\n",
              "\n",
              "                        })                };                            </script>        </div>\n",
              "</body>\n",
              "</html>"
            ]
          },
          "metadata": {}
        }
      ]
    },
    {
      "cell_type": "markdown",
      "source": [
        "Se grafican las 100 boletas con mayores productos distintos. Se tiene que la boleta número 537434 posee un total de 675 productos distintos. A su vez, exiten 28816 boletas distintas. Este comportamiento es esperable, ya que en retail la gente tiende a llevar más de un producto a la vez."
      ],
      "metadata": {
        "id": "AFZLAqrJ5Tio"
      }
    },
    {
      "cell_type": "markdown",
      "source": [
        "#### StockCode profile"
      ],
      "metadata": {
        "id": "GtSBmprP5_14"
      }
    },
    {
      "cell_type": "code",
      "source": [
        "profile_serie(df_retail['StockCode'])"
      ],
      "metadata": {
        "colab": {
          "base_uri": "https://localhost:8080/",
          "height": 0
        },
        "id": "M_B326WE6H2Y",
        "outputId": "69648e47-2508-42c9-c4bb-0c56e5675be5"
      },
      "execution_count": 143,
      "outputs": [
        {
          "output_type": "display_data",
          "data": {
            "text/plain": [
              "<IPython.core.display.Markdown object>"
            ],
            "text/markdown": "## StockCode Profile"
          },
          "metadata": {}
        },
        {
          "output_type": "display_data",
          "data": {
            "text/plain": [
              "Type                           category\n",
              "Number of observations           525461\n",
              "Unique                             4632\n",
              "Top                              85123A\n",
              "Freq                               3516\n",
              "                                       \n",
              "Missing cells                         0\n",
              "Missing cells (%)                 0.0 %\n",
              "Duplicate rows                   525026\n",
              "Duplicate rows (%)              99.92 %\n",
              "Total size in memory      1220242 bytes\n",
              "dtype: object"
            ]
          },
          "metadata": {}
        },
        {
          "output_type": "display_data",
          "data": {
            "text/html": [
              "<html>\n",
              "<head><meta charset=\"utf-8\" /></head>\n",
              "<body>\n",
              "    <div>            <script src=\"https://cdnjs.cloudflare.com/ajax/libs/mathjax/2.7.5/MathJax.js?config=TeX-AMS-MML_SVG\"></script><script type=\"text/javascript\">if (window.MathJax && window.MathJax.Hub && && window.MathJax.Hub.Config) {window.MathJax.Hub.Config({SVG: {font: \"STIX-Web\"}});}</script>                <script type=\"text/javascript\">window.PlotlyConfig = {MathJaxConfig: 'local'};</script>\n",
              "        <script src=\"https://cdn.plot.ly/plotly-2.12.1.min.js\"></script>                <div id=\"54335299-c8f9-4589-9082-1f75e2d50b3b\" class=\"plotly-graph-div\" style=\"height:525px; width:100%;\"></div>            <script type=\"text/javascript\">                                    window.PLOTLYENV=window.PLOTLYENV || {};                                    if (document.getElementById(\"54335299-c8f9-4589-9082-1f75e2d50b3b\")) {                    Plotly.newPlot(                        \"54335299-c8f9-4589-9082-1f75e2d50b3b\",                        [{\"alignmentgroup\":\"True\",\"hovertemplate\":\"x=%{x}<br>y=%{y}<extra></extra>\",\"legendgroup\":\"\",\"marker\":{\"color\":\"#636efa\",\"pattern\":{\"shape\":\"\"}},\"name\":\"\",\"offsetgroup\":\"\",\"orientation\":\"v\",\"showlegend\":false,\"textposition\":\"auto\",\"x\":[\"85123A\",\"22423\",\"85099B\",\"21212\",\"21232\",\"20725\",\"84879\",\"84991\",\"21754\",\"20914\",\"21034\",\"21931\",\"21080\",\"22139\",\"21977\",\"22383\",\"22138\",\"20727\",\"82494L\",\"22470\",\"21843\",\"21755\",\"21733\",\"21231\",\"22386\",\"22411\",\"22384\",\"48138\",\"22469\",\"20685\",\"85099F\",\"22197\",\"20724\",\"22382\",\"22114\",\"22111\",\"21790\",\"47566\",\"21181\",\"22086\",\"85099C\",\"20726\",\"20728\",\"82482\",\"84946\",\"22112\",\"84836\",\"22090\",\"84970S\",\"22149\",\"84992\",\"22355\",\"21175\",\"22356\",\"21213\",\"22077\",\"22457\",\"22379\",\"POST\",\"22178\",\"M\",\"21621\",\"22083\",\"21485\",\"21535\",\"20972\",\"85152\",\"84029E\",\"21527\",\"22189\",\"21929\",\"22585\",\"48194\",\"21928\",\"20719\",\"21791\",\"21429\",\"82486\",\"82580\",\"21166\",\"21731\",\"84978\",\"22147\",\"21975\",\"21210\",\"47591D\",\"DOT\",\"22910\",\"22326\",\"48187\",\"21559\",\"22551\",\"20713\",\"20723\",\"21524\",\"22865\",\"22556\",\"82600\",\"84755\",\"84997B\"],\"xaxis\":\"x\",\"y\":[3516,2221,2057,1933,1843,1620,1458,1400,1386,1276,1232,1220,1209,1203,1196,1192,1180,1179,1165,1154,1149,1142,1130,1098,1096,1095,1093,1089,1086,1079,1074,1073,1070,1059,1051,1048,1044,1041,1038,1007,992,989,988,987,958,958,947,940,931,924,922,920,904,881,873,872,872,869,865,862,850,849,847,846,842,840,835,827,823,816,796,796,794,789,783,778,774,757,756,756,754,751,750,745,740,738,736,714,713,713,706,702,701,701,701,699,698,694,690,689],\"yaxis\":\"y\",\"type\":\"bar\"}],                        {\"template\":{\"data\":{\"histogram2dcontour\":[{\"type\":\"histogram2dcontour\",\"colorbar\":{\"outlinewidth\":0,\"ticks\":\"\"},\"colorscale\":[[0.0,\"#0d0887\"],[0.1111111111111111,\"#46039f\"],[0.2222222222222222,\"#7201a8\"],[0.3333333333333333,\"#9c179e\"],[0.4444444444444444,\"#bd3786\"],[0.5555555555555556,\"#d8576b\"],[0.6666666666666666,\"#ed7953\"],[0.7777777777777778,\"#fb9f3a\"],[0.8888888888888888,\"#fdca26\"],[1.0,\"#f0f921\"]]}],\"choropleth\":[{\"type\":\"choropleth\",\"colorbar\":{\"outlinewidth\":0,\"ticks\":\"\"}}],\"histogram2d\":[{\"type\":\"histogram2d\",\"colorbar\":{\"outlinewidth\":0,\"ticks\":\"\"},\"colorscale\":[[0.0,\"#0d0887\"],[0.1111111111111111,\"#46039f\"],[0.2222222222222222,\"#7201a8\"],[0.3333333333333333,\"#9c179e\"],[0.4444444444444444,\"#bd3786\"],[0.5555555555555556,\"#d8576b\"],[0.6666666666666666,\"#ed7953\"],[0.7777777777777778,\"#fb9f3a\"],[0.8888888888888888,\"#fdca26\"],[1.0,\"#f0f921\"]]}],\"heatmap\":[{\"type\":\"heatmap\",\"colorbar\":{\"outlinewidth\":0,\"ticks\":\"\"},\"colorscale\":[[0.0,\"#0d0887\"],[0.1111111111111111,\"#46039f\"],[0.2222222222222222,\"#7201a8\"],[0.3333333333333333,\"#9c179e\"],[0.4444444444444444,\"#bd3786\"],[0.5555555555555556,\"#d8576b\"],[0.6666666666666666,\"#ed7953\"],[0.7777777777777778,\"#fb9f3a\"],[0.8888888888888888,\"#fdca26\"],[1.0,\"#f0f921\"]]}],\"heatmapgl\":[{\"type\":\"heatmapgl\",\"colorbar\":{\"outlinewidth\":0,\"ticks\":\"\"},\"colorscale\":[[0.0,\"#0d0887\"],[0.1111111111111111,\"#46039f\"],[0.2222222222222222,\"#7201a8\"],[0.3333333333333333,\"#9c179e\"],[0.4444444444444444,\"#bd3786\"],[0.5555555555555556,\"#d8576b\"],[0.6666666666666666,\"#ed7953\"],[0.7777777777777778,\"#fb9f3a\"],[0.8888888888888888,\"#fdca26\"],[1.0,\"#f0f921\"]]}],\"contourcarpet\":[{\"type\":\"contourcarpet\",\"colorbar\":{\"outlinewidth\":0,\"ticks\":\"\"}}],\"contour\":[{\"type\":\"contour\",\"colorbar\":{\"outlinewidth\":0,\"ticks\":\"\"},\"colorscale\":[[0.0,\"#0d0887\"],[0.1111111111111111,\"#46039f\"],[0.2222222222222222,\"#7201a8\"],[0.3333333333333333,\"#9c179e\"],[0.4444444444444444,\"#bd3786\"],[0.5555555555555556,\"#d8576b\"],[0.6666666666666666,\"#ed7953\"],[0.7777777777777778,\"#fb9f3a\"],[0.8888888888888888,\"#fdca26\"],[1.0,\"#f0f921\"]]}],\"surface\":[{\"type\":\"surface\",\"colorbar\":{\"outlinewidth\":0,\"ticks\":\"\"},\"colorscale\":[[0.0,\"#0d0887\"],[0.1111111111111111,\"#46039f\"],[0.2222222222222222,\"#7201a8\"],[0.3333333333333333,\"#9c179e\"],[0.4444444444444444,\"#bd3786\"],[0.5555555555555556,\"#d8576b\"],[0.6666666666666666,\"#ed7953\"],[0.7777777777777778,\"#fb9f3a\"],[0.8888888888888888,\"#fdca26\"],[1.0,\"#f0f921\"]]}],\"mesh3d\":[{\"type\":\"mesh3d\",\"colorbar\":{\"outlinewidth\":0,\"ticks\":\"\"}}],\"scatter\":[{\"fillpattern\":{\"fillmode\":\"overlay\",\"size\":10,\"solidity\":0.2},\"type\":\"scatter\"}],\"parcoords\":[{\"type\":\"parcoords\",\"line\":{\"colorbar\":{\"outlinewidth\":0,\"ticks\":\"\"}}}],\"scatterpolargl\":[{\"type\":\"scatterpolargl\",\"marker\":{\"colorbar\":{\"outlinewidth\":0,\"ticks\":\"\"}}}],\"bar\":[{\"error_x\":{\"color\":\"#2a3f5f\"},\"error_y\":{\"color\":\"#2a3f5f\"},\"marker\":{\"line\":{\"color\":\"#E5ECF6\",\"width\":0.5},\"pattern\":{\"fillmode\":\"overlay\",\"size\":10,\"solidity\":0.2}},\"type\":\"bar\"}],\"scattergeo\":[{\"type\":\"scattergeo\",\"marker\":{\"colorbar\":{\"outlinewidth\":0,\"ticks\":\"\"}}}],\"scatterpolar\":[{\"type\":\"scatterpolar\",\"marker\":{\"colorbar\":{\"outlinewidth\":0,\"ticks\":\"\"}}}],\"histogram\":[{\"marker\":{\"pattern\":{\"fillmode\":\"overlay\",\"size\":10,\"solidity\":0.2}},\"type\":\"histogram\"}],\"scattergl\":[{\"type\":\"scattergl\",\"marker\":{\"colorbar\":{\"outlinewidth\":0,\"ticks\":\"\"}}}],\"scatter3d\":[{\"type\":\"scatter3d\",\"line\":{\"colorbar\":{\"outlinewidth\":0,\"ticks\":\"\"}},\"marker\":{\"colorbar\":{\"outlinewidth\":0,\"ticks\":\"\"}}}],\"scattermapbox\":[{\"type\":\"scattermapbox\",\"marker\":{\"colorbar\":{\"outlinewidth\":0,\"ticks\":\"\"}}}],\"scatterternary\":[{\"type\":\"scatterternary\",\"marker\":{\"colorbar\":{\"outlinewidth\":0,\"ticks\":\"\"}}}],\"scattercarpet\":[{\"type\":\"scattercarpet\",\"marker\":{\"colorbar\":{\"outlinewidth\":0,\"ticks\":\"\"}}}],\"carpet\":[{\"aaxis\":{\"endlinecolor\":\"#2a3f5f\",\"gridcolor\":\"white\",\"linecolor\":\"white\",\"minorgridcolor\":\"white\",\"startlinecolor\":\"#2a3f5f\"},\"baxis\":{\"endlinecolor\":\"#2a3f5f\",\"gridcolor\":\"white\",\"linecolor\":\"white\",\"minorgridcolor\":\"white\",\"startlinecolor\":\"#2a3f5f\"},\"type\":\"carpet\"}],\"table\":[{\"cells\":{\"fill\":{\"color\":\"#EBF0F8\"},\"line\":{\"color\":\"white\"}},\"header\":{\"fill\":{\"color\":\"#C8D4E3\"},\"line\":{\"color\":\"white\"}},\"type\":\"table\"}],\"barpolar\":[{\"marker\":{\"line\":{\"color\":\"#E5ECF6\",\"width\":0.5},\"pattern\":{\"fillmode\":\"overlay\",\"size\":10,\"solidity\":0.2}},\"type\":\"barpolar\"}],\"pie\":[{\"automargin\":true,\"type\":\"pie\"}]},\"layout\":{\"autotypenumbers\":\"strict\",\"colorway\":[\"#636efa\",\"#EF553B\",\"#00cc96\",\"#ab63fa\",\"#FFA15A\",\"#19d3f3\",\"#FF6692\",\"#B6E880\",\"#FF97FF\",\"#FECB52\"],\"font\":{\"color\":\"#2a3f5f\"},\"hovermode\":\"closest\",\"hoverlabel\":{\"align\":\"left\"},\"paper_bgcolor\":\"white\",\"plot_bgcolor\":\"#E5ECF6\",\"polar\":{\"bgcolor\":\"#E5ECF6\",\"angularaxis\":{\"gridcolor\":\"white\",\"linecolor\":\"white\",\"ticks\":\"\"},\"radialaxis\":{\"gridcolor\":\"white\",\"linecolor\":\"white\",\"ticks\":\"\"}},\"ternary\":{\"bgcolor\":\"#E5ECF6\",\"aaxis\":{\"gridcolor\":\"white\",\"linecolor\":\"white\",\"ticks\":\"\"},\"baxis\":{\"gridcolor\":\"white\",\"linecolor\":\"white\",\"ticks\":\"\"},\"caxis\":{\"gridcolor\":\"white\",\"linecolor\":\"white\",\"ticks\":\"\"}},\"coloraxis\":{\"colorbar\":{\"outlinewidth\":0,\"ticks\":\"\"}},\"colorscale\":{\"sequential\":[[0.0,\"#0d0887\"],[0.1111111111111111,\"#46039f\"],[0.2222222222222222,\"#7201a8\"],[0.3333333333333333,\"#9c179e\"],[0.4444444444444444,\"#bd3786\"],[0.5555555555555556,\"#d8576b\"],[0.6666666666666666,\"#ed7953\"],[0.7777777777777778,\"#fb9f3a\"],[0.8888888888888888,\"#fdca26\"],[1.0,\"#f0f921\"]],\"sequentialminus\":[[0.0,\"#0d0887\"],[0.1111111111111111,\"#46039f\"],[0.2222222222222222,\"#7201a8\"],[0.3333333333333333,\"#9c179e\"],[0.4444444444444444,\"#bd3786\"],[0.5555555555555556,\"#d8576b\"],[0.6666666666666666,\"#ed7953\"],[0.7777777777777778,\"#fb9f3a\"],[0.8888888888888888,\"#fdca26\"],[1.0,\"#f0f921\"]],\"diverging\":[[0,\"#8e0152\"],[0.1,\"#c51b7d\"],[0.2,\"#de77ae\"],[0.3,\"#f1b6da\"],[0.4,\"#fde0ef\"],[0.5,\"#f7f7f7\"],[0.6,\"#e6f5d0\"],[0.7,\"#b8e186\"],[0.8,\"#7fbc41\"],[0.9,\"#4d9221\"],[1,\"#276419\"]]},\"xaxis\":{\"gridcolor\":\"white\",\"linecolor\":\"white\",\"ticks\":\"\",\"title\":{\"standoff\":15},\"zerolinecolor\":\"white\",\"automargin\":true,\"zerolinewidth\":2},\"yaxis\":{\"gridcolor\":\"white\",\"linecolor\":\"white\",\"ticks\":\"\",\"title\":{\"standoff\":15},\"zerolinecolor\":\"white\",\"automargin\":true,\"zerolinewidth\":2},\"scene\":{\"xaxis\":{\"backgroundcolor\":\"#E5ECF6\",\"gridcolor\":\"white\",\"linecolor\":\"white\",\"showbackground\":true,\"ticks\":\"\",\"zerolinecolor\":\"white\",\"gridwidth\":2},\"yaxis\":{\"backgroundcolor\":\"#E5ECF6\",\"gridcolor\":\"white\",\"linecolor\":\"white\",\"showbackground\":true,\"ticks\":\"\",\"zerolinecolor\":\"white\",\"gridwidth\":2},\"zaxis\":{\"backgroundcolor\":\"#E5ECF6\",\"gridcolor\":\"white\",\"linecolor\":\"white\",\"showbackground\":true,\"ticks\":\"\",\"zerolinecolor\":\"white\",\"gridwidth\":2}},\"shapedefaults\":{\"line\":{\"color\":\"#2a3f5f\"}},\"annotationdefaults\":{\"arrowcolor\":\"#2a3f5f\",\"arrowhead\":0,\"arrowwidth\":1},\"geo\":{\"bgcolor\":\"white\",\"landcolor\":\"#E5ECF6\",\"subunitcolor\":\"white\",\"showland\":true,\"showlakes\":true,\"lakecolor\":\"white\"},\"title\":{\"x\":0.05},\"mapbox\":{\"style\":\"light\"}}},\"xaxis\":{\"anchor\":\"y\",\"domain\":[0.0,1.0],\"title\":{\"text\":\"x\"}},\"yaxis\":{\"anchor\":\"x\",\"domain\":[0.0,1.0],\"title\":{\"text\":\"y\"}},\"legend\":{\"tracegroupgap\":0},\"title\":{\"text\":\"100 Most common categories of StockCode\"},\"barmode\":\"relative\"},                        {\"responsive\": true}                    ).then(function(){\n",
              "                            \n",
              "var gd = document.getElementById('54335299-c8f9-4589-9082-1f75e2d50b3b');\n",
              "var x = new MutationObserver(function (mutations, observer) {{\n",
              "        var display = window.getComputedStyle(gd).display;\n",
              "        if (!display || display === 'none') {{\n",
              "            console.log([gd, 'removed!']);\n",
              "            Plotly.purge(gd);\n",
              "            observer.disconnect();\n",
              "        }}\n",
              "}});\n",
              "\n",
              "// Listen for the removal of the full notebook cells\n",
              "var notebookContainer = gd.closest('#notebook-container');\n",
              "if (notebookContainer) {{\n",
              "    x.observe(notebookContainer, {childList: true});\n",
              "}}\n",
              "\n",
              "// Listen for the clearing of the current output cell\n",
              "var outputEl = gd.closest('.output');\n",
              "if (outputEl) {{\n",
              "    x.observe(outputEl, {childList: true});\n",
              "}}\n",
              "\n",
              "                        })                };                            </script>        </div>\n",
              "</body>\n",
              "</html>"
            ]
          },
          "metadata": {}
        }
      ]
    },
    {
      "cell_type": "markdown",
      "source": [
        "Se grafican los 100 productos con mayor cantidad de apariciones en boletas distintas. Se tiene que el producto de código 85123A aparece en un total de 3516 boletas distintas (máximo de todos). A su vez, exiten 4632 productos distintos."
      ],
      "metadata": {
        "id": "oBQMZT4T6O4v"
      }
    },
    {
      "cell_type": "markdown",
      "source": [
        "#### Description profile"
      ],
      "metadata": {
        "id": "8HnURW5o6Oof"
      }
    },
    {
      "cell_type": "code",
      "source": [
        "profile_serie(df_retail['Description'])"
      ],
      "metadata": {
        "colab": {
          "base_uri": "https://localhost:8080/",
          "height": 0
        },
        "id": "Q6uFCImb6Snp",
        "outputId": "a01ad495-0756-4249-f2c9-ae3a30e7d698"
      },
      "execution_count": 144,
      "outputs": [
        {
          "output_type": "display_data",
          "data": {
            "text/plain": [
              "<IPython.core.display.Markdown object>"
            ],
            "text/markdown": "## Description Profile"
          },
          "metadata": {}
        },
        {
          "output_type": "display_data",
          "data": {
            "text/plain": [
              "Type                                                  object\n",
              "Number of observations                                525461\n",
              "Unique                                                  4682\n",
              "Top                       WHITE HANGING HEART T-LIGHT HOLDER\n",
              "Freq                                                    3549\n",
              "                                                            \n",
              "Missing cells                                              0\n",
              "Missing cells (%)                                      0.0 %\n",
              "Duplicate rows                                        525198\n",
              "Duplicate rows (%)                                   99.95 %\n",
              "Total size in memory                           4203816 bytes\n",
              "dtype: object"
            ]
          },
          "metadata": {}
        },
        {
          "output_type": "display_data",
          "data": {
            "text/html": [
              "<html>\n",
              "<head><meta charset=\"utf-8\" /></head>\n",
              "<body>\n",
              "    <div>            <script src=\"https://cdnjs.cloudflare.com/ajax/libs/mathjax/2.7.5/MathJax.js?config=TeX-AMS-MML_SVG\"></script><script type=\"text/javascript\">if (window.MathJax && window.MathJax.Hub && && window.MathJax.Hub.Config) {window.MathJax.Hub.Config({SVG: {font: \"STIX-Web\"}});}</script>                <script type=\"text/javascript\">window.PlotlyConfig = {MathJaxConfig: 'local'};</script>\n",
              "        <script src=\"https://cdn.plot.ly/plotly-2.12.1.min.js\"></script>                <div id=\"6f501dad-18d4-4fa0-a9f0-a102d01fa342\" class=\"plotly-graph-div\" style=\"height:525px; width:100%;\"></div>            <script type=\"text/javascript\">                                    window.PLOTLYENV=window.PLOTLYENV || {};                                    if (document.getElementById(\"6f501dad-18d4-4fa0-a9f0-a102d01fa342\")) {                    Plotly.newPlot(                        \"6f501dad-18d4-4fa0-a9f0-a102d01fa342\",                        [{\"alignmentgroup\":\"True\",\"hovertemplate\":\"x=%{x}<br>y=%{y}<extra></extra>\",\"legendgroup\":\"\",\"marker\":{\"color\":\"#636efa\",\"pattern\":{\"shape\":\"\"}},\"name\":\"\",\"offsetgroup\":\"\",\"orientation\":\"v\",\"showlegend\":false,\"textposition\":\"auto\",\"x\":[\"WHITE HANGING HEART T-LIGHT HOLDER\",\"nan\",\"REGENCY CAKESTAND 3 TIER\",\"STRAWBERRY CERAMIC TRINKET BOX\",\"PACK OF 72 RETRO SPOT CAKE CASES\",\"ASSORTED COLOUR BIRD ORNAMENT\",\"60 TEATIME FAIRY CAKE CASES\",\"HOME BUILDING BLOCK WORD\",\"JUMBO BAG RED RETROSPOT\",\"LUNCH BAG RED SPOTTY\",\"REX CASH+CARRY JUMBO SHOPPER\",\"JUMBO STORAGE BAG SUKI\",\"PACK OF 60 PINK PAISLEY CAKE CASES\",\"WOODEN FRAME ANTIQUE WHITE \",\"LUNCH BAG  BLACK SKULL.\",\"BAKING SET 9 PIECE RETROSPOT \",\"LUNCH BAG SUKI  DESIGN \",\"HEART OF WICKER LARGE\",\"LOVE BUILDING BLOCK WORD\",\"RED HANGING HEART T-LIGHT HOLDER\",\"SWEETHEART CERAMIC TRINKET BOX\",\"JUMBO SHOPPER VINTAGE RED PAISLEY\",\"JUMBO BAG STRAWBERRY\",\"HEART OF WICKER SMALL\",\"HOT WATER BOTTLE TEA AND SYMPATHY\",\"SCOTTIE DOG HOT WATER BOTTLE\",\"VINTAGE SNAP CARDS\",\"PARTY BUNTING\",\"LUNCH BAG SPACEBOY DESIGN \",\"PAPER CHAIN KIT 50'S CHRISTMAS \",\"JUMBO  BAG BAROQUE BLACK WHITE\",\"LUNCH BAG WOODLAND\",\"LUNCH BAG CARS BLUE\",\"WOODEN PICTURE FRAME WHITE FINISH\",\"HANGING HEART ZINC T-LIGHT HOLDER\",\"SET/20 RED SPOTTY PAPER NAPKINS \",\"ANTIQUE SILVER TEA GLASS ETCHED\",\"CHOCOLATE HOT WATER BOTTLE\",\"SET/5 RED SPOTTY LID GLASS BOWLS\",\"SMALL POPCORN HOLDER\",\"ZINC METAL HEART DECORATION\",\"FELTCRAFT 6 FLOWER FRIENDS\",\"72 SWEETHEART FAIRY CAKE CASES\",\"GIN + TONIC DIET METAL SIGN\",\"PACK OF 72 SKULL CAKE CASES\",\"NATURAL SLATE HEART CHALKBOARD \",\"6 RIBBONS RUSTIC CHARM\",\"RECYCLING BAG RETROSPOT \",\"POSTAGE\",\"VICTORIAN GLASS HANGING T-LIGHT\",\"LUNCH BAG PINK RETROSPOT\",\"PLEASE ONE PERSON METAL SIGN\",\"Manual\",\"VINTAGE UNION JACK BUNTING\",\"PINK CREAM FELT CRAFT TRINKET BOX \",\"HAND OVER THE CHOCOLATE   SIGN \",\"JUMBO BAG PINK WITH WHITE SPOTS\",\"RED WOOLLY HOTTIE WHITE HEART.\",\"CREAM HEART CARD HOLDER\",\"RETRO SPOT TEA SET CERAMIC 11 PC \",\"RED SPOTTY CHARLOTTE BAG\",\"PAPER BUNTING RETRO SPOTS\",\"PACK OF 6 BIRDY GIFT TAGS\",\"JUMBO BAG PINK VINTAGE PAISLEY\",\"JUMBO BAG SCANDINAVIAN PAISLEY\",\"WOODLAND CHARLOTTE BAG\",\"VINTAGE HEADS AND TAILS CARD GAME \",\"RED GINGHAM ROSE JEWELLERY BOX\",\"WOOD S/3 CABINET ANT WHITE FINISH\",\"RED RETROSPOT CAKE STAND\",\"BATHROOM METAL SIGN\",\"COOK WITH WINE METAL SIGN \",\"RED TOADSTOOL LED NIGHT LIGHT\",\"FELTCRAFT BUTTERFLY HEARTS\",\"HANGING HEART JAR T-LIGHT HOLDER\",\"PACK OF 60 DINOSAUR CAKE CASES\",\"DOTCOM POSTAGE\",\"PAPER CHAIN KIT VINTAGE CHRISTMAS\",\"ROUND SNACK BOXES SET OF4 WOODLAND \",\"PLASTERS IN TIN SPACEBOY\",\"STRAWBERRY CHARLOTTE BAG\",\"HAND WARMER OWL DESIGN\",\"JUMBO BAG OWLS\",\"PLASTERS IN TIN CIRCUS PARADE \",\"NO SINGING METAL SIGN\",\"COLOUR GLASS T-LIGHT HOLDER HANGING\",\"PACK 20 ENGLISH ROSE PAPER NAPKINS\",\"DOOR MAT UNION FLAG\",\"PINK BLUE FELT CRAFT TRINKET BOX\",\"SINGLE HEART ZINC T-LIGHT HOLDER\",\"LADIES & GENTLEMEN METAL SIGN\",\"WOOD 2 DRAWER CABINET WHITE FINISH\",\"HAND WARMER SCOTTY DOG DESIGN\",\"GRAND CHOCOLATECANDLE\",\"JUMBO STORAGE BAG SKULLS\",\"KNITTED UNION FLAG HOT WATER BOTTLE\",\"EDWARDIAN PARASOL NATURAL\",\"HEART IVORY TRELLIS SMALL\",\"LOVEBIRD HANGING DECORATION WHITE \",\"HAND WARMER BIRD DESIGN\"],\"xaxis\":\"x\",\"y\":[3549,2928,2212,1843,1466,1457,1400,1386,1310,1274,1232,1220,1196,1190,1179,1176,1157,1151,1142,1129,1096,1095,1091,1082,1050,1048,1044,1038,1014,1005,1002,989,987,986,968,967,958,958,952,951,947,924,922,903,873,871,870,869,862,862,856,855,854,849,840,834,829,827,814,813,808,802,796,794,786,783,778,773,757,756,756,753,753,750,750,745,735,710,708,702,701,699,699,698,694,690,684,683,681,679,678,676,672,667,655,649,647,646,645,644],\"yaxis\":\"y\",\"type\":\"bar\"}],                        {\"template\":{\"data\":{\"histogram2dcontour\":[{\"type\":\"histogram2dcontour\",\"colorbar\":{\"outlinewidth\":0,\"ticks\":\"\"},\"colorscale\":[[0.0,\"#0d0887\"],[0.1111111111111111,\"#46039f\"],[0.2222222222222222,\"#7201a8\"],[0.3333333333333333,\"#9c179e\"],[0.4444444444444444,\"#bd3786\"],[0.5555555555555556,\"#d8576b\"],[0.6666666666666666,\"#ed7953\"],[0.7777777777777778,\"#fb9f3a\"],[0.8888888888888888,\"#fdca26\"],[1.0,\"#f0f921\"]]}],\"choropleth\":[{\"type\":\"choropleth\",\"colorbar\":{\"outlinewidth\":0,\"ticks\":\"\"}}],\"histogram2d\":[{\"type\":\"histogram2d\",\"colorbar\":{\"outlinewidth\":0,\"ticks\":\"\"},\"colorscale\":[[0.0,\"#0d0887\"],[0.1111111111111111,\"#46039f\"],[0.2222222222222222,\"#7201a8\"],[0.3333333333333333,\"#9c179e\"],[0.4444444444444444,\"#bd3786\"],[0.5555555555555556,\"#d8576b\"],[0.6666666666666666,\"#ed7953\"],[0.7777777777777778,\"#fb9f3a\"],[0.8888888888888888,\"#fdca26\"],[1.0,\"#f0f921\"]]}],\"heatmap\":[{\"type\":\"heatmap\",\"colorbar\":{\"outlinewidth\":0,\"ticks\":\"\"},\"colorscale\":[[0.0,\"#0d0887\"],[0.1111111111111111,\"#46039f\"],[0.2222222222222222,\"#7201a8\"],[0.3333333333333333,\"#9c179e\"],[0.4444444444444444,\"#bd3786\"],[0.5555555555555556,\"#d8576b\"],[0.6666666666666666,\"#ed7953\"],[0.7777777777777778,\"#fb9f3a\"],[0.8888888888888888,\"#fdca26\"],[1.0,\"#f0f921\"]]}],\"heatmapgl\":[{\"type\":\"heatmapgl\",\"colorbar\":{\"outlinewidth\":0,\"ticks\":\"\"},\"colorscale\":[[0.0,\"#0d0887\"],[0.1111111111111111,\"#46039f\"],[0.2222222222222222,\"#7201a8\"],[0.3333333333333333,\"#9c179e\"],[0.4444444444444444,\"#bd3786\"],[0.5555555555555556,\"#d8576b\"],[0.6666666666666666,\"#ed7953\"],[0.7777777777777778,\"#fb9f3a\"],[0.8888888888888888,\"#fdca26\"],[1.0,\"#f0f921\"]]}],\"contourcarpet\":[{\"type\":\"contourcarpet\",\"colorbar\":{\"outlinewidth\":0,\"ticks\":\"\"}}],\"contour\":[{\"type\":\"contour\",\"colorbar\":{\"outlinewidth\":0,\"ticks\":\"\"},\"colorscale\":[[0.0,\"#0d0887\"],[0.1111111111111111,\"#46039f\"],[0.2222222222222222,\"#7201a8\"],[0.3333333333333333,\"#9c179e\"],[0.4444444444444444,\"#bd3786\"],[0.5555555555555556,\"#d8576b\"],[0.6666666666666666,\"#ed7953\"],[0.7777777777777778,\"#fb9f3a\"],[0.8888888888888888,\"#fdca26\"],[1.0,\"#f0f921\"]]}],\"surface\":[{\"type\":\"surface\",\"colorbar\":{\"outlinewidth\":0,\"ticks\":\"\"},\"colorscale\":[[0.0,\"#0d0887\"],[0.1111111111111111,\"#46039f\"],[0.2222222222222222,\"#7201a8\"],[0.3333333333333333,\"#9c179e\"],[0.4444444444444444,\"#bd3786\"],[0.5555555555555556,\"#d8576b\"],[0.6666666666666666,\"#ed7953\"],[0.7777777777777778,\"#fb9f3a\"],[0.8888888888888888,\"#fdca26\"],[1.0,\"#f0f921\"]]}],\"mesh3d\":[{\"type\":\"mesh3d\",\"colorbar\":{\"outlinewidth\":0,\"ticks\":\"\"}}],\"scatter\":[{\"fillpattern\":{\"fillmode\":\"overlay\",\"size\":10,\"solidity\":0.2},\"type\":\"scatter\"}],\"parcoords\":[{\"type\":\"parcoords\",\"line\":{\"colorbar\":{\"outlinewidth\":0,\"ticks\":\"\"}}}],\"scatterpolargl\":[{\"type\":\"scatterpolargl\",\"marker\":{\"colorbar\":{\"outlinewidth\":0,\"ticks\":\"\"}}}],\"bar\":[{\"error_x\":{\"color\":\"#2a3f5f\"},\"error_y\":{\"color\":\"#2a3f5f\"},\"marker\":{\"line\":{\"color\":\"#E5ECF6\",\"width\":0.5},\"pattern\":{\"fillmode\":\"overlay\",\"size\":10,\"solidity\":0.2}},\"type\":\"bar\"}],\"scattergeo\":[{\"type\":\"scattergeo\",\"marker\":{\"colorbar\":{\"outlinewidth\":0,\"ticks\":\"\"}}}],\"scatterpolar\":[{\"type\":\"scatterpolar\",\"marker\":{\"colorbar\":{\"outlinewidth\":0,\"ticks\":\"\"}}}],\"histogram\":[{\"marker\":{\"pattern\":{\"fillmode\":\"overlay\",\"size\":10,\"solidity\":0.2}},\"type\":\"histogram\"}],\"scattergl\":[{\"type\":\"scattergl\",\"marker\":{\"colorbar\":{\"outlinewidth\":0,\"ticks\":\"\"}}}],\"scatter3d\":[{\"type\":\"scatter3d\",\"line\":{\"colorbar\":{\"outlinewidth\":0,\"ticks\":\"\"}},\"marker\":{\"colorbar\":{\"outlinewidth\":0,\"ticks\":\"\"}}}],\"scattermapbox\":[{\"type\":\"scattermapbox\",\"marker\":{\"colorbar\":{\"outlinewidth\":0,\"ticks\":\"\"}}}],\"scatterternary\":[{\"type\":\"scatterternary\",\"marker\":{\"colorbar\":{\"outlinewidth\":0,\"ticks\":\"\"}}}],\"scattercarpet\":[{\"type\":\"scattercarpet\",\"marker\":{\"colorbar\":{\"outlinewidth\":0,\"ticks\":\"\"}}}],\"carpet\":[{\"aaxis\":{\"endlinecolor\":\"#2a3f5f\",\"gridcolor\":\"white\",\"linecolor\":\"white\",\"minorgridcolor\":\"white\",\"startlinecolor\":\"#2a3f5f\"},\"baxis\":{\"endlinecolor\":\"#2a3f5f\",\"gridcolor\":\"white\",\"linecolor\":\"white\",\"minorgridcolor\":\"white\",\"startlinecolor\":\"#2a3f5f\"},\"type\":\"carpet\"}],\"table\":[{\"cells\":{\"fill\":{\"color\":\"#EBF0F8\"},\"line\":{\"color\":\"white\"}},\"header\":{\"fill\":{\"color\":\"#C8D4E3\"},\"line\":{\"color\":\"white\"}},\"type\":\"table\"}],\"barpolar\":[{\"marker\":{\"line\":{\"color\":\"#E5ECF6\",\"width\":0.5},\"pattern\":{\"fillmode\":\"overlay\",\"size\":10,\"solidity\":0.2}},\"type\":\"barpolar\"}],\"pie\":[{\"automargin\":true,\"type\":\"pie\"}]},\"layout\":{\"autotypenumbers\":\"strict\",\"colorway\":[\"#636efa\",\"#EF553B\",\"#00cc96\",\"#ab63fa\",\"#FFA15A\",\"#19d3f3\",\"#FF6692\",\"#B6E880\",\"#FF97FF\",\"#FECB52\"],\"font\":{\"color\":\"#2a3f5f\"},\"hovermode\":\"closest\",\"hoverlabel\":{\"align\":\"left\"},\"paper_bgcolor\":\"white\",\"plot_bgcolor\":\"#E5ECF6\",\"polar\":{\"bgcolor\":\"#E5ECF6\",\"angularaxis\":{\"gridcolor\":\"white\",\"linecolor\":\"white\",\"ticks\":\"\"},\"radialaxis\":{\"gridcolor\":\"white\",\"linecolor\":\"white\",\"ticks\":\"\"}},\"ternary\":{\"bgcolor\":\"#E5ECF6\",\"aaxis\":{\"gridcolor\":\"white\",\"linecolor\":\"white\",\"ticks\":\"\"},\"baxis\":{\"gridcolor\":\"white\",\"linecolor\":\"white\",\"ticks\":\"\"},\"caxis\":{\"gridcolor\":\"white\",\"linecolor\":\"white\",\"ticks\":\"\"}},\"coloraxis\":{\"colorbar\":{\"outlinewidth\":0,\"ticks\":\"\"}},\"colorscale\":{\"sequential\":[[0.0,\"#0d0887\"],[0.1111111111111111,\"#46039f\"],[0.2222222222222222,\"#7201a8\"],[0.3333333333333333,\"#9c179e\"],[0.4444444444444444,\"#bd3786\"],[0.5555555555555556,\"#d8576b\"],[0.6666666666666666,\"#ed7953\"],[0.7777777777777778,\"#fb9f3a\"],[0.8888888888888888,\"#fdca26\"],[1.0,\"#f0f921\"]],\"sequentialminus\":[[0.0,\"#0d0887\"],[0.1111111111111111,\"#46039f\"],[0.2222222222222222,\"#7201a8\"],[0.3333333333333333,\"#9c179e\"],[0.4444444444444444,\"#bd3786\"],[0.5555555555555556,\"#d8576b\"],[0.6666666666666666,\"#ed7953\"],[0.7777777777777778,\"#fb9f3a\"],[0.8888888888888888,\"#fdca26\"],[1.0,\"#f0f921\"]],\"diverging\":[[0,\"#8e0152\"],[0.1,\"#c51b7d\"],[0.2,\"#de77ae\"],[0.3,\"#f1b6da\"],[0.4,\"#fde0ef\"],[0.5,\"#f7f7f7\"],[0.6,\"#e6f5d0\"],[0.7,\"#b8e186\"],[0.8,\"#7fbc41\"],[0.9,\"#4d9221\"],[1,\"#276419\"]]},\"xaxis\":{\"gridcolor\":\"white\",\"linecolor\":\"white\",\"ticks\":\"\",\"title\":{\"standoff\":15},\"zerolinecolor\":\"white\",\"automargin\":true,\"zerolinewidth\":2},\"yaxis\":{\"gridcolor\":\"white\",\"linecolor\":\"white\",\"ticks\":\"\",\"title\":{\"standoff\":15},\"zerolinecolor\":\"white\",\"automargin\":true,\"zerolinewidth\":2},\"scene\":{\"xaxis\":{\"backgroundcolor\":\"#E5ECF6\",\"gridcolor\":\"white\",\"linecolor\":\"white\",\"showbackground\":true,\"ticks\":\"\",\"zerolinecolor\":\"white\",\"gridwidth\":2},\"yaxis\":{\"backgroundcolor\":\"#E5ECF6\",\"gridcolor\":\"white\",\"linecolor\":\"white\",\"showbackground\":true,\"ticks\":\"\",\"zerolinecolor\":\"white\",\"gridwidth\":2},\"zaxis\":{\"backgroundcolor\":\"#E5ECF6\",\"gridcolor\":\"white\",\"linecolor\":\"white\",\"showbackground\":true,\"ticks\":\"\",\"zerolinecolor\":\"white\",\"gridwidth\":2}},\"shapedefaults\":{\"line\":{\"color\":\"#2a3f5f\"}},\"annotationdefaults\":{\"arrowcolor\":\"#2a3f5f\",\"arrowhead\":0,\"arrowwidth\":1},\"geo\":{\"bgcolor\":\"white\",\"landcolor\":\"#E5ECF6\",\"subunitcolor\":\"white\",\"showland\":true,\"showlakes\":true,\"lakecolor\":\"white\"},\"title\":{\"x\":0.05},\"mapbox\":{\"style\":\"light\"}}},\"xaxis\":{\"anchor\":\"y\",\"domain\":[0.0,1.0],\"title\":{\"text\":\"x\"}},\"yaxis\":{\"anchor\":\"x\",\"domain\":[0.0,1.0],\"title\":{\"text\":\"y\"}},\"legend\":{\"tracegroupgap\":0},\"title\":{\"text\":\"100 Most common categories of Description\"},\"barmode\":\"relative\"},                        {\"responsive\": true}                    ).then(function(){\n",
              "                            \n",
              "var gd = document.getElementById('6f501dad-18d4-4fa0-a9f0-a102d01fa342');\n",
              "var x = new MutationObserver(function (mutations, observer) {{\n",
              "        var display = window.getComputedStyle(gd).display;\n",
              "        if (!display || display === 'none') {{\n",
              "            console.log([gd, 'removed!']);\n",
              "            Plotly.purge(gd);\n",
              "            observer.disconnect();\n",
              "        }}\n",
              "}});\n",
              "\n",
              "// Listen for the removal of the full notebook cells\n",
              "var notebookContainer = gd.closest('#notebook-container');\n",
              "if (notebookContainer) {{\n",
              "    x.observe(notebookContainer, {childList: true});\n",
              "}}\n",
              "\n",
              "// Listen for the clearing of the current output cell\n",
              "var outputEl = gd.closest('.output');\n",
              "if (outputEl) {{\n",
              "    x.observe(outputEl, {childList: true});\n",
              "}}\n",
              "\n",
              "                        })                };                            </script>        </div>\n",
              "</body>\n",
              "</html>"
            ]
          },
          "metadata": {}
        }
      ]
    },
    {
      "cell_type": "markdown",
      "source": [
        "Se grafican las 100 descripciones de productos que aparecen en boletas distintas. No se tienen datos nulos, pero si se tiene la descripción \"*nan*\", así que en la práctica si faltan. Este gráfico debe ser igual al de StockCode (asumiendo que no cambia la descripción de un producto) ya que es una única descripción por producto, pero no es exactamente igual por la descripción \"*nan*\"."
      ],
      "metadata": {
        "id": "2EeGEqHo6VqP"
      }
    },
    {
      "cell_type": "markdown",
      "source": [
        "#### Quantity profile"
      ],
      "metadata": {
        "id": "OLy9-W_o6VjH"
      }
    },
    {
      "cell_type": "code",
      "source": [
        "profile_serie(df_retail['Quantity'])"
      ],
      "metadata": {
        "colab": {
          "base_uri": "https://localhost:8080/",
          "height": 0
        },
        "id": "yOldeJxc6aLz",
        "outputId": "72faa66b-3439-4ce0-e8fe-9f875f02b53b"
      },
      "execution_count": 145,
      "outputs": [
        {
          "output_type": "display_data",
          "data": {
            "text/plain": [
              "<IPython.core.display.Markdown object>"
            ],
            "text/markdown": "## Quantity Profile"
          },
          "metadata": {}
        },
        {
          "output_type": "display_data",
          "data": {
            "text/plain": [
              "Type                              int64\n",
              "Number of observations         525461.0\n",
              "Mean                          10.337667\n",
              "Std                           107.42411\n",
              "Min                             -9600.0\n",
              "25%                                 1.0\n",
              "50%                                 3.0\n",
              "75%                                10.0\n",
              "Max                             19152.0\n",
              "Negative                          12326\n",
              "Negative (%)                     2.35 %\n",
              "Zeros                                 0\n",
              "Zeros (%)                         0.0 %\n",
              "Kurt                        6277.666908\n",
              "Skew                          36.044617\n",
              "                                       \n",
              "Missing cells                         0\n",
              "Missing cells (%)                 0.0 %\n",
              "Duplicate rows                   525122\n",
              "Duplicate rows (%)              99.94 %\n",
              "Total size in memory      4203816 bytes\n",
              "dtype: object"
            ]
          },
          "metadata": {}
        },
        {
          "output_type": "display_data",
          "data": {
            "text/html": [
              "<html>\n",
              "<head><meta charset=\"utf-8\" /></head>\n",
              "<body>\n",
              "    <div>            <script src=\"https://cdnjs.cloudflare.com/ajax/libs/mathjax/2.7.5/MathJax.js?config=TeX-AMS-MML_SVG\"></script><script type=\"text/javascript\">if (window.MathJax && window.MathJax.Hub && && window.MathJax.Hub.Config) {window.MathJax.Hub.Config({SVG: {font: \"STIX-Web\"}});}</script>                <script type=\"text/javascript\">window.PlotlyConfig = {MathJaxConfig: 'local'};</script>\n",
              "        <script src=\"https://cdn.plot.ly/plotly-2.12.1.min.js\"></script>                <div id=\"84f3f068-5ec9-4f56-9c6c-35ef9c15417d\" class=\"plotly-graph-div\" style=\"height:525px; width:100%;\"></div>            <script type=\"text/javascript\">                                    window.PLOTLYENV=window.PLOTLYENV || {};                                    if (document.getElementById(\"84f3f068-5ec9-4f56-9c6c-35ef9c15417d\")) {                    Plotly.newPlot(                        \"84f3f068-5ec9-4f56-9c6c-35ef9c15417d\",                        [{\"alignmentgroup\":\"True\",\"bingroup\":\"x\",\"hovertemplate\":\"variable=Quantity<br>value=%{x}<br>count=%{y}<extra></extra>\",\"legendgroup\":\"Quantity\",\"marker\":{\"color\":\"#636efa\",\"pattern\":{\"shape\":\"\"}},\"name\":\"Quantity\",\"offsetgroup\":\"Quantity\",\"orientation\":\"v\",\"showlegend\":true,\"x\":[6,3,48,12,12,-96,1,6,12,16,1,1,96,12,6,1,16,1,12,6,8,1,3,3,2,1,2,25,100,1,7,12,1,25,100,6,1,5,30,1,12,1,-13,1,24,3,6,10,1,12,2,2,12,2,1,4,1,1,3,1,1,3,2,2,2,3,1,10,1,24,24,4,1,10,3,3,1,3,12,1,1,24,2,24,12,2,36,1,24,1,2,8,200,32,36,2,12,3,9,6,1,10,10,25,12,8,-2,1,567,6,2,2,1,18,6,1,-12,6,1,1,12,6,3,2,2,1,1,16,25,12,20,20,6,2,26,10,5,1,12,3,160,3,1,12,2,2,2,75,2,6,3,40,2,1,8,1,2,2,2,1,3,2,12,3,12,12,-1,2,384,1,1,1,3,9,6,120,3,12,48,8,5,3,6,1,1,12,2,3,10,1,12,10,4,12,1,12,1,300,-26,48,2,1,2,1,24,2,24,50,1,12,1,7,36,6,10,10,2,1,6,1,12,2,24,8,6,1,1,2,2,12,6,12,6,2,16,2,1,1,2,2,1,2,10,1,2,6,1,20,4,3,6,1,-6,6,8,12,3,1,1,8,1,2,12,3,2,1,6,6,2,1,1,1,4,12,3,2,1,2,6,4,1,5,-1,2,1,2,12,36,1,24,2,6,4,4,1,6,4,12,12,28,12,200,6,48,2,1,-2,1,6,2,1,1,1,2,-160,-1,2,24,12,1,2,1,4,1,10,1,3,1,14,12,1,1,1,2,1,1,24,192,1,3,72,3,2,1,25,1,2,2,12,4,6,9,6,1,1,8,6,2,4,3,4,1,2,1,8,1,5,12,2,2,1,12,10,48,10,12,6,6,2,1,4,12,1,1,1,6,1,3,72,90,7,6,2,4,18,2,1,1,4,1,10,6,1,2,6,1,16,2,10,25,1,1,4,25,1,1,6,2,1,2,12,1,2,12,6,2,2,-3,192,10,4,3,2,1,1,2,12,-4,24,1,1,4,3,1,10,2,1,12,6,72,2,6,24,1,1,10,1,4,6,1,3,96,96,4,1,-1,12,1,2,1,2,24,12,12,144,12,12,12,-12,14,2,1,2,3,2,1,24,1,1,5,12,1,2,1,12,12,1,4,1,1,2,12,1,1,2,96,1,36,10,12,2,36,48,3,1,36,1,5,24,3,1,12,1,1,12,1,4,1,1,12,12,1,1,1,72,2,1,24,6,1,3,12,2,6,4,2,2,24,6,2,24,1,3,-2,2,48,3,4,12,6,4,8,12,3,2,1,2,12,2,1,12,1,2,2,4,2,12,1,5,24,2,12,1,100,1,24,6,7,6,1,1,5,8,1,96,12,4,40,1,8,24,8,2,16,12,2,16,1,12,1,1,1,1,24,12,6,3,1,48,12,60,1,72,5,6,2,2,12,3,6,2,3,4,1,1,24,48,24,12,1,1,3,24,12,12,2,1,4,10,12,6,2,-1,10,8,3,12,16,1,4,1,1,4,1,2,12,12,7,25,6,2,10,1,6,6,12,1,96,4,3,4,16,2,1,1,2,1,48,42,2,12,24,3,1,3,-1,2,2,1,10,1,1,1,1,1,6,1,4,12,2,20,1,6,25,80,3,1,1,3,1,8,1,1,12,64,1,10,1,2,12,1,5,24,12,2,4,2,12,12,24,3,144,1,7,-1,72,1,6,1,3,4,12,18,2,24,6,1,6,1,8,48,3,2,6,48,6,1,6,12,12,1,2,12,6,1,12,1,2,12,1,2,6,6,20,144,20,1,1,1,3,1,4,2,12,24,6,1,1,3,12,6,2,1,4,12,4,10,12,24,4,25,1,2,8,1,3,1,1,1,3,4,3,1,1,120,10,4,5,12,1,1,3,2,1,30,1,1,1,8,1,32,1,1,1,12,1,12,3,2,1,2,1,96,-10,6,8,6,2,2,24,1,2,6,48,25,8,2,10,7,5,1,24,4,12,5,3,3,4,16,12,8,10,12,1,3,3,6,1,1,25,5,2,2,5,6,1,20,4,1,2,2,1,8,1,3,1,24,6,6,2,2,1,4,2,3,12,12,4,12,2,2,1,1,4,100,2,72,12,6,2,24,1,5,1,6,16,288,1,2,24,6,2,-1,1,6,20,2,4,3,1,24,2,3,6,12,6,100,1,10,1,2,6,1,1,3,10,6,4,2,2,2,12,30,1,12,10,2,12,1,8,48,2,4,1,6,1,6,1,4,12,2,3,1,1,4,5,1,1,8,1],\"xaxis\":\"x\",\"yaxis\":\"y\",\"type\":\"histogram\"},{\"alignmentgroup\":\"True\",\"hovertemplate\":\"variable=Quantity<br>value=%{x}<extra></extra>\",\"legendgroup\":\"Quantity\",\"marker\":{\"color\":\"#636efa\"},\"name\":\"Quantity\",\"notched\":true,\"offsetgroup\":\"Quantity\",\"showlegend\":false,\"x\":[6,3,48,12,12,-96,1,6,12,16,1,1,96,12,6,1,16,1,12,6,8,1,3,3,2,1,2,25,100,1,7,12,1,25,100,6,1,5,30,1,12,1,-13,1,24,3,6,10,1,12,2,2,12,2,1,4,1,1,3,1,1,3,2,2,2,3,1,10,1,24,24,4,1,10,3,3,1,3,12,1,1,24,2,24,12,2,36,1,24,1,2,8,200,32,36,2,12,3,9,6,1,10,10,25,12,8,-2,1,567,6,2,2,1,18,6,1,-12,6,1,1,12,6,3,2,2,1,1,16,25,12,20,20,6,2,26,10,5,1,12,3,160,3,1,12,2,2,2,75,2,6,3,40,2,1,8,1,2,2,2,1,3,2,12,3,12,12,-1,2,384,1,1,1,3,9,6,120,3,12,48,8,5,3,6,1,1,12,2,3,10,1,12,10,4,12,1,12,1,300,-26,48,2,1,2,1,24,2,24,50,1,12,1,7,36,6,10,10,2,1,6,1,12,2,24,8,6,1,1,2,2,12,6,12,6,2,16,2,1,1,2,2,1,2,10,1,2,6,1,20,4,3,6,1,-6,6,8,12,3,1,1,8,1,2,12,3,2,1,6,6,2,1,1,1,4,12,3,2,1,2,6,4,1,5,-1,2,1,2,12,36,1,24,2,6,4,4,1,6,4,12,12,28,12,200,6,48,2,1,-2,1,6,2,1,1,1,2,-160,-1,2,24,12,1,2,1,4,1,10,1,3,1,14,12,1,1,1,2,1,1,24,192,1,3,72,3,2,1,25,1,2,2,12,4,6,9,6,1,1,8,6,2,4,3,4,1,2,1,8,1,5,12,2,2,1,12,10,48,10,12,6,6,2,1,4,12,1,1,1,6,1,3,72,90,7,6,2,4,18,2,1,1,4,1,10,6,1,2,6,1,16,2,10,25,1,1,4,25,1,1,6,2,1,2,12,1,2,12,6,2,2,-3,192,10,4,3,2,1,1,2,12,-4,24,1,1,4,3,1,10,2,1,12,6,72,2,6,24,1,1,10,1,4,6,1,3,96,96,4,1,-1,12,1,2,1,2,24,12,12,144,12,12,12,-12,14,2,1,2,3,2,1,24,1,1,5,12,1,2,1,12,12,1,4,1,1,2,12,1,1,2,96,1,36,10,12,2,36,48,3,1,36,1,5,24,3,1,12,1,1,12,1,4,1,1,12,12,1,1,1,72,2,1,24,6,1,3,12,2,6,4,2,2,24,6,2,24,1,3,-2,2,48,3,4,12,6,4,8,12,3,2,1,2,12,2,1,12,1,2,2,4,2,12,1,5,24,2,12,1,100,1,24,6,7,6,1,1,5,8,1,96,12,4,40,1,8,24,8,2,16,12,2,16,1,12,1,1,1,1,24,12,6,3,1,48,12,60,1,72,5,6,2,2,12,3,6,2,3,4,1,1,24,48,24,12,1,1,3,24,12,12,2,1,4,10,12,6,2,-1,10,8,3,12,16,1,4,1,1,4,1,2,12,12,7,25,6,2,10,1,6,6,12,1,96,4,3,4,16,2,1,1,2,1,48,42,2,12,24,3,1,3,-1,2,2,1,10,1,1,1,1,1,6,1,4,12,2,20,1,6,25,80,3,1,1,3,1,8,1,1,12,64,1,10,1,2,12,1,5,24,12,2,4,2,12,12,24,3,144,1,7,-1,72,1,6,1,3,4,12,18,2,24,6,1,6,1,8,48,3,2,6,48,6,1,6,12,12,1,2,12,6,1,12,1,2,12,1,2,6,6,20,144,20,1,1,1,3,1,4,2,12,24,6,1,1,3,12,6,2,1,4,12,4,10,12,24,4,25,1,2,8,1,3,1,1,1,3,4,3,1,1,120,10,4,5,12,1,1,3,2,1,30,1,1,1,8,1,32,1,1,1,12,1,12,3,2,1,2,1,96,-10,6,8,6,2,2,24,1,2,6,48,25,8,2,10,7,5,1,24,4,12,5,3,3,4,16,12,8,10,12,1,3,3,6,1,1,25,5,2,2,5,6,1,20,4,1,2,2,1,8,1,3,1,24,6,6,2,2,1,4,2,3,12,12,4,12,2,2,1,1,4,100,2,72,12,6,2,24,1,5,1,6,16,288,1,2,24,6,2,-1,1,6,20,2,4,3,1,24,2,3,6,12,6,100,1,10,1,2,6,1,1,3,10,6,4,2,2,2,12,30,1,12,10,2,12,1,8,48,2,4,1,6,1,6,1,4,12,2,3,1,1,4,5,1,1,8,1],\"xaxis\":\"x2\",\"yaxis\":\"y2\",\"type\":\"box\"}],                        {\"template\":{\"data\":{\"histogram2dcontour\":[{\"type\":\"histogram2dcontour\",\"colorbar\":{\"outlinewidth\":0,\"ticks\":\"\"},\"colorscale\":[[0.0,\"#0d0887\"],[0.1111111111111111,\"#46039f\"],[0.2222222222222222,\"#7201a8\"],[0.3333333333333333,\"#9c179e\"],[0.4444444444444444,\"#bd3786\"],[0.5555555555555556,\"#d8576b\"],[0.6666666666666666,\"#ed7953\"],[0.7777777777777778,\"#fb9f3a\"],[0.8888888888888888,\"#fdca26\"],[1.0,\"#f0f921\"]]}],\"choropleth\":[{\"type\":\"choropleth\",\"colorbar\":{\"outlinewidth\":0,\"ticks\":\"\"}}],\"histogram2d\":[{\"type\":\"histogram2d\",\"colorbar\":{\"outlinewidth\":0,\"ticks\":\"\"},\"colorscale\":[[0.0,\"#0d0887\"],[0.1111111111111111,\"#46039f\"],[0.2222222222222222,\"#7201a8\"],[0.3333333333333333,\"#9c179e\"],[0.4444444444444444,\"#bd3786\"],[0.5555555555555556,\"#d8576b\"],[0.6666666666666666,\"#ed7953\"],[0.7777777777777778,\"#fb9f3a\"],[0.8888888888888888,\"#fdca26\"],[1.0,\"#f0f921\"]]}],\"heatmap\":[{\"type\":\"heatmap\",\"colorbar\":{\"outlinewidth\":0,\"ticks\":\"\"},\"colorscale\":[[0.0,\"#0d0887\"],[0.1111111111111111,\"#46039f\"],[0.2222222222222222,\"#7201a8\"],[0.3333333333333333,\"#9c179e\"],[0.4444444444444444,\"#bd3786\"],[0.5555555555555556,\"#d8576b\"],[0.6666666666666666,\"#ed7953\"],[0.7777777777777778,\"#fb9f3a\"],[0.8888888888888888,\"#fdca26\"],[1.0,\"#f0f921\"]]}],\"heatmapgl\":[{\"type\":\"heatmapgl\",\"colorbar\":{\"outlinewidth\":0,\"ticks\":\"\"},\"colorscale\":[[0.0,\"#0d0887\"],[0.1111111111111111,\"#46039f\"],[0.2222222222222222,\"#7201a8\"],[0.3333333333333333,\"#9c179e\"],[0.4444444444444444,\"#bd3786\"],[0.5555555555555556,\"#d8576b\"],[0.6666666666666666,\"#ed7953\"],[0.7777777777777778,\"#fb9f3a\"],[0.8888888888888888,\"#fdca26\"],[1.0,\"#f0f921\"]]}],\"contourcarpet\":[{\"type\":\"contourcarpet\",\"colorbar\":{\"outlinewidth\":0,\"ticks\":\"\"}}],\"contour\":[{\"type\":\"contour\",\"colorbar\":{\"outlinewidth\":0,\"ticks\":\"\"},\"colorscale\":[[0.0,\"#0d0887\"],[0.1111111111111111,\"#46039f\"],[0.2222222222222222,\"#7201a8\"],[0.3333333333333333,\"#9c179e\"],[0.4444444444444444,\"#bd3786\"],[0.5555555555555556,\"#d8576b\"],[0.6666666666666666,\"#ed7953\"],[0.7777777777777778,\"#fb9f3a\"],[0.8888888888888888,\"#fdca26\"],[1.0,\"#f0f921\"]]}],\"surface\":[{\"type\":\"surface\",\"colorbar\":{\"outlinewidth\":0,\"ticks\":\"\"},\"colorscale\":[[0.0,\"#0d0887\"],[0.1111111111111111,\"#46039f\"],[0.2222222222222222,\"#7201a8\"],[0.3333333333333333,\"#9c179e\"],[0.4444444444444444,\"#bd3786\"],[0.5555555555555556,\"#d8576b\"],[0.6666666666666666,\"#ed7953\"],[0.7777777777777778,\"#fb9f3a\"],[0.8888888888888888,\"#fdca26\"],[1.0,\"#f0f921\"]]}],\"mesh3d\":[{\"type\":\"mesh3d\",\"colorbar\":{\"outlinewidth\":0,\"ticks\":\"\"}}],\"scatter\":[{\"fillpattern\":{\"fillmode\":\"overlay\",\"size\":10,\"solidity\":0.2},\"type\":\"scatter\"}],\"parcoords\":[{\"type\":\"parcoords\",\"line\":{\"colorbar\":{\"outlinewidth\":0,\"ticks\":\"\"}}}],\"scatterpolargl\":[{\"type\":\"scatterpolargl\",\"marker\":{\"colorbar\":{\"outlinewidth\":0,\"ticks\":\"\"}}}],\"bar\":[{\"error_x\":{\"color\":\"#2a3f5f\"},\"error_y\":{\"color\":\"#2a3f5f\"},\"marker\":{\"line\":{\"color\":\"#E5ECF6\",\"width\":0.5},\"pattern\":{\"fillmode\":\"overlay\",\"size\":10,\"solidity\":0.2}},\"type\":\"bar\"}],\"scattergeo\":[{\"type\":\"scattergeo\",\"marker\":{\"colorbar\":{\"outlinewidth\":0,\"ticks\":\"\"}}}],\"scatterpolar\":[{\"type\":\"scatterpolar\",\"marker\":{\"colorbar\":{\"outlinewidth\":0,\"ticks\":\"\"}}}],\"histogram\":[{\"marker\":{\"pattern\":{\"fillmode\":\"overlay\",\"size\":10,\"solidity\":0.2}},\"type\":\"histogram\"}],\"scattergl\":[{\"type\":\"scattergl\",\"marker\":{\"colorbar\":{\"outlinewidth\":0,\"ticks\":\"\"}}}],\"scatter3d\":[{\"type\":\"scatter3d\",\"line\":{\"colorbar\":{\"outlinewidth\":0,\"ticks\":\"\"}},\"marker\":{\"colorbar\":{\"outlinewidth\":0,\"ticks\":\"\"}}}],\"scattermapbox\":[{\"type\":\"scattermapbox\",\"marker\":{\"colorbar\":{\"outlinewidth\":0,\"ticks\":\"\"}}}],\"scatterternary\":[{\"type\":\"scatterternary\",\"marker\":{\"colorbar\":{\"outlinewidth\":0,\"ticks\":\"\"}}}],\"scattercarpet\":[{\"type\":\"scattercarpet\",\"marker\":{\"colorbar\":{\"outlinewidth\":0,\"ticks\":\"\"}}}],\"carpet\":[{\"aaxis\":{\"endlinecolor\":\"#2a3f5f\",\"gridcolor\":\"white\",\"linecolor\":\"white\",\"minorgridcolor\":\"white\",\"startlinecolor\":\"#2a3f5f\"},\"baxis\":{\"endlinecolor\":\"#2a3f5f\",\"gridcolor\":\"white\",\"linecolor\":\"white\",\"minorgridcolor\":\"white\",\"startlinecolor\":\"#2a3f5f\"},\"type\":\"carpet\"}],\"table\":[{\"cells\":{\"fill\":{\"color\":\"#EBF0F8\"},\"line\":{\"color\":\"white\"}},\"header\":{\"fill\":{\"color\":\"#C8D4E3\"},\"line\":{\"color\":\"white\"}},\"type\":\"table\"}],\"barpolar\":[{\"marker\":{\"line\":{\"color\":\"#E5ECF6\",\"width\":0.5},\"pattern\":{\"fillmode\":\"overlay\",\"size\":10,\"solidity\":0.2}},\"type\":\"barpolar\"}],\"pie\":[{\"automargin\":true,\"type\":\"pie\"}]},\"layout\":{\"autotypenumbers\":\"strict\",\"colorway\":[\"#636efa\",\"#EF553B\",\"#00cc96\",\"#ab63fa\",\"#FFA15A\",\"#19d3f3\",\"#FF6692\",\"#B6E880\",\"#FF97FF\",\"#FECB52\"],\"font\":{\"color\":\"#2a3f5f\"},\"hovermode\":\"closest\",\"hoverlabel\":{\"align\":\"left\"},\"paper_bgcolor\":\"white\",\"plot_bgcolor\":\"#E5ECF6\",\"polar\":{\"bgcolor\":\"#E5ECF6\",\"angularaxis\":{\"gridcolor\":\"white\",\"linecolor\":\"white\",\"ticks\":\"\"},\"radialaxis\":{\"gridcolor\":\"white\",\"linecolor\":\"white\",\"ticks\":\"\"}},\"ternary\":{\"bgcolor\":\"#E5ECF6\",\"aaxis\":{\"gridcolor\":\"white\",\"linecolor\":\"white\",\"ticks\":\"\"},\"baxis\":{\"gridcolor\":\"white\",\"linecolor\":\"white\",\"ticks\":\"\"},\"caxis\":{\"gridcolor\":\"white\",\"linecolor\":\"white\",\"ticks\":\"\"}},\"coloraxis\":{\"colorbar\":{\"outlinewidth\":0,\"ticks\":\"\"}},\"colorscale\":{\"sequential\":[[0.0,\"#0d0887\"],[0.1111111111111111,\"#46039f\"],[0.2222222222222222,\"#7201a8\"],[0.3333333333333333,\"#9c179e\"],[0.4444444444444444,\"#bd3786\"],[0.5555555555555556,\"#d8576b\"],[0.6666666666666666,\"#ed7953\"],[0.7777777777777778,\"#fb9f3a\"],[0.8888888888888888,\"#fdca26\"],[1.0,\"#f0f921\"]],\"sequentialminus\":[[0.0,\"#0d0887\"],[0.1111111111111111,\"#46039f\"],[0.2222222222222222,\"#7201a8\"],[0.3333333333333333,\"#9c179e\"],[0.4444444444444444,\"#bd3786\"],[0.5555555555555556,\"#d8576b\"],[0.6666666666666666,\"#ed7953\"],[0.7777777777777778,\"#fb9f3a\"],[0.8888888888888888,\"#fdca26\"],[1.0,\"#f0f921\"]],\"diverging\":[[0,\"#8e0152\"],[0.1,\"#c51b7d\"],[0.2,\"#de77ae\"],[0.3,\"#f1b6da\"],[0.4,\"#fde0ef\"],[0.5,\"#f7f7f7\"],[0.6,\"#e6f5d0\"],[0.7,\"#b8e186\"],[0.8,\"#7fbc41\"],[0.9,\"#4d9221\"],[1,\"#276419\"]]},\"xaxis\":{\"gridcolor\":\"white\",\"linecolor\":\"white\",\"ticks\":\"\",\"title\":{\"standoff\":15},\"zerolinecolor\":\"white\",\"automargin\":true,\"zerolinewidth\":2},\"yaxis\":{\"gridcolor\":\"white\",\"linecolor\":\"white\",\"ticks\":\"\",\"title\":{\"standoff\":15},\"zerolinecolor\":\"white\",\"automargin\":true,\"zerolinewidth\":2},\"scene\":{\"xaxis\":{\"backgroundcolor\":\"#E5ECF6\",\"gridcolor\":\"white\",\"linecolor\":\"white\",\"showbackground\":true,\"ticks\":\"\",\"zerolinecolor\":\"white\",\"gridwidth\":2},\"yaxis\":{\"backgroundcolor\":\"#E5ECF6\",\"gridcolor\":\"white\",\"linecolor\":\"white\",\"showbackground\":true,\"ticks\":\"\",\"zerolinecolor\":\"white\",\"gridwidth\":2},\"zaxis\":{\"backgroundcolor\":\"#E5ECF6\",\"gridcolor\":\"white\",\"linecolor\":\"white\",\"showbackground\":true,\"ticks\":\"\",\"zerolinecolor\":\"white\",\"gridwidth\":2}},\"shapedefaults\":{\"line\":{\"color\":\"#2a3f5f\"}},\"annotationdefaults\":{\"arrowcolor\":\"#2a3f5f\",\"arrowhead\":0,\"arrowwidth\":1},\"geo\":{\"bgcolor\":\"white\",\"landcolor\":\"#E5ECF6\",\"subunitcolor\":\"white\",\"showland\":true,\"showlakes\":true,\"lakecolor\":\"white\"},\"title\":{\"x\":0.05},\"mapbox\":{\"style\":\"light\"}}},\"xaxis\":{\"anchor\":\"y\",\"domain\":[0.0,1.0],\"title\":{\"text\":\"value\"}},\"yaxis\":{\"anchor\":\"x\",\"domain\":[0.0,0.7326],\"title\":{\"text\":\"count\"}},\"xaxis2\":{\"anchor\":\"y2\",\"domain\":[0.0,1.0],\"matches\":\"x\",\"showticklabels\":false,\"showgrid\":true},\"yaxis2\":{\"anchor\":\"x2\",\"domain\":[0.7426,1.0],\"matches\":\"y2\",\"showticklabels\":false,\"showline\":false,\"ticks\":\"\",\"showgrid\":false},\"legend\":{\"title\":{\"text\":\"variable\"},\"tracegroupgap\":0},\"title\":{\"text\":\"Quantity - With Outliers\"},\"barmode\":\"relative\"},                        {\"responsive\": true}                    ).then(function(){\n",
              "                            \n",
              "var gd = document.getElementById('84f3f068-5ec9-4f56-9c6c-35ef9c15417d');\n",
              "var x = new MutationObserver(function (mutations, observer) {{\n",
              "        var display = window.getComputedStyle(gd).display;\n",
              "        if (!display || display === 'none') {{\n",
              "            console.log([gd, 'removed!']);\n",
              "            Plotly.purge(gd);\n",
              "            observer.disconnect();\n",
              "        }}\n",
              "}});\n",
              "\n",
              "// Listen for the removal of the full notebook cells\n",
              "var notebookContainer = gd.closest('#notebook-container');\n",
              "if (notebookContainer) {{\n",
              "    x.observe(notebookContainer, {childList: true});\n",
              "}}\n",
              "\n",
              "// Listen for the clearing of the current output cell\n",
              "var outputEl = gd.closest('.output');\n",
              "if (outputEl) {{\n",
              "    x.observe(outputEl, {childList: true});\n",
              "}}\n",
              "\n",
              "                        })                };                            </script>        </div>\n",
              "</body>\n",
              "</html>"
            ]
          },
          "metadata": {}
        },
        {
          "output_type": "display_data",
          "data": {
            "text/html": [
              "<html>\n",
              "<head><meta charset=\"utf-8\" /></head>\n",
              "<body>\n",
              "    <div>            <script src=\"https://cdnjs.cloudflare.com/ajax/libs/mathjax/2.7.5/MathJax.js?config=TeX-AMS-MML_SVG\"></script><script type=\"text/javascript\">if (window.MathJax && window.MathJax.Hub && && window.MathJax.Hub.Config) {window.MathJax.Hub.Config({SVG: {font: \"STIX-Web\"}});}</script>                <script type=\"text/javascript\">window.PlotlyConfig = {MathJaxConfig: 'local'};</script>\n",
              "        <script src=\"https://cdn.plot.ly/plotly-2.12.1.min.js\"></script>                <div id=\"487bf30e-73fb-4c30-93f6-d628d2908bd0\" class=\"plotly-graph-div\" style=\"height:525px; width:100%;\"></div>            <script type=\"text/javascript\">                                    window.PLOTLYENV=window.PLOTLYENV || {};                                    if (document.getElementById(\"487bf30e-73fb-4c30-93f6-d628d2908bd0\")) {                    Plotly.newPlot(                        \"487bf30e-73fb-4c30-93f6-d628d2908bd0\",                        [{\"alignmentgroup\":\"True\",\"bingroup\":\"x\",\"hovertemplate\":\"variable=Quantity<br>value=%{x}<br>count=%{y}<extra></extra>\",\"legendgroup\":\"Quantity\",\"marker\":{\"color\":\"#636efa\",\"pattern\":{\"shape\":\"\"}},\"name\":\"Quantity\",\"offsetgroup\":\"Quantity\",\"orientation\":\"v\",\"showlegend\":true,\"x\":[6,3,48,12,12,1,6,12,16,1,1,96,12,6,1,16,1,12,6,8,1,3,3,2,1,2,25,100,1,7,12,1,25,100,6,1,5,30,1,12,1,-13,1,24,3,6,10,1,12,2,2,12,2,1,4,1,1,3,1,1,3,2,2,2,3,1,10,1,24,24,4,1,10,3,3,1,3,12,1,1,24,2,24,12,2,36,1,24,1,2,8,32,36,2,12,3,9,6,1,10,10,25,12,8,-2,1,6,2,2,1,18,6,1,-12,6,1,1,12,6,3,2,2,1,1,16,25,12,20,20,6,2,26,10,5,1,12,3,3,1,12,2,2,2,75,2,6,3,40,2,1,8,1,2,2,2,1,3,2,12,3,12,12,-1,2,1,1,1,3,9,6,3,12,48,8,5,3,6,1,1,12,2,3,10,1,12,10,4,12,1,12,1,-26,48,2,1,2,1,24,2,24,50,1,12,1,7,36,6,10,10,2,1,6,1,12,2,24,8,6,1,1,2,2,12,6,12,6,2,16,2,1,1,2,2,1,2,10,1,2,6,1,20,4,3,6,1,-6,6,8,12,3,1,1,8,1,2,12,3,2,1,6,6,2,1,1,1,4,12,3,2,1,2,6,4,1,5,-1,2,1,2,12,36,1,24,2,6,4,4,1,6,4,12,12,28,12,6,48,2,1,-2,1,6,2,1,1,1,2,-1,2,24,12,1,2,1,4,1,10,1,3,1,14,12,1,1,1,2,1,1,24,1,3,72,3,2,1,25,1,2,2,12,4,6,9,6,1,1,8,6,2,4,3,4,1,2,1,8,1,5,12,2,2,1,12,10,48,10,12,6,6,2,1,4,12,1,1,1,6,1,3,72,90,7,6,2,4,18,2,1,1,4,1,10,6,1,2,6,1,16,2,10,25,1,1,4,25,1,1,6,2,1,2,12,1,2,12,6,2,2,-3,10,4,3,2,1,1,2,12,-4,24,1,1,4,3,1,10,2,1,12,6,72,2,6,24,1,1,10,1,4,6,1,3,96,96,4,1,-1,12,1,2,1,2,24,12,12,12,12,12,-12,14,2,1,2,3,2,1,24,1,1,5,12,1,2,1,12,12,1,4,1,1,2,12,1,1,2,96,1,36,10,12,2,36,48,3,1,36,1,5,24,3,1,12,1,1,12,1,4,1,1,12,12,1,1,1,72,2,1,24,6,1,3,12,2,6,4,2,2,24,6,2,24,1,3,-2,2,48,3,4,12,6,4,8,12,3,2,1,2,12,2,1,12,1,2,2,4,2,12,1,5,24,2,12,1,100,1,24,6,7,6,1,1,5,8,1,96,12,4,40,1,8,24,8,2,16,12,2,16,1,12,1,1,1,1,24,12,6,3,1,48,12,60,1,72,5,6,2,2,12,3,6,2,3,4,1,1,24,48,24,12,1,1,3,24,12,12,2,1,4,10,12,6,2,-1,10,8,3,12,16,1,4,1,1,4,1,2,12,12,7,25,6,2,10,1,6,6,12,1,96,4,3,4,16,2,1,1,2,1,48,42,2,12,24,3,1,3,-1,2,2,1,10,1,1,1,1,1,6,1,4,12,2,20,1,6,25,80,3,1,1,3,1,8,1,1,12,64,1,10,1,2,12,1,5,24,12,2,4,2,12,12,24,3,1,7,-1,72,1,6,1,3,4,12,18,2,24,6,1,6,1,8,48,3,2,6,48,6,1,6,12,12,1,2,12,6,1,12,1,2,12,1,2,6,6,20,20,1,1,1,3,1,4,2,12,24,6,1,1,3,12,6,2,1,4,12,4,10,12,24,4,25,1,2,8,1,3,1,1,1,3,4,3,1,1,10,4,5,12,1,1,3,2,1,30,1,1,1,8,1,32,1,1,1,12,1,12,3,2,1,2,1,96,-10,6,8,6,2,2,24,1,2,6,48,25,8,2,10,7,5,1,24,4,12,5,3,3,4,16,12,8,10,12,1,3,3,6,1,1,25,5,2,2,5,6,1,20,4,1,2,2,1,8,1,3,1,24,6,6,2,2,1,4,2,3,12,12,4,12,2,2,1,1,4,100,2,72,12,6,2,24,1,5,1,6,16,1,2,24,6,2,-1,1,6,20,2,4,3,1,24,2,3,6,12,6,100,1,10,1,2,6,1,1,3,10,6,4,2,2,2,12,30,1,12,10,2,12,1,8,48,2,4,1,6,1,6,1,4,12,2,3,1,1,4,5,1,1,8,1],\"xaxis\":\"x\",\"yaxis\":\"y\",\"type\":\"histogram\"},{\"alignmentgroup\":\"True\",\"hovertemplate\":\"variable=Quantity<br>value=%{x}<extra></extra>\",\"legendgroup\":\"Quantity\",\"marker\":{\"color\":\"#636efa\"},\"name\":\"Quantity\",\"notched\":true,\"offsetgroup\":\"Quantity\",\"showlegend\":false,\"x\":[6,3,48,12,12,1,6,12,16,1,1,96,12,6,1,16,1,12,6,8,1,3,3,2,1,2,25,100,1,7,12,1,25,100,6,1,5,30,1,12,1,-13,1,24,3,6,10,1,12,2,2,12,2,1,4,1,1,3,1,1,3,2,2,2,3,1,10,1,24,24,4,1,10,3,3,1,3,12,1,1,24,2,24,12,2,36,1,24,1,2,8,32,36,2,12,3,9,6,1,10,10,25,12,8,-2,1,6,2,2,1,18,6,1,-12,6,1,1,12,6,3,2,2,1,1,16,25,12,20,20,6,2,26,10,5,1,12,3,3,1,12,2,2,2,75,2,6,3,40,2,1,8,1,2,2,2,1,3,2,12,3,12,12,-1,2,1,1,1,3,9,6,3,12,48,8,5,3,6,1,1,12,2,3,10,1,12,10,4,12,1,12,1,-26,48,2,1,2,1,24,2,24,50,1,12,1,7,36,6,10,10,2,1,6,1,12,2,24,8,6,1,1,2,2,12,6,12,6,2,16,2,1,1,2,2,1,2,10,1,2,6,1,20,4,3,6,1,-6,6,8,12,3,1,1,8,1,2,12,3,2,1,6,6,2,1,1,1,4,12,3,2,1,2,6,4,1,5,-1,2,1,2,12,36,1,24,2,6,4,4,1,6,4,12,12,28,12,6,48,2,1,-2,1,6,2,1,1,1,2,-1,2,24,12,1,2,1,4,1,10,1,3,1,14,12,1,1,1,2,1,1,24,1,3,72,3,2,1,25,1,2,2,12,4,6,9,6,1,1,8,6,2,4,3,4,1,2,1,8,1,5,12,2,2,1,12,10,48,10,12,6,6,2,1,4,12,1,1,1,6,1,3,72,90,7,6,2,4,18,2,1,1,4,1,10,6,1,2,6,1,16,2,10,25,1,1,4,25,1,1,6,2,1,2,12,1,2,12,6,2,2,-3,10,4,3,2,1,1,2,12,-4,24,1,1,4,3,1,10,2,1,12,6,72,2,6,24,1,1,10,1,4,6,1,3,96,96,4,1,-1,12,1,2,1,2,24,12,12,12,12,12,-12,14,2,1,2,3,2,1,24,1,1,5,12,1,2,1,12,12,1,4,1,1,2,12,1,1,2,96,1,36,10,12,2,36,48,3,1,36,1,5,24,3,1,12,1,1,12,1,4,1,1,12,12,1,1,1,72,2,1,24,6,1,3,12,2,6,4,2,2,24,6,2,24,1,3,-2,2,48,3,4,12,6,4,8,12,3,2,1,2,12,2,1,12,1,2,2,4,2,12,1,5,24,2,12,1,100,1,24,6,7,6,1,1,5,8,1,96,12,4,40,1,8,24,8,2,16,12,2,16,1,12,1,1,1,1,24,12,6,3,1,48,12,60,1,72,5,6,2,2,12,3,6,2,3,4,1,1,24,48,24,12,1,1,3,24,12,12,2,1,4,10,12,6,2,-1,10,8,3,12,16,1,4,1,1,4,1,2,12,12,7,25,6,2,10,1,6,6,12,1,96,4,3,4,16,2,1,1,2,1,48,42,2,12,24,3,1,3,-1,2,2,1,10,1,1,1,1,1,6,1,4,12,2,20,1,6,25,80,3,1,1,3,1,8,1,1,12,64,1,10,1,2,12,1,5,24,12,2,4,2,12,12,24,3,1,7,-1,72,1,6,1,3,4,12,18,2,24,6,1,6,1,8,48,3,2,6,48,6,1,6,12,12,1,2,12,6,1,12,1,2,12,1,2,6,6,20,20,1,1,1,3,1,4,2,12,24,6,1,1,3,12,6,2,1,4,12,4,10,12,24,4,25,1,2,8,1,3,1,1,1,3,4,3,1,1,10,4,5,12,1,1,3,2,1,30,1,1,1,8,1,32,1,1,1,12,1,12,3,2,1,2,1,96,-10,6,8,6,2,2,24,1,2,6,48,25,8,2,10,7,5,1,24,4,12,5,3,3,4,16,12,8,10,12,1,3,3,6,1,1,25,5,2,2,5,6,1,20,4,1,2,2,1,8,1,3,1,24,6,6,2,2,1,4,2,3,12,12,4,12,2,2,1,1,4,100,2,72,12,6,2,24,1,5,1,6,16,1,2,24,6,2,-1,1,6,20,2,4,3,1,24,2,3,6,12,6,100,1,10,1,2,6,1,1,3,10,6,4,2,2,2,12,30,1,12,10,2,12,1,8,48,2,4,1,6,1,6,1,4,12,2,3,1,1,4,5,1,1,8,1],\"xaxis\":\"x2\",\"yaxis\":\"y2\",\"type\":\"box\"}],                        {\"template\":{\"data\":{\"histogram2dcontour\":[{\"type\":\"histogram2dcontour\",\"colorbar\":{\"outlinewidth\":0,\"ticks\":\"\"},\"colorscale\":[[0.0,\"#0d0887\"],[0.1111111111111111,\"#46039f\"],[0.2222222222222222,\"#7201a8\"],[0.3333333333333333,\"#9c179e\"],[0.4444444444444444,\"#bd3786\"],[0.5555555555555556,\"#d8576b\"],[0.6666666666666666,\"#ed7953\"],[0.7777777777777778,\"#fb9f3a\"],[0.8888888888888888,\"#fdca26\"],[1.0,\"#f0f921\"]]}],\"choropleth\":[{\"type\":\"choropleth\",\"colorbar\":{\"outlinewidth\":0,\"ticks\":\"\"}}],\"histogram2d\":[{\"type\":\"histogram2d\",\"colorbar\":{\"outlinewidth\":0,\"ticks\":\"\"},\"colorscale\":[[0.0,\"#0d0887\"],[0.1111111111111111,\"#46039f\"],[0.2222222222222222,\"#7201a8\"],[0.3333333333333333,\"#9c179e\"],[0.4444444444444444,\"#bd3786\"],[0.5555555555555556,\"#d8576b\"],[0.6666666666666666,\"#ed7953\"],[0.7777777777777778,\"#fb9f3a\"],[0.8888888888888888,\"#fdca26\"],[1.0,\"#f0f921\"]]}],\"heatmap\":[{\"type\":\"heatmap\",\"colorbar\":{\"outlinewidth\":0,\"ticks\":\"\"},\"colorscale\":[[0.0,\"#0d0887\"],[0.1111111111111111,\"#46039f\"],[0.2222222222222222,\"#7201a8\"],[0.3333333333333333,\"#9c179e\"],[0.4444444444444444,\"#bd3786\"],[0.5555555555555556,\"#d8576b\"],[0.6666666666666666,\"#ed7953\"],[0.7777777777777778,\"#fb9f3a\"],[0.8888888888888888,\"#fdca26\"],[1.0,\"#f0f921\"]]}],\"heatmapgl\":[{\"type\":\"heatmapgl\",\"colorbar\":{\"outlinewidth\":0,\"ticks\":\"\"},\"colorscale\":[[0.0,\"#0d0887\"],[0.1111111111111111,\"#46039f\"],[0.2222222222222222,\"#7201a8\"],[0.3333333333333333,\"#9c179e\"],[0.4444444444444444,\"#bd3786\"],[0.5555555555555556,\"#d8576b\"],[0.6666666666666666,\"#ed7953\"],[0.7777777777777778,\"#fb9f3a\"],[0.8888888888888888,\"#fdca26\"],[1.0,\"#f0f921\"]]}],\"contourcarpet\":[{\"type\":\"contourcarpet\",\"colorbar\":{\"outlinewidth\":0,\"ticks\":\"\"}}],\"contour\":[{\"type\":\"contour\",\"colorbar\":{\"outlinewidth\":0,\"ticks\":\"\"},\"colorscale\":[[0.0,\"#0d0887\"],[0.1111111111111111,\"#46039f\"],[0.2222222222222222,\"#7201a8\"],[0.3333333333333333,\"#9c179e\"],[0.4444444444444444,\"#bd3786\"],[0.5555555555555556,\"#d8576b\"],[0.6666666666666666,\"#ed7953\"],[0.7777777777777778,\"#fb9f3a\"],[0.8888888888888888,\"#fdca26\"],[1.0,\"#f0f921\"]]}],\"surface\":[{\"type\":\"surface\",\"colorbar\":{\"outlinewidth\":0,\"ticks\":\"\"},\"colorscale\":[[0.0,\"#0d0887\"],[0.1111111111111111,\"#46039f\"],[0.2222222222222222,\"#7201a8\"],[0.3333333333333333,\"#9c179e\"],[0.4444444444444444,\"#bd3786\"],[0.5555555555555556,\"#d8576b\"],[0.6666666666666666,\"#ed7953\"],[0.7777777777777778,\"#fb9f3a\"],[0.8888888888888888,\"#fdca26\"],[1.0,\"#f0f921\"]]}],\"mesh3d\":[{\"type\":\"mesh3d\",\"colorbar\":{\"outlinewidth\":0,\"ticks\":\"\"}}],\"scatter\":[{\"fillpattern\":{\"fillmode\":\"overlay\",\"size\":10,\"solidity\":0.2},\"type\":\"scatter\"}],\"parcoords\":[{\"type\":\"parcoords\",\"line\":{\"colorbar\":{\"outlinewidth\":0,\"ticks\":\"\"}}}],\"scatterpolargl\":[{\"type\":\"scatterpolargl\",\"marker\":{\"colorbar\":{\"outlinewidth\":0,\"ticks\":\"\"}}}],\"bar\":[{\"error_x\":{\"color\":\"#2a3f5f\"},\"error_y\":{\"color\":\"#2a3f5f\"},\"marker\":{\"line\":{\"color\":\"#E5ECF6\",\"width\":0.5},\"pattern\":{\"fillmode\":\"overlay\",\"size\":10,\"solidity\":0.2}},\"type\":\"bar\"}],\"scattergeo\":[{\"type\":\"scattergeo\",\"marker\":{\"colorbar\":{\"outlinewidth\":0,\"ticks\":\"\"}}}],\"scatterpolar\":[{\"type\":\"scatterpolar\",\"marker\":{\"colorbar\":{\"outlinewidth\":0,\"ticks\":\"\"}}}],\"histogram\":[{\"marker\":{\"pattern\":{\"fillmode\":\"overlay\",\"size\":10,\"solidity\":0.2}},\"type\":\"histogram\"}],\"scattergl\":[{\"type\":\"scattergl\",\"marker\":{\"colorbar\":{\"outlinewidth\":0,\"ticks\":\"\"}}}],\"scatter3d\":[{\"type\":\"scatter3d\",\"line\":{\"colorbar\":{\"outlinewidth\":0,\"ticks\":\"\"}},\"marker\":{\"colorbar\":{\"outlinewidth\":0,\"ticks\":\"\"}}}],\"scattermapbox\":[{\"type\":\"scattermapbox\",\"marker\":{\"colorbar\":{\"outlinewidth\":0,\"ticks\":\"\"}}}],\"scatterternary\":[{\"type\":\"scatterternary\",\"marker\":{\"colorbar\":{\"outlinewidth\":0,\"ticks\":\"\"}}}],\"scattercarpet\":[{\"type\":\"scattercarpet\",\"marker\":{\"colorbar\":{\"outlinewidth\":0,\"ticks\":\"\"}}}],\"carpet\":[{\"aaxis\":{\"endlinecolor\":\"#2a3f5f\",\"gridcolor\":\"white\",\"linecolor\":\"white\",\"minorgridcolor\":\"white\",\"startlinecolor\":\"#2a3f5f\"},\"baxis\":{\"endlinecolor\":\"#2a3f5f\",\"gridcolor\":\"white\",\"linecolor\":\"white\",\"minorgridcolor\":\"white\",\"startlinecolor\":\"#2a3f5f\"},\"type\":\"carpet\"}],\"table\":[{\"cells\":{\"fill\":{\"color\":\"#EBF0F8\"},\"line\":{\"color\":\"white\"}},\"header\":{\"fill\":{\"color\":\"#C8D4E3\"},\"line\":{\"color\":\"white\"}},\"type\":\"table\"}],\"barpolar\":[{\"marker\":{\"line\":{\"color\":\"#E5ECF6\",\"width\":0.5},\"pattern\":{\"fillmode\":\"overlay\",\"size\":10,\"solidity\":0.2}},\"type\":\"barpolar\"}],\"pie\":[{\"automargin\":true,\"type\":\"pie\"}]},\"layout\":{\"autotypenumbers\":\"strict\",\"colorway\":[\"#636efa\",\"#EF553B\",\"#00cc96\",\"#ab63fa\",\"#FFA15A\",\"#19d3f3\",\"#FF6692\",\"#B6E880\",\"#FF97FF\",\"#FECB52\"],\"font\":{\"color\":\"#2a3f5f\"},\"hovermode\":\"closest\",\"hoverlabel\":{\"align\":\"left\"},\"paper_bgcolor\":\"white\",\"plot_bgcolor\":\"#E5ECF6\",\"polar\":{\"bgcolor\":\"#E5ECF6\",\"angularaxis\":{\"gridcolor\":\"white\",\"linecolor\":\"white\",\"ticks\":\"\"},\"radialaxis\":{\"gridcolor\":\"white\",\"linecolor\":\"white\",\"ticks\":\"\"}},\"ternary\":{\"bgcolor\":\"#E5ECF6\",\"aaxis\":{\"gridcolor\":\"white\",\"linecolor\":\"white\",\"ticks\":\"\"},\"baxis\":{\"gridcolor\":\"white\",\"linecolor\":\"white\",\"ticks\":\"\"},\"caxis\":{\"gridcolor\":\"white\",\"linecolor\":\"white\",\"ticks\":\"\"}},\"coloraxis\":{\"colorbar\":{\"outlinewidth\":0,\"ticks\":\"\"}},\"colorscale\":{\"sequential\":[[0.0,\"#0d0887\"],[0.1111111111111111,\"#46039f\"],[0.2222222222222222,\"#7201a8\"],[0.3333333333333333,\"#9c179e\"],[0.4444444444444444,\"#bd3786\"],[0.5555555555555556,\"#d8576b\"],[0.6666666666666666,\"#ed7953\"],[0.7777777777777778,\"#fb9f3a\"],[0.8888888888888888,\"#fdca26\"],[1.0,\"#f0f921\"]],\"sequentialminus\":[[0.0,\"#0d0887\"],[0.1111111111111111,\"#46039f\"],[0.2222222222222222,\"#7201a8\"],[0.3333333333333333,\"#9c179e\"],[0.4444444444444444,\"#bd3786\"],[0.5555555555555556,\"#d8576b\"],[0.6666666666666666,\"#ed7953\"],[0.7777777777777778,\"#fb9f3a\"],[0.8888888888888888,\"#fdca26\"],[1.0,\"#f0f921\"]],\"diverging\":[[0,\"#8e0152\"],[0.1,\"#c51b7d\"],[0.2,\"#de77ae\"],[0.3,\"#f1b6da\"],[0.4,\"#fde0ef\"],[0.5,\"#f7f7f7\"],[0.6,\"#e6f5d0\"],[0.7,\"#b8e186\"],[0.8,\"#7fbc41\"],[0.9,\"#4d9221\"],[1,\"#276419\"]]},\"xaxis\":{\"gridcolor\":\"white\",\"linecolor\":\"white\",\"ticks\":\"\",\"title\":{\"standoff\":15},\"zerolinecolor\":\"white\",\"automargin\":true,\"zerolinewidth\":2},\"yaxis\":{\"gridcolor\":\"white\",\"linecolor\":\"white\",\"ticks\":\"\",\"title\":{\"standoff\":15},\"zerolinecolor\":\"white\",\"automargin\":true,\"zerolinewidth\":2},\"scene\":{\"xaxis\":{\"backgroundcolor\":\"#E5ECF6\",\"gridcolor\":\"white\",\"linecolor\":\"white\",\"showbackground\":true,\"ticks\":\"\",\"zerolinecolor\":\"white\",\"gridwidth\":2},\"yaxis\":{\"backgroundcolor\":\"#E5ECF6\",\"gridcolor\":\"white\",\"linecolor\":\"white\",\"showbackground\":true,\"ticks\":\"\",\"zerolinecolor\":\"white\",\"gridwidth\":2},\"zaxis\":{\"backgroundcolor\":\"#E5ECF6\",\"gridcolor\":\"white\",\"linecolor\":\"white\",\"showbackground\":true,\"ticks\":\"\",\"zerolinecolor\":\"white\",\"gridwidth\":2}},\"shapedefaults\":{\"line\":{\"color\":\"#2a3f5f\"}},\"annotationdefaults\":{\"arrowcolor\":\"#2a3f5f\",\"arrowhead\":0,\"arrowwidth\":1},\"geo\":{\"bgcolor\":\"white\",\"landcolor\":\"#E5ECF6\",\"subunitcolor\":\"white\",\"showland\":true,\"showlakes\":true,\"lakecolor\":\"white\"},\"title\":{\"x\":0.05},\"mapbox\":{\"style\":\"light\"}}},\"xaxis\":{\"anchor\":\"y\",\"domain\":[0.0,1.0],\"title\":{\"text\":\"value\"}},\"yaxis\":{\"anchor\":\"x\",\"domain\":[0.0,0.7326],\"title\":{\"text\":\"count\"}},\"xaxis2\":{\"anchor\":\"y2\",\"domain\":[0.0,1.0],\"matches\":\"x\",\"showticklabels\":false,\"showgrid\":true},\"yaxis2\":{\"anchor\":\"x2\",\"domain\":[0.7426,1.0],\"matches\":\"y2\",\"showticklabels\":false,\"showline\":false,\"ticks\":\"\",\"showgrid\":false},\"legend\":{\"title\":{\"text\":\"variable\"},\"tracegroupgap\":0},\"title\":{\"text\":\"Quantity - Without Outliers\"},\"barmode\":\"relative\"},                        {\"responsive\": true}                    ).then(function(){\n",
              "                            \n",
              "var gd = document.getElementById('487bf30e-73fb-4c30-93f6-d628d2908bd0');\n",
              "var x = new MutationObserver(function (mutations, observer) {{\n",
              "        var display = window.getComputedStyle(gd).display;\n",
              "        if (!display || display === 'none') {{\n",
              "            console.log([gd, 'removed!']);\n",
              "            Plotly.purge(gd);\n",
              "            observer.disconnect();\n",
              "        }}\n",
              "}});\n",
              "\n",
              "// Listen for the removal of the full notebook cells\n",
              "var notebookContainer = gd.closest('#notebook-container');\n",
              "if (notebookContainer) {{\n",
              "    x.observe(notebookContainer, {childList: true});\n",
              "}}\n",
              "\n",
              "// Listen for the clearing of the current output cell\n",
              "var outputEl = gd.closest('.output');\n",
              "if (outputEl) {{\n",
              "    x.observe(outputEl, {childList: true});\n",
              "}}\n",
              "\n",
              "                        })                };                            </script>        </div>\n",
              "</body>\n",
              "</html>"
            ]
          },
          "metadata": {}
        }
      ]
    },
    {
      "cell_type": "markdown",
      "source": [
        "Se grafican las cantidad de los distintos productos comprados por cada boleta. Así los datos se concentran en las cantidades más bajas porque la gente tiende a comprar pocas unidades de productos típicos del retail. A su vez, no existen valor en 0, ya que si están en el dataset deberían estar en al menos una boleta y por ende aparecer como mínimo una vez. Existen outliers, los cuales representan compras de centenares de unidades de un producto en dicha boleta. El promedio de unidades comprada de cada producto por boleta es aproximadamente 10 (considerando outliers). Por otra parte, no existen datos nulos, pero si cantidades negativos, las cuales claramente representan un error en el dataset."
      ],
      "metadata": {
        "id": "D_xKbeeJ6wen"
      }
    },
    {
      "cell_type": "markdown",
      "source": [
        "#### InvoiceDate profile"
      ],
      "metadata": {
        "id": "vXaVB5CG6uH_"
      }
    },
    {
      "cell_type": "code",
      "source": [
        "profile_serie(df_retail['InvoiceDate'])"
      ],
      "metadata": {
        "colab": {
          "base_uri": "https://localhost:8080/",
          "height": 0
        },
        "id": "XvlsKe476yLH",
        "outputId": "26868504-d7cf-4253-8cce-72272cdb3c00"
      },
      "execution_count": 146,
      "outputs": [
        {
          "output_type": "display_data",
          "data": {
            "text/plain": [
              "<IPython.core.display.Markdown object>"
            ],
            "text/markdown": "## InvoiceDate Profile"
          },
          "metadata": {}
        },
        {
          "output_type": "display_data",
          "data": {
            "text/plain": [
              "Type                                     datetime64[ns]\n",
              "Number of observations                           525461\n",
              "Mean                      2010-06-28 11:37:36.845017856\n",
              "Min                                 2009-12-01 07:45:00\n",
              "25%                                 2010-03-21 12:20:00\n",
              "50%                                 2010-07-06 09:51:00\n",
              "75%                                 2010-10-15 12:45:00\n",
              "Max                                 2010-12-09 20:01:00\n",
              "                                                       \n",
              "Missing cells                                         0\n",
              "Missing cells (%)                                 0.0 %\n",
              "Duplicate rows                                   520400\n",
              "Duplicate rows (%)                              99.04 %\n",
              "Total size in memory                      4203816 bytes\n",
              "dtype: object"
            ]
          },
          "metadata": {}
        },
        {
          "output_type": "display_data",
          "data": {
            "text/html": [
              "<html>\n",
              "<head><meta charset=\"utf-8\" /></head>\n",
              "<body>\n",
              "    <div>            <script src=\"https://cdnjs.cloudflare.com/ajax/libs/mathjax/2.7.5/MathJax.js?config=TeX-AMS-MML_SVG\"></script><script type=\"text/javascript\">if (window.MathJax && window.MathJax.Hub && && window.MathJax.Hub.Config) {window.MathJax.Hub.Config({SVG: {font: \"STIX-Web\"}});}</script>                <script type=\"text/javascript\">window.PlotlyConfig = {MathJaxConfig: 'local'};</script>\n",
              "        <script src=\"https://cdn.plot.ly/plotly-2.12.1.min.js\"></script>                <div id=\"8a726f02-9fa3-4876-9ef1-faebfc36f8ed\" class=\"plotly-graph-div\" style=\"height:525px; width:100%;\"></div>            <script type=\"text/javascript\">                                    window.PLOTLYENV=window.PLOTLYENV || {};                                    if (document.getElementById(\"8a726f02-9fa3-4876-9ef1-faebfc36f8ed\")) {                    Plotly.newPlot(                        \"8a726f02-9fa3-4876-9ef1-faebfc36f8ed\",                        [{\"alignmentgroup\":\"True\",\"bingroup\":\"x\",\"hovertemplate\":\"variable=InvoiceDate<br>value=%{x}<br>count=%{y}<extra></extra>\",\"legendgroup\":\"InvoiceDate\",\"marker\":{\"color\":\"#636efa\",\"pattern\":{\"shape\":\"\"}},\"name\":\"InvoiceDate\",\"offsetgroup\":\"InvoiceDate\",\"orientation\":\"v\",\"showlegend\":true,\"x\":[\"2010-10-14T12:54:00\",\"2010-11-07T16:29:00\",\"2010-10-03T14:08:00\",\"2010-06-11T11:45:00\",\"2009-12-20T10:08:00\",\"2010-08-01T11:23:00\",\"2010-03-26T12:53:00\",\"2010-11-16T18:07:00\",\"2010-06-27T13:16:00\",\"2010-11-26T16:31:00\",\"2010-11-16T12:22:00\",\"2010-06-04T15:50:00\",\"2009-12-02T12:28:00\",\"2010-01-18T08:58:00\",\"2010-11-17T11:33:00\",\"2010-06-04T14:59:00\",\"2010-05-16T15:39:00\",\"2009-12-10T09:49:00\",\"2010-04-29T13:54:00\",\"2010-07-29T13:55:00\",\"2010-03-30T14:29:00\",\"2009-12-03T19:13:00\",\"2010-05-07T14:28:00\",\"2010-09-12T10:30:00\",\"2010-08-02T14:02:00\",\"2010-09-24T16:06:00\",\"2009-12-10T09:49:00\",\"2010-09-19T13:05:00\",\"2010-04-07T14:10:00\",\"2010-07-22T12:13:00\",\"2010-06-21T15:13:00\",\"2010-06-17T10:47:00\",\"2010-04-30T13:41:00\",\"2010-01-27T09:44:00\",\"2010-06-03T19:47:00\",\"2010-04-29T14:16:00\",\"2010-10-21T18:01:00\",\"2010-10-03T11:52:00\",\"2009-12-10T14:50:00\",\"2010-05-04T15:48:00\",\"2010-09-28T11:50:00\",\"2010-03-25T14:22:00\",\"2010-11-28T13:23:00\",\"2010-11-04T11:55:00\",\"2010-06-29T14:11:00\",\"2010-08-25T13:05:00\",\"2010-08-12T14:53:00\",\"2010-01-26T11:24:00\",\"2009-12-18T17:15:00\",\"2010-04-29T13:54:00\",\"2010-05-27T12:24:00\",\"2010-08-31T12:48:00\",\"2010-10-11T14:05:00\",\"2010-11-21T12:29:00\",\"2010-10-29T14:12:00\",\"2010-11-09T14:13:00\",\"2010-09-07T17:19:00\",\"2010-08-18T11:34:00\",\"2010-11-15T12:43:00\",\"2010-07-09T14:58:00\",\"2010-03-26T14:16:00\",\"2010-02-14T12:22:00\",\"2010-11-21T15:56:00\",\"2010-03-22T14:30:00\",\"2010-06-06T15:01:00\",\"2010-03-07T13:48:00\",\"2010-07-26T11:46:00\",\"2010-06-07T14:46:00\",\"2010-09-14T17:50:00\",\"2009-12-09T14:20:00\",\"2010-08-04T16:07:00\",\"2010-02-21T14:57:00\",\"2010-04-28T11:54:00\",\"2010-08-06T08:57:00\",\"2010-10-18T15:27:00\",\"2010-04-27T12:20:00\",\"2010-01-18T13:15:00\",\"2010-02-02T15:49:00\",\"2010-09-23T10:45:00\",\"2010-07-25T15:44:00\",\"2010-01-14T16:16:00\",\"2009-12-16T13:49:00\",\"2010-08-26T20:07:00\",\"2010-06-28T12:04:00\",\"2010-10-13T10:46:00\",\"2010-09-27T11:41:00\",\"2010-07-16T09:05:00\",\"2010-10-18T09:28:00\",\"2010-11-03T10:47:00\",\"2010-11-04T13:04:00\",\"2010-08-15T12:40:00\",\"2010-06-08T14:10:00\",\"2010-06-29T15:17:00\",\"2010-06-28T08:28:00\",\"2010-09-27T13:22:00\",\"2010-11-07T13:30:00\",\"2010-09-14T13:32:00\",\"2009-12-14T17:16:00\",\"2010-07-25T11:31:00\",\"2010-02-04T08:56:00\",\"2010-03-10T12:17:00\",\"2009-12-09T13:22:00\",\"2010-11-24T16:16:00\",\"2010-04-16T13:34:00\",\"2010-10-14T14:18:00\",\"2010-10-26T14:00:00\",\"2010-04-15T13:03:00\",\"2010-09-24T12:39:00\",\"2010-08-09T13:10:00\",\"2009-12-10T15:56:00\",\"2010-09-02T12:53:00\",\"2009-12-15T14:34:00\",\"2009-12-16T17:34:00\",\"2010-07-01T10:41:00\",\"2010-03-26T14:51:00\",\"2010-11-02T16:20:00\",\"2010-11-02T10:38:00\",\"2010-04-25T13:49:00\",\"2010-10-07T13:21:00\",\"2010-03-30T12:36:00\",\"2010-03-28T14:53:00\",\"2009-12-15T10:36:00\",\"2010-10-05T13:14:00\",\"2010-05-06T15:09:00\",\"2010-10-12T15:46:00\",\"2010-05-27T12:31:00\",\"2010-06-22T16:28:00\",\"2010-08-09T12:28:00\",\"2010-05-10T17:09:00\",\"2010-11-28T10:33:00\",\"2010-09-16T19:17:00\",\"2010-05-05T08:53:00\",\"2010-04-22T09:54:00\",\"2010-01-14T14:48:00\",\"2009-12-10T09:49:00\",\"2010-04-28T13:34:00\",\"2010-03-26T12:53:00\",\"2010-03-29T14:53:00\",\"2010-03-05T09:09:00\",\"2010-04-27T16:45:00\",\"2010-04-27T09:30:00\",\"2010-10-01T10:33:00\",\"2010-03-02T13:09:00\",\"2009-12-14T13:19:00\",\"2010-11-14T16:32:00\",\"2010-08-23T14:38:00\",\"2010-08-24T17:21:00\",\"2010-11-09T12:47:00\",\"2010-10-21T16:30:00\",\"2010-10-28T09:29:00\",\"2010-11-16T14:15:00\",\"2010-02-03T11:58:00\",\"2010-06-09T13:08:00\",\"2009-12-06T15:48:00\",\"2010-09-09T10:50:00\",\"2010-09-02T13:27:00\",\"2010-11-12T14:28:00\",\"2010-06-17T17:41:00\",\"2010-11-30T12:05:00\",\"2010-09-02T17:52:00\",\"2010-07-28T14:54:00\",\"2010-11-02T18:08:00\",\"2010-04-13T16:33:00\",\"2010-10-31T14:40:00\",\"2009-12-01T12:52:00\",\"2010-07-02T15:55:00\",\"2010-09-02T14:33:00\",\"2009-12-06T12:17:00\",\"2010-04-07T16:13:00\",\"2010-02-22T12:05:00\",\"2010-05-24T10:44:00\",\"2010-08-18T16:54:00\",\"2010-10-04T12:36:00\",\"2010-12-06T14:36:00\",\"2010-03-19T11:10:00\",\"2010-11-03T13:13:00\",\"2010-09-16T14:34:00\",\"2010-02-28T10:25:00\",\"2010-05-20T13:41:00\",\"2010-03-25T12:43:00\",\"2010-06-07T11:32:00\",\"2010-01-28T12:36:00\",\"2010-12-09T14:09:00\",\"2010-08-08T12:35:00\",\"2010-09-27T12:50:00\",\"2010-04-16T15:55:00\",\"2010-06-22T14:21:00\",\"2010-03-03T08:42:00\",\"2010-09-29T12:41:00\",\"2010-05-13T16:49:00\",\"2010-06-01T16:06:00\",\"2010-07-06T14:38:00\",\"2010-09-28T16:12:00\",\"2010-03-10T10:25:00\",\"2010-11-02T14:02:00\",\"2009-12-05T12:36:00\",\"2010-11-25T13:29:00\",\"2010-01-07T10:57:00\",\"2010-02-23T12:26:00\",\"2010-03-03T17:18:00\",\"2010-02-01T13:25:00\",\"2010-11-01T16:45:00\",\"2010-11-16T12:22:00\",\"2010-12-06T14:51:00\",\"2010-01-06T10:17:00\",\"2010-03-26T14:01:00\",\"2010-01-14T18:56:00\",\"2010-06-17T12:21:00\",\"2010-09-21T15:46:00\",\"2010-04-28T15:00:00\",\"2010-09-23T14:47:00\",\"2010-04-19T10:43:00\",\"2010-11-09T10:35:00\",\"2009-12-23T13:00:00\",\"2010-02-02T10:06:00\",\"2010-06-30T11:32:00\",\"2010-10-20T14:42:00\",\"2010-06-02T14:48:00\",\"2010-01-28T14:31:00\",\"2010-05-30T15:58:00\",\"2010-05-25T10:14:00\",\"2010-11-07T12:03:00\",\"2010-11-01T13:33:00\",\"2010-04-27T13:48:00\",\"2009-12-17T12:04:00\",\"2010-12-07T15:28:00\",\"2010-04-20T16:00:00\",\"2010-12-06T13:41:00\",\"2009-12-17T12:32:00\",\"2010-08-04T15:52:00\",\"2010-01-04T12:57:00\",\"2010-06-09T14:13:00\",\"2010-03-18T14:14:00\",\"2010-04-06T15:10:00\",\"2010-11-24T10:30:00\",\"2010-10-18T17:11:00\",\"2010-04-09T17:13:00\",\"2010-11-29T16:45:00\",\"2010-07-02T08:26:00\",\"2010-06-15T14:42:00\",\"2010-10-11T11:34:00\",\"2010-09-02T17:52:00\",\"2010-03-10T13:08:00\",\"2010-11-01T11:35:00\",\"2010-11-09T14:13:00\",\"2009-12-04T10:57:00\",\"2010-08-11T15:46:00\",\"2010-03-25T12:39:00\",\"2010-07-05T11:54:00\",\"2010-04-13T11:43:00\",\"2010-03-07T16:12:00\",\"2010-10-11T13:49:00\",\"2010-09-30T11:45:00\",\"2009-12-03T10:20:00\",\"2010-11-28T11:33:00\",\"2010-04-26T10:31:00\",\"2010-05-18T15:13:00\",\"2010-07-19T16:10:00\",\"2010-10-14T13:09:00\",\"2010-08-22T16:07:00\",\"2010-08-31T12:41:00\",\"2009-12-02T15:08:00\",\"2010-05-04T11:51:00\",\"2010-06-04T12:23:00\",\"2010-10-06T14:34:00\",\"2010-10-24T13:57:00\",\"2010-10-12T15:46:00\",\"2010-11-07T12:04:00\",\"2010-05-24T12:25:00\",\"2010-11-11T15:49:00\",\"2010-11-22T13:02:00\",\"2010-06-25T13:35:00\",\"2009-12-11T13:52:00\",\"2010-02-21T12:43:00\",\"2010-09-24T16:06:00\",\"2010-05-06T20:01:00\",\"2010-04-28T11:55:00\",\"2010-06-08T14:52:00\",\"2010-08-12T10:12:00\",\"2010-07-15T11:44:00\",\"2010-04-07T11:04:00\",\"2010-02-07T13:30:00\",\"2010-12-08T13:18:00\",\"2010-08-15T11:22:00\",\"2010-11-22T11:37:00\",\"2010-08-31T12:35:00\",\"2010-10-07T16:14:00\",\"2010-08-19T16:19:00\",\"2010-12-06T09:58:00\",\"2010-05-20T17:57:00\",\"2010-09-27T12:45:00\",\"2010-03-26T14:01:00\",\"2010-05-14T12:52:00\",\"2010-11-24T12:43:00\",\"2010-03-21T11:32:00\",\"2010-08-04T10:52:00\",\"2010-05-07T17:28:00\",\"2010-07-08T13:07:00\",\"2010-08-03T12:55:00\",\"2009-12-06T15:41:00\",\"2010-07-19T12:53:00\",\"2010-02-17T14:34:00\",\"2010-08-11T12:20:00\",\"2010-10-26T13:44:00\",\"2010-11-14T12:07:00\",\"2010-10-07T10:19:00\",\"2010-07-08T15:14:00\",\"2010-06-07T10:54:00\",\"2010-02-09T09:47:00\",\"2009-12-16T15:13:00\",\"2010-01-13T17:51:00\",\"2010-06-24T11:31:00\",\"2010-02-28T15:01:00\",\"2010-03-24T13:30:00\",\"2010-08-12T17:01:00\",\"2010-06-14T13:35:00\",\"2009-12-07T12:32:00\",\"2010-04-23T10:20:00\",\"2010-01-14T14:32:00\",\"2009-12-01T17:08:00\",\"2010-03-23T15:47:00\",\"2010-11-16T13:04:00\",\"2010-04-08T11:20:00\",\"2010-06-22T16:28:00\",\"2010-08-24T11:57:00\",\"2010-04-26T16:21:00\",\"2010-11-08T12:28:00\",\"2009-12-02T14:36:00\",\"2010-03-30T14:29:00\",\"2010-10-05T13:48:00\",\"2010-10-18T13:18:00\",\"2010-03-23T14:06:00\",\"2010-06-17T13:48:00\",\"2010-04-11T13:09:00\",\"2010-01-13T17:44:00\",\"2010-01-20T13:10:00\",\"2010-10-01T12:17:00\",\"2010-09-13T10:46:00\",\"2010-09-08T13:57:00\",\"2010-01-24T12:15:00\",\"2010-06-23T13:16:00\",\"2010-09-13T17:25:00\",\"2010-04-15T12:20:00\",\"2010-09-24T13:30:00\",\"2010-02-23T13:59:00\",\"2010-06-27T13:09:00\",\"2010-04-19T11:19:00\",\"2010-11-23T14:06:00\",\"2010-04-28T09:18:00\",\"2010-07-29T16:35:00\",\"2010-11-30T13:02:00\",\"2010-05-02T15:10:00\",\"2010-10-07T14:11:00\",\"2010-11-26T15:51:00\",\"2010-12-02T15:46:00\",\"2010-10-20T11:58:00\",\"2010-11-12T15:46:00\",\"2010-01-29T17:55:00\",\"2010-10-18T15:27:00\",\"2010-04-29T17:01:00\",\"2010-07-01T12:02:00\",\"2010-08-23T15:44:00\",\"2010-10-10T10:49:00\",\"2010-09-13T12:56:00\",\"2010-03-16T13:44:00\",\"2009-12-22T15:06:00\",\"2010-12-05T12:57:00\",\"2010-11-10T16:40:00\",\"2010-06-14T14:06:00\",\"2010-06-21T12:17:00\",\"2010-05-04T15:48:00\",\"2010-01-10T12:43:00\",\"2010-11-12T15:05:00\",\"2010-04-18T12:49:00\",\"2010-03-24T16:33:00\",\"2010-11-25T19:16:00\",\"2010-02-02T13:13:00\",\"2010-08-29T15:07:00\",\"2010-01-13T17:08:00\",\"2010-01-11T09:31:00\",\"2010-12-01T14:32:00\",\"2010-06-20T16:06:00\",\"2010-01-14T15:10:00\",\"2010-09-28T15:07:00\",\"2010-03-12T11:19:00\",\"2010-06-15T12:14:00\",\"2010-04-19T11:13:00\",\"2010-05-19T15:24:00\",\"2010-07-30T17:08:00\",\"2010-01-26T10:25:00\",\"2010-05-10T13:43:00\",\"2010-10-15T15:46:00\",\"2010-09-03T14:22:00\",\"2010-11-12T12:15:00\",\"2010-02-22T14:28:00\",\"2010-06-09T11:23:00\",\"2010-11-03T09:36:00\",\"2010-09-29T13:44:00\",\"2010-11-12T09:18:00\",\"2010-02-14T13:39:00\",\"2010-10-14T17:44:00\",\"2010-07-28T09:41:00\",\"2010-12-06T16:57:00\",\"2010-10-26T12:54:00\",\"2010-11-23T11:26:00\",\"2010-03-08T16:30:00\",\"2010-08-12T13:38:00\",\"2010-08-31T15:36:00\",\"2010-11-12T15:20:00\",\"2010-10-17T16:16:00\",\"2010-03-02T12:18:00\",\"2010-11-12T17:00:00\",\"2010-02-18T12:36:00\",\"2010-03-10T10:50:00\",\"2010-11-23T16:53:00\",\"2010-03-31T13:22:00\",\"2010-10-11T14:32:00\",\"2009-12-06T12:52:00\",\"2010-03-07T13:00:00\",\"2010-09-28T15:51:00\",\"2010-03-29T17:17:00\",\"2009-12-16T16:04:00\",\"2010-11-15T15:10:00\",\"2010-02-02T10:15:00\",\"2010-09-13T11:28:00\",\"2010-05-07T14:02:00\",\"2010-03-16T10:58:00\",\"2010-03-22T15:52:00\",\"2010-10-13T10:53:00\",\"2010-05-06T16:27:00\",\"2010-11-15T12:17:00\",\"2010-07-15T11:47:00\",\"2010-06-29T13:12:00\",\"2010-04-21T15:04:00\",\"2010-11-07T12:28:00\",\"2010-11-25T15:19:00\",\"2010-07-26T14:32:00\",\"2010-03-30T15:47:00\",\"2010-10-20T10:50:00\",\"2010-11-12T09:18:00\",\"2010-06-07T15:31:00\",\"2010-08-22T14:31:00\",\"2009-12-03T20:03:00\",\"2009-12-16T17:01:00\",\"2010-08-10T12:06:00\",\"2010-09-17T13:20:00\",\"2010-06-17T13:48:00\",\"2010-03-09T14:16:00\",\"2010-06-11T12:45:00\",\"2010-08-10T16:10:00\",\"2010-08-16T15:31:00\",\"2010-11-11T14:08:00\",\"2010-08-04T14:50:00\",\"2009-12-09T09:51:00\",\"2010-12-05T12:43:00\",\"2010-11-23T16:18:00\",\"2009-12-04T09:43:00\",\"2010-08-17T11:52:00\",\"2009-12-04T11:07:00\",\"2010-10-25T16:57:00\",\"2010-07-29T19:56:00\",\"2010-10-14T10:00:00\",\"2010-03-14T13:40:00\",\"2010-11-16T13:04:00\",\"2010-10-18T12:49:00\",\"2010-06-10T17:27:00\",\"2010-01-21T09:37:00\",\"2010-06-09T14:43:00\",\"2010-04-18T14:35:00\",\"2010-01-04T12:30:00\",\"2010-12-03T11:36:00\",\"2009-12-10T19:35:00\",\"2010-02-05T08:43:00\",\"2010-07-09T14:55:00\",\"2010-06-15T11:46:00\",\"2010-06-15T15:23:00\",\"2010-04-18T12:05:00\",\"2010-08-16T12:00:00\",\"2010-03-19T17:13:00\",\"2009-12-03T19:31:00\",\"2010-11-14T11:54:00\",\"2010-11-24T12:04:00\",\"2010-10-25T16:57:00\",\"2010-08-18T16:54:00\",\"2009-12-08T12:38:00\",\"2010-06-10T13:52:00\",\"2010-09-29T13:08:00\",\"2010-07-07T16:29:00\",\"2010-09-09T12:37:00\",\"2010-09-06T10:19:00\",\"2010-04-20T11:30:00\",\"2010-11-24T13:56:00\",\"2010-11-11T13:26:00\",\"2010-06-08T14:52:00\",\"2010-08-02T15:26:00\",\"2010-08-08T10:46:00\",\"2010-08-12T14:32:00\",\"2010-05-28T12:37:00\",\"2009-12-16T17:01:00\",\"2010-01-25T15:23:00\",\"2010-06-07T14:48:00\",\"2010-09-29T10:26:00\",\"2010-10-01T14:07:00\",\"2010-04-23T16:16:00\",\"2010-08-15T14:01:00\",\"2010-05-26T11:12:00\",\"2009-12-13T13:53:00\",\"2010-01-05T10:18:00\",\"2010-04-23T13:12:00\",\"2010-10-05T13:21:00\",\"2010-03-12T15:13:00\",\"2010-06-03T09:29:00\",\"2010-05-28T12:11:00\",\"2009-12-01T09:08:00\",\"2010-10-11T13:53:00\",\"2010-11-05T10:23:00\",\"2010-01-20T17:50:00\",\"2010-03-16T16:18:00\",\"2010-06-18T13:22:00\",\"2010-06-01T12:00:00\",\"2009-12-09T09:51:00\",\"2010-07-01T14:24:00\",\"2010-11-10T16:38:00\",\"2009-12-10T18:27:00\",\"2010-09-20T11:45:00\",\"2010-03-12T11:19:00\",\"2010-10-20T15:25:00\",\"2010-08-31T12:41:00\",\"2010-06-16T14:34:00\",\"2010-07-16T09:24:00\",\"2010-03-26T11:37:00\",\"2010-10-07T14:28:00\",\"2009-12-01T14:28:00\",\"2010-05-30T13:35:00\",\"2010-07-15T14:08:00\",\"2010-05-25T13:21:00\",\"2010-10-07T10:19:00\",\"2010-10-28T18:54:00\",\"2010-07-27T12:39:00\",\"2010-01-08T15:16:00\",\"2010-08-16T12:36:00\",\"2010-05-04T12:16:00\",\"2010-11-25T19:36:00\",\"2010-09-22T11:37:00\",\"2010-01-28T12:20:00\",\"2010-01-28T15:51:00\",\"2010-03-09T14:32:00\",\"2010-10-07T10:37:00\",\"2010-06-09T12:11:00\",\"2010-01-31T12:15:00\",\"2010-02-15T14:47:00\",\"2010-11-25T13:51:00\",\"2010-02-19T17:40:00\",\"2010-03-02T11:33:00\",\"2010-01-04T12:30:00\",\"2010-02-01T13:45:00\",\"2010-10-19T09:10:00\",\"2010-01-21T11:51:00\",\"2010-06-09T14:41:00\",\"2010-06-24T16:25:00\",\"2010-01-14T14:06:00\",\"2010-11-25T14:03:00\",\"2010-06-03T17:15:00\",\"2010-08-26T12:35:00\",\"2010-11-12T15:20:00\",\"2010-06-17T13:48:00\",\"2010-06-21T13:18:00\",\"2010-11-26T13:22:00\",\"2010-12-05T12:26:00\",\"2010-10-03T14:13:00\",\"2010-01-07T11:22:00\",\"2010-04-29T11:18:00\",\"2010-01-14T16:16:00\",\"2010-01-18T12:55:00\",\"2010-09-20T12:15:00\",\"2010-11-07T13:08:00\",\"2010-01-19T15:45:00\",\"2009-12-15T17:05:00\",\"2010-02-08T11:06:00\",\"2010-01-20T10:48:00\",\"2010-10-31T14:09:00\",\"2010-03-21T12:20:00\",\"2010-08-17T12:03:00\",\"2010-02-15T11:22:00\",\"2010-11-21T12:40:00\",\"2010-02-17T12:12:00\",\"2009-12-06T10:26:00\",\"2010-11-25T13:18:00\",\"2010-10-14T18:02:00\",\"2010-06-16T16:04:00\",\"2010-10-10T16:01:00\",\"2010-01-25T13:14:00\",\"2010-10-27T08:36:00\",\"2010-12-03T15:05:00\",\"2010-07-21T14:43:00\",\"2010-05-07T14:56:00\",\"2010-05-19T14:22:00\",\"2010-11-08T14:19:00\",\"2010-12-08T12:17:00\",\"2010-10-21T15:38:00\",\"2010-09-14T16:15:00\",\"2010-09-16T12:27:00\",\"2010-08-03T14:23:00\",\"2010-11-17T12:44:00\",\"2010-05-06T11:44:00\",\"2010-08-08T14:37:00\",\"2010-04-22T12:58:00\",\"2010-03-07T12:06:00\",\"2010-10-24T11:18:00\",\"2010-10-27T14:05:00\",\"2010-07-19T12:17:00\",\"2010-11-03T13:47:00\",\"2010-02-25T13:23:00\",\"2010-08-18T16:54:00\",\"2010-08-16T14:59:00\",\"2010-06-06T15:01:00\",\"2010-06-15T12:22:00\",\"2010-08-17T12:03:00\",\"2010-07-04T13:10:00\",\"2010-11-19T12:56:00\",\"2010-09-28T14:44:00\",\"2009-12-22T09:41:00\",\"2010-06-14T16:25:00\",\"2010-01-04T09:24:00\",\"2010-08-26T15:42:00\",\"2010-04-25T11:43:00\",\"2010-06-04T14:54:00\",\"2010-07-14T13:01:00\",\"2009-12-16T17:01:00\",\"2010-09-23T13:26:00\",\"2010-11-10T13:23:00\",\"2010-10-18T12:58:00\",\"2010-04-25T11:43:00\",\"2010-04-06T12:39:00\",\"2010-11-17T09:22:00\",\"2010-06-09T10:52:00\",\"2010-06-17T09:30:00\",\"2010-08-23T11:58:00\",\"2010-10-31T12:36:00\",\"2009-12-16T17:36:00\",\"2010-11-30T17:43:00\",\"2010-03-23T12:18:00\",\"2010-09-02T13:29:00\",\"2010-09-07T09:31:00\",\"2010-02-17T12:03:00\",\"2010-11-17T16:48:00\",\"2010-10-20T17:12:00\",\"2010-04-15T16:35:00\",\"2010-11-19T13:07:00\",\"2010-09-19T16:20:00\",\"2010-12-09T14:19:00\",\"2010-02-28T14:12:00\",\"2010-04-07T10:36:00\",\"2010-08-15T13:26:00\",\"2010-03-01T09:58:00\",\"2010-02-19T17:40:00\",\"2010-10-07T14:24:00\",\"2010-02-08T15:11:00\",\"2010-10-18T14:07:00\",\"2010-06-15T12:11:00\",\"2010-09-10T13:27:00\",\"2010-08-18T11:34:00\",\"2010-05-27T11:11:00\",\"2009-12-10T18:27:00\",\"2010-10-05T17:55:00\",\"2010-07-20T09:04:00\",\"2010-05-28T10:08:00\",\"2010-07-04T13:31:00\",\"2010-07-08T10:07:00\",\"2010-01-22T14:17:00\",\"2009-12-15T17:25:00\",\"2010-08-03T10:30:00\",\"2009-12-22T09:41:00\",\"2009-12-03T13:09:00\",\"2010-04-28T14:25:00\",\"2009-12-04T10:57:00\",\"2010-11-03T09:36:00\",\"2010-03-12T10:41:00\",\"2010-09-02T14:52:00\",\"2010-11-28T14:13:00\",\"2010-09-16T14:52:00\",\"2010-04-23T11:43:00\",\"2010-10-22T14:04:00\",\"2009-12-22T15:13:00\",\"2010-11-23T16:53:00\",\"2010-03-29T11:49:00\",\"2010-11-10T12:09:00\",\"2010-06-14T12:41:00\",\"2010-09-28T09:13:00\",\"2010-03-09T14:16:00\",\"2010-08-22T12:52:00\",\"2010-10-19T12:50:00\",\"2010-03-25T13:16:00\",\"2010-02-14T15:30:00\",\"2010-08-29T10:16:00\",\"2010-08-25T11:35:00\",\"2010-10-26T12:14:00\",\"2010-06-02T11:54:00\",\"2009-12-16T17:01:00\",\"2010-10-20T13:42:00\",\"2010-02-08T16:53:00\",\"2009-12-07T15:15:00\",\"2010-01-26T13:04:00\",\"2010-11-17T09:22:00\",\"2010-02-16T14:32:00\",\"2010-01-29T11:45:00\",\"2010-10-11T11:34:00\",\"2009-12-13T13:31:00\",\"2010-10-29T12:07:00\",\"2010-04-29T15:34:00\",\"2010-04-11T16:06:00\",\"2010-11-29T12:06:00\",\"2010-03-23T08:40:00\",\"2010-03-30T10:55:00\",\"2010-01-26T10:25:00\",\"2010-08-03T14:38:00\",\"2010-10-13T13:12:00\",\"2010-10-18T17:11:00\",\"2010-04-19T11:13:00\",\"2009-12-02T15:15:00\",\"2010-07-15T12:30:00\",\"2010-11-23T09:12:00\",\"2010-10-28T10:16:00\",\"2010-10-15T16:04:00\",\"2010-10-19T16:38:00\",\"2010-05-12T12:09:00\",\"2010-08-22T11:47:00\",\"2010-11-12T09:18:00\",\"2009-12-07T18:02:00\",\"2010-10-07T12:30:00\",\"2010-10-12T13:19:00\",\"2010-09-23T12:19:00\",\"2010-10-29T14:12:00\",\"2010-05-19T11:59:00\",\"2010-07-02T13:25:00\",\"2010-08-13T17:13:00\",\"2010-10-13T14:57:00\",\"2010-11-14T16:12:00\",\"2010-10-20T12:53:00\",\"2010-01-06T12:16:00\",\"2010-03-04T12:06:00\",\"2010-11-25T11:04:00\",\"2009-12-22T09:52:00\",\"2010-10-18T09:28:00\",\"2010-07-08T11:42:00\",\"2010-11-12T15:40:00\",\"2010-08-03T13:03:00\",\"2010-09-13T15:12:00\",\"2010-11-15T09:32:00\",\"2010-02-17T11:27:00\",\"2010-07-11T15:34:00\",\"2009-12-01T09:50:00\",\"2010-05-16T16:05:00\",\"2010-11-25T13:36:00\",\"2010-03-08T13:17:00\",\"2010-04-09T16:54:00\",\"2010-05-17T14:17:00\",\"2010-02-02T16:42:00\",\"2010-06-14T14:49:00\",\"2010-02-23T14:16:00\",\"2010-06-14T12:01:00\",\"2010-01-24T12:15:00\",\"2010-05-24T12:01:00\",\"2010-10-06T14:40:00\",\"2009-12-18T12:59:00\",\"2010-04-30T17:18:00\",\"2010-02-22T17:10:00\",\"2010-10-11T13:57:00\",\"2010-09-27T09:55:00\",\"2010-06-03T09:06:00\",\"2010-08-03T15:17:00\",\"2010-06-27T13:09:00\",\"2010-09-30T17:18:00\",\"2010-08-15T16:00:00\",\"2009-12-17T15:44:00\",\"2010-11-22T15:24:00\",\"2010-06-24T11:46:00\",\"2010-05-19T15:10:00\",\"2010-04-11T14:28:00\",\"2010-03-19T13:41:00\",\"2010-06-16T12:48:00\",\"2010-02-02T13:13:00\",\"2010-11-21T16:02:00\",\"2010-10-01T11:43:00\",\"2010-04-13T13:33:00\",\"2010-06-23T13:19:00\",\"2010-03-01T14:01:00\",\"2010-12-09T16:35:00\",\"2010-02-01T17:18:00\",\"2010-04-28T16:26:00\",\"2010-09-27T12:50:00\",\"2010-11-21T16:13:00\",\"2010-05-27T12:17:00\",\"2010-03-03T16:33:00\",\"2010-02-17T12:03:00\",\"2010-03-01T15:36:00\",\"2010-03-03T15:28:00\",\"2010-11-17T09:22:00\",\"2010-11-03T09:36:00\",\"2010-02-01T14:52:00\",\"2010-04-06T16:37:00\",\"2010-02-23T14:48:00\",\"2010-06-14T11:24:00\",\"2010-09-24T12:18:00\",\"2010-11-12T14:02:00\",\"2009-12-16T12:29:00\",\"2010-07-26T10:35:00\",\"2010-01-12T17:24:00\",\"2010-11-08T09:56:00\",\"2010-06-16T14:26:00\",\"2010-03-24T10:28:00\",\"2010-10-24T12:51:00\",\"2010-10-13T10:46:00\",\"2010-07-14T12:19:00\",\"2010-12-05T12:53:00\",\"2010-11-23T12:00:00\",\"2010-10-08T11:45:00\",\"2010-03-19T14:05:00\",\"2010-11-24T15:23:00\",\"2010-03-31T17:28:00\",\"2010-09-13T14:26:00\",\"2010-11-09T15:20:00\",\"2010-11-10T14:48:00\",\"2009-12-22T14:31:00\",\"2010-05-06T10:04:00\",\"2010-03-08T16:30:00\",\"2010-10-05T10:35:00\",\"2010-12-05T12:35:00\",\"2010-11-04T18:00:00\",\"2010-08-12T16:41:00\",\"2010-11-24T15:03:00\",\"2010-10-28T09:29:00\",\"2010-10-08T17:28:00\",\"2010-09-19T16:18:00\",\"2010-09-17T14:54:00\",\"2010-12-07T15:31:00\",\"2010-09-02T17:52:00\",\"2010-11-05T11:58:00\",\"2010-12-05T15:15:00\",\"2009-12-04T17:31:00\",\"2010-09-05T11:59:00\",\"2010-11-10T10:50:00\",\"2010-03-26T14:01:00\",\"2010-05-18T11:40:00\",\"2010-10-20T10:22:00\",\"2010-02-14T14:10:00\",\"2010-03-29T16:47:00\",\"2010-05-13T15:41:00\",\"2010-05-26T14:38:00\",\"2010-01-15T13:15:00\",\"2010-01-25T13:22:00\",\"2010-09-21T12:49:00\",\"2010-11-10T15:20:00\",\"2010-03-04T10:14:00\",\"2010-03-10T10:50:00\",\"2010-02-15T13:27:00\",\"2010-06-15T12:35:00\",\"2010-08-11T16:44:00\",\"2010-11-16T13:03:00\",\"2010-02-22T11:42:00\",\"2009-12-21T17:14:00\",\"2010-07-27T13:52:00\",\"2010-11-10T11:47:00\",\"2010-12-02T16:34:00\",\"2010-10-08T10:23:00\",\"2010-04-14T10:13:00\",\"2009-12-17T13:36:00\",\"2010-05-07T16:46:00\",\"2010-03-03T12:16:00\",\"2010-04-23T16:16:00\",\"2010-09-09T15:49:00\",\"2010-06-16T14:12:00\",\"2010-10-18T16:52:00\",\"2010-10-29T08:23:00\",\"2010-10-24T10:41:00\",\"2010-11-12T12:44:00\",\"2010-11-01T09:33:00\",\"2010-01-07T13:07:00\",\"2010-04-26T11:57:00\",\"2010-07-20T09:04:00\",\"2010-10-05T13:01:00\",\"2010-02-26T10:11:00\",\"2010-07-07T09:39:00\",\"2009-12-04T14:29:00\",\"2010-08-15T14:01:00\",\"2010-02-25T15:07:00\",\"2010-05-24T14:55:00\",\"2010-10-31T13:12:00\",\"2010-05-05T14:42:00\",\"2010-03-25T13:55:00\",\"2010-11-14T16:16:00\",\"2010-01-18T12:48:00\",\"2010-03-31T17:28:00\",\"2010-08-04T10:57:00\",\"2010-04-01T14:52:00\",\"2010-03-15T16:05:00\",\"2010-04-30T15:57:00\",\"2010-10-12T16:38:00\",\"2010-09-24T12:43:00\",\"2010-04-01T15:04:00\",\"2010-03-15T16:13:00\",\"2010-12-06T16:57:00\",\"2010-01-27T16:41:00\",\"2010-11-30T12:05:00\",\"2010-04-18T11:24:00\",\"2010-05-05T14:42:00\",\"2010-05-06T16:50:00\",\"2010-06-06T15:47:00\",\"2010-11-10T13:08:00\",\"2010-04-13T13:26:00\",\"2010-03-23T11:01:00\",\"2010-04-25T13:40:00\",\"2010-10-24T10:33:00\",\"2010-01-29T13:53:00\",\"2010-08-22T14:31:00\",\"2010-11-22T15:50:00\",\"2010-02-09T12:01:00\",\"2010-01-25T13:14:00\",\"2010-08-26T12:10:00\",\"2010-11-16T12:50:00\",\"2010-04-15T13:52:00\",\"2010-03-08T12:35:00\",\"2010-01-14T17:43:00\",\"2010-10-01T10:24:00\",\"2010-04-25T15:48:00\",\"2010-12-09T19:28:00\",\"2010-01-31T15:47:00\",\"2010-09-06T11:32:00\",\"2010-11-23T13:59:00\",\"2010-07-29T11:22:00\",\"2010-10-21T10:46:00\",\"2010-11-04T13:04:00\",\"2010-08-10T11:49:00\",\"2010-11-25T15:19:00\",\"2010-01-11T12:29:00\",\"2010-08-06T09:18:00\",\"2010-05-06T15:17:00\",\"2010-08-10T13:28:00\",\"2010-11-01T11:48:00\",\"2010-06-28T11:39:00\",\"2010-10-06T12:36:00\",\"2010-04-18T12:31:00\",\"2010-11-11T12:50:00\",\"2010-12-08T14:25:00\",\"2010-10-17T13:02:00\",\"2009-12-09T15:16:00\",\"2009-12-21T11:08:00\",\"2010-08-27T13:53:00\",\"2010-10-10T13:31:00\",\"2010-03-12T11:19:00\",\"2010-09-09T10:37:00\",\"2010-01-25T09:53:00\",\"2010-10-18T12:11:00\",\"2010-08-31T14:40:00\",\"2010-07-29T18:30:00\",\"2010-05-11T13:30:00\",\"2010-01-05T11:29:00\",\"2010-11-12T09:18:00\",\"2010-09-24T12:31:00\",\"2010-11-15T12:50:00\",\"2010-12-09T14:09:00\",\"2010-01-26T12:30:00\",\"2010-02-08T16:23:00\",\"2010-02-28T15:01:00\",\"2010-02-25T13:40:00\",\"2010-10-26T10:34:00\",\"2010-02-17T14:39:00\",\"2010-09-05T15:27:00\",\"2010-09-01T17:17:00\",\"2010-04-21T15:34:00\",\"2010-06-24T12:49:00\",\"2010-02-03T08:15:00\",\"2010-11-10T12:09:00\",\"2010-10-07T16:48:00\",\"2010-04-16T12:43:00\",\"2010-04-01T12:26:00\",\"2010-10-26T14:47:00\",\"2010-10-17T16:06:00\",\"2010-11-04T14:49:00\",\"2010-11-05T12:09:00\",\"2010-10-07T09:12:00\",\"2010-03-07T14:50:00\",\"2010-10-19T12:15:00\",\"2010-03-03T14:20:00\",\"2009-12-10T17:09:00\",\"2010-11-02T13:57:00\",\"2010-08-01T13:48:00\",\"2010-01-05T12:20:00\",\"2010-01-14T18:56:00\",\"2010-11-16T15:46:00\",\"2010-10-07T14:28:00\",\"2010-03-31T12:21:00\",\"2009-12-02T14:34:00\",\"2010-04-14T13:50:00\",\"2010-12-01T15:08:00\",\"2010-04-29T10:54:00\",\"2010-11-29T10:50:00\",\"2010-10-10T13:38:00\",\"2010-01-21T14:01:00\",\"2010-05-10T09:55:00\"],\"xaxis\":\"x\",\"yaxis\":\"y\",\"type\":\"histogram\"},{\"alignmentgroup\":\"True\",\"hovertemplate\":\"variable=InvoiceDate<br>value=%{x}<extra></extra>\",\"legendgroup\":\"InvoiceDate\",\"marker\":{\"color\":\"#636efa\"},\"name\":\"InvoiceDate\",\"notched\":true,\"offsetgroup\":\"InvoiceDate\",\"showlegend\":false,\"x\":[\"2010-10-14T12:54:00\",\"2010-11-07T16:29:00\",\"2010-10-03T14:08:00\",\"2010-06-11T11:45:00\",\"2009-12-20T10:08:00\",\"2010-08-01T11:23:00\",\"2010-03-26T12:53:00\",\"2010-11-16T18:07:00\",\"2010-06-27T13:16:00\",\"2010-11-26T16:31:00\",\"2010-11-16T12:22:00\",\"2010-06-04T15:50:00\",\"2009-12-02T12:28:00\",\"2010-01-18T08:58:00\",\"2010-11-17T11:33:00\",\"2010-06-04T14:59:00\",\"2010-05-16T15:39:00\",\"2009-12-10T09:49:00\",\"2010-04-29T13:54:00\",\"2010-07-29T13:55:00\",\"2010-03-30T14:29:00\",\"2009-12-03T19:13:00\",\"2010-05-07T14:28:00\",\"2010-09-12T10:30:00\",\"2010-08-02T14:02:00\",\"2010-09-24T16:06:00\",\"2009-12-10T09:49:00\",\"2010-09-19T13:05:00\",\"2010-04-07T14:10:00\",\"2010-07-22T12:13:00\",\"2010-06-21T15:13:00\",\"2010-06-17T10:47:00\",\"2010-04-30T13:41:00\",\"2010-01-27T09:44:00\",\"2010-06-03T19:47:00\",\"2010-04-29T14:16:00\",\"2010-10-21T18:01:00\",\"2010-10-03T11:52:00\",\"2009-12-10T14:50:00\",\"2010-05-04T15:48:00\",\"2010-09-28T11:50:00\",\"2010-03-25T14:22:00\",\"2010-11-28T13:23:00\",\"2010-11-04T11:55:00\",\"2010-06-29T14:11:00\",\"2010-08-25T13:05:00\",\"2010-08-12T14:53:00\",\"2010-01-26T11:24:00\",\"2009-12-18T17:15:00\",\"2010-04-29T13:54:00\",\"2010-05-27T12:24:00\",\"2010-08-31T12:48:00\",\"2010-10-11T14:05:00\",\"2010-11-21T12:29:00\",\"2010-10-29T14:12:00\",\"2010-11-09T14:13:00\",\"2010-09-07T17:19:00\",\"2010-08-18T11:34:00\",\"2010-11-15T12:43:00\",\"2010-07-09T14:58:00\",\"2010-03-26T14:16:00\",\"2010-02-14T12:22:00\",\"2010-11-21T15:56:00\",\"2010-03-22T14:30:00\",\"2010-06-06T15:01:00\",\"2010-03-07T13:48:00\",\"2010-07-26T11:46:00\",\"2010-06-07T14:46:00\",\"2010-09-14T17:50:00\",\"2009-12-09T14:20:00\",\"2010-08-04T16:07:00\",\"2010-02-21T14:57:00\",\"2010-04-28T11:54:00\",\"2010-08-06T08:57:00\",\"2010-10-18T15:27:00\",\"2010-04-27T12:20:00\",\"2010-01-18T13:15:00\",\"2010-02-02T15:49:00\",\"2010-09-23T10:45:00\",\"2010-07-25T15:44:00\",\"2010-01-14T16:16:00\",\"2009-12-16T13:49:00\",\"2010-08-26T20:07:00\",\"2010-06-28T12:04:00\",\"2010-10-13T10:46:00\",\"2010-09-27T11:41:00\",\"2010-07-16T09:05:00\",\"2010-10-18T09:28:00\",\"2010-11-03T10:47:00\",\"2010-11-04T13:04:00\",\"2010-08-15T12:40:00\",\"2010-06-08T14:10:00\",\"2010-06-29T15:17:00\",\"2010-06-28T08:28:00\",\"2010-09-27T13:22:00\",\"2010-11-07T13:30:00\",\"2010-09-14T13:32:00\",\"2009-12-14T17:16:00\",\"2010-07-25T11:31:00\",\"2010-02-04T08:56:00\",\"2010-03-10T12:17:00\",\"2009-12-09T13:22:00\",\"2010-11-24T16:16:00\",\"2010-04-16T13:34:00\",\"2010-10-14T14:18:00\",\"2010-10-26T14:00:00\",\"2010-04-15T13:03:00\",\"2010-09-24T12:39:00\",\"2010-08-09T13:10:00\",\"2009-12-10T15:56:00\",\"2010-09-02T12:53:00\",\"2009-12-15T14:34:00\",\"2009-12-16T17:34:00\",\"2010-07-01T10:41:00\",\"2010-03-26T14:51:00\",\"2010-11-02T16:20:00\",\"2010-11-02T10:38:00\",\"2010-04-25T13:49:00\",\"2010-10-07T13:21:00\",\"2010-03-30T12:36:00\",\"2010-03-28T14:53:00\",\"2009-12-15T10:36:00\",\"2010-10-05T13:14:00\",\"2010-05-06T15:09:00\",\"2010-10-12T15:46:00\",\"2010-05-27T12:31:00\",\"2010-06-22T16:28:00\",\"2010-08-09T12:28:00\",\"2010-05-10T17:09:00\",\"2010-11-28T10:33:00\",\"2010-09-16T19:17:00\",\"2010-05-05T08:53:00\",\"2010-04-22T09:54:00\",\"2010-01-14T14:48:00\",\"2009-12-10T09:49:00\",\"2010-04-28T13:34:00\",\"2010-03-26T12:53:00\",\"2010-03-29T14:53:00\",\"2010-03-05T09:09:00\",\"2010-04-27T16:45:00\",\"2010-04-27T09:30:00\",\"2010-10-01T10:33:00\",\"2010-03-02T13:09:00\",\"2009-12-14T13:19:00\",\"2010-11-14T16:32:00\",\"2010-08-23T14:38:00\",\"2010-08-24T17:21:00\",\"2010-11-09T12:47:00\",\"2010-10-21T16:30:00\",\"2010-10-28T09:29:00\",\"2010-11-16T14:15:00\",\"2010-02-03T11:58:00\",\"2010-06-09T13:08:00\",\"2009-12-06T15:48:00\",\"2010-09-09T10:50:00\",\"2010-09-02T13:27:00\",\"2010-11-12T14:28:00\",\"2010-06-17T17:41:00\",\"2010-11-30T12:05:00\",\"2010-09-02T17:52:00\",\"2010-07-28T14:54:00\",\"2010-11-02T18:08:00\",\"2010-04-13T16:33:00\",\"2010-10-31T14:40:00\",\"2009-12-01T12:52:00\",\"2010-07-02T15:55:00\",\"2010-09-02T14:33:00\",\"2009-12-06T12:17:00\",\"2010-04-07T16:13:00\",\"2010-02-22T12:05:00\",\"2010-05-24T10:44:00\",\"2010-08-18T16:54:00\",\"2010-10-04T12:36:00\",\"2010-12-06T14:36:00\",\"2010-03-19T11:10:00\",\"2010-11-03T13:13:00\",\"2010-09-16T14:34:00\",\"2010-02-28T10:25:00\",\"2010-05-20T13:41:00\",\"2010-03-25T12:43:00\",\"2010-06-07T11:32:00\",\"2010-01-28T12:36:00\",\"2010-12-09T14:09:00\",\"2010-08-08T12:35:00\",\"2010-09-27T12:50:00\",\"2010-04-16T15:55:00\",\"2010-06-22T14:21:00\",\"2010-03-03T08:42:00\",\"2010-09-29T12:41:00\",\"2010-05-13T16:49:00\",\"2010-06-01T16:06:00\",\"2010-07-06T14:38:00\",\"2010-09-28T16:12:00\",\"2010-03-10T10:25:00\",\"2010-11-02T14:02:00\",\"2009-12-05T12:36:00\",\"2010-11-25T13:29:00\",\"2010-01-07T10:57:00\",\"2010-02-23T12:26:00\",\"2010-03-03T17:18:00\",\"2010-02-01T13:25:00\",\"2010-11-01T16:45:00\",\"2010-11-16T12:22:00\",\"2010-12-06T14:51:00\",\"2010-01-06T10:17:00\",\"2010-03-26T14:01:00\",\"2010-01-14T18:56:00\",\"2010-06-17T12:21:00\",\"2010-09-21T15:46:00\",\"2010-04-28T15:00:00\",\"2010-09-23T14:47:00\",\"2010-04-19T10:43:00\",\"2010-11-09T10:35:00\",\"2009-12-23T13:00:00\",\"2010-02-02T10:06:00\",\"2010-06-30T11:32:00\",\"2010-10-20T14:42:00\",\"2010-06-02T14:48:00\",\"2010-01-28T14:31:00\",\"2010-05-30T15:58:00\",\"2010-05-25T10:14:00\",\"2010-11-07T12:03:00\",\"2010-11-01T13:33:00\",\"2010-04-27T13:48:00\",\"2009-12-17T12:04:00\",\"2010-12-07T15:28:00\",\"2010-04-20T16:00:00\",\"2010-12-06T13:41:00\",\"2009-12-17T12:32:00\",\"2010-08-04T15:52:00\",\"2010-01-04T12:57:00\",\"2010-06-09T14:13:00\",\"2010-03-18T14:14:00\",\"2010-04-06T15:10:00\",\"2010-11-24T10:30:00\",\"2010-10-18T17:11:00\",\"2010-04-09T17:13:00\",\"2010-11-29T16:45:00\",\"2010-07-02T08:26:00\",\"2010-06-15T14:42:00\",\"2010-10-11T11:34:00\",\"2010-09-02T17:52:00\",\"2010-03-10T13:08:00\",\"2010-11-01T11:35:00\",\"2010-11-09T14:13:00\",\"2009-12-04T10:57:00\",\"2010-08-11T15:46:00\",\"2010-03-25T12:39:00\",\"2010-07-05T11:54:00\",\"2010-04-13T11:43:00\",\"2010-03-07T16:12:00\",\"2010-10-11T13:49:00\",\"2010-09-30T11:45:00\",\"2009-12-03T10:20:00\",\"2010-11-28T11:33:00\",\"2010-04-26T10:31:00\",\"2010-05-18T15:13:00\",\"2010-07-19T16:10:00\",\"2010-10-14T13:09:00\",\"2010-08-22T16:07:00\",\"2010-08-31T12:41:00\",\"2009-12-02T15:08:00\",\"2010-05-04T11:51:00\",\"2010-06-04T12:23:00\",\"2010-10-06T14:34:00\",\"2010-10-24T13:57:00\",\"2010-10-12T15:46:00\",\"2010-11-07T12:04:00\",\"2010-05-24T12:25:00\",\"2010-11-11T15:49:00\",\"2010-11-22T13:02:00\",\"2010-06-25T13:35:00\",\"2009-12-11T13:52:00\",\"2010-02-21T12:43:00\",\"2010-09-24T16:06:00\",\"2010-05-06T20:01:00\",\"2010-04-28T11:55:00\",\"2010-06-08T14:52:00\",\"2010-08-12T10:12:00\",\"2010-07-15T11:44:00\",\"2010-04-07T11:04:00\",\"2010-02-07T13:30:00\",\"2010-12-08T13:18:00\",\"2010-08-15T11:22:00\",\"2010-11-22T11:37:00\",\"2010-08-31T12:35:00\",\"2010-10-07T16:14:00\",\"2010-08-19T16:19:00\",\"2010-12-06T09:58:00\",\"2010-05-20T17:57:00\",\"2010-09-27T12:45:00\",\"2010-03-26T14:01:00\",\"2010-05-14T12:52:00\",\"2010-11-24T12:43:00\",\"2010-03-21T11:32:00\",\"2010-08-04T10:52:00\",\"2010-05-07T17:28:00\",\"2010-07-08T13:07:00\",\"2010-08-03T12:55:00\",\"2009-12-06T15:41:00\",\"2010-07-19T12:53:00\",\"2010-02-17T14:34:00\",\"2010-08-11T12:20:00\",\"2010-10-26T13:44:00\",\"2010-11-14T12:07:00\",\"2010-10-07T10:19:00\",\"2010-07-08T15:14:00\",\"2010-06-07T10:54:00\",\"2010-02-09T09:47:00\",\"2009-12-16T15:13:00\",\"2010-01-13T17:51:00\",\"2010-06-24T11:31:00\",\"2010-02-28T15:01:00\",\"2010-03-24T13:30:00\",\"2010-08-12T17:01:00\",\"2010-06-14T13:35:00\",\"2009-12-07T12:32:00\",\"2010-04-23T10:20:00\",\"2010-01-14T14:32:00\",\"2009-12-01T17:08:00\",\"2010-03-23T15:47:00\",\"2010-11-16T13:04:00\",\"2010-04-08T11:20:00\",\"2010-06-22T16:28:00\",\"2010-08-24T11:57:00\",\"2010-04-26T16:21:00\",\"2010-11-08T12:28:00\",\"2009-12-02T14:36:00\",\"2010-03-30T14:29:00\",\"2010-10-05T13:48:00\",\"2010-10-18T13:18:00\",\"2010-03-23T14:06:00\",\"2010-06-17T13:48:00\",\"2010-04-11T13:09:00\",\"2010-01-13T17:44:00\",\"2010-01-20T13:10:00\",\"2010-10-01T12:17:00\",\"2010-09-13T10:46:00\",\"2010-09-08T13:57:00\",\"2010-01-24T12:15:00\",\"2010-06-23T13:16:00\",\"2010-09-13T17:25:00\",\"2010-04-15T12:20:00\",\"2010-09-24T13:30:00\",\"2010-02-23T13:59:00\",\"2010-06-27T13:09:00\",\"2010-04-19T11:19:00\",\"2010-11-23T14:06:00\",\"2010-04-28T09:18:00\",\"2010-07-29T16:35:00\",\"2010-11-30T13:02:00\",\"2010-05-02T15:10:00\",\"2010-10-07T14:11:00\",\"2010-11-26T15:51:00\",\"2010-12-02T15:46:00\",\"2010-10-20T11:58:00\",\"2010-11-12T15:46:00\",\"2010-01-29T17:55:00\",\"2010-10-18T15:27:00\",\"2010-04-29T17:01:00\",\"2010-07-01T12:02:00\",\"2010-08-23T15:44:00\",\"2010-10-10T10:49:00\",\"2010-09-13T12:56:00\",\"2010-03-16T13:44:00\",\"2009-12-22T15:06:00\",\"2010-12-05T12:57:00\",\"2010-11-10T16:40:00\",\"2010-06-14T14:06:00\",\"2010-06-21T12:17:00\",\"2010-05-04T15:48:00\",\"2010-01-10T12:43:00\",\"2010-11-12T15:05:00\",\"2010-04-18T12:49:00\",\"2010-03-24T16:33:00\",\"2010-11-25T19:16:00\",\"2010-02-02T13:13:00\",\"2010-08-29T15:07:00\",\"2010-01-13T17:08:00\",\"2010-01-11T09:31:00\",\"2010-12-01T14:32:00\",\"2010-06-20T16:06:00\",\"2010-01-14T15:10:00\",\"2010-09-28T15:07:00\",\"2010-03-12T11:19:00\",\"2010-06-15T12:14:00\",\"2010-04-19T11:13:00\",\"2010-05-19T15:24:00\",\"2010-07-30T17:08:00\",\"2010-01-26T10:25:00\",\"2010-05-10T13:43:00\",\"2010-10-15T15:46:00\",\"2010-09-03T14:22:00\",\"2010-11-12T12:15:00\",\"2010-02-22T14:28:00\",\"2010-06-09T11:23:00\",\"2010-11-03T09:36:00\",\"2010-09-29T13:44:00\",\"2010-11-12T09:18:00\",\"2010-02-14T13:39:00\",\"2010-10-14T17:44:00\",\"2010-07-28T09:41:00\",\"2010-12-06T16:57:00\",\"2010-10-26T12:54:00\",\"2010-11-23T11:26:00\",\"2010-03-08T16:30:00\",\"2010-08-12T13:38:00\",\"2010-08-31T15:36:00\",\"2010-11-12T15:20:00\",\"2010-10-17T16:16:00\",\"2010-03-02T12:18:00\",\"2010-11-12T17:00:00\",\"2010-02-18T12:36:00\",\"2010-03-10T10:50:00\",\"2010-11-23T16:53:00\",\"2010-03-31T13:22:00\",\"2010-10-11T14:32:00\",\"2009-12-06T12:52:00\",\"2010-03-07T13:00:00\",\"2010-09-28T15:51:00\",\"2010-03-29T17:17:00\",\"2009-12-16T16:04:00\",\"2010-11-15T15:10:00\",\"2010-02-02T10:15:00\",\"2010-09-13T11:28:00\",\"2010-05-07T14:02:00\",\"2010-03-16T10:58:00\",\"2010-03-22T15:52:00\",\"2010-10-13T10:53:00\",\"2010-05-06T16:27:00\",\"2010-11-15T12:17:00\",\"2010-07-15T11:47:00\",\"2010-06-29T13:12:00\",\"2010-04-21T15:04:00\",\"2010-11-07T12:28:00\",\"2010-11-25T15:19:00\",\"2010-07-26T14:32:00\",\"2010-03-30T15:47:00\",\"2010-10-20T10:50:00\",\"2010-11-12T09:18:00\",\"2010-06-07T15:31:00\",\"2010-08-22T14:31:00\",\"2009-12-03T20:03:00\",\"2009-12-16T17:01:00\",\"2010-08-10T12:06:00\",\"2010-09-17T13:20:00\",\"2010-06-17T13:48:00\",\"2010-03-09T14:16:00\",\"2010-06-11T12:45:00\",\"2010-08-10T16:10:00\",\"2010-08-16T15:31:00\",\"2010-11-11T14:08:00\",\"2010-08-04T14:50:00\",\"2009-12-09T09:51:00\",\"2010-12-05T12:43:00\",\"2010-11-23T16:18:00\",\"2009-12-04T09:43:00\",\"2010-08-17T11:52:00\",\"2009-12-04T11:07:00\",\"2010-10-25T16:57:00\",\"2010-07-29T19:56:00\",\"2010-10-14T10:00:00\",\"2010-03-14T13:40:00\",\"2010-11-16T13:04:00\",\"2010-10-18T12:49:00\",\"2010-06-10T17:27:00\",\"2010-01-21T09:37:00\",\"2010-06-09T14:43:00\",\"2010-04-18T14:35:00\",\"2010-01-04T12:30:00\",\"2010-12-03T11:36:00\",\"2009-12-10T19:35:00\",\"2010-02-05T08:43:00\",\"2010-07-09T14:55:00\",\"2010-06-15T11:46:00\",\"2010-06-15T15:23:00\",\"2010-04-18T12:05:00\",\"2010-08-16T12:00:00\",\"2010-03-19T17:13:00\",\"2009-12-03T19:31:00\",\"2010-11-14T11:54:00\",\"2010-11-24T12:04:00\",\"2010-10-25T16:57:00\",\"2010-08-18T16:54:00\",\"2009-12-08T12:38:00\",\"2010-06-10T13:52:00\",\"2010-09-29T13:08:00\",\"2010-07-07T16:29:00\",\"2010-09-09T12:37:00\",\"2010-09-06T10:19:00\",\"2010-04-20T11:30:00\",\"2010-11-24T13:56:00\",\"2010-11-11T13:26:00\",\"2010-06-08T14:52:00\",\"2010-08-02T15:26:00\",\"2010-08-08T10:46:00\",\"2010-08-12T14:32:00\",\"2010-05-28T12:37:00\",\"2009-12-16T17:01:00\",\"2010-01-25T15:23:00\",\"2010-06-07T14:48:00\",\"2010-09-29T10:26:00\",\"2010-10-01T14:07:00\",\"2010-04-23T16:16:00\",\"2010-08-15T14:01:00\",\"2010-05-26T11:12:00\",\"2009-12-13T13:53:00\",\"2010-01-05T10:18:00\",\"2010-04-23T13:12:00\",\"2010-10-05T13:21:00\",\"2010-03-12T15:13:00\",\"2010-06-03T09:29:00\",\"2010-05-28T12:11:00\",\"2009-12-01T09:08:00\",\"2010-10-11T13:53:00\",\"2010-11-05T10:23:00\",\"2010-01-20T17:50:00\",\"2010-03-16T16:18:00\",\"2010-06-18T13:22:00\",\"2010-06-01T12:00:00\",\"2009-12-09T09:51:00\",\"2010-07-01T14:24:00\",\"2010-11-10T16:38:00\",\"2009-12-10T18:27:00\",\"2010-09-20T11:45:00\",\"2010-03-12T11:19:00\",\"2010-10-20T15:25:00\",\"2010-08-31T12:41:00\",\"2010-06-16T14:34:00\",\"2010-07-16T09:24:00\",\"2010-03-26T11:37:00\",\"2010-10-07T14:28:00\",\"2009-12-01T14:28:00\",\"2010-05-30T13:35:00\",\"2010-07-15T14:08:00\",\"2010-05-25T13:21:00\",\"2010-10-07T10:19:00\",\"2010-10-28T18:54:00\",\"2010-07-27T12:39:00\",\"2010-01-08T15:16:00\",\"2010-08-16T12:36:00\",\"2010-05-04T12:16:00\",\"2010-11-25T19:36:00\",\"2010-09-22T11:37:00\",\"2010-01-28T12:20:00\",\"2010-01-28T15:51:00\",\"2010-03-09T14:32:00\",\"2010-10-07T10:37:00\",\"2010-06-09T12:11:00\",\"2010-01-31T12:15:00\",\"2010-02-15T14:47:00\",\"2010-11-25T13:51:00\",\"2010-02-19T17:40:00\",\"2010-03-02T11:33:00\",\"2010-01-04T12:30:00\",\"2010-02-01T13:45:00\",\"2010-10-19T09:10:00\",\"2010-01-21T11:51:00\",\"2010-06-09T14:41:00\",\"2010-06-24T16:25:00\",\"2010-01-14T14:06:00\",\"2010-11-25T14:03:00\",\"2010-06-03T17:15:00\",\"2010-08-26T12:35:00\",\"2010-11-12T15:20:00\",\"2010-06-17T13:48:00\",\"2010-06-21T13:18:00\",\"2010-11-26T13:22:00\",\"2010-12-05T12:26:00\",\"2010-10-03T14:13:00\",\"2010-01-07T11:22:00\",\"2010-04-29T11:18:00\",\"2010-01-14T16:16:00\",\"2010-01-18T12:55:00\",\"2010-09-20T12:15:00\",\"2010-11-07T13:08:00\",\"2010-01-19T15:45:00\",\"2009-12-15T17:05:00\",\"2010-02-08T11:06:00\",\"2010-01-20T10:48:00\",\"2010-10-31T14:09:00\",\"2010-03-21T12:20:00\",\"2010-08-17T12:03:00\",\"2010-02-15T11:22:00\",\"2010-11-21T12:40:00\",\"2010-02-17T12:12:00\",\"2009-12-06T10:26:00\",\"2010-11-25T13:18:00\",\"2010-10-14T18:02:00\",\"2010-06-16T16:04:00\",\"2010-10-10T16:01:00\",\"2010-01-25T13:14:00\",\"2010-10-27T08:36:00\",\"2010-12-03T15:05:00\",\"2010-07-21T14:43:00\",\"2010-05-07T14:56:00\",\"2010-05-19T14:22:00\",\"2010-11-08T14:19:00\",\"2010-12-08T12:17:00\",\"2010-10-21T15:38:00\",\"2010-09-14T16:15:00\",\"2010-09-16T12:27:00\",\"2010-08-03T14:23:00\",\"2010-11-17T12:44:00\",\"2010-05-06T11:44:00\",\"2010-08-08T14:37:00\",\"2010-04-22T12:58:00\",\"2010-03-07T12:06:00\",\"2010-10-24T11:18:00\",\"2010-10-27T14:05:00\",\"2010-07-19T12:17:00\",\"2010-11-03T13:47:00\",\"2010-02-25T13:23:00\",\"2010-08-18T16:54:00\",\"2010-08-16T14:59:00\",\"2010-06-06T15:01:00\",\"2010-06-15T12:22:00\",\"2010-08-17T12:03:00\",\"2010-07-04T13:10:00\",\"2010-11-19T12:56:00\",\"2010-09-28T14:44:00\",\"2009-12-22T09:41:00\",\"2010-06-14T16:25:00\",\"2010-01-04T09:24:00\",\"2010-08-26T15:42:00\",\"2010-04-25T11:43:00\",\"2010-06-04T14:54:00\",\"2010-07-14T13:01:00\",\"2009-12-16T17:01:00\",\"2010-09-23T13:26:00\",\"2010-11-10T13:23:00\",\"2010-10-18T12:58:00\",\"2010-04-25T11:43:00\",\"2010-04-06T12:39:00\",\"2010-11-17T09:22:00\",\"2010-06-09T10:52:00\",\"2010-06-17T09:30:00\",\"2010-08-23T11:58:00\",\"2010-10-31T12:36:00\",\"2009-12-16T17:36:00\",\"2010-11-30T17:43:00\",\"2010-03-23T12:18:00\",\"2010-09-02T13:29:00\",\"2010-09-07T09:31:00\",\"2010-02-17T12:03:00\",\"2010-11-17T16:48:00\",\"2010-10-20T17:12:00\",\"2010-04-15T16:35:00\",\"2010-11-19T13:07:00\",\"2010-09-19T16:20:00\",\"2010-12-09T14:19:00\",\"2010-02-28T14:12:00\",\"2010-04-07T10:36:00\",\"2010-08-15T13:26:00\",\"2010-03-01T09:58:00\",\"2010-02-19T17:40:00\",\"2010-10-07T14:24:00\",\"2010-02-08T15:11:00\",\"2010-10-18T14:07:00\",\"2010-06-15T12:11:00\",\"2010-09-10T13:27:00\",\"2010-08-18T11:34:00\",\"2010-05-27T11:11:00\",\"2009-12-10T18:27:00\",\"2010-10-05T17:55:00\",\"2010-07-20T09:04:00\",\"2010-05-28T10:08:00\",\"2010-07-04T13:31:00\",\"2010-07-08T10:07:00\",\"2010-01-22T14:17:00\",\"2009-12-15T17:25:00\",\"2010-08-03T10:30:00\",\"2009-12-22T09:41:00\",\"2009-12-03T13:09:00\",\"2010-04-28T14:25:00\",\"2009-12-04T10:57:00\",\"2010-11-03T09:36:00\",\"2010-03-12T10:41:00\",\"2010-09-02T14:52:00\",\"2010-11-28T14:13:00\",\"2010-09-16T14:52:00\",\"2010-04-23T11:43:00\",\"2010-10-22T14:04:00\",\"2009-12-22T15:13:00\",\"2010-11-23T16:53:00\",\"2010-03-29T11:49:00\",\"2010-11-10T12:09:00\",\"2010-06-14T12:41:00\",\"2010-09-28T09:13:00\",\"2010-03-09T14:16:00\",\"2010-08-22T12:52:00\",\"2010-10-19T12:50:00\",\"2010-03-25T13:16:00\",\"2010-02-14T15:30:00\",\"2010-08-29T10:16:00\",\"2010-08-25T11:35:00\",\"2010-10-26T12:14:00\",\"2010-06-02T11:54:00\",\"2009-12-16T17:01:00\",\"2010-10-20T13:42:00\",\"2010-02-08T16:53:00\",\"2009-12-07T15:15:00\",\"2010-01-26T13:04:00\",\"2010-11-17T09:22:00\",\"2010-02-16T14:32:00\",\"2010-01-29T11:45:00\",\"2010-10-11T11:34:00\",\"2009-12-13T13:31:00\",\"2010-10-29T12:07:00\",\"2010-04-29T15:34:00\",\"2010-04-11T16:06:00\",\"2010-11-29T12:06:00\",\"2010-03-23T08:40:00\",\"2010-03-30T10:55:00\",\"2010-01-26T10:25:00\",\"2010-08-03T14:38:00\",\"2010-10-13T13:12:00\",\"2010-10-18T17:11:00\",\"2010-04-19T11:13:00\",\"2009-12-02T15:15:00\",\"2010-07-15T12:30:00\",\"2010-11-23T09:12:00\",\"2010-10-28T10:16:00\",\"2010-10-15T16:04:00\",\"2010-10-19T16:38:00\",\"2010-05-12T12:09:00\",\"2010-08-22T11:47:00\",\"2010-11-12T09:18:00\",\"2009-12-07T18:02:00\",\"2010-10-07T12:30:00\",\"2010-10-12T13:19:00\",\"2010-09-23T12:19:00\",\"2010-10-29T14:12:00\",\"2010-05-19T11:59:00\",\"2010-07-02T13:25:00\",\"2010-08-13T17:13:00\",\"2010-10-13T14:57:00\",\"2010-11-14T16:12:00\",\"2010-10-20T12:53:00\",\"2010-01-06T12:16:00\",\"2010-03-04T12:06:00\",\"2010-11-25T11:04:00\",\"2009-12-22T09:52:00\",\"2010-10-18T09:28:00\",\"2010-07-08T11:42:00\",\"2010-11-12T15:40:00\",\"2010-08-03T13:03:00\",\"2010-09-13T15:12:00\",\"2010-11-15T09:32:00\",\"2010-02-17T11:27:00\",\"2010-07-11T15:34:00\",\"2009-12-01T09:50:00\",\"2010-05-16T16:05:00\",\"2010-11-25T13:36:00\",\"2010-03-08T13:17:00\",\"2010-04-09T16:54:00\",\"2010-05-17T14:17:00\",\"2010-02-02T16:42:00\",\"2010-06-14T14:49:00\",\"2010-02-23T14:16:00\",\"2010-06-14T12:01:00\",\"2010-01-24T12:15:00\",\"2010-05-24T12:01:00\",\"2010-10-06T14:40:00\",\"2009-12-18T12:59:00\",\"2010-04-30T17:18:00\",\"2010-02-22T17:10:00\",\"2010-10-11T13:57:00\",\"2010-09-27T09:55:00\",\"2010-06-03T09:06:00\",\"2010-08-03T15:17:00\",\"2010-06-27T13:09:00\",\"2010-09-30T17:18:00\",\"2010-08-15T16:00:00\",\"2009-12-17T15:44:00\",\"2010-11-22T15:24:00\",\"2010-06-24T11:46:00\",\"2010-05-19T15:10:00\",\"2010-04-11T14:28:00\",\"2010-03-19T13:41:00\",\"2010-06-16T12:48:00\",\"2010-02-02T13:13:00\",\"2010-11-21T16:02:00\",\"2010-10-01T11:43:00\",\"2010-04-13T13:33:00\",\"2010-06-23T13:19:00\",\"2010-03-01T14:01:00\",\"2010-12-09T16:35:00\",\"2010-02-01T17:18:00\",\"2010-04-28T16:26:00\",\"2010-09-27T12:50:00\",\"2010-11-21T16:13:00\",\"2010-05-27T12:17:00\",\"2010-03-03T16:33:00\",\"2010-02-17T12:03:00\",\"2010-03-01T15:36:00\",\"2010-03-03T15:28:00\",\"2010-11-17T09:22:00\",\"2010-11-03T09:36:00\",\"2010-02-01T14:52:00\",\"2010-04-06T16:37:00\",\"2010-02-23T14:48:00\",\"2010-06-14T11:24:00\",\"2010-09-24T12:18:00\",\"2010-11-12T14:02:00\",\"2009-12-16T12:29:00\",\"2010-07-26T10:35:00\",\"2010-01-12T17:24:00\",\"2010-11-08T09:56:00\",\"2010-06-16T14:26:00\",\"2010-03-24T10:28:00\",\"2010-10-24T12:51:00\",\"2010-10-13T10:46:00\",\"2010-07-14T12:19:00\",\"2010-12-05T12:53:00\",\"2010-11-23T12:00:00\",\"2010-10-08T11:45:00\",\"2010-03-19T14:05:00\",\"2010-11-24T15:23:00\",\"2010-03-31T17:28:00\",\"2010-09-13T14:26:00\",\"2010-11-09T15:20:00\",\"2010-11-10T14:48:00\",\"2009-12-22T14:31:00\",\"2010-05-06T10:04:00\",\"2010-03-08T16:30:00\",\"2010-10-05T10:35:00\",\"2010-12-05T12:35:00\",\"2010-11-04T18:00:00\",\"2010-08-12T16:41:00\",\"2010-11-24T15:03:00\",\"2010-10-28T09:29:00\",\"2010-10-08T17:28:00\",\"2010-09-19T16:18:00\",\"2010-09-17T14:54:00\",\"2010-12-07T15:31:00\",\"2010-09-02T17:52:00\",\"2010-11-05T11:58:00\",\"2010-12-05T15:15:00\",\"2009-12-04T17:31:00\",\"2010-09-05T11:59:00\",\"2010-11-10T10:50:00\",\"2010-03-26T14:01:00\",\"2010-05-18T11:40:00\",\"2010-10-20T10:22:00\",\"2010-02-14T14:10:00\",\"2010-03-29T16:47:00\",\"2010-05-13T15:41:00\",\"2010-05-26T14:38:00\",\"2010-01-15T13:15:00\",\"2010-01-25T13:22:00\",\"2010-09-21T12:49:00\",\"2010-11-10T15:20:00\",\"2010-03-04T10:14:00\",\"2010-03-10T10:50:00\",\"2010-02-15T13:27:00\",\"2010-06-15T12:35:00\",\"2010-08-11T16:44:00\",\"2010-11-16T13:03:00\",\"2010-02-22T11:42:00\",\"2009-12-21T17:14:00\",\"2010-07-27T13:52:00\",\"2010-11-10T11:47:00\",\"2010-12-02T16:34:00\",\"2010-10-08T10:23:00\",\"2010-04-14T10:13:00\",\"2009-12-17T13:36:00\",\"2010-05-07T16:46:00\",\"2010-03-03T12:16:00\",\"2010-04-23T16:16:00\",\"2010-09-09T15:49:00\",\"2010-06-16T14:12:00\",\"2010-10-18T16:52:00\",\"2010-10-29T08:23:00\",\"2010-10-24T10:41:00\",\"2010-11-12T12:44:00\",\"2010-11-01T09:33:00\",\"2010-01-07T13:07:00\",\"2010-04-26T11:57:00\",\"2010-07-20T09:04:00\",\"2010-10-05T13:01:00\",\"2010-02-26T10:11:00\",\"2010-07-07T09:39:00\",\"2009-12-04T14:29:00\",\"2010-08-15T14:01:00\",\"2010-02-25T15:07:00\",\"2010-05-24T14:55:00\",\"2010-10-31T13:12:00\",\"2010-05-05T14:42:00\",\"2010-03-25T13:55:00\",\"2010-11-14T16:16:00\",\"2010-01-18T12:48:00\",\"2010-03-31T17:28:00\",\"2010-08-04T10:57:00\",\"2010-04-01T14:52:00\",\"2010-03-15T16:05:00\",\"2010-04-30T15:57:00\",\"2010-10-12T16:38:00\",\"2010-09-24T12:43:00\",\"2010-04-01T15:04:00\",\"2010-03-15T16:13:00\",\"2010-12-06T16:57:00\",\"2010-01-27T16:41:00\",\"2010-11-30T12:05:00\",\"2010-04-18T11:24:00\",\"2010-05-05T14:42:00\",\"2010-05-06T16:50:00\",\"2010-06-06T15:47:00\",\"2010-11-10T13:08:00\",\"2010-04-13T13:26:00\",\"2010-03-23T11:01:00\",\"2010-04-25T13:40:00\",\"2010-10-24T10:33:00\",\"2010-01-29T13:53:00\",\"2010-08-22T14:31:00\",\"2010-11-22T15:50:00\",\"2010-02-09T12:01:00\",\"2010-01-25T13:14:00\",\"2010-08-26T12:10:00\",\"2010-11-16T12:50:00\",\"2010-04-15T13:52:00\",\"2010-03-08T12:35:00\",\"2010-01-14T17:43:00\",\"2010-10-01T10:24:00\",\"2010-04-25T15:48:00\",\"2010-12-09T19:28:00\",\"2010-01-31T15:47:00\",\"2010-09-06T11:32:00\",\"2010-11-23T13:59:00\",\"2010-07-29T11:22:00\",\"2010-10-21T10:46:00\",\"2010-11-04T13:04:00\",\"2010-08-10T11:49:00\",\"2010-11-25T15:19:00\",\"2010-01-11T12:29:00\",\"2010-08-06T09:18:00\",\"2010-05-06T15:17:00\",\"2010-08-10T13:28:00\",\"2010-11-01T11:48:00\",\"2010-06-28T11:39:00\",\"2010-10-06T12:36:00\",\"2010-04-18T12:31:00\",\"2010-11-11T12:50:00\",\"2010-12-08T14:25:00\",\"2010-10-17T13:02:00\",\"2009-12-09T15:16:00\",\"2009-12-21T11:08:00\",\"2010-08-27T13:53:00\",\"2010-10-10T13:31:00\",\"2010-03-12T11:19:00\",\"2010-09-09T10:37:00\",\"2010-01-25T09:53:00\",\"2010-10-18T12:11:00\",\"2010-08-31T14:40:00\",\"2010-07-29T18:30:00\",\"2010-05-11T13:30:00\",\"2010-01-05T11:29:00\",\"2010-11-12T09:18:00\",\"2010-09-24T12:31:00\",\"2010-11-15T12:50:00\",\"2010-12-09T14:09:00\",\"2010-01-26T12:30:00\",\"2010-02-08T16:23:00\",\"2010-02-28T15:01:00\",\"2010-02-25T13:40:00\",\"2010-10-26T10:34:00\",\"2010-02-17T14:39:00\",\"2010-09-05T15:27:00\",\"2010-09-01T17:17:00\",\"2010-04-21T15:34:00\",\"2010-06-24T12:49:00\",\"2010-02-03T08:15:00\",\"2010-11-10T12:09:00\",\"2010-10-07T16:48:00\",\"2010-04-16T12:43:00\",\"2010-04-01T12:26:00\",\"2010-10-26T14:47:00\",\"2010-10-17T16:06:00\",\"2010-11-04T14:49:00\",\"2010-11-05T12:09:00\",\"2010-10-07T09:12:00\",\"2010-03-07T14:50:00\",\"2010-10-19T12:15:00\",\"2010-03-03T14:20:00\",\"2009-12-10T17:09:00\",\"2010-11-02T13:57:00\",\"2010-08-01T13:48:00\",\"2010-01-05T12:20:00\",\"2010-01-14T18:56:00\",\"2010-11-16T15:46:00\",\"2010-10-07T14:28:00\",\"2010-03-31T12:21:00\",\"2009-12-02T14:34:00\",\"2010-04-14T13:50:00\",\"2010-12-01T15:08:00\",\"2010-04-29T10:54:00\",\"2010-11-29T10:50:00\",\"2010-10-10T13:38:00\",\"2010-01-21T14:01:00\",\"2010-05-10T09:55:00\"],\"xaxis\":\"x2\",\"yaxis\":\"y2\",\"type\":\"box\"}],                        {\"template\":{\"data\":{\"histogram2dcontour\":[{\"type\":\"histogram2dcontour\",\"colorbar\":{\"outlinewidth\":0,\"ticks\":\"\"},\"colorscale\":[[0.0,\"#0d0887\"],[0.1111111111111111,\"#46039f\"],[0.2222222222222222,\"#7201a8\"],[0.3333333333333333,\"#9c179e\"],[0.4444444444444444,\"#bd3786\"],[0.5555555555555556,\"#d8576b\"],[0.6666666666666666,\"#ed7953\"],[0.7777777777777778,\"#fb9f3a\"],[0.8888888888888888,\"#fdca26\"],[1.0,\"#f0f921\"]]}],\"choropleth\":[{\"type\":\"choropleth\",\"colorbar\":{\"outlinewidth\":0,\"ticks\":\"\"}}],\"histogram2d\":[{\"type\":\"histogram2d\",\"colorbar\":{\"outlinewidth\":0,\"ticks\":\"\"},\"colorscale\":[[0.0,\"#0d0887\"],[0.1111111111111111,\"#46039f\"],[0.2222222222222222,\"#7201a8\"],[0.3333333333333333,\"#9c179e\"],[0.4444444444444444,\"#bd3786\"],[0.5555555555555556,\"#d8576b\"],[0.6666666666666666,\"#ed7953\"],[0.7777777777777778,\"#fb9f3a\"],[0.8888888888888888,\"#fdca26\"],[1.0,\"#f0f921\"]]}],\"heatmap\":[{\"type\":\"heatmap\",\"colorbar\":{\"outlinewidth\":0,\"ticks\":\"\"},\"colorscale\":[[0.0,\"#0d0887\"],[0.1111111111111111,\"#46039f\"],[0.2222222222222222,\"#7201a8\"],[0.3333333333333333,\"#9c179e\"],[0.4444444444444444,\"#bd3786\"],[0.5555555555555556,\"#d8576b\"],[0.6666666666666666,\"#ed7953\"],[0.7777777777777778,\"#fb9f3a\"],[0.8888888888888888,\"#fdca26\"],[1.0,\"#f0f921\"]]}],\"heatmapgl\":[{\"type\":\"heatmapgl\",\"colorbar\":{\"outlinewidth\":0,\"ticks\":\"\"},\"colorscale\":[[0.0,\"#0d0887\"],[0.1111111111111111,\"#46039f\"],[0.2222222222222222,\"#7201a8\"],[0.3333333333333333,\"#9c179e\"],[0.4444444444444444,\"#bd3786\"],[0.5555555555555556,\"#d8576b\"],[0.6666666666666666,\"#ed7953\"],[0.7777777777777778,\"#fb9f3a\"],[0.8888888888888888,\"#fdca26\"],[1.0,\"#f0f921\"]]}],\"contourcarpet\":[{\"type\":\"contourcarpet\",\"colorbar\":{\"outlinewidth\":0,\"ticks\":\"\"}}],\"contour\":[{\"type\":\"contour\",\"colorbar\":{\"outlinewidth\":0,\"ticks\":\"\"},\"colorscale\":[[0.0,\"#0d0887\"],[0.1111111111111111,\"#46039f\"],[0.2222222222222222,\"#7201a8\"],[0.3333333333333333,\"#9c179e\"],[0.4444444444444444,\"#bd3786\"],[0.5555555555555556,\"#d8576b\"],[0.6666666666666666,\"#ed7953\"],[0.7777777777777778,\"#fb9f3a\"],[0.8888888888888888,\"#fdca26\"],[1.0,\"#f0f921\"]]}],\"surface\":[{\"type\":\"surface\",\"colorbar\":{\"outlinewidth\":0,\"ticks\":\"\"},\"colorscale\":[[0.0,\"#0d0887\"],[0.1111111111111111,\"#46039f\"],[0.2222222222222222,\"#7201a8\"],[0.3333333333333333,\"#9c179e\"],[0.4444444444444444,\"#bd3786\"],[0.5555555555555556,\"#d8576b\"],[0.6666666666666666,\"#ed7953\"],[0.7777777777777778,\"#fb9f3a\"],[0.8888888888888888,\"#fdca26\"],[1.0,\"#f0f921\"]]}],\"mesh3d\":[{\"type\":\"mesh3d\",\"colorbar\":{\"outlinewidth\":0,\"ticks\":\"\"}}],\"scatter\":[{\"fillpattern\":{\"fillmode\":\"overlay\",\"size\":10,\"solidity\":0.2},\"type\":\"scatter\"}],\"parcoords\":[{\"type\":\"parcoords\",\"line\":{\"colorbar\":{\"outlinewidth\":0,\"ticks\":\"\"}}}],\"scatterpolargl\":[{\"type\":\"scatterpolargl\",\"marker\":{\"colorbar\":{\"outlinewidth\":0,\"ticks\":\"\"}}}],\"bar\":[{\"error_x\":{\"color\":\"#2a3f5f\"},\"error_y\":{\"color\":\"#2a3f5f\"},\"marker\":{\"line\":{\"color\":\"#E5ECF6\",\"width\":0.5},\"pattern\":{\"fillmode\":\"overlay\",\"size\":10,\"solidity\":0.2}},\"type\":\"bar\"}],\"scattergeo\":[{\"type\":\"scattergeo\",\"marker\":{\"colorbar\":{\"outlinewidth\":0,\"ticks\":\"\"}}}],\"scatterpolar\":[{\"type\":\"scatterpolar\",\"marker\":{\"colorbar\":{\"outlinewidth\":0,\"ticks\":\"\"}}}],\"histogram\":[{\"marker\":{\"pattern\":{\"fillmode\":\"overlay\",\"size\":10,\"solidity\":0.2}},\"type\":\"histogram\"}],\"scattergl\":[{\"type\":\"scattergl\",\"marker\":{\"colorbar\":{\"outlinewidth\":0,\"ticks\":\"\"}}}],\"scatter3d\":[{\"type\":\"scatter3d\",\"line\":{\"colorbar\":{\"outlinewidth\":0,\"ticks\":\"\"}},\"marker\":{\"colorbar\":{\"outlinewidth\":0,\"ticks\":\"\"}}}],\"scattermapbox\":[{\"type\":\"scattermapbox\",\"marker\":{\"colorbar\":{\"outlinewidth\":0,\"ticks\":\"\"}}}],\"scatterternary\":[{\"type\":\"scatterternary\",\"marker\":{\"colorbar\":{\"outlinewidth\":0,\"ticks\":\"\"}}}],\"scattercarpet\":[{\"type\":\"scattercarpet\",\"marker\":{\"colorbar\":{\"outlinewidth\":0,\"ticks\":\"\"}}}],\"carpet\":[{\"aaxis\":{\"endlinecolor\":\"#2a3f5f\",\"gridcolor\":\"white\",\"linecolor\":\"white\",\"minorgridcolor\":\"white\",\"startlinecolor\":\"#2a3f5f\"},\"baxis\":{\"endlinecolor\":\"#2a3f5f\",\"gridcolor\":\"white\",\"linecolor\":\"white\",\"minorgridcolor\":\"white\",\"startlinecolor\":\"#2a3f5f\"},\"type\":\"carpet\"}],\"table\":[{\"cells\":{\"fill\":{\"color\":\"#EBF0F8\"},\"line\":{\"color\":\"white\"}},\"header\":{\"fill\":{\"color\":\"#C8D4E3\"},\"line\":{\"color\":\"white\"}},\"type\":\"table\"}],\"barpolar\":[{\"marker\":{\"line\":{\"color\":\"#E5ECF6\",\"width\":0.5},\"pattern\":{\"fillmode\":\"overlay\",\"size\":10,\"solidity\":0.2}},\"type\":\"barpolar\"}],\"pie\":[{\"automargin\":true,\"type\":\"pie\"}]},\"layout\":{\"autotypenumbers\":\"strict\",\"colorway\":[\"#636efa\",\"#EF553B\",\"#00cc96\",\"#ab63fa\",\"#FFA15A\",\"#19d3f3\",\"#FF6692\",\"#B6E880\",\"#FF97FF\",\"#FECB52\"],\"font\":{\"color\":\"#2a3f5f\"},\"hovermode\":\"closest\",\"hoverlabel\":{\"align\":\"left\"},\"paper_bgcolor\":\"white\",\"plot_bgcolor\":\"#E5ECF6\",\"polar\":{\"bgcolor\":\"#E5ECF6\",\"angularaxis\":{\"gridcolor\":\"white\",\"linecolor\":\"white\",\"ticks\":\"\"},\"radialaxis\":{\"gridcolor\":\"white\",\"linecolor\":\"white\",\"ticks\":\"\"}},\"ternary\":{\"bgcolor\":\"#E5ECF6\",\"aaxis\":{\"gridcolor\":\"white\",\"linecolor\":\"white\",\"ticks\":\"\"},\"baxis\":{\"gridcolor\":\"white\",\"linecolor\":\"white\",\"ticks\":\"\"},\"caxis\":{\"gridcolor\":\"white\",\"linecolor\":\"white\",\"ticks\":\"\"}},\"coloraxis\":{\"colorbar\":{\"outlinewidth\":0,\"ticks\":\"\"}},\"colorscale\":{\"sequential\":[[0.0,\"#0d0887\"],[0.1111111111111111,\"#46039f\"],[0.2222222222222222,\"#7201a8\"],[0.3333333333333333,\"#9c179e\"],[0.4444444444444444,\"#bd3786\"],[0.5555555555555556,\"#d8576b\"],[0.6666666666666666,\"#ed7953\"],[0.7777777777777778,\"#fb9f3a\"],[0.8888888888888888,\"#fdca26\"],[1.0,\"#f0f921\"]],\"sequentialminus\":[[0.0,\"#0d0887\"],[0.1111111111111111,\"#46039f\"],[0.2222222222222222,\"#7201a8\"],[0.3333333333333333,\"#9c179e\"],[0.4444444444444444,\"#bd3786\"],[0.5555555555555556,\"#d8576b\"],[0.6666666666666666,\"#ed7953\"],[0.7777777777777778,\"#fb9f3a\"],[0.8888888888888888,\"#fdca26\"],[1.0,\"#f0f921\"]],\"diverging\":[[0,\"#8e0152\"],[0.1,\"#c51b7d\"],[0.2,\"#de77ae\"],[0.3,\"#f1b6da\"],[0.4,\"#fde0ef\"],[0.5,\"#f7f7f7\"],[0.6,\"#e6f5d0\"],[0.7,\"#b8e186\"],[0.8,\"#7fbc41\"],[0.9,\"#4d9221\"],[1,\"#276419\"]]},\"xaxis\":{\"gridcolor\":\"white\",\"linecolor\":\"white\",\"ticks\":\"\",\"title\":{\"standoff\":15},\"zerolinecolor\":\"white\",\"automargin\":true,\"zerolinewidth\":2},\"yaxis\":{\"gridcolor\":\"white\",\"linecolor\":\"white\",\"ticks\":\"\",\"title\":{\"standoff\":15},\"zerolinecolor\":\"white\",\"automargin\":true,\"zerolinewidth\":2},\"scene\":{\"xaxis\":{\"backgroundcolor\":\"#E5ECF6\",\"gridcolor\":\"white\",\"linecolor\":\"white\",\"showbackground\":true,\"ticks\":\"\",\"zerolinecolor\":\"white\",\"gridwidth\":2},\"yaxis\":{\"backgroundcolor\":\"#E5ECF6\",\"gridcolor\":\"white\",\"linecolor\":\"white\",\"showbackground\":true,\"ticks\":\"\",\"zerolinecolor\":\"white\",\"gridwidth\":2},\"zaxis\":{\"backgroundcolor\":\"#E5ECF6\",\"gridcolor\":\"white\",\"linecolor\":\"white\",\"showbackground\":true,\"ticks\":\"\",\"zerolinecolor\":\"white\",\"gridwidth\":2}},\"shapedefaults\":{\"line\":{\"color\":\"#2a3f5f\"}},\"annotationdefaults\":{\"arrowcolor\":\"#2a3f5f\",\"arrowhead\":0,\"arrowwidth\":1},\"geo\":{\"bgcolor\":\"white\",\"landcolor\":\"#E5ECF6\",\"subunitcolor\":\"white\",\"showland\":true,\"showlakes\":true,\"lakecolor\":\"white\"},\"title\":{\"x\":0.05},\"mapbox\":{\"style\":\"light\"}}},\"xaxis\":{\"anchor\":\"y\",\"domain\":[0.0,1.0],\"title\":{\"text\":\"value\"}},\"yaxis\":{\"anchor\":\"x\",\"domain\":[0.0,0.7326],\"title\":{\"text\":\"count\"}},\"xaxis2\":{\"anchor\":\"y2\",\"domain\":[0.0,1.0],\"matches\":\"x\",\"showticklabels\":false,\"showgrid\":true},\"yaxis2\":{\"anchor\":\"x2\",\"domain\":[0.7426,1.0],\"matches\":\"y2\",\"showticklabels\":false,\"showline\":false,\"ticks\":\"\",\"showgrid\":false},\"legend\":{\"title\":{\"text\":\"variable\"},\"tracegroupgap\":0},\"title\":{\"text\":\"InvoiceDate\"},\"barmode\":\"relative\"},                        {\"responsive\": true}                    ).then(function(){\n",
              "                            \n",
              "var gd = document.getElementById('8a726f02-9fa3-4876-9ef1-faebfc36f8ed');\n",
              "var x = new MutationObserver(function (mutations, observer) {{\n",
              "        var display = window.getComputedStyle(gd).display;\n",
              "        if (!display || display === 'none') {{\n",
              "            console.log([gd, 'removed!']);\n",
              "            Plotly.purge(gd);\n",
              "            observer.disconnect();\n",
              "        }}\n",
              "}});\n",
              "\n",
              "// Listen for the removal of the full notebook cells\n",
              "var notebookContainer = gd.closest('#notebook-container');\n",
              "if (notebookContainer) {{\n",
              "    x.observe(notebookContainer, {childList: true});\n",
              "}}\n",
              "\n",
              "// Listen for the clearing of the current output cell\n",
              "var outputEl = gd.closest('.output');\n",
              "if (outputEl) {{\n",
              "    x.observe(outputEl, {childList: true});\n",
              "}}\n",
              "\n",
              "                        })                };                            </script>        </div>\n",
              "</body>\n",
              "</html>"
            ]
          },
          "metadata": {}
        }
      ]
    },
    {
      "cell_type": "markdown",
      "source": [
        "Se grafican la cantidad de boletas por rangos de fechas. En general se aprecia una cantidad promedio constante de boletas por unidad de tiempo, a excepción del periodo [20.12.2009 - 02.01.2010] donde se registró una importante baja y el periodo [07.11.2010 - 20.11.2010] donde se registro una importante alza de boletas."
      ],
      "metadata": {
        "id": "CSVQY-pg6ypJ"
      }
    },
    {
      "cell_type": "markdown",
      "source": [
        "#### Price profile"
      ],
      "metadata": {
        "id": "LOFk-__X4isP"
      }
    },
    {
      "cell_type": "code",
      "metadata": {
        "tags": [],
        "cell_id": "00020-0dd41995-78f8-4f2c-ac5d-f36288ccfda0",
        "deepnote_to_be_reexecuted": false,
        "source_hash": "6155d0f5",
        "execution_start": 1634325955534,
        "execution_millis": 2062,
        "deepnote_cell_type": "code",
        "deepnote_cell_height": 1714.0999755859375,
        "deepnote_output_heights": [
          49,
          424,
          527,
          527
        ],
        "id": "Of6P9uxvE-Mh",
        "outputId": "95d1c849-2541-4d9b-bc01-6305c1c25016",
        "colab": {
          "base_uri": "https://localhost:8080/",
          "height": 0
        }
      },
      "source": [
        "profile_serie(df_retail['Price'])"
      ],
      "execution_count": 147,
      "outputs": [
        {
          "output_type": "display_data",
          "data": {
            "text/plain": [
              "<IPython.core.display.Markdown object>"
            ],
            "text/markdown": "## Price Profile"
          },
          "metadata": {}
        },
        {
          "output_type": "display_data",
          "data": {
            "text/plain": [
              "Type                            float64\n",
              "Number of observations         525461.0\n",
              "Mean                           4.688834\n",
              "Std                          146.126914\n",
              "Min                           -53594.36\n",
              "25%                                1.25\n",
              "50%                                 2.1\n",
              "75%                                4.21\n",
              "Max                            25111.09\n",
              "Negative                              3\n",
              "Negative (%)                      0.0 %\n",
              "Zeros                              3687\n",
              "Zeros (%)                         0.7 %\n",
              "Kurt                       64868.344873\n",
              "Skew                        -140.768446\n",
              "                                       \n",
              "Missing cells                         0\n",
              "Missing cells (%)                 0.0 %\n",
              "Duplicate rows                   524485\n",
              "Duplicate rows (%)              99.81 %\n",
              "Total size in memory      4203816 bytes\n",
              "dtype: object"
            ]
          },
          "metadata": {}
        },
        {
          "output_type": "display_data",
          "data": {
            "text/html": [
              "<html>\n",
              "<head><meta charset=\"utf-8\" /></head>\n",
              "<body>\n",
              "    <div>            <script src=\"https://cdnjs.cloudflare.com/ajax/libs/mathjax/2.7.5/MathJax.js?config=TeX-AMS-MML_SVG\"></script><script type=\"text/javascript\">if (window.MathJax && window.MathJax.Hub && && window.MathJax.Hub.Config) {window.MathJax.Hub.Config({SVG: {font: \"STIX-Web\"}});}</script>                <script type=\"text/javascript\">window.PlotlyConfig = {MathJaxConfig: 'local'};</script>\n",
              "        <script src=\"https://cdn.plot.ly/plotly-2.12.1.min.js\"></script>                <div id=\"ecce3285-4937-49fb-a4cb-469004a8fb2e\" class=\"plotly-graph-div\" style=\"height:525px; width:100%;\"></div>            <script type=\"text/javascript\">                                    window.PLOTLYENV=window.PLOTLYENV || {};                                    if (document.getElementById(\"ecce3285-4937-49fb-a4cb-469004a8fb2e\")) {                    Plotly.newPlot(                        \"ecce3285-4937-49fb-a4cb-469004a8fb2e\",                        [{\"alignmentgroup\":\"True\",\"bingroup\":\"x\",\"hovertemplate\":\"variable=Price<br>value=%{x}<br>count=%{y}<extra></extra>\",\"legendgroup\":\"Price\",\"marker\":{\"color\":\"#636efa\",\"pattern\":{\"shape\":\"\"}},\"name\":\"Price\",\"offsetgroup\":\"Price\",\"orientation\":\"v\",\"showlegend\":true,\"x\":[7.95,2.1,0.55,1.25,4.95,0.64,5.91,3.75,1.25,1.95,1.25,12.72,0.38,1.25,2.95,5.06,8.5,6.04,1.65,4.25,4.21,3.75,5.91,2.1,10.95,4.21,13.87,0.42,0.1,2.51,2.51,2.95,4.21,0.42,1.45,2.55,1.66,4.65,5.55,2.51,0.65,2.55,1.45,9.95,1.25,2.1,1.95,1.65,0.87,2.95,0.85,0.55,1.65,0.85,8.49,0.85,5.91,4.21,2.1,2.51,1.95,6.35,0.65,2.55,8.5,1.25,10.95,0.85,13.57,0.85,0.85,2.1,3.75,1.65,12.75,7.49,1.66,1.65,7.65,1.65,2.95,0.65,2.55,0.85,0.85,2.51,0.85,5.91,4.25,4.95,18.0,1.65,1.65,10.95,2.55,1.65,1.25,2.57,2.55,2.95,0.85,0.85,1.65,0.85,0.65,2.95,8.5,8.5,0.08,1.25,1.25,6.75,6.75,3.75,2.95,1.45,1.25,5.95,4.65,0.95,0.85,2.95,1.65,6.77,2.1,2.25,4.21,1.69,0.42,1.25,1.65,1.25,2.55,1.65,2.57,1.25,2.51,5.91,0.42,1.66,5.88,0.85,0.21,0.19,1.65,1.65,1.69,0.42,4.95,2.95,3.75,1.65,1.65,1.95,1.69,0.29,5.95,8.5,2.1,4.21,2.95,7.95,1.65,0.42,1.25,1.45,1.65,3.75,0.36,10.75,12.75,2.1,1.25,4.95,2.55,0.42,5.95,1.25,1.69,1.69,1.65,4.95,1.84,1.95,4.65,1.25,0.85,5.95,1.95,0.85,0.42,1.65,4.25,1.25,4.95,0.85,2.55,1.06,0.0,1.25,4.25,3.36,0.85,5.45,1.95,7.49,1.25,0.42,7.62,1.25,2.51,1.66,0.85,3.75,1.95,0.85,2.95,4.25,2.1,3.75,1.45,0.85,0.42,8.5,3.45,8.47,8.95,3.25,0.85,1.65,0.85,2.98,2.95,0.55,3.75,1.25,1.65,0.85,7.49,0.38,1.65,3.36,1.65,34.0,3.75,1.95,5.06,4.65,3.39,1.25,1.25,8.47,2.95,4.95,0.65,0.85,4.21,0.65,4.95,2.1,2.51,3.75,0.85,0.43,8.5,1.25,2.95,2.95,7.95,2.1,5.91,2.95,0.95,1.25,2.51,1.25,3.36,1.25,2.55,2.95,4.25,2.1,0.72,7.49,4.21,2.95,0.85,0.42,2.51,0.85,3.75,1.65,3.75,0.42,12.75,1.25,1.65,1.65,0.85,1.45,0.85,0.34,2.95,0.85,9.95,4.21,1.95,2.51,2.55,9.95,4.21,1.66,0.85,9.95,0.0,1.65,2.95,1.06,1.25,1.25,4.25,1.65,8.5,16.13,1.25,7.49,2.1,11.26,0.43,0.42,10.17,1.66,0.81,5.95,4.21,14.95,1.25,0.72,3.36,3.75,1.06,8.5,6.75,2.95,0.42,0.55,11.87,0.65,2.1,1.95,2.1,1.45,2.95,79.95,1.65,4.25,2.55,4.95,2.1,2.51,4.25,1.25,1.65,4.25,1.66,122.3,3.45,7.65,9.95,1.65,3.36,9.95,1.65,2.55,2.1,0.85,0.85,2.95,3.36,4.3,5.06,0.19,2.1,3.36,1.66,2.1,5.91,5.95,1.06,2.55,34.0,2.55,7.49,0.65,2.95,7.95,8.47,2.1,3.36,2.1,1.95,2.55,2.51,2.1,2.12,9.95,4.95,4.21,1.25,0.42,2.95,5.91,0.55,0.42,38.26,12.75,2.95,9.95,16.95,5.45,0.55,3.95,2.95,0.85,4.21,0.55,7.49,0.85,0.72,1.25,2.51,6.95,1.66,5.91,4.95,4.21,0.85,3.95,0.42,1.66,1.25,1.25,2.95,34.74,1.95,1.25,2.51,0.85,2.1,1.06,6.75,2.1,0.55,6.04,0.85,0.85,0.83,3.25,2.55,7.62,1.45,1.06,1.45,2.1,2.95,9.95,1.65,12.75,1.25,3.75,0.85,0.55,1.25,0.85,0.65,1.25,1.69,5.95,0.0,1.25,0.55,2.1,4.21,1.65,5.95,1.25,1.45,0.85,2.95,2.95,1.65,8.47,8.5,2.55,2.1,0.85,8.5,1.95,1.7,0.65,2.95,1.65,1.25,0.85,4.25,0.64,0.42,0.38,1.65,2.1,12.75,0.65,0.65,4.95,0.85,1.25,1.66,1.65,0.85,4.95,3.04,0.42,16.95,1.65,1.25,5.06,0.85,0.85,2.1,1.65,0.85,8.47,3.43,2.55,0.42,9.95,1.66,0.65,1.25,12.75,12.72,5.95,4.65,3.39,6.75,1.65,4.25,0.85,2.55,2.95,3.75,2.55,1.65,7.95,1.95,0.29,4.95,1.25,0.42,2.95,5.95,1.25,4.95,5.91,4.21,16.98,1.65,4.25,2.95,1.25,1.45,3.36,10.95,1.49,12.75,4.25,0.29,9.95,1.65,1.45,7.95,1.45,1.66,1.65,2.95,5.95,3.75,0.42,2.95,2.98,2.95,1.65,1.65,1.95,0.38,1.65,7.95,2.55,4.25,2.95,0.85,2.95,1.45,1.65,0.42,5.95,1.25,2.1,0.85,3.75,34.0,3.75,1.45,4.25,1.25,1.65,3.75,7.62,0.55,1.95,1.45,1.7,0.36,4.5,4.95,1.95,4.21,1.25,5.17,2.55,0.42,4.95,1.95,2.55,1.28,1.65,0.42,1.95,1.65,2.1,0.85,5.95,0.65,1.45,7.65,2.1,2.95,4.95,8.47,0.95,1.25,2.95,9.95,1.65,2.55,1.65,1.25,1.25,1.25,1.25,2.51,0.85,7.49,1.65,1.45,1.95,0.65,1.25,0.42,2.1,12.75,0.85,1.7,2.1,2.95,1.25,3.36,1.65,1.95,2.55,5.45,0.55,16.95,6.04,4.21,5.95,4.95,1.06,2.55,7.49,1.25,0.55,1.95,5.95,5.95,295.0,2.51,5.91,4.3,1.65,2.51,1.25,1.25,16.98,1.25,10.95,3.35,1.45,1.65,1.25,1.65,4.21,2.95,0.42,2.55,4.95,4.95,1.25,3.36,1.25,1.95,3.36,2.51,0.85,2.55,2.55,1.65,5.91,1.7,2.1,3.36,0.42,2.1,1.65,0.36,2.95,8.5,0.42,0.42,1.25,1.66,1.06,5.2,1.28,12.75,1.25,2.95,3.75,1.66,5.95,8.5,0.55,0.85,2.95,1.25,0.85,1.25,1.25,4.21,0.85,0.42,7.95,3.36,1.25,0.38,0.85,2.95,8.95,1.65,0.85,11.02,7.95,0.85,2.25,4.95,0.85,11.02,2.1,0.85,12.75,2.55,0.42,2.95,12.75,1.69,0.85,1.25,5.06,5.91,4.65,0.95,1.25,1.65,0.85,0.65,2.95,8.47,1.66,5.91,0.42,5.95,7.95,4.21,2.95,1.25,0.85,6.35,0.65,0.42,6.75,0.42,2.55,12.75,2.95,0.85,4.95,2.55,1.25,2.95,1.28,6.75,1.95,1.66,4.3,0.53,1.65,3.75,2.1,2.1,3.36,3.75,5.95,1.25,0.95,2.95,4.21,1.66,5.91,1.69,5.49,2.55,1.65,0.65,1.66,0.85,7.95,2.95,4.25,0.55,0.65,1.45,3.75,1.85,5.95,4.95,1.25,2.55,12.75,9.95,0.85,1.25,1.25,0.42,1.69,0.42,1.69,2.95,1.25,1.65,5.91,3.36,0.55,1.25,0.85,1.25,5.95,6.45,2.95,1.28,1.95,1.25,0.85,0.42,1.25,1.65,4.95,2.95,3.95,3.36,0.55,1.95,2.1,1.66,2.1,1.25,9.95,1.95,3.75,3.75,12.72,3.75,0.43,0.85,0.85,2.95,0.81,0.85,1.25,2.1,5.95,0.85,2.95,8.95,2.1,2.55,3.75,0.42,0.85,1.65,2.55,9.95,4.21,29.79,4.95,1.65,3.75,0.21,2.55,2.1,4.21,0.85,0.55,0.85,0.85,2.95,0.65,1.06,7.95,4.25,0.55,2.95,2.1,1269.51,2.51,0.65,1.25,4.25,3.75,1.25,3.36,0.55,3.75,2.55,1.95,0.42,0.42,0.42,4.21,0.85,3.75,0.43,0.42,1.65,2.95,2.51,0.85,3.25,4.95,14.43,5.45,7.95,2.1,0.42,12.75,1.45,0.85,1.66,0.85,8.47,2.1,1.85,6.75,3.75,1.25,2.95,1.66,2.95,4.25,4.95,1.25,4.21,4.95,1.25,12.75,3.75,2.95,1.65,1.95,1.95,2.98],\"xaxis\":\"x\",\"yaxis\":\"y\",\"type\":\"histogram\"},{\"alignmentgroup\":\"True\",\"hovertemplate\":\"variable=Price<br>value=%{x}<extra></extra>\",\"legendgroup\":\"Price\",\"marker\":{\"color\":\"#636efa\"},\"name\":\"Price\",\"notched\":true,\"offsetgroup\":\"Price\",\"showlegend\":false,\"x\":[7.95,2.1,0.55,1.25,4.95,0.64,5.91,3.75,1.25,1.95,1.25,12.72,0.38,1.25,2.95,5.06,8.5,6.04,1.65,4.25,4.21,3.75,5.91,2.1,10.95,4.21,13.87,0.42,0.1,2.51,2.51,2.95,4.21,0.42,1.45,2.55,1.66,4.65,5.55,2.51,0.65,2.55,1.45,9.95,1.25,2.1,1.95,1.65,0.87,2.95,0.85,0.55,1.65,0.85,8.49,0.85,5.91,4.21,2.1,2.51,1.95,6.35,0.65,2.55,8.5,1.25,10.95,0.85,13.57,0.85,0.85,2.1,3.75,1.65,12.75,7.49,1.66,1.65,7.65,1.65,2.95,0.65,2.55,0.85,0.85,2.51,0.85,5.91,4.25,4.95,18.0,1.65,1.65,10.95,2.55,1.65,1.25,2.57,2.55,2.95,0.85,0.85,1.65,0.85,0.65,2.95,8.5,8.5,0.08,1.25,1.25,6.75,6.75,3.75,2.95,1.45,1.25,5.95,4.65,0.95,0.85,2.95,1.65,6.77,2.1,2.25,4.21,1.69,0.42,1.25,1.65,1.25,2.55,1.65,2.57,1.25,2.51,5.91,0.42,1.66,5.88,0.85,0.21,0.19,1.65,1.65,1.69,0.42,4.95,2.95,3.75,1.65,1.65,1.95,1.69,0.29,5.95,8.5,2.1,4.21,2.95,7.95,1.65,0.42,1.25,1.45,1.65,3.75,0.36,10.75,12.75,2.1,1.25,4.95,2.55,0.42,5.95,1.25,1.69,1.69,1.65,4.95,1.84,1.95,4.65,1.25,0.85,5.95,1.95,0.85,0.42,1.65,4.25,1.25,4.95,0.85,2.55,1.06,0.0,1.25,4.25,3.36,0.85,5.45,1.95,7.49,1.25,0.42,7.62,1.25,2.51,1.66,0.85,3.75,1.95,0.85,2.95,4.25,2.1,3.75,1.45,0.85,0.42,8.5,3.45,8.47,8.95,3.25,0.85,1.65,0.85,2.98,2.95,0.55,3.75,1.25,1.65,0.85,7.49,0.38,1.65,3.36,1.65,34.0,3.75,1.95,5.06,4.65,3.39,1.25,1.25,8.47,2.95,4.95,0.65,0.85,4.21,0.65,4.95,2.1,2.51,3.75,0.85,0.43,8.5,1.25,2.95,2.95,7.95,2.1,5.91,2.95,0.95,1.25,2.51,1.25,3.36,1.25,2.55,2.95,4.25,2.1,0.72,7.49,4.21,2.95,0.85,0.42,2.51,0.85,3.75,1.65,3.75,0.42,12.75,1.25,1.65,1.65,0.85,1.45,0.85,0.34,2.95,0.85,9.95,4.21,1.95,2.51,2.55,9.95,4.21,1.66,0.85,9.95,0.0,1.65,2.95,1.06,1.25,1.25,4.25,1.65,8.5,16.13,1.25,7.49,2.1,11.26,0.43,0.42,10.17,1.66,0.81,5.95,4.21,14.95,1.25,0.72,3.36,3.75,1.06,8.5,6.75,2.95,0.42,0.55,11.87,0.65,2.1,1.95,2.1,1.45,2.95,79.95,1.65,4.25,2.55,4.95,2.1,2.51,4.25,1.25,1.65,4.25,1.66,122.3,3.45,7.65,9.95,1.65,3.36,9.95,1.65,2.55,2.1,0.85,0.85,2.95,3.36,4.3,5.06,0.19,2.1,3.36,1.66,2.1,5.91,5.95,1.06,2.55,34.0,2.55,7.49,0.65,2.95,7.95,8.47,2.1,3.36,2.1,1.95,2.55,2.51,2.1,2.12,9.95,4.95,4.21,1.25,0.42,2.95,5.91,0.55,0.42,38.26,12.75,2.95,9.95,16.95,5.45,0.55,3.95,2.95,0.85,4.21,0.55,7.49,0.85,0.72,1.25,2.51,6.95,1.66,5.91,4.95,4.21,0.85,3.95,0.42,1.66,1.25,1.25,2.95,34.74,1.95,1.25,2.51,0.85,2.1,1.06,6.75,2.1,0.55,6.04,0.85,0.85,0.83,3.25,2.55,7.62,1.45,1.06,1.45,2.1,2.95,9.95,1.65,12.75,1.25,3.75,0.85,0.55,1.25,0.85,0.65,1.25,1.69,5.95,0.0,1.25,0.55,2.1,4.21,1.65,5.95,1.25,1.45,0.85,2.95,2.95,1.65,8.47,8.5,2.55,2.1,0.85,8.5,1.95,1.7,0.65,2.95,1.65,1.25,0.85,4.25,0.64,0.42,0.38,1.65,2.1,12.75,0.65,0.65,4.95,0.85,1.25,1.66,1.65,0.85,4.95,3.04,0.42,16.95,1.65,1.25,5.06,0.85,0.85,2.1,1.65,0.85,8.47,3.43,2.55,0.42,9.95,1.66,0.65,1.25,12.75,12.72,5.95,4.65,3.39,6.75,1.65,4.25,0.85,2.55,2.95,3.75,2.55,1.65,7.95,1.95,0.29,4.95,1.25,0.42,2.95,5.95,1.25,4.95,5.91,4.21,16.98,1.65,4.25,2.95,1.25,1.45,3.36,10.95,1.49,12.75,4.25,0.29,9.95,1.65,1.45,7.95,1.45,1.66,1.65,2.95,5.95,3.75,0.42,2.95,2.98,2.95,1.65,1.65,1.95,0.38,1.65,7.95,2.55,4.25,2.95,0.85,2.95,1.45,1.65,0.42,5.95,1.25,2.1,0.85,3.75,34.0,3.75,1.45,4.25,1.25,1.65,3.75,7.62,0.55,1.95,1.45,1.7,0.36,4.5,4.95,1.95,4.21,1.25,5.17,2.55,0.42,4.95,1.95,2.55,1.28,1.65,0.42,1.95,1.65,2.1,0.85,5.95,0.65,1.45,7.65,2.1,2.95,4.95,8.47,0.95,1.25,2.95,9.95,1.65,2.55,1.65,1.25,1.25,1.25,1.25,2.51,0.85,7.49,1.65,1.45,1.95,0.65,1.25,0.42,2.1,12.75,0.85,1.7,2.1,2.95,1.25,3.36,1.65,1.95,2.55,5.45,0.55,16.95,6.04,4.21,5.95,4.95,1.06,2.55,7.49,1.25,0.55,1.95,5.95,5.95,295.0,2.51,5.91,4.3,1.65,2.51,1.25,1.25,16.98,1.25,10.95,3.35,1.45,1.65,1.25,1.65,4.21,2.95,0.42,2.55,4.95,4.95,1.25,3.36,1.25,1.95,3.36,2.51,0.85,2.55,2.55,1.65,5.91,1.7,2.1,3.36,0.42,2.1,1.65,0.36,2.95,8.5,0.42,0.42,1.25,1.66,1.06,5.2,1.28,12.75,1.25,2.95,3.75,1.66,5.95,8.5,0.55,0.85,2.95,1.25,0.85,1.25,1.25,4.21,0.85,0.42,7.95,3.36,1.25,0.38,0.85,2.95,8.95,1.65,0.85,11.02,7.95,0.85,2.25,4.95,0.85,11.02,2.1,0.85,12.75,2.55,0.42,2.95,12.75,1.69,0.85,1.25,5.06,5.91,4.65,0.95,1.25,1.65,0.85,0.65,2.95,8.47,1.66,5.91,0.42,5.95,7.95,4.21,2.95,1.25,0.85,6.35,0.65,0.42,6.75,0.42,2.55,12.75,2.95,0.85,4.95,2.55,1.25,2.95,1.28,6.75,1.95,1.66,4.3,0.53,1.65,3.75,2.1,2.1,3.36,3.75,5.95,1.25,0.95,2.95,4.21,1.66,5.91,1.69,5.49,2.55,1.65,0.65,1.66,0.85,7.95,2.95,4.25,0.55,0.65,1.45,3.75,1.85,5.95,4.95,1.25,2.55,12.75,9.95,0.85,1.25,1.25,0.42,1.69,0.42,1.69,2.95,1.25,1.65,5.91,3.36,0.55,1.25,0.85,1.25,5.95,6.45,2.95,1.28,1.95,1.25,0.85,0.42,1.25,1.65,4.95,2.95,3.95,3.36,0.55,1.95,2.1,1.66,2.1,1.25,9.95,1.95,3.75,3.75,12.72,3.75,0.43,0.85,0.85,2.95,0.81,0.85,1.25,2.1,5.95,0.85,2.95,8.95,2.1,2.55,3.75,0.42,0.85,1.65,2.55,9.95,4.21,29.79,4.95,1.65,3.75,0.21,2.55,2.1,4.21,0.85,0.55,0.85,0.85,2.95,0.65,1.06,7.95,4.25,0.55,2.95,2.1,1269.51,2.51,0.65,1.25,4.25,3.75,1.25,3.36,0.55,3.75,2.55,1.95,0.42,0.42,0.42,4.21,0.85,3.75,0.43,0.42,1.65,2.95,2.51,0.85,3.25,4.95,14.43,5.45,7.95,2.1,0.42,12.75,1.45,0.85,1.66,0.85,8.47,2.1,1.85,6.75,3.75,1.25,2.95,1.66,2.95,4.25,4.95,1.25,4.21,4.95,1.25,12.75,3.75,2.95,1.65,1.95,1.95,2.98],\"xaxis\":\"x2\",\"yaxis\":\"y2\",\"type\":\"box\"}],                        {\"template\":{\"data\":{\"histogram2dcontour\":[{\"type\":\"histogram2dcontour\",\"colorbar\":{\"outlinewidth\":0,\"ticks\":\"\"},\"colorscale\":[[0.0,\"#0d0887\"],[0.1111111111111111,\"#46039f\"],[0.2222222222222222,\"#7201a8\"],[0.3333333333333333,\"#9c179e\"],[0.4444444444444444,\"#bd3786\"],[0.5555555555555556,\"#d8576b\"],[0.6666666666666666,\"#ed7953\"],[0.7777777777777778,\"#fb9f3a\"],[0.8888888888888888,\"#fdca26\"],[1.0,\"#f0f921\"]]}],\"choropleth\":[{\"type\":\"choropleth\",\"colorbar\":{\"outlinewidth\":0,\"ticks\":\"\"}}],\"histogram2d\":[{\"type\":\"histogram2d\",\"colorbar\":{\"outlinewidth\":0,\"ticks\":\"\"},\"colorscale\":[[0.0,\"#0d0887\"],[0.1111111111111111,\"#46039f\"],[0.2222222222222222,\"#7201a8\"],[0.3333333333333333,\"#9c179e\"],[0.4444444444444444,\"#bd3786\"],[0.5555555555555556,\"#d8576b\"],[0.6666666666666666,\"#ed7953\"],[0.7777777777777778,\"#fb9f3a\"],[0.8888888888888888,\"#fdca26\"],[1.0,\"#f0f921\"]]}],\"heatmap\":[{\"type\":\"heatmap\",\"colorbar\":{\"outlinewidth\":0,\"ticks\":\"\"},\"colorscale\":[[0.0,\"#0d0887\"],[0.1111111111111111,\"#46039f\"],[0.2222222222222222,\"#7201a8\"],[0.3333333333333333,\"#9c179e\"],[0.4444444444444444,\"#bd3786\"],[0.5555555555555556,\"#d8576b\"],[0.6666666666666666,\"#ed7953\"],[0.7777777777777778,\"#fb9f3a\"],[0.8888888888888888,\"#fdca26\"],[1.0,\"#f0f921\"]]}],\"heatmapgl\":[{\"type\":\"heatmapgl\",\"colorbar\":{\"outlinewidth\":0,\"ticks\":\"\"},\"colorscale\":[[0.0,\"#0d0887\"],[0.1111111111111111,\"#46039f\"],[0.2222222222222222,\"#7201a8\"],[0.3333333333333333,\"#9c179e\"],[0.4444444444444444,\"#bd3786\"],[0.5555555555555556,\"#d8576b\"],[0.6666666666666666,\"#ed7953\"],[0.7777777777777778,\"#fb9f3a\"],[0.8888888888888888,\"#fdca26\"],[1.0,\"#f0f921\"]]}],\"contourcarpet\":[{\"type\":\"contourcarpet\",\"colorbar\":{\"outlinewidth\":0,\"ticks\":\"\"}}],\"contour\":[{\"type\":\"contour\",\"colorbar\":{\"outlinewidth\":0,\"ticks\":\"\"},\"colorscale\":[[0.0,\"#0d0887\"],[0.1111111111111111,\"#46039f\"],[0.2222222222222222,\"#7201a8\"],[0.3333333333333333,\"#9c179e\"],[0.4444444444444444,\"#bd3786\"],[0.5555555555555556,\"#d8576b\"],[0.6666666666666666,\"#ed7953\"],[0.7777777777777778,\"#fb9f3a\"],[0.8888888888888888,\"#fdca26\"],[1.0,\"#f0f921\"]]}],\"surface\":[{\"type\":\"surface\",\"colorbar\":{\"outlinewidth\":0,\"ticks\":\"\"},\"colorscale\":[[0.0,\"#0d0887\"],[0.1111111111111111,\"#46039f\"],[0.2222222222222222,\"#7201a8\"],[0.3333333333333333,\"#9c179e\"],[0.4444444444444444,\"#bd3786\"],[0.5555555555555556,\"#d8576b\"],[0.6666666666666666,\"#ed7953\"],[0.7777777777777778,\"#fb9f3a\"],[0.8888888888888888,\"#fdca26\"],[1.0,\"#f0f921\"]]}],\"mesh3d\":[{\"type\":\"mesh3d\",\"colorbar\":{\"outlinewidth\":0,\"ticks\":\"\"}}],\"scatter\":[{\"fillpattern\":{\"fillmode\":\"overlay\",\"size\":10,\"solidity\":0.2},\"type\":\"scatter\"}],\"parcoords\":[{\"type\":\"parcoords\",\"line\":{\"colorbar\":{\"outlinewidth\":0,\"ticks\":\"\"}}}],\"scatterpolargl\":[{\"type\":\"scatterpolargl\",\"marker\":{\"colorbar\":{\"outlinewidth\":0,\"ticks\":\"\"}}}],\"bar\":[{\"error_x\":{\"color\":\"#2a3f5f\"},\"error_y\":{\"color\":\"#2a3f5f\"},\"marker\":{\"line\":{\"color\":\"#E5ECF6\",\"width\":0.5},\"pattern\":{\"fillmode\":\"overlay\",\"size\":10,\"solidity\":0.2}},\"type\":\"bar\"}],\"scattergeo\":[{\"type\":\"scattergeo\",\"marker\":{\"colorbar\":{\"outlinewidth\":0,\"ticks\":\"\"}}}],\"scatterpolar\":[{\"type\":\"scatterpolar\",\"marker\":{\"colorbar\":{\"outlinewidth\":0,\"ticks\":\"\"}}}],\"histogram\":[{\"marker\":{\"pattern\":{\"fillmode\":\"overlay\",\"size\":10,\"solidity\":0.2}},\"type\":\"histogram\"}],\"scattergl\":[{\"type\":\"scattergl\",\"marker\":{\"colorbar\":{\"outlinewidth\":0,\"ticks\":\"\"}}}],\"scatter3d\":[{\"type\":\"scatter3d\",\"line\":{\"colorbar\":{\"outlinewidth\":0,\"ticks\":\"\"}},\"marker\":{\"colorbar\":{\"outlinewidth\":0,\"ticks\":\"\"}}}],\"scattermapbox\":[{\"type\":\"scattermapbox\",\"marker\":{\"colorbar\":{\"outlinewidth\":0,\"ticks\":\"\"}}}],\"scatterternary\":[{\"type\":\"scatterternary\",\"marker\":{\"colorbar\":{\"outlinewidth\":0,\"ticks\":\"\"}}}],\"scattercarpet\":[{\"type\":\"scattercarpet\",\"marker\":{\"colorbar\":{\"outlinewidth\":0,\"ticks\":\"\"}}}],\"carpet\":[{\"aaxis\":{\"endlinecolor\":\"#2a3f5f\",\"gridcolor\":\"white\",\"linecolor\":\"white\",\"minorgridcolor\":\"white\",\"startlinecolor\":\"#2a3f5f\"},\"baxis\":{\"endlinecolor\":\"#2a3f5f\",\"gridcolor\":\"white\",\"linecolor\":\"white\",\"minorgridcolor\":\"white\",\"startlinecolor\":\"#2a3f5f\"},\"type\":\"carpet\"}],\"table\":[{\"cells\":{\"fill\":{\"color\":\"#EBF0F8\"},\"line\":{\"color\":\"white\"}},\"header\":{\"fill\":{\"color\":\"#C8D4E3\"},\"line\":{\"color\":\"white\"}},\"type\":\"table\"}],\"barpolar\":[{\"marker\":{\"line\":{\"color\":\"#E5ECF6\",\"width\":0.5},\"pattern\":{\"fillmode\":\"overlay\",\"size\":10,\"solidity\":0.2}},\"type\":\"barpolar\"}],\"pie\":[{\"automargin\":true,\"type\":\"pie\"}]},\"layout\":{\"autotypenumbers\":\"strict\",\"colorway\":[\"#636efa\",\"#EF553B\",\"#00cc96\",\"#ab63fa\",\"#FFA15A\",\"#19d3f3\",\"#FF6692\",\"#B6E880\",\"#FF97FF\",\"#FECB52\"],\"font\":{\"color\":\"#2a3f5f\"},\"hovermode\":\"closest\",\"hoverlabel\":{\"align\":\"left\"},\"paper_bgcolor\":\"white\",\"plot_bgcolor\":\"#E5ECF6\",\"polar\":{\"bgcolor\":\"#E5ECF6\",\"angularaxis\":{\"gridcolor\":\"white\",\"linecolor\":\"white\",\"ticks\":\"\"},\"radialaxis\":{\"gridcolor\":\"white\",\"linecolor\":\"white\",\"ticks\":\"\"}},\"ternary\":{\"bgcolor\":\"#E5ECF6\",\"aaxis\":{\"gridcolor\":\"white\",\"linecolor\":\"white\",\"ticks\":\"\"},\"baxis\":{\"gridcolor\":\"white\",\"linecolor\":\"white\",\"ticks\":\"\"},\"caxis\":{\"gridcolor\":\"white\",\"linecolor\":\"white\",\"ticks\":\"\"}},\"coloraxis\":{\"colorbar\":{\"outlinewidth\":0,\"ticks\":\"\"}},\"colorscale\":{\"sequential\":[[0.0,\"#0d0887\"],[0.1111111111111111,\"#46039f\"],[0.2222222222222222,\"#7201a8\"],[0.3333333333333333,\"#9c179e\"],[0.4444444444444444,\"#bd3786\"],[0.5555555555555556,\"#d8576b\"],[0.6666666666666666,\"#ed7953\"],[0.7777777777777778,\"#fb9f3a\"],[0.8888888888888888,\"#fdca26\"],[1.0,\"#f0f921\"]],\"sequentialminus\":[[0.0,\"#0d0887\"],[0.1111111111111111,\"#46039f\"],[0.2222222222222222,\"#7201a8\"],[0.3333333333333333,\"#9c179e\"],[0.4444444444444444,\"#bd3786\"],[0.5555555555555556,\"#d8576b\"],[0.6666666666666666,\"#ed7953\"],[0.7777777777777778,\"#fb9f3a\"],[0.8888888888888888,\"#fdca26\"],[1.0,\"#f0f921\"]],\"diverging\":[[0,\"#8e0152\"],[0.1,\"#c51b7d\"],[0.2,\"#de77ae\"],[0.3,\"#f1b6da\"],[0.4,\"#fde0ef\"],[0.5,\"#f7f7f7\"],[0.6,\"#e6f5d0\"],[0.7,\"#b8e186\"],[0.8,\"#7fbc41\"],[0.9,\"#4d9221\"],[1,\"#276419\"]]},\"xaxis\":{\"gridcolor\":\"white\",\"linecolor\":\"white\",\"ticks\":\"\",\"title\":{\"standoff\":15},\"zerolinecolor\":\"white\",\"automargin\":true,\"zerolinewidth\":2},\"yaxis\":{\"gridcolor\":\"white\",\"linecolor\":\"white\",\"ticks\":\"\",\"title\":{\"standoff\":15},\"zerolinecolor\":\"white\",\"automargin\":true,\"zerolinewidth\":2},\"scene\":{\"xaxis\":{\"backgroundcolor\":\"#E5ECF6\",\"gridcolor\":\"white\",\"linecolor\":\"white\",\"showbackground\":true,\"ticks\":\"\",\"zerolinecolor\":\"white\",\"gridwidth\":2},\"yaxis\":{\"backgroundcolor\":\"#E5ECF6\",\"gridcolor\":\"white\",\"linecolor\":\"white\",\"showbackground\":true,\"ticks\":\"\",\"zerolinecolor\":\"white\",\"gridwidth\":2},\"zaxis\":{\"backgroundcolor\":\"#E5ECF6\",\"gridcolor\":\"white\",\"linecolor\":\"white\",\"showbackground\":true,\"ticks\":\"\",\"zerolinecolor\":\"white\",\"gridwidth\":2}},\"shapedefaults\":{\"line\":{\"color\":\"#2a3f5f\"}},\"annotationdefaults\":{\"arrowcolor\":\"#2a3f5f\",\"arrowhead\":0,\"arrowwidth\":1},\"geo\":{\"bgcolor\":\"white\",\"landcolor\":\"#E5ECF6\",\"subunitcolor\":\"white\",\"showland\":true,\"showlakes\":true,\"lakecolor\":\"white\"},\"title\":{\"x\":0.05},\"mapbox\":{\"style\":\"light\"}}},\"xaxis\":{\"anchor\":\"y\",\"domain\":[0.0,1.0],\"title\":{\"text\":\"value\"}},\"yaxis\":{\"anchor\":\"x\",\"domain\":[0.0,0.7326],\"title\":{\"text\":\"count\"}},\"xaxis2\":{\"anchor\":\"y2\",\"domain\":[0.0,1.0],\"matches\":\"x\",\"showticklabels\":false,\"showgrid\":true},\"yaxis2\":{\"anchor\":\"x2\",\"domain\":[0.7426,1.0],\"matches\":\"y2\",\"showticklabels\":false,\"showline\":false,\"ticks\":\"\",\"showgrid\":false},\"legend\":{\"title\":{\"text\":\"variable\"},\"tracegroupgap\":0},\"title\":{\"text\":\"Price - With Outliers\"},\"barmode\":\"relative\"},                        {\"responsive\": true}                    ).then(function(){\n",
              "                            \n",
              "var gd = document.getElementById('ecce3285-4937-49fb-a4cb-469004a8fb2e');\n",
              "var x = new MutationObserver(function (mutations, observer) {{\n",
              "        var display = window.getComputedStyle(gd).display;\n",
              "        if (!display || display === 'none') {{\n",
              "            console.log([gd, 'removed!']);\n",
              "            Plotly.purge(gd);\n",
              "            observer.disconnect();\n",
              "        }}\n",
              "}});\n",
              "\n",
              "// Listen for the removal of the full notebook cells\n",
              "var notebookContainer = gd.closest('#notebook-container');\n",
              "if (notebookContainer) {{\n",
              "    x.observe(notebookContainer, {childList: true});\n",
              "}}\n",
              "\n",
              "// Listen for the clearing of the current output cell\n",
              "var outputEl = gd.closest('.output');\n",
              "if (outputEl) {{\n",
              "    x.observe(outputEl, {childList: true});\n",
              "}}\n",
              "\n",
              "                        })                };                            </script>        </div>\n",
              "</body>\n",
              "</html>"
            ]
          },
          "metadata": {}
        },
        {
          "output_type": "display_data",
          "data": {
            "text/html": [
              "<html>\n",
              "<head><meta charset=\"utf-8\" /></head>\n",
              "<body>\n",
              "    <div>            <script src=\"https://cdnjs.cloudflare.com/ajax/libs/mathjax/2.7.5/MathJax.js?config=TeX-AMS-MML_SVG\"></script><script type=\"text/javascript\">if (window.MathJax && window.MathJax.Hub && && window.MathJax.Hub.Config) {window.MathJax.Hub.Config({SVG: {font: \"STIX-Web\"}});}</script>                <script type=\"text/javascript\">window.PlotlyConfig = {MathJaxConfig: 'local'};</script>\n",
              "        <script src=\"https://cdn.plot.ly/plotly-2.12.1.min.js\"></script>                <div id=\"732d9591-8ebc-445c-aa72-c72d8a95a82a\" class=\"plotly-graph-div\" style=\"height:525px; width:100%;\"></div>            <script type=\"text/javascript\">                                    window.PLOTLYENV=window.PLOTLYENV || {};                                    if (document.getElementById(\"732d9591-8ebc-445c-aa72-c72d8a95a82a\")) {                    Plotly.newPlot(                        \"732d9591-8ebc-445c-aa72-c72d8a95a82a\",                        [{\"alignmentgroup\":\"True\",\"bingroup\":\"x\",\"hovertemplate\":\"variable=Price<br>value=%{x}<br>count=%{y}<extra></extra>\",\"legendgroup\":\"Price\",\"marker\":{\"color\":\"#636efa\",\"pattern\":{\"shape\":\"\"}},\"name\":\"Price\",\"offsetgroup\":\"Price\",\"orientation\":\"v\",\"showlegend\":true,\"x\":[7.95,2.1,0.55,1.25,4.95,0.64,5.91,3.75,1.25,1.95,1.25,12.72,0.38,1.25,2.95,5.06,8.5,6.04,1.65,4.25,4.21,3.75,5.91,2.1,10.95,4.21,13.87,0.42,0.1,2.51,2.51,2.95,4.21,0.42,1.45,2.55,1.66,4.65,5.55,2.51,0.65,2.55,1.45,9.95,1.25,2.1,1.95,1.65,0.87,2.95,0.85,0.55,1.65,0.85,8.49,0.85,5.91,4.21,2.1,2.51,1.95,6.35,0.65,2.55,8.5,1.25,10.95,0.85,13.57,0.85,0.85,2.1,3.75,1.65,12.75,7.49,1.66,1.65,7.65,1.65,2.95,0.65,2.55,0.85,0.85,2.51,0.85,5.91,4.25,4.95,18.0,1.65,1.65,10.95,2.55,1.65,1.25,2.57,2.55,2.95,0.85,0.85,1.65,0.85,0.65,2.95,8.5,8.5,0.08,1.25,1.25,6.75,6.75,3.75,2.95,1.45,1.25,5.95,4.65,0.95,0.85,2.95,1.65,6.77,2.1,2.25,4.21,1.69,0.42,1.25,1.65,1.25,2.55,1.65,2.57,1.25,2.51,5.91,0.42,1.66,5.88,0.85,0.21,0.19,1.65,1.65,1.69,0.42,4.95,2.95,3.75,1.65,1.65,1.95,1.69,0.29,5.95,8.5,2.1,4.21,2.95,7.95,1.65,0.42,1.25,1.45,1.65,3.75,0.36,10.75,12.75,2.1,1.25,4.95,2.55,0.42,5.95,1.25,1.69,1.69,1.65,4.95,1.84,1.95,4.65,1.25,0.85,5.95,1.95,0.85,0.42,1.65,4.25,1.25,4.95,0.85,2.55,1.06,0.0,1.25,4.25,3.36,0.85,5.45,1.95,7.49,1.25,0.42,7.62,1.25,2.51,1.66,0.85,3.75,1.95,0.85,2.95,4.25,2.1,3.75,1.45,0.85,0.42,8.5,3.45,8.47,8.95,3.25,0.85,1.65,0.85,2.98,2.95,0.55,3.75,1.25,1.65,0.85,7.49,0.38,1.65,3.36,1.65,34.0,3.75,1.95,5.06,4.65,3.39,1.25,1.25,8.47,2.95,4.95,0.65,0.85,4.21,0.65,4.95,2.1,2.51,3.75,0.85,0.43,8.5,1.25,2.95,2.95,7.95,2.1,5.91,2.95,0.95,1.25,2.51,1.25,3.36,1.25,2.55,2.95,4.25,2.1,0.72,7.49,4.21,2.95,0.85,0.42,2.51,0.85,3.75,1.65,3.75,0.42,12.75,1.25,1.65,1.65,0.85,1.45,0.85,0.34,2.95,0.85,9.95,4.21,1.95,2.51,2.55,9.95,4.21,1.66,0.85,9.95,0.0,1.65,2.95,1.06,1.25,1.25,4.25,1.65,8.5,16.13,1.25,7.49,2.1,11.26,0.43,0.42,10.17,1.66,0.81,5.95,4.21,14.95,1.25,0.72,3.36,3.75,1.06,8.5,6.75,2.95,0.42,0.55,11.87,0.65,2.1,1.95,2.1,1.45,2.95,79.95,1.65,4.25,2.55,4.95,2.1,2.51,4.25,1.25,1.65,4.25,1.66,122.3,3.45,7.65,9.95,1.65,3.36,9.95,1.65,2.55,2.1,0.85,0.85,2.95,3.36,4.3,5.06,0.19,2.1,3.36,1.66,2.1,5.91,5.95,1.06,2.55,34.0,2.55,7.49,0.65,2.95,7.95,8.47,2.1,3.36,2.1,1.95,2.55,2.51,2.1,2.12,9.95,4.95,4.21,1.25,0.42,2.95,5.91,0.55,0.42,38.26,12.75,2.95,9.95,16.95,5.45,0.55,3.95,2.95,0.85,4.21,0.55,7.49,0.85,0.72,1.25,2.51,6.95,1.66,5.91,4.95,4.21,0.85,3.95,0.42,1.66,1.25,1.25,2.95,34.74,1.95,1.25,2.51,0.85,2.1,1.06,6.75,2.1,0.55,6.04,0.85,0.85,0.83,3.25,2.55,7.62,1.45,1.06,1.45,2.1,2.95,9.95,1.65,12.75,1.25,3.75,0.85,0.55,1.25,0.85,0.65,1.25,1.69,5.95,0.0,1.25,0.55,2.1,4.21,1.65,5.95,1.25,1.45,0.85,2.95,2.95,1.65,8.47,8.5,2.55,2.1,0.85,8.5,1.95,1.7,0.65,2.95,1.65,1.25,0.85,4.25,0.64,0.42,0.38,1.65,2.1,12.75,0.65,0.65,4.95,0.85,1.25,1.66,1.65,0.85,4.95,3.04,0.42,16.95,1.65,1.25,5.06,0.85,0.85,2.1,1.65,0.85,8.47,3.43,2.55,0.42,9.95,1.66,0.65,1.25,12.75,12.72,5.95,4.65,3.39,6.75,1.65,4.25,0.85,2.55,2.95,3.75,2.55,1.65,7.95,1.95,0.29,4.95,1.25,0.42,2.95,5.95,1.25,4.95,5.91,4.21,16.98,1.65,4.25,2.95,1.25,1.45,3.36,10.95,1.49,12.75,4.25,0.29,9.95,1.65,1.45,7.95,1.45,1.66,1.65,2.95,5.95,3.75,0.42,2.95,2.98,2.95,1.65,1.65,1.95,0.38,1.65,7.95,2.55,4.25,2.95,0.85,2.95,1.45,1.65,0.42,5.95,1.25,2.1,0.85,3.75,34.0,3.75,1.45,4.25,1.25,1.65,3.75,7.62,0.55,1.95,1.45,1.7,0.36,4.5,4.95,1.95,4.21,1.25,5.17,2.55,0.42,4.95,1.95,2.55,1.28,1.65,0.42,1.95,1.65,2.1,0.85,5.95,0.65,1.45,7.65,2.1,2.95,4.95,8.47,0.95,1.25,2.95,9.95,1.65,2.55,1.65,1.25,1.25,1.25,1.25,2.51,0.85,7.49,1.65,1.45,1.95,0.65,1.25,0.42,2.1,12.75,0.85,1.7,2.1,2.95,1.25,3.36,1.65,1.95,2.55,5.45,0.55,16.95,6.04,4.21,5.95,4.95,1.06,2.55,7.49,1.25,0.55,1.95,5.95,5.95,2.51,5.91,4.3,1.65,2.51,1.25,1.25,16.98,1.25,10.95,3.35,1.45,1.65,1.25,1.65,4.21,2.95,0.42,2.55,4.95,4.95,1.25,3.36,1.25,1.95,3.36,2.51,0.85,2.55,2.55,1.65,5.91,1.7,2.1,3.36,0.42,2.1,1.65,0.36,2.95,8.5,0.42,0.42,1.25,1.66,1.06,5.2,1.28,12.75,1.25,2.95,3.75,1.66,5.95,8.5,0.55,0.85,2.95,1.25,0.85,1.25,1.25,4.21,0.85,0.42,7.95,3.36,1.25,0.38,0.85,2.95,8.95,1.65,0.85,11.02,7.95,0.85,2.25,4.95,0.85,11.02,2.1,0.85,12.75,2.55,0.42,2.95,12.75,1.69,0.85,1.25,5.06,5.91,4.65,0.95,1.25,1.65,0.85,0.65,2.95,8.47,1.66,5.91,0.42,5.95,7.95,4.21,2.95,1.25,0.85,6.35,0.65,0.42,6.75,0.42,2.55,12.75,2.95,0.85,4.95,2.55,1.25,2.95,1.28,6.75,1.95,1.66,4.3,0.53,1.65,3.75,2.1,2.1,3.36,3.75,5.95,1.25,0.95,2.95,4.21,1.66,5.91,1.69,5.49,2.55,1.65,0.65,1.66,0.85,7.95,2.95,4.25,0.55,0.65,1.45,3.75,1.85,5.95,4.95,1.25,2.55,12.75,9.95,0.85,1.25,1.25,0.42,1.69,0.42,1.69,2.95,1.25,1.65,5.91,3.36,0.55,1.25,0.85,1.25,5.95,6.45,2.95,1.28,1.95,1.25,0.85,0.42,1.25,1.65,4.95,2.95,3.95,3.36,0.55,1.95,2.1,1.66,2.1,1.25,9.95,1.95,3.75,3.75,12.72,3.75,0.43,0.85,0.85,2.95,0.81,0.85,1.25,2.1,5.95,0.85,2.95,8.95,2.1,2.55,3.75,0.42,0.85,1.65,2.55,9.95,4.21,29.79,4.95,1.65,3.75,0.21,2.55,2.1,4.21,0.85,0.55,0.85,0.85,2.95,0.65,1.06,7.95,4.25,0.55,2.95,2.1,2.51,0.65,1.25,4.25,3.75,1.25,3.36,0.55,3.75,2.55,1.95,0.42,0.42,0.42,4.21,0.85,3.75,0.43,0.42,1.65,2.95,2.51,0.85,3.25,4.95,14.43,5.45,7.95,2.1,0.42,12.75,1.45,0.85,1.66,0.85,8.47,2.1,1.85,6.75,3.75,1.25,2.95,1.66,2.95,4.25,4.95,1.25,4.21,4.95,1.25,12.75,3.75,2.95,1.65,1.95,1.95,2.98],\"xaxis\":\"x\",\"yaxis\":\"y\",\"type\":\"histogram\"},{\"alignmentgroup\":\"True\",\"hovertemplate\":\"variable=Price<br>value=%{x}<extra></extra>\",\"legendgroup\":\"Price\",\"marker\":{\"color\":\"#636efa\"},\"name\":\"Price\",\"notched\":true,\"offsetgroup\":\"Price\",\"showlegend\":false,\"x\":[7.95,2.1,0.55,1.25,4.95,0.64,5.91,3.75,1.25,1.95,1.25,12.72,0.38,1.25,2.95,5.06,8.5,6.04,1.65,4.25,4.21,3.75,5.91,2.1,10.95,4.21,13.87,0.42,0.1,2.51,2.51,2.95,4.21,0.42,1.45,2.55,1.66,4.65,5.55,2.51,0.65,2.55,1.45,9.95,1.25,2.1,1.95,1.65,0.87,2.95,0.85,0.55,1.65,0.85,8.49,0.85,5.91,4.21,2.1,2.51,1.95,6.35,0.65,2.55,8.5,1.25,10.95,0.85,13.57,0.85,0.85,2.1,3.75,1.65,12.75,7.49,1.66,1.65,7.65,1.65,2.95,0.65,2.55,0.85,0.85,2.51,0.85,5.91,4.25,4.95,18.0,1.65,1.65,10.95,2.55,1.65,1.25,2.57,2.55,2.95,0.85,0.85,1.65,0.85,0.65,2.95,8.5,8.5,0.08,1.25,1.25,6.75,6.75,3.75,2.95,1.45,1.25,5.95,4.65,0.95,0.85,2.95,1.65,6.77,2.1,2.25,4.21,1.69,0.42,1.25,1.65,1.25,2.55,1.65,2.57,1.25,2.51,5.91,0.42,1.66,5.88,0.85,0.21,0.19,1.65,1.65,1.69,0.42,4.95,2.95,3.75,1.65,1.65,1.95,1.69,0.29,5.95,8.5,2.1,4.21,2.95,7.95,1.65,0.42,1.25,1.45,1.65,3.75,0.36,10.75,12.75,2.1,1.25,4.95,2.55,0.42,5.95,1.25,1.69,1.69,1.65,4.95,1.84,1.95,4.65,1.25,0.85,5.95,1.95,0.85,0.42,1.65,4.25,1.25,4.95,0.85,2.55,1.06,0.0,1.25,4.25,3.36,0.85,5.45,1.95,7.49,1.25,0.42,7.62,1.25,2.51,1.66,0.85,3.75,1.95,0.85,2.95,4.25,2.1,3.75,1.45,0.85,0.42,8.5,3.45,8.47,8.95,3.25,0.85,1.65,0.85,2.98,2.95,0.55,3.75,1.25,1.65,0.85,7.49,0.38,1.65,3.36,1.65,34.0,3.75,1.95,5.06,4.65,3.39,1.25,1.25,8.47,2.95,4.95,0.65,0.85,4.21,0.65,4.95,2.1,2.51,3.75,0.85,0.43,8.5,1.25,2.95,2.95,7.95,2.1,5.91,2.95,0.95,1.25,2.51,1.25,3.36,1.25,2.55,2.95,4.25,2.1,0.72,7.49,4.21,2.95,0.85,0.42,2.51,0.85,3.75,1.65,3.75,0.42,12.75,1.25,1.65,1.65,0.85,1.45,0.85,0.34,2.95,0.85,9.95,4.21,1.95,2.51,2.55,9.95,4.21,1.66,0.85,9.95,0.0,1.65,2.95,1.06,1.25,1.25,4.25,1.65,8.5,16.13,1.25,7.49,2.1,11.26,0.43,0.42,10.17,1.66,0.81,5.95,4.21,14.95,1.25,0.72,3.36,3.75,1.06,8.5,6.75,2.95,0.42,0.55,11.87,0.65,2.1,1.95,2.1,1.45,2.95,79.95,1.65,4.25,2.55,4.95,2.1,2.51,4.25,1.25,1.65,4.25,1.66,122.3,3.45,7.65,9.95,1.65,3.36,9.95,1.65,2.55,2.1,0.85,0.85,2.95,3.36,4.3,5.06,0.19,2.1,3.36,1.66,2.1,5.91,5.95,1.06,2.55,34.0,2.55,7.49,0.65,2.95,7.95,8.47,2.1,3.36,2.1,1.95,2.55,2.51,2.1,2.12,9.95,4.95,4.21,1.25,0.42,2.95,5.91,0.55,0.42,38.26,12.75,2.95,9.95,16.95,5.45,0.55,3.95,2.95,0.85,4.21,0.55,7.49,0.85,0.72,1.25,2.51,6.95,1.66,5.91,4.95,4.21,0.85,3.95,0.42,1.66,1.25,1.25,2.95,34.74,1.95,1.25,2.51,0.85,2.1,1.06,6.75,2.1,0.55,6.04,0.85,0.85,0.83,3.25,2.55,7.62,1.45,1.06,1.45,2.1,2.95,9.95,1.65,12.75,1.25,3.75,0.85,0.55,1.25,0.85,0.65,1.25,1.69,5.95,0.0,1.25,0.55,2.1,4.21,1.65,5.95,1.25,1.45,0.85,2.95,2.95,1.65,8.47,8.5,2.55,2.1,0.85,8.5,1.95,1.7,0.65,2.95,1.65,1.25,0.85,4.25,0.64,0.42,0.38,1.65,2.1,12.75,0.65,0.65,4.95,0.85,1.25,1.66,1.65,0.85,4.95,3.04,0.42,16.95,1.65,1.25,5.06,0.85,0.85,2.1,1.65,0.85,8.47,3.43,2.55,0.42,9.95,1.66,0.65,1.25,12.75,12.72,5.95,4.65,3.39,6.75,1.65,4.25,0.85,2.55,2.95,3.75,2.55,1.65,7.95,1.95,0.29,4.95,1.25,0.42,2.95,5.95,1.25,4.95,5.91,4.21,16.98,1.65,4.25,2.95,1.25,1.45,3.36,10.95,1.49,12.75,4.25,0.29,9.95,1.65,1.45,7.95,1.45,1.66,1.65,2.95,5.95,3.75,0.42,2.95,2.98,2.95,1.65,1.65,1.95,0.38,1.65,7.95,2.55,4.25,2.95,0.85,2.95,1.45,1.65,0.42,5.95,1.25,2.1,0.85,3.75,34.0,3.75,1.45,4.25,1.25,1.65,3.75,7.62,0.55,1.95,1.45,1.7,0.36,4.5,4.95,1.95,4.21,1.25,5.17,2.55,0.42,4.95,1.95,2.55,1.28,1.65,0.42,1.95,1.65,2.1,0.85,5.95,0.65,1.45,7.65,2.1,2.95,4.95,8.47,0.95,1.25,2.95,9.95,1.65,2.55,1.65,1.25,1.25,1.25,1.25,2.51,0.85,7.49,1.65,1.45,1.95,0.65,1.25,0.42,2.1,12.75,0.85,1.7,2.1,2.95,1.25,3.36,1.65,1.95,2.55,5.45,0.55,16.95,6.04,4.21,5.95,4.95,1.06,2.55,7.49,1.25,0.55,1.95,5.95,5.95,2.51,5.91,4.3,1.65,2.51,1.25,1.25,16.98,1.25,10.95,3.35,1.45,1.65,1.25,1.65,4.21,2.95,0.42,2.55,4.95,4.95,1.25,3.36,1.25,1.95,3.36,2.51,0.85,2.55,2.55,1.65,5.91,1.7,2.1,3.36,0.42,2.1,1.65,0.36,2.95,8.5,0.42,0.42,1.25,1.66,1.06,5.2,1.28,12.75,1.25,2.95,3.75,1.66,5.95,8.5,0.55,0.85,2.95,1.25,0.85,1.25,1.25,4.21,0.85,0.42,7.95,3.36,1.25,0.38,0.85,2.95,8.95,1.65,0.85,11.02,7.95,0.85,2.25,4.95,0.85,11.02,2.1,0.85,12.75,2.55,0.42,2.95,12.75,1.69,0.85,1.25,5.06,5.91,4.65,0.95,1.25,1.65,0.85,0.65,2.95,8.47,1.66,5.91,0.42,5.95,7.95,4.21,2.95,1.25,0.85,6.35,0.65,0.42,6.75,0.42,2.55,12.75,2.95,0.85,4.95,2.55,1.25,2.95,1.28,6.75,1.95,1.66,4.3,0.53,1.65,3.75,2.1,2.1,3.36,3.75,5.95,1.25,0.95,2.95,4.21,1.66,5.91,1.69,5.49,2.55,1.65,0.65,1.66,0.85,7.95,2.95,4.25,0.55,0.65,1.45,3.75,1.85,5.95,4.95,1.25,2.55,12.75,9.95,0.85,1.25,1.25,0.42,1.69,0.42,1.69,2.95,1.25,1.65,5.91,3.36,0.55,1.25,0.85,1.25,5.95,6.45,2.95,1.28,1.95,1.25,0.85,0.42,1.25,1.65,4.95,2.95,3.95,3.36,0.55,1.95,2.1,1.66,2.1,1.25,9.95,1.95,3.75,3.75,12.72,3.75,0.43,0.85,0.85,2.95,0.81,0.85,1.25,2.1,5.95,0.85,2.95,8.95,2.1,2.55,3.75,0.42,0.85,1.65,2.55,9.95,4.21,29.79,4.95,1.65,3.75,0.21,2.55,2.1,4.21,0.85,0.55,0.85,0.85,2.95,0.65,1.06,7.95,4.25,0.55,2.95,2.1,2.51,0.65,1.25,4.25,3.75,1.25,3.36,0.55,3.75,2.55,1.95,0.42,0.42,0.42,4.21,0.85,3.75,0.43,0.42,1.65,2.95,2.51,0.85,3.25,4.95,14.43,5.45,7.95,2.1,0.42,12.75,1.45,0.85,1.66,0.85,8.47,2.1,1.85,6.75,3.75,1.25,2.95,1.66,2.95,4.25,4.95,1.25,4.21,4.95,1.25,12.75,3.75,2.95,1.65,1.95,1.95,2.98],\"xaxis\":\"x2\",\"yaxis\":\"y2\",\"type\":\"box\"}],                        {\"template\":{\"data\":{\"histogram2dcontour\":[{\"type\":\"histogram2dcontour\",\"colorbar\":{\"outlinewidth\":0,\"ticks\":\"\"},\"colorscale\":[[0.0,\"#0d0887\"],[0.1111111111111111,\"#46039f\"],[0.2222222222222222,\"#7201a8\"],[0.3333333333333333,\"#9c179e\"],[0.4444444444444444,\"#bd3786\"],[0.5555555555555556,\"#d8576b\"],[0.6666666666666666,\"#ed7953\"],[0.7777777777777778,\"#fb9f3a\"],[0.8888888888888888,\"#fdca26\"],[1.0,\"#f0f921\"]]}],\"choropleth\":[{\"type\":\"choropleth\",\"colorbar\":{\"outlinewidth\":0,\"ticks\":\"\"}}],\"histogram2d\":[{\"type\":\"histogram2d\",\"colorbar\":{\"outlinewidth\":0,\"ticks\":\"\"},\"colorscale\":[[0.0,\"#0d0887\"],[0.1111111111111111,\"#46039f\"],[0.2222222222222222,\"#7201a8\"],[0.3333333333333333,\"#9c179e\"],[0.4444444444444444,\"#bd3786\"],[0.5555555555555556,\"#d8576b\"],[0.6666666666666666,\"#ed7953\"],[0.7777777777777778,\"#fb9f3a\"],[0.8888888888888888,\"#fdca26\"],[1.0,\"#f0f921\"]]}],\"heatmap\":[{\"type\":\"heatmap\",\"colorbar\":{\"outlinewidth\":0,\"ticks\":\"\"},\"colorscale\":[[0.0,\"#0d0887\"],[0.1111111111111111,\"#46039f\"],[0.2222222222222222,\"#7201a8\"],[0.3333333333333333,\"#9c179e\"],[0.4444444444444444,\"#bd3786\"],[0.5555555555555556,\"#d8576b\"],[0.6666666666666666,\"#ed7953\"],[0.7777777777777778,\"#fb9f3a\"],[0.8888888888888888,\"#fdca26\"],[1.0,\"#f0f921\"]]}],\"heatmapgl\":[{\"type\":\"heatmapgl\",\"colorbar\":{\"outlinewidth\":0,\"ticks\":\"\"},\"colorscale\":[[0.0,\"#0d0887\"],[0.1111111111111111,\"#46039f\"],[0.2222222222222222,\"#7201a8\"],[0.3333333333333333,\"#9c179e\"],[0.4444444444444444,\"#bd3786\"],[0.5555555555555556,\"#d8576b\"],[0.6666666666666666,\"#ed7953\"],[0.7777777777777778,\"#fb9f3a\"],[0.8888888888888888,\"#fdca26\"],[1.0,\"#f0f921\"]]}],\"contourcarpet\":[{\"type\":\"contourcarpet\",\"colorbar\":{\"outlinewidth\":0,\"ticks\":\"\"}}],\"contour\":[{\"type\":\"contour\",\"colorbar\":{\"outlinewidth\":0,\"ticks\":\"\"},\"colorscale\":[[0.0,\"#0d0887\"],[0.1111111111111111,\"#46039f\"],[0.2222222222222222,\"#7201a8\"],[0.3333333333333333,\"#9c179e\"],[0.4444444444444444,\"#bd3786\"],[0.5555555555555556,\"#d8576b\"],[0.6666666666666666,\"#ed7953\"],[0.7777777777777778,\"#fb9f3a\"],[0.8888888888888888,\"#fdca26\"],[1.0,\"#f0f921\"]]}],\"surface\":[{\"type\":\"surface\",\"colorbar\":{\"outlinewidth\":0,\"ticks\":\"\"},\"colorscale\":[[0.0,\"#0d0887\"],[0.1111111111111111,\"#46039f\"],[0.2222222222222222,\"#7201a8\"],[0.3333333333333333,\"#9c179e\"],[0.4444444444444444,\"#bd3786\"],[0.5555555555555556,\"#d8576b\"],[0.6666666666666666,\"#ed7953\"],[0.7777777777777778,\"#fb9f3a\"],[0.8888888888888888,\"#fdca26\"],[1.0,\"#f0f921\"]]}],\"mesh3d\":[{\"type\":\"mesh3d\",\"colorbar\":{\"outlinewidth\":0,\"ticks\":\"\"}}],\"scatter\":[{\"fillpattern\":{\"fillmode\":\"overlay\",\"size\":10,\"solidity\":0.2},\"type\":\"scatter\"}],\"parcoords\":[{\"type\":\"parcoords\",\"line\":{\"colorbar\":{\"outlinewidth\":0,\"ticks\":\"\"}}}],\"scatterpolargl\":[{\"type\":\"scatterpolargl\",\"marker\":{\"colorbar\":{\"outlinewidth\":0,\"ticks\":\"\"}}}],\"bar\":[{\"error_x\":{\"color\":\"#2a3f5f\"},\"error_y\":{\"color\":\"#2a3f5f\"},\"marker\":{\"line\":{\"color\":\"#E5ECF6\",\"width\":0.5},\"pattern\":{\"fillmode\":\"overlay\",\"size\":10,\"solidity\":0.2}},\"type\":\"bar\"}],\"scattergeo\":[{\"type\":\"scattergeo\",\"marker\":{\"colorbar\":{\"outlinewidth\":0,\"ticks\":\"\"}}}],\"scatterpolar\":[{\"type\":\"scatterpolar\",\"marker\":{\"colorbar\":{\"outlinewidth\":0,\"ticks\":\"\"}}}],\"histogram\":[{\"marker\":{\"pattern\":{\"fillmode\":\"overlay\",\"size\":10,\"solidity\":0.2}},\"type\":\"histogram\"}],\"scattergl\":[{\"type\":\"scattergl\",\"marker\":{\"colorbar\":{\"outlinewidth\":0,\"ticks\":\"\"}}}],\"scatter3d\":[{\"type\":\"scatter3d\",\"line\":{\"colorbar\":{\"outlinewidth\":0,\"ticks\":\"\"}},\"marker\":{\"colorbar\":{\"outlinewidth\":0,\"ticks\":\"\"}}}],\"scattermapbox\":[{\"type\":\"scattermapbox\",\"marker\":{\"colorbar\":{\"outlinewidth\":0,\"ticks\":\"\"}}}],\"scatterternary\":[{\"type\":\"scatterternary\",\"marker\":{\"colorbar\":{\"outlinewidth\":0,\"ticks\":\"\"}}}],\"scattercarpet\":[{\"type\":\"scattercarpet\",\"marker\":{\"colorbar\":{\"outlinewidth\":0,\"ticks\":\"\"}}}],\"carpet\":[{\"aaxis\":{\"endlinecolor\":\"#2a3f5f\",\"gridcolor\":\"white\",\"linecolor\":\"white\",\"minorgridcolor\":\"white\",\"startlinecolor\":\"#2a3f5f\"},\"baxis\":{\"endlinecolor\":\"#2a3f5f\",\"gridcolor\":\"white\",\"linecolor\":\"white\",\"minorgridcolor\":\"white\",\"startlinecolor\":\"#2a3f5f\"},\"type\":\"carpet\"}],\"table\":[{\"cells\":{\"fill\":{\"color\":\"#EBF0F8\"},\"line\":{\"color\":\"white\"}},\"header\":{\"fill\":{\"color\":\"#C8D4E3\"},\"line\":{\"color\":\"white\"}},\"type\":\"table\"}],\"barpolar\":[{\"marker\":{\"line\":{\"color\":\"#E5ECF6\",\"width\":0.5},\"pattern\":{\"fillmode\":\"overlay\",\"size\":10,\"solidity\":0.2}},\"type\":\"barpolar\"}],\"pie\":[{\"automargin\":true,\"type\":\"pie\"}]},\"layout\":{\"autotypenumbers\":\"strict\",\"colorway\":[\"#636efa\",\"#EF553B\",\"#00cc96\",\"#ab63fa\",\"#FFA15A\",\"#19d3f3\",\"#FF6692\",\"#B6E880\",\"#FF97FF\",\"#FECB52\"],\"font\":{\"color\":\"#2a3f5f\"},\"hovermode\":\"closest\",\"hoverlabel\":{\"align\":\"left\"},\"paper_bgcolor\":\"white\",\"plot_bgcolor\":\"#E5ECF6\",\"polar\":{\"bgcolor\":\"#E5ECF6\",\"angularaxis\":{\"gridcolor\":\"white\",\"linecolor\":\"white\",\"ticks\":\"\"},\"radialaxis\":{\"gridcolor\":\"white\",\"linecolor\":\"white\",\"ticks\":\"\"}},\"ternary\":{\"bgcolor\":\"#E5ECF6\",\"aaxis\":{\"gridcolor\":\"white\",\"linecolor\":\"white\",\"ticks\":\"\"},\"baxis\":{\"gridcolor\":\"white\",\"linecolor\":\"white\",\"ticks\":\"\"},\"caxis\":{\"gridcolor\":\"white\",\"linecolor\":\"white\",\"ticks\":\"\"}},\"coloraxis\":{\"colorbar\":{\"outlinewidth\":0,\"ticks\":\"\"}},\"colorscale\":{\"sequential\":[[0.0,\"#0d0887\"],[0.1111111111111111,\"#46039f\"],[0.2222222222222222,\"#7201a8\"],[0.3333333333333333,\"#9c179e\"],[0.4444444444444444,\"#bd3786\"],[0.5555555555555556,\"#d8576b\"],[0.6666666666666666,\"#ed7953\"],[0.7777777777777778,\"#fb9f3a\"],[0.8888888888888888,\"#fdca26\"],[1.0,\"#f0f921\"]],\"sequentialminus\":[[0.0,\"#0d0887\"],[0.1111111111111111,\"#46039f\"],[0.2222222222222222,\"#7201a8\"],[0.3333333333333333,\"#9c179e\"],[0.4444444444444444,\"#bd3786\"],[0.5555555555555556,\"#d8576b\"],[0.6666666666666666,\"#ed7953\"],[0.7777777777777778,\"#fb9f3a\"],[0.8888888888888888,\"#fdca26\"],[1.0,\"#f0f921\"]],\"diverging\":[[0,\"#8e0152\"],[0.1,\"#c51b7d\"],[0.2,\"#de77ae\"],[0.3,\"#f1b6da\"],[0.4,\"#fde0ef\"],[0.5,\"#f7f7f7\"],[0.6,\"#e6f5d0\"],[0.7,\"#b8e186\"],[0.8,\"#7fbc41\"],[0.9,\"#4d9221\"],[1,\"#276419\"]]},\"xaxis\":{\"gridcolor\":\"white\",\"linecolor\":\"white\",\"ticks\":\"\",\"title\":{\"standoff\":15},\"zerolinecolor\":\"white\",\"automargin\":true,\"zerolinewidth\":2},\"yaxis\":{\"gridcolor\":\"white\",\"linecolor\":\"white\",\"ticks\":\"\",\"title\":{\"standoff\":15},\"zerolinecolor\":\"white\",\"automargin\":true,\"zerolinewidth\":2},\"scene\":{\"xaxis\":{\"backgroundcolor\":\"#E5ECF6\",\"gridcolor\":\"white\",\"linecolor\":\"white\",\"showbackground\":true,\"ticks\":\"\",\"zerolinecolor\":\"white\",\"gridwidth\":2},\"yaxis\":{\"backgroundcolor\":\"#E5ECF6\",\"gridcolor\":\"white\",\"linecolor\":\"white\",\"showbackground\":true,\"ticks\":\"\",\"zerolinecolor\":\"white\",\"gridwidth\":2},\"zaxis\":{\"backgroundcolor\":\"#E5ECF6\",\"gridcolor\":\"white\",\"linecolor\":\"white\",\"showbackground\":true,\"ticks\":\"\",\"zerolinecolor\":\"white\",\"gridwidth\":2}},\"shapedefaults\":{\"line\":{\"color\":\"#2a3f5f\"}},\"annotationdefaults\":{\"arrowcolor\":\"#2a3f5f\",\"arrowhead\":0,\"arrowwidth\":1},\"geo\":{\"bgcolor\":\"white\",\"landcolor\":\"#E5ECF6\",\"subunitcolor\":\"white\",\"showland\":true,\"showlakes\":true,\"lakecolor\":\"white\"},\"title\":{\"x\":0.05},\"mapbox\":{\"style\":\"light\"}}},\"xaxis\":{\"anchor\":\"y\",\"domain\":[0.0,1.0],\"title\":{\"text\":\"value\"}},\"yaxis\":{\"anchor\":\"x\",\"domain\":[0.0,0.7326],\"title\":{\"text\":\"count\"}},\"xaxis2\":{\"anchor\":\"y2\",\"domain\":[0.0,1.0],\"matches\":\"x\",\"showticklabels\":false,\"showgrid\":true},\"yaxis2\":{\"anchor\":\"x2\",\"domain\":[0.7426,1.0],\"matches\":\"y2\",\"showticklabels\":false,\"showline\":false,\"ticks\":\"\",\"showgrid\":false},\"legend\":{\"title\":{\"text\":\"variable\"},\"tracegroupgap\":0},\"title\":{\"text\":\"Price - Without Outliers\"},\"barmode\":\"relative\"},                        {\"responsive\": true}                    ).then(function(){\n",
              "                            \n",
              "var gd = document.getElementById('732d9591-8ebc-445c-aa72-c72d8a95a82a');\n",
              "var x = new MutationObserver(function (mutations, observer) {{\n",
              "        var display = window.getComputedStyle(gd).display;\n",
              "        if (!display || display === 'none') {{\n",
              "            console.log([gd, 'removed!']);\n",
              "            Plotly.purge(gd);\n",
              "            observer.disconnect();\n",
              "        }}\n",
              "}});\n",
              "\n",
              "// Listen for the removal of the full notebook cells\n",
              "var notebookContainer = gd.closest('#notebook-container');\n",
              "if (notebookContainer) {{\n",
              "    x.observe(notebookContainer, {childList: true});\n",
              "}}\n",
              "\n",
              "// Listen for the clearing of the current output cell\n",
              "var outputEl = gd.closest('.output');\n",
              "if (outputEl) {{\n",
              "    x.observe(outputEl, {childList: true});\n",
              "}}\n",
              "\n",
              "                        })                };                            </script>        </div>\n",
              "</body>\n",
              "</html>"
            ]
          },
          "metadata": {}
        }
      ]
    },
    {
      "cell_type": "markdown",
      "source": [
        "Se observa la presencia de outliers, los cuales impiden la visualización del boxplot. A su vez, existen datos que toman valores negativos o cero, lo cual implicaría que los productos son gratis, es decir, es un claro error. La mayoría de los datos se concentra en el rango de precios [0.5 - 4.49]. La moda se da en el rango de [0.5 - 1.49] y el valor promedio es 4.688834."
      ],
      "metadata": {
        "tags": [],
        "cell_id": "00021-d9508a4a-ab9e-470f-b20e-2f3b1a095d99",
        "deepnote_cell_type": "markdown",
        "deepnote_cell_height": 69.83332824707031,
        "id": "JRifpq5cE-Mh"
      }
    },
    {
      "cell_type": "markdown",
      "source": [
        "#### Customer ID profile"
      ],
      "metadata": {
        "id": "7ZCVzfjo6_-3"
      }
    },
    {
      "cell_type": "code",
      "metadata": {
        "tags": [],
        "cell_id": "00022-d0bb6e4c-430f-42e3-9f3f-bd372817d286",
        "deepnote_cell_type": "code",
        "deepnote_cell_height": 65.03334045410156,
        "id": "sUzZojLvE-Mh",
        "colab": {
          "base_uri": "https://localhost:8080/",
          "height": 0
        },
        "outputId": "21c940e8-3e73-49e5-9a58-019fca1dd839"
      },
      "source": [
        "profile_serie(df_retail['Customer ID'])"
      ],
      "execution_count": 148,
      "outputs": [
        {
          "output_type": "display_data",
          "data": {
            "text/plain": [
              "<IPython.core.display.Markdown object>"
            ],
            "text/markdown": "## Customer ID Profile"
          },
          "metadata": {}
        },
        {
          "output_type": "display_data",
          "data": {
            "text/plain": [
              "Type                           category\n",
              "Number of observations         417534.0\n",
              "Unique                           4383.0\n",
              "Top                             14911.0\n",
              "Freq                             5710.0\n",
              "                                       \n",
              "Missing cells                    107927\n",
              "Missing cells (%)               20.54 %\n",
              "Duplicate rows                   525327\n",
              "Duplicate rows (%)              99.97 %\n",
              "Total size in memory      1218250 bytes\n",
              "dtype: object"
            ]
          },
          "metadata": {}
        },
        {
          "output_type": "display_data",
          "data": {
            "text/html": [
              "<html>\n",
              "<head><meta charset=\"utf-8\" /></head>\n",
              "<body>\n",
              "    <div>            <script src=\"https://cdnjs.cloudflare.com/ajax/libs/mathjax/2.7.5/MathJax.js?config=TeX-AMS-MML_SVG\"></script><script type=\"text/javascript\">if (window.MathJax && window.MathJax.Hub && && window.MathJax.Hub.Config) {window.MathJax.Hub.Config({SVG: {font: \"STIX-Web\"}});}</script>                <script type=\"text/javascript\">window.PlotlyConfig = {MathJaxConfig: 'local'};</script>\n",
              "        <script src=\"https://cdn.plot.ly/plotly-2.12.1.min.js\"></script>                <div id=\"453a9181-75fb-4678-a1ad-51cc8f1fcc46\" class=\"plotly-graph-div\" style=\"height:525px; width:100%;\"></div>            <script type=\"text/javascript\">                                    window.PLOTLYENV=window.PLOTLYENV || {};                                    if (document.getElementById(\"453a9181-75fb-4678-a1ad-51cc8f1fcc46\")) {                    Plotly.newPlot(                        \"453a9181-75fb-4678-a1ad-51cc8f1fcc46\",                        [{\"alignmentgroup\":\"True\",\"hovertemplate\":\"x=%{x}<br>y=%{y}<extra></extra>\",\"legendgroup\":\"\",\"marker\":{\"color\":\"#636efa\",\"pattern\":{\"shape\":\"\"}},\"name\":\"\",\"offsetgroup\":\"\",\"orientation\":\"v\",\"showlegend\":false,\"textposition\":\"auto\",\"x\":[\"14911.0\",\"17841.0\",\"14606.0\",\"14156.0\",\"12748.0\",\"17850.0\",\"16549.0\",\"15311.0\",\"14527.0\",\"14646.0\",\"16782.0\",\"13089.0\",\"15005.0\",\"17377.0\",\"13081.0\",\"15039.0\",\"13564.0\",\"14298.0\",\"15768.0\",\"14680.0\",\"17448.0\",\"17920.0\",\"17589.0\",\"17511.0\",\"13694.0\",\"13093.0\",\"15998.0\",\"12921.0\",\"15719.0\",\"12681.0\",\"14505.0\",\"13174.0\",\"17085.0\",\"15555.0\",\"14667.0\",\"14081.0\",\"12471.0\",\"17243.0\",\"16779.0\",\"16984.0\",\"13137.0\",\"17068.0\",\"13230.0\",\"16713.0\",\"17231.0\",\"16161.0\",\"13069.0\",\"13001.0\",\"14415.0\",\"17865.0\",\"14159.0\",\"17238.0\",\"15808.0\",\"15547.0\",\"12472.0\",\"14044.0\",\"16327.0\",\"18102.0\",\"12835.0\",\"14030.0\",\"13050.0\",\"14085.0\",\"15898.0\",\"17338.0\",\"15581.0\",\"15867.0\",\"13097.0\",\"14049.0\",\"13451.0\",\"16938.0\",\"15358.0\",\"15061.0\",\"16710.0\",\"13206.0\",\"15571.0\",\"16550.0\",\"17757.0\",\"14040.0\",\"16409.0\",\"13869.0\",\"17611.0\",\"14031.0\",\"16746.0\",\"17965.0\",\"16072.0\",\"18069.0\",\"12867.0\",\"17799.0\",\"16686.0\",\"14535.0\",\"15856.0\",\"17576.0\",\"12682.0\",\"17364.0\",\"17346.0\",\"12949.0\",\"13319.0\",\"13148.0\",\"18041.0\",\"15615.0\"],\"xaxis\":\"x\",\"y\":[5710,5114,3927,2710,2665,2515,2274,2226,1826,1805,1703,1581,1388,1377,1369,1302,1233,1228,1213,1138,1133,1110,1100,1058,973,941,937,871,856,848,823,818,816,807,799,795,767,748,745,742,737,730,728,720,706,700,693,689,689,673,673,665,664,658,658,643,635,635,630,627,625,618,616,611,610,605,605,602,600,595,591,588,585,584,578,578,573,567,559,553,551,547,545,535,533,528,525,523,521,519,519,518,517,511,509,506,498,494,489,485],\"yaxis\":\"y\",\"type\":\"bar\"}],                        {\"template\":{\"data\":{\"histogram2dcontour\":[{\"type\":\"histogram2dcontour\",\"colorbar\":{\"outlinewidth\":0,\"ticks\":\"\"},\"colorscale\":[[0.0,\"#0d0887\"],[0.1111111111111111,\"#46039f\"],[0.2222222222222222,\"#7201a8\"],[0.3333333333333333,\"#9c179e\"],[0.4444444444444444,\"#bd3786\"],[0.5555555555555556,\"#d8576b\"],[0.6666666666666666,\"#ed7953\"],[0.7777777777777778,\"#fb9f3a\"],[0.8888888888888888,\"#fdca26\"],[1.0,\"#f0f921\"]]}],\"choropleth\":[{\"type\":\"choropleth\",\"colorbar\":{\"outlinewidth\":0,\"ticks\":\"\"}}],\"histogram2d\":[{\"type\":\"histogram2d\",\"colorbar\":{\"outlinewidth\":0,\"ticks\":\"\"},\"colorscale\":[[0.0,\"#0d0887\"],[0.1111111111111111,\"#46039f\"],[0.2222222222222222,\"#7201a8\"],[0.3333333333333333,\"#9c179e\"],[0.4444444444444444,\"#bd3786\"],[0.5555555555555556,\"#d8576b\"],[0.6666666666666666,\"#ed7953\"],[0.7777777777777778,\"#fb9f3a\"],[0.8888888888888888,\"#fdca26\"],[1.0,\"#f0f921\"]]}],\"heatmap\":[{\"type\":\"heatmap\",\"colorbar\":{\"outlinewidth\":0,\"ticks\":\"\"},\"colorscale\":[[0.0,\"#0d0887\"],[0.1111111111111111,\"#46039f\"],[0.2222222222222222,\"#7201a8\"],[0.3333333333333333,\"#9c179e\"],[0.4444444444444444,\"#bd3786\"],[0.5555555555555556,\"#d8576b\"],[0.6666666666666666,\"#ed7953\"],[0.7777777777777778,\"#fb9f3a\"],[0.8888888888888888,\"#fdca26\"],[1.0,\"#f0f921\"]]}],\"heatmapgl\":[{\"type\":\"heatmapgl\",\"colorbar\":{\"outlinewidth\":0,\"ticks\":\"\"},\"colorscale\":[[0.0,\"#0d0887\"],[0.1111111111111111,\"#46039f\"],[0.2222222222222222,\"#7201a8\"],[0.3333333333333333,\"#9c179e\"],[0.4444444444444444,\"#bd3786\"],[0.5555555555555556,\"#d8576b\"],[0.6666666666666666,\"#ed7953\"],[0.7777777777777778,\"#fb9f3a\"],[0.8888888888888888,\"#fdca26\"],[1.0,\"#f0f921\"]]}],\"contourcarpet\":[{\"type\":\"contourcarpet\",\"colorbar\":{\"outlinewidth\":0,\"ticks\":\"\"}}],\"contour\":[{\"type\":\"contour\",\"colorbar\":{\"outlinewidth\":0,\"ticks\":\"\"},\"colorscale\":[[0.0,\"#0d0887\"],[0.1111111111111111,\"#46039f\"],[0.2222222222222222,\"#7201a8\"],[0.3333333333333333,\"#9c179e\"],[0.4444444444444444,\"#bd3786\"],[0.5555555555555556,\"#d8576b\"],[0.6666666666666666,\"#ed7953\"],[0.7777777777777778,\"#fb9f3a\"],[0.8888888888888888,\"#fdca26\"],[1.0,\"#f0f921\"]]}],\"surface\":[{\"type\":\"surface\",\"colorbar\":{\"outlinewidth\":0,\"ticks\":\"\"},\"colorscale\":[[0.0,\"#0d0887\"],[0.1111111111111111,\"#46039f\"],[0.2222222222222222,\"#7201a8\"],[0.3333333333333333,\"#9c179e\"],[0.4444444444444444,\"#bd3786\"],[0.5555555555555556,\"#d8576b\"],[0.6666666666666666,\"#ed7953\"],[0.7777777777777778,\"#fb9f3a\"],[0.8888888888888888,\"#fdca26\"],[1.0,\"#f0f921\"]]}],\"mesh3d\":[{\"type\":\"mesh3d\",\"colorbar\":{\"outlinewidth\":0,\"ticks\":\"\"}}],\"scatter\":[{\"fillpattern\":{\"fillmode\":\"overlay\",\"size\":10,\"solidity\":0.2},\"type\":\"scatter\"}],\"parcoords\":[{\"type\":\"parcoords\",\"line\":{\"colorbar\":{\"outlinewidth\":0,\"ticks\":\"\"}}}],\"scatterpolargl\":[{\"type\":\"scatterpolargl\",\"marker\":{\"colorbar\":{\"outlinewidth\":0,\"ticks\":\"\"}}}],\"bar\":[{\"error_x\":{\"color\":\"#2a3f5f\"},\"error_y\":{\"color\":\"#2a3f5f\"},\"marker\":{\"line\":{\"color\":\"#E5ECF6\",\"width\":0.5},\"pattern\":{\"fillmode\":\"overlay\",\"size\":10,\"solidity\":0.2}},\"type\":\"bar\"}],\"scattergeo\":[{\"type\":\"scattergeo\",\"marker\":{\"colorbar\":{\"outlinewidth\":0,\"ticks\":\"\"}}}],\"scatterpolar\":[{\"type\":\"scatterpolar\",\"marker\":{\"colorbar\":{\"outlinewidth\":0,\"ticks\":\"\"}}}],\"histogram\":[{\"marker\":{\"pattern\":{\"fillmode\":\"overlay\",\"size\":10,\"solidity\":0.2}},\"type\":\"histogram\"}],\"scattergl\":[{\"type\":\"scattergl\",\"marker\":{\"colorbar\":{\"outlinewidth\":0,\"ticks\":\"\"}}}],\"scatter3d\":[{\"type\":\"scatter3d\",\"line\":{\"colorbar\":{\"outlinewidth\":0,\"ticks\":\"\"}},\"marker\":{\"colorbar\":{\"outlinewidth\":0,\"ticks\":\"\"}}}],\"scattermapbox\":[{\"type\":\"scattermapbox\",\"marker\":{\"colorbar\":{\"outlinewidth\":0,\"ticks\":\"\"}}}],\"scatterternary\":[{\"type\":\"scatterternary\",\"marker\":{\"colorbar\":{\"outlinewidth\":0,\"ticks\":\"\"}}}],\"scattercarpet\":[{\"type\":\"scattercarpet\",\"marker\":{\"colorbar\":{\"outlinewidth\":0,\"ticks\":\"\"}}}],\"carpet\":[{\"aaxis\":{\"endlinecolor\":\"#2a3f5f\",\"gridcolor\":\"white\",\"linecolor\":\"white\",\"minorgridcolor\":\"white\",\"startlinecolor\":\"#2a3f5f\"},\"baxis\":{\"endlinecolor\":\"#2a3f5f\",\"gridcolor\":\"white\",\"linecolor\":\"white\",\"minorgridcolor\":\"white\",\"startlinecolor\":\"#2a3f5f\"},\"type\":\"carpet\"}],\"table\":[{\"cells\":{\"fill\":{\"color\":\"#EBF0F8\"},\"line\":{\"color\":\"white\"}},\"header\":{\"fill\":{\"color\":\"#C8D4E3\"},\"line\":{\"color\":\"white\"}},\"type\":\"table\"}],\"barpolar\":[{\"marker\":{\"line\":{\"color\":\"#E5ECF6\",\"width\":0.5},\"pattern\":{\"fillmode\":\"overlay\",\"size\":10,\"solidity\":0.2}},\"type\":\"barpolar\"}],\"pie\":[{\"automargin\":true,\"type\":\"pie\"}]},\"layout\":{\"autotypenumbers\":\"strict\",\"colorway\":[\"#636efa\",\"#EF553B\",\"#00cc96\",\"#ab63fa\",\"#FFA15A\",\"#19d3f3\",\"#FF6692\",\"#B6E880\",\"#FF97FF\",\"#FECB52\"],\"font\":{\"color\":\"#2a3f5f\"},\"hovermode\":\"closest\",\"hoverlabel\":{\"align\":\"left\"},\"paper_bgcolor\":\"white\",\"plot_bgcolor\":\"#E5ECF6\",\"polar\":{\"bgcolor\":\"#E5ECF6\",\"angularaxis\":{\"gridcolor\":\"white\",\"linecolor\":\"white\",\"ticks\":\"\"},\"radialaxis\":{\"gridcolor\":\"white\",\"linecolor\":\"white\",\"ticks\":\"\"}},\"ternary\":{\"bgcolor\":\"#E5ECF6\",\"aaxis\":{\"gridcolor\":\"white\",\"linecolor\":\"white\",\"ticks\":\"\"},\"baxis\":{\"gridcolor\":\"white\",\"linecolor\":\"white\",\"ticks\":\"\"},\"caxis\":{\"gridcolor\":\"white\",\"linecolor\":\"white\",\"ticks\":\"\"}},\"coloraxis\":{\"colorbar\":{\"outlinewidth\":0,\"ticks\":\"\"}},\"colorscale\":{\"sequential\":[[0.0,\"#0d0887\"],[0.1111111111111111,\"#46039f\"],[0.2222222222222222,\"#7201a8\"],[0.3333333333333333,\"#9c179e\"],[0.4444444444444444,\"#bd3786\"],[0.5555555555555556,\"#d8576b\"],[0.6666666666666666,\"#ed7953\"],[0.7777777777777778,\"#fb9f3a\"],[0.8888888888888888,\"#fdca26\"],[1.0,\"#f0f921\"]],\"sequentialminus\":[[0.0,\"#0d0887\"],[0.1111111111111111,\"#46039f\"],[0.2222222222222222,\"#7201a8\"],[0.3333333333333333,\"#9c179e\"],[0.4444444444444444,\"#bd3786\"],[0.5555555555555556,\"#d8576b\"],[0.6666666666666666,\"#ed7953\"],[0.7777777777777778,\"#fb9f3a\"],[0.8888888888888888,\"#fdca26\"],[1.0,\"#f0f921\"]],\"diverging\":[[0,\"#8e0152\"],[0.1,\"#c51b7d\"],[0.2,\"#de77ae\"],[0.3,\"#f1b6da\"],[0.4,\"#fde0ef\"],[0.5,\"#f7f7f7\"],[0.6,\"#e6f5d0\"],[0.7,\"#b8e186\"],[0.8,\"#7fbc41\"],[0.9,\"#4d9221\"],[1,\"#276419\"]]},\"xaxis\":{\"gridcolor\":\"white\",\"linecolor\":\"white\",\"ticks\":\"\",\"title\":{\"standoff\":15},\"zerolinecolor\":\"white\",\"automargin\":true,\"zerolinewidth\":2},\"yaxis\":{\"gridcolor\":\"white\",\"linecolor\":\"white\",\"ticks\":\"\",\"title\":{\"standoff\":15},\"zerolinecolor\":\"white\",\"automargin\":true,\"zerolinewidth\":2},\"scene\":{\"xaxis\":{\"backgroundcolor\":\"#E5ECF6\",\"gridcolor\":\"white\",\"linecolor\":\"white\",\"showbackground\":true,\"ticks\":\"\",\"zerolinecolor\":\"white\",\"gridwidth\":2},\"yaxis\":{\"backgroundcolor\":\"#E5ECF6\",\"gridcolor\":\"white\",\"linecolor\":\"white\",\"showbackground\":true,\"ticks\":\"\",\"zerolinecolor\":\"white\",\"gridwidth\":2},\"zaxis\":{\"backgroundcolor\":\"#E5ECF6\",\"gridcolor\":\"white\",\"linecolor\":\"white\",\"showbackground\":true,\"ticks\":\"\",\"zerolinecolor\":\"white\",\"gridwidth\":2}},\"shapedefaults\":{\"line\":{\"color\":\"#2a3f5f\"}},\"annotationdefaults\":{\"arrowcolor\":\"#2a3f5f\",\"arrowhead\":0,\"arrowwidth\":1},\"geo\":{\"bgcolor\":\"white\",\"landcolor\":\"#E5ECF6\",\"subunitcolor\":\"white\",\"showland\":true,\"showlakes\":true,\"lakecolor\":\"white\"},\"title\":{\"x\":0.05},\"mapbox\":{\"style\":\"light\"}}},\"xaxis\":{\"anchor\":\"y\",\"domain\":[0.0,1.0],\"title\":{\"text\":\"x\"}},\"yaxis\":{\"anchor\":\"x\",\"domain\":[0.0,1.0],\"title\":{\"text\":\"y\"}},\"legend\":{\"tracegroupgap\":0},\"title\":{\"text\":\"100 Most common categories of Customer ID\"},\"barmode\":\"relative\"},                        {\"responsive\": true}                    ).then(function(){\n",
              "                            \n",
              "var gd = document.getElementById('453a9181-75fb-4678-a1ad-51cc8f1fcc46');\n",
              "var x = new MutationObserver(function (mutations, observer) {{\n",
              "        var display = window.getComputedStyle(gd).display;\n",
              "        if (!display || display === 'none') {{\n",
              "            console.log([gd, 'removed!']);\n",
              "            Plotly.purge(gd);\n",
              "            observer.disconnect();\n",
              "        }}\n",
              "}});\n",
              "\n",
              "// Listen for the removal of the full notebook cells\n",
              "var notebookContainer = gd.closest('#notebook-container');\n",
              "if (notebookContainer) {{\n",
              "    x.observe(notebookContainer, {childList: true});\n",
              "}}\n",
              "\n",
              "// Listen for the clearing of the current output cell\n",
              "var outputEl = gd.closest('.output');\n",
              "if (outputEl) {{\n",
              "    x.observe(outputEl, {childList: true});\n",
              "}}\n",
              "\n",
              "                        })                };                            </script>        </div>\n",
              "</body>\n",
              "</html>"
            ]
          },
          "metadata": {}
        }
      ]
    },
    {
      "cell_type": "markdown",
      "source": [
        "Se grafica la cantidad de boletas de cada usuario (según su ID asociado). Se tiene pequeña cantidad de usuarios que compran muchas veces, mientras que el resto en general mantiene una cantidad de compras promedio. Recordar, como se dijo en la sección pasada, existe una gran cantidad de datos nulos."
      ],
      "metadata": {
        "id": "cIcCNCv07KNf"
      }
    },
    {
      "cell_type": "markdown",
      "source": [
        "#### Country profile"
      ],
      "metadata": {
        "id": "loynvft-7Kno"
      }
    },
    {
      "cell_type": "code",
      "source": [
        "profile_serie(df_retail['Country'])"
      ],
      "metadata": {
        "colab": {
          "base_uri": "https://localhost:8080/",
          "height": 0
        },
        "id": "uo2xCodG7Nwo",
        "outputId": "8026a00e-7b44-4ce2-efcc-22208b86440a"
      },
      "execution_count": 149,
      "outputs": [
        {
          "output_type": "display_data",
          "data": {
            "text/plain": [
              "<IPython.core.display.Markdown object>"
            ],
            "text/markdown": "## Country Profile"
          },
          "metadata": {}
        },
        {
          "output_type": "display_data",
          "data": {
            "text/plain": [
              "Type                              object\n",
              "Number of observations            525461\n",
              "Unique                                40\n",
              "Top                       United Kingdom\n",
              "Freq                              485852\n",
              "                                        \n",
              "Missing cells                          0\n",
              "Missing cells (%)                  0.0 %\n",
              "Duplicate rows                    525461\n",
              "Duplicate rows (%)               100.0 %\n",
              "Total size in memory       4203816 bytes\n",
              "dtype: object"
            ]
          },
          "metadata": {}
        },
        {
          "output_type": "display_data",
          "data": {
            "text/html": [
              "<html>\n",
              "<head><meta charset=\"utf-8\" /></head>\n",
              "<body>\n",
              "    <div>            <script src=\"https://cdnjs.cloudflare.com/ajax/libs/mathjax/2.7.5/MathJax.js?config=TeX-AMS-MML_SVG\"></script><script type=\"text/javascript\">if (window.MathJax && window.MathJax.Hub && && window.MathJax.Hub.Config) {window.MathJax.Hub.Config({SVG: {font: \"STIX-Web\"}});}</script>                <script type=\"text/javascript\">window.PlotlyConfig = {MathJaxConfig: 'local'};</script>\n",
              "        <script src=\"https://cdn.plot.ly/plotly-2.12.1.min.js\"></script>                <div id=\"eb35b0fa-fe34-4fde-8710-14065dcb870c\" class=\"plotly-graph-div\" style=\"height:525px; width:100%;\"></div>            <script type=\"text/javascript\">                                    window.PLOTLYENV=window.PLOTLYENV || {};                                    if (document.getElementById(\"eb35b0fa-fe34-4fde-8710-14065dcb870c\")) {                    Plotly.newPlot(                        \"eb35b0fa-fe34-4fde-8710-14065dcb870c\",                        [{\"alignmentgroup\":\"True\",\"hovertemplate\":\"x=%{x}<br>y=%{y}<extra></extra>\",\"legendgroup\":\"\",\"marker\":{\"color\":\"#636efa\",\"pattern\":{\"shape\":\"\"}},\"name\":\"\",\"offsetgroup\":\"\",\"orientation\":\"v\",\"showlegend\":false,\"textposition\":\"auto\",\"x\":[\"United Kingdom\",\"EIRE\",\"Germany\",\"France\",\"Netherlands\",\"Spain\",\"Switzerland\",\"Portugal\",\"Belgium\",\"Channel Islands\",\"Sweden\",\"Italy\",\"Australia\",\"Cyprus\",\"Austria\",\"Greece\",\"United Arab Emirates\",\"Denmark\",\"Norway\",\"Finland\",\"Unspecified\",\"USA\",\"Japan\",\"Poland\",\"Malta\",\"Lithuania\",\"Singapore\",\"RSA\",\"Bahrain\",\"Canada\",\"Hong Kong\",\"Thailand\",\"Israel\",\"Iceland\",\"Korea\",\"Brazil\",\"West Indies\",\"Bermuda\",\"Nigeria\",\"Lebanon\"],\"xaxis\":\"x\",\"y\":[485852,9670,8129,5772,2769,1278,1187,1101,1054,906,902,731,654,554,537,517,432,428,369,354,310,244,224,194,172,154,117,111,107,77,76,76,74,71,63,62,54,34,32,13],\"yaxis\":\"y\",\"type\":\"bar\"}],                        {\"template\":{\"data\":{\"histogram2dcontour\":[{\"type\":\"histogram2dcontour\",\"colorbar\":{\"outlinewidth\":0,\"ticks\":\"\"},\"colorscale\":[[0.0,\"#0d0887\"],[0.1111111111111111,\"#46039f\"],[0.2222222222222222,\"#7201a8\"],[0.3333333333333333,\"#9c179e\"],[0.4444444444444444,\"#bd3786\"],[0.5555555555555556,\"#d8576b\"],[0.6666666666666666,\"#ed7953\"],[0.7777777777777778,\"#fb9f3a\"],[0.8888888888888888,\"#fdca26\"],[1.0,\"#f0f921\"]]}],\"choropleth\":[{\"type\":\"choropleth\",\"colorbar\":{\"outlinewidth\":0,\"ticks\":\"\"}}],\"histogram2d\":[{\"type\":\"histogram2d\",\"colorbar\":{\"outlinewidth\":0,\"ticks\":\"\"},\"colorscale\":[[0.0,\"#0d0887\"],[0.1111111111111111,\"#46039f\"],[0.2222222222222222,\"#7201a8\"],[0.3333333333333333,\"#9c179e\"],[0.4444444444444444,\"#bd3786\"],[0.5555555555555556,\"#d8576b\"],[0.6666666666666666,\"#ed7953\"],[0.7777777777777778,\"#fb9f3a\"],[0.8888888888888888,\"#fdca26\"],[1.0,\"#f0f921\"]]}],\"heatmap\":[{\"type\":\"heatmap\",\"colorbar\":{\"outlinewidth\":0,\"ticks\":\"\"},\"colorscale\":[[0.0,\"#0d0887\"],[0.1111111111111111,\"#46039f\"],[0.2222222222222222,\"#7201a8\"],[0.3333333333333333,\"#9c179e\"],[0.4444444444444444,\"#bd3786\"],[0.5555555555555556,\"#d8576b\"],[0.6666666666666666,\"#ed7953\"],[0.7777777777777778,\"#fb9f3a\"],[0.8888888888888888,\"#fdca26\"],[1.0,\"#f0f921\"]]}],\"heatmapgl\":[{\"type\":\"heatmapgl\",\"colorbar\":{\"outlinewidth\":0,\"ticks\":\"\"},\"colorscale\":[[0.0,\"#0d0887\"],[0.1111111111111111,\"#46039f\"],[0.2222222222222222,\"#7201a8\"],[0.3333333333333333,\"#9c179e\"],[0.4444444444444444,\"#bd3786\"],[0.5555555555555556,\"#d8576b\"],[0.6666666666666666,\"#ed7953\"],[0.7777777777777778,\"#fb9f3a\"],[0.8888888888888888,\"#fdca26\"],[1.0,\"#f0f921\"]]}],\"contourcarpet\":[{\"type\":\"contourcarpet\",\"colorbar\":{\"outlinewidth\":0,\"ticks\":\"\"}}],\"contour\":[{\"type\":\"contour\",\"colorbar\":{\"outlinewidth\":0,\"ticks\":\"\"},\"colorscale\":[[0.0,\"#0d0887\"],[0.1111111111111111,\"#46039f\"],[0.2222222222222222,\"#7201a8\"],[0.3333333333333333,\"#9c179e\"],[0.4444444444444444,\"#bd3786\"],[0.5555555555555556,\"#d8576b\"],[0.6666666666666666,\"#ed7953\"],[0.7777777777777778,\"#fb9f3a\"],[0.8888888888888888,\"#fdca26\"],[1.0,\"#f0f921\"]]}],\"surface\":[{\"type\":\"surface\",\"colorbar\":{\"outlinewidth\":0,\"ticks\":\"\"},\"colorscale\":[[0.0,\"#0d0887\"],[0.1111111111111111,\"#46039f\"],[0.2222222222222222,\"#7201a8\"],[0.3333333333333333,\"#9c179e\"],[0.4444444444444444,\"#bd3786\"],[0.5555555555555556,\"#d8576b\"],[0.6666666666666666,\"#ed7953\"],[0.7777777777777778,\"#fb9f3a\"],[0.8888888888888888,\"#fdca26\"],[1.0,\"#f0f921\"]]}],\"mesh3d\":[{\"type\":\"mesh3d\",\"colorbar\":{\"outlinewidth\":0,\"ticks\":\"\"}}],\"scatter\":[{\"fillpattern\":{\"fillmode\":\"overlay\",\"size\":10,\"solidity\":0.2},\"type\":\"scatter\"}],\"parcoords\":[{\"type\":\"parcoords\",\"line\":{\"colorbar\":{\"outlinewidth\":0,\"ticks\":\"\"}}}],\"scatterpolargl\":[{\"type\":\"scatterpolargl\",\"marker\":{\"colorbar\":{\"outlinewidth\":0,\"ticks\":\"\"}}}],\"bar\":[{\"error_x\":{\"color\":\"#2a3f5f\"},\"error_y\":{\"color\":\"#2a3f5f\"},\"marker\":{\"line\":{\"color\":\"#E5ECF6\",\"width\":0.5},\"pattern\":{\"fillmode\":\"overlay\",\"size\":10,\"solidity\":0.2}},\"type\":\"bar\"}],\"scattergeo\":[{\"type\":\"scattergeo\",\"marker\":{\"colorbar\":{\"outlinewidth\":0,\"ticks\":\"\"}}}],\"scatterpolar\":[{\"type\":\"scatterpolar\",\"marker\":{\"colorbar\":{\"outlinewidth\":0,\"ticks\":\"\"}}}],\"histogram\":[{\"marker\":{\"pattern\":{\"fillmode\":\"overlay\",\"size\":10,\"solidity\":0.2}},\"type\":\"histogram\"}],\"scattergl\":[{\"type\":\"scattergl\",\"marker\":{\"colorbar\":{\"outlinewidth\":0,\"ticks\":\"\"}}}],\"scatter3d\":[{\"type\":\"scatter3d\",\"line\":{\"colorbar\":{\"outlinewidth\":0,\"ticks\":\"\"}},\"marker\":{\"colorbar\":{\"outlinewidth\":0,\"ticks\":\"\"}}}],\"scattermapbox\":[{\"type\":\"scattermapbox\",\"marker\":{\"colorbar\":{\"outlinewidth\":0,\"ticks\":\"\"}}}],\"scatterternary\":[{\"type\":\"scatterternary\",\"marker\":{\"colorbar\":{\"outlinewidth\":0,\"ticks\":\"\"}}}],\"scattercarpet\":[{\"type\":\"scattercarpet\",\"marker\":{\"colorbar\":{\"outlinewidth\":0,\"ticks\":\"\"}}}],\"carpet\":[{\"aaxis\":{\"endlinecolor\":\"#2a3f5f\",\"gridcolor\":\"white\",\"linecolor\":\"white\",\"minorgridcolor\":\"white\",\"startlinecolor\":\"#2a3f5f\"},\"baxis\":{\"endlinecolor\":\"#2a3f5f\",\"gridcolor\":\"white\",\"linecolor\":\"white\",\"minorgridcolor\":\"white\",\"startlinecolor\":\"#2a3f5f\"},\"type\":\"carpet\"}],\"table\":[{\"cells\":{\"fill\":{\"color\":\"#EBF0F8\"},\"line\":{\"color\":\"white\"}},\"header\":{\"fill\":{\"color\":\"#C8D4E3\"},\"line\":{\"color\":\"white\"}},\"type\":\"table\"}],\"barpolar\":[{\"marker\":{\"line\":{\"color\":\"#E5ECF6\",\"width\":0.5},\"pattern\":{\"fillmode\":\"overlay\",\"size\":10,\"solidity\":0.2}},\"type\":\"barpolar\"}],\"pie\":[{\"automargin\":true,\"type\":\"pie\"}]},\"layout\":{\"autotypenumbers\":\"strict\",\"colorway\":[\"#636efa\",\"#EF553B\",\"#00cc96\",\"#ab63fa\",\"#FFA15A\",\"#19d3f3\",\"#FF6692\",\"#B6E880\",\"#FF97FF\",\"#FECB52\"],\"font\":{\"color\":\"#2a3f5f\"},\"hovermode\":\"closest\",\"hoverlabel\":{\"align\":\"left\"},\"paper_bgcolor\":\"white\",\"plot_bgcolor\":\"#E5ECF6\",\"polar\":{\"bgcolor\":\"#E5ECF6\",\"angularaxis\":{\"gridcolor\":\"white\",\"linecolor\":\"white\",\"ticks\":\"\"},\"radialaxis\":{\"gridcolor\":\"white\",\"linecolor\":\"white\",\"ticks\":\"\"}},\"ternary\":{\"bgcolor\":\"#E5ECF6\",\"aaxis\":{\"gridcolor\":\"white\",\"linecolor\":\"white\",\"ticks\":\"\"},\"baxis\":{\"gridcolor\":\"white\",\"linecolor\":\"white\",\"ticks\":\"\"},\"caxis\":{\"gridcolor\":\"white\",\"linecolor\":\"white\",\"ticks\":\"\"}},\"coloraxis\":{\"colorbar\":{\"outlinewidth\":0,\"ticks\":\"\"}},\"colorscale\":{\"sequential\":[[0.0,\"#0d0887\"],[0.1111111111111111,\"#46039f\"],[0.2222222222222222,\"#7201a8\"],[0.3333333333333333,\"#9c179e\"],[0.4444444444444444,\"#bd3786\"],[0.5555555555555556,\"#d8576b\"],[0.6666666666666666,\"#ed7953\"],[0.7777777777777778,\"#fb9f3a\"],[0.8888888888888888,\"#fdca26\"],[1.0,\"#f0f921\"]],\"sequentialminus\":[[0.0,\"#0d0887\"],[0.1111111111111111,\"#46039f\"],[0.2222222222222222,\"#7201a8\"],[0.3333333333333333,\"#9c179e\"],[0.4444444444444444,\"#bd3786\"],[0.5555555555555556,\"#d8576b\"],[0.6666666666666666,\"#ed7953\"],[0.7777777777777778,\"#fb9f3a\"],[0.8888888888888888,\"#fdca26\"],[1.0,\"#f0f921\"]],\"diverging\":[[0,\"#8e0152\"],[0.1,\"#c51b7d\"],[0.2,\"#de77ae\"],[0.3,\"#f1b6da\"],[0.4,\"#fde0ef\"],[0.5,\"#f7f7f7\"],[0.6,\"#e6f5d0\"],[0.7,\"#b8e186\"],[0.8,\"#7fbc41\"],[0.9,\"#4d9221\"],[1,\"#276419\"]]},\"xaxis\":{\"gridcolor\":\"white\",\"linecolor\":\"white\",\"ticks\":\"\",\"title\":{\"standoff\":15},\"zerolinecolor\":\"white\",\"automargin\":true,\"zerolinewidth\":2},\"yaxis\":{\"gridcolor\":\"white\",\"linecolor\":\"white\",\"ticks\":\"\",\"title\":{\"standoff\":15},\"zerolinecolor\":\"white\",\"automargin\":true,\"zerolinewidth\":2},\"scene\":{\"xaxis\":{\"backgroundcolor\":\"#E5ECF6\",\"gridcolor\":\"white\",\"linecolor\":\"white\",\"showbackground\":true,\"ticks\":\"\",\"zerolinecolor\":\"white\",\"gridwidth\":2},\"yaxis\":{\"backgroundcolor\":\"#E5ECF6\",\"gridcolor\":\"white\",\"linecolor\":\"white\",\"showbackground\":true,\"ticks\":\"\",\"zerolinecolor\":\"white\",\"gridwidth\":2},\"zaxis\":{\"backgroundcolor\":\"#E5ECF6\",\"gridcolor\":\"white\",\"linecolor\":\"white\",\"showbackground\":true,\"ticks\":\"\",\"zerolinecolor\":\"white\",\"gridwidth\":2}},\"shapedefaults\":{\"line\":{\"color\":\"#2a3f5f\"}},\"annotationdefaults\":{\"arrowcolor\":\"#2a3f5f\",\"arrowhead\":0,\"arrowwidth\":1},\"geo\":{\"bgcolor\":\"white\",\"landcolor\":\"#E5ECF6\",\"subunitcolor\":\"white\",\"showland\":true,\"showlakes\":true,\"lakecolor\":\"white\"},\"title\":{\"x\":0.05},\"mapbox\":{\"style\":\"light\"}}},\"xaxis\":{\"anchor\":\"y\",\"domain\":[0.0,1.0],\"title\":{\"text\":\"x\"}},\"yaxis\":{\"anchor\":\"x\",\"domain\":[0.0,1.0],\"title\":{\"text\":\"y\"}},\"legend\":{\"tracegroupgap\":0},\"title\":{\"text\":\"100 Most common categories of Country\"},\"barmode\":\"relative\"},                        {\"responsive\": true}                    ).then(function(){\n",
              "                            \n",
              "var gd = document.getElementById('eb35b0fa-fe34-4fde-8710-14065dcb870c');\n",
              "var x = new MutationObserver(function (mutations, observer) {{\n",
              "        var display = window.getComputedStyle(gd).display;\n",
              "        if (!display || display === 'none') {{\n",
              "            console.log([gd, 'removed!']);\n",
              "            Plotly.purge(gd);\n",
              "            observer.disconnect();\n",
              "        }}\n",
              "}});\n",
              "\n",
              "// Listen for the removal of the full notebook cells\n",
              "var notebookContainer = gd.closest('#notebook-container');\n",
              "if (notebookContainer) {{\n",
              "    x.observe(notebookContainer, {childList: true});\n",
              "}}\n",
              "\n",
              "// Listen for the clearing of the current output cell\n",
              "var outputEl = gd.closest('.output');\n",
              "if (outputEl) {{\n",
              "    x.observe(outputEl, {childList: true});\n",
              "}}\n",
              "\n",
              "                        })                };                            </script>        </div>\n",
              "</body>\n",
              "</html>"
            ]
          },
          "metadata": {}
        }
      ]
    },
    {
      "cell_type": "markdown",
      "source": [
        "Se grafica la cantidad de boletas según la nacionalidad de los usuarios. Se aprecia que prácticamente el 100% de las boletas son de UK, por ende, podemos asumir que la tienda es de dicho país. Además, se presentan otras 39 nacionalidades, pero son muy minoritarias."
      ],
      "metadata": {
        "id": "RgzKi7aR7QYQ"
      }
    },
    {
      "cell_type": "markdown",
      "source": [
        "### 1.2.2 Análisis Multivariado y Datos Faltantes [1 ptos]\n",
        "\n",
        "En segundo lugar encontrará la función ``profile_df()`` que recibe un dataframe como entrada y realiza un análisis bivariado de todas las variables numéricas que conforman el dataframe, un analisis de la correlación de Pearson entre las variables numericas del dataframe y la matriz de datos faltantes."
      ],
      "metadata": {
        "tags": [],
        "cell_id": "00023-70400e15-a0f7-41f7-98a5-4b81f1d3315a",
        "deepnote_cell_type": "markdown",
        "deepnote_cell_height": 144.23333740234375,
        "id": "IKL7afMqE-Mi"
      }
    },
    {
      "cell_type": "code",
      "metadata": {
        "tags": [],
        "deepnote_to_be_reexecuted": false,
        "source_hash": "ac31b9bd",
        "execution_start": 1634322697785,
        "execution_millis": 2,
        "cell_id": "00024-527d7ab1-22cb-461d-bb32-57ed65f2f2ab",
        "owner_user_id": "badcc427-fd3d-4615-9296-faa43ec69cfb",
        "deepnote_cell_type": "code",
        "deepnote_cell_height": 530.0333251953125,
        "id": "bt0KbjnzE-Mi"
      },
      "source": [
        "def profile_df(dataframe_in):\n",
        "    df = dataframe_in.copy()\n",
        "\n",
        "    list_type = []\n",
        "    for col in list(df.columns):\n",
        "        if is_numeric_dtype(df[col]) or \\\n",
        "        pd.core.dtypes.common.is_datetime_or_timedelta_dtype(df[col]):\n",
        "            list_type.append(col)\n",
        "\n",
        "    \n",
        "    display(Markdown('## Bivariant Analysis:'))\n",
        "    for i in range(len(list_type)):\n",
        "        for j in range(i+1, len(list_type)):\n",
        "            plt.scatter(df[list_type[i]], df[list_type[j]])\n",
        "            plt.xlabel(list_type[i]) \n",
        "            plt.ylabel(list_type[j]) \n",
        "            plt.title(f\"{list_type[i]} v/s {list_type[j]}\")\n",
        "            plt.show()\n",
        "\n",
        "    display(Markdown('## Correlation:'))\n",
        "    fig_corr = px.imshow(df.corr())\n",
        "    fig_corr.show()\n",
        "\n",
        "    display(Markdown('## Missing Matrix:'))\n",
        "    fig, ax = plt.subplots(figsize=[15, 10])\n",
        "    msno.matrix(df, ax=ax, sparkline=False)"
      ],
      "execution_count": 150,
      "outputs": []
    },
    {
      "cell_type": "code",
      "source": [
        "profile_df(df_retail)"
      ],
      "metadata": {
        "colab": {
          "base_uri": "https://localhost:8080/",
          "height": 1000
        },
        "id": "HB92eU6zN26v",
        "outputId": "fe813368-5058-435a-8c9f-bd476543a8af"
      },
      "execution_count": 151,
      "outputs": [
        {
          "output_type": "display_data",
          "data": {
            "text/plain": [
              "<IPython.core.display.Markdown object>"
            ],
            "text/markdown": "## Bivariant Analysis:"
          },
          "metadata": {}
        },
        {
          "output_type": "display_data",
          "data": {
            "text/plain": [
              "<Figure size 432x288 with 1 Axes>"
            ],
            "image/png": "[encoded data removed]"
          },
          "metadata": {
            "needs_background": "light"
          }
        },
        {
          "output_type": "display_data",
          "data": {
            "text/plain": [
              "<Figure size 432x288 with 1 Axes>"
            ],
            "image/png": "[encoded data removed]"
          },
          "metadata": {
            "needs_background": "light"
          }
        },
        {
          "output_type": "display_data",
          "data": {
            "text/plain": [
              "<Figure size 432x288 with 1 Axes>"
            ],
            "image/png": "[encoded data removed]"
          },
          "metadata": {
            "needs_background": "light"
          }
        },
        {
          "output_type": "display_data",
          "data": {
            "text/plain": [
              "<IPython.core.display.Markdown object>"
            ],
            "text/markdown": "## Correlation:"
          },
          "metadata": {}
        },
        {
          "output_type": "display_data",
          "data": {
            "text/html": [
              "<html>\n",
              "<head><meta charset=\"utf-8\" /></head>\n",
              "<body>\n",
              "    <div>            <script src=\"https://cdnjs.cloudflare.com/ajax/libs/mathjax/2.7.5/MathJax.js?config=TeX-AMS-MML_SVG\"></script><script type=\"text/javascript\">if (window.MathJax && window.MathJax.Hub && && window.MathJax.Hub.Config) {window.MathJax.Hub.Config({SVG: {font: \"STIX-Web\"}});}</script>                <script type=\"text/javascript\">window.PlotlyConfig = {MathJaxConfig: 'local'};</script>\n",
              "        <script src=\"https://cdn.plot.ly/plotly-2.12.1.min.js\"></script>                <div id=\"d594d8b2-81b5-48f2-81b1-2fe75b2785db\" class=\"plotly-graph-div\" style=\"height:525px; width:100%;\"></div>            <script type=\"text/javascript\">                                    window.PLOTLYENV=window.PLOTLYENV || {};                                    if (document.getElementById(\"d594d8b2-81b5-48f2-81b1-2fe75b2785db\")) {                    Plotly.newPlot(                        \"d594d8b2-81b5-48f2-81b1-2fe75b2785db\",                        [{\"coloraxis\":\"coloraxis\",\"name\":\"0\",\"x\":[\"Quantity\",\"Price\"],\"y\":[\"Quantity\",\"Price\"],\"z\":[[1.0,-0.0019313304222704135],[-0.0019313304222704135,1.0]],\"type\":\"heatmap\",\"xaxis\":\"x\",\"yaxis\":\"y\",\"hovertemplate\":\"x: %{x}<br>y: %{y}<br>color: %{z}<extra></extra>\"}],                        {\"template\":{\"data\":{\"histogram2dcontour\":[{\"type\":\"histogram2dcontour\",\"colorbar\":{\"outlinewidth\":0,\"ticks\":\"\"},\"colorscale\":[[0.0,\"#0d0887\"],[0.1111111111111111,\"#46039f\"],[0.2222222222222222,\"#7201a8\"],[0.3333333333333333,\"#9c179e\"],[0.4444444444444444,\"#bd3786\"],[0.5555555555555556,\"#d8576b\"],[0.6666666666666666,\"#ed7953\"],[0.7777777777777778,\"#fb9f3a\"],[0.8888888888888888,\"#fdca26\"],[1.0,\"#f0f921\"]]}],\"choropleth\":[{\"type\":\"choropleth\",\"colorbar\":{\"outlinewidth\":0,\"ticks\":\"\"}}],\"histogram2d\":[{\"type\":\"histogram2d\",\"colorbar\":{\"outlinewidth\":0,\"ticks\":\"\"},\"colorscale\":[[0.0,\"#0d0887\"],[0.1111111111111111,\"#46039f\"],[0.2222222222222222,\"#7201a8\"],[0.3333333333333333,\"#9c179e\"],[0.4444444444444444,\"#bd3786\"],[0.5555555555555556,\"#d8576b\"],[0.6666666666666666,\"#ed7953\"],[0.7777777777777778,\"#fb9f3a\"],[0.8888888888888888,\"#fdca26\"],[1.0,\"#f0f921\"]]}],\"heatmap\":[{\"type\":\"heatmap\",\"colorbar\":{\"outlinewidth\":0,\"ticks\":\"\"},\"colorscale\":[[0.0,\"#0d0887\"],[0.1111111111111111,\"#46039f\"],[0.2222222222222222,\"#7201a8\"],[0.3333333333333333,\"#9c179e\"],[0.4444444444444444,\"#bd3786\"],[0.5555555555555556,\"#d8576b\"],[0.6666666666666666,\"#ed7953\"],[0.7777777777777778,\"#fb9f3a\"],[0.8888888888888888,\"#fdca26\"],[1.0,\"#f0f921\"]]}],\"heatmapgl\":[{\"type\":\"heatmapgl\",\"colorbar\":{\"outlinewidth\":0,\"ticks\":\"\"},\"colorscale\":[[0.0,\"#0d0887\"],[0.1111111111111111,\"#46039f\"],[0.2222222222222222,\"#7201a8\"],[0.3333333333333333,\"#9c179e\"],[0.4444444444444444,\"#bd3786\"],[0.5555555555555556,\"#d8576b\"],[0.6666666666666666,\"#ed7953\"],[0.7777777777777778,\"#fb9f3a\"],[0.8888888888888888,\"#fdca26\"],[1.0,\"#f0f921\"]]}],\"contourcarpet\":[{\"type\":\"contourcarpet\",\"colorbar\":{\"outlinewidth\":0,\"ticks\":\"\"}}],\"contour\":[{\"type\":\"contour\",\"colorbar\":{\"outlinewidth\":0,\"ticks\":\"\"},\"colorscale\":[[0.0,\"#0d0887\"],[0.1111111111111111,\"#46039f\"],[0.2222222222222222,\"#7201a8\"],[0.3333333333333333,\"#9c179e\"],[0.4444444444444444,\"#bd3786\"],[0.5555555555555556,\"#d8576b\"],[0.6666666666666666,\"#ed7953\"],[0.7777777777777778,\"#fb9f3a\"],[0.8888888888888888,\"#fdca26\"],[1.0,\"#f0f921\"]]}],\"surface\":[{\"type\":\"surface\",\"colorbar\":{\"outlinewidth\":0,\"ticks\":\"\"},\"colorscale\":[[0.0,\"#0d0887\"],[0.1111111111111111,\"#46039f\"],[0.2222222222222222,\"#7201a8\"],[0.3333333333333333,\"#9c179e\"],[0.4444444444444444,\"#bd3786\"],[0.5555555555555556,\"#d8576b\"],[0.6666666666666666,\"#ed7953\"],[0.7777777777777778,\"#fb9f3a\"],[0.8888888888888888,\"#fdca26\"],[1.0,\"#f0f921\"]]}],\"mesh3d\":[{\"type\":\"mesh3d\",\"colorbar\":{\"outlinewidth\":0,\"ticks\":\"\"}}],\"scatter\":[{\"fillpattern\":{\"fillmode\":\"overlay\",\"size\":10,\"solidity\":0.2},\"type\":\"scatter\"}],\"parcoords\":[{\"type\":\"parcoords\",\"line\":{\"colorbar\":{\"outlinewidth\":0,\"ticks\":\"\"}}}],\"scatterpolargl\":[{\"type\":\"scatterpolargl\",\"marker\":{\"colorbar\":{\"outlinewidth\":0,\"ticks\":\"\"}}}],\"bar\":[{\"error_x\":{\"color\":\"#2a3f5f\"},\"error_y\":{\"color\":\"#2a3f5f\"},\"marker\":{\"line\":{\"color\":\"#E5ECF6\",\"width\":0.5},\"pattern\":{\"fillmode\":\"overlay\",\"size\":10,\"solidity\":0.2}},\"type\":\"bar\"}],\"scattergeo\":[{\"type\":\"scattergeo\",\"marker\":{\"colorbar\":{\"outlinewidth\":0,\"ticks\":\"\"}}}],\"scatterpolar\":[{\"type\":\"scatterpolar\",\"marker\":{\"colorbar\":{\"outlinewidth\":0,\"ticks\":\"\"}}}],\"histogram\":[{\"marker\":{\"pattern\":{\"fillmode\":\"overlay\",\"size\":10,\"solidity\":0.2}},\"type\":\"histogram\"}],\"scattergl\":[{\"type\":\"scattergl\",\"marker\":{\"colorbar\":{\"outlinewidth\":0,\"ticks\":\"\"}}}],\"scatter3d\":[{\"type\":\"scatter3d\",\"line\":{\"colorbar\":{\"outlinewidth\":0,\"ticks\":\"\"}},\"marker\":{\"colorbar\":{\"outlinewidth\":0,\"ticks\":\"\"}}}],\"scattermapbox\":[{\"type\":\"scattermapbox\",\"marker\":{\"colorbar\":{\"outlinewidth\":0,\"ticks\":\"\"}}}],\"scatterternary\":[{\"type\":\"scatterternary\",\"marker\":{\"colorbar\":{\"outlinewidth\":0,\"ticks\":\"\"}}}],\"scattercarpet\":[{\"type\":\"scattercarpet\",\"marker\":{\"colorbar\":{\"outlinewidth\":0,\"ticks\":\"\"}}}],\"carpet\":[{\"aaxis\":{\"endlinecolor\":\"#2a3f5f\",\"gridcolor\":\"white\",\"linecolor\":\"white\",\"minorgridcolor\":\"white\",\"startlinecolor\":\"#2a3f5f\"},\"baxis\":{\"endlinecolor\":\"#2a3f5f\",\"gridcolor\":\"white\",\"linecolor\":\"white\",\"minorgridcolor\":\"white\",\"startlinecolor\":\"#2a3f5f\"},\"type\":\"carpet\"}],\"table\":[{\"cells\":{\"fill\":{\"color\":\"#EBF0F8\"},\"line\":{\"color\":\"white\"}},\"header\":{\"fill\":{\"color\":\"#C8D4E3\"},\"line\":{\"color\":\"white\"}},\"type\":\"table\"}],\"barpolar\":[{\"marker\":{\"line\":{\"color\":\"#E5ECF6\",\"width\":0.5},\"pattern\":{\"fillmode\":\"overlay\",\"size\":10,\"solidity\":0.2}},\"type\":\"barpolar\"}],\"pie\":[{\"automargin\":true,\"type\":\"pie\"}]},\"layout\":{\"autotypenumbers\":\"strict\",\"colorway\":[\"#636efa\",\"#EF553B\",\"#00cc96\",\"#ab63fa\",\"#FFA15A\",\"#19d3f3\",\"#FF6692\",\"#B6E880\",\"#FF97FF\",\"#FECB52\"],\"font\":{\"color\":\"#2a3f5f\"},\"hovermode\":\"closest\",\"hoverlabel\":{\"align\":\"left\"},\"paper_bgcolor\":\"white\",\"plot_bgcolor\":\"#E5ECF6\",\"polar\":{\"bgcolor\":\"#E5ECF6\",\"angularaxis\":{\"gridcolor\":\"white\",\"linecolor\":\"white\",\"ticks\":\"\"},\"radialaxis\":{\"gridcolor\":\"white\",\"linecolor\":\"white\",\"ticks\":\"\"}},\"ternary\":{\"bgcolor\":\"#E5ECF6\",\"aaxis\":{\"gridcolor\":\"white\",\"linecolor\":\"white\",\"ticks\":\"\"},\"baxis\":{\"gridcolor\":\"white\",\"linecolor\":\"white\",\"ticks\":\"\"},\"caxis\":{\"gridcolor\":\"white\",\"linecolor\":\"white\",\"ticks\":\"\"}},\"coloraxis\":{\"colorbar\":{\"outlinewidth\":0,\"ticks\":\"\"}},\"colorscale\":{\"sequential\":[[0.0,\"#0d0887\"],[0.1111111111111111,\"#46039f\"],[0.2222222222222222,\"#7201a8\"],[0.3333333333333333,\"#9c179e\"],[0.4444444444444444,\"#bd3786\"],[0.5555555555555556,\"#d8576b\"],[0.6666666666666666,\"#ed7953\"],[0.7777777777777778,\"#fb9f3a\"],[0.8888888888888888,\"#fdca26\"],[1.0,\"#f0f921\"]],\"sequentialminus\":[[0.0,\"#0d0887\"],[0.1111111111111111,\"#46039f\"],[0.2222222222222222,\"#7201a8\"],[0.3333333333333333,\"#9c179e\"],[0.4444444444444444,\"#bd3786\"],[0.5555555555555556,\"#d8576b\"],[0.6666666666666666,\"#ed7953\"],[0.7777777777777778,\"#fb9f3a\"],[0.8888888888888888,\"#fdca26\"],[1.0,\"#f0f921\"]],\"diverging\":[[0,\"#8e0152\"],[0.1,\"#c51b7d\"],[0.2,\"#de77ae\"],[0.3,\"#f1b6da\"],[0.4,\"#fde0ef\"],[0.5,\"#f7f7f7\"],[0.6,\"#e6f5d0\"],[0.7,\"#b8e186\"],[0.8,\"#7fbc41\"],[0.9,\"#4d9221\"],[1,\"#276419\"]]},\"xaxis\":{\"gridcolor\":\"white\",\"linecolor\":\"white\",\"ticks\":\"\",\"title\":{\"standoff\":15},\"zerolinecolor\":\"white\",\"automargin\":true,\"zerolinewidth\":2},\"yaxis\":{\"gridcolor\":\"white\",\"linecolor\":\"white\",\"ticks\":\"\",\"title\":{\"standoff\":15},\"zerolinecolor\":\"white\",\"automargin\":true,\"zerolinewidth\":2},\"scene\":{\"xaxis\":{\"backgroundcolor\":\"#E5ECF6\",\"gridcolor\":\"white\",\"linecolor\":\"white\",\"showbackground\":true,\"ticks\":\"\",\"zerolinecolor\":\"white\",\"gridwidth\":2},\"yaxis\":{\"backgroundcolor\":\"#E5ECF6\",\"gridcolor\":\"white\",\"linecolor\":\"white\",\"showbackground\":true,\"ticks\":\"\",\"zerolinecolor\":\"white\",\"gridwidth\":2},\"zaxis\":{\"backgroundcolor\":\"#E5ECF6\",\"gridcolor\":\"white\",\"linecolor\":\"white\",\"showbackground\":true,\"ticks\":\"\",\"zerolinecolor\":\"white\",\"gridwidth\":2}},\"shapedefaults\":{\"line\":{\"color\":\"#2a3f5f\"}},\"annotationdefaults\":{\"arrowcolor\":\"#2a3f5f\",\"arrowhead\":0,\"arrowwidth\":1},\"geo\":{\"bgcolor\":\"white\",\"landcolor\":\"#E5ECF6\",\"subunitcolor\":\"white\",\"showland\":true,\"showlakes\":true,\"lakecolor\":\"white\"},\"title\":{\"x\":0.05},\"mapbox\":{\"style\":\"light\"}}},\"xaxis\":{\"anchor\":\"y\",\"domain\":[0.0,1.0],\"scaleanchor\":\"y\",\"constrain\":\"domain\"},\"yaxis\":{\"anchor\":\"x\",\"domain\":[0.0,1.0],\"autorange\":\"reversed\",\"constrain\":\"domain\"},\"coloraxis\":{\"colorscale\":[[0.0,\"#0d0887\"],[0.1111111111111111,\"#46039f\"],[0.2222222222222222,\"#7201a8\"],[0.3333333333333333,\"#9c179e\"],[0.4444444444444444,\"#bd3786\"],[0.5555555555555556,\"#d8576b\"],[0.6666666666666666,\"#ed7953\"],[0.7777777777777778,\"#fb9f3a\"],[0.8888888888888888,\"#fdca26\"],[1.0,\"#f0f921\"]]},\"margin\":{\"t\":60}},                        {\"responsive\": true}                    ).then(function(){\n",
              "                            \n",
              "var gd = document.getElementById('d594d8b2-81b5-48f2-81b1-2fe75b2785db');\n",
              "var x = new MutationObserver(function (mutations, observer) {{\n",
              "        var display = window.getComputedStyle(gd).display;\n",
              "        if (!display || display === 'none') {{\n",
              "            console.log([gd, 'removed!']);\n",
              "            Plotly.purge(gd);\n",
              "            observer.disconnect();\n",
              "        }}\n",
              "}});\n",
              "\n",
              "// Listen for the removal of the full notebook cells\n",
              "var notebookContainer = gd.closest('#notebook-container');\n",
              "if (notebookContainer) {{\n",
              "    x.observe(notebookContainer, {childList: true});\n",
              "}}\n",
              "\n",
              "// Listen for the clearing of the current output cell\n",
              "var outputEl = gd.closest('.output');\n",
              "if (outputEl) {{\n",
              "    x.observe(outputEl, {childList: true});\n",
              "}}\n",
              "\n",
              "                        })                };                            </script>        </div>\n",
              "</body>\n",
              "</html>"
            ]
          },
          "metadata": {}
        },
        {
          "output_type": "display_data",
          "data": {
            "text/plain": [
              "<IPython.core.display.Markdown object>"
            ],
            "text/markdown": "## Missing Matrix:"
          },
          "metadata": {}
        },
        {
          "output_type": "display_data",
          "data": {
            "text/plain": [
              "<Figure size 1080x720 with 1 Axes>"
            ],
            "image/png": "[encoded data removed]"
          },
          "metadata": {
            "needs_background": "light"
          }
        }
      ]
    },
    {
      "cell_type": "markdown",
      "source": [
        "### 1.2.3 Limpieza de Datos [1 pto]\n",
        "\n",
        "Como pudo ver en las secciones anteriores, los datos presentan valores erroneos, es por esto que se le solicita que realice una función que permita limpiar el dataset. Realice esta función en base observaciones propias y considere como imposible tener cantidades negativas en las ventas.\n",
        "\n",
        "Una vez realizada la función, realice nuevamente el análisis exploratorio y comente las principales diferencias.\n",
        "\n",
        "**Respuesta:**"
      ],
      "metadata": {
        "tags": [],
        "cell_id": "00026-df20962a-a04e-4edd-9d19-3acc252a7f29",
        "deepnote_cell_type": "markdown",
        "deepnote_cell_height": 239.43333435058594,
        "id": "kuotWpkHE-Mi"
      }
    },
    {
      "cell_type": "code",
      "metadata": {
        "tags": [],
        "cell_id": "00027-c103a1ac-7b8e-4ad8-af70-1385769b6c33",
        "deepnote_cell_type": "code",
        "deepnote_cell_height": 65.03334045410156,
        "id": "ngizQhV5E-Mi"
      },
      "source": [
        "def limpiar(dataset):\n",
        "  df = dataset.copy() #copiamos el dataframe\n",
        "  df = df[(df['Price']>0) & (df['Price']<=300)] #eliminamos boletas con productos de precios fuera de (0,300]\n",
        "  df = df[(df['Quantity']>0) & (df['Quantity']<=200)] #dejamos solo cantidades positivas\n",
        "  df = df.dropna(subset = ['Quantity', 'Price']) #eliminamos NaNs\n",
        "  df = df.reset_index(drop=True) #reseteamos indices\n",
        "  return df"
      ],
      "execution_count": 152,
      "outputs": []
    },
    {
      "cell_type": "code",
      "source": [
        "df_limpio = limpiar(df_retail)"
      ],
      "metadata": {
        "id": "eWUiR_GqUBks"
      },
      "execution_count": 153,
      "outputs": []
    },
    {
      "cell_type": "code",
      "source": [
        "df_limpio.info()"
      ],
      "metadata": {
        "colab": {
          "base_uri": "https://localhost:8080/"
        },
        "id": "Bmd6Fq_9TOox",
        "outputId": "48aa2a9c-a7a7-4474-8601-8a94418d6be1"
      },
      "execution_count": 154,
      "outputs": [
        {
          "output_type": "stream",
          "name": "stdout",
          "text": [
            "<class 'pandas.core.frame.DataFrame'>\n",
            "RangeIndex: 509017 entries, 0 to 509016\n",
            "Data columns (total 8 columns):\n",
            " #   Column       Non-Null Count   Dtype         \n",
            "---  ------       --------------   -----         \n",
            " 0   Invoice      509017 non-null  category      \n",
            " 1   StockCode    509017 non-null  category      \n",
            " 2   Description  509017 non-null  object        \n",
            " 3   Quantity     509017 non-null  int64         \n",
            " 4   InvoiceDate  509017 non-null  datetime64[ns]\n",
            " 5   Price        509017 non-null  float64       \n",
            " 6   Customer ID  405333 non-null  category      \n",
            " 7   Country      509017 non-null  object        \n",
            "dtypes: category(3), datetime64[ns](1), float64(1), int64(1), object(2)\n",
            "memory usage: 23.9+ MB\n"
          ]
        }
      ]
    },
    {
      "cell_type": "code",
      "source": [
        "profile_serie(df_limpio[\"Invoice\"])"
      ],
      "metadata": {
        "colab": {
          "base_uri": "https://localhost:8080/",
          "height": 809
        },
        "outputId": "3da8a281-d63a-4064-f1ba-6b64a5d910c6",
        "id": "3UahAlhvSi6m"
      },
      "execution_count": 155,
      "outputs": [
        {
          "output_type": "display_data",
          "data": {
            "text/plain": [
              "<IPython.core.display.Markdown object>"
            ],
            "text/markdown": "## Invoice Profile"
          },
          "metadata": {}
        },
        {
          "output_type": "display_data",
          "data": {
            "text/plain": [
              "Type                           category\n",
              "Number of observations           509017\n",
              "Unique                            20558\n",
              "Top                              537434\n",
              "Freq                                674\n",
              "                                       \n",
              "Missing cells                         0\n",
              "Missing cells (%)                 0.0 %\n",
              "Duplicate rows                   507144\n",
              "Duplicate rows (%)              99.63 %\n",
              "Total size in memory      2305498 bytes\n",
              "dtype: object"
            ]
          },
          "metadata": {}
        },
        {
          "output_type": "display_data",
          "data": {
            "text/html": [
              "<html>\n",
              "<head><meta charset=\"utf-8\" /></head>\n",
              "<body>\n",
              "    <div>            <script src=\"https://cdnjs.cloudflare.com/ajax/libs/mathjax/2.7.5/MathJax.js?config=TeX-AMS-MML_SVG\"></script><script type=\"text/javascript\">if (window.MathJax && window.MathJax.Hub && && window.MathJax.Hub.Config) {window.MathJax.Hub.Config({SVG: {font: \"STIX-Web\"}});}</script>                <script type=\"text/javascript\">window.PlotlyConfig = {MathJaxConfig: 'local'};</script>\n",
              "        <script src=\"https://cdn.plot.ly/plotly-2.12.1.min.js\"></script>                <div id=\"ae07f707-62c3-4008-b823-ab2c17327317\" class=\"plotly-graph-div\" style=\"height:525px; width:100%;\"></div>            <script type=\"text/javascript\">                                    window.PLOTLYENV=window.PLOTLYENV || {};                                    if (document.getElementById(\"ae07f707-62c3-4008-b823-ab2c17327317\")) {                    Plotly.newPlot(                        \"ae07f707-62c3-4008-b823-ab2c17327317\",                        [{\"alignmentgroup\":\"True\",\"hovertemplate\":\"x=%{x}<br>y=%{y}<extra></extra>\",\"legendgroup\":\"\",\"marker\":{\"color\":\"#636efa\",\"pattern\":{\"shape\":\"\"}},\"name\":\"\",\"offsetgroup\":\"\",\"orientation\":\"v\",\"showlegend\":false,\"textposition\":\"auto\",\"x\":[\"537434\",\"538071\",\"537638\",\"537237\",\"536876\",\"536592\",\"537823\",\"536031\",\"490074\",\"491966\",\"537240\",\"490149\",\"491969\",\"490741\",\"537666\",\"536544\",\"489857\",\"513574\",\"490745\",\"489597\",\"535835\",\"491155\",\"492414\",\"532642\",\"491970\",\"492782\",\"491043\",\"533338\",\"492425\",\"491041\",\"535322\",\"534859\",\"533348\",\"503185\",\"534709\",\"530850\",\"491971\",\"535407\",\"531843\",\"532139\",\"490963\",\"534289\",\"533737\",\"534459\",\"534319\",\"489856\",\"534389\",\"498133\",\"492303\",\"532826\",\"532063\",\"532419\",\"494918\",\"531036\",\"532953\",\"533065\",\"533740\",\"531489\",\"494782\",\"495070\",\"492783\",\"531387\",\"529727\",\"513099\",\"494814\",\"492226\",\"495239\",\"494378\",\"530060\",\"494386\",\"493073\",\"530140\",\"494016\",\"493079\",\"510983\",\"500462\",\"527520\",\"504916\",\"510772\",\"530422\",\"510519\",\"494495\",\"502746\",\"493260\",\"503823\",\"530332\",\"500918\",\"499765\",\"503426\",\"494381\",\"500356\",\"494147\",\"494685\",\"510637\",\"501080\",\"494379\",\"525753\",\"501161\",\"504933\",\"521202\"],\"xaxis\":\"x\",\"y\":[674,650,600,596,592,591,590,581,579,578,567,558,547,545,535,526,515,512,506,501,500,499,497,486,485,485,481,479,479,476,471,470,464,463,459,447,447,442,442,441,441,439,429,429,428,425,421,415,412,406,405,404,382,379,375,371,370,369,367,361,357,354,348,347,342,341,339,336,334,330,325,324,319,315,315,307,301,299,296,294,285,283,280,278,276,274,274,271,271,271,270,267,267,267,265,264,263,262,258,256],\"yaxis\":\"y\",\"type\":\"bar\"}],                        {\"template\":{\"data\":{\"histogram2dcontour\":[{\"type\":\"histogram2dcontour\",\"colorbar\":{\"outlinewidth\":0,\"ticks\":\"\"},\"colorscale\":[[0.0,\"#0d0887\"],[0.1111111111111111,\"#46039f\"],[0.2222222222222222,\"#7201a8\"],[0.3333333333333333,\"#9c179e\"],[0.4444444444444444,\"#bd3786\"],[0.5555555555555556,\"#d8576b\"],[0.6666666666666666,\"#ed7953\"],[0.7777777777777778,\"#fb9f3a\"],[0.8888888888888888,\"#fdca26\"],[1.0,\"#f0f921\"]]}],\"choropleth\":[{\"type\":\"choropleth\",\"colorbar\":{\"outlinewidth\":0,\"ticks\":\"\"}}],\"histogram2d\":[{\"type\":\"histogram2d\",\"colorbar\":{\"outlinewidth\":0,\"ticks\":\"\"},\"colorscale\":[[0.0,\"#0d0887\"],[0.1111111111111111,\"#46039f\"],[0.2222222222222222,\"#7201a8\"],[0.3333333333333333,\"#9c179e\"],[0.4444444444444444,\"#bd3786\"],[0.5555555555555556,\"#d8576b\"],[0.6666666666666666,\"#ed7953\"],[0.7777777777777778,\"#fb9f3a\"],[0.8888888888888888,\"#fdca26\"],[1.0,\"#f0f921\"]]}],\"heatmap\":[{\"type\":\"heatmap\",\"colorbar\":{\"outlinewidth\":0,\"ticks\":\"\"},\"colorscale\":[[0.0,\"#0d0887\"],[0.1111111111111111,\"#46039f\"],[0.2222222222222222,\"#7201a8\"],[0.3333333333333333,\"#9c179e\"],[0.4444444444444444,\"#bd3786\"],[0.5555555555555556,\"#d8576b\"],[0.6666666666666666,\"#ed7953\"],[0.7777777777777778,\"#fb9f3a\"],[0.8888888888888888,\"#fdca26\"],[1.0,\"#f0f921\"]]}],\"heatmapgl\":[{\"type\":\"heatmapgl\",\"colorbar\":{\"outlinewidth\":0,\"ticks\":\"\"},\"colorscale\":[[0.0,\"#0d0887\"],[0.1111111111111111,\"#46039f\"],[0.2222222222222222,\"#7201a8\"],[0.3333333333333333,\"#9c179e\"],[0.4444444444444444,\"#bd3786\"],[0.5555555555555556,\"#d8576b\"],[0.6666666666666666,\"#ed7953\"],[0.7777777777777778,\"#fb9f3a\"],[0.8888888888888888,\"#fdca26\"],[1.0,\"#f0f921\"]]}],\"contourcarpet\":[{\"type\":\"contourcarpet\",\"colorbar\":{\"outlinewidth\":0,\"ticks\":\"\"}}],\"contour\":[{\"type\":\"contour\",\"colorbar\":{\"outlinewidth\":0,\"ticks\":\"\"},\"colorscale\":[[0.0,\"#0d0887\"],[0.1111111111111111,\"#46039f\"],[0.2222222222222222,\"#7201a8\"],[0.3333333333333333,\"#9c179e\"],[0.4444444444444444,\"#bd3786\"],[0.5555555555555556,\"#d8576b\"],[0.6666666666666666,\"#ed7953\"],[0.7777777777777778,\"#fb9f3a\"],[0.8888888888888888,\"#fdca26\"],[1.0,\"#f0f921\"]]}],\"surface\":[{\"type\":\"surface\",\"colorbar\":{\"outlinewidth\":0,\"ticks\":\"\"},\"colorscale\":[[0.0,\"#0d0887\"],[0.1111111111111111,\"#46039f\"],[0.2222222222222222,\"#7201a8\"],[0.3333333333333333,\"#9c179e\"],[0.4444444444444444,\"#bd3786\"],[0.5555555555555556,\"#d8576b\"],[0.6666666666666666,\"#ed7953\"],[0.7777777777777778,\"#fb9f3a\"],[0.8888888888888888,\"#fdca26\"],[1.0,\"#f0f921\"]]}],\"mesh3d\":[{\"type\":\"mesh3d\",\"colorbar\":{\"outlinewidth\":0,\"ticks\":\"\"}}],\"scatter\":[{\"fillpattern\":{\"fillmode\":\"overlay\",\"size\":10,\"solidity\":0.2},\"type\":\"scatter\"}],\"parcoords\":[{\"type\":\"parcoords\",\"line\":{\"colorbar\":{\"outlinewidth\":0,\"ticks\":\"\"}}}],\"scatterpolargl\":[{\"type\":\"scatterpolargl\",\"marker\":{\"colorbar\":{\"outlinewidth\":0,\"ticks\":\"\"}}}],\"bar\":[{\"error_x\":{\"color\":\"#2a3f5f\"},\"error_y\":{\"color\":\"#2a3f5f\"},\"marker\":{\"line\":{\"color\":\"#E5ECF6\",\"width\":0.5},\"pattern\":{\"fillmode\":\"overlay\",\"size\":10,\"solidity\":0.2}},\"type\":\"bar\"}],\"scattergeo\":[{\"type\":\"scattergeo\",\"marker\":{\"colorbar\":{\"outlinewidth\":0,\"ticks\":\"\"}}}],\"scatterpolar\":[{\"type\":\"scatterpolar\",\"marker\":{\"colorbar\":{\"outlinewidth\":0,\"ticks\":\"\"}}}],\"histogram\":[{\"marker\":{\"pattern\":{\"fillmode\":\"overlay\",\"size\":10,\"solidity\":0.2}},\"type\":\"histogram\"}],\"scattergl\":[{\"type\":\"scattergl\",\"marker\":{\"colorbar\":{\"outlinewidth\":0,\"ticks\":\"\"}}}],\"scatter3d\":[{\"type\":\"scatter3d\",\"line\":{\"colorbar\":{\"outlinewidth\":0,\"ticks\":\"\"}},\"marker\":{\"colorbar\":{\"outlinewidth\":0,\"ticks\":\"\"}}}],\"scattermapbox\":[{\"type\":\"scattermapbox\",\"marker\":{\"colorbar\":{\"outlinewidth\":0,\"ticks\":\"\"}}}],\"scatterternary\":[{\"type\":\"scatterternary\",\"marker\":{\"colorbar\":{\"outlinewidth\":0,\"ticks\":\"\"}}}],\"scattercarpet\":[{\"type\":\"scattercarpet\",\"marker\":{\"colorbar\":{\"outlinewidth\":0,\"ticks\":\"\"}}}],\"carpet\":[{\"aaxis\":{\"endlinecolor\":\"#2a3f5f\",\"gridcolor\":\"white\",\"linecolor\":\"white\",\"minorgridcolor\":\"white\",\"startlinecolor\":\"#2a3f5f\"},\"baxis\":{\"endlinecolor\":\"#2a3f5f\",\"gridcolor\":\"white\",\"linecolor\":\"white\",\"minorgridcolor\":\"white\",\"startlinecolor\":\"#2a3f5f\"},\"type\":\"carpet\"}],\"table\":[{\"cells\":{\"fill\":{\"color\":\"#EBF0F8\"},\"line\":{\"color\":\"white\"}},\"header\":{\"fill\":{\"color\":\"#C8D4E3\"},\"line\":{\"color\":\"white\"}},\"type\":\"table\"}],\"barpolar\":[{\"marker\":{\"line\":{\"color\":\"#E5ECF6\",\"width\":0.5},\"pattern\":{\"fillmode\":\"overlay\",\"size\":10,\"solidity\":0.2}},\"type\":\"barpolar\"}],\"pie\":[{\"automargin\":true,\"type\":\"pie\"}]},\"layout\":{\"autotypenumbers\":\"strict\",\"colorway\":[\"#636efa\",\"#EF553B\",\"#00cc96\",\"#ab63fa\",\"#FFA15A\",\"#19d3f3\",\"#FF6692\",\"#B6E880\",\"#FF97FF\",\"#FECB52\"],\"font\":{\"color\":\"#2a3f5f\"},\"hovermode\":\"closest\",\"hoverlabel\":{\"align\":\"left\"},\"paper_bgcolor\":\"white\",\"plot_bgcolor\":\"#E5ECF6\",\"polar\":{\"bgcolor\":\"#E5ECF6\",\"angularaxis\":{\"gridcolor\":\"white\",\"linecolor\":\"white\",\"ticks\":\"\"},\"radialaxis\":{\"gridcolor\":\"white\",\"linecolor\":\"white\",\"ticks\":\"\"}},\"ternary\":{\"bgcolor\":\"#E5ECF6\",\"aaxis\":{\"gridcolor\":\"white\",\"linecolor\":\"white\",\"ticks\":\"\"},\"baxis\":{\"gridcolor\":\"white\",\"linecolor\":\"white\",\"ticks\":\"\"},\"caxis\":{\"gridcolor\":\"white\",\"linecolor\":\"white\",\"ticks\":\"\"}},\"coloraxis\":{\"colorbar\":{\"outlinewidth\":0,\"ticks\":\"\"}},\"colorscale\":{\"sequential\":[[0.0,\"#0d0887\"],[0.1111111111111111,\"#46039f\"],[0.2222222222222222,\"#7201a8\"],[0.3333333333333333,\"#9c179e\"],[0.4444444444444444,\"#bd3786\"],[0.5555555555555556,\"#d8576b\"],[0.6666666666666666,\"#ed7953\"],[0.7777777777777778,\"#fb9f3a\"],[0.8888888888888888,\"#fdca26\"],[1.0,\"#f0f921\"]],\"sequentialminus\":[[0.0,\"#0d0887\"],[0.1111111111111111,\"#46039f\"],[0.2222222222222222,\"#7201a8\"],[0.3333333333333333,\"#9c179e\"],[0.4444444444444444,\"#bd3786\"],[0.5555555555555556,\"#d8576b\"],[0.6666666666666666,\"#ed7953\"],[0.7777777777777778,\"#fb9f3a\"],[0.8888888888888888,\"#fdca26\"],[1.0,\"#f0f921\"]],\"diverging\":[[0,\"#8e0152\"],[0.1,\"#c51b7d\"],[0.2,\"#de77ae\"],[0.3,\"#f1b6da\"],[0.4,\"#fde0ef\"],[0.5,\"#f7f7f7\"],[0.6,\"#e6f5d0\"],[0.7,\"#b8e186\"],[0.8,\"#7fbc41\"],[0.9,\"#4d9221\"],[1,\"#276419\"]]},\"xaxis\":{\"gridcolor\":\"white\",\"linecolor\":\"white\",\"ticks\":\"\",\"title\":{\"standoff\":15},\"zerolinecolor\":\"white\",\"automargin\":true,\"zerolinewidth\":2},\"yaxis\":{\"gridcolor\":\"white\",\"linecolor\":\"white\",\"ticks\":\"\",\"title\":{\"standoff\":15},\"zerolinecolor\":\"white\",\"automargin\":true,\"zerolinewidth\":2},\"scene\":{\"xaxis\":{\"backgroundcolor\":\"#E5ECF6\",\"gridcolor\":\"white\",\"linecolor\":\"white\",\"showbackground\":true,\"ticks\":\"\",\"zerolinecolor\":\"white\",\"gridwidth\":2},\"yaxis\":{\"backgroundcolor\":\"#E5ECF6\",\"gridcolor\":\"white\",\"linecolor\":\"white\",\"showbackground\":true,\"ticks\":\"\",\"zerolinecolor\":\"white\",\"gridwidth\":2},\"zaxis\":{\"backgroundcolor\":\"#E5ECF6\",\"gridcolor\":\"white\",\"linecolor\":\"white\",\"showbackground\":true,\"ticks\":\"\",\"zerolinecolor\":\"white\",\"gridwidth\":2}},\"shapedefaults\":{\"line\":{\"color\":\"#2a3f5f\"}},\"annotationdefaults\":{\"arrowcolor\":\"#2a3f5f\",\"arrowhead\":0,\"arrowwidth\":1},\"geo\":{\"bgcolor\":\"white\",\"landcolor\":\"#E5ECF6\",\"subunitcolor\":\"white\",\"showland\":true,\"showlakes\":true,\"lakecolor\":\"white\"},\"title\":{\"x\":0.05},\"mapbox\":{\"style\":\"light\"}}},\"xaxis\":{\"anchor\":\"y\",\"domain\":[0.0,1.0],\"title\":{\"text\":\"x\"}},\"yaxis\":{\"anchor\":\"x\",\"domain\":[0.0,1.0],\"title\":{\"text\":\"y\"}},\"legend\":{\"tracegroupgap\":0},\"title\":{\"text\":\"100 Most common categories of Invoice\"},\"barmode\":\"relative\"},                        {\"responsive\": true}                    ).then(function(){\n",
              "                            \n",
              "var gd = document.getElementById('ae07f707-62c3-4008-b823-ab2c17327317');\n",
              "var x = new MutationObserver(function (mutations, observer) {{\n",
              "        var display = window.getComputedStyle(gd).display;\n",
              "        if (!display || display === 'none') {{\n",
              "            console.log([gd, 'removed!']);\n",
              "            Plotly.purge(gd);\n",
              "            observer.disconnect();\n",
              "        }}\n",
              "}});\n",
              "\n",
              "// Listen for the removal of the full notebook cells\n",
              "var notebookContainer = gd.closest('#notebook-container');\n",
              "if (notebookContainer) {{\n",
              "    x.observe(notebookContainer, {childList: true});\n",
              "}}\n",
              "\n",
              "// Listen for the clearing of the current output cell\n",
              "var outputEl = gd.closest('.output');\n",
              "if (outputEl) {{\n",
              "    x.observe(outputEl, {childList: true});\n",
              "}}\n",
              "\n",
              "                        })                };                            </script>        </div>\n",
              "</body>\n",
              "</html>"
            ]
          },
          "metadata": {}
        }
      ]
    },
    {
      "cell_type": "code",
      "source": [
        "profile_serie(df_limpio['StockCode'])"
      ],
      "metadata": {
        "colab": {
          "base_uri": "https://localhost:8080/",
          "height": 809
        },
        "outputId": "3b18c9ea-1adc-4907-ed11-8072d94afe34",
        "id": "dq_M9d3sSi6n"
      },
      "execution_count": 156,
      "outputs": [
        {
          "output_type": "display_data",
          "data": {
            "text/plain": [
              "<IPython.core.display.Markdown object>"
            ],
            "text/markdown": "## StockCode Profile"
          },
          "metadata": {}
        },
        {
          "output_type": "display_data",
          "data": {
            "text/plain": [
              "Type                           category\n",
              "Number of observations           509017\n",
              "Unique                             4246\n",
              "Top                              85123A\n",
              "Freq                               3394\n",
              "                                       \n",
              "Missing cells                         0\n",
              "Missing cells (%)                 0.0 %\n",
              "Duplicate rows                   508845\n",
              "Duplicate rows (%)              99.97 %\n",
              "Total size in memory      1187354 bytes\n",
              "dtype: object"
            ]
          },
          "metadata": {}
        },
        {
          "output_type": "display_data",
          "data": {
            "text/html": [
              "<html>\n",
              "<head><meta charset=\"utf-8\" /></head>\n",
              "<body>\n",
              "    <div>            <script src=\"https://cdnjs.cloudflare.com/ajax/libs/mathjax/2.7.5/MathJax.js?config=TeX-AMS-MML_SVG\"></script><script type=\"text/javascript\">if (window.MathJax && window.MathJax.Hub && && window.MathJax.Hub.Config) {window.MathJax.Hub.Config({SVG: {font: \"STIX-Web\"}});}</script>                <script type=\"text/javascript\">window.PlotlyConfig = {MathJaxConfig: 'local'};</script>\n",
              "        <script src=\"https://cdn.plot.ly/plotly-2.12.1.min.js\"></script>                <div id=\"de843574-7577-4ad1-baff-f4dc1eb1480e\" class=\"plotly-graph-div\" style=\"height:525px; width:100%;\"></div>            <script type=\"text/javascript\">                                    window.PLOTLYENV=window.PLOTLYENV || {};                                    if (document.getElementById(\"de843574-7577-4ad1-baff-f4dc1eb1480e\")) {                    Plotly.newPlot(                        \"de843574-7577-4ad1-baff-f4dc1eb1480e\",                        [{\"alignmentgroup\":\"True\",\"hovertemplate\":\"x=%{x}<br>y=%{y}<extra></extra>\",\"legendgroup\":\"\",\"marker\":{\"color\":\"#636efa\",\"pattern\":{\"shape\":\"\"}},\"name\":\"\",\"offsetgroup\":\"\",\"orientation\":\"v\",\"showlegend\":false,\"textposition\":\"auto\",\"x\":[\"85123A\",\"22423\",\"85099B\",\"21212\",\"21232\",\"20725\",\"84879\",\"21754\",\"84991\",\"21034\",\"20914\",\"21931\",\"21080\",\"22383\",\"21977\",\"22139\",\"20727\",\"82494L\",\"22470\",\"21755\",\"21733\",\"22411\",\"22386\",\"48138\",\"22384\",\"20685\",\"22469\",\"21231\",\"22382\",\"85099F\",\"20724\",\"22114\",\"22111\",\"47566\",\"21790\",\"21843\",\"21181\",\"22138\",\"22197\",\"22086\",\"85099C\",\"82482\",\"20726\",\"20728\",\"22112\",\"22090\",\"84946\",\"84836\",\"84970S\",\"22149\",\"21175\",\"84992\",\"22355\",\"22356\",\"22379\",\"22077\",\"22457\",\"21213\",\"21621\",\"21485\",\"22178\",\"22083\",\"85152\",\"20972\",\"84029E\",\"21535\",\"22189\",\"48194\",\"21929\",\"22585\",\"20719\",\"21928\",\"21429\",\"21791\",\"POST\",\"82580\",\"22147\",\"21166\",\"47591D\",\"82486\",\"21210\",\"21731\",\"84978\",\"21527\",\"21975\",\"48187\",\"22910\",\"22326\",\"21524\",\"21559\",\"22865\",\"20713\",\"20723\",\"22551\",\"82600\",\"22556\",\"84997B\",\"84520B\",\"22352\",\"85150\"],\"xaxis\":\"x\",\"y\":[3394,2040,1991,1872,1707,1583,1432,1376,1359,1225,1218,1201,1196,1181,1161,1158,1152,1142,1138,1129,1104,1082,1080,1079,1074,1070,1064,1052,1051,1051,1046,1042,1040,1033,1031,1027,1025,991,991,989,978,972,964,963,953,933,931,924,918,911,896,892,888,864,862,859,855,847,842,841,836,834,828,826,820,806,795,784,783,783,772,769,762,762,756,745,744,738,735,733,731,727,727,723,722,705,701,699,698,693,693,693,690,690,689,686,685,672,671,670],\"yaxis\":\"y\",\"type\":\"bar\"}],                        {\"template\":{\"data\":{\"histogram2dcontour\":[{\"type\":\"histogram2dcontour\",\"colorbar\":{\"outlinewidth\":0,\"ticks\":\"\"},\"colorscale\":[[0.0,\"#0d0887\"],[0.1111111111111111,\"#46039f\"],[0.2222222222222222,\"#7201a8\"],[0.3333333333333333,\"#9c179e\"],[0.4444444444444444,\"#bd3786\"],[0.5555555555555556,\"#d8576b\"],[0.6666666666666666,\"#ed7953\"],[0.7777777777777778,\"#fb9f3a\"],[0.8888888888888888,\"#fdca26\"],[1.0,\"#f0f921\"]]}],\"choropleth\":[{\"type\":\"choropleth\",\"colorbar\":{\"outlinewidth\":0,\"ticks\":\"\"}}],\"histogram2d\":[{\"type\":\"histogram2d\",\"colorbar\":{\"outlinewidth\":0,\"ticks\":\"\"},\"colorscale\":[[0.0,\"#0d0887\"],[0.1111111111111111,\"#46039f\"],[0.2222222222222222,\"#7201a8\"],[0.3333333333333333,\"#9c179e\"],[0.4444444444444444,\"#bd3786\"],[0.5555555555555556,\"#d8576b\"],[0.6666666666666666,\"#ed7953\"],[0.7777777777777778,\"#fb9f3a\"],[0.8888888888888888,\"#fdca26\"],[1.0,\"#f0f921\"]]}],\"heatmap\":[{\"type\":\"heatmap\",\"colorbar\":{\"outlinewidth\":0,\"ticks\":\"\"},\"colorscale\":[[0.0,\"#0d0887\"],[0.1111111111111111,\"#46039f\"],[0.2222222222222222,\"#7201a8\"],[0.3333333333333333,\"#9c179e\"],[0.4444444444444444,\"#bd3786\"],[0.5555555555555556,\"#d8576b\"],[0.6666666666666666,\"#ed7953\"],[0.7777777777777778,\"#fb9f3a\"],[0.8888888888888888,\"#fdca26\"],[1.0,\"#f0f921\"]]}],\"heatmapgl\":[{\"type\":\"heatmapgl\",\"colorbar\":{\"outlinewidth\":0,\"ticks\":\"\"},\"colorscale\":[[0.0,\"#0d0887\"],[0.1111111111111111,\"#46039f\"],[0.2222222222222222,\"#7201a8\"],[0.3333333333333333,\"#9c179e\"],[0.4444444444444444,\"#bd3786\"],[0.5555555555555556,\"#d8576b\"],[0.6666666666666666,\"#ed7953\"],[0.7777777777777778,\"#fb9f3a\"],[0.8888888888888888,\"#fdca26\"],[1.0,\"#f0f921\"]]}],\"contourcarpet\":[{\"type\":\"contourcarpet\",\"colorbar\":{\"outlinewidth\":0,\"ticks\":\"\"}}],\"contour\":[{\"type\":\"contour\",\"colorbar\":{\"outlinewidth\":0,\"ticks\":\"\"},\"colorscale\":[[0.0,\"#0d0887\"],[0.1111111111111111,\"#46039f\"],[0.2222222222222222,\"#7201a8\"],[0.3333333333333333,\"#9c179e\"],[0.4444444444444444,\"#bd3786\"],[0.5555555555555556,\"#d8576b\"],[0.6666666666666666,\"#ed7953\"],[0.7777777777777778,\"#fb9f3a\"],[0.8888888888888888,\"#fdca26\"],[1.0,\"#f0f921\"]]}],\"surface\":[{\"type\":\"surface\",\"colorbar\":{\"outlinewidth\":0,\"ticks\":\"\"},\"colorscale\":[[0.0,\"#0d0887\"],[0.1111111111111111,\"#46039f\"],[0.2222222222222222,\"#7201a8\"],[0.3333333333333333,\"#9c179e\"],[0.4444444444444444,\"#bd3786\"],[0.5555555555555556,\"#d8576b\"],[0.6666666666666666,\"#ed7953\"],[0.7777777777777778,\"#fb9f3a\"],[0.8888888888888888,\"#fdca26\"],[1.0,\"#f0f921\"]]}],\"mesh3d\":[{\"type\":\"mesh3d\",\"colorbar\":{\"outlinewidth\":0,\"ticks\":\"\"}}],\"scatter\":[{\"fillpattern\":{\"fillmode\":\"overlay\",\"size\":10,\"solidity\":0.2},\"type\":\"scatter\"}],\"parcoords\":[{\"type\":\"parcoords\",\"line\":{\"colorbar\":{\"outlinewidth\":0,\"ticks\":\"\"}}}],\"scatterpolargl\":[{\"type\":\"scatterpolargl\",\"marker\":{\"colorbar\":{\"outlinewidth\":0,\"ticks\":\"\"}}}],\"bar\":[{\"error_x\":{\"color\":\"#2a3f5f\"},\"error_y\":{\"color\":\"#2a3f5f\"},\"marker\":{\"line\":{\"color\":\"#E5ECF6\",\"width\":0.5},\"pattern\":{\"fillmode\":\"overlay\",\"size\":10,\"solidity\":0.2}},\"type\":\"bar\"}],\"scattergeo\":[{\"type\":\"scattergeo\",\"marker\":{\"colorbar\":{\"outlinewidth\":0,\"ticks\":\"\"}}}],\"scatterpolar\":[{\"type\":\"scatterpolar\",\"marker\":{\"colorbar\":{\"outlinewidth\":0,\"ticks\":\"\"}}}],\"histogram\":[{\"marker\":{\"pattern\":{\"fillmode\":\"overlay\",\"size\":10,\"solidity\":0.2}},\"type\":\"histogram\"}],\"scattergl\":[{\"type\":\"scattergl\",\"marker\":{\"colorbar\":{\"outlinewidth\":0,\"ticks\":\"\"}}}],\"scatter3d\":[{\"type\":\"scatter3d\",\"line\":{\"colorbar\":{\"outlinewidth\":0,\"ticks\":\"\"}},\"marker\":{\"colorbar\":{\"outlinewidth\":0,\"ticks\":\"\"}}}],\"scattermapbox\":[{\"type\":\"scattermapbox\",\"marker\":{\"colorbar\":{\"outlinewidth\":0,\"ticks\":\"\"}}}],\"scatterternary\":[{\"type\":\"scatterternary\",\"marker\":{\"colorbar\":{\"outlinewidth\":0,\"ticks\":\"\"}}}],\"scattercarpet\":[{\"type\":\"scattercarpet\",\"marker\":{\"colorbar\":{\"outlinewidth\":0,\"ticks\":\"\"}}}],\"carpet\":[{\"aaxis\":{\"endlinecolor\":\"#2a3f5f\",\"gridcolor\":\"white\",\"linecolor\":\"white\",\"minorgridcolor\":\"white\",\"startlinecolor\":\"#2a3f5f\"},\"baxis\":{\"endlinecolor\":\"#2a3f5f\",\"gridcolor\":\"white\",\"linecolor\":\"white\",\"minorgridcolor\":\"white\",\"startlinecolor\":\"#2a3f5f\"},\"type\":\"carpet\"}],\"table\":[{\"cells\":{\"fill\":{\"color\":\"#EBF0F8\"},\"line\":{\"color\":\"white\"}},\"header\":{\"fill\":{\"color\":\"#C8D4E3\"},\"line\":{\"color\":\"white\"}},\"type\":\"table\"}],\"barpolar\":[{\"marker\":{\"line\":{\"color\":\"#E5ECF6\",\"width\":0.5},\"pattern\":{\"fillmode\":\"overlay\",\"size\":10,\"solidity\":0.2}},\"type\":\"barpolar\"}],\"pie\":[{\"automargin\":true,\"type\":\"pie\"}]},\"layout\":{\"autotypenumbers\":\"strict\",\"colorway\":[\"#636efa\",\"#EF553B\",\"#00cc96\",\"#ab63fa\",\"#FFA15A\",\"#19d3f3\",\"#FF6692\",\"#B6E880\",\"#FF97FF\",\"#FECB52\"],\"font\":{\"color\":\"#2a3f5f\"},\"hovermode\":\"closest\",\"hoverlabel\":{\"align\":\"left\"},\"paper_bgcolor\":\"white\",\"plot_bgcolor\":\"#E5ECF6\",\"polar\":{\"bgcolor\":\"#E5ECF6\",\"angularaxis\":{\"gridcolor\":\"white\",\"linecolor\":\"white\",\"ticks\":\"\"},\"radialaxis\":{\"gridcolor\":\"white\",\"linecolor\":\"white\",\"ticks\":\"\"}},\"ternary\":{\"bgcolor\":\"#E5ECF6\",\"aaxis\":{\"gridcolor\":\"white\",\"linecolor\":\"white\",\"ticks\":\"\"},\"baxis\":{\"gridcolor\":\"white\",\"linecolor\":\"white\",\"ticks\":\"\"},\"caxis\":{\"gridcolor\":\"white\",\"linecolor\":\"white\",\"ticks\":\"\"}},\"coloraxis\":{\"colorbar\":{\"outlinewidth\":0,\"ticks\":\"\"}},\"colorscale\":{\"sequential\":[[0.0,\"#0d0887\"],[0.1111111111111111,\"#46039f\"],[0.2222222222222222,\"#7201a8\"],[0.3333333333333333,\"#9c179e\"],[0.4444444444444444,\"#bd3786\"],[0.5555555555555556,\"#d8576b\"],[0.6666666666666666,\"#ed7953\"],[0.7777777777777778,\"#fb9f3a\"],[0.8888888888888888,\"#fdca26\"],[1.0,\"#f0f921\"]],\"sequentialminus\":[[0.0,\"#0d0887\"],[0.1111111111111111,\"#46039f\"],[0.2222222222222222,\"#7201a8\"],[0.3333333333333333,\"#9c179e\"],[0.4444444444444444,\"#bd3786\"],[0.5555555555555556,\"#d8576b\"],[0.6666666666666666,\"#ed7953\"],[0.7777777777777778,\"#fb9f3a\"],[0.8888888888888888,\"#fdca26\"],[1.0,\"#f0f921\"]],\"diverging\":[[0,\"#8e0152\"],[0.1,\"#c51b7d\"],[0.2,\"#de77ae\"],[0.3,\"#f1b6da\"],[0.4,\"#fde0ef\"],[0.5,\"#f7f7f7\"],[0.6,\"#e6f5d0\"],[0.7,\"#b8e186\"],[0.8,\"#7fbc41\"],[0.9,\"#4d9221\"],[1,\"#276419\"]]},\"xaxis\":{\"gridcolor\":\"white\",\"linecolor\":\"white\",\"ticks\":\"\",\"title\":{\"standoff\":15},\"zerolinecolor\":\"white\",\"automargin\":true,\"zerolinewidth\":2},\"yaxis\":{\"gridcolor\":\"white\",\"linecolor\":\"white\",\"ticks\":\"\",\"title\":{\"standoff\":15},\"zerolinecolor\":\"white\",\"automargin\":true,\"zerolinewidth\":2},\"scene\":{\"xaxis\":{\"backgroundcolor\":\"#E5ECF6\",\"gridcolor\":\"white\",\"linecolor\":\"white\",\"showbackground\":true,\"ticks\":\"\",\"zerolinecolor\":\"white\",\"gridwidth\":2},\"yaxis\":{\"backgroundcolor\":\"#E5ECF6\",\"gridcolor\":\"white\",\"linecolor\":\"white\",\"showbackground\":true,\"ticks\":\"\",\"zerolinecolor\":\"white\",\"gridwidth\":2},\"zaxis\":{\"backgroundcolor\":\"#E5ECF6\",\"gridcolor\":\"white\",\"linecolor\":\"white\",\"showbackground\":true,\"ticks\":\"\",\"zerolinecolor\":\"white\",\"gridwidth\":2}},\"shapedefaults\":{\"line\":{\"color\":\"#2a3f5f\"}},\"annotationdefaults\":{\"arrowcolor\":\"#2a3f5f\",\"arrowhead\":0,\"arrowwidth\":1},\"geo\":{\"bgcolor\":\"white\",\"landcolor\":\"#E5ECF6\",\"subunitcolor\":\"white\",\"showland\":true,\"showlakes\":true,\"lakecolor\":\"white\"},\"title\":{\"x\":0.05},\"mapbox\":{\"style\":\"light\"}}},\"xaxis\":{\"anchor\":\"y\",\"domain\":[0.0,1.0],\"title\":{\"text\":\"x\"}},\"yaxis\":{\"anchor\":\"x\",\"domain\":[0.0,1.0],\"title\":{\"text\":\"y\"}},\"legend\":{\"tracegroupgap\":0},\"title\":{\"text\":\"100 Most common categories of StockCode\"},\"barmode\":\"relative\"},                        {\"responsive\": true}                    ).then(function(){\n",
              "                            \n",
              "var gd = document.getElementById('de843574-7577-4ad1-baff-f4dc1eb1480e');\n",
              "var x = new MutationObserver(function (mutations, observer) {{\n",
              "        var display = window.getComputedStyle(gd).display;\n",
              "        if (!display || display === 'none') {{\n",
              "            console.log([gd, 'removed!']);\n",
              "            Plotly.purge(gd);\n",
              "            observer.disconnect();\n",
              "        }}\n",
              "}});\n",
              "\n",
              "// Listen for the removal of the full notebook cells\n",
              "var notebookContainer = gd.closest('#notebook-container');\n",
              "if (notebookContainer) {{\n",
              "    x.observe(notebookContainer, {childList: true});\n",
              "}}\n",
              "\n",
              "// Listen for the clearing of the current output cell\n",
              "var outputEl = gd.closest('.output');\n",
              "if (outputEl) {{\n",
              "    x.observe(outputEl, {childList: true});\n",
              "}}\n",
              "\n",
              "                        })                };                            </script>        </div>\n",
              "</body>\n",
              "</html>"
            ]
          },
          "metadata": {}
        }
      ]
    },
    {
      "cell_type": "code",
      "source": [
        "profile_serie(df_limpio['Description'])"
      ],
      "metadata": {
        "colab": {
          "base_uri": "https://localhost:8080/",
          "height": 809
        },
        "outputId": "6ffb469c-c55c-4fe6-9185-ad9cf7a51903",
        "id": "WR6t9nhqSi6n"
      },
      "execution_count": 157,
      "outputs": [
        {
          "output_type": "display_data",
          "data": {
            "text/plain": [
              "<IPython.core.display.Markdown object>"
            ],
            "text/markdown": "## Description Profile"
          },
          "metadata": {}
        },
        {
          "output_type": "display_data",
          "data": {
            "text/plain": [
              "Type                                                  object\n",
              "Number of observations                                509017\n",
              "Unique                                                  4528\n",
              "Top                       WHITE HANGING HEART T-LIGHT HOLDER\n",
              "Freq                                                    3428\n",
              "                                                            \n",
              "Missing cells                                              0\n",
              "Missing cells (%)                                      0.0 %\n",
              "Duplicate rows                                        508839\n",
              "Duplicate rows (%)                                   99.97 %\n",
              "Total size in memory                           4072264 bytes\n",
              "dtype: object"
            ]
          },
          "metadata": {}
        },
        {
          "output_type": "display_data",
          "data": {
            "text/html": [
              "<html>\n",
              "<head><meta charset=\"utf-8\" /></head>\n",
              "<body>\n",
              "    <div>            <script src=\"https://cdnjs.cloudflare.com/ajax/libs/mathjax/2.7.5/MathJax.js?config=TeX-AMS-MML_SVG\"></script><script type=\"text/javascript\">if (window.MathJax && window.MathJax.Hub && && window.MathJax.Hub.Config) {window.MathJax.Hub.Config({SVG: {font: \"STIX-Web\"}});}</script>                <script type=\"text/javascript\">window.PlotlyConfig = {MathJaxConfig: 'local'};</script>\n",
              "        <script src=\"https://cdn.plot.ly/plotly-2.12.1.min.js\"></script>                <div id=\"2b20e5b3-5625-400a-965a-613ad11d2140\" class=\"plotly-graph-div\" style=\"height:525px; width:100%;\"></div>            <script type=\"text/javascript\">                                    window.PLOTLYENV=window.PLOTLYENV || {};                                    if (document.getElementById(\"2b20e5b3-5625-400a-965a-613ad11d2140\")) {                    Plotly.newPlot(                        \"2b20e5b3-5625-400a-965a-613ad11d2140\",                        [{\"alignmentgroup\":\"True\",\"hovertemplate\":\"x=%{x}<br>y=%{y}<extra></extra>\",\"legendgroup\":\"\",\"marker\":{\"color\":\"#636efa\",\"pattern\":{\"shape\":\"\"}},\"name\":\"\",\"offsetgroup\":\"\",\"orientation\":\"v\",\"showlegend\":false,\"textposition\":\"auto\",\"x\":[\"WHITE HANGING HEART T-LIGHT HOLDER\",\"REGENCY CAKESTAND 3 TIER\",\"STRAWBERRY CERAMIC TRINKET BOX\",\"ASSORTED COLOUR BIRD ORNAMENT\",\"PACK OF 72 RETRO SPOT CAKE CASES\",\"HOME BUILDING BLOCK WORD\",\"60 TEATIME FAIRY CAKE CASES\",\"JUMBO BAG RED RETROSPOT\",\"LUNCH BAG RED SPOTTY\",\"REX CASH+CARRY JUMBO SHOPPER\",\"JUMBO STORAGE BAG SUKI\",\"WOODEN FRAME ANTIQUE WHITE \",\"PACK OF 60 PINK PAISLEY CAKE CASES\",\"LUNCH BAG  BLACK SKULL.\",\"LUNCH BAG SUKI  DESIGN \",\"HEART OF WICKER LARGE\",\"LOVE BUILDING BLOCK WORD\",\"RED HANGING HEART T-LIGHT HOLDER\",\"JUMBO SHOPPER VINTAGE RED PAISLEY\",\"JUMBO BAG STRAWBERRY\",\"HEART OF WICKER SMALL\",\"SWEETHEART CERAMIC TRINKET BOX\",\"HOT WATER BOTTLE TEA AND SYMPATHY\",\"SCOTTIE DOG HOT WATER BOTTLE\",\"PARTY BUNTING\",\"VINTAGE SNAP CARDS\",\"LUNCH BAG SPACEBOY DESIGN \",\"BAKING SET 9 PIECE RETROSPOT \",\"PAPER CHAIN KIT 50'S CHRISTMAS \",\"JUMBO  BAG BAROQUE BLACK WHITE\",\"WOODEN PICTURE FRAME WHITE FINISH\",\"LUNCH BAG WOODLAND\",\"LUNCH BAG CARS BLUE\",\"SET/20 RED SPOTTY PAPER NAPKINS \",\"HANGING HEART ZINC T-LIGHT HOLDER\",\"CHOCOLATE HOT WATER BOTTLE\",\"ANTIQUE SILVER TEA GLASS ETCHED\",\"ZINC METAL HEART DECORATION\",\"FELTCRAFT 6 FLOWER FRIENDS\",\"SET/5 RED SPOTTY LID GLASS BOWLS\",\"GIN + TONIC DIET METAL SIGN\",\"72 SWEETHEART FAIRY CAKE CASES\",\"SMALL POPCORN HOLDER\",\"RECYCLING BAG RETROSPOT \",\"6 RIBBONS RUSTIC CHARM\",\"NATURAL SLATE HEART CHALKBOARD \",\"PACK OF 72 SKULL CAKE CASES\",\"PLEASE ONE PERSON METAL SIGN\",\"VINTAGE UNION JACK BUNTING\",\"LUNCH BAG PINK RETROSPOT\",\"VICTORIAN GLASS HANGING T-LIGHT\",\"HAND OVER THE CHOCOLATE   SIGN \",\"PINK CREAM FELT CRAFT TRINKET BOX \",\"JUMBO BAG PINK WITH WHITE SPOTS\",\"RED WOOLLY HOTTIE WHITE HEART.\",\"PAPER BUNTING RETRO SPOTS\",\"CREAM HEART CARD HOLDER\",\"RED SPOTTY CHARLOTTE BAG\",\"RETRO SPOT TEA SET CERAMIC 11 PC \",\"JUMBO BAG PINK VINTAGE PAISLEY\",\"PACK OF 6 BIRDY GIFT TAGS\",\"WOODLAND CHARLOTTE BAG\",\"JUMBO BAG SCANDINAVIAN PAISLEY\",\"VINTAGE HEADS AND TAILS CARD GAME \",\"RED GINGHAM ROSE JEWELLERY BOX\",\"POSTAGE\",\"BATHROOM METAL SIGN\",\"FELTCRAFT BUTTERFLY HEARTS\",\"COOK WITH WINE METAL SIGN \",\"WOOD S/3 CABINET ANT WHITE FINISH\",\"HANGING HEART JAR T-LIGHT HOLDER\",\"RED TOADSTOOL LED NIGHT LIGHT\",\"PACK OF 60 DINOSAUR CAKE CASES\",\"PAPER CHAIN KIT VINTAGE CHRISTMAS\",\"ROUND SNACK BOXES SET OF4 WOODLAND \",\"HAND WARMER OWL DESIGN\",\"JUMBO BAG OWLS\",\"STRAWBERRY CHARLOTTE BAG\",\"PLASTERS IN TIN SPACEBOY\",\"NO SINGING METAL SIGN\",\"PLASTERS IN TIN CIRCUS PARADE \",\"RED RETROSPOT CAKE STAND\",\"PACK 20 ENGLISH ROSE PAPER NAPKINS\",\"DOOR MAT UNION FLAG\",\"SINGLE HEART ZINC T-LIGHT HOLDER\",\"LADIES & GENTLEMEN METAL SIGN\",\"HAND WARMER SCOTTY DOG DESIGN\",\"PINK BLUE FELT CRAFT TRINKET BOX\",\"COLOUR GLASS T-LIGHT HOLDER HANGING\",\"JUMBO STORAGE BAG SKULLS\",\"GRAND CHOCOLATECANDLE\",\"KNITTED UNION FLAG HOT WATER BOTTLE\",\"HAND WARMER BIRD DESIGN\",\"LOVEBIRD HANGING DECORATION WHITE \",\"HEART IVORY TRELLIS SMALL\",\"WOOD 2 DRAWER CABINET WHITE FINISH\",\"DOTCOM POSTAGE\",\"PLASTERS IN TIN WOODLAND ANIMALS\",\"EDWARDIAN PARASOL NATURAL\",\"POTTERING IN THE SHED METAL SIGN\"],\"xaxis\":\"x\",\"y\":[3428,2040,1707,1432,1418,1376,1359,1269,1246,1225,1201,1169,1161,1152,1146,1138,1129,1104,1082,1068,1064,1052,1042,1040,1033,1031,1006,991,989,988,972,964,963,955,955,953,931,924,911,905,896,892,883,862,859,855,847,846,842,839,836,828,826,820,820,797,795,789,784,783,783,772,769,762,762,756,745,744,738,733,727,727,722,701,696,693,693,690,690,689,686,685,682,679,670,670,669,664,661,652,650,644,643,641,635,632,632,631,629,629],\"yaxis\":\"y\",\"type\":\"bar\"}],                        {\"template\":{\"data\":{\"histogram2dcontour\":[{\"type\":\"histogram2dcontour\",\"colorbar\":{\"outlinewidth\":0,\"ticks\":\"\"},\"colorscale\":[[0.0,\"#0d0887\"],[0.1111111111111111,\"#46039f\"],[0.2222222222222222,\"#7201a8\"],[0.3333333333333333,\"#9c179e\"],[0.4444444444444444,\"#bd3786\"],[0.5555555555555556,\"#d8576b\"],[0.6666666666666666,\"#ed7953\"],[0.7777777777777778,\"#fb9f3a\"],[0.8888888888888888,\"#fdca26\"],[1.0,\"#f0f921\"]]}],\"choropleth\":[{\"type\":\"choropleth\",\"colorbar\":{\"outlinewidth\":0,\"ticks\":\"\"}}],\"histogram2d\":[{\"type\":\"histogram2d\",\"colorbar\":{\"outlinewidth\":0,\"ticks\":\"\"},\"colorscale\":[[0.0,\"#0d0887\"],[0.1111111111111111,\"#46039f\"],[0.2222222222222222,\"#7201a8\"],[0.3333333333333333,\"#9c179e\"],[0.4444444444444444,\"#bd3786\"],[0.5555555555555556,\"#d8576b\"],[0.6666666666666666,\"#ed7953\"],[0.7777777777777778,\"#fb9f3a\"],[0.8888888888888888,\"#fdca26\"],[1.0,\"#f0f921\"]]}],\"heatmap\":[{\"type\":\"heatmap\",\"colorbar\":{\"outlinewidth\":0,\"ticks\":\"\"},\"colorscale\":[[0.0,\"#0d0887\"],[0.1111111111111111,\"#46039f\"],[0.2222222222222222,\"#7201a8\"],[0.3333333333333333,\"#9c179e\"],[0.4444444444444444,\"#bd3786\"],[0.5555555555555556,\"#d8576b\"],[0.6666666666666666,\"#ed7953\"],[0.7777777777777778,\"#fb9f3a\"],[0.8888888888888888,\"#fdca26\"],[1.0,\"#f0f921\"]]}],\"heatmapgl\":[{\"type\":\"heatmapgl\",\"colorbar\":{\"outlinewidth\":0,\"ticks\":\"\"},\"colorscale\":[[0.0,\"#0d0887\"],[0.1111111111111111,\"#46039f\"],[0.2222222222222222,\"#7201a8\"],[0.3333333333333333,\"#9c179e\"],[0.4444444444444444,\"#bd3786\"],[0.5555555555555556,\"#d8576b\"],[0.6666666666666666,\"#ed7953\"],[0.7777777777777778,\"#fb9f3a\"],[0.8888888888888888,\"#fdca26\"],[1.0,\"#f0f921\"]]}],\"contourcarpet\":[{\"type\":\"contourcarpet\",\"colorbar\":{\"outlinewidth\":0,\"ticks\":\"\"}}],\"contour\":[{\"type\":\"contour\",\"colorbar\":{\"outlinewidth\":0,\"ticks\":\"\"},\"colorscale\":[[0.0,\"#0d0887\"],[0.1111111111111111,\"#46039f\"],[0.2222222222222222,\"#7201a8\"],[0.3333333333333333,\"#9c179e\"],[0.4444444444444444,\"#bd3786\"],[0.5555555555555556,\"#d8576b\"],[0.6666666666666666,\"#ed7953\"],[0.7777777777777778,\"#fb9f3a\"],[0.8888888888888888,\"#fdca26\"],[1.0,\"#f0f921\"]]}],\"surface\":[{\"type\":\"surface\",\"colorbar\":{\"outlinewidth\":0,\"ticks\":\"\"},\"colorscale\":[[0.0,\"#0d0887\"],[0.1111111111111111,\"#46039f\"],[0.2222222222222222,\"#7201a8\"],[0.3333333333333333,\"#9c179e\"],[0.4444444444444444,\"#bd3786\"],[0.5555555555555556,\"#d8576b\"],[0.6666666666666666,\"#ed7953\"],[0.7777777777777778,\"#fb9f3a\"],[0.8888888888888888,\"#fdca26\"],[1.0,\"#f0f921\"]]}],\"mesh3d\":[{\"type\":\"mesh3d\",\"colorbar\":{\"outlinewidth\":0,\"ticks\":\"\"}}],\"scatter\":[{\"fillpattern\":{\"fillmode\":\"overlay\",\"size\":10,\"solidity\":0.2},\"type\":\"scatter\"}],\"parcoords\":[{\"type\":\"parcoords\",\"line\":{\"colorbar\":{\"outlinewidth\":0,\"ticks\":\"\"}}}],\"scatterpolargl\":[{\"type\":\"scatterpolargl\",\"marker\":{\"colorbar\":{\"outlinewidth\":0,\"ticks\":\"\"}}}],\"bar\":[{\"error_x\":{\"color\":\"#2a3f5f\"},\"error_y\":{\"color\":\"#2a3f5f\"},\"marker\":{\"line\":{\"color\":\"#E5ECF6\",\"width\":0.5},\"pattern\":{\"fillmode\":\"overlay\",\"size\":10,\"solidity\":0.2}},\"type\":\"bar\"}],\"scattergeo\":[{\"type\":\"scattergeo\",\"marker\":{\"colorbar\":{\"outlinewidth\":0,\"ticks\":\"\"}}}],\"scatterpolar\":[{\"type\":\"scatterpolar\",\"marker\":{\"colorbar\":{\"outlinewidth\":0,\"ticks\":\"\"}}}],\"histogram\":[{\"marker\":{\"pattern\":{\"fillmode\":\"overlay\",\"size\":10,\"solidity\":0.2}},\"type\":\"histogram\"}],\"scattergl\":[{\"type\":\"scattergl\",\"marker\":{\"colorbar\":{\"outlinewidth\":0,\"ticks\":\"\"}}}],\"scatter3d\":[{\"type\":\"scatter3d\",\"line\":{\"colorbar\":{\"outlinewidth\":0,\"ticks\":\"\"}},\"marker\":{\"colorbar\":{\"outlinewidth\":0,\"ticks\":\"\"}}}],\"scattermapbox\":[{\"type\":\"scattermapbox\",\"marker\":{\"colorbar\":{\"outlinewidth\":0,\"ticks\":\"\"}}}],\"scatterternary\":[{\"type\":\"scatterternary\",\"marker\":{\"colorbar\":{\"outlinewidth\":0,\"ticks\":\"\"}}}],\"scattercarpet\":[{\"type\":\"scattercarpet\",\"marker\":{\"colorbar\":{\"outlinewidth\":0,\"ticks\":\"\"}}}],\"carpet\":[{\"aaxis\":{\"endlinecolor\":\"#2a3f5f\",\"gridcolor\":\"white\",\"linecolor\":\"white\",\"minorgridcolor\":\"white\",\"startlinecolor\":\"#2a3f5f\"},\"baxis\":{\"endlinecolor\":\"#2a3f5f\",\"gridcolor\":\"white\",\"linecolor\":\"white\",\"minorgridcolor\":\"white\",\"startlinecolor\":\"#2a3f5f\"},\"type\":\"carpet\"}],\"table\":[{\"cells\":{\"fill\":{\"color\":\"#EBF0F8\"},\"line\":{\"color\":\"white\"}},\"header\":{\"fill\":{\"color\":\"#C8D4E3\"},\"line\":{\"color\":\"white\"}},\"type\":\"table\"}],\"barpolar\":[{\"marker\":{\"line\":{\"color\":\"#E5ECF6\",\"width\":0.5},\"pattern\":{\"fillmode\":\"overlay\",\"size\":10,\"solidity\":0.2}},\"type\":\"barpolar\"}],\"pie\":[{\"automargin\":true,\"type\":\"pie\"}]},\"layout\":{\"autotypenumbers\":\"strict\",\"colorway\":[\"#636efa\",\"#EF553B\",\"#00cc96\",\"#ab63fa\",\"#FFA15A\",\"#19d3f3\",\"#FF6692\",\"#B6E880\",\"#FF97FF\",\"#FECB52\"],\"font\":{\"color\":\"#2a3f5f\"},\"hovermode\":\"closest\",\"hoverlabel\":{\"align\":\"left\"},\"paper_bgcolor\":\"white\",\"plot_bgcolor\":\"#E5ECF6\",\"polar\":{\"bgcolor\":\"#E5ECF6\",\"angularaxis\":{\"gridcolor\":\"white\",\"linecolor\":\"white\",\"ticks\":\"\"},\"radialaxis\":{\"gridcolor\":\"white\",\"linecolor\":\"white\",\"ticks\":\"\"}},\"ternary\":{\"bgcolor\":\"#E5ECF6\",\"aaxis\":{\"gridcolor\":\"white\",\"linecolor\":\"white\",\"ticks\":\"\"},\"baxis\":{\"gridcolor\":\"white\",\"linecolor\":\"white\",\"ticks\":\"\"},\"caxis\":{\"gridcolor\":\"white\",\"linecolor\":\"white\",\"ticks\":\"\"}},\"coloraxis\":{\"colorbar\":{\"outlinewidth\":0,\"ticks\":\"\"}},\"colorscale\":{\"sequential\":[[0.0,\"#0d0887\"],[0.1111111111111111,\"#46039f\"],[0.2222222222222222,\"#7201a8\"],[0.3333333333333333,\"#9c179e\"],[0.4444444444444444,\"#bd3786\"],[0.5555555555555556,\"#d8576b\"],[0.6666666666666666,\"#ed7953\"],[0.7777777777777778,\"#fb9f3a\"],[0.8888888888888888,\"#fdca26\"],[1.0,\"#f0f921\"]],\"sequentialminus\":[[0.0,\"#0d0887\"],[0.1111111111111111,\"#46039f\"],[0.2222222222222222,\"#7201a8\"],[0.3333333333333333,\"#9c179e\"],[0.4444444444444444,\"#bd3786\"],[0.5555555555555556,\"#d8576b\"],[0.6666666666666666,\"#ed7953\"],[0.7777777777777778,\"#fb9f3a\"],[0.8888888888888888,\"#fdca26\"],[1.0,\"#f0f921\"]],\"diverging\":[[0,\"#8e0152\"],[0.1,\"#c51b7d\"],[0.2,\"#de77ae\"],[0.3,\"#f1b6da\"],[0.4,\"#fde0ef\"],[0.5,\"#f7f7f7\"],[0.6,\"#e6f5d0\"],[0.7,\"#b8e186\"],[0.8,\"#7fbc41\"],[0.9,\"#4d9221\"],[1,\"#276419\"]]},\"xaxis\":{\"gridcolor\":\"white\",\"linecolor\":\"white\",\"ticks\":\"\",\"title\":{\"standoff\":15},\"zerolinecolor\":\"white\",\"automargin\":true,\"zerolinewidth\":2},\"yaxis\":{\"gridcolor\":\"white\",\"linecolor\":\"white\",\"ticks\":\"\",\"title\":{\"standoff\":15},\"zerolinecolor\":\"white\",\"automargin\":true,\"zerolinewidth\":2},\"scene\":{\"xaxis\":{\"backgroundcolor\":\"#E5ECF6\",\"gridcolor\":\"white\",\"linecolor\":\"white\",\"showbackground\":true,\"ticks\":\"\",\"zerolinecolor\":\"white\",\"gridwidth\":2},\"yaxis\":{\"backgroundcolor\":\"#E5ECF6\",\"gridcolor\":\"white\",\"linecolor\":\"white\",\"showbackground\":true,\"ticks\":\"\",\"zerolinecolor\":\"white\",\"gridwidth\":2},\"zaxis\":{\"backgroundcolor\":\"#E5ECF6\",\"gridcolor\":\"white\",\"linecolor\":\"white\",\"showbackground\":true,\"ticks\":\"\",\"zerolinecolor\":\"white\",\"gridwidth\":2}},\"shapedefaults\":{\"line\":{\"color\":\"#2a3f5f\"}},\"annotationdefaults\":{\"arrowcolor\":\"#2a3f5f\",\"arrowhead\":0,\"arrowwidth\":1},\"geo\":{\"bgcolor\":\"white\",\"landcolor\":\"#E5ECF6\",\"subunitcolor\":\"white\",\"showland\":true,\"showlakes\":true,\"lakecolor\":\"white\"},\"title\":{\"x\":0.05},\"mapbox\":{\"style\":\"light\"}}},\"xaxis\":{\"anchor\":\"y\",\"domain\":[0.0,1.0],\"title\":{\"text\":\"x\"}},\"yaxis\":{\"anchor\":\"x\",\"domain\":[0.0,1.0],\"title\":{\"text\":\"y\"}},\"legend\":{\"tracegroupgap\":0},\"title\":{\"text\":\"100 Most common categories of Description\"},\"barmode\":\"relative\"},                        {\"responsive\": true}                    ).then(function(){\n",
              "                            \n",
              "var gd = document.getElementById('2b20e5b3-5625-400a-965a-613ad11d2140');\n",
              "var x = new MutationObserver(function (mutations, observer) {{\n",
              "        var display = window.getComputedStyle(gd).display;\n",
              "        if (!display || display === 'none') {{\n",
              "            console.log([gd, 'removed!']);\n",
              "            Plotly.purge(gd);\n",
              "            observer.disconnect();\n",
              "        }}\n",
              "}});\n",
              "\n",
              "// Listen for the removal of the full notebook cells\n",
              "var notebookContainer = gd.closest('#notebook-container');\n",
              "if (notebookContainer) {{\n",
              "    x.observe(notebookContainer, {childList: true});\n",
              "}}\n",
              "\n",
              "// Listen for the clearing of the current output cell\n",
              "var outputEl = gd.closest('.output');\n",
              "if (outputEl) {{\n",
              "    x.observe(outputEl, {childList: true});\n",
              "}}\n",
              "\n",
              "                        })                };                            </script>        </div>\n",
              "</body>\n",
              "</html>"
            ]
          },
          "metadata": {}
        }
      ]
    },
    {
      "cell_type": "code",
      "source": [
        "profile_serie(df_limpio['Quantity'])"
      ],
      "metadata": {
        "colab": {
          "base_uri": "https://localhost:8080/",
          "height": 1000
        },
        "outputId": "22cab720-a676-44da-9b11-f4e6f0f304f1",
        "id": "hcVdnZRmSi6o"
      },
      "execution_count": 158,
      "outputs": [
        {
          "output_type": "display_data",
          "data": {
            "text/plain": [
              "<IPython.core.display.Markdown object>"
            ],
            "text/markdown": "## Quantity Profile"
          },
          "metadata": {}
        },
        {
          "output_type": "display_data",
          "data": {
            "text/plain": [
              "Type                              int64\n",
              "Number of observations         509017.0\n",
              "Mean                           8.702214\n",
              "Std                           16.655841\n",
              "Min                                 1.0\n",
              "25%                                 1.0\n",
              "50%                                 3.0\n",
              "75%                                10.0\n",
              "Max                               200.0\n",
              "Negative                              0\n",
              "Negative (%)                      0.0 %\n",
              "Zeros                                 0\n",
              "Zeros (%)                         0.0 %\n",
              "Kurt                          43.447743\n",
              "Skew                           5.680179\n",
              "                                       \n",
              "Missing cells                         0\n",
              "Missing cells (%)                 0.0 %\n",
              "Duplicate rows                   508996\n",
              "Duplicate rows (%)              100.0 %\n",
              "Total size in memory      4072264 bytes\n",
              "dtype: object"
            ]
          },
          "metadata": {}
        },
        {
          "output_type": "display_data",
          "data": {
            "text/html": [
              "<html>\n",
              "<head><meta charset=\"utf-8\" /></head>\n",
              "<body>\n",
              "    <div>            <script src=\"https://cdnjs.cloudflare.com/ajax/libs/mathjax/2.7.5/MathJax.js?config=TeX-AMS-MML_SVG\"></script><script type=\"text/javascript\">if (window.MathJax && window.MathJax.Hub && && window.MathJax.Hub.Config) {window.MathJax.Hub.Config({SVG: {font: \"STIX-Web\"}});}</script>                <script type=\"text/javascript\">window.PlotlyConfig = {MathJaxConfig: 'local'};</script>\n",
              "        <script src=\"https://cdn.plot.ly/plotly-2.12.1.min.js\"></script>                <div id=\"d52503f5-d4e0-4e61-8353-46885fb82b82\" class=\"plotly-graph-div\" style=\"height:525px; width:100%;\"></div>            <script type=\"text/javascript\">                                    window.PLOTLYENV=window.PLOTLYENV || {};                                    if (document.getElementById(\"d52503f5-d4e0-4e61-8353-46885fb82b82\")) {                    Plotly.newPlot(                        \"d52503f5-d4e0-4e61-8353-46885fb82b82\",                        [{\"alignmentgroup\":\"True\",\"bingroup\":\"x\",\"hovertemplate\":\"variable=Quantity<br>value=%{x}<br>count=%{y}<extra></extra>\",\"legendgroup\":\"Quantity\",\"marker\":{\"color\":\"#636efa\",\"pattern\":{\"shape\":\"\"}},\"name\":\"Quantity\",\"offsetgroup\":\"Quantity\",\"orientation\":\"v\",\"showlegend\":true,\"x\":[4,10,12,12,1,1,1,6,1,30,10,6,4,12,1,6,2,6,1,20,4,6,6,12,2,20,4,2,1,25,1,1,2,1,7,1,6,6,1,2,1,1,6,1,1,2,2,24,12,2,2,8,8,1,2,1,3,12,24,2,2,12,24,1,1,12,12,8,2,12,2,1,12,1,24,6,2,4,1,2,12,2,2,2,1,2,2,12,6,1,1,8,1,1,9,1,1,1,2,1,6,3,1,12,12,6,9,2,6,16,4,2,10,1,12,8,1,1,1,10,2,1,10,4,20,1,1,48,4,3,1,2,1,6,2,24,12,1,6,6,1,2,10,1,8,2,4,3,1,1,2,12,6,24,2,10,6,1,2,2,20,1,12,6,7,1,12,8,1,2,12,1,24,12,48,4,1,3,1,1,24,24,1,12,2,1,1,6,12,1,2,10,12,12,8,2,5,24,20,4,2,6,1,1,1,2,12,2,4,12,5,1,3,2,10,1,6,6,5,2,24,2,6,5,1,48,3,72,2,2,6,3,1,36,10,1,6,1,2,2,3,6,3,72,12,200,2,2,1,4,3,1,4,3,1,12,3,3,10,1,48,24,2,2,12,3,2,6,1,24,12,6,1,6,1,24,18,1,20,2,1,12,2,8,3,12,3,2,4,6,5,2,5,1,12,2,2,1,1,96,1,40,12,2,20,2,12,3,1,3,5,12,50,3,1,3,10,12,10,1,1,2,96,36,12,6,2,6,1,10,1,3,2,2,1,1,12,12,1,1,1,2,2,12,5,100,5,24,12,2,2,6,1,3,4,1,1,24,1,1,6,1,2,6,3,2,1,12,8,12,5,1,5,24,1,3,12,1,1,20,12,6,1,10,4,6,1,24,12,10,2,12,12,2,4,12,4,6,12,2,1,3,6,1,4,3,25,1,6,8,1,6,12,3,2,6,1,6,12,2,12,10,1,1,6,3,6,2,1,1,20,1,12,1,12,7,8,48,6,12,12,2,13,4,2,1,1,3,24,3,3,2,12,1,10,12,1,1,5,6,3,12,12,1,5,1,20,2,1,3,2,12,25,1,12,1,4,1,3,2,2,50,1,12,6,1,18,1,1,1,1,4,12,1,1,2,1,25,1,24,6,24,2,2,3,2,2,12,12,6,12,1,1,6,7,39,2,5,1,8,2,24,24,1,1,1,192,6,3,20,24,1,6,2,1,3,5,2,1,1,1,12,10,12,12,1,2,12,6,1,6,2,1,25,2,1,8,2,48,4,1,6,12,5,1,12,24,1,10,4,1,144,1,12,16,17,1,2,4,12,12,2,1,2,4,1,2,1,4,1,2,24,6,1,5,4,2,2,2,12,1,1,24,6,12,3,2,9,5,12,6,8,6,1,12,1,2,3,1,12,1,1,8,25,3,12,48,4,6,2,1,48,1,24,3,10,6,1,2,12,1,2,3,2,24,12,36,1,24,1,24,2,12,1,1,2,10,1,1,12,6,1,12,2,72,10,1,6,1,4,6,12,1,5,20,1,2,10,12,24,24,2,10,1,3,12,1,2,8,2,1,5,6,12,1,2,1,10,12,1,6,2,1,1,4,2,6,1,3,3,20,2,18,6,5,5,1,2,2,3,3,1,12,20,1,3,12,1,7,12,2,2,2,6,2,1,1,3,1,6,3,2,3,12,8,6,8,12,1,1,36,1,1,2,24,12,8,6,24,8,1,24,2,1,4,1,4,6,1,1,1,4,24,20,6,1,2,6,12,2,1,36,6,2,1,1,1,72,6,12,3,4,12,12,1,2,2,12,6,3,3,4,1,4,5,8,18,6,2,2,2,1,10,1,1,4,12,10,24,1,3,2,2,6,2,4,1,36,8,10,1,144,6,6,9,1,1,2,1,2,12,3,1,24,1,48,1,1,1,12,3,12,2,36,1,1,2,2,2,12,4,2,36,12,1,2,6,12,4,12,48,6,1,72,1,6,1,2,2,1,1,2,12,10,2,2,1,12,2,1,1,10,8,2,12,2,2,1,4,4,5,2,6,1,1,8,24,3,1,2,2,1,5,1,2,3,2,1,1,2,12,1,6,3,1,12,4,12,12,12,12,1,2,1,4,1,4,2,12,6,1,3,2,1,1,1,20,1,8,2,3,24,1,12,36,1,1,1,2,16,40,2,50,1,1,6,3,6,12,4,12,3,12,6,2,2,2,9,1,6,12,4,2,6,24,2,1,12,1,1,1,10,6,2,1,1,1,36,1,25],\"xaxis\":\"x\",\"yaxis\":\"y\",\"type\":\"histogram\"},{\"alignmentgroup\":\"True\",\"hovertemplate\":\"variable=Quantity<br>value=%{x}<extra></extra>\",\"legendgroup\":\"Quantity\",\"marker\":{\"color\":\"#636efa\"},\"name\":\"Quantity\",\"notched\":true,\"offsetgroup\":\"Quantity\",\"showlegend\":false,\"x\":[4,10,12,12,1,1,1,6,1,30,10,6,4,12,1,6,2,6,1,20,4,6,6,12,2,20,4,2,1,25,1,1,2,1,7,1,6,6,1,2,1,1,6,1,1,2,2,24,12,2,2,8,8,1,2,1,3,12,24,2,2,12,24,1,1,12,12,8,2,12,2,1,12,1,24,6,2,4,1,2,12,2,2,2,1,2,2,12,6,1,1,8,1,1,9,1,1,1,2,1,6,3,1,12,12,6,9,2,6,16,4,2,10,1,12,8,1,1,1,10,2,1,10,4,20,1,1,48,4,3,1,2,1,6,2,24,12,1,6,6,1,2,10,1,8,2,4,3,1,1,2,12,6,24,2,10,6,1,2,2,20,1,12,6,7,1,12,8,1,2,12,1,24,12,48,4,1,3,1,1,24,24,1,12,2,1,1,6,12,1,2,10,12,12,8,2,5,24,20,4,2,6,1,1,1,2,12,2,4,12,5,1,3,2,10,1,6,6,5,2,24,2,6,5,1,48,3,72,2,2,6,3,1,36,10,1,6,1,2,2,3,6,3,72,12,200,2,2,1,4,3,1,4,3,1,12,3,3,10,1,48,24,2,2,12,3,2,6,1,24,12,6,1,6,1,24,18,1,20,2,1,12,2,8,3,12,3,2,4,6,5,2,5,1,12,2,2,1,1,96,1,40,12,2,20,2,12,3,1,3,5,12,50,3,1,3,10,12,10,1,1,2,96,36,12,6,2,6,1,10,1,3,2,2,1,1,12,12,1,1,1,2,2,12,5,100,5,24,12,2,2,6,1,3,4,1,1,24,1,1,6,1,2,6,3,2,1,12,8,12,5,1,5,24,1,3,12,1,1,20,12,6,1,10,4,6,1,24,12,10,2,12,12,2,4,12,4,6,12,2,1,3,6,1,4,3,25,1,6,8,1,6,12,3,2,6,1,6,12,2,12,10,1,1,6,3,6,2,1,1,20,1,12,1,12,7,8,48,6,12,12,2,13,4,2,1,1,3,24,3,3,2,12,1,10,12,1,1,5,6,3,12,12,1,5,1,20,2,1,3,2,12,25,1,12,1,4,1,3,2,2,50,1,12,6,1,18,1,1,1,1,4,12,1,1,2,1,25,1,24,6,24,2,2,3,2,2,12,12,6,12,1,1,6,7,39,2,5,1,8,2,24,24,1,1,1,192,6,3,20,24,1,6,2,1,3,5,2,1,1,1,12,10,12,12,1,2,12,6,1,6,2,1,25,2,1,8,2,48,4,1,6,12,5,1,12,24,1,10,4,1,144,1,12,16,17,1,2,4,12,12,2,1,2,4,1,2,1,4,1,2,24,6,1,5,4,2,2,2,12,1,1,24,6,12,3,2,9,5,12,6,8,6,1,12,1,2,3,1,12,1,1,8,25,3,12,48,4,6,2,1,48,1,24,3,10,6,1,2,12,1,2,3,2,24,12,36,1,24,1,24,2,12,1,1,2,10,1,1,12,6,1,12,2,72,10,1,6,1,4,6,12,1,5,20,1,2,10,12,24,24,2,10,1,3,12,1,2,8,2,1,5,6,12,1,2,1,10,12,1,6,2,1,1,4,2,6,1,3,3,20,2,18,6,5,5,1,2,2,3,3,1,12,20,1,3,12,1,7,12,2,2,2,6,2,1,1,3,1,6,3,2,3,12,8,6,8,12,1,1,36,1,1,2,24,12,8,6,24,8,1,24,2,1,4,1,4,6,1,1,1,4,24,20,6,1,2,6,12,2,1,36,6,2,1,1,1,72,6,12,3,4,12,12,1,2,2,12,6,3,3,4,1,4,5,8,18,6,2,2,2,1,10,1,1,4,12,10,24,1,3,2,2,6,2,4,1,36,8,10,1,144,6,6,9,1,1,2,1,2,12,3,1,24,1,48,1,1,1,12,3,12,2,36,1,1,2,2,2,12,4,2,36,12,1,2,6,12,4,12,48,6,1,72,1,6,1,2,2,1,1,2,12,10,2,2,1,12,2,1,1,10,8,2,12,2,2,1,4,4,5,2,6,1,1,8,24,3,1,2,2,1,5,1,2,3,2,1,1,2,12,1,6,3,1,12,4,12,12,12,12,1,2,1,4,1,4,2,12,6,1,3,2,1,1,1,20,1,8,2,3,24,1,12,36,1,1,1,2,16,40,2,50,1,1,6,3,6,12,4,12,3,12,6,2,2,2,9,1,6,12,4,2,6,24,2,1,12,1,1,1,10,6,2,1,1,1,36,1,25],\"xaxis\":\"x2\",\"yaxis\":\"y2\",\"type\":\"box\"}],                        {\"template\":{\"data\":{\"histogram2dcontour\":[{\"type\":\"histogram2dcontour\",\"colorbar\":{\"outlinewidth\":0,\"ticks\":\"\"},\"colorscale\":[[0.0,\"#0d0887\"],[0.1111111111111111,\"#46039f\"],[0.2222222222222222,\"#7201a8\"],[0.3333333333333333,\"#9c179e\"],[0.4444444444444444,\"#bd3786\"],[0.5555555555555556,\"#d8576b\"],[0.6666666666666666,\"#ed7953\"],[0.7777777777777778,\"#fb9f3a\"],[0.8888888888888888,\"#fdca26\"],[1.0,\"#f0f921\"]]}],\"choropleth\":[{\"type\":\"choropleth\",\"colorbar\":{\"outlinewidth\":0,\"ticks\":\"\"}}],\"histogram2d\":[{\"type\":\"histogram2d\",\"colorbar\":{\"outlinewidth\":0,\"ticks\":\"\"},\"colorscale\":[[0.0,\"#0d0887\"],[0.1111111111111111,\"#46039f\"],[0.2222222222222222,\"#7201a8\"],[0.3333333333333333,\"#9c179e\"],[0.4444444444444444,\"#bd3786\"],[0.5555555555555556,\"#d8576b\"],[0.6666666666666666,\"#ed7953\"],[0.7777777777777778,\"#fb9f3a\"],[0.8888888888888888,\"#fdca26\"],[1.0,\"#f0f921\"]]}],\"heatmap\":[{\"type\":\"heatmap\",\"colorbar\":{\"outlinewidth\":0,\"ticks\":\"\"},\"colorscale\":[[0.0,\"#0d0887\"],[0.1111111111111111,\"#46039f\"],[0.2222222222222222,\"#7201a8\"],[0.3333333333333333,\"#9c179e\"],[0.4444444444444444,\"#bd3786\"],[0.5555555555555556,\"#d8576b\"],[0.6666666666666666,\"#ed7953\"],[0.7777777777777778,\"#fb9f3a\"],[0.8888888888888888,\"#fdca26\"],[1.0,\"#f0f921\"]]}],\"heatmapgl\":[{\"type\":\"heatmapgl\",\"colorbar\":{\"outlinewidth\":0,\"ticks\":\"\"},\"colorscale\":[[0.0,\"#0d0887\"],[0.1111111111111111,\"#46039f\"],[0.2222222222222222,\"#7201a8\"],[0.3333333333333333,\"#9c179e\"],[0.4444444444444444,\"#bd3786\"],[0.5555555555555556,\"#d8576b\"],[0.6666666666666666,\"#ed7953\"],[0.7777777777777778,\"#fb9f3a\"],[0.8888888888888888,\"#fdca26\"],[1.0,\"#f0f921\"]]}],\"contourcarpet\":[{\"type\":\"contourcarpet\",\"colorbar\":{\"outlinewidth\":0,\"ticks\":\"\"}}],\"contour\":[{\"type\":\"contour\",\"colorbar\":{\"outlinewidth\":0,\"ticks\":\"\"},\"colorscale\":[[0.0,\"#0d0887\"],[0.1111111111111111,\"#46039f\"],[0.2222222222222222,\"#7201a8\"],[0.3333333333333333,\"#9c179e\"],[0.4444444444444444,\"#bd3786\"],[0.5555555555555556,\"#d8576b\"],[0.6666666666666666,\"#ed7953\"],[0.7777777777777778,\"#fb9f3a\"],[0.8888888888888888,\"#fdca26\"],[1.0,\"#f0f921\"]]}],\"surface\":[{\"type\":\"surface\",\"colorbar\":{\"outlinewidth\":0,\"ticks\":\"\"},\"colorscale\":[[0.0,\"#0d0887\"],[0.1111111111111111,\"#46039f\"],[0.2222222222222222,\"#7201a8\"],[0.3333333333333333,\"#9c179e\"],[0.4444444444444444,\"#bd3786\"],[0.5555555555555556,\"#d8576b\"],[0.6666666666666666,\"#ed7953\"],[0.7777777777777778,\"#fb9f3a\"],[0.8888888888888888,\"#fdca26\"],[1.0,\"#f0f921\"]]}],\"mesh3d\":[{\"type\":\"mesh3d\",\"colorbar\":{\"outlinewidth\":0,\"ticks\":\"\"}}],\"scatter\":[{\"fillpattern\":{\"fillmode\":\"overlay\",\"size\":10,\"solidity\":0.2},\"type\":\"scatter\"}],\"parcoords\":[{\"type\":\"parcoords\",\"line\":{\"colorbar\":{\"outlinewidth\":0,\"ticks\":\"\"}}}],\"scatterpolargl\":[{\"type\":\"scatterpolargl\",\"marker\":{\"colorbar\":{\"outlinewidth\":0,\"ticks\":\"\"}}}],\"bar\":[{\"error_x\":{\"color\":\"#2a3f5f\"},\"error_y\":{\"color\":\"#2a3f5f\"},\"marker\":{\"line\":{\"color\":\"#E5ECF6\",\"width\":0.5},\"pattern\":{\"fillmode\":\"overlay\",\"size\":10,\"solidity\":0.2}},\"type\":\"bar\"}],\"scattergeo\":[{\"type\":\"scattergeo\",\"marker\":{\"colorbar\":{\"outlinewidth\":0,\"ticks\":\"\"}}}],\"scatterpolar\":[{\"type\":\"scatterpolar\",\"marker\":{\"colorbar\":{\"outlinewidth\":0,\"ticks\":\"\"}}}],\"histogram\":[{\"marker\":{\"pattern\":{\"fillmode\":\"overlay\",\"size\":10,\"solidity\":0.2}},\"type\":\"histogram\"}],\"scattergl\":[{\"type\":\"scattergl\",\"marker\":{\"colorbar\":{\"outlinewidth\":0,\"ticks\":\"\"}}}],\"scatter3d\":[{\"type\":\"scatter3d\",\"line\":{\"colorbar\":{\"outlinewidth\":0,\"ticks\":\"\"}},\"marker\":{\"colorbar\":{\"outlinewidth\":0,\"ticks\":\"\"}}}],\"scattermapbox\":[{\"type\":\"scattermapbox\",\"marker\":{\"colorbar\":{\"outlinewidth\":0,\"ticks\":\"\"}}}],\"scatterternary\":[{\"type\":\"scatterternary\",\"marker\":{\"colorbar\":{\"outlinewidth\":0,\"ticks\":\"\"}}}],\"scattercarpet\":[{\"type\":\"scattercarpet\",\"marker\":{\"colorbar\":{\"outlinewidth\":0,\"ticks\":\"\"}}}],\"carpet\":[{\"aaxis\":{\"endlinecolor\":\"#2a3f5f\",\"gridcolor\":\"white\",\"linecolor\":\"white\",\"minorgridcolor\":\"white\",\"startlinecolor\":\"#2a3f5f\"},\"baxis\":{\"endlinecolor\":\"#2a3f5f\",\"gridcolor\":\"white\",\"linecolor\":\"white\",\"minorgridcolor\":\"white\",\"startlinecolor\":\"#2a3f5f\"},\"type\":\"carpet\"}],\"table\":[{\"cells\":{\"fill\":{\"color\":\"#EBF0F8\"},\"line\":{\"color\":\"white\"}},\"header\":{\"fill\":{\"color\":\"#C8D4E3\"},\"line\":{\"color\":\"white\"}},\"type\":\"table\"}],\"barpolar\":[{\"marker\":{\"line\":{\"color\":\"#E5ECF6\",\"width\":0.5},\"pattern\":{\"fillmode\":\"overlay\",\"size\":10,\"solidity\":0.2}},\"type\":\"barpolar\"}],\"pie\":[{\"automargin\":true,\"type\":\"pie\"}]},\"layout\":{\"autotypenumbers\":\"strict\",\"colorway\":[\"#636efa\",\"#EF553B\",\"#00cc96\",\"#ab63fa\",\"#FFA15A\",\"#19d3f3\",\"#FF6692\",\"#B6E880\",\"#FF97FF\",\"#FECB52\"],\"font\":{\"color\":\"#2a3f5f\"},\"hovermode\":\"closest\",\"hoverlabel\":{\"align\":\"left\"},\"paper_bgcolor\":\"white\",\"plot_bgcolor\":\"#E5ECF6\",\"polar\":{\"bgcolor\":\"#E5ECF6\",\"angularaxis\":{\"gridcolor\":\"white\",\"linecolor\":\"white\",\"ticks\":\"\"},\"radialaxis\":{\"gridcolor\":\"white\",\"linecolor\":\"white\",\"ticks\":\"\"}},\"ternary\":{\"bgcolor\":\"#E5ECF6\",\"aaxis\":{\"gridcolor\":\"white\",\"linecolor\":\"white\",\"ticks\":\"\"},\"baxis\":{\"gridcolor\":\"white\",\"linecolor\":\"white\",\"ticks\":\"\"},\"caxis\":{\"gridcolor\":\"white\",\"linecolor\":\"white\",\"ticks\":\"\"}},\"coloraxis\":{\"colorbar\":{\"outlinewidth\":0,\"ticks\":\"\"}},\"colorscale\":{\"sequential\":[[0.0,\"#0d0887\"],[0.1111111111111111,\"#46039f\"],[0.2222222222222222,\"#7201a8\"],[0.3333333333333333,\"#9c179e\"],[0.4444444444444444,\"#bd3786\"],[0.5555555555555556,\"#d8576b\"],[0.6666666666666666,\"#ed7953\"],[0.7777777777777778,\"#fb9f3a\"],[0.8888888888888888,\"#fdca26\"],[1.0,\"#f0f921\"]],\"sequentialminus\":[[0.0,\"#0d0887\"],[0.1111111111111111,\"#46039f\"],[0.2222222222222222,\"#7201a8\"],[0.3333333333333333,\"#9c179e\"],[0.4444444444444444,\"#bd3786\"],[0.5555555555555556,\"#d8576b\"],[0.6666666666666666,\"#ed7953\"],[0.7777777777777778,\"#fb9f3a\"],[0.8888888888888888,\"#fdca26\"],[1.0,\"#f0f921\"]],\"diverging\":[[0,\"#8e0152\"],[0.1,\"#c51b7d\"],[0.2,\"#de77ae\"],[0.3,\"#f1b6da\"],[0.4,\"#fde0ef\"],[0.5,\"#f7f7f7\"],[0.6,\"#e6f5d0\"],[0.7,\"#b8e186\"],[0.8,\"#7fbc41\"],[0.9,\"#4d9221\"],[1,\"#276419\"]]},\"xaxis\":{\"gridcolor\":\"white\",\"linecolor\":\"white\",\"ticks\":\"\",\"title\":{\"standoff\":15},\"zerolinecolor\":\"white\",\"automargin\":true,\"zerolinewidth\":2},\"yaxis\":{\"gridcolor\":\"white\",\"linecolor\":\"white\",\"ticks\":\"\",\"title\":{\"standoff\":15},\"zerolinecolor\":\"white\",\"automargin\":true,\"zerolinewidth\":2},\"scene\":{\"xaxis\":{\"backgroundcolor\":\"#E5ECF6\",\"gridcolor\":\"white\",\"linecolor\":\"white\",\"showbackground\":true,\"ticks\":\"\",\"zerolinecolor\":\"white\",\"gridwidth\":2},\"yaxis\":{\"backgroundcolor\":\"#E5ECF6\",\"gridcolor\":\"white\",\"linecolor\":\"white\",\"showbackground\":true,\"ticks\":\"\",\"zerolinecolor\":\"white\",\"gridwidth\":2},\"zaxis\":{\"backgroundcolor\":\"#E5ECF6\",\"gridcolor\":\"white\",\"linecolor\":\"white\",\"showbackground\":true,\"ticks\":\"\",\"zerolinecolor\":\"white\",\"gridwidth\":2}},\"shapedefaults\":{\"line\":{\"color\":\"#2a3f5f\"}},\"annotationdefaults\":{\"arrowcolor\":\"#2a3f5f\",\"arrowhead\":0,\"arrowwidth\":1},\"geo\":{\"bgcolor\":\"white\",\"landcolor\":\"#E5ECF6\",\"subunitcolor\":\"white\",\"showland\":true,\"showlakes\":true,\"lakecolor\":\"white\"},\"title\":{\"x\":0.05},\"mapbox\":{\"style\":\"light\"}}},\"xaxis\":{\"anchor\":\"y\",\"domain\":[0.0,1.0],\"title\":{\"text\":\"value\"}},\"yaxis\":{\"anchor\":\"x\",\"domain\":[0.0,0.7326],\"title\":{\"text\":\"count\"}},\"xaxis2\":{\"anchor\":\"y2\",\"domain\":[0.0,1.0],\"matches\":\"x\",\"showticklabels\":false,\"showgrid\":true},\"yaxis2\":{\"anchor\":\"x2\",\"domain\":[0.7426,1.0],\"matches\":\"y2\",\"showticklabels\":false,\"showline\":false,\"ticks\":\"\",\"showgrid\":false},\"legend\":{\"title\":{\"text\":\"variable\"},\"tracegroupgap\":0},\"title\":{\"text\":\"Quantity - With Outliers\"},\"barmode\":\"relative\"},                        {\"responsive\": true}                    ).then(function(){\n",
              "                            \n",
              "var gd = document.getElementById('d52503f5-d4e0-4e61-8353-46885fb82b82');\n",
              "var x = new MutationObserver(function (mutations, observer) {{\n",
              "        var display = window.getComputedStyle(gd).display;\n",
              "        if (!display || display === 'none') {{\n",
              "            console.log([gd, 'removed!']);\n",
              "            Plotly.purge(gd);\n",
              "            observer.disconnect();\n",
              "        }}\n",
              "}});\n",
              "\n",
              "// Listen for the removal of the full notebook cells\n",
              "var notebookContainer = gd.closest('#notebook-container');\n",
              "if (notebookContainer) {{\n",
              "    x.observe(notebookContainer, {childList: true});\n",
              "}}\n",
              "\n",
              "// Listen for the clearing of the current output cell\n",
              "var outputEl = gd.closest('.output');\n",
              "if (outputEl) {{\n",
              "    x.observe(outputEl, {childList: true});\n",
              "}}\n",
              "\n",
              "                        })                };                            </script>        </div>\n",
              "</body>\n",
              "</html>"
            ]
          },
          "metadata": {}
        },
        {
          "output_type": "display_data",
          "data": {
            "text/html": [
              "<html>\n",
              "<head><meta charset=\"utf-8\" /></head>\n",
              "<body>\n",
              "    <div>            <script src=\"https://cdnjs.cloudflare.com/ajax/libs/mathjax/2.7.5/MathJax.js?config=TeX-AMS-MML_SVG\"></script><script type=\"text/javascript\">if (window.MathJax && window.MathJax.Hub && && window.MathJax.Hub.Config) {window.MathJax.Hub.Config({SVG: {font: \"STIX-Web\"}});}</script>                <script type=\"text/javascript\">window.PlotlyConfig = {MathJaxConfig: 'local'};</script>\n",
              "        <script src=\"https://cdn.plot.ly/plotly-2.12.1.min.js\"></script>                <div id=\"94531a86-1f11-4173-93c4-b8f9bf08856c\" class=\"plotly-graph-div\" style=\"height:525px; width:100%;\"></div>            <script type=\"text/javascript\">                                    window.PLOTLYENV=window.PLOTLYENV || {};                                    if (document.getElementById(\"94531a86-1f11-4173-93c4-b8f9bf08856c\")) {                    Plotly.newPlot(                        \"94531a86-1f11-4173-93c4-b8f9bf08856c\",                        [{\"alignmentgroup\":\"True\",\"bingroup\":\"x\",\"hovertemplate\":\"variable=Quantity<br>value=%{x}<br>count=%{y}<extra></extra>\",\"legendgroup\":\"Quantity\",\"marker\":{\"color\":\"#636efa\",\"pattern\":{\"shape\":\"\"}},\"name\":\"Quantity\",\"offsetgroup\":\"Quantity\",\"orientation\":\"v\",\"showlegend\":true,\"x\":[4,10,12,12,1,1,1,6,1,30,10,6,4,12,1,6,2,6,1,20,4,6,6,12,2,20,4,2,1,25,1,1,2,1,7,1,6,6,1,2,1,1,6,1,1,2,2,24,12,2,2,8,8,1,2,1,3,12,24,2,2,12,24,1,1,12,12,8,2,12,2,1,12,1,24,6,2,4,1,2,12,2,2,2,1,2,2,12,6,1,1,8,1,1,9,1,1,1,2,1,6,3,1,12,12,6,9,2,6,16,4,2,10,1,12,8,1,1,1,10,2,1,10,4,20,1,1,48,4,3,1,2,1,6,2,24,12,1,6,6,1,2,10,1,8,2,4,3,1,1,2,12,6,24,2,10,6,1,2,2,20,1,12,6,7,1,12,8,1,2,12,1,24,12,48,4,1,3,1,1,24,24,1,12,2,1,1,6,12,1,2,10,12,12,8,2,5,24,20,4,2,6,1,1,1,2,12,2,4,12,5,1,3,2,10,1,6,6,5,2,24,2,6,5,1,48,3,2,2,6,3,1,36,10,1,6,1,2,2,3,6,3,12,2,2,1,4,3,1,4,3,1,12,3,3,10,1,48,24,2,2,12,3,2,6,1,24,12,6,1,6,1,24,18,1,20,2,1,12,2,8,3,12,3,2,4,6,5,2,5,1,12,2,2,1,1,1,40,12,2,20,2,12,3,1,3,5,12,50,3,1,3,10,12,10,1,1,2,36,12,6,2,6,1,10,1,3,2,2,1,1,12,12,1,1,1,2,2,12,5,5,24,12,2,2,6,1,3,4,1,1,24,1,1,6,1,2,6,3,2,1,12,8,12,5,1,5,24,1,3,12,1,1,20,12,6,1,10,4,6,1,24,12,10,2,12,12,2,4,12,4,6,12,2,1,3,6,1,4,3,25,1,6,8,1,6,12,3,2,6,1,6,12,2,12,10,1,1,6,3,6,2,1,1,20,1,12,1,12,7,8,48,6,12,12,2,13,4,2,1,1,3,24,3,3,2,12,1,10,12,1,1,5,6,3,12,12,1,5,1,20,2,1,3,2,12,25,1,12,1,4,1,3,2,2,50,1,12,6,1,18,1,1,1,1,4,12,1,1,2,1,25,1,24,6,24,2,2,3,2,2,12,12,6,12,1,1,6,7,39,2,5,1,8,2,24,24,1,1,1,6,3,20,24,1,6,2,1,3,5,2,1,1,1,12,10,12,12,1,2,12,6,1,6,2,1,25,2,1,8,2,48,4,1,6,12,5,1,12,24,1,10,4,1,1,12,16,17,1,2,4,12,12,2,1,2,4,1,2,1,4,1,2,24,6,1,5,4,2,2,2,12,1,1,24,6,12,3,2,9,5,12,6,8,6,1,12,1,2,3,1,12,1,1,8,25,3,12,48,4,6,2,1,48,1,24,3,10,6,1,2,12,1,2,3,2,24,12,36,1,24,1,24,2,12,1,1,2,10,1,1,12,6,1,12,2,10,1,6,1,4,6,12,1,5,20,1,2,10,12,24,24,2,10,1,3,12,1,2,8,2,1,5,6,12,1,2,1,10,12,1,6,2,1,1,4,2,6,1,3,3,20,2,18,6,5,5,1,2,2,3,3,1,12,20,1,3,12,1,7,12,2,2,2,6,2,1,1,3,1,6,3,2,3,12,8,6,8,12,1,1,36,1,1,2,24,12,8,6,24,8,1,24,2,1,4,1,4,6,1,1,1,4,24,20,6,1,2,6,12,2,1,36,6,2,1,1,1,6,12,3,4,12,12,1,2,2,12,6,3,3,4,1,4,5,8,18,6,2,2,2,1,10,1,1,4,12,10,24,1,3,2,2,6,2,4,1,36,8,10,1,6,6,9,1,1,2,1,2,12,3,1,24,1,48,1,1,1,12,3,12,2,36,1,1,2,2,2,12,4,2,36,12,1,2,6,12,4,12,48,6,1,1,6,1,2,2,1,1,2,12,10,2,2,1,12,2,1,1,10,8,2,12,2,2,1,4,4,5,2,6,1,1,8,24,3,1,2,2,1,5,1,2,3,2,1,1,2,12,1,6,3,1,12,4,12,12,12,12,1,2,1,4,1,4,2,12,6,1,3,2,1,1,1,20,1,8,2,3,24,1,12,36,1,1,1,2,16,40,2,50,1,1,6,3,6,12,4,12,3,12,6,2,2,2,9,1,6,12,4,2,6,24,2,1,12,1,1,1,10,6,2,1,1,1,36,1,25],\"xaxis\":\"x\",\"yaxis\":\"y\",\"type\":\"histogram\"},{\"alignmentgroup\":\"True\",\"hovertemplate\":\"variable=Quantity<br>value=%{x}<extra></extra>\",\"legendgroup\":\"Quantity\",\"marker\":{\"color\":\"#636efa\"},\"name\":\"Quantity\",\"notched\":true,\"offsetgroup\":\"Quantity\",\"showlegend\":false,\"x\":[4,10,12,12,1,1,1,6,1,30,10,6,4,12,1,6,2,6,1,20,4,6,6,12,2,20,4,2,1,25,1,1,2,1,7,1,6,6,1,2,1,1,6,1,1,2,2,24,12,2,2,8,8,1,2,1,3,12,24,2,2,12,24,1,1,12,12,8,2,12,2,1,12,1,24,6,2,4,1,2,12,2,2,2,1,2,2,12,6,1,1,8,1,1,9,1,1,1,2,1,6,3,1,12,12,6,9,2,6,16,4,2,10,1,12,8,1,1,1,10,2,1,10,4,20,1,1,48,4,3,1,2,1,6,2,24,12,1,6,6,1,2,10,1,8,2,4,3,1,1,2,12,6,24,2,10,6,1,2,2,20,1,12,6,7,1,12,8,1,2,12,1,24,12,48,4,1,3,1,1,24,24,1,12,2,1,1,6,12,1,2,10,12,12,8,2,5,24,20,4,2,6,1,1,1,2,12,2,4,12,5,1,3,2,10,1,6,6,5,2,24,2,6,5,1,48,3,2,2,6,3,1,36,10,1,6,1,2,2,3,6,3,12,2,2,1,4,3,1,4,3,1,12,3,3,10,1,48,24,2,2,12,3,2,6,1,24,12,6,1,6,1,24,18,1,20,2,1,12,2,8,3,12,3,2,4,6,5,2,5,1,12,2,2,1,1,1,40,12,2,20,2,12,3,1,3,5,12,50,3,1,3,10,12,10,1,1,2,36,12,6,2,6,1,10,1,3,2,2,1,1,12,12,1,1,1,2,2,12,5,5,24,12,2,2,6,1,3,4,1,1,24,1,1,6,1,2,6,3,2,1,12,8,12,5,1,5,24,1,3,12,1,1,20,12,6,1,10,4,6,1,24,12,10,2,12,12,2,4,12,4,6,12,2,1,3,6,1,4,3,25,1,6,8,1,6,12,3,2,6,1,6,12,2,12,10,1,1,6,3,6,2,1,1,20,1,12,1,12,7,8,48,6,12,12,2,13,4,2,1,1,3,24,3,3,2,12,1,10,12,1,1,5,6,3,12,12,1,5,1,20,2,1,3,2,12,25,1,12,1,4,1,3,2,2,50,1,12,6,1,18,1,1,1,1,4,12,1,1,2,1,25,1,24,6,24,2,2,3,2,2,12,12,6,12,1,1,6,7,39,2,5,1,8,2,24,24,1,1,1,6,3,20,24,1,6,2,1,3,5,2,1,1,1,12,10,12,12,1,2,12,6,1,6,2,1,25,2,1,8,2,48,4,1,6,12,5,1,12,24,1,10,4,1,1,12,16,17,1,2,4,12,12,2,1,2,4,1,2,1,4,1,2,24,6,1,5,4,2,2,2,12,1,1,24,6,12,3,2,9,5,12,6,8,6,1,12,1,2,3,1,12,1,1,8,25,3,12,48,4,6,2,1,48,1,24,3,10,6,1,2,12,1,2,3,2,24,12,36,1,24,1,24,2,12,1,1,2,10,1,1,12,6,1,12,2,10,1,6,1,4,6,12,1,5,20,1,2,10,12,24,24,2,10,1,3,12,1,2,8,2,1,5,6,12,1,2,1,10,12,1,6,2,1,1,4,2,6,1,3,3,20,2,18,6,5,5,1,2,2,3,3,1,12,20,1,3,12,1,7,12,2,2,2,6,2,1,1,3,1,6,3,2,3,12,8,6,8,12,1,1,36,1,1,2,24,12,8,6,24,8,1,24,2,1,4,1,4,6,1,1,1,4,24,20,6,1,2,6,12,2,1,36,6,2,1,1,1,6,12,3,4,12,12,1,2,2,12,6,3,3,4,1,4,5,8,18,6,2,2,2,1,10,1,1,4,12,10,24,1,3,2,2,6,2,4,1,36,8,10,1,6,6,9,1,1,2,1,2,12,3,1,24,1,48,1,1,1,12,3,12,2,36,1,1,2,2,2,12,4,2,36,12,1,2,6,12,4,12,48,6,1,1,6,1,2,2,1,1,2,12,10,2,2,1,12,2,1,1,10,8,2,12,2,2,1,4,4,5,2,6,1,1,8,24,3,1,2,2,1,5,1,2,3,2,1,1,2,12,1,6,3,1,12,4,12,12,12,12,1,2,1,4,1,4,2,12,6,1,3,2,1,1,1,20,1,8,2,3,24,1,12,36,1,1,1,2,16,40,2,50,1,1,6,3,6,12,4,12,3,12,6,2,2,2,9,1,6,12,4,2,6,24,2,1,12,1,1,1,10,6,2,1,1,1,36,1,25],\"xaxis\":\"x2\",\"yaxis\":\"y2\",\"type\":\"box\"}],                        {\"template\":{\"data\":{\"histogram2dcontour\":[{\"type\":\"histogram2dcontour\",\"colorbar\":{\"outlinewidth\":0,\"ticks\":\"\"},\"colorscale\":[[0.0,\"#0d0887\"],[0.1111111111111111,\"#46039f\"],[0.2222222222222222,\"#7201a8\"],[0.3333333333333333,\"#9c179e\"],[0.4444444444444444,\"#bd3786\"],[0.5555555555555556,\"#d8576b\"],[0.6666666666666666,\"#ed7953\"],[0.7777777777777778,\"#fb9f3a\"],[0.8888888888888888,\"#fdca26\"],[1.0,\"#f0f921\"]]}],\"choropleth\":[{\"type\":\"choropleth\",\"colorbar\":{\"outlinewidth\":0,\"ticks\":\"\"}}],\"histogram2d\":[{\"type\":\"histogram2d\",\"colorbar\":{\"outlinewidth\":0,\"ticks\":\"\"},\"colorscale\":[[0.0,\"#0d0887\"],[0.1111111111111111,\"#46039f\"],[0.2222222222222222,\"#7201a8\"],[0.3333333333333333,\"#9c179e\"],[0.4444444444444444,\"#bd3786\"],[0.5555555555555556,\"#d8576b\"],[0.6666666666666666,\"#ed7953\"],[0.7777777777777778,\"#fb9f3a\"],[0.8888888888888888,\"#fdca26\"],[1.0,\"#f0f921\"]]}],\"heatmap\":[{\"type\":\"heatmap\",\"colorbar\":{\"outlinewidth\":0,\"ticks\":\"\"},\"colorscale\":[[0.0,\"#0d0887\"],[0.1111111111111111,\"#46039f\"],[0.2222222222222222,\"#7201a8\"],[0.3333333333333333,\"#9c179e\"],[0.4444444444444444,\"#bd3786\"],[0.5555555555555556,\"#d8576b\"],[0.6666666666666666,\"#ed7953\"],[0.7777777777777778,\"#fb9f3a\"],[0.8888888888888888,\"#fdca26\"],[1.0,\"#f0f921\"]]}],\"heatmapgl\":[{\"type\":\"heatmapgl\",\"colorbar\":{\"outlinewidth\":0,\"ticks\":\"\"},\"colorscale\":[[0.0,\"#0d0887\"],[0.1111111111111111,\"#46039f\"],[0.2222222222222222,\"#7201a8\"],[0.3333333333333333,\"#9c179e\"],[0.4444444444444444,\"#bd3786\"],[0.5555555555555556,\"#d8576b\"],[0.6666666666666666,\"#ed7953\"],[0.7777777777777778,\"#fb9f3a\"],[0.8888888888888888,\"#fdca26\"],[1.0,\"#f0f921\"]]}],\"contourcarpet\":[{\"type\":\"contourcarpet\",\"colorbar\":{\"outlinewidth\":0,\"ticks\":\"\"}}],\"contour\":[{\"type\":\"contour\",\"colorbar\":{\"outlinewidth\":0,\"ticks\":\"\"},\"colorscale\":[[0.0,\"#0d0887\"],[0.1111111111111111,\"#46039f\"],[0.2222222222222222,\"#7201a8\"],[0.3333333333333333,\"#9c179e\"],[0.4444444444444444,\"#bd3786\"],[0.5555555555555556,\"#d8576b\"],[0.6666666666666666,\"#ed7953\"],[0.7777777777777778,\"#fb9f3a\"],[0.8888888888888888,\"#fdca26\"],[1.0,\"#f0f921\"]]}],\"surface\":[{\"type\":\"surface\",\"colorbar\":{\"outlinewidth\":0,\"ticks\":\"\"},\"colorscale\":[[0.0,\"#0d0887\"],[0.1111111111111111,\"#46039f\"],[0.2222222222222222,\"#7201a8\"],[0.3333333333333333,\"#9c179e\"],[0.4444444444444444,\"#bd3786\"],[0.5555555555555556,\"#d8576b\"],[0.6666666666666666,\"#ed7953\"],[0.7777777777777778,\"#fb9f3a\"],[0.8888888888888888,\"#fdca26\"],[1.0,\"#f0f921\"]]}],\"mesh3d\":[{\"type\":\"mesh3d\",\"colorbar\":{\"outlinewidth\":0,\"ticks\":\"\"}}],\"scatter\":[{\"fillpattern\":{\"fillmode\":\"overlay\",\"size\":10,\"solidity\":0.2},\"type\":\"scatter\"}],\"parcoords\":[{\"type\":\"parcoords\",\"line\":{\"colorbar\":{\"outlinewidth\":0,\"ticks\":\"\"}}}],\"scatterpolargl\":[{\"type\":\"scatterpolargl\",\"marker\":{\"colorbar\":{\"outlinewidth\":0,\"ticks\":\"\"}}}],\"bar\":[{\"error_x\":{\"color\":\"#2a3f5f\"},\"error_y\":{\"color\":\"#2a3f5f\"},\"marker\":{\"line\":{\"color\":\"#E5ECF6\",\"width\":0.5},\"pattern\":{\"fillmode\":\"overlay\",\"size\":10,\"solidity\":0.2}},\"type\":\"bar\"}],\"scattergeo\":[{\"type\":\"scattergeo\",\"marker\":{\"colorbar\":{\"outlinewidth\":0,\"ticks\":\"\"}}}],\"scatterpolar\":[{\"type\":\"scatterpolar\",\"marker\":{\"colorbar\":{\"outlinewidth\":0,\"ticks\":\"\"}}}],\"histogram\":[{\"marker\":{\"pattern\":{\"fillmode\":\"overlay\",\"size\":10,\"solidity\":0.2}},\"type\":\"histogram\"}],\"scattergl\":[{\"type\":\"scattergl\",\"marker\":{\"colorbar\":{\"outlinewidth\":0,\"ticks\":\"\"}}}],\"scatter3d\":[{\"type\":\"scatter3d\",\"line\":{\"colorbar\":{\"outlinewidth\":0,\"ticks\":\"\"}},\"marker\":{\"colorbar\":{\"outlinewidth\":0,\"ticks\":\"\"}}}],\"scattermapbox\":[{\"type\":\"scattermapbox\",\"marker\":{\"colorbar\":{\"outlinewidth\":0,\"ticks\":\"\"}}}],\"scatterternary\":[{\"type\":\"scatterternary\",\"marker\":{\"colorbar\":{\"outlinewidth\":0,\"ticks\":\"\"}}}],\"scattercarpet\":[{\"type\":\"scattercarpet\",\"marker\":{\"colorbar\":{\"outlinewidth\":0,\"ticks\":\"\"}}}],\"carpet\":[{\"aaxis\":{\"endlinecolor\":\"#2a3f5f\",\"gridcolor\":\"white\",\"linecolor\":\"white\",\"minorgridcolor\":\"white\",\"startlinecolor\":\"#2a3f5f\"},\"baxis\":{\"endlinecolor\":\"#2a3f5f\",\"gridcolor\":\"white\",\"linecolor\":\"white\",\"minorgridcolor\":\"white\",\"startlinecolor\":\"#2a3f5f\"},\"type\":\"carpet\"}],\"table\":[{\"cells\":{\"fill\":{\"color\":\"#EBF0F8\"},\"line\":{\"color\":\"white\"}},\"header\":{\"fill\":{\"color\":\"#C8D4E3\"},\"line\":{\"color\":\"white\"}},\"type\":\"table\"}],\"barpolar\":[{\"marker\":{\"line\":{\"color\":\"#E5ECF6\",\"width\":0.5},\"pattern\":{\"fillmode\":\"overlay\",\"size\":10,\"solidity\":0.2}},\"type\":\"barpolar\"}],\"pie\":[{\"automargin\":true,\"type\":\"pie\"}]},\"layout\":{\"autotypenumbers\":\"strict\",\"colorway\":[\"#636efa\",\"#EF553B\",\"#00cc96\",\"#ab63fa\",\"#FFA15A\",\"#19d3f3\",\"#FF6692\",\"#B6E880\",\"#FF97FF\",\"#FECB52\"],\"font\":{\"color\":\"#2a3f5f\"},\"hovermode\":\"closest\",\"hoverlabel\":{\"align\":\"left\"},\"paper_bgcolor\":\"white\",\"plot_bgcolor\":\"#E5ECF6\",\"polar\":{\"bgcolor\":\"#E5ECF6\",\"angularaxis\":{\"gridcolor\":\"white\",\"linecolor\":\"white\",\"ticks\":\"\"},\"radialaxis\":{\"gridcolor\":\"white\",\"linecolor\":\"white\",\"ticks\":\"\"}},\"ternary\":{\"bgcolor\":\"#E5ECF6\",\"aaxis\":{\"gridcolor\":\"white\",\"linecolor\":\"white\",\"ticks\":\"\"},\"baxis\":{\"gridcolor\":\"white\",\"linecolor\":\"white\",\"ticks\":\"\"},\"caxis\":{\"gridcolor\":\"white\",\"linecolor\":\"white\",\"ticks\":\"\"}},\"coloraxis\":{\"colorbar\":{\"outlinewidth\":0,\"ticks\":\"\"}},\"colorscale\":{\"sequential\":[[0.0,\"#0d0887\"],[0.1111111111111111,\"#46039f\"],[0.2222222222222222,\"#7201a8\"],[0.3333333333333333,\"#9c179e\"],[0.4444444444444444,\"#bd3786\"],[0.5555555555555556,\"#d8576b\"],[0.6666666666666666,\"#ed7953\"],[0.7777777777777778,\"#fb9f3a\"],[0.8888888888888888,\"#fdca26\"],[1.0,\"#f0f921\"]],\"sequentialminus\":[[0.0,\"#0d0887\"],[0.1111111111111111,\"#46039f\"],[0.2222222222222222,\"#7201a8\"],[0.3333333333333333,\"#9c179e\"],[0.4444444444444444,\"#bd3786\"],[0.5555555555555556,\"#d8576b\"],[0.6666666666666666,\"#ed7953\"],[0.7777777777777778,\"#fb9f3a\"],[0.8888888888888888,\"#fdca26\"],[1.0,\"#f0f921\"]],\"diverging\":[[0,\"#8e0152\"],[0.1,\"#c51b7d\"],[0.2,\"#de77ae\"],[0.3,\"#f1b6da\"],[0.4,\"#fde0ef\"],[0.5,\"#f7f7f7\"],[0.6,\"#e6f5d0\"],[0.7,\"#b8e186\"],[0.8,\"#7fbc41\"],[0.9,\"#4d9221\"],[1,\"#276419\"]]},\"xaxis\":{\"gridcolor\":\"white\",\"linecolor\":\"white\",\"ticks\":\"\",\"title\":{\"standoff\":15},\"zerolinecolor\":\"white\",\"automargin\":true,\"zerolinewidth\":2},\"yaxis\":{\"gridcolor\":\"white\",\"linecolor\":\"white\",\"ticks\":\"\",\"title\":{\"standoff\":15},\"zerolinecolor\":\"white\",\"automargin\":true,\"zerolinewidth\":2},\"scene\":{\"xaxis\":{\"backgroundcolor\":\"#E5ECF6\",\"gridcolor\":\"white\",\"linecolor\":\"white\",\"showbackground\":true,\"ticks\":\"\",\"zerolinecolor\":\"white\",\"gridwidth\":2},\"yaxis\":{\"backgroundcolor\":\"#E5ECF6\",\"gridcolor\":\"white\",\"linecolor\":\"white\",\"showbackground\":true,\"ticks\":\"\",\"zerolinecolor\":\"white\",\"gridwidth\":2},\"zaxis\":{\"backgroundcolor\":\"#E5ECF6\",\"gridcolor\":\"white\",\"linecolor\":\"white\",\"showbackground\":true,\"ticks\":\"\",\"zerolinecolor\":\"white\",\"gridwidth\":2}},\"shapedefaults\":{\"line\":{\"color\":\"#2a3f5f\"}},\"annotationdefaults\":{\"arrowcolor\":\"#2a3f5f\",\"arrowhead\":0,\"arrowwidth\":1},\"geo\":{\"bgcolor\":\"white\",\"landcolor\":\"#E5ECF6\",\"subunitcolor\":\"white\",\"showland\":true,\"showlakes\":true,\"lakecolor\":\"white\"},\"title\":{\"x\":0.05},\"mapbox\":{\"style\":\"light\"}}},\"xaxis\":{\"anchor\":\"y\",\"domain\":[0.0,1.0],\"title\":{\"text\":\"value\"}},\"yaxis\":{\"anchor\":\"x\",\"domain\":[0.0,0.7326],\"title\":{\"text\":\"count\"}},\"xaxis2\":{\"anchor\":\"y2\",\"domain\":[0.0,1.0],\"matches\":\"x\",\"showticklabels\":false,\"showgrid\":true},\"yaxis2\":{\"anchor\":\"x2\",\"domain\":[0.7426,1.0],\"matches\":\"y2\",\"showticklabels\":false,\"showline\":false,\"ticks\":\"\",\"showgrid\":false},\"legend\":{\"title\":{\"text\":\"variable\"},\"tracegroupgap\":0},\"title\":{\"text\":\"Quantity - Without Outliers\"},\"barmode\":\"relative\"},                        {\"responsive\": true}                    ).then(function(){\n",
              "                            \n",
              "var gd = document.getElementById('94531a86-1f11-4173-93c4-b8f9bf08856c');\n",
              "var x = new MutationObserver(function (mutations, observer) {{\n",
              "        var display = window.getComputedStyle(gd).display;\n",
              "        if (!display || display === 'none') {{\n",
              "            console.log([gd, 'removed!']);\n",
              "            Plotly.purge(gd);\n",
              "            observer.disconnect();\n",
              "        }}\n",
              "}});\n",
              "\n",
              "// Listen for the removal of the full notebook cells\n",
              "var notebookContainer = gd.closest('#notebook-container');\n",
              "if (notebookContainer) {{\n",
              "    x.observe(notebookContainer, {childList: true});\n",
              "}}\n",
              "\n",
              "// Listen for the clearing of the current output cell\n",
              "var outputEl = gd.closest('.output');\n",
              "if (outputEl) {{\n",
              "    x.observe(outputEl, {childList: true});\n",
              "}}\n",
              "\n",
              "                        })                };                            </script>        </div>\n",
              "</body>\n",
              "</html>"
            ]
          },
          "metadata": {}
        }
      ]
    },
    {
      "cell_type": "code",
      "source": [
        "profile_serie(df_limpio['InvoiceDate'])"
      ],
      "metadata": {
        "colab": {
          "base_uri": "https://localhost:8080/",
          "height": 863
        },
        "outputId": "1d506b99-4d23-4668-e8f1-e02560e95fc7",
        "id": "ziQnVcL6Si6p"
      },
      "execution_count": 159,
      "outputs": [
        {
          "output_type": "display_data",
          "data": {
            "text/plain": [
              "<IPython.core.display.Markdown object>"
            ],
            "text/markdown": "## InvoiceDate Profile"
          },
          "metadata": {}
        },
        {
          "output_type": "display_data",
          "data": {
            "text/plain": [
              "Type                                     datetime64[ns]\n",
              "Number of observations                           509017\n",
              "Mean                      2010-06-29 00:33:25.061716480\n",
              "Min                                 2009-12-01 07:45:00\n",
              "25%                                 2010-03-21 15:56:00\n",
              "50%                                 2010-07-07 10:33:00\n",
              "75%                                 2010-10-17 10:13:00\n",
              "Max                                 2010-12-09 20:01:00\n",
              "                                                       \n",
              "Missing cells                                         0\n",
              "Missing cells (%)                                 0.0 %\n",
              "Duplicate rows                                   507443\n",
              "Duplicate rows (%)                              99.69 %\n",
              "Total size in memory                      4072264 bytes\n",
              "dtype: object"
            ]
          },
          "metadata": {}
        },
        {
          "output_type": "display_data",
          "data": {
            "text/html": [
              "<html>\n",
              "<head><meta charset=\"utf-8\" /></head>\n",
              "<body>\n",
              "    <div>            <script src=\"https://cdnjs.cloudflare.com/ajax/libs/mathjax/2.7.5/MathJax.js?config=TeX-AMS-MML_SVG\"></script><script type=\"text/javascript\">if (window.MathJax && window.MathJax.Hub && && window.MathJax.Hub.Config) {window.MathJax.Hub.Config({SVG: {font: \"STIX-Web\"}});}</script>                <script type=\"text/javascript\">window.PlotlyConfig = {MathJaxConfig: 'local'};</script>\n",
              "        <script src=\"https://cdn.plot.ly/plotly-2.12.1.min.js\"></script>                <div id=\"2721f0f4-0e55-4663-b7e0-f261df77a89c\" class=\"plotly-graph-div\" style=\"height:525px; width:100%;\"></div>            <script type=\"text/javascript\">                                    window.PLOTLYENV=window.PLOTLYENV || {};                                    if (document.getElementById(\"2721f0f4-0e55-4663-b7e0-f261df77a89c\")) {                    Plotly.newPlot(                        \"2721f0f4-0e55-4663-b7e0-f261df77a89c\",                        [{\"alignmentgroup\":\"True\",\"bingroup\":\"x\",\"hovertemplate\":\"variable=InvoiceDate<br>value=%{x}<br>count=%{y}<extra></extra>\",\"legendgroup\":\"InvoiceDate\",\"marker\":{\"color\":\"#636efa\",\"pattern\":{\"shape\":\"\"}},\"name\":\"InvoiceDate\",\"offsetgroup\":\"InvoiceDate\",\"orientation\":\"v\",\"showlegend\":true,\"x\":[\"2010-11-04T18:13:00\",\"2010-05-09T12:18:00\",\"2010-11-07T11:01:00\",\"2010-03-10T10:30:00\",\"2009-12-17T15:44:00\",\"2010-06-22T16:28:00\",\"2010-07-27T16:22:00\",\"2010-11-18T10:33:00\",\"2010-01-11T09:35:00\",\"2010-01-11T10:08:00\",\"2010-05-27T12:48:00\",\"2010-11-19T14:14:00\",\"2009-12-09T09:51:00\",\"2010-11-09T09:34:00\",\"2010-12-07T18:36:00\",\"2010-05-27T19:03:00\",\"2010-04-19T11:13:00\",\"2010-06-22T17:06:00\",\"2010-10-31T14:42:00\",\"2010-03-31T16:31:00\",\"2010-03-19T12:39:00\",\"2010-10-10T10:22:00\",\"2010-02-23T14:40:00\",\"2009-12-04T15:41:00\",\"2010-11-02T11:33:00\",\"2010-03-10T12:45:00\",\"2010-05-09T13:00:00\",\"2009-12-04T12:59:00\",\"2010-04-19T13:52:00\",\"2010-03-22T10:26:00\",\"2010-09-06T13:42:00\",\"2010-04-26T11:57:00\",\"2010-05-09T13:38:00\",\"2009-12-04T12:36:00\",\"2010-09-09T20:00:00\",\"2010-07-26T11:05:00\",\"2009-12-07T12:26:00\",\"2010-09-15T11:49:00\",\"2010-10-11T12:52:00\",\"2009-12-03T18:23:00\",\"2010-04-19T10:59:00\",\"2010-12-06T12:34:00\",\"2010-08-12T11:47:00\",\"2010-12-07T15:34:00\",\"2010-01-14T16:16:00\",\"2010-01-21T17:43:00\",\"2010-08-22T10:57:00\",\"2010-08-06T15:21:00\",\"2010-02-02T10:00:00\",\"2010-04-27T16:45:00\",\"2010-10-03T11:35:00\",\"2010-02-28T13:25:00\",\"2010-07-21T10:04:00\",\"2010-10-15T12:11:00\",\"2010-05-16T13:22:00\",\"2010-11-22T11:37:00\",\"2010-11-21T12:40:00\",\"2010-04-14T12:56:00\",\"2010-11-03T08:55:00\",\"2010-10-05T09:32:00\",\"2010-10-24T13:17:00\",\"2010-11-30T11:24:00\",\"2010-11-21T11:03:00\",\"2010-02-24T11:51:00\",\"2009-12-02T15:41:00\",\"2010-10-26T13:37:00\",\"2010-10-26T14:42:00\",\"2010-09-16T13:50:00\",\"2010-07-14T10:23:00\",\"2010-03-28T11:04:00\",\"2010-10-22T13:27:00\",\"2010-11-12T09:18:00\",\"2010-02-18T15:44:00\",\"2010-04-26T13:32:00\",\"2010-02-04T16:49:00\",\"2010-11-25T18:16:00\",\"2010-04-19T10:23:00\",\"2010-04-25T12:11:00\",\"2010-09-28T17:18:00\",\"2010-03-01T13:45:00\",\"2010-06-21T10:13:00\",\"2010-07-07T16:00:00\",\"2009-12-16T17:58:00\",\"2010-09-13T15:14:00\",\"2010-11-09T13:06:00\",\"2010-02-28T15:58:00\",\"2010-05-16T11:24:00\",\"2010-08-05T15:46:00\",\"2010-11-28T14:28:00\",\"2010-07-14T13:37:00\",\"2010-11-18T13:55:00\",\"2009-12-15T11:49:00\",\"2010-09-20T16:03:00\",\"2010-06-08T12:55:00\",\"2010-11-11T13:53:00\",\"2010-02-26T10:51:00\",\"2010-06-28T10:02:00\",\"2010-11-12T17:00:00\",\"2010-03-19T11:39:00\",\"2010-05-16T16:21:00\",\"2010-11-29T16:31:00\",\"2010-07-22T12:17:00\",\"2010-09-26T16:06:00\",\"2010-07-01T13:33:00\",\"2010-04-19T08:19:00\",\"2010-11-29T14:08:00\",\"2010-12-07T10:14:00\",\"2009-12-11T14:39:00\",\"2010-10-24T15:57:00\",\"2010-10-05T13:21:00\",\"2010-07-16T08:20:00\",\"2009-12-18T17:24:00\",\"2010-10-13T11:55:00\",\"2010-09-16T13:06:00\",\"2010-01-15T15:40:00\",\"2010-11-18T13:30:00\",\"2009-12-07T13:35:00\",\"2010-01-28T13:23:00\",\"2010-02-05T15:24:00\",\"2010-08-24T13:01:00\",\"2010-02-09T14:46:00\",\"2010-01-18T11:39:00\",\"2010-09-29T13:49:00\",\"2010-09-21T10:47:00\",\"2010-11-22T11:57:00\",\"2009-12-16T17:01:00\",\"2010-09-17T13:20:00\",\"2010-10-04T15:41:00\",\"2009-12-03T14:39:00\",\"2010-04-25T12:43:00\",\"2010-10-03T15:24:00\",\"2009-12-18T13:35:00\",\"2010-11-29T09:46:00\",\"2010-03-04T15:39:00\",\"2010-05-20T16:49:00\",\"2010-03-16T14:08:00\",\"2010-05-13T15:41:00\",\"2010-03-24T12:33:00\",\"2010-11-12T09:50:00\",\"2010-05-06T14:25:00\",\"2010-03-31T13:17:00\",\"2010-10-24T10:50:00\",\"2010-03-19T11:52:00\",\"2010-01-27T17:53:00\",\"2010-11-30T13:31:00\",\"2009-12-10T18:36:00\",\"2010-01-27T12:46:00\",\"2010-02-04T17:05:00\",\"2010-11-05T11:58:00\",\"2010-10-08T15:19:00\",\"2010-08-09T14:39:00\",\"2010-10-26T14:42:00\",\"2009-12-07T10:21:00\",\"2010-03-15T09:11:00\",\"2010-06-17T12:21:00\",\"2010-12-06T10:27:00\",\"2010-06-11T12:04:00\",\"2010-08-16T12:36:00\",\"2010-02-24T15:23:00\",\"2010-11-30T14:21:00\",\"2010-10-21T14:05:00\",\"2010-11-25T15:26:00\",\"2010-07-14T14:35:00\",\"2010-04-26T14:30:00\",\"2010-10-06T14:12:00\",\"2010-04-13T13:29:00\",\"2010-11-04T18:54:00\",\"2010-02-07T11:37:00\",\"2010-07-01T14:43:00\",\"2010-04-06T11:42:00\",\"2010-08-22T10:33:00\",\"2010-06-07T13:03:00\",\"2010-10-25T15:36:00\",\"2010-12-08T13:11:00\",\"2010-07-13T13:50:00\",\"2010-05-12T16:03:00\",\"2010-04-08T13:19:00\",\"2010-11-07T12:31:00\",\"2010-02-18T15:33:00\",\"2010-06-07T14:22:00\",\"2010-05-27T14:51:00\",\"2010-07-13T13:50:00\",\"2010-11-08T15:02:00\",\"2010-01-21T08:47:00\",\"2010-11-21T11:52:00\",\"2010-07-21T14:39:00\",\"2010-11-10T10:50:00\",\"2010-07-15T13:17:00\",\"2010-11-16T14:53:00\",\"2010-08-12T10:34:00\",\"2010-11-04T14:49:00\",\"2010-10-26T18:14:00\",\"2010-03-14T13:40:00\",\"2010-10-05T11:52:00\",\"2010-07-01T15:48:00\",\"2010-11-04T16:58:00\",\"2010-11-01T11:35:00\",\"2010-05-26T17:17:00\",\"2010-10-04T17:07:00\",\"2010-05-17T13:45:00\",\"2010-02-04T17:50:00\",\"2010-08-22T14:54:00\",\"2009-12-06T15:48:00\",\"2010-05-09T15:07:00\",\"2010-01-11T09:31:00\",\"2010-09-26T15:07:00\",\"2010-10-07T16:48:00\",\"2010-08-13T17:13:00\",\"2010-08-03T08:58:00\",\"2010-01-25T11:32:00\",\"2010-05-02T13:46:00\",\"2009-12-13T12:36:00\",\"2010-05-30T12:55:00\",\"2010-07-06T14:25:00\",\"2010-11-24T09:46:00\",\"2010-10-28T09:57:00\",\"2010-06-21T13:52:00\",\"2010-11-26T16:38:00\",\"2010-06-13T11:00:00\",\"2010-04-28T10:50:00\",\"2010-10-26T17:23:00\",\"2010-06-28T13:12:00\",\"2010-03-05T15:21:00\",\"2009-12-16T11:57:00\",\"2010-01-11T09:32:00\",\"2010-04-27T09:44:00\",\"2010-11-29T12:06:00\",\"2010-05-30T15:19:00\",\"2010-05-16T12:51:00\",\"2010-08-22T14:01:00\",\"2010-11-02T11:48:00\",\"2010-11-10T09:34:00\",\"2010-11-09T09:06:00\",\"2010-11-12T14:28:00\",\"2010-03-29T14:47:00\",\"2010-11-26T14:40:00\",\"2010-11-12T12:17:00\",\"2009-12-08T17:10:00\",\"2010-07-01T09:15:00\",\"2010-07-20T13:04:00\",\"2010-12-09T12:49:00\",\"2010-07-05T12:40:00\",\"2010-03-04T10:31:00\",\"2010-07-14T15:13:00\",\"2010-09-28T14:26:00\",\"2010-11-25T10:29:00\",\"2010-11-17T17:14:00\",\"2010-01-22T14:19:00\",\"2010-09-03T12:06:00\",\"2010-03-26T11:20:00\",\"2010-10-18T11:47:00\",\"2010-09-28T09:35:00\",\"2010-09-02T16:47:00\",\"2010-05-10T12:20:00\",\"2009-12-18T17:15:00\",\"2010-07-02T12:03:00\",\"2010-08-03T14:23:00\",\"2010-10-03T15:24:00\",\"2010-12-06T16:57:00\",\"2010-10-20T14:42:00\",\"2010-01-26T11:24:00\",\"2010-06-10T12:37:00\",\"2010-03-24T09:52:00\",\"2009-12-06T11:27:00\",\"2010-09-19T15:16:00\",\"2010-11-11T14:29:00\",\"2010-09-05T10:54:00\",\"2010-11-11T11:14:00\",\"2010-05-18T15:13:00\",\"2009-12-02T09:50:00\",\"2010-01-07T12:22:00\",\"2010-11-07T11:13:00\",\"2010-04-19T10:43:00\",\"2010-03-09T11:46:00\",\"2010-10-10T14:38:00\",\"2010-11-14T12:07:00\",\"2010-08-31T15:03:00\",\"2010-06-10T13:52:00\",\"2010-11-26T11:48:00\",\"2010-05-18T12:24:00\",\"2010-06-06T14:01:00\",\"2010-11-12T15:35:00\",\"2010-09-26T12:51:00\",\"2010-01-24T12:12:00\",\"2010-11-08T09:20:00\",\"2010-05-21T11:34:00\",\"2010-02-17T14:01:00\",\"2010-12-06T14:36:00\",\"2010-11-18T13:55:00\",\"2010-09-27T14:20:00\",\"2010-08-19T13:06:00\",\"2010-07-29T17:02:00\",\"2010-05-11T12:04:00\",\"2010-06-25T15:13:00\",\"2010-09-27T14:59:00\",\"2010-06-21T15:13:00\",\"2009-12-10T09:49:00\",\"2010-06-24T14:34:00\",\"2010-11-12T17:00:00\",\"2010-08-29T14:13:00\",\"2010-03-30T14:29:00\",\"2010-12-07T14:58:00\",\"2010-02-14T11:52:00\",\"2010-06-28T13:12:00\",\"2010-08-19T13:04:00\",\"2009-12-01T12:47:00\",\"2010-09-22T14:05:00\",\"2010-01-04T13:39:00\",\"2010-08-26T20:07:00\",\"2010-12-09T12:32:00\",\"2010-03-03T11:57:00\",\"2010-03-10T10:25:00\",\"2010-03-24T10:28:00\",\"2010-09-29T10:22:00\",\"2010-11-29T09:46:00\",\"2010-12-06T13:06:00\",\"2010-03-28T14:47:00\",\"2010-03-15T14:19:00\",\"2010-11-18T13:33:00\",\"2010-08-04T16:27:00\",\"2010-04-08T11:49:00\",\"2010-11-12T09:18:00\",\"2010-06-15T13:19:00\",\"2010-04-28T13:26:00\",\"2010-05-19T09:14:00\",\"2010-03-28T15:16:00\",\"2010-06-23T17:16:00\",\"2010-04-06T14:10:00\",\"2009-12-20T15:57:00\",\"2009-12-11T14:28:00\",\"2010-08-17T12:03:00\",\"2010-02-15T17:26:00\",\"2010-08-26T16:00:00\",\"2010-01-26T14:25:00\",\"2010-09-12T16:08:00\",\"2010-07-29T16:25:00\",\"2010-07-12T15:00:00\",\"2009-12-08T13:58:00\",\"2010-03-01T13:45:00\",\"2009-12-11T12:17:00\",\"2010-07-22T18:17:00\",\"2010-05-04T10:03:00\",\"2010-02-03T08:50:00\",\"2010-01-26T10:25:00\",\"2010-09-12T11:38:00\",\"2010-09-30T17:39:00\",\"2010-11-04T13:02:00\",\"2010-03-22T15:59:00\",\"2010-04-21T10:04:00\",\"2010-10-07T13:09:00\",\"2010-03-03T15:28:00\",\"2010-02-15T17:26:00\",\"2009-12-04T09:43:00\",\"2010-11-21T13:23:00\",\"2010-11-23T17:53:00\",\"2010-07-13T10:25:00\",\"2009-12-13T14:01:00\",\"2010-08-18T11:38:00\",\"2010-03-21T16:02:00\",\"2010-12-05T14:17:00\",\"2010-08-20T08:21:00\",\"2010-06-09T12:07:00\",\"2010-04-11T15:54:00\",\"2010-04-01T07:49:00\",\"2010-01-19T09:05:00\",\"2010-11-01T11:35:00\",\"2010-03-05T10:37:00\",\"2010-04-01T18:37:00\",\"2010-08-19T10:58:00\",\"2009-12-11T15:52:00\",\"2010-10-31T11:01:00\",\"2010-10-20T14:42:00\",\"2010-11-02T12:48:00\",\"2010-12-08T16:49:00\",\"2010-02-08T16:53:00\",\"2009-12-06T13:49:00\",\"2010-12-01T13:24:00\",\"2010-07-18T11:36:00\",\"2010-02-08T16:23:00\",\"2010-06-16T16:24:00\",\"2010-05-17T12:06:00\",\"2010-02-28T14:12:00\",\"2010-11-16T18:18:00\",\"2010-10-04T12:44:00\",\"2010-10-07T14:28:00\",\"2010-07-15T13:19:00\",\"2010-06-03T15:17:00\",\"2010-09-03T09:27:00\",\"2010-04-23T11:44:00\",\"2010-04-26T11:57:00\",\"2010-08-04T09:39:00\",\"2009-12-04T12:37:00\",\"2010-03-08T15:49:00\",\"2010-01-24T15:14:00\",\"2010-08-15T16:00:00\",\"2010-10-08T10:23:00\",\"2010-10-07T17:37:00\",\"2010-09-20T15:12:00\",\"2010-11-09T17:41:00\",\"2010-05-09T13:59:00\",\"2009-12-03T14:39:00\",\"2010-05-26T11:12:00\",\"2010-05-13T12:47:00\",\"2010-04-01T16:55:00\",\"2010-05-16T14:41:00\",\"2009-12-20T13:09:00\",\"2010-10-14T17:09:00\",\"2010-08-10T14:08:00\",\"2010-02-17T13:10:00\",\"2009-12-10T15:52:00\",\"2010-10-18T09:28:00\",\"2010-10-27T12:26:00\",\"2010-11-28T13:51:00\",\"2010-11-09T11:50:00\",\"2010-10-15T13:02:00\",\"2010-02-01T12:36:00\",\"2010-05-16T16:05:00\",\"2010-11-15T15:03:00\",\"2010-05-25T13:51:00\",\"2010-05-05T14:09:00\",\"2010-11-16T07:52:00\",\"2010-04-09T10:17:00\",\"2009-12-15T18:33:00\",\"2009-12-16T17:01:00\",\"2010-08-12T15:01:00\",\"2010-09-01T10:47:00\",\"2010-06-06T12:13:00\",\"2010-07-02T13:36:00\",\"2010-11-28T11:37:00\",\"2010-03-04T12:39:00\",\"2010-11-19T11:37:00\",\"2010-08-12T16:41:00\",\"2010-04-07T10:59:00\",\"2010-10-17T10:42:00\",\"2010-11-08T15:42:00\",\"2010-04-18T10:37:00\",\"2010-06-16T16:42:00\",\"2010-09-21T12:17:00\",\"2010-03-24T12:43:00\",\"2009-12-18T15:57:00\",\"2010-06-15T12:41:00\",\"2010-07-07T16:29:00\",\"2010-02-14T15:38:00\",\"2009-12-03T07:25:00\",\"2010-11-23T09:12:00\",\"2009-12-02T14:36:00\",\"2010-11-25T15:19:00\",\"2010-10-24T16:13:00\",\"2010-02-18T18:20:00\",\"2009-12-18T17:06:00\",\"2010-03-12T15:17:00\",\"2009-12-14T17:57:00\",\"2010-12-08T14:43:00\",\"2009-12-14T17:57:00\",\"2010-05-17T15:30:00\",\"2010-06-15T12:14:00\",\"2010-10-07T15:09:00\",\"2010-07-02T12:41:00\",\"2010-09-03T10:49:00\",\"2010-04-11T13:49:00\",\"2010-04-26T14:22:00\",\"2010-05-27T14:38:00\",\"2010-11-11T15:25:00\",\"2009-12-14T13:11:00\",\"2010-04-28T13:42:00\",\"2010-04-29T17:57:00\",\"2010-04-27T11:58:00\",\"2009-12-07T18:02:00\",\"2010-05-18T15:13:00\",\"2010-05-07T17:49:00\",\"2010-11-11T11:18:00\",\"2010-04-07T11:59:00\",\"2010-10-11T14:33:00\",\"2009-12-03T12:40:00\",\"2010-09-16T15:07:00\",\"2010-11-17T13:09:00\",\"2010-11-14T13:38:00\",\"2010-10-31T11:22:00\",\"2009-12-16T11:57:00\",\"2010-03-31T16:31:00\",\"2010-11-18T14:17:00\",\"2010-09-30T14:25:00\",\"2010-01-13T17:03:00\",\"2010-03-12T09:21:00\",\"2010-04-29T16:22:00\",\"2010-08-11T15:40:00\",\"2010-12-02T08:43:00\",\"2010-08-19T19:39:00\",\"2010-11-22T13:02:00\",\"2010-12-03T11:36:00\",\"2010-03-03T15:28:00\",\"2010-01-25T08:17:00\",\"2010-09-28T09:12:00\",\"2010-06-22T16:28:00\",\"2010-11-07T13:45:00\",\"2010-11-18T14:17:00\",\"2010-11-28T14:28:00\",\"2010-11-04T16:03:00\",\"2010-10-12T13:19:00\",\"2009-12-15T15:36:00\",\"2009-12-01T12:57:00\",\"2010-04-01T12:07:00\",\"2009-12-06T12:17:00\",\"2009-12-21T11:31:00\",\"2010-08-15T11:55:00\",\"2010-10-03T11:53:00\",\"2010-09-29T13:15:00\",\"2010-03-18T14:09:00\",\"2010-01-31T12:49:00\",\"2010-04-12T09:13:00\",\"2010-06-01T12:44:00\",\"2010-12-07T14:41:00\",\"2010-10-11T12:52:00\",\"2010-08-22T11:47:00\",\"2009-12-13T16:05:00\",\"2010-12-07T15:31:00\",\"2010-10-31T13:35:00\",\"2010-08-27T14:41:00\",\"2010-12-07T15:28:00\",\"2010-09-30T13:57:00\",\"2010-08-25T12:16:00\",\"2010-02-18T12:16:00\",\"2010-11-05T09:35:00\",\"2010-02-26T10:51:00\",\"2010-01-13T15:24:00\",\"2010-04-13T16:07:00\",\"2010-08-06T14:52:00\",\"2010-09-29T16:31:00\",\"2009-12-16T11:23:00\",\"2009-12-05T15:18:00\",\"2010-01-31T11:54:00\",\"2010-06-16T12:48:00\",\"2010-03-05T09:07:00\",\"2010-11-11T13:50:00\",\"2010-08-18T11:34:00\",\"2009-12-02T14:43:00\",\"2010-04-18T13:53:00\",\"2010-05-24T12:01:00\",\"2010-11-28T10:18:00\",\"2010-09-06T13:36:00\",\"2010-06-04T12:23:00\",\"2010-11-05T10:23:00\",\"2010-03-07T14:37:00\",\"2010-12-02T17:48:00\",\"2010-09-23T13:38:00\",\"2010-10-15T12:11:00\",\"2010-02-19T12:34:00\",\"2010-12-06T15:34:00\",\"2010-11-23T16:49:00\",\"2010-03-01T13:22:00\",\"2010-01-18T10:29:00\",\"2010-11-10T12:38:00\",\"2010-11-29T09:46:00\",\"2010-06-17T16:20:00\",\"2010-05-11T11:29:00\",\"2010-06-07T14:22:00\",\"2010-08-26T15:54:00\",\"2010-02-01T11:56:00\",\"2010-10-11T11:04:00\",\"2010-05-27T17:56:00\",\"2010-12-07T15:39:00\",\"2010-10-28T09:59:00\",\"2010-02-24T12:06:00\",\"2010-09-06T14:36:00\",\"2009-12-08T15:49:00\",\"2009-12-03T07:25:00\",\"2010-03-05T11:17:00\",\"2009-12-14T18:03:00\",\"2010-03-10T10:25:00\",\"2009-12-16T17:27:00\",\"2010-02-16T17:24:00\",\"2010-03-17T10:22:00\",\"2010-10-17T13:28:00\",\"2010-09-30T14:19:00\",\"2009-12-22T12:03:00\",\"2010-12-06T14:51:00\",\"2010-09-10T17:19:00\",\"2010-03-04T17:29:00\",\"2010-11-14T11:45:00\",\"2009-12-07T11:55:00\",\"2010-10-18T11:25:00\",\"2010-06-01T13:49:00\",\"2010-11-26T14:22:00\",\"2010-10-29T14:12:00\",\"2010-01-18T13:15:00\",\"2010-11-19T11:12:00\",\"2010-11-17T12:03:00\",\"2010-08-18T14:43:00\",\"2010-11-12T12:15:00\",\"2010-11-10T15:32:00\",\"2010-09-06T13:20:00\",\"2010-04-13T11:04:00\",\"2010-12-05T12:57:00\",\"2010-11-09T15:07:00\",\"2010-02-03T15:19:00\",\"2010-11-21T15:56:00\",\"2010-07-21T14:39:00\",\"2010-11-22T13:02:00\",\"2010-01-05T13:23:00\",\"2010-06-23T08:14:00\",\"2009-12-07T17:56:00\",\"2010-09-13T16:15:00\",\"2010-11-23T15:07:00\",\"2010-11-12T15:40:00\",\"2009-12-17T10:17:00\",\"2010-11-28T11:27:00\",\"2010-06-21T12:51:00\",\"2010-12-01T10:52:00\",\"2010-05-28T11:13:00\",\"2010-02-04T12:18:00\",\"2010-05-27T12:36:00\",\"2009-12-13T11:46:00\",\"2010-06-29T15:17:00\",\"2010-08-31T12:30:00\",\"2010-01-07T16:57:00\",\"2010-11-11T13:50:00\",\"2010-03-15T17:32:00\",\"2010-08-18T16:21:00\",\"2010-10-15T12:52:00\",\"2010-07-19T10:07:00\",\"2010-09-07T17:19:00\",\"2010-11-23T11:43:00\",\"2010-03-10T14:24:00\",\"2010-09-23T12:33:00\",\"2010-10-19T11:53:00\",\"2010-06-04T13:47:00\",\"2010-05-05T10:47:00\",\"2010-11-08T10:51:00\",\"2010-11-12T09:50:00\",\"2010-03-03T14:20:00\",\"2010-11-14T13:03:00\",\"2010-10-19T10:58:00\",\"2010-11-17T09:23:00\",\"2010-02-05T14:14:00\",\"2010-12-02T11:57:00\",\"2010-02-17T09:53:00\",\"2010-05-21T16:37:00\",\"2009-12-04T09:43:00\",\"2010-03-05T14:41:00\",\"2010-10-25T16:43:00\",\"2010-11-01T13:26:00\",\"2010-10-03T13:47:00\",\"2010-04-21T15:08:00\",\"2010-04-30T12:46:00\",\"2010-05-17T12:05:00\",\"2010-04-11T15:54:00\",\"2010-10-26T08:11:00\",\"2010-01-28T19:28:00\",\"2010-07-26T13:07:00\",\"2010-09-23T14:47:00\",\"2010-02-19T13:29:00\",\"2010-09-28T15:07:00\",\"2010-06-08T12:36:00\",\"2010-11-04T16:10:00\",\"2010-02-22T12:44:00\",\"2010-01-22T12:46:00\",\"2010-03-16T13:28:00\",\"2010-11-01T11:35:00\",\"2010-05-09T12:12:00\",\"2010-05-27T13:10:00\",\"2010-03-03T14:10:00\",\"2010-11-10T12:09:00\",\"2010-02-08T09:38:00\",\"2010-10-24T16:03:00\",\"2010-04-09T09:26:00\",\"2010-02-09T10:49:00\",\"2010-10-17T12:52:00\",\"2010-05-13T14:31:00\",\"2010-08-10T12:08:00\",\"2010-06-29T15:15:00\",\"2010-04-08T09:43:00\",\"2010-05-02T13:46:00\",\"2010-04-06T13:42:00\",\"2010-11-15T13:49:00\",\"2010-06-29T10:52:00\",\"2010-10-27T16:38:00\",\"2010-11-26T12:00:00\",\"2010-08-17T11:45:00\",\"2010-01-08T13:19:00\",\"2010-09-16T14:34:00\",\"2010-12-01T13:24:00\",\"2010-10-21T19:28:00\",\"2010-10-03T15:55:00\",\"2010-06-30T15:55:00\",\"2009-12-13T12:42:00\",\"2010-09-30T09:39:00\",\"2010-04-14T14:38:00\",\"2010-02-14T12:36:00\",\"2010-11-22T11:52:00\",\"2010-05-17T11:46:00\",\"2010-09-30T12:16:00\",\"2010-01-19T13:23:00\",\"2010-02-14T12:28:00\",\"2010-03-04T15:44:00\",\"2010-11-25T12:18:00\",\"2010-03-07T16:12:00\",\"2010-03-10T15:25:00\",\"2010-09-08T09:23:00\",\"2010-05-06T19:49:00\",\"2010-11-16T13:04:00\",\"2010-02-21T15:28:00\",\"2010-11-02T13:57:00\",\"2010-06-16T11:17:00\",\"2009-12-03T12:13:00\",\"2010-11-22T14:39:00\",\"2010-07-28T13:36:00\",\"2010-05-26T08:27:00\",\"2010-05-04T10:02:00\",\"2010-01-11T12:29:00\",\"2010-08-22T12:52:00\",\"2010-05-19T11:59:00\",\"2010-06-06T11:35:00\",\"2009-12-07T13:49:00\",\"2010-11-19T15:13:00\",\"2010-07-05T16:59:00\",\"2010-07-05T12:50:00\",\"2010-09-02T13:27:00\",\"2010-02-14T14:35:00\",\"2010-11-10T12:24:00\",\"2010-04-01T12:56:00\",\"2009-12-17T10:30:00\",\"2010-12-05T13:42:00\",\"2010-06-24T12:10:00\",\"2010-04-07T16:22:00\",\"2009-12-10T09:49:00\",\"2010-12-07T15:48:00\",\"2009-12-09T15:03:00\",\"2010-10-15T11:45:00\",\"2010-10-29T14:12:00\",\"2010-09-24T12:06:00\",\"2009-12-03T09:52:00\",\"2010-07-02T11:27:00\",\"2010-11-07T12:51:00\",\"2010-07-27T14:08:00\",\"2010-12-01T11:57:00\",\"2009-12-18T12:23:00\",\"2010-01-11T09:37:00\",\"2010-10-05T11:52:00\",\"2010-02-28T11:55:00\",\"2010-09-29T13:47:00\",\"2010-09-13T15:23:00\",\"2010-01-19T12:15:00\",\"2010-05-13T16:05:00\",\"2010-03-31T13:09:00\",\"2010-11-17T16:48:00\",\"2010-04-07T12:45:00\",\"2010-10-13T15:37:00\",\"2010-01-15T16:52:00\",\"2010-06-16T13:47:00\",\"2010-05-09T12:10:00\",\"2010-11-08T12:21:00\",\"2010-02-23T10:50:00\",\"2010-10-11T14:21:00\",\"2010-05-16T14:41:00\",\"2010-08-17T15:49:00\",\"2010-10-25T11:43:00\",\"2010-01-24T11:15:00\",\"2010-11-16T12:22:00\",\"2010-01-29T10:25:00\",\"2010-01-17T11:31:00\",\"2010-02-21T12:42:00\",\"2010-10-24T15:29:00\",\"2010-07-15T12:06:00\",\"2010-03-23T11:41:00\",\"2010-10-08T12:58:00\",\"2010-04-23T11:36:00\",\"2009-12-13T16:03:00\",\"2010-11-11T14:30:00\",\"2010-10-25T16:57:00\",\"2010-02-09T17:38:00\",\"2010-10-31T15:54:00\",\"2009-12-23T13:00:00\",\"2010-02-04T16:40:00\",\"2010-10-21T11:55:00\",\"2009-12-20T10:08:00\",\"2010-07-19T10:31:00\",\"2009-12-07T18:02:00\",\"2010-05-25T15:21:00\",\"2010-08-06T14:00:00\",\"2010-04-20T13:28:00\",\"2010-06-24T12:49:00\",\"2010-05-13T15:21:00\",\"2010-11-18T19:55:00\",\"2010-08-12T15:38:00\",\"2010-02-18T18:29:00\",\"2010-03-21T13:14:00\",\"2010-11-10T09:34:00\",\"2010-07-22T19:23:00\",\"2010-11-19T16:41:00\",\"2010-05-27T12:36:00\",\"2010-05-05T14:42:00\",\"2010-09-14T13:56:00\",\"2010-08-26T15:42:00\",\"2010-06-21T13:22:00\",\"2010-03-08T12:35:00\",\"2010-11-22T12:36:00\",\"2009-12-09T09:42:00\",\"2010-05-24T15:57:00\",\"2010-04-22T09:50:00\",\"2010-11-29T09:46:00\",\"2010-07-01T14:11:00\",\"2010-11-12T12:15:00\",\"2010-08-13T14:46:00\",\"2010-10-20T12:26:00\",\"2010-05-28T13:23:00\",\"2010-05-16T12:44:00\",\"2009-12-16T12:06:00\",\"2010-01-10T11:58:00\",\"2010-05-26T15:11:00\",\"2010-11-23T09:12:00\",\"2010-01-31T16:02:00\",\"2010-01-14T17:43:00\",\"2010-08-01T12:38:00\",\"2010-09-02T17:52:00\",\"2010-06-11T15:03:00\",\"2010-07-07T11:57:00\",\"2010-11-12T15:05:00\",\"2010-02-25T16:11:00\",\"2010-10-31T16:26:00\",\"2010-07-08T09:13:00\",\"2009-12-16T13:15:00\",\"2010-02-10T14:51:00\",\"2009-12-18T09:16:00\",\"2010-11-12T15:20:00\",\"2010-09-12T16:17:00\",\"2010-10-29T13:58:00\",\"2010-11-24T15:09:00\",\"2010-10-12T13:22:00\",\"2010-03-03T10:19:00\",\"2010-09-15T12:16:00\",\"2010-07-23T15:10:00\",\"2009-12-14T15:51:00\",\"2010-04-18T11:24:00\",\"2010-01-31T11:54:00\",\"2009-12-10T17:27:00\",\"2010-02-26T10:51:00\",\"2010-02-21T12:52:00\",\"2010-11-29T15:39:00\",\"2010-01-14T09:41:00\",\"2010-01-20T12:05:00\",\"2010-05-07T15:25:00\",\"2010-05-23T11:45:00\",\"2010-11-18T13:55:00\",\"2009-12-16T13:49:00\",\"2010-09-16T11:40:00\",\"2010-11-21T13:23:00\",\"2010-06-08T16:47:00\",\"2010-03-16T16:59:00\",\"2009-12-01T12:14:00\",\"2010-01-25T09:12:00\",\"2009-12-14T18:03:00\",\"2009-12-08T13:58:00\",\"2010-10-28T14:11:00\",\"2009-12-17T11:38:00\",\"2010-03-01T11:45:00\",\"2009-12-03T14:39:00\",\"2010-10-31T11:32:00\",\"2010-02-21T11:02:00\",\"2010-05-16T12:56:00\",\"2010-03-03T14:43:00\",\"2010-10-24T10:56:00\",\"2009-12-04T09:43:00\",\"2010-11-09T15:45:00\",\"2010-11-19T15:50:00\",\"2010-04-29T13:50:00\",\"2010-05-23T10:57:00\",\"2010-05-18T13:24:00\",\"2010-03-31T10:49:00\",\"2010-03-19T11:39:00\",\"2010-03-31T11:39:00\",\"2010-09-06T11:22:00\",\"2010-06-06T10:56:00\",\"2010-03-18T16:35:00\",\"2010-08-19T16:53:00\",\"2010-02-09T17:38:00\",\"2010-06-29T15:04:00\",\"2010-11-28T16:21:00\",\"2010-04-06T13:37:00\",\"2010-02-14T13:39:00\",\"2010-12-08T14:25:00\",\"2010-09-13T15:12:00\",\"2010-10-20T12:16:00\",\"2010-06-09T15:15:00\",\"2010-12-07T10:32:00\",\"2009-12-09T09:42:00\",\"2009-12-01T13:47:00\",\"2010-10-19T12:16:00\",\"2010-02-18T10:26:00\",\"2010-05-24T12:01:00\",\"2010-01-20T17:50:00\",\"2010-04-08T14:47:00\",\"2009-12-21T09:00:00\",\"2010-04-28T11:55:00\",\"2010-10-12T12:20:00\",\"2010-09-12T15:38:00\",\"2009-12-02T14:43:00\",\"2010-03-07T14:05:00\",\"2009-12-10T09:49:00\",\"2010-04-20T16:21:00\",\"2010-04-13T11:27:00\",\"2010-11-12T15:20:00\",\"2009-12-04T15:40:00\",\"2010-01-11T09:35:00\",\"2010-04-14T11:01:00\",\"2010-02-25T13:40:00\",\"2010-04-28T13:18:00\",\"2010-09-21T17:50:00\",\"2010-11-07T12:03:00\",\"2009-12-17T13:41:00\",\"2010-05-27T20:20:00\",\"2010-11-29T11:54:00\",\"2010-10-29T13:44:00\",\"2010-11-03T14:00:00\",\"2010-11-01T11:35:00\",\"2009-12-01T11:45:00\",\"2010-11-21T13:36:00\",\"2010-05-11T15:31:00\",\"2010-11-24T13:56:00\",\"2010-08-04T12:03:00\",\"2010-11-24T09:54:00\",\"2010-03-12T10:09:00\",\"2010-11-14T15:17:00\",\"2010-09-15T11:44:00\",\"2010-02-25T13:31:00\",\"2010-01-24T15:14:00\",\"2010-10-15T09:31:00\",\"2010-06-21T13:18:00\",\"2010-03-17T12:47:00\",\"2009-12-10T11:27:00\",\"2010-02-24T13:04:00\",\"2010-11-11T12:23:00\",\"2010-11-01T16:45:00\",\"2010-08-11T11:51:00\",\"2010-11-08T09:20:00\",\"2010-06-03T15:39:00\",\"2010-11-28T11:57:00\",\"2010-08-23T09:23:00\",\"2009-12-03T16:09:00\",\"2010-11-26T09:49:00\",\"2010-10-06T13:24:00\",\"2010-06-24T11:39:00\",\"2010-11-10T09:34:00\",\"2010-02-28T11:37:00\",\"2009-12-02T10:00:00\",\"2010-10-11T13:49:00\",\"2010-11-23T13:36:00\",\"2010-11-30T08:58:00\",\"2010-01-07T12:37:00\",\"2010-05-07T10:19:00\",\"2009-12-04T12:36:00\",\"2009-12-22T09:52:00\",\"2010-09-15T13:35:00\",\"2010-10-29T14:12:00\",\"2010-09-16T19:17:00\",\"2010-08-16T09:20:00\",\"2010-02-19T11:08:00\",\"2010-06-08T15:25:00\",\"2010-09-30T12:16:00\",\"2010-05-18T11:40:00\",\"2010-07-21T14:48:00\",\"2010-10-31T10:45:00\",\"2010-10-11T13:49:00\",\"2010-03-05T11:56:00\",\"2010-11-16T12:22:00\",\"2010-10-28T14:19:00\",\"2010-11-17T13:46:00\",\"2010-08-04T16:27:00\",\"2010-09-02T13:57:00\",\"2010-05-19T12:47:00\",\"2010-11-29T10:41:00\",\"2010-03-10T10:53:00\",\"2009-12-02T14:21:00\",\"2010-11-29T11:48:00\",\"2010-07-16T13:53:00\",\"2010-02-05T13:17:00\",\"2010-03-29T15:07:00\",\"2010-01-28T11:33:00\",\"2010-06-16T14:34:00\",\"2010-07-20T16:33:00\",\"2010-07-06T12:38:00\",\"2010-09-23T16:09:00\",\"2010-09-20T12:41:00\",\"2010-01-24T14:57:00\",\"2010-11-04T13:14:00\",\"2010-06-10T11:37:00\",\"2010-10-19T11:10:00\",\"2010-11-10T16:40:00\",\"2010-04-28T14:53:00\",\"2010-11-05T11:58:00\",\"2010-12-05T10:45:00\",\"2010-05-17T14:36:00\",\"2010-11-04T11:59:00\",\"2010-07-05T10:29:00\",\"2010-05-26T13:34:00\",\"2010-07-16T15:11:00\",\"2010-11-18T13:51:00\",\"2010-02-21T14:41:00\",\"2010-12-02T10:17:00\",\"2010-04-29T11:18:00\",\"2010-04-13T12:21:00\"],\"xaxis\":\"x\",\"yaxis\":\"y\",\"type\":\"histogram\"},{\"alignmentgroup\":\"True\",\"hovertemplate\":\"variable=InvoiceDate<br>value=%{x}<extra></extra>\",\"legendgroup\":\"InvoiceDate\",\"marker\":{\"color\":\"#636efa\"},\"name\":\"InvoiceDate\",\"notched\":true,\"offsetgroup\":\"InvoiceDate\",\"showlegend\":false,\"x\":[\"2010-11-04T18:13:00\",\"2010-05-09T12:18:00\",\"2010-11-07T11:01:00\",\"2010-03-10T10:30:00\",\"2009-12-17T15:44:00\",\"2010-06-22T16:28:00\",\"2010-07-27T16:22:00\",\"2010-11-18T10:33:00\",\"2010-01-11T09:35:00\",\"2010-01-11T10:08:00\",\"2010-05-27T12:48:00\",\"2010-11-19T14:14:00\",\"2009-12-09T09:51:00\",\"2010-11-09T09:34:00\",\"2010-12-07T18:36:00\",\"2010-05-27T19:03:00\",\"2010-04-19T11:13:00\",\"2010-06-22T17:06:00\",\"2010-10-31T14:42:00\",\"2010-03-31T16:31:00\",\"2010-03-19T12:39:00\",\"2010-10-10T10:22:00\",\"2010-02-23T14:40:00\",\"2009-12-04T15:41:00\",\"2010-11-02T11:33:00\",\"2010-03-10T12:45:00\",\"2010-05-09T13:00:00\",\"2009-12-04T12:59:00\",\"2010-04-19T13:52:00\",\"2010-03-22T10:26:00\",\"2010-09-06T13:42:00\",\"2010-04-26T11:57:00\",\"2010-05-09T13:38:00\",\"2009-12-04T12:36:00\",\"2010-09-09T20:00:00\",\"2010-07-26T11:05:00\",\"2009-12-07T12:26:00\",\"2010-09-15T11:49:00\",\"2010-10-11T12:52:00\",\"2009-12-03T18:23:00\",\"2010-04-19T10:59:00\",\"2010-12-06T12:34:00\",\"2010-08-12T11:47:00\",\"2010-12-07T15:34:00\",\"2010-01-14T16:16:00\",\"2010-01-21T17:43:00\",\"2010-08-22T10:57:00\",\"2010-08-06T15:21:00\",\"2010-02-02T10:00:00\",\"2010-04-27T16:45:00\",\"2010-10-03T11:35:00\",\"2010-02-28T13:25:00\",\"2010-07-21T10:04:00\",\"2010-10-15T12:11:00\",\"2010-05-16T13:22:00\",\"2010-11-22T11:37:00\",\"2010-11-21T12:40:00\",\"2010-04-14T12:56:00\",\"2010-11-03T08:55:00\",\"2010-10-05T09:32:00\",\"2010-10-24T13:17:00\",\"2010-11-30T11:24:00\",\"2010-11-21T11:03:00\",\"2010-02-24T11:51:00\",\"2009-12-02T15:41:00\",\"2010-10-26T13:37:00\",\"2010-10-26T14:42:00\",\"2010-09-16T13:50:00\",\"2010-07-14T10:23:00\",\"2010-03-28T11:04:00\",\"2010-10-22T13:27:00\",\"2010-11-12T09:18:00\",\"2010-02-18T15:44:00\",\"2010-04-26T13:32:00\",\"2010-02-04T16:49:00\",\"2010-11-25T18:16:00\",\"2010-04-19T10:23:00\",\"2010-04-25T12:11:00\",\"2010-09-28T17:18:00\",\"2010-03-01T13:45:00\",\"2010-06-21T10:13:00\",\"2010-07-07T16:00:00\",\"2009-12-16T17:58:00\",\"2010-09-13T15:14:00\",\"2010-11-09T13:06:00\",\"2010-02-28T15:58:00\",\"2010-05-16T11:24:00\",\"2010-08-05T15:46:00\",\"2010-11-28T14:28:00\",\"2010-07-14T13:37:00\",\"2010-11-18T13:55:00\",\"2009-12-15T11:49:00\",\"2010-09-20T16:03:00\",\"2010-06-08T12:55:00\",\"2010-11-11T13:53:00\",\"2010-02-26T10:51:00\",\"2010-06-28T10:02:00\",\"2010-11-12T17:00:00\",\"2010-03-19T11:39:00\",\"2010-05-16T16:21:00\",\"2010-11-29T16:31:00\",\"2010-07-22T12:17:00\",\"2010-09-26T16:06:00\",\"2010-07-01T13:33:00\",\"2010-04-19T08:19:00\",\"2010-11-29T14:08:00\",\"2010-12-07T10:14:00\",\"2009-12-11T14:39:00\",\"2010-10-24T15:57:00\",\"2010-10-05T13:21:00\",\"2010-07-16T08:20:00\",\"2009-12-18T17:24:00\",\"2010-10-13T11:55:00\",\"2010-09-16T13:06:00\",\"2010-01-15T15:40:00\",\"2010-11-18T13:30:00\",\"2009-12-07T13:35:00\",\"2010-01-28T13:23:00\",\"2010-02-05T15:24:00\",\"2010-08-24T13:01:00\",\"2010-02-09T14:46:00\",\"2010-01-18T11:39:00\",\"2010-09-29T13:49:00\",\"2010-09-21T10:47:00\",\"2010-11-22T11:57:00\",\"2009-12-16T17:01:00\",\"2010-09-17T13:20:00\",\"2010-10-04T15:41:00\",\"2009-12-03T14:39:00\",\"2010-04-25T12:43:00\",\"2010-10-03T15:24:00\",\"2009-12-18T13:35:00\",\"2010-11-29T09:46:00\",\"2010-03-04T15:39:00\",\"2010-05-20T16:49:00\",\"2010-03-16T14:08:00\",\"2010-05-13T15:41:00\",\"2010-03-24T12:33:00\",\"2010-11-12T09:50:00\",\"2010-05-06T14:25:00\",\"2010-03-31T13:17:00\",\"2010-10-24T10:50:00\",\"2010-03-19T11:52:00\",\"2010-01-27T17:53:00\",\"2010-11-30T13:31:00\",\"2009-12-10T18:36:00\",\"2010-01-27T12:46:00\",\"2010-02-04T17:05:00\",\"2010-11-05T11:58:00\",\"2010-10-08T15:19:00\",\"2010-08-09T14:39:00\",\"2010-10-26T14:42:00\",\"2009-12-07T10:21:00\",\"2010-03-15T09:11:00\",\"2010-06-17T12:21:00\",\"2010-12-06T10:27:00\",\"2010-06-11T12:04:00\",\"2010-08-16T12:36:00\",\"2010-02-24T15:23:00\",\"2010-11-30T14:21:00\",\"2010-10-21T14:05:00\",\"2010-11-25T15:26:00\",\"2010-07-14T14:35:00\",\"2010-04-26T14:30:00\",\"2010-10-06T14:12:00\",\"2010-04-13T13:29:00\",\"2010-11-04T18:54:00\",\"2010-02-07T11:37:00\",\"2010-07-01T14:43:00\",\"2010-04-06T11:42:00\",\"2010-08-22T10:33:00\",\"2010-06-07T13:03:00\",\"2010-10-25T15:36:00\",\"2010-12-08T13:11:00\",\"2010-07-13T13:50:00\",\"2010-05-12T16:03:00\",\"2010-04-08T13:19:00\",\"2010-11-07T12:31:00\",\"2010-02-18T15:33:00\",\"2010-06-07T14:22:00\",\"2010-05-27T14:51:00\",\"2010-07-13T13:50:00\",\"2010-11-08T15:02:00\",\"2010-01-21T08:47:00\",\"2010-11-21T11:52:00\",\"2010-07-21T14:39:00\",\"2010-11-10T10:50:00\",\"2010-07-15T13:17:00\",\"2010-11-16T14:53:00\",\"2010-08-12T10:34:00\",\"2010-11-04T14:49:00\",\"2010-10-26T18:14:00\",\"2010-03-14T13:40:00\",\"2010-10-05T11:52:00\",\"2010-07-01T15:48:00\",\"2010-11-04T16:58:00\",\"2010-11-01T11:35:00\",\"2010-05-26T17:17:00\",\"2010-10-04T17:07:00\",\"2010-05-17T13:45:00\",\"2010-02-04T17:50:00\",\"2010-08-22T14:54:00\",\"2009-12-06T15:48:00\",\"2010-05-09T15:07:00\",\"2010-01-11T09:31:00\",\"2010-09-26T15:07:00\",\"2010-10-07T16:48:00\",\"2010-08-13T17:13:00\",\"2010-08-03T08:58:00\",\"2010-01-25T11:32:00\",\"2010-05-02T13:46:00\",\"2009-12-13T12:36:00\",\"2010-05-30T12:55:00\",\"2010-07-06T14:25:00\",\"2010-11-24T09:46:00\",\"2010-10-28T09:57:00\",\"2010-06-21T13:52:00\",\"2010-11-26T16:38:00\",\"2010-06-13T11:00:00\",\"2010-04-28T10:50:00\",\"2010-10-26T17:23:00\",\"2010-06-28T13:12:00\",\"2010-03-05T15:21:00\",\"2009-12-16T11:57:00\",\"2010-01-11T09:32:00\",\"2010-04-27T09:44:00\",\"2010-11-29T12:06:00\",\"2010-05-30T15:19:00\",\"2010-05-16T12:51:00\",\"2010-08-22T14:01:00\",\"2010-11-02T11:48:00\",\"2010-11-10T09:34:00\",\"2010-11-09T09:06:00\",\"2010-11-12T14:28:00\",\"2010-03-29T14:47:00\",\"2010-11-26T14:40:00\",\"2010-11-12T12:17:00\",\"2009-12-08T17:10:00\",\"2010-07-01T09:15:00\",\"2010-07-20T13:04:00\",\"2010-12-09T12:49:00\",\"2010-07-05T12:40:00\",\"2010-03-04T10:31:00\",\"2010-07-14T15:13:00\",\"2010-09-28T14:26:00\",\"2010-11-25T10:29:00\",\"2010-11-17T17:14:00\",\"2010-01-22T14:19:00\",\"2010-09-03T12:06:00\",\"2010-03-26T11:20:00\",\"2010-10-18T11:47:00\",\"2010-09-28T09:35:00\",\"2010-09-02T16:47:00\",\"2010-05-10T12:20:00\",\"2009-12-18T17:15:00\",\"2010-07-02T12:03:00\",\"2010-08-03T14:23:00\",\"2010-10-03T15:24:00\",\"2010-12-06T16:57:00\",\"2010-10-20T14:42:00\",\"2010-01-26T11:24:00\",\"2010-06-10T12:37:00\",\"2010-03-24T09:52:00\",\"2009-12-06T11:27:00\",\"2010-09-19T15:16:00\",\"2010-11-11T14:29:00\",\"2010-09-05T10:54:00\",\"2010-11-11T11:14:00\",\"2010-05-18T15:13:00\",\"2009-12-02T09:50:00\",\"2010-01-07T12:22:00\",\"2010-11-07T11:13:00\",\"2010-04-19T10:43:00\",\"2010-03-09T11:46:00\",\"2010-10-10T14:38:00\",\"2010-11-14T12:07:00\",\"2010-08-31T15:03:00\",\"2010-06-10T13:52:00\",\"2010-11-26T11:48:00\",\"2010-05-18T12:24:00\",\"2010-06-06T14:01:00\",\"2010-11-12T15:35:00\",\"2010-09-26T12:51:00\",\"2010-01-24T12:12:00\",\"2010-11-08T09:20:00\",\"2010-05-21T11:34:00\",\"2010-02-17T14:01:00\",\"2010-12-06T14:36:00\",\"2010-11-18T13:55:00\",\"2010-09-27T14:20:00\",\"2010-08-19T13:06:00\",\"2010-07-29T17:02:00\",\"2010-05-11T12:04:00\",\"2010-06-25T15:13:00\",\"2010-09-27T14:59:00\",\"2010-06-21T15:13:00\",\"2009-12-10T09:49:00\",\"2010-06-24T14:34:00\",\"2010-11-12T17:00:00\",\"2010-08-29T14:13:00\",\"2010-03-30T14:29:00\",\"2010-12-07T14:58:00\",\"2010-02-14T11:52:00\",\"2010-06-28T13:12:00\",\"2010-08-19T13:04:00\",\"2009-12-01T12:47:00\",\"2010-09-22T14:05:00\",\"2010-01-04T13:39:00\",\"2010-08-26T20:07:00\",\"2010-12-09T12:32:00\",\"2010-03-03T11:57:00\",\"2010-03-10T10:25:00\",\"2010-03-24T10:28:00\",\"2010-09-29T10:22:00\",\"2010-11-29T09:46:00\",\"2010-12-06T13:06:00\",\"2010-03-28T14:47:00\",\"2010-03-15T14:19:00\",\"2010-11-18T13:33:00\",\"2010-08-04T16:27:00\",\"2010-04-08T11:49:00\",\"2010-11-12T09:18:00\",\"2010-06-15T13:19:00\",\"2010-04-28T13:26:00\",\"2010-05-19T09:14:00\",\"2010-03-28T15:16:00\",\"2010-06-23T17:16:00\",\"2010-04-06T14:10:00\",\"2009-12-20T15:57:00\",\"2009-12-11T14:28:00\",\"2010-08-17T12:03:00\",\"2010-02-15T17:26:00\",\"2010-08-26T16:00:00\",\"2010-01-26T14:25:00\",\"2010-09-12T16:08:00\",\"2010-07-29T16:25:00\",\"2010-07-12T15:00:00\",\"2009-12-08T13:58:00\",\"2010-03-01T13:45:00\",\"2009-12-11T12:17:00\",\"2010-07-22T18:17:00\",\"2010-05-04T10:03:00\",\"2010-02-03T08:50:00\",\"2010-01-26T10:25:00\",\"2010-09-12T11:38:00\",\"2010-09-30T17:39:00\",\"2010-11-04T13:02:00\",\"2010-03-22T15:59:00\",\"2010-04-21T10:04:00\",\"2010-10-07T13:09:00\",\"2010-03-03T15:28:00\",\"2010-02-15T17:26:00\",\"2009-12-04T09:43:00\",\"2010-11-21T13:23:00\",\"2010-11-23T17:53:00\",\"2010-07-13T10:25:00\",\"2009-12-13T14:01:00\",\"2010-08-18T11:38:00\",\"2010-03-21T16:02:00\",\"2010-12-05T14:17:00\",\"2010-08-20T08:21:00\",\"2010-06-09T12:07:00\",\"2010-04-11T15:54:00\",\"2010-04-01T07:49:00\",\"2010-01-19T09:05:00\",\"2010-11-01T11:35:00\",\"2010-03-05T10:37:00\",\"2010-04-01T18:37:00\",\"2010-08-19T10:58:00\",\"2009-12-11T15:52:00\",\"2010-10-31T11:01:00\",\"2010-10-20T14:42:00\",\"2010-11-02T12:48:00\",\"2010-12-08T16:49:00\",\"2010-02-08T16:53:00\",\"2009-12-06T13:49:00\",\"2010-12-01T13:24:00\",\"2010-07-18T11:36:00\",\"2010-02-08T16:23:00\",\"2010-06-16T16:24:00\",\"2010-05-17T12:06:00\",\"2010-02-28T14:12:00\",\"2010-11-16T18:18:00\",\"2010-10-04T12:44:00\",\"2010-10-07T14:28:00\",\"2010-07-15T13:19:00\",\"2010-06-03T15:17:00\",\"2010-09-03T09:27:00\",\"2010-04-23T11:44:00\",\"2010-04-26T11:57:00\",\"2010-08-04T09:39:00\",\"2009-12-04T12:37:00\",\"2010-03-08T15:49:00\",\"2010-01-24T15:14:00\",\"2010-08-15T16:00:00\",\"2010-10-08T10:23:00\",\"2010-10-07T17:37:00\",\"2010-09-20T15:12:00\",\"2010-11-09T17:41:00\",\"2010-05-09T13:59:00\",\"2009-12-03T14:39:00\",\"2010-05-26T11:12:00\",\"2010-05-13T12:47:00\",\"2010-04-01T16:55:00\",\"2010-05-16T14:41:00\",\"2009-12-20T13:09:00\",\"2010-10-14T17:09:00\",\"2010-08-10T14:08:00\",\"2010-02-17T13:10:00\",\"2009-12-10T15:52:00\",\"2010-10-18T09:28:00\",\"2010-10-27T12:26:00\",\"2010-11-28T13:51:00\",\"2010-11-09T11:50:00\",\"2010-10-15T13:02:00\",\"2010-02-01T12:36:00\",\"2010-05-16T16:05:00\",\"2010-11-15T15:03:00\",\"2010-05-25T13:51:00\",\"2010-05-05T14:09:00\",\"2010-11-16T07:52:00\",\"2010-04-09T10:17:00\",\"2009-12-15T18:33:00\",\"2009-12-16T17:01:00\",\"2010-08-12T15:01:00\",\"2010-09-01T10:47:00\",\"2010-06-06T12:13:00\",\"2010-07-02T13:36:00\",\"2010-11-28T11:37:00\",\"2010-03-04T12:39:00\",\"2010-11-19T11:37:00\",\"2010-08-12T16:41:00\",\"2010-04-07T10:59:00\",\"2010-10-17T10:42:00\",\"2010-11-08T15:42:00\",\"2010-04-18T10:37:00\",\"2010-06-16T16:42:00\",\"2010-09-21T12:17:00\",\"2010-03-24T12:43:00\",\"2009-12-18T15:57:00\",\"2010-06-15T12:41:00\",\"2010-07-07T16:29:00\",\"2010-02-14T15:38:00\",\"2009-12-03T07:25:00\",\"2010-11-23T09:12:00\",\"2009-12-02T14:36:00\",\"2010-11-25T15:19:00\",\"2010-10-24T16:13:00\",\"2010-02-18T18:20:00\",\"2009-12-18T17:06:00\",\"2010-03-12T15:17:00\",\"2009-12-14T17:57:00\",\"2010-12-08T14:43:00\",\"2009-12-14T17:57:00\",\"2010-05-17T15:30:00\",\"2010-06-15T12:14:00\",\"2010-10-07T15:09:00\",\"2010-07-02T12:41:00\",\"2010-09-03T10:49:00\",\"2010-04-11T13:49:00\",\"2010-04-26T14:22:00\",\"2010-05-27T14:38:00\",\"2010-11-11T15:25:00\",\"2009-12-14T13:11:00\",\"2010-04-28T13:42:00\",\"2010-04-29T17:57:00\",\"2010-04-27T11:58:00\",\"2009-12-07T18:02:00\",\"2010-05-18T15:13:00\",\"2010-05-07T17:49:00\",\"2010-11-11T11:18:00\",\"2010-04-07T11:59:00\",\"2010-10-11T14:33:00\",\"2009-12-03T12:40:00\",\"2010-09-16T15:07:00\",\"2010-11-17T13:09:00\",\"2010-11-14T13:38:00\",\"2010-10-31T11:22:00\",\"2009-12-16T11:57:00\",\"2010-03-31T16:31:00\",\"2010-11-18T14:17:00\",\"2010-09-30T14:25:00\",\"2010-01-13T17:03:00\",\"2010-03-12T09:21:00\",\"2010-04-29T16:22:00\",\"2010-08-11T15:40:00\",\"2010-12-02T08:43:00\",\"2010-08-19T19:39:00\",\"2010-11-22T13:02:00\",\"2010-12-03T11:36:00\",\"2010-03-03T15:28:00\",\"2010-01-25T08:17:00\",\"2010-09-28T09:12:00\",\"2010-06-22T16:28:00\",\"2010-11-07T13:45:00\",\"2010-11-18T14:17:00\",\"2010-11-28T14:28:00\",\"2010-11-04T16:03:00\",\"2010-10-12T13:19:00\",\"2009-12-15T15:36:00\",\"2009-12-01T12:57:00\",\"2010-04-01T12:07:00\",\"2009-12-06T12:17:00\",\"2009-12-21T11:31:00\",\"2010-08-15T11:55:00\",\"2010-10-03T11:53:00\",\"2010-09-29T13:15:00\",\"2010-03-18T14:09:00\",\"2010-01-31T12:49:00\",\"2010-04-12T09:13:00\",\"2010-06-01T12:44:00\",\"2010-12-07T14:41:00\",\"2010-10-11T12:52:00\",\"2010-08-22T11:47:00\",\"2009-12-13T16:05:00\",\"2010-12-07T15:31:00\",\"2010-10-31T13:35:00\",\"2010-08-27T14:41:00\",\"2010-12-07T15:28:00\",\"2010-09-30T13:57:00\",\"2010-08-25T12:16:00\",\"2010-02-18T12:16:00\",\"2010-11-05T09:35:00\",\"2010-02-26T10:51:00\",\"2010-01-13T15:24:00\",\"2010-04-13T16:07:00\",\"2010-08-06T14:52:00\",\"2010-09-29T16:31:00\",\"2009-12-16T11:23:00\",\"2009-12-05T15:18:00\",\"2010-01-31T11:54:00\",\"2010-06-16T12:48:00\",\"2010-03-05T09:07:00\",\"2010-11-11T13:50:00\",\"2010-08-18T11:34:00\",\"2009-12-02T14:43:00\",\"2010-04-18T13:53:00\",\"2010-05-24T12:01:00\",\"2010-11-28T10:18:00\",\"2010-09-06T13:36:00\",\"2010-06-04T12:23:00\",\"2010-11-05T10:23:00\",\"2010-03-07T14:37:00\",\"2010-12-02T17:48:00\",\"2010-09-23T13:38:00\",\"2010-10-15T12:11:00\",\"2010-02-19T12:34:00\",\"2010-12-06T15:34:00\",\"2010-11-23T16:49:00\",\"2010-03-01T13:22:00\",\"2010-01-18T10:29:00\",\"2010-11-10T12:38:00\",\"2010-11-29T09:46:00\",\"2010-06-17T16:20:00\",\"2010-05-11T11:29:00\",\"2010-06-07T14:22:00\",\"2010-08-26T15:54:00\",\"2010-02-01T11:56:00\",\"2010-10-11T11:04:00\",\"2010-05-27T17:56:00\",\"2010-12-07T15:39:00\",\"2010-10-28T09:59:00\",\"2010-02-24T12:06:00\",\"2010-09-06T14:36:00\",\"2009-12-08T15:49:00\",\"2009-12-03T07:25:00\",\"2010-03-05T11:17:00\",\"2009-12-14T18:03:00\",\"2010-03-10T10:25:00\",\"2009-12-16T17:27:00\",\"2010-02-16T17:24:00\",\"2010-03-17T10:22:00\",\"2010-10-17T13:28:00\",\"2010-09-30T14:19:00\",\"2009-12-22T12:03:00\",\"2010-12-06T14:51:00\",\"2010-09-10T17:19:00\",\"2010-03-04T17:29:00\",\"2010-11-14T11:45:00\",\"2009-12-07T11:55:00\",\"2010-10-18T11:25:00\",\"2010-06-01T13:49:00\",\"2010-11-26T14:22:00\",\"2010-10-29T14:12:00\",\"2010-01-18T13:15:00\",\"2010-11-19T11:12:00\",\"2010-11-17T12:03:00\",\"2010-08-18T14:43:00\",\"2010-11-12T12:15:00\",\"2010-11-10T15:32:00\",\"2010-09-06T13:20:00\",\"2010-04-13T11:04:00\",\"2010-12-05T12:57:00\",\"2010-11-09T15:07:00\",\"2010-02-03T15:19:00\",\"2010-11-21T15:56:00\",\"2010-07-21T14:39:00\",\"2010-11-22T13:02:00\",\"2010-01-05T13:23:00\",\"2010-06-23T08:14:00\",\"2009-12-07T17:56:00\",\"2010-09-13T16:15:00\",\"2010-11-23T15:07:00\",\"2010-11-12T15:40:00\",\"2009-12-17T10:17:00\",\"2010-11-28T11:27:00\",\"2010-06-21T12:51:00\",\"2010-12-01T10:52:00\",\"2010-05-28T11:13:00\",\"2010-02-04T12:18:00\",\"2010-05-27T12:36:00\",\"2009-12-13T11:46:00\",\"2010-06-29T15:17:00\",\"2010-08-31T12:30:00\",\"2010-01-07T16:57:00\",\"2010-11-11T13:50:00\",\"2010-03-15T17:32:00\",\"2010-08-18T16:21:00\",\"2010-10-15T12:52:00\",\"2010-07-19T10:07:00\",\"2010-09-07T17:19:00\",\"2010-11-23T11:43:00\",\"2010-03-10T14:24:00\",\"2010-09-23T12:33:00\",\"2010-10-19T11:53:00\",\"2010-06-04T13:47:00\",\"2010-05-05T10:47:00\",\"2010-11-08T10:51:00\",\"2010-11-12T09:50:00\",\"2010-03-03T14:20:00\",\"2010-11-14T13:03:00\",\"2010-10-19T10:58:00\",\"2010-11-17T09:23:00\",\"2010-02-05T14:14:00\",\"2010-12-02T11:57:00\",\"2010-02-17T09:53:00\",\"2010-05-21T16:37:00\",\"2009-12-04T09:43:00\",\"2010-03-05T14:41:00\",\"2010-10-25T16:43:00\",\"2010-11-01T13:26:00\",\"2010-10-03T13:47:00\",\"2010-04-21T15:08:00\",\"2010-04-30T12:46:00\",\"2010-05-17T12:05:00\",\"2010-04-11T15:54:00\",\"2010-10-26T08:11:00\",\"2010-01-28T19:28:00\",\"2010-07-26T13:07:00\",\"2010-09-23T14:47:00\",\"2010-02-19T13:29:00\",\"2010-09-28T15:07:00\",\"2010-06-08T12:36:00\",\"2010-11-04T16:10:00\",\"2010-02-22T12:44:00\",\"2010-01-22T12:46:00\",\"2010-03-16T13:28:00\",\"2010-11-01T11:35:00\",\"2010-05-09T12:12:00\",\"2010-05-27T13:10:00\",\"2010-03-03T14:10:00\",\"2010-11-10T12:09:00\",\"2010-02-08T09:38:00\",\"2010-10-24T16:03:00\",\"2010-04-09T09:26:00\",\"2010-02-09T10:49:00\",\"2010-10-17T12:52:00\",\"2010-05-13T14:31:00\",\"2010-08-10T12:08:00\",\"2010-06-29T15:15:00\",\"2010-04-08T09:43:00\",\"2010-05-02T13:46:00\",\"2010-04-06T13:42:00\",\"2010-11-15T13:49:00\",\"2010-06-29T10:52:00\",\"2010-10-27T16:38:00\",\"2010-11-26T12:00:00\",\"2010-08-17T11:45:00\",\"2010-01-08T13:19:00\",\"2010-09-16T14:34:00\",\"2010-12-01T13:24:00\",\"2010-10-21T19:28:00\",\"2010-10-03T15:55:00\",\"2010-06-30T15:55:00\",\"2009-12-13T12:42:00\",\"2010-09-30T09:39:00\",\"2010-04-14T14:38:00\",\"2010-02-14T12:36:00\",\"2010-11-22T11:52:00\",\"2010-05-17T11:46:00\",\"2010-09-30T12:16:00\",\"2010-01-19T13:23:00\",\"2010-02-14T12:28:00\",\"2010-03-04T15:44:00\",\"2010-11-25T12:18:00\",\"2010-03-07T16:12:00\",\"2010-03-10T15:25:00\",\"2010-09-08T09:23:00\",\"2010-05-06T19:49:00\",\"2010-11-16T13:04:00\",\"2010-02-21T15:28:00\",\"2010-11-02T13:57:00\",\"2010-06-16T11:17:00\",\"2009-12-03T12:13:00\",\"2010-11-22T14:39:00\",\"2010-07-28T13:36:00\",\"2010-05-26T08:27:00\",\"2010-05-04T10:02:00\",\"2010-01-11T12:29:00\",\"2010-08-22T12:52:00\",\"2010-05-19T11:59:00\",\"2010-06-06T11:35:00\",\"2009-12-07T13:49:00\",\"2010-11-19T15:13:00\",\"2010-07-05T16:59:00\",\"2010-07-05T12:50:00\",\"2010-09-02T13:27:00\",\"2010-02-14T14:35:00\",\"2010-11-10T12:24:00\",\"2010-04-01T12:56:00\",\"2009-12-17T10:30:00\",\"2010-12-05T13:42:00\",\"2010-06-24T12:10:00\",\"2010-04-07T16:22:00\",\"2009-12-10T09:49:00\",\"2010-12-07T15:48:00\",\"2009-12-09T15:03:00\",\"2010-10-15T11:45:00\",\"2010-10-29T14:12:00\",\"2010-09-24T12:06:00\",\"2009-12-03T09:52:00\",\"2010-07-02T11:27:00\",\"2010-11-07T12:51:00\",\"2010-07-27T14:08:00\",\"2010-12-01T11:57:00\",\"2009-12-18T12:23:00\",\"2010-01-11T09:37:00\",\"2010-10-05T11:52:00\",\"2010-02-28T11:55:00\",\"2010-09-29T13:47:00\",\"2010-09-13T15:23:00\",\"2010-01-19T12:15:00\",\"2010-05-13T16:05:00\",\"2010-03-31T13:09:00\",\"2010-11-17T16:48:00\",\"2010-04-07T12:45:00\",\"2010-10-13T15:37:00\",\"2010-01-15T16:52:00\",\"2010-06-16T13:47:00\",\"2010-05-09T12:10:00\",\"2010-11-08T12:21:00\",\"2010-02-23T10:50:00\",\"2010-10-11T14:21:00\",\"2010-05-16T14:41:00\",\"2010-08-17T15:49:00\",\"2010-10-25T11:43:00\",\"2010-01-24T11:15:00\",\"2010-11-16T12:22:00\",\"2010-01-29T10:25:00\",\"2010-01-17T11:31:00\",\"2010-02-21T12:42:00\",\"2010-10-24T15:29:00\",\"2010-07-15T12:06:00\",\"2010-03-23T11:41:00\",\"2010-10-08T12:58:00\",\"2010-04-23T11:36:00\",\"2009-12-13T16:03:00\",\"2010-11-11T14:30:00\",\"2010-10-25T16:57:00\",\"2010-02-09T17:38:00\",\"2010-10-31T15:54:00\",\"2009-12-23T13:00:00\",\"2010-02-04T16:40:00\",\"2010-10-21T11:55:00\",\"2009-12-20T10:08:00\",\"2010-07-19T10:31:00\",\"2009-12-07T18:02:00\",\"2010-05-25T15:21:00\",\"2010-08-06T14:00:00\",\"2010-04-20T13:28:00\",\"2010-06-24T12:49:00\",\"2010-05-13T15:21:00\",\"2010-11-18T19:55:00\",\"2010-08-12T15:38:00\",\"2010-02-18T18:29:00\",\"2010-03-21T13:14:00\",\"2010-11-10T09:34:00\",\"2010-07-22T19:23:00\",\"2010-11-19T16:41:00\",\"2010-05-27T12:36:00\",\"2010-05-05T14:42:00\",\"2010-09-14T13:56:00\",\"2010-08-26T15:42:00\",\"2010-06-21T13:22:00\",\"2010-03-08T12:35:00\",\"2010-11-22T12:36:00\",\"2009-12-09T09:42:00\",\"2010-05-24T15:57:00\",\"2010-04-22T09:50:00\",\"2010-11-29T09:46:00\",\"2010-07-01T14:11:00\",\"2010-11-12T12:15:00\",\"2010-08-13T14:46:00\",\"2010-10-20T12:26:00\",\"2010-05-28T13:23:00\",\"2010-05-16T12:44:00\",\"2009-12-16T12:06:00\",\"2010-01-10T11:58:00\",\"2010-05-26T15:11:00\",\"2010-11-23T09:12:00\",\"2010-01-31T16:02:00\",\"2010-01-14T17:43:00\",\"2010-08-01T12:38:00\",\"2010-09-02T17:52:00\",\"2010-06-11T15:03:00\",\"2010-07-07T11:57:00\",\"2010-11-12T15:05:00\",\"2010-02-25T16:11:00\",\"2010-10-31T16:26:00\",\"2010-07-08T09:13:00\",\"2009-12-16T13:15:00\",\"2010-02-10T14:51:00\",\"2009-12-18T09:16:00\",\"2010-11-12T15:20:00\",\"2010-09-12T16:17:00\",\"2010-10-29T13:58:00\",\"2010-11-24T15:09:00\",\"2010-10-12T13:22:00\",\"2010-03-03T10:19:00\",\"2010-09-15T12:16:00\",\"2010-07-23T15:10:00\",\"2009-12-14T15:51:00\",\"2010-04-18T11:24:00\",\"2010-01-31T11:54:00\",\"2009-12-10T17:27:00\",\"2010-02-26T10:51:00\",\"2010-02-21T12:52:00\",\"2010-11-29T15:39:00\",\"2010-01-14T09:41:00\",\"2010-01-20T12:05:00\",\"2010-05-07T15:25:00\",\"2010-05-23T11:45:00\",\"2010-11-18T13:55:00\",\"2009-12-16T13:49:00\",\"2010-09-16T11:40:00\",\"2010-11-21T13:23:00\",\"2010-06-08T16:47:00\",\"2010-03-16T16:59:00\",\"2009-12-01T12:14:00\",\"2010-01-25T09:12:00\",\"2009-12-14T18:03:00\",\"2009-12-08T13:58:00\",\"2010-10-28T14:11:00\",\"2009-12-17T11:38:00\",\"2010-03-01T11:45:00\",\"2009-12-03T14:39:00\",\"2010-10-31T11:32:00\",\"2010-02-21T11:02:00\",\"2010-05-16T12:56:00\",\"2010-03-03T14:43:00\",\"2010-10-24T10:56:00\",\"2009-12-04T09:43:00\",\"2010-11-09T15:45:00\",\"2010-11-19T15:50:00\",\"2010-04-29T13:50:00\",\"2010-05-23T10:57:00\",\"2010-05-18T13:24:00\",\"2010-03-31T10:49:00\",\"2010-03-19T11:39:00\",\"2010-03-31T11:39:00\",\"2010-09-06T11:22:00\",\"2010-06-06T10:56:00\",\"2010-03-18T16:35:00\",\"2010-08-19T16:53:00\",\"2010-02-09T17:38:00\",\"2010-06-29T15:04:00\",\"2010-11-28T16:21:00\",\"2010-04-06T13:37:00\",\"2010-02-14T13:39:00\",\"2010-12-08T14:25:00\",\"2010-09-13T15:12:00\",\"2010-10-20T12:16:00\",\"2010-06-09T15:15:00\",\"2010-12-07T10:32:00\",\"2009-12-09T09:42:00\",\"2009-12-01T13:47:00\",\"2010-10-19T12:16:00\",\"2010-02-18T10:26:00\",\"2010-05-24T12:01:00\",\"2010-01-20T17:50:00\",\"2010-04-08T14:47:00\",\"2009-12-21T09:00:00\",\"2010-04-28T11:55:00\",\"2010-10-12T12:20:00\",\"2010-09-12T15:38:00\",\"2009-12-02T14:43:00\",\"2010-03-07T14:05:00\",\"2009-12-10T09:49:00\",\"2010-04-20T16:21:00\",\"2010-04-13T11:27:00\",\"2010-11-12T15:20:00\",\"2009-12-04T15:40:00\",\"2010-01-11T09:35:00\",\"2010-04-14T11:01:00\",\"2010-02-25T13:40:00\",\"2010-04-28T13:18:00\",\"2010-09-21T17:50:00\",\"2010-11-07T12:03:00\",\"2009-12-17T13:41:00\",\"2010-05-27T20:20:00\",\"2010-11-29T11:54:00\",\"2010-10-29T13:44:00\",\"2010-11-03T14:00:00\",\"2010-11-01T11:35:00\",\"2009-12-01T11:45:00\",\"2010-11-21T13:36:00\",\"2010-05-11T15:31:00\",\"2010-11-24T13:56:00\",\"2010-08-04T12:03:00\",\"2010-11-24T09:54:00\",\"2010-03-12T10:09:00\",\"2010-11-14T15:17:00\",\"2010-09-15T11:44:00\",\"2010-02-25T13:31:00\",\"2010-01-24T15:14:00\",\"2010-10-15T09:31:00\",\"2010-06-21T13:18:00\",\"2010-03-17T12:47:00\",\"2009-12-10T11:27:00\",\"2010-02-24T13:04:00\",\"2010-11-11T12:23:00\",\"2010-11-01T16:45:00\",\"2010-08-11T11:51:00\",\"2010-11-08T09:20:00\",\"2010-06-03T15:39:00\",\"2010-11-28T11:57:00\",\"2010-08-23T09:23:00\",\"2009-12-03T16:09:00\",\"2010-11-26T09:49:00\",\"2010-10-06T13:24:00\",\"2010-06-24T11:39:00\",\"2010-11-10T09:34:00\",\"2010-02-28T11:37:00\",\"2009-12-02T10:00:00\",\"2010-10-11T13:49:00\",\"2010-11-23T13:36:00\",\"2010-11-30T08:58:00\",\"2010-01-07T12:37:00\",\"2010-05-07T10:19:00\",\"2009-12-04T12:36:00\",\"2009-12-22T09:52:00\",\"2010-09-15T13:35:00\",\"2010-10-29T14:12:00\",\"2010-09-16T19:17:00\",\"2010-08-16T09:20:00\",\"2010-02-19T11:08:00\",\"2010-06-08T15:25:00\",\"2010-09-30T12:16:00\",\"2010-05-18T11:40:00\",\"2010-07-21T14:48:00\",\"2010-10-31T10:45:00\",\"2010-10-11T13:49:00\",\"2010-03-05T11:56:00\",\"2010-11-16T12:22:00\",\"2010-10-28T14:19:00\",\"2010-11-17T13:46:00\",\"2010-08-04T16:27:00\",\"2010-09-02T13:57:00\",\"2010-05-19T12:47:00\",\"2010-11-29T10:41:00\",\"2010-03-10T10:53:00\",\"2009-12-02T14:21:00\",\"2010-11-29T11:48:00\",\"2010-07-16T13:53:00\",\"2010-02-05T13:17:00\",\"2010-03-29T15:07:00\",\"2010-01-28T11:33:00\",\"2010-06-16T14:34:00\",\"2010-07-20T16:33:00\",\"2010-07-06T12:38:00\",\"2010-09-23T16:09:00\",\"2010-09-20T12:41:00\",\"2010-01-24T14:57:00\",\"2010-11-04T13:14:00\",\"2010-06-10T11:37:00\",\"2010-10-19T11:10:00\",\"2010-11-10T16:40:00\",\"2010-04-28T14:53:00\",\"2010-11-05T11:58:00\",\"2010-12-05T10:45:00\",\"2010-05-17T14:36:00\",\"2010-11-04T11:59:00\",\"2010-07-05T10:29:00\",\"2010-05-26T13:34:00\",\"2010-07-16T15:11:00\",\"2010-11-18T13:51:00\",\"2010-02-21T14:41:00\",\"2010-12-02T10:17:00\",\"2010-04-29T11:18:00\",\"2010-04-13T12:21:00\"],\"xaxis\":\"x2\",\"yaxis\":\"y2\",\"type\":\"box\"}],                        {\"template\":{\"data\":{\"histogram2dcontour\":[{\"type\":\"histogram2dcontour\",\"colorbar\":{\"outlinewidth\":0,\"ticks\":\"\"},\"colorscale\":[[0.0,\"#0d0887\"],[0.1111111111111111,\"#46039f\"],[0.2222222222222222,\"#7201a8\"],[0.3333333333333333,\"#9c179e\"],[0.4444444444444444,\"#bd3786\"],[0.5555555555555556,\"#d8576b\"],[0.6666666666666666,\"#ed7953\"],[0.7777777777777778,\"#fb9f3a\"],[0.8888888888888888,\"#fdca26\"],[1.0,\"#f0f921\"]]}],\"choropleth\":[{\"type\":\"choropleth\",\"colorbar\":{\"outlinewidth\":0,\"ticks\":\"\"}}],\"histogram2d\":[{\"type\":\"histogram2d\",\"colorbar\":{\"outlinewidth\":0,\"ticks\":\"\"},\"colorscale\":[[0.0,\"#0d0887\"],[0.1111111111111111,\"#46039f\"],[0.2222222222222222,\"#7201a8\"],[0.3333333333333333,\"#9c179e\"],[0.4444444444444444,\"#bd3786\"],[0.5555555555555556,\"#d8576b\"],[0.6666666666666666,\"#ed7953\"],[0.7777777777777778,\"#fb9f3a\"],[0.8888888888888888,\"#fdca26\"],[1.0,\"#f0f921\"]]}],\"heatmap\":[{\"type\":\"heatmap\",\"colorbar\":{\"outlinewidth\":0,\"ticks\":\"\"},\"colorscale\":[[0.0,\"#0d0887\"],[0.1111111111111111,\"#46039f\"],[0.2222222222222222,\"#7201a8\"],[0.3333333333333333,\"#9c179e\"],[0.4444444444444444,\"#bd3786\"],[0.5555555555555556,\"#d8576b\"],[0.6666666666666666,\"#ed7953\"],[0.7777777777777778,\"#fb9f3a\"],[0.8888888888888888,\"#fdca26\"],[1.0,\"#f0f921\"]]}],\"heatmapgl\":[{\"type\":\"heatmapgl\",\"colorbar\":{\"outlinewidth\":0,\"ticks\":\"\"},\"colorscale\":[[0.0,\"#0d0887\"],[0.1111111111111111,\"#46039f\"],[0.2222222222222222,\"#7201a8\"],[0.3333333333333333,\"#9c179e\"],[0.4444444444444444,\"#bd3786\"],[0.5555555555555556,\"#d8576b\"],[0.6666666666666666,\"#ed7953\"],[0.7777777777777778,\"#fb9f3a\"],[0.8888888888888888,\"#fdca26\"],[1.0,\"#f0f921\"]]}],\"contourcarpet\":[{\"type\":\"contourcarpet\",\"colorbar\":{\"outlinewidth\":0,\"ticks\":\"\"}}],\"contour\":[{\"type\":\"contour\",\"colorbar\":{\"outlinewidth\":0,\"ticks\":\"\"},\"colorscale\":[[0.0,\"#0d0887\"],[0.1111111111111111,\"#46039f\"],[0.2222222222222222,\"#7201a8\"],[0.3333333333333333,\"#9c179e\"],[0.4444444444444444,\"#bd3786\"],[0.5555555555555556,\"#d8576b\"],[0.6666666666666666,\"#ed7953\"],[0.7777777777777778,\"#fb9f3a\"],[0.8888888888888888,\"#fdca26\"],[1.0,\"#f0f921\"]]}],\"surface\":[{\"type\":\"surface\",\"colorbar\":{\"outlinewidth\":0,\"ticks\":\"\"},\"colorscale\":[[0.0,\"#0d0887\"],[0.1111111111111111,\"#46039f\"],[0.2222222222222222,\"#7201a8\"],[0.3333333333333333,\"#9c179e\"],[0.4444444444444444,\"#bd3786\"],[0.5555555555555556,\"#d8576b\"],[0.6666666666666666,\"#ed7953\"],[0.7777777777777778,\"#fb9f3a\"],[0.8888888888888888,\"#fdca26\"],[1.0,\"#f0f921\"]]}],\"mesh3d\":[{\"type\":\"mesh3d\",\"colorbar\":{\"outlinewidth\":0,\"ticks\":\"\"}}],\"scatter\":[{\"fillpattern\":{\"fillmode\":\"overlay\",\"size\":10,\"solidity\":0.2},\"type\":\"scatter\"}],\"parcoords\":[{\"type\":\"parcoords\",\"line\":{\"colorbar\":{\"outlinewidth\":0,\"ticks\":\"\"}}}],\"scatterpolargl\":[{\"type\":\"scatterpolargl\",\"marker\":{\"colorbar\":{\"outlinewidth\":0,\"ticks\":\"\"}}}],\"bar\":[{\"error_x\":{\"color\":\"#2a3f5f\"},\"error_y\":{\"color\":\"#2a3f5f\"},\"marker\":{\"line\":{\"color\":\"#E5ECF6\",\"width\":0.5},\"pattern\":{\"fillmode\":\"overlay\",\"size\":10,\"solidity\":0.2}},\"type\":\"bar\"}],\"scattergeo\":[{\"type\":\"scattergeo\",\"marker\":{\"colorbar\":{\"outlinewidth\":0,\"ticks\":\"\"}}}],\"scatterpolar\":[{\"type\":\"scatterpolar\",\"marker\":{\"colorbar\":{\"outlinewidth\":0,\"ticks\":\"\"}}}],\"histogram\":[{\"marker\":{\"pattern\":{\"fillmode\":\"overlay\",\"size\":10,\"solidity\":0.2}},\"type\":\"histogram\"}],\"scattergl\":[{\"type\":\"scattergl\",\"marker\":{\"colorbar\":{\"outlinewidth\":0,\"ticks\":\"\"}}}],\"scatter3d\":[{\"type\":\"scatter3d\",\"line\":{\"colorbar\":{\"outlinewidth\":0,\"ticks\":\"\"}},\"marker\":{\"colorbar\":{\"outlinewidth\":0,\"ticks\":\"\"}}}],\"scattermapbox\":[{\"type\":\"scattermapbox\",\"marker\":{\"colorbar\":{\"outlinewidth\":0,\"ticks\":\"\"}}}],\"scatterternary\":[{\"type\":\"scatterternary\",\"marker\":{\"colorbar\":{\"outlinewidth\":0,\"ticks\":\"\"}}}],\"scattercarpet\":[{\"type\":\"scattercarpet\",\"marker\":{\"colorbar\":{\"outlinewidth\":0,\"ticks\":\"\"}}}],\"carpet\":[{\"aaxis\":{\"endlinecolor\":\"#2a3f5f\",\"gridcolor\":\"white\",\"linecolor\":\"white\",\"minorgridcolor\":\"white\",\"startlinecolor\":\"#2a3f5f\"},\"baxis\":{\"endlinecolor\":\"#2a3f5f\",\"gridcolor\":\"white\",\"linecolor\":\"white\",\"minorgridcolor\":\"white\",\"startlinecolor\":\"#2a3f5f\"},\"type\":\"carpet\"}],\"table\":[{\"cells\":{\"fill\":{\"color\":\"#EBF0F8\"},\"line\":{\"color\":\"white\"}},\"header\":{\"fill\":{\"color\":\"#C8D4E3\"},\"line\":{\"color\":\"white\"}},\"type\":\"table\"}],\"barpolar\":[{\"marker\":{\"line\":{\"color\":\"#E5ECF6\",\"width\":0.5},\"pattern\":{\"fillmode\":\"overlay\",\"size\":10,\"solidity\":0.2}},\"type\":\"barpolar\"}],\"pie\":[{\"automargin\":true,\"type\":\"pie\"}]},\"layout\":{\"autotypenumbers\":\"strict\",\"colorway\":[\"#636efa\",\"#EF553B\",\"#00cc96\",\"#ab63fa\",\"#FFA15A\",\"#19d3f3\",\"#FF6692\",\"#B6E880\",\"#FF97FF\",\"#FECB52\"],\"font\":{\"color\":\"#2a3f5f\"},\"hovermode\":\"closest\",\"hoverlabel\":{\"align\":\"left\"},\"paper_bgcolor\":\"white\",\"plot_bgcolor\":\"#E5ECF6\",\"polar\":{\"bgcolor\":\"#E5ECF6\",\"angularaxis\":{\"gridcolor\":\"white\",\"linecolor\":\"white\",\"ticks\":\"\"},\"radialaxis\":{\"gridcolor\":\"white\",\"linecolor\":\"white\",\"ticks\":\"\"}},\"ternary\":{\"bgcolor\":\"#E5ECF6\",\"aaxis\":{\"gridcolor\":\"white\",\"linecolor\":\"white\",\"ticks\":\"\"},\"baxis\":{\"gridcolor\":\"white\",\"linecolor\":\"white\",\"ticks\":\"\"},\"caxis\":{\"gridcolor\":\"white\",\"linecolor\":\"white\",\"ticks\":\"\"}},\"coloraxis\":{\"colorbar\":{\"outlinewidth\":0,\"ticks\":\"\"}},\"colorscale\":{\"sequential\":[[0.0,\"#0d0887\"],[0.1111111111111111,\"#46039f\"],[0.2222222222222222,\"#7201a8\"],[0.3333333333333333,\"#9c179e\"],[0.4444444444444444,\"#bd3786\"],[0.5555555555555556,\"#d8576b\"],[0.6666666666666666,\"#ed7953\"],[0.7777777777777778,\"#fb9f3a\"],[0.8888888888888888,\"#fdca26\"],[1.0,\"#f0f921\"]],\"sequentialminus\":[[0.0,\"#0d0887\"],[0.1111111111111111,\"#46039f\"],[0.2222222222222222,\"#7201a8\"],[0.3333333333333333,\"#9c179e\"],[0.4444444444444444,\"#bd3786\"],[0.5555555555555556,\"#d8576b\"],[0.6666666666666666,\"#ed7953\"],[0.7777777777777778,\"#fb9f3a\"],[0.8888888888888888,\"#fdca26\"],[1.0,\"#f0f921\"]],\"diverging\":[[0,\"#8e0152\"],[0.1,\"#c51b7d\"],[0.2,\"#de77ae\"],[0.3,\"#f1b6da\"],[0.4,\"#fde0ef\"],[0.5,\"#f7f7f7\"],[0.6,\"#e6f5d0\"],[0.7,\"#b8e186\"],[0.8,\"#7fbc41\"],[0.9,\"#4d9221\"],[1,\"#276419\"]]},\"xaxis\":{\"gridcolor\":\"white\",\"linecolor\":\"white\",\"ticks\":\"\",\"title\":{\"standoff\":15},\"zerolinecolor\":\"white\",\"automargin\":true,\"zerolinewidth\":2},\"yaxis\":{\"gridcolor\":\"white\",\"linecolor\":\"white\",\"ticks\":\"\",\"title\":{\"standoff\":15},\"zerolinecolor\":\"white\",\"automargin\":true,\"zerolinewidth\":2},\"scene\":{\"xaxis\":{\"backgroundcolor\":\"#E5ECF6\",\"gridcolor\":\"white\",\"linecolor\":\"white\",\"showbackground\":true,\"ticks\":\"\",\"zerolinecolor\":\"white\",\"gridwidth\":2},\"yaxis\":{\"backgroundcolor\":\"#E5ECF6\",\"gridcolor\":\"white\",\"linecolor\":\"white\",\"showbackground\":true,\"ticks\":\"\",\"zerolinecolor\":\"white\",\"gridwidth\":2},\"zaxis\":{\"backgroundcolor\":\"#E5ECF6\",\"gridcolor\":\"white\",\"linecolor\":\"white\",\"showbackground\":true,\"ticks\":\"\",\"zerolinecolor\":\"white\",\"gridwidth\":2}},\"shapedefaults\":{\"line\":{\"color\":\"#2a3f5f\"}},\"annotationdefaults\":{\"arrowcolor\":\"#2a3f5f\",\"arrowhead\":0,\"arrowwidth\":1},\"geo\":{\"bgcolor\":\"white\",\"landcolor\":\"#E5ECF6\",\"subunitcolor\":\"white\",\"showland\":true,\"showlakes\":true,\"lakecolor\":\"white\"},\"title\":{\"x\":0.05},\"mapbox\":{\"style\":\"light\"}}},\"xaxis\":{\"anchor\":\"y\",\"domain\":[0.0,1.0],\"title\":{\"text\":\"value\"}},\"yaxis\":{\"anchor\":\"x\",\"domain\":[0.0,0.7326],\"title\":{\"text\":\"count\"}},\"xaxis2\":{\"anchor\":\"y2\",\"domain\":[0.0,1.0],\"matches\":\"x\",\"showticklabels\":false,\"showgrid\":true},\"yaxis2\":{\"anchor\":\"x2\",\"domain\":[0.7426,1.0],\"matches\":\"y2\",\"showticklabels\":false,\"showline\":false,\"ticks\":\"\",\"showgrid\":false},\"legend\":{\"title\":{\"text\":\"variable\"},\"tracegroupgap\":0},\"title\":{\"text\":\"InvoiceDate\"},\"barmode\":\"relative\"},                        {\"responsive\": true}                    ).then(function(){\n",
              "                            \n",
              "var gd = document.getElementById('2721f0f4-0e55-4663-b7e0-f261df77a89c');\n",
              "var x = new MutationObserver(function (mutations, observer) {{\n",
              "        var display = window.getComputedStyle(gd).display;\n",
              "        if (!display || display === 'none') {{\n",
              "            console.log([gd, 'removed!']);\n",
              "            Plotly.purge(gd);\n",
              "            observer.disconnect();\n",
              "        }}\n",
              "}});\n",
              "\n",
              "// Listen for the removal of the full notebook cells\n",
              "var notebookContainer = gd.closest('#notebook-container');\n",
              "if (notebookContainer) {{\n",
              "    x.observe(notebookContainer, {childList: true});\n",
              "}}\n",
              "\n",
              "// Listen for the clearing of the current output cell\n",
              "var outputEl = gd.closest('.output');\n",
              "if (outputEl) {{\n",
              "    x.observe(outputEl, {childList: true});\n",
              "}}\n",
              "\n",
              "                        })                };                            </script>        </div>\n",
              "</body>\n",
              "</html>"
            ]
          },
          "metadata": {}
        }
      ]
    },
    {
      "cell_type": "code",
      "metadata": {
        "tags": [],
        "cell_id": "00020-0dd41995-78f8-4f2c-ac5d-f36288ccfda0",
        "deepnote_to_be_reexecuted": false,
        "source_hash": "6155d0f5",
        "execution_start": 1634325955534,
        "execution_millis": 2062,
        "deepnote_cell_type": "code",
        "deepnote_cell_height": 1714.0999755859375,
        "deepnote_output_heights": [
          49,
          424,
          527,
          527
        ],
        "outputId": "11cb2b55-c055-402f-8916-2ec940002a0d",
        "colab": {
          "base_uri": "https://localhost:8080/",
          "height": 1000
        },
        "id": "D28We7ZTSi6q"
      },
      "source": [
        "profile_serie(df_limpio['Price'])"
      ],
      "execution_count": 160,
      "outputs": [
        {
          "output_type": "display_data",
          "data": {
            "text/plain": [
              "<IPython.core.display.Markdown object>"
            ],
            "text/markdown": "## Price Profile"
          },
          "metadata": {}
        },
        {
          "output_type": "display_data",
          "data": {
            "text/plain": [
              "Type                            float64\n",
              "Number of observations         509017.0\n",
              "Mean                           3.615801\n",
              "Std                            6.904992\n",
              "Min                               0.001\n",
              "25%                                1.25\n",
              "50%                                 2.1\n",
              "75%                                4.21\n",
              "Max                              297.57\n",
              "Negative                              0\n",
              "Negative (%)                      0.0 %\n",
              "Zeros                                 0\n",
              "Zeros (%)                         0.0 %\n",
              "Kurt                         700.661342\n",
              "Skew                          21.554788\n",
              "                                       \n",
              "Missing cells                         0\n",
              "Missing cells (%)                 0.0 %\n",
              "Duplicate rows                   508344\n",
              "Duplicate rows (%)              99.87 %\n",
              "Total size in memory      4072264 bytes\n",
              "dtype: object"
            ]
          },
          "metadata": {}
        },
        {
          "output_type": "display_data",
          "data": {
            "text/html": [
              "<html>\n",
              "<head><meta charset=\"utf-8\" /></head>\n",
              "<body>\n",
              "    <div>            <script src=\"https://cdnjs.cloudflare.com/ajax/libs/mathjax/2.7.5/MathJax.js?config=TeX-AMS-MML_SVG\"></script><script type=\"text/javascript\">if (window.MathJax && window.MathJax.Hub && && window.MathJax.Hub.Config) {window.MathJax.Hub.Config({SVG: {font: \"STIX-Web\"}});}</script>                <script type=\"text/javascript\">window.PlotlyConfig = {MathJaxConfig: 'local'};</script>\n",
              "        <script src=\"https://cdn.plot.ly/plotly-2.12.1.min.js\"></script>                <div id=\"3c48f08f-9843-4dac-af00-5fc3e5b6a8c7\" class=\"plotly-graph-div\" style=\"height:525px; width:100%;\"></div>            <script type=\"text/javascript\">                                    window.PLOTLYENV=window.PLOTLYENV || {};                                    if (document.getElementById(\"3c48f08f-9843-4dac-af00-5fc3e5b6a8c7\")) {                    Plotly.newPlot(                        \"3c48f08f-9843-4dac-af00-5fc3e5b6a8c7\",                        [{\"alignmentgroup\":\"True\",\"bingroup\":\"x\",\"hovertemplate\":\"variable=Price<br>value=%{x}<br>count=%{y}<extra></extra>\",\"legendgroup\":\"Price\",\"marker\":{\"color\":\"#636efa\",\"pattern\":{\"shape\":\"\"}},\"name\":\"Price\",\"offsetgroup\":\"Price\",\"orientation\":\"v\",\"showlegend\":true,\"x\":[4.95,1.65,2.1,0.85,0.42,5.91,4.25,1.25,1.3,0.79,6.35,2.95,2.57,0.85,13.57,0.85,2.51,4.25,5.95,1.65,3.25,2.1,0.85,0.85,8.5,1.65,7.95,7.95,0.85,0.42,123.36,8.47,1.25,3.75,1.25,2.95,5.95,2.95,1.25,4.25,4.21,1.65,6.45,3.36,2.95,2.95,0.85,0.55,1.65,0.84,5.95,3.75,3.25,2.95,0.42,1.66,1.25,0.85,0.85,8.5,8.5,1.65,0.85,1.69,2.1,0.42,0.85,3.95,2.95,1.25,12.75,6.37,1.65,0.85,0.55,2.1,6.35,4.25,5.91,4.21,0.65,12.75,4.3,5.06,1.65,0.85,2.95,1.65,1.65,11.87,1.66,4.95,0.85,290.0,0.55,0.84,4.21,1.66,10.65,7.49,2.95,2.95,3.75,0.85,1.06,1.25,4.95,5.45,2.55,0.38,4.95,4.95,2.95,9.95,0.85,1.95,0.85,6.75,1.65,1.95,1.95,1.28,1.95,1.95,0.85,6.04,2.95,0.85,2.57,3.25,1.25,6.75,2.51,2.55,5.95,0.85,1.25,2.1,2.1,3.75,2.1,9.95,3.75,4.21,4.65,2.1,1.25,4.95,5.06,4.21,1.25,0.42,2.95,0.65,4.25,1.65,8.5,3.36,3.36,1.25,0.65,1.65,2.95,2.25,2.1,2.95,0.29,1.25,14.43,1.65,0.85,1.69,0.29,2.55,0.42,10.0,2.95,4.95,2.95,0.81,0.65,1.25,3.36,3.25,1.25,2.1,2.1,4.25,0.85,5.06,2.51,6.75,3.75,2.55,1.69,5.95,2.51,1.25,1.25,3.95,6.75,5.95,1.25,4.95,1.7,2.95,1.45,3.75,6.75,2.1,4.65,3.75,1.25,0.84,1.65,5.06,2.55,2.55,1.65,7.49,1.25,1.66,2.95,0.87,3.43,5.88,5.91,0.65,2.95,5.45,2.95,4.21,0.55,0.36,1.95,21.23,0.85,4.25,18.0,0.29,3.75,2.1,1.65,1.06,0.65,0.34,4.95,6.75,4.95,6.75,1.95,8.47,3.75,6.45,4.3,1.45,1.65,12.75,0.43,2.95,0.29,0.55,5.95,0.95,0.85,1.45,2.95,4.95,0.85,4.25,0.85,2.95,4.21,7.95,4.95,4.25,5.45,4.95,1.25,1.65,1.65,0.42,1.95,1.65,2.51,1.25,1.65,3.75,2.51,1.25,1.95,1.95,2.95,12.72,0.85,1.28,1.7,0.95,16.98,1.06,3.36,2.55,1.25,0.85,1.95,1.25,0.42,2.55,2.95,7.95,6.75,1.25,0.42,9.95,0.85,4.95,1.25,1.95,1.65,10.65,4.95,1.66,1.45,2.1,3.39,0.85,11.02,2.95,0.85,6.75,3.36,2.95,1.65,5.95,14.95,3.75,1.65,2.95,12.72,5.95,1.65,7.49,4.21,0.65,5.95,0.72,1.65,1.25,1.65,1.65,1.66,2.95,3.43,4.65,4.25,0.85,0.85,2.1,5.95,1.25,2.95,1.25,0.85,2.55,8.47,2.51,2.55,1.25,1.95,0.42,1.65,2.95,0.65,1.25,3.36,1.65,2.95,1.45,1.95,0.85,0.85,1.95,4.21,2.1,3.75,2.95,1.65,1.25,0.85,5.91,8.5,0.85,1.95,1.49,2.55,1.25,3.75,2.95,1.25,1.25,8.65,4.95,8.5,2.55,6.45,5.95,0.42,5.06,2.55,1.69,0.85,2.55,0.85,0.85,12.75,2.55,4.25,4.95,1.25,8.5,1.65,0.85,0.83,6.04,2.95,15.0,1.25,0.85,5.95,5.95,1.65,4.21,1.25,2.95,0.55,2.95,2.1,2.55,2.55,1.65,1.25,3.81,0.65,4.25,3.36,0.83,0.85,2.1,3.25,21.7,9.95,6.04,1.25,2.57,1.95,0.42,2.1,1.25,0.85,1.95,1.69,0.65,2.95,9.95,1.65,4.25,1.65,0.83,21.23,1.25,0.43,2.95,0.42,0.85,2.1,12.75,2.95,8.5,6.04,9.95,2.55,0.5,2.51,1.69,2.95,2.51,1.45,1.45,8.47,8.47,13.57,14.95,0.85,4.21,7.95,2.95,3.75,0.42,2.51,1.25,2.1,0.55,2.1,8.5,2.1,5.95,1.65,1.25,0.85,5.95,1.45,1.25,0.85,2.55,0.65,3.36,0.42,7.49,1.66,1.69,12.75,0.55,1.65,1.66,0.42,12.75,0.72,2.55,4.95,1.65,0.65,3.75,2.95,4.95,16.13,1.7,3.95,4.21,3.75,7.62,13.57,2.95,1.65,0.85,2.95,2.1,7.49,2.95,10.95,1.65,2.55,3.75,2.98,0.42,8.47,3.36,1.65,1.65,0.42,6.95,2.1,4.95,0.85,0.55,1.7,1.25,0.55,6.04,1.65,12.75,25.49,0.55,0.65,0.85,1.25,1.25,1.95,6.35,5.95,1.25,0.55,2.51,1.65,2.51,8.47,1.25,3.75,19.95,0.42,9.95,6.75,1.25,1.25,12.75,1.25,1.25,2.95,3.36,0.85,1.25,1.7,0.42,0.29,2.1,1.65,2.95,4.25,4.95,0.85,1.25,2.95,1.65,3.75,5.91,2.1,4.95,4.21,1.25,2.1,1.65,8.47,2.1,2.55,0.42,4.95,0.85,1.69,15.0,2.1,0.42,2.1,0.29,7.62,0.42,1.95,1.65,2.55,1.7,5.06,0.73,2.95,3.45,1.95,0.19,0.42,0.42,0.65,4.95,0.85,7.62,1.25,5.91,1.45,9.95,2.25,6.75,6.35,3.36,2.95,0.42,2.95,3.75,0.85,1.25,1.25,0.85,1.65,1.95,4.21,1.65,4.95,1.49,6.75,3.95,1.65,1.25,2.95,1.65,3.75,0.55,0.42,4.95,1.95,3.36,1.65,2.55,9.95,4.95,1.69,1.45,1.25,1.95,1.95,1.25,1.25,1.25,6.35,1.25,1.25,1.95,0.85,1.66,2.95,1.25,3.25,1.45,2.95,12.72,4.25,4.95,1.65,8.5,2.1,3.35,2.95,3.95,0.95,3.75,8.5,7.95,4.95,2.95,3.75,0.85,3.43,5.95,1.65,0.85,2.51,1.25,5.95,14.95,0.95,2.95,1.25,39.95,1.7,4.95,1.25,4.95,1.65,5.45,5.95,0.42,1.25,0.85,1.65,1.25,8.5,2.95,1.45,8.47,2.55,1.45,0.42,1.25,1.25,1.65,0.85,2.95,3.75,1.25,8.5,1.65,4.21,3.75,1.95,12.75,0.85,5.06,0.85,4.25,1.25,1.65,5.95,0.85,3.43,3.75,1.25,3.75,2.1,1.25,2.55,12.75,1.65,2.95,2.51,0.36,2.95,1.65,2.51,1.95,5.95,1.25,1.66,2.55,2.57,1.25,10.95,2.51,0.55,0.42,2.98,1.95,0.85,0.85,1.05,0.55,12.75,2.51,4.95,5.51,0.85,8.47,1.25,5.06,1.95,0.85,1.25,15.0,4.95,8.5,8.5,4.21,2.95,3.95,4.65,0.42,1.65,2.1,4.21,0.19,2.1,4.25,1.49,2.51,6.75,1.95,5.91,2.95,0.85,5.95,3.36,0.85,0.85,0.85,3.75,0.81,2.55,0.42,4.3,1.25,0.29,0.21,2.55,4.3,2.95,0.85,1.25,1.95,1.25,3.43,0.65,1.45,14.95,12.75,2.95,1.25,1.65,1.25,3.25,1.65,5.91,0.36,4.21,2.95,2.95,12.75,1.49,1.66,3.36,9.95,7.65,1.25,3.43,8.95,0.42,0.85,3.36,2.51,4.21,1.25,3.19,8.5,0.42,7.78,2.95,0.87,3.36,2.95,0.85,3.95,0.87,7.49,4.21,5.95,0.85,0.85,1.25,1.45,3.95,0.85,1.25,7.62,2.55,1.95,8.5,21.23,3.75,3.36,0.85,1.25,2.95,0.85,1.49,1.49,2.55,2.95,0.42,0.42,1.25,4.21,9.95,0.85,4.65,2.1,3.75,2.1,2.55,1.25,25.49,0.85,1.95,12.75,5.91,12.75,1.65,3.75,1.69,3.75,2.57,2.1,2.51,1.25,0.38,8.47,7.62,1.25,5.06,1.25,2.55,1.66,0.42,1.65,5.91,3.75,2.95,1.25,3.75,9.95,2.1,1.45,1.25,2.1,10.65,3.36,0.85,0.42,2.55,4.95,3.75,3.75,10.65,1.65,0.55,1.66,16.95,1.25,11.87,1.95,5.95,1.65,4.95,5.91,3.75,1.25,1.95,1.25,2.54,0.42],\"xaxis\":\"x\",\"yaxis\":\"y\",\"type\":\"histogram\"},{\"alignmentgroup\":\"True\",\"hovertemplate\":\"variable=Price<br>value=%{x}<extra></extra>\",\"legendgroup\":\"Price\",\"marker\":{\"color\":\"#636efa\"},\"name\":\"Price\",\"notched\":true,\"offsetgroup\":\"Price\",\"showlegend\":false,\"x\":[4.95,1.65,2.1,0.85,0.42,5.91,4.25,1.25,1.3,0.79,6.35,2.95,2.57,0.85,13.57,0.85,2.51,4.25,5.95,1.65,3.25,2.1,0.85,0.85,8.5,1.65,7.95,7.95,0.85,0.42,123.36,8.47,1.25,3.75,1.25,2.95,5.95,2.95,1.25,4.25,4.21,1.65,6.45,3.36,2.95,2.95,0.85,0.55,1.65,0.84,5.95,3.75,3.25,2.95,0.42,1.66,1.25,0.85,0.85,8.5,8.5,1.65,0.85,1.69,2.1,0.42,0.85,3.95,2.95,1.25,12.75,6.37,1.65,0.85,0.55,2.1,6.35,4.25,5.91,4.21,0.65,12.75,4.3,5.06,1.65,0.85,2.95,1.65,1.65,11.87,1.66,4.95,0.85,290.0,0.55,0.84,4.21,1.66,10.65,7.49,2.95,2.95,3.75,0.85,1.06,1.25,4.95,5.45,2.55,0.38,4.95,4.95,2.95,9.95,0.85,1.95,0.85,6.75,1.65,1.95,1.95,1.28,1.95,1.95,0.85,6.04,2.95,0.85,2.57,3.25,1.25,6.75,2.51,2.55,5.95,0.85,1.25,2.1,2.1,3.75,2.1,9.95,3.75,4.21,4.65,2.1,1.25,4.95,5.06,4.21,1.25,0.42,2.95,0.65,4.25,1.65,8.5,3.36,3.36,1.25,0.65,1.65,2.95,2.25,2.1,2.95,0.29,1.25,14.43,1.65,0.85,1.69,0.29,2.55,0.42,10.0,2.95,4.95,2.95,0.81,0.65,1.25,3.36,3.25,1.25,2.1,2.1,4.25,0.85,5.06,2.51,6.75,3.75,2.55,1.69,5.95,2.51,1.25,1.25,3.95,6.75,5.95,1.25,4.95,1.7,2.95,1.45,3.75,6.75,2.1,4.65,3.75,1.25,0.84,1.65,5.06,2.55,2.55,1.65,7.49,1.25,1.66,2.95,0.87,3.43,5.88,5.91,0.65,2.95,5.45,2.95,4.21,0.55,0.36,1.95,21.23,0.85,4.25,18.0,0.29,3.75,2.1,1.65,1.06,0.65,0.34,4.95,6.75,4.95,6.75,1.95,8.47,3.75,6.45,4.3,1.45,1.65,12.75,0.43,2.95,0.29,0.55,5.95,0.95,0.85,1.45,2.95,4.95,0.85,4.25,0.85,2.95,4.21,7.95,4.95,4.25,5.45,4.95,1.25,1.65,1.65,0.42,1.95,1.65,2.51,1.25,1.65,3.75,2.51,1.25,1.95,1.95,2.95,12.72,0.85,1.28,1.7,0.95,16.98,1.06,3.36,2.55,1.25,0.85,1.95,1.25,0.42,2.55,2.95,7.95,6.75,1.25,0.42,9.95,0.85,4.95,1.25,1.95,1.65,10.65,4.95,1.66,1.45,2.1,3.39,0.85,11.02,2.95,0.85,6.75,3.36,2.95,1.65,5.95,14.95,3.75,1.65,2.95,12.72,5.95,1.65,7.49,4.21,0.65,5.95,0.72,1.65,1.25,1.65,1.65,1.66,2.95,3.43,4.65,4.25,0.85,0.85,2.1,5.95,1.25,2.95,1.25,0.85,2.55,8.47,2.51,2.55,1.25,1.95,0.42,1.65,2.95,0.65,1.25,3.36,1.65,2.95,1.45,1.95,0.85,0.85,1.95,4.21,2.1,3.75,2.95,1.65,1.25,0.85,5.91,8.5,0.85,1.95,1.49,2.55,1.25,3.75,2.95,1.25,1.25,8.65,4.95,8.5,2.55,6.45,5.95,0.42,5.06,2.55,1.69,0.85,2.55,0.85,0.85,12.75,2.55,4.25,4.95,1.25,8.5,1.65,0.85,0.83,6.04,2.95,15.0,1.25,0.85,5.95,5.95,1.65,4.21,1.25,2.95,0.55,2.95,2.1,2.55,2.55,1.65,1.25,3.81,0.65,4.25,3.36,0.83,0.85,2.1,3.25,21.7,9.95,6.04,1.25,2.57,1.95,0.42,2.1,1.25,0.85,1.95,1.69,0.65,2.95,9.95,1.65,4.25,1.65,0.83,21.23,1.25,0.43,2.95,0.42,0.85,2.1,12.75,2.95,8.5,6.04,9.95,2.55,0.5,2.51,1.69,2.95,2.51,1.45,1.45,8.47,8.47,13.57,14.95,0.85,4.21,7.95,2.95,3.75,0.42,2.51,1.25,2.1,0.55,2.1,8.5,2.1,5.95,1.65,1.25,0.85,5.95,1.45,1.25,0.85,2.55,0.65,3.36,0.42,7.49,1.66,1.69,12.75,0.55,1.65,1.66,0.42,12.75,0.72,2.55,4.95,1.65,0.65,3.75,2.95,4.95,16.13,1.7,3.95,4.21,3.75,7.62,13.57,2.95,1.65,0.85,2.95,2.1,7.49,2.95,10.95,1.65,2.55,3.75,2.98,0.42,8.47,3.36,1.65,1.65,0.42,6.95,2.1,4.95,0.85,0.55,1.7,1.25,0.55,6.04,1.65,12.75,25.49,0.55,0.65,0.85,1.25,1.25,1.95,6.35,5.95,1.25,0.55,2.51,1.65,2.51,8.47,1.25,3.75,19.95,0.42,9.95,6.75,1.25,1.25,12.75,1.25,1.25,2.95,3.36,0.85,1.25,1.7,0.42,0.29,2.1,1.65,2.95,4.25,4.95,0.85,1.25,2.95,1.65,3.75,5.91,2.1,4.95,4.21,1.25,2.1,1.65,8.47,2.1,2.55,0.42,4.95,0.85,1.69,15.0,2.1,0.42,2.1,0.29,7.62,0.42,1.95,1.65,2.55,1.7,5.06,0.73,2.95,3.45,1.95,0.19,0.42,0.42,0.65,4.95,0.85,7.62,1.25,5.91,1.45,9.95,2.25,6.75,6.35,3.36,2.95,0.42,2.95,3.75,0.85,1.25,1.25,0.85,1.65,1.95,4.21,1.65,4.95,1.49,6.75,3.95,1.65,1.25,2.95,1.65,3.75,0.55,0.42,4.95,1.95,3.36,1.65,2.55,9.95,4.95,1.69,1.45,1.25,1.95,1.95,1.25,1.25,1.25,6.35,1.25,1.25,1.95,0.85,1.66,2.95,1.25,3.25,1.45,2.95,12.72,4.25,4.95,1.65,8.5,2.1,3.35,2.95,3.95,0.95,3.75,8.5,7.95,4.95,2.95,3.75,0.85,3.43,5.95,1.65,0.85,2.51,1.25,5.95,14.95,0.95,2.95,1.25,39.95,1.7,4.95,1.25,4.95,1.65,5.45,5.95,0.42,1.25,0.85,1.65,1.25,8.5,2.95,1.45,8.47,2.55,1.45,0.42,1.25,1.25,1.65,0.85,2.95,3.75,1.25,8.5,1.65,4.21,3.75,1.95,12.75,0.85,5.06,0.85,4.25,1.25,1.65,5.95,0.85,3.43,3.75,1.25,3.75,2.1,1.25,2.55,12.75,1.65,2.95,2.51,0.36,2.95,1.65,2.51,1.95,5.95,1.25,1.66,2.55,2.57,1.25,10.95,2.51,0.55,0.42,2.98,1.95,0.85,0.85,1.05,0.55,12.75,2.51,4.95,5.51,0.85,8.47,1.25,5.06,1.95,0.85,1.25,15.0,4.95,8.5,8.5,4.21,2.95,3.95,4.65,0.42,1.65,2.1,4.21,0.19,2.1,4.25,1.49,2.51,6.75,1.95,5.91,2.95,0.85,5.95,3.36,0.85,0.85,0.85,3.75,0.81,2.55,0.42,4.3,1.25,0.29,0.21,2.55,4.3,2.95,0.85,1.25,1.95,1.25,3.43,0.65,1.45,14.95,12.75,2.95,1.25,1.65,1.25,3.25,1.65,5.91,0.36,4.21,2.95,2.95,12.75,1.49,1.66,3.36,9.95,7.65,1.25,3.43,8.95,0.42,0.85,3.36,2.51,4.21,1.25,3.19,8.5,0.42,7.78,2.95,0.87,3.36,2.95,0.85,3.95,0.87,7.49,4.21,5.95,0.85,0.85,1.25,1.45,3.95,0.85,1.25,7.62,2.55,1.95,8.5,21.23,3.75,3.36,0.85,1.25,2.95,0.85,1.49,1.49,2.55,2.95,0.42,0.42,1.25,4.21,9.95,0.85,4.65,2.1,3.75,2.1,2.55,1.25,25.49,0.85,1.95,12.75,5.91,12.75,1.65,3.75,1.69,3.75,2.57,2.1,2.51,1.25,0.38,8.47,7.62,1.25,5.06,1.25,2.55,1.66,0.42,1.65,5.91,3.75,2.95,1.25,3.75,9.95,2.1,1.45,1.25,2.1,10.65,3.36,0.85,0.42,2.55,4.95,3.75,3.75,10.65,1.65,0.55,1.66,16.95,1.25,11.87,1.95,5.95,1.65,4.95,5.91,3.75,1.25,1.95,1.25,2.54,0.42],\"xaxis\":\"x2\",\"yaxis\":\"y2\",\"type\":\"box\"}],                        {\"template\":{\"data\":{\"histogram2dcontour\":[{\"type\":\"histogram2dcontour\",\"colorbar\":{\"outlinewidth\":0,\"ticks\":\"\"},\"colorscale\":[[0.0,\"#0d0887\"],[0.1111111111111111,\"#46039f\"],[0.2222222222222222,\"#7201a8\"],[0.3333333333333333,\"#9c179e\"],[0.4444444444444444,\"#bd3786\"],[0.5555555555555556,\"#d8576b\"],[0.6666666666666666,\"#ed7953\"],[0.7777777777777778,\"#fb9f3a\"],[0.8888888888888888,\"#fdca26\"],[1.0,\"#f0f921\"]]}],\"choropleth\":[{\"type\":\"choropleth\",\"colorbar\":{\"outlinewidth\":0,\"ticks\":\"\"}}],\"histogram2d\":[{\"type\":\"histogram2d\",\"colorbar\":{\"outlinewidth\":0,\"ticks\":\"\"},\"colorscale\":[[0.0,\"#0d0887\"],[0.1111111111111111,\"#46039f\"],[0.2222222222222222,\"#7201a8\"],[0.3333333333333333,\"#9c179e\"],[0.4444444444444444,\"#bd3786\"],[0.5555555555555556,\"#d8576b\"],[0.6666666666666666,\"#ed7953\"],[0.7777777777777778,\"#fb9f3a\"],[0.8888888888888888,\"#fdca26\"],[1.0,\"#f0f921\"]]}],\"heatmap\":[{\"type\":\"heatmap\",\"colorbar\":{\"outlinewidth\":0,\"ticks\":\"\"},\"colorscale\":[[0.0,\"#0d0887\"],[0.1111111111111111,\"#46039f\"],[0.2222222222222222,\"#7201a8\"],[0.3333333333333333,\"#9c179e\"],[0.4444444444444444,\"#bd3786\"],[0.5555555555555556,\"#d8576b\"],[0.6666666666666666,\"#ed7953\"],[0.7777777777777778,\"#fb9f3a\"],[0.8888888888888888,\"#fdca26\"],[1.0,\"#f0f921\"]]}],\"heatmapgl\":[{\"type\":\"heatmapgl\",\"colorbar\":{\"outlinewidth\":0,\"ticks\":\"\"},\"colorscale\":[[0.0,\"#0d0887\"],[0.1111111111111111,\"#46039f\"],[0.2222222222222222,\"#7201a8\"],[0.3333333333333333,\"#9c179e\"],[0.4444444444444444,\"#bd3786\"],[0.5555555555555556,\"#d8576b\"],[0.6666666666666666,\"#ed7953\"],[0.7777777777777778,\"#fb9f3a\"],[0.8888888888888888,\"#fdca26\"],[1.0,\"#f0f921\"]]}],\"contourcarpet\":[{\"type\":\"contourcarpet\",\"colorbar\":{\"outlinewidth\":0,\"ticks\":\"\"}}],\"contour\":[{\"type\":\"contour\",\"colorbar\":{\"outlinewidth\":0,\"ticks\":\"\"},\"colorscale\":[[0.0,\"#0d0887\"],[0.1111111111111111,\"#46039f\"],[0.2222222222222222,\"#7201a8\"],[0.3333333333333333,\"#9c179e\"],[0.4444444444444444,\"#bd3786\"],[0.5555555555555556,\"#d8576b\"],[0.6666666666666666,\"#ed7953\"],[0.7777777777777778,\"#fb9f3a\"],[0.8888888888888888,\"#fdca26\"],[1.0,\"#f0f921\"]]}],\"surface\":[{\"type\":\"surface\",\"colorbar\":{\"outlinewidth\":0,\"ticks\":\"\"},\"colorscale\":[[0.0,\"#0d0887\"],[0.1111111111111111,\"#46039f\"],[0.2222222222222222,\"#7201a8\"],[0.3333333333333333,\"#9c179e\"],[0.4444444444444444,\"#bd3786\"],[0.5555555555555556,\"#d8576b\"],[0.6666666666666666,\"#ed7953\"],[0.7777777777777778,\"#fb9f3a\"],[0.8888888888888888,\"#fdca26\"],[1.0,\"#f0f921\"]]}],\"mesh3d\":[{\"type\":\"mesh3d\",\"colorbar\":{\"outlinewidth\":0,\"ticks\":\"\"}}],\"scatter\":[{\"fillpattern\":{\"fillmode\":\"overlay\",\"size\":10,\"solidity\":0.2},\"type\":\"scatter\"}],\"parcoords\":[{\"type\":\"parcoords\",\"line\":{\"colorbar\":{\"outlinewidth\":0,\"ticks\":\"\"}}}],\"scatterpolargl\":[{\"type\":\"scatterpolargl\",\"marker\":{\"colorbar\":{\"outlinewidth\":0,\"ticks\":\"\"}}}],\"bar\":[{\"error_x\":{\"color\":\"#2a3f5f\"},\"error_y\":{\"color\":\"#2a3f5f\"},\"marker\":{\"line\":{\"color\":\"#E5ECF6\",\"width\":0.5},\"pattern\":{\"fillmode\":\"overlay\",\"size\":10,\"solidity\":0.2}},\"type\":\"bar\"}],\"scattergeo\":[{\"type\":\"scattergeo\",\"marker\":{\"colorbar\":{\"outlinewidth\":0,\"ticks\":\"\"}}}],\"scatterpolar\":[{\"type\":\"scatterpolar\",\"marker\":{\"colorbar\":{\"outlinewidth\":0,\"ticks\":\"\"}}}],\"histogram\":[{\"marker\":{\"pattern\":{\"fillmode\":\"overlay\",\"size\":10,\"solidity\":0.2}},\"type\":\"histogram\"}],\"scattergl\":[{\"type\":\"scattergl\",\"marker\":{\"colorbar\":{\"outlinewidth\":0,\"ticks\":\"\"}}}],\"scatter3d\":[{\"type\":\"scatter3d\",\"line\":{\"colorbar\":{\"outlinewidth\":0,\"ticks\":\"\"}},\"marker\":{\"colorbar\":{\"outlinewidth\":0,\"ticks\":\"\"}}}],\"scattermapbox\":[{\"type\":\"scattermapbox\",\"marker\":{\"colorbar\":{\"outlinewidth\":0,\"ticks\":\"\"}}}],\"scatterternary\":[{\"type\":\"scatterternary\",\"marker\":{\"colorbar\":{\"outlinewidth\":0,\"ticks\":\"\"}}}],\"scattercarpet\":[{\"type\":\"scattercarpet\",\"marker\":{\"colorbar\":{\"outlinewidth\":0,\"ticks\":\"\"}}}],\"carpet\":[{\"aaxis\":{\"endlinecolor\":\"#2a3f5f\",\"gridcolor\":\"white\",\"linecolor\":\"white\",\"minorgridcolor\":\"white\",\"startlinecolor\":\"#2a3f5f\"},\"baxis\":{\"endlinecolor\":\"#2a3f5f\",\"gridcolor\":\"white\",\"linecolor\":\"white\",\"minorgridcolor\":\"white\",\"startlinecolor\":\"#2a3f5f\"},\"type\":\"carpet\"}],\"table\":[{\"cells\":{\"fill\":{\"color\":\"#EBF0F8\"},\"line\":{\"color\":\"white\"}},\"header\":{\"fill\":{\"color\":\"#C8D4E3\"},\"line\":{\"color\":\"white\"}},\"type\":\"table\"}],\"barpolar\":[{\"marker\":{\"line\":{\"color\":\"#E5ECF6\",\"width\":0.5},\"pattern\":{\"fillmode\":\"overlay\",\"size\":10,\"solidity\":0.2}},\"type\":\"barpolar\"}],\"pie\":[{\"automargin\":true,\"type\":\"pie\"}]},\"layout\":{\"autotypenumbers\":\"strict\",\"colorway\":[\"#636efa\",\"#EF553B\",\"#00cc96\",\"#ab63fa\",\"#FFA15A\",\"#19d3f3\",\"#FF6692\",\"#B6E880\",\"#FF97FF\",\"#FECB52\"],\"font\":{\"color\":\"#2a3f5f\"},\"hovermode\":\"closest\",\"hoverlabel\":{\"align\":\"left\"},\"paper_bgcolor\":\"white\",\"plot_bgcolor\":\"#E5ECF6\",\"polar\":{\"bgcolor\":\"#E5ECF6\",\"angularaxis\":{\"gridcolor\":\"white\",\"linecolor\":\"white\",\"ticks\":\"\"},\"radialaxis\":{\"gridcolor\":\"white\",\"linecolor\":\"white\",\"ticks\":\"\"}},\"ternary\":{\"bgcolor\":\"#E5ECF6\",\"aaxis\":{\"gridcolor\":\"white\",\"linecolor\":\"white\",\"ticks\":\"\"},\"baxis\":{\"gridcolor\":\"white\",\"linecolor\":\"white\",\"ticks\":\"\"},\"caxis\":{\"gridcolor\":\"white\",\"linecolor\":\"white\",\"ticks\":\"\"}},\"coloraxis\":{\"colorbar\":{\"outlinewidth\":0,\"ticks\":\"\"}},\"colorscale\":{\"sequential\":[[0.0,\"#0d0887\"],[0.1111111111111111,\"#46039f\"],[0.2222222222222222,\"#7201a8\"],[0.3333333333333333,\"#9c179e\"],[0.4444444444444444,\"#bd3786\"],[0.5555555555555556,\"#d8576b\"],[0.6666666666666666,\"#ed7953\"],[0.7777777777777778,\"#fb9f3a\"],[0.8888888888888888,\"#fdca26\"],[1.0,\"#f0f921\"]],\"sequentialminus\":[[0.0,\"#0d0887\"],[0.1111111111111111,\"#46039f\"],[0.2222222222222222,\"#7201a8\"],[0.3333333333333333,\"#9c179e\"],[0.4444444444444444,\"#bd3786\"],[0.5555555555555556,\"#d8576b\"],[0.6666666666666666,\"#ed7953\"],[0.7777777777777778,\"#fb9f3a\"],[0.8888888888888888,\"#fdca26\"],[1.0,\"#f0f921\"]],\"diverging\":[[0,\"#8e0152\"],[0.1,\"#c51b7d\"],[0.2,\"#de77ae\"],[0.3,\"#f1b6da\"],[0.4,\"#fde0ef\"],[0.5,\"#f7f7f7\"],[0.6,\"#e6f5d0\"],[0.7,\"#b8e186\"],[0.8,\"#7fbc41\"],[0.9,\"#4d9221\"],[1,\"#276419\"]]},\"xaxis\":{\"gridcolor\":\"white\",\"linecolor\":\"white\",\"ticks\":\"\",\"title\":{\"standoff\":15},\"zerolinecolor\":\"white\",\"automargin\":true,\"zerolinewidth\":2},\"yaxis\":{\"gridcolor\":\"white\",\"linecolor\":\"white\",\"ticks\":\"\",\"title\":{\"standoff\":15},\"zerolinecolor\":\"white\",\"automargin\":true,\"zerolinewidth\":2},\"scene\":{\"xaxis\":{\"backgroundcolor\":\"#E5ECF6\",\"gridcolor\":\"white\",\"linecolor\":\"white\",\"showbackground\":true,\"ticks\":\"\",\"zerolinecolor\":\"white\",\"gridwidth\":2},\"yaxis\":{\"backgroundcolor\":\"#E5ECF6\",\"gridcolor\":\"white\",\"linecolor\":\"white\",\"showbackground\":true,\"ticks\":\"\",\"zerolinecolor\":\"white\",\"gridwidth\":2},\"zaxis\":{\"backgroundcolor\":\"#E5ECF6\",\"gridcolor\":\"white\",\"linecolor\":\"white\",\"showbackground\":true,\"ticks\":\"\",\"zerolinecolor\":\"white\",\"gridwidth\":2}},\"shapedefaults\":{\"line\":{\"color\":\"#2a3f5f\"}},\"annotationdefaults\":{\"arrowcolor\":\"#2a3f5f\",\"arrowhead\":0,\"arrowwidth\":1},\"geo\":{\"bgcolor\":\"white\",\"landcolor\":\"#E5ECF6\",\"subunitcolor\":\"white\",\"showland\":true,\"showlakes\":true,\"lakecolor\":\"white\"},\"title\":{\"x\":0.05},\"mapbox\":{\"style\":\"light\"}}},\"xaxis\":{\"anchor\":\"y\",\"domain\":[0.0,1.0],\"title\":{\"text\":\"value\"}},\"yaxis\":{\"anchor\":\"x\",\"domain\":[0.0,0.7326],\"title\":{\"text\":\"count\"}},\"xaxis2\":{\"anchor\":\"y2\",\"domain\":[0.0,1.0],\"matches\":\"x\",\"showticklabels\":false,\"showgrid\":true},\"yaxis2\":{\"anchor\":\"x2\",\"domain\":[0.7426,1.0],\"matches\":\"y2\",\"showticklabels\":false,\"showline\":false,\"ticks\":\"\",\"showgrid\":false},\"legend\":{\"title\":{\"text\":\"variable\"},\"tracegroupgap\":0},\"title\":{\"text\":\"Price - With Outliers\"},\"barmode\":\"relative\"},                        {\"responsive\": true}                    ).then(function(){\n",
              "                            \n",
              "var gd = document.getElementById('3c48f08f-9843-4dac-af00-5fc3e5b6a8c7');\n",
              "var x = new MutationObserver(function (mutations, observer) {{\n",
              "        var display = window.getComputedStyle(gd).display;\n",
              "        if (!display || display === 'none') {{\n",
              "            console.log([gd, 'removed!']);\n",
              "            Plotly.purge(gd);\n",
              "            observer.disconnect();\n",
              "        }}\n",
              "}});\n",
              "\n",
              "// Listen for the removal of the full notebook cells\n",
              "var notebookContainer = gd.closest('#notebook-container');\n",
              "if (notebookContainer) {{\n",
              "    x.observe(notebookContainer, {childList: true});\n",
              "}}\n",
              "\n",
              "// Listen for the clearing of the current output cell\n",
              "var outputEl = gd.closest('.output');\n",
              "if (outputEl) {{\n",
              "    x.observe(outputEl, {childList: true});\n",
              "}}\n",
              "\n",
              "                        })                };                            </script>        </div>\n",
              "</body>\n",
              "</html>"
            ]
          },
          "metadata": {}
        },
        {
          "output_type": "display_data",
          "data": {
            "text/html": [
              "<html>\n",
              "<head><meta charset=\"utf-8\" /></head>\n",
              "<body>\n",
              "    <div>            <script src=\"https://cdnjs.cloudflare.com/ajax/libs/mathjax/2.7.5/MathJax.js?config=TeX-AMS-MML_SVG\"></script><script type=\"text/javascript\">if (window.MathJax && window.MathJax.Hub && && window.MathJax.Hub.Config) {window.MathJax.Hub.Config({SVG: {font: \"STIX-Web\"}});}</script>                <script type=\"text/javascript\">window.PlotlyConfig = {MathJaxConfig: 'local'};</script>\n",
              "        <script src=\"https://cdn.plot.ly/plotly-2.12.1.min.js\"></script>                <div id=\"67466654-b102-4ae3-80b9-23a32b5c7d84\" class=\"plotly-graph-div\" style=\"height:525px; width:100%;\"></div>            <script type=\"text/javascript\">                                    window.PLOTLYENV=window.PLOTLYENV || {};                                    if (document.getElementById(\"67466654-b102-4ae3-80b9-23a32b5c7d84\")) {                    Plotly.newPlot(                        \"67466654-b102-4ae3-80b9-23a32b5c7d84\",                        [{\"alignmentgroup\":\"True\",\"bingroup\":\"x\",\"hovertemplate\":\"variable=Price<br>value=%{x}<br>count=%{y}<extra></extra>\",\"legendgroup\":\"Price\",\"marker\":{\"color\":\"#636efa\",\"pattern\":{\"shape\":\"\"}},\"name\":\"Price\",\"offsetgroup\":\"Price\",\"orientation\":\"v\",\"showlegend\":true,\"x\":[4.95,1.65,2.1,0.85,0.42,5.91,4.25,1.25,1.3,0.79,6.35,2.95,2.57,0.85,13.57,0.85,2.51,4.25,5.95,1.65,3.25,2.1,0.85,0.85,8.5,1.65,7.95,7.95,0.85,0.42,8.47,1.25,3.75,1.25,2.95,5.95,2.95,1.25,4.25,4.21,1.65,6.45,3.36,2.95,2.95,0.85,0.55,1.65,0.84,5.95,3.75,3.25,2.95,0.42,1.66,1.25,0.85,0.85,8.5,8.5,1.65,0.85,1.69,2.1,0.42,0.85,3.95,2.95,1.25,12.75,6.37,1.65,0.85,0.55,2.1,6.35,4.25,5.91,4.21,0.65,12.75,4.3,5.06,1.65,0.85,2.95,1.65,1.65,11.87,1.66,4.95,0.85,0.55,0.84,4.21,1.66,10.65,7.49,2.95,2.95,3.75,0.85,1.06,1.25,4.95,5.45,2.55,0.38,4.95,4.95,2.95,9.95,0.85,1.95,0.85,6.75,1.65,1.95,1.95,1.28,1.95,1.95,0.85,6.04,2.95,0.85,2.57,3.25,1.25,6.75,2.51,2.55,5.95,0.85,1.25,2.1,2.1,3.75,2.1,9.95,3.75,4.21,4.65,2.1,1.25,4.95,5.06,4.21,1.25,0.42,2.95,0.65,4.25,1.65,8.5,3.36,3.36,1.25,0.65,1.65,2.95,2.25,2.1,2.95,0.29,1.25,14.43,1.65,0.85,1.69,0.29,2.55,0.42,10.0,2.95,4.95,2.95,0.81,0.65,1.25,3.36,3.25,1.25,2.1,2.1,4.25,0.85,5.06,2.51,6.75,3.75,2.55,1.69,5.95,2.51,1.25,1.25,3.95,6.75,5.95,1.25,4.95,1.7,2.95,1.45,3.75,6.75,2.1,4.65,3.75,1.25,0.84,1.65,5.06,2.55,2.55,1.65,7.49,1.25,1.66,2.95,0.87,3.43,5.88,5.91,0.65,2.95,5.45,2.95,4.21,0.55,0.36,1.95,21.23,0.85,4.25,18.0,0.29,3.75,2.1,1.65,1.06,0.65,0.34,4.95,6.75,4.95,6.75,1.95,8.47,3.75,6.45,4.3,1.45,1.65,12.75,0.43,2.95,0.29,0.55,5.95,0.95,0.85,1.45,2.95,4.95,0.85,4.25,0.85,2.95,4.21,7.95,4.95,4.25,5.45,4.95,1.25,1.65,1.65,0.42,1.95,1.65,2.51,1.25,1.65,3.75,2.51,1.25,1.95,1.95,2.95,12.72,0.85,1.28,1.7,0.95,16.98,1.06,3.36,2.55,1.25,0.85,1.95,1.25,0.42,2.55,2.95,7.95,6.75,1.25,0.42,9.95,0.85,4.95,1.25,1.95,1.65,10.65,4.95,1.66,1.45,2.1,3.39,0.85,11.02,2.95,0.85,6.75,3.36,2.95,1.65,5.95,14.95,3.75,1.65,2.95,12.72,5.95,1.65,7.49,4.21,0.65,5.95,0.72,1.65,1.25,1.65,1.65,1.66,2.95,3.43,4.65,4.25,0.85,0.85,2.1,5.95,1.25,2.95,1.25,0.85,2.55,8.47,2.51,2.55,1.25,1.95,0.42,1.65,2.95,0.65,1.25,3.36,1.65,2.95,1.45,1.95,0.85,0.85,1.95,4.21,2.1,3.75,2.95,1.65,1.25,0.85,5.91,8.5,0.85,1.95,1.49,2.55,1.25,3.75,2.95,1.25,1.25,8.65,4.95,8.5,2.55,6.45,5.95,0.42,5.06,2.55,1.69,0.85,2.55,0.85,0.85,12.75,2.55,4.25,4.95,1.25,8.5,1.65,0.85,0.83,6.04,2.95,15.0,1.25,0.85,5.95,5.95,1.65,4.21,1.25,2.95,0.55,2.95,2.1,2.55,2.55,1.65,1.25,3.81,0.65,4.25,3.36,0.83,0.85,2.1,3.25,21.7,9.95,6.04,1.25,2.57,1.95,0.42,2.1,1.25,0.85,1.95,1.69,0.65,2.95,9.95,1.65,4.25,1.65,0.83,21.23,1.25,0.43,2.95,0.42,0.85,2.1,12.75,2.95,8.5,6.04,9.95,2.55,0.5,2.51,1.69,2.95,2.51,1.45,1.45,8.47,8.47,13.57,14.95,0.85,4.21,7.95,2.95,3.75,0.42,2.51,1.25,2.1,0.55,2.1,8.5,2.1,5.95,1.65,1.25,0.85,5.95,1.45,1.25,0.85,2.55,0.65,3.36,0.42,7.49,1.66,1.69,12.75,0.55,1.65,1.66,0.42,12.75,0.72,2.55,4.95,1.65,0.65,3.75,2.95,4.95,16.13,1.7,3.95,4.21,3.75,7.62,13.57,2.95,1.65,0.85,2.95,2.1,7.49,2.95,10.95,1.65,2.55,3.75,2.98,0.42,8.47,3.36,1.65,1.65,0.42,6.95,2.1,4.95,0.85,0.55,1.7,1.25,0.55,6.04,1.65,12.75,25.49,0.55,0.65,0.85,1.25,1.25,1.95,6.35,5.95,1.25,0.55,2.51,1.65,2.51,8.47,1.25,3.75,19.95,0.42,9.95,6.75,1.25,1.25,12.75,1.25,1.25,2.95,3.36,0.85,1.25,1.7,0.42,0.29,2.1,1.65,2.95,4.25,4.95,0.85,1.25,2.95,1.65,3.75,5.91,2.1,4.95,4.21,1.25,2.1,1.65,8.47,2.1,2.55,0.42,4.95,0.85,1.69,15.0,2.1,0.42,2.1,0.29,7.62,0.42,1.95,1.65,2.55,1.7,5.06,0.73,2.95,3.45,1.95,0.19,0.42,0.42,0.65,4.95,0.85,7.62,1.25,5.91,1.45,9.95,2.25,6.75,6.35,3.36,2.95,0.42,2.95,3.75,0.85,1.25,1.25,0.85,1.65,1.95,4.21,1.65,4.95,1.49,6.75,3.95,1.65,1.25,2.95,1.65,3.75,0.55,0.42,4.95,1.95,3.36,1.65,2.55,9.95,4.95,1.69,1.45,1.25,1.95,1.95,1.25,1.25,1.25,6.35,1.25,1.25,1.95,0.85,1.66,2.95,1.25,3.25,1.45,2.95,12.72,4.25,4.95,1.65,8.5,2.1,3.35,2.95,3.95,0.95,3.75,8.5,7.95,4.95,2.95,3.75,0.85,3.43,5.95,1.65,0.85,2.51,1.25,5.95,14.95,0.95,2.95,1.25,1.7,4.95,1.25,4.95,1.65,5.45,5.95,0.42,1.25,0.85,1.65,1.25,8.5,2.95,1.45,8.47,2.55,1.45,0.42,1.25,1.25,1.65,0.85,2.95,3.75,1.25,8.5,1.65,4.21,3.75,1.95,12.75,0.85,5.06,0.85,4.25,1.25,1.65,5.95,0.85,3.43,3.75,1.25,3.75,2.1,1.25,2.55,12.75,1.65,2.95,2.51,0.36,2.95,1.65,2.51,1.95,5.95,1.25,1.66,2.55,2.57,1.25,10.95,2.51,0.55,0.42,2.98,1.95,0.85,0.85,1.05,0.55,12.75,2.51,4.95,5.51,0.85,8.47,1.25,5.06,1.95,0.85,1.25,15.0,4.95,8.5,8.5,4.21,2.95,3.95,4.65,0.42,1.65,2.1,4.21,0.19,2.1,4.25,1.49,2.51,6.75,1.95,5.91,2.95,0.85,5.95,3.36,0.85,0.85,0.85,3.75,0.81,2.55,0.42,4.3,1.25,0.29,0.21,2.55,4.3,2.95,0.85,1.25,1.95,1.25,3.43,0.65,1.45,14.95,12.75,2.95,1.25,1.65,1.25,3.25,1.65,5.91,0.36,4.21,2.95,2.95,12.75,1.49,1.66,3.36,9.95,7.65,1.25,3.43,8.95,0.42,0.85,3.36,2.51,4.21,1.25,3.19,8.5,0.42,7.78,2.95,0.87,3.36,2.95,0.85,3.95,0.87,7.49,4.21,5.95,0.85,0.85,1.25,1.45,3.95,0.85,1.25,7.62,2.55,1.95,8.5,21.23,3.75,3.36,0.85,1.25,2.95,0.85,1.49,1.49,2.55,2.95,0.42,0.42,1.25,4.21,9.95,0.85,4.65,2.1,3.75,2.1,2.55,1.25,25.49,0.85,1.95,12.75,5.91,12.75,1.65,3.75,1.69,3.75,2.57,2.1,2.51,1.25,0.38,8.47,7.62,1.25,5.06,1.25,2.55,1.66,0.42,1.65,5.91,3.75,2.95,1.25,3.75,9.95,2.1,1.45,1.25,2.1,10.65,3.36,0.85,0.42,2.55,4.95,3.75,3.75,10.65,1.65,0.55,1.66,16.95,1.25,11.87,1.95,5.95,1.65,4.95,5.91,3.75,1.25,1.95,1.25,2.54,0.42],\"xaxis\":\"x\",\"yaxis\":\"y\",\"type\":\"histogram\"},{\"alignmentgroup\":\"True\",\"hovertemplate\":\"variable=Price<br>value=%{x}<extra></extra>\",\"legendgroup\":\"Price\",\"marker\":{\"color\":\"#636efa\"},\"name\":\"Price\",\"notched\":true,\"offsetgroup\":\"Price\",\"showlegend\":false,\"x\":[4.95,1.65,2.1,0.85,0.42,5.91,4.25,1.25,1.3,0.79,6.35,2.95,2.57,0.85,13.57,0.85,2.51,4.25,5.95,1.65,3.25,2.1,0.85,0.85,8.5,1.65,7.95,7.95,0.85,0.42,8.47,1.25,3.75,1.25,2.95,5.95,2.95,1.25,4.25,4.21,1.65,6.45,3.36,2.95,2.95,0.85,0.55,1.65,0.84,5.95,3.75,3.25,2.95,0.42,1.66,1.25,0.85,0.85,8.5,8.5,1.65,0.85,1.69,2.1,0.42,0.85,3.95,2.95,1.25,12.75,6.37,1.65,0.85,0.55,2.1,6.35,4.25,5.91,4.21,0.65,12.75,4.3,5.06,1.65,0.85,2.95,1.65,1.65,11.87,1.66,4.95,0.85,0.55,0.84,4.21,1.66,10.65,7.49,2.95,2.95,3.75,0.85,1.06,1.25,4.95,5.45,2.55,0.38,4.95,4.95,2.95,9.95,0.85,1.95,0.85,6.75,1.65,1.95,1.95,1.28,1.95,1.95,0.85,6.04,2.95,0.85,2.57,3.25,1.25,6.75,2.51,2.55,5.95,0.85,1.25,2.1,2.1,3.75,2.1,9.95,3.75,4.21,4.65,2.1,1.25,4.95,5.06,4.21,1.25,0.42,2.95,0.65,4.25,1.65,8.5,3.36,3.36,1.25,0.65,1.65,2.95,2.25,2.1,2.95,0.29,1.25,14.43,1.65,0.85,1.69,0.29,2.55,0.42,10.0,2.95,4.95,2.95,0.81,0.65,1.25,3.36,3.25,1.25,2.1,2.1,4.25,0.85,5.06,2.51,6.75,3.75,2.55,1.69,5.95,2.51,1.25,1.25,3.95,6.75,5.95,1.25,4.95,1.7,2.95,1.45,3.75,6.75,2.1,4.65,3.75,1.25,0.84,1.65,5.06,2.55,2.55,1.65,7.49,1.25,1.66,2.95,0.87,3.43,5.88,5.91,0.65,2.95,5.45,2.95,4.21,0.55,0.36,1.95,21.23,0.85,4.25,18.0,0.29,3.75,2.1,1.65,1.06,0.65,0.34,4.95,6.75,4.95,6.75,1.95,8.47,3.75,6.45,4.3,1.45,1.65,12.75,0.43,2.95,0.29,0.55,5.95,0.95,0.85,1.45,2.95,4.95,0.85,4.25,0.85,2.95,4.21,7.95,4.95,4.25,5.45,4.95,1.25,1.65,1.65,0.42,1.95,1.65,2.51,1.25,1.65,3.75,2.51,1.25,1.95,1.95,2.95,12.72,0.85,1.28,1.7,0.95,16.98,1.06,3.36,2.55,1.25,0.85,1.95,1.25,0.42,2.55,2.95,7.95,6.75,1.25,0.42,9.95,0.85,4.95,1.25,1.95,1.65,10.65,4.95,1.66,1.45,2.1,3.39,0.85,11.02,2.95,0.85,6.75,3.36,2.95,1.65,5.95,14.95,3.75,1.65,2.95,12.72,5.95,1.65,7.49,4.21,0.65,5.95,0.72,1.65,1.25,1.65,1.65,1.66,2.95,3.43,4.65,4.25,0.85,0.85,2.1,5.95,1.25,2.95,1.25,0.85,2.55,8.47,2.51,2.55,1.25,1.95,0.42,1.65,2.95,0.65,1.25,3.36,1.65,2.95,1.45,1.95,0.85,0.85,1.95,4.21,2.1,3.75,2.95,1.65,1.25,0.85,5.91,8.5,0.85,1.95,1.49,2.55,1.25,3.75,2.95,1.25,1.25,8.65,4.95,8.5,2.55,6.45,5.95,0.42,5.06,2.55,1.69,0.85,2.55,0.85,0.85,12.75,2.55,4.25,4.95,1.25,8.5,1.65,0.85,0.83,6.04,2.95,15.0,1.25,0.85,5.95,5.95,1.65,4.21,1.25,2.95,0.55,2.95,2.1,2.55,2.55,1.65,1.25,3.81,0.65,4.25,3.36,0.83,0.85,2.1,3.25,21.7,9.95,6.04,1.25,2.57,1.95,0.42,2.1,1.25,0.85,1.95,1.69,0.65,2.95,9.95,1.65,4.25,1.65,0.83,21.23,1.25,0.43,2.95,0.42,0.85,2.1,12.75,2.95,8.5,6.04,9.95,2.55,0.5,2.51,1.69,2.95,2.51,1.45,1.45,8.47,8.47,13.57,14.95,0.85,4.21,7.95,2.95,3.75,0.42,2.51,1.25,2.1,0.55,2.1,8.5,2.1,5.95,1.65,1.25,0.85,5.95,1.45,1.25,0.85,2.55,0.65,3.36,0.42,7.49,1.66,1.69,12.75,0.55,1.65,1.66,0.42,12.75,0.72,2.55,4.95,1.65,0.65,3.75,2.95,4.95,16.13,1.7,3.95,4.21,3.75,7.62,13.57,2.95,1.65,0.85,2.95,2.1,7.49,2.95,10.95,1.65,2.55,3.75,2.98,0.42,8.47,3.36,1.65,1.65,0.42,6.95,2.1,4.95,0.85,0.55,1.7,1.25,0.55,6.04,1.65,12.75,25.49,0.55,0.65,0.85,1.25,1.25,1.95,6.35,5.95,1.25,0.55,2.51,1.65,2.51,8.47,1.25,3.75,19.95,0.42,9.95,6.75,1.25,1.25,12.75,1.25,1.25,2.95,3.36,0.85,1.25,1.7,0.42,0.29,2.1,1.65,2.95,4.25,4.95,0.85,1.25,2.95,1.65,3.75,5.91,2.1,4.95,4.21,1.25,2.1,1.65,8.47,2.1,2.55,0.42,4.95,0.85,1.69,15.0,2.1,0.42,2.1,0.29,7.62,0.42,1.95,1.65,2.55,1.7,5.06,0.73,2.95,3.45,1.95,0.19,0.42,0.42,0.65,4.95,0.85,7.62,1.25,5.91,1.45,9.95,2.25,6.75,6.35,3.36,2.95,0.42,2.95,3.75,0.85,1.25,1.25,0.85,1.65,1.95,4.21,1.65,4.95,1.49,6.75,3.95,1.65,1.25,2.95,1.65,3.75,0.55,0.42,4.95,1.95,3.36,1.65,2.55,9.95,4.95,1.69,1.45,1.25,1.95,1.95,1.25,1.25,1.25,6.35,1.25,1.25,1.95,0.85,1.66,2.95,1.25,3.25,1.45,2.95,12.72,4.25,4.95,1.65,8.5,2.1,3.35,2.95,3.95,0.95,3.75,8.5,7.95,4.95,2.95,3.75,0.85,3.43,5.95,1.65,0.85,2.51,1.25,5.95,14.95,0.95,2.95,1.25,1.7,4.95,1.25,4.95,1.65,5.45,5.95,0.42,1.25,0.85,1.65,1.25,8.5,2.95,1.45,8.47,2.55,1.45,0.42,1.25,1.25,1.65,0.85,2.95,3.75,1.25,8.5,1.65,4.21,3.75,1.95,12.75,0.85,5.06,0.85,4.25,1.25,1.65,5.95,0.85,3.43,3.75,1.25,3.75,2.1,1.25,2.55,12.75,1.65,2.95,2.51,0.36,2.95,1.65,2.51,1.95,5.95,1.25,1.66,2.55,2.57,1.25,10.95,2.51,0.55,0.42,2.98,1.95,0.85,0.85,1.05,0.55,12.75,2.51,4.95,5.51,0.85,8.47,1.25,5.06,1.95,0.85,1.25,15.0,4.95,8.5,8.5,4.21,2.95,3.95,4.65,0.42,1.65,2.1,4.21,0.19,2.1,4.25,1.49,2.51,6.75,1.95,5.91,2.95,0.85,5.95,3.36,0.85,0.85,0.85,3.75,0.81,2.55,0.42,4.3,1.25,0.29,0.21,2.55,4.3,2.95,0.85,1.25,1.95,1.25,3.43,0.65,1.45,14.95,12.75,2.95,1.25,1.65,1.25,3.25,1.65,5.91,0.36,4.21,2.95,2.95,12.75,1.49,1.66,3.36,9.95,7.65,1.25,3.43,8.95,0.42,0.85,3.36,2.51,4.21,1.25,3.19,8.5,0.42,7.78,2.95,0.87,3.36,2.95,0.85,3.95,0.87,7.49,4.21,5.95,0.85,0.85,1.25,1.45,3.95,0.85,1.25,7.62,2.55,1.95,8.5,21.23,3.75,3.36,0.85,1.25,2.95,0.85,1.49,1.49,2.55,2.95,0.42,0.42,1.25,4.21,9.95,0.85,4.65,2.1,3.75,2.1,2.55,1.25,25.49,0.85,1.95,12.75,5.91,12.75,1.65,3.75,1.69,3.75,2.57,2.1,2.51,1.25,0.38,8.47,7.62,1.25,5.06,1.25,2.55,1.66,0.42,1.65,5.91,3.75,2.95,1.25,3.75,9.95,2.1,1.45,1.25,2.1,10.65,3.36,0.85,0.42,2.55,4.95,3.75,3.75,10.65,1.65,0.55,1.66,16.95,1.25,11.87,1.95,5.95,1.65,4.95,5.91,3.75,1.25,1.95,1.25,2.54,0.42],\"xaxis\":\"x2\",\"yaxis\":\"y2\",\"type\":\"box\"}],                        {\"template\":{\"data\":{\"histogram2dcontour\":[{\"type\":\"histogram2dcontour\",\"colorbar\":{\"outlinewidth\":0,\"ticks\":\"\"},\"colorscale\":[[0.0,\"#0d0887\"],[0.1111111111111111,\"#46039f\"],[0.2222222222222222,\"#7201a8\"],[0.3333333333333333,\"#9c179e\"],[0.4444444444444444,\"#bd3786\"],[0.5555555555555556,\"#d8576b\"],[0.6666666666666666,\"#ed7953\"],[0.7777777777777778,\"#fb9f3a\"],[0.8888888888888888,\"#fdca26\"],[1.0,\"#f0f921\"]]}],\"choropleth\":[{\"type\":\"choropleth\",\"colorbar\":{\"outlinewidth\":0,\"ticks\":\"\"}}],\"histogram2d\":[{\"type\":\"histogram2d\",\"colorbar\":{\"outlinewidth\":0,\"ticks\":\"\"},\"colorscale\":[[0.0,\"#0d0887\"],[0.1111111111111111,\"#46039f\"],[0.2222222222222222,\"#7201a8\"],[0.3333333333333333,\"#9c179e\"],[0.4444444444444444,\"#bd3786\"],[0.5555555555555556,\"#d8576b\"],[0.6666666666666666,\"#ed7953\"],[0.7777777777777778,\"#fb9f3a\"],[0.8888888888888888,\"#fdca26\"],[1.0,\"#f0f921\"]]}],\"heatmap\":[{\"type\":\"heatmap\",\"colorbar\":{\"outlinewidth\":0,\"ticks\":\"\"},\"colorscale\":[[0.0,\"#0d0887\"],[0.1111111111111111,\"#46039f\"],[0.2222222222222222,\"#7201a8\"],[0.3333333333333333,\"#9c179e\"],[0.4444444444444444,\"#bd3786\"],[0.5555555555555556,\"#d8576b\"],[0.6666666666666666,\"#ed7953\"],[0.7777777777777778,\"#fb9f3a\"],[0.8888888888888888,\"#fdca26\"],[1.0,\"#f0f921\"]]}],\"heatmapgl\":[{\"type\":\"heatmapgl\",\"colorbar\":{\"outlinewidth\":0,\"ticks\":\"\"},\"colorscale\":[[0.0,\"#0d0887\"],[0.1111111111111111,\"#46039f\"],[0.2222222222222222,\"#7201a8\"],[0.3333333333333333,\"#9c179e\"],[0.4444444444444444,\"#bd3786\"],[0.5555555555555556,\"#d8576b\"],[0.6666666666666666,\"#ed7953\"],[0.7777777777777778,\"#fb9f3a\"],[0.8888888888888888,\"#fdca26\"],[1.0,\"#f0f921\"]]}],\"contourcarpet\":[{\"type\":\"contourcarpet\",\"colorbar\":{\"outlinewidth\":0,\"ticks\":\"\"}}],\"contour\":[{\"type\":\"contour\",\"colorbar\":{\"outlinewidth\":0,\"ticks\":\"\"},\"colorscale\":[[0.0,\"#0d0887\"],[0.1111111111111111,\"#46039f\"],[0.2222222222222222,\"#7201a8\"],[0.3333333333333333,\"#9c179e\"],[0.4444444444444444,\"#bd3786\"],[0.5555555555555556,\"#d8576b\"],[0.6666666666666666,\"#ed7953\"],[0.7777777777777778,\"#fb9f3a\"],[0.8888888888888888,\"#fdca26\"],[1.0,\"#f0f921\"]]}],\"surface\":[{\"type\":\"surface\",\"colorbar\":{\"outlinewidth\":0,\"ticks\":\"\"},\"colorscale\":[[0.0,\"#0d0887\"],[0.1111111111111111,\"#46039f\"],[0.2222222222222222,\"#7201a8\"],[0.3333333333333333,\"#9c179e\"],[0.4444444444444444,\"#bd3786\"],[0.5555555555555556,\"#d8576b\"],[0.6666666666666666,\"#ed7953\"],[0.7777777777777778,\"#fb9f3a\"],[0.8888888888888888,\"#fdca26\"],[1.0,\"#f0f921\"]]}],\"mesh3d\":[{\"type\":\"mesh3d\",\"colorbar\":{\"outlinewidth\":0,\"ticks\":\"\"}}],\"scatter\":[{\"fillpattern\":{\"fillmode\":\"overlay\",\"size\":10,\"solidity\":0.2},\"type\":\"scatter\"}],\"parcoords\":[{\"type\":\"parcoords\",\"line\":{\"colorbar\":{\"outlinewidth\":0,\"ticks\":\"\"}}}],\"scatterpolargl\":[{\"type\":\"scatterpolargl\",\"marker\":{\"colorbar\":{\"outlinewidth\":0,\"ticks\":\"\"}}}],\"bar\":[{\"error_x\":{\"color\":\"#2a3f5f\"},\"error_y\":{\"color\":\"#2a3f5f\"},\"marker\":{\"line\":{\"color\":\"#E5ECF6\",\"width\":0.5},\"pattern\":{\"fillmode\":\"overlay\",\"size\":10,\"solidity\":0.2}},\"type\":\"bar\"}],\"scattergeo\":[{\"type\":\"scattergeo\",\"marker\":{\"colorbar\":{\"outlinewidth\":0,\"ticks\":\"\"}}}],\"scatterpolar\":[{\"type\":\"scatterpolar\",\"marker\":{\"colorbar\":{\"outlinewidth\":0,\"ticks\":\"\"}}}],\"histogram\":[{\"marker\":{\"pattern\":{\"fillmode\":\"overlay\",\"size\":10,\"solidity\":0.2}},\"type\":\"histogram\"}],\"scattergl\":[{\"type\":\"scattergl\",\"marker\":{\"colorbar\":{\"outlinewidth\":0,\"ticks\":\"\"}}}],\"scatter3d\":[{\"type\":\"scatter3d\",\"line\":{\"colorbar\":{\"outlinewidth\":0,\"ticks\":\"\"}},\"marker\":{\"colorbar\":{\"outlinewidth\":0,\"ticks\":\"\"}}}],\"scattermapbox\":[{\"type\":\"scattermapbox\",\"marker\":{\"colorbar\":{\"outlinewidth\":0,\"ticks\":\"\"}}}],\"scatterternary\":[{\"type\":\"scatterternary\",\"marker\":{\"colorbar\":{\"outlinewidth\":0,\"ticks\":\"\"}}}],\"scattercarpet\":[{\"type\":\"scattercarpet\",\"marker\":{\"colorbar\":{\"outlinewidth\":0,\"ticks\":\"\"}}}],\"carpet\":[{\"aaxis\":{\"endlinecolor\":\"#2a3f5f\",\"gridcolor\":\"white\",\"linecolor\":\"white\",\"minorgridcolor\":\"white\",\"startlinecolor\":\"#2a3f5f\"},\"baxis\":{\"endlinecolor\":\"#2a3f5f\",\"gridcolor\":\"white\",\"linecolor\":\"white\",\"minorgridcolor\":\"white\",\"startlinecolor\":\"#2a3f5f\"},\"type\":\"carpet\"}],\"table\":[{\"cells\":{\"fill\":{\"color\":\"#EBF0F8\"},\"line\":{\"color\":\"white\"}},\"header\":{\"fill\":{\"color\":\"#C8D4E3\"},\"line\":{\"color\":\"white\"}},\"type\":\"table\"}],\"barpolar\":[{\"marker\":{\"line\":{\"color\":\"#E5ECF6\",\"width\":0.5},\"pattern\":{\"fillmode\":\"overlay\",\"size\":10,\"solidity\":0.2}},\"type\":\"barpolar\"}],\"pie\":[{\"automargin\":true,\"type\":\"pie\"}]},\"layout\":{\"autotypenumbers\":\"strict\",\"colorway\":[\"#636efa\",\"#EF553B\",\"#00cc96\",\"#ab63fa\",\"#FFA15A\",\"#19d3f3\",\"#FF6692\",\"#B6E880\",\"#FF97FF\",\"#FECB52\"],\"font\":{\"color\":\"#2a3f5f\"},\"hovermode\":\"closest\",\"hoverlabel\":{\"align\":\"left\"},\"paper_bgcolor\":\"white\",\"plot_bgcolor\":\"#E5ECF6\",\"polar\":{\"bgcolor\":\"#E5ECF6\",\"angularaxis\":{\"gridcolor\":\"white\",\"linecolor\":\"white\",\"ticks\":\"\"},\"radialaxis\":{\"gridcolor\":\"white\",\"linecolor\":\"white\",\"ticks\":\"\"}},\"ternary\":{\"bgcolor\":\"#E5ECF6\",\"aaxis\":{\"gridcolor\":\"white\",\"linecolor\":\"white\",\"ticks\":\"\"},\"baxis\":{\"gridcolor\":\"white\",\"linecolor\":\"white\",\"ticks\":\"\"},\"caxis\":{\"gridcolor\":\"white\",\"linecolor\":\"white\",\"ticks\":\"\"}},\"coloraxis\":{\"colorbar\":{\"outlinewidth\":0,\"ticks\":\"\"}},\"colorscale\":{\"sequential\":[[0.0,\"#0d0887\"],[0.1111111111111111,\"#46039f\"],[0.2222222222222222,\"#7201a8\"],[0.3333333333333333,\"#9c179e\"],[0.4444444444444444,\"#bd3786\"],[0.5555555555555556,\"#d8576b\"],[0.6666666666666666,\"#ed7953\"],[0.7777777777777778,\"#fb9f3a\"],[0.8888888888888888,\"#fdca26\"],[1.0,\"#f0f921\"]],\"sequentialminus\":[[0.0,\"#0d0887\"],[0.1111111111111111,\"#46039f\"],[0.2222222222222222,\"#7201a8\"],[0.3333333333333333,\"#9c179e\"],[0.4444444444444444,\"#bd3786\"],[0.5555555555555556,\"#d8576b\"],[0.6666666666666666,\"#ed7953\"],[0.7777777777777778,\"#fb9f3a\"],[0.8888888888888888,\"#fdca26\"],[1.0,\"#f0f921\"]],\"diverging\":[[0,\"#8e0152\"],[0.1,\"#c51b7d\"],[0.2,\"#de77ae\"],[0.3,\"#f1b6da\"],[0.4,\"#fde0ef\"],[0.5,\"#f7f7f7\"],[0.6,\"#e6f5d0\"],[0.7,\"#b8e186\"],[0.8,\"#7fbc41\"],[0.9,\"#4d9221\"],[1,\"#276419\"]]},\"xaxis\":{\"gridcolor\":\"white\",\"linecolor\":\"white\",\"ticks\":\"\",\"title\":{\"standoff\":15},\"zerolinecolor\":\"white\",\"automargin\":true,\"zerolinewidth\":2},\"yaxis\":{\"gridcolor\":\"white\",\"linecolor\":\"white\",\"ticks\":\"\",\"title\":{\"standoff\":15},\"zerolinecolor\":\"white\",\"automargin\":true,\"zerolinewidth\":2},\"scene\":{\"xaxis\":{\"backgroundcolor\":\"#E5ECF6\",\"gridcolor\":\"white\",\"linecolor\":\"white\",\"showbackground\":true,\"ticks\":\"\",\"zerolinecolor\":\"white\",\"gridwidth\":2},\"yaxis\":{\"backgroundcolor\":\"#E5ECF6\",\"gridcolor\":\"white\",\"linecolor\":\"white\",\"showbackground\":true,\"ticks\":\"\",\"zerolinecolor\":\"white\",\"gridwidth\":2},\"zaxis\":{\"backgroundcolor\":\"#E5ECF6\",\"gridcolor\":\"white\",\"linecolor\":\"white\",\"showbackground\":true,\"ticks\":\"\",\"zerolinecolor\":\"white\",\"gridwidth\":2}},\"shapedefaults\":{\"line\":{\"color\":\"#2a3f5f\"}},\"annotationdefaults\":{\"arrowcolor\":\"#2a3f5f\",\"arrowhead\":0,\"arrowwidth\":1},\"geo\":{\"bgcolor\":\"white\",\"landcolor\":\"#E5ECF6\",\"subunitcolor\":\"white\",\"showland\":true,\"showlakes\":true,\"lakecolor\":\"white\"},\"title\":{\"x\":0.05},\"mapbox\":{\"style\":\"light\"}}},\"xaxis\":{\"anchor\":\"y\",\"domain\":[0.0,1.0],\"title\":{\"text\":\"value\"}},\"yaxis\":{\"anchor\":\"x\",\"domain\":[0.0,0.7326],\"title\":{\"text\":\"count\"}},\"xaxis2\":{\"anchor\":\"y2\",\"domain\":[0.0,1.0],\"matches\":\"x\",\"showticklabels\":false,\"showgrid\":true},\"yaxis2\":{\"anchor\":\"x2\",\"domain\":[0.7426,1.0],\"matches\":\"y2\",\"showticklabels\":false,\"showline\":false,\"ticks\":\"\",\"showgrid\":false},\"legend\":{\"title\":{\"text\":\"variable\"},\"tracegroupgap\":0},\"title\":{\"text\":\"Price - Without Outliers\"},\"barmode\":\"relative\"},                        {\"responsive\": true}                    ).then(function(){\n",
              "                            \n",
              "var gd = document.getElementById('67466654-b102-4ae3-80b9-23a32b5c7d84');\n",
              "var x = new MutationObserver(function (mutations, observer) {{\n",
              "        var display = window.getComputedStyle(gd).display;\n",
              "        if (!display || display === 'none') {{\n",
              "            console.log([gd, 'removed!']);\n",
              "            Plotly.purge(gd);\n",
              "            observer.disconnect();\n",
              "        }}\n",
              "}});\n",
              "\n",
              "// Listen for the removal of the full notebook cells\n",
              "var notebookContainer = gd.closest('#notebook-container');\n",
              "if (notebookContainer) {{\n",
              "    x.observe(notebookContainer, {childList: true});\n",
              "}}\n",
              "\n",
              "// Listen for the clearing of the current output cell\n",
              "var outputEl = gd.closest('.output');\n",
              "if (outputEl) {{\n",
              "    x.observe(outputEl, {childList: true});\n",
              "}}\n",
              "\n",
              "                        })                };                            </script>        </div>\n",
              "</body>\n",
              "</html>"
            ]
          },
          "metadata": {}
        }
      ]
    },
    {
      "cell_type": "code",
      "metadata": {
        "tags": [],
        "cell_id": "00022-d0bb6e4c-430f-42e3-9f3f-bd372817d286",
        "deepnote_cell_type": "code",
        "deepnote_cell_height": 65.03334045410156,
        "colab": {
          "base_uri": "https://localhost:8080/",
          "height": 809
        },
        "outputId": "ab90d5f3-cf59-4532-f8c5-564aa981d9f5",
        "id": "mCLo_wD3Si6q"
      },
      "source": [
        "profile_serie(df_limpio['Customer ID'])"
      ],
      "execution_count": 161,
      "outputs": [
        {
          "output_type": "display_data",
          "data": {
            "text/plain": [
              "<IPython.core.display.Markdown object>"
            ],
            "text/markdown": "## Customer ID Profile"
          },
          "metadata": {}
        },
        {
          "output_type": "display_data",
          "data": {
            "text/plain": [
              "Type                           category\n",
              "Number of observations         405333.0\n",
              "Unique                           4284.0\n",
              "Top                             14911.0\n",
              "Freq                             5552.0\n",
              "                                       \n",
              "Missing cells                    103684\n",
              "Missing cells (%)               20.37 %\n",
              "Duplicate rows                   508929\n",
              "Duplicate rows (%)              99.98 %\n",
              "Total size in memory      1185362 bytes\n",
              "dtype: object"
            ]
          },
          "metadata": {}
        },
        {
          "output_type": "display_data",
          "data": {
            "text/html": [
              "<html>\n",
              "<head><meta charset=\"utf-8\" /></head>\n",
              "<body>\n",
              "    <div>            <script src=\"https://cdnjs.cloudflare.com/ajax/libs/mathjax/2.7.5/MathJax.js?config=TeX-AMS-MML_SVG\"></script><script type=\"text/javascript\">if (window.MathJax && window.MathJax.Hub && && window.MathJax.Hub.Config) {window.MathJax.Hub.Config({SVG: {font: \"STIX-Web\"}});}</script>                <script type=\"text/javascript\">window.PlotlyConfig = {MathJaxConfig: 'local'};</script>\n",
              "        <script src=\"https://cdn.plot.ly/plotly-2.12.1.min.js\"></script>                <div id=\"fb7653a9-b26e-4748-8ddd-e62c1c6edab9\" class=\"plotly-graph-div\" style=\"height:525px; width:100%;\"></div>            <script type=\"text/javascript\">                                    window.PLOTLYENV=window.PLOTLYENV || {};                                    if (document.getElementById(\"fb7653a9-b26e-4748-8ddd-e62c1c6edab9\")) {                    Plotly.newPlot(                        \"fb7653a9-b26e-4748-8ddd-e62c1c6edab9\",                        [{\"alignmentgroup\":\"True\",\"hovertemplate\":\"x=%{x}<br>y=%{y}<extra></extra>\",\"legendgroup\":\"\",\"marker\":{\"color\":\"#636efa\",\"pattern\":{\"shape\":\"\"}},\"name\":\"\",\"offsetgroup\":\"\",\"orientation\":\"v\",\"showlegend\":false,\"textposition\":\"auto\",\"x\":[\"14911.0\",\"17841.0\",\"14606.0\",\"12748.0\",\"17850.0\",\"14156.0\",\"16549.0\",\"15311.0\",\"14527.0\",\"16782.0\",\"14646.0\",\"13089.0\",\"17377.0\",\"15005.0\",\"13081.0\",\"15039.0\",\"15768.0\",\"14298.0\",\"13564.0\",\"17448.0\",\"17920.0\",\"17589.0\",\"14680.0\",\"17511.0\",\"15998.0\",\"13093.0\",\"15719.0\",\"12681.0\",\"13174.0\",\"12921.0\",\"17085.0\",\"14505.0\",\"13694.0\",\"14081.0\",\"14667.0\",\"15555.0\",\"13137.0\",\"17243.0\",\"17068.0\",\"13230.0\",\"16984.0\",\"16779.0\",\"16713.0\",\"17231.0\",\"13001.0\",\"16161.0\",\"13069.0\",\"12471.0\",\"14415.0\",\"14159.0\",\"17238.0\",\"15547.0\",\"15808.0\",\"17865.0\",\"14044.0\",\"14030.0\",\"16327.0\",\"12835.0\",\"14085.0\",\"15898.0\",\"17338.0\",\"13050.0\",\"13451.0\",\"15867.0\",\"16938.0\",\"14049.0\",\"13097.0\",\"16710.0\",\"13206.0\",\"15358.0\",\"15571.0\",\"12472.0\",\"17757.0\",\"15581.0\",\"16550.0\",\"14040.0\",\"16409.0\",\"13869.0\",\"15061.0\",\"17611.0\",\"16746.0\",\"16072.0\",\"14031.0\",\"18069.0\",\"17965.0\",\"12867.0\",\"16686.0\",\"17799.0\",\"17576.0\",\"15856.0\",\"14535.0\",\"12682.0\",\"17346.0\",\"17364.0\",\"12949.0\",\"18041.0\",\"13969.0\",\"16814.0\",\"17019.0\",\"13319.0\"],\"xaxis\":\"x\",\"y\":[5552,5043,3866,2628,2499,2490,2269,2047,1729,1693,1554,1543,1358,1335,1328,1288,1211,1207,1188,1117,1107,1090,1034,938,930,891,843,827,818,814,810,809,797,789,788,781,737,734,728,728,726,719,710,695,687,684,681,677,671,669,665,656,650,648,640,623,622,620,618,611,609,606,599,598,595,593,593,584,581,578,577,572,569,568,562,559,559,553,550,548,540,533,530,528,526,525,521,518,517,516,515,514,509,508,500,488,480,480,479,479],\"yaxis\":\"y\",\"type\":\"bar\"}],                        {\"template\":{\"data\":{\"histogram2dcontour\":[{\"type\":\"histogram2dcontour\",\"colorbar\":{\"outlinewidth\":0,\"ticks\":\"\"},\"colorscale\":[[0.0,\"#0d0887\"],[0.1111111111111111,\"#46039f\"],[0.2222222222222222,\"#7201a8\"],[0.3333333333333333,\"#9c179e\"],[0.4444444444444444,\"#bd3786\"],[0.5555555555555556,\"#d8576b\"],[0.6666666666666666,\"#ed7953\"],[0.7777777777777778,\"#fb9f3a\"],[0.8888888888888888,\"#fdca26\"],[1.0,\"#f0f921\"]]}],\"choropleth\":[{\"type\":\"choropleth\",\"colorbar\":{\"outlinewidth\":0,\"ticks\":\"\"}}],\"histogram2d\":[{\"type\":\"histogram2d\",\"colorbar\":{\"outlinewidth\":0,\"ticks\":\"\"},\"colorscale\":[[0.0,\"#0d0887\"],[0.1111111111111111,\"#46039f\"],[0.2222222222222222,\"#7201a8\"],[0.3333333333333333,\"#9c179e\"],[0.4444444444444444,\"#bd3786\"],[0.5555555555555556,\"#d8576b\"],[0.6666666666666666,\"#ed7953\"],[0.7777777777777778,\"#fb9f3a\"],[0.8888888888888888,\"#fdca26\"],[1.0,\"#f0f921\"]]}],\"heatmap\":[{\"type\":\"heatmap\",\"colorbar\":{\"outlinewidth\":0,\"ticks\":\"\"},\"colorscale\":[[0.0,\"#0d0887\"],[0.1111111111111111,\"#46039f\"],[0.2222222222222222,\"#7201a8\"],[0.3333333333333333,\"#9c179e\"],[0.4444444444444444,\"#bd3786\"],[0.5555555555555556,\"#d8576b\"],[0.6666666666666666,\"#ed7953\"],[0.7777777777777778,\"#fb9f3a\"],[0.8888888888888888,\"#fdca26\"],[1.0,\"#f0f921\"]]}],\"heatmapgl\":[{\"type\":\"heatmapgl\",\"colorbar\":{\"outlinewidth\":0,\"ticks\":\"\"},\"colorscale\":[[0.0,\"#0d0887\"],[0.1111111111111111,\"#46039f\"],[0.2222222222222222,\"#7201a8\"],[0.3333333333333333,\"#9c179e\"],[0.4444444444444444,\"#bd3786\"],[0.5555555555555556,\"#d8576b\"],[0.6666666666666666,\"#ed7953\"],[0.7777777777777778,\"#fb9f3a\"],[0.8888888888888888,\"#fdca26\"],[1.0,\"#f0f921\"]]}],\"contourcarpet\":[{\"type\":\"contourcarpet\",\"colorbar\":{\"outlinewidth\":0,\"ticks\":\"\"}}],\"contour\":[{\"type\":\"contour\",\"colorbar\":{\"outlinewidth\":0,\"ticks\":\"\"},\"colorscale\":[[0.0,\"#0d0887\"],[0.1111111111111111,\"#46039f\"],[0.2222222222222222,\"#7201a8\"],[0.3333333333333333,\"#9c179e\"],[0.4444444444444444,\"#bd3786\"],[0.5555555555555556,\"#d8576b\"],[0.6666666666666666,\"#ed7953\"],[0.7777777777777778,\"#fb9f3a\"],[0.8888888888888888,\"#fdca26\"],[1.0,\"#f0f921\"]]}],\"surface\":[{\"type\":\"surface\",\"colorbar\":{\"outlinewidth\":0,\"ticks\":\"\"},\"colorscale\":[[0.0,\"#0d0887\"],[0.1111111111111111,\"#46039f\"],[0.2222222222222222,\"#7201a8\"],[0.3333333333333333,\"#9c179e\"],[0.4444444444444444,\"#bd3786\"],[0.5555555555555556,\"#d8576b\"],[0.6666666666666666,\"#ed7953\"],[0.7777777777777778,\"#fb9f3a\"],[0.8888888888888888,\"#fdca26\"],[1.0,\"#f0f921\"]]}],\"mesh3d\":[{\"type\":\"mesh3d\",\"colorbar\":{\"outlinewidth\":0,\"ticks\":\"\"}}],\"scatter\":[{\"fillpattern\":{\"fillmode\":\"overlay\",\"size\":10,\"solidity\":0.2},\"type\":\"scatter\"}],\"parcoords\":[{\"type\":\"parcoords\",\"line\":{\"colorbar\":{\"outlinewidth\":0,\"ticks\":\"\"}}}],\"scatterpolargl\":[{\"type\":\"scatterpolargl\",\"marker\":{\"colorbar\":{\"outlinewidth\":0,\"ticks\":\"\"}}}],\"bar\":[{\"error_x\":{\"color\":\"#2a3f5f\"},\"error_y\":{\"color\":\"#2a3f5f\"},\"marker\":{\"line\":{\"color\":\"#E5ECF6\",\"width\":0.5},\"pattern\":{\"fillmode\":\"overlay\",\"size\":10,\"solidity\":0.2}},\"type\":\"bar\"}],\"scattergeo\":[{\"type\":\"scattergeo\",\"marker\":{\"colorbar\":{\"outlinewidth\":0,\"ticks\":\"\"}}}],\"scatterpolar\":[{\"type\":\"scatterpolar\",\"marker\":{\"colorbar\":{\"outlinewidth\":0,\"ticks\":\"\"}}}],\"histogram\":[{\"marker\":{\"pattern\":{\"fillmode\":\"overlay\",\"size\":10,\"solidity\":0.2}},\"type\":\"histogram\"}],\"scattergl\":[{\"type\":\"scattergl\",\"marker\":{\"colorbar\":{\"outlinewidth\":0,\"ticks\":\"\"}}}],\"scatter3d\":[{\"type\":\"scatter3d\",\"line\":{\"colorbar\":{\"outlinewidth\":0,\"ticks\":\"\"}},\"marker\":{\"colorbar\":{\"outlinewidth\":0,\"ticks\":\"\"}}}],\"scattermapbox\":[{\"type\":\"scattermapbox\",\"marker\":{\"colorbar\":{\"outlinewidth\":0,\"ticks\":\"\"}}}],\"scatterternary\":[{\"type\":\"scatterternary\",\"marker\":{\"colorbar\":{\"outlinewidth\":0,\"ticks\":\"\"}}}],\"scattercarpet\":[{\"type\":\"scattercarpet\",\"marker\":{\"colorbar\":{\"outlinewidth\":0,\"ticks\":\"\"}}}],\"carpet\":[{\"aaxis\":{\"endlinecolor\":\"#2a3f5f\",\"gridcolor\":\"white\",\"linecolor\":\"white\",\"minorgridcolor\":\"white\",\"startlinecolor\":\"#2a3f5f\"},\"baxis\":{\"endlinecolor\":\"#2a3f5f\",\"gridcolor\":\"white\",\"linecolor\":\"white\",\"minorgridcolor\":\"white\",\"startlinecolor\":\"#2a3f5f\"},\"type\":\"carpet\"}],\"table\":[{\"cells\":{\"fill\":{\"color\":\"#EBF0F8\"},\"line\":{\"color\":\"white\"}},\"header\":{\"fill\":{\"color\":\"#C8D4E3\"},\"line\":{\"color\":\"white\"}},\"type\":\"table\"}],\"barpolar\":[{\"marker\":{\"line\":{\"color\":\"#E5ECF6\",\"width\":0.5},\"pattern\":{\"fillmode\":\"overlay\",\"size\":10,\"solidity\":0.2}},\"type\":\"barpolar\"}],\"pie\":[{\"automargin\":true,\"type\":\"pie\"}]},\"layout\":{\"autotypenumbers\":\"strict\",\"colorway\":[\"#636efa\",\"#EF553B\",\"#00cc96\",\"#ab63fa\",\"#FFA15A\",\"#19d3f3\",\"#FF6692\",\"#B6E880\",\"#FF97FF\",\"#FECB52\"],\"font\":{\"color\":\"#2a3f5f\"},\"hovermode\":\"closest\",\"hoverlabel\":{\"align\":\"left\"},\"paper_bgcolor\":\"white\",\"plot_bgcolor\":\"#E5ECF6\",\"polar\":{\"bgcolor\":\"#E5ECF6\",\"angularaxis\":{\"gridcolor\":\"white\",\"linecolor\":\"white\",\"ticks\":\"\"},\"radialaxis\":{\"gridcolor\":\"white\",\"linecolor\":\"white\",\"ticks\":\"\"}},\"ternary\":{\"bgcolor\":\"#E5ECF6\",\"aaxis\":{\"gridcolor\":\"white\",\"linecolor\":\"white\",\"ticks\":\"\"},\"baxis\":{\"gridcolor\":\"white\",\"linecolor\":\"white\",\"ticks\":\"\"},\"caxis\":{\"gridcolor\":\"white\",\"linecolor\":\"white\",\"ticks\":\"\"}},\"coloraxis\":{\"colorbar\":{\"outlinewidth\":0,\"ticks\":\"\"}},\"colorscale\":{\"sequential\":[[0.0,\"#0d0887\"],[0.1111111111111111,\"#46039f\"],[0.2222222222222222,\"#7201a8\"],[0.3333333333333333,\"#9c179e\"],[0.4444444444444444,\"#bd3786\"],[0.5555555555555556,\"#d8576b\"],[0.6666666666666666,\"#ed7953\"],[0.7777777777777778,\"#fb9f3a\"],[0.8888888888888888,\"#fdca26\"],[1.0,\"#f0f921\"]],\"sequentialminus\":[[0.0,\"#0d0887\"],[0.1111111111111111,\"#46039f\"],[0.2222222222222222,\"#7201a8\"],[0.3333333333333333,\"#9c179e\"],[0.4444444444444444,\"#bd3786\"],[0.5555555555555556,\"#d8576b\"],[0.6666666666666666,\"#ed7953\"],[0.7777777777777778,\"#fb9f3a\"],[0.8888888888888888,\"#fdca26\"],[1.0,\"#f0f921\"]],\"diverging\":[[0,\"#8e0152\"],[0.1,\"#c51b7d\"],[0.2,\"#de77ae\"],[0.3,\"#f1b6da\"],[0.4,\"#fde0ef\"],[0.5,\"#f7f7f7\"],[0.6,\"#e6f5d0\"],[0.7,\"#b8e186\"],[0.8,\"#7fbc41\"],[0.9,\"#4d9221\"],[1,\"#276419\"]]},\"xaxis\":{\"gridcolor\":\"white\",\"linecolor\":\"white\",\"ticks\":\"\",\"title\":{\"standoff\":15},\"zerolinecolor\":\"white\",\"automargin\":true,\"zerolinewidth\":2},\"yaxis\":{\"gridcolor\":\"white\",\"linecolor\":\"white\",\"ticks\":\"\",\"title\":{\"standoff\":15},\"zerolinecolor\":\"white\",\"automargin\":true,\"zerolinewidth\":2},\"scene\":{\"xaxis\":{\"backgroundcolor\":\"#E5ECF6\",\"gridcolor\":\"white\",\"linecolor\":\"white\",\"showbackground\":true,\"ticks\":\"\",\"zerolinecolor\":\"white\",\"gridwidth\":2},\"yaxis\":{\"backgroundcolor\":\"#E5ECF6\",\"gridcolor\":\"white\",\"linecolor\":\"white\",\"showbackground\":true,\"ticks\":\"\",\"zerolinecolor\":\"white\",\"gridwidth\":2},\"zaxis\":{\"backgroundcolor\":\"#E5ECF6\",\"gridcolor\":\"white\",\"linecolor\":\"white\",\"showbackground\":true,\"ticks\":\"\",\"zerolinecolor\":\"white\",\"gridwidth\":2}},\"shapedefaults\":{\"line\":{\"color\":\"#2a3f5f\"}},\"annotationdefaults\":{\"arrowcolor\":\"#2a3f5f\",\"arrowhead\":0,\"arrowwidth\":1},\"geo\":{\"bgcolor\":\"white\",\"landcolor\":\"#E5ECF6\",\"subunitcolor\":\"white\",\"showland\":true,\"showlakes\":true,\"lakecolor\":\"white\"},\"title\":{\"x\":0.05},\"mapbox\":{\"style\":\"light\"}}},\"xaxis\":{\"anchor\":\"y\",\"domain\":[0.0,1.0],\"title\":{\"text\":\"x\"}},\"yaxis\":{\"anchor\":\"x\",\"domain\":[0.0,1.0],\"title\":{\"text\":\"y\"}},\"legend\":{\"tracegroupgap\":0},\"title\":{\"text\":\"100 Most common categories of Customer ID\"},\"barmode\":\"relative\"},                        {\"responsive\": true}                    ).then(function(){\n",
              "                            \n",
              "var gd = document.getElementById('fb7653a9-b26e-4748-8ddd-e62c1c6edab9');\n",
              "var x = new MutationObserver(function (mutations, observer) {{\n",
              "        var display = window.getComputedStyle(gd).display;\n",
              "        if (!display || display === 'none') {{\n",
              "            console.log([gd, 'removed!']);\n",
              "            Plotly.purge(gd);\n",
              "            observer.disconnect();\n",
              "        }}\n",
              "}});\n",
              "\n",
              "// Listen for the removal of the full notebook cells\n",
              "var notebookContainer = gd.closest('#notebook-container');\n",
              "if (notebookContainer) {{\n",
              "    x.observe(notebookContainer, {childList: true});\n",
              "}}\n",
              "\n",
              "// Listen for the clearing of the current output cell\n",
              "var outputEl = gd.closest('.output');\n",
              "if (outputEl) {{\n",
              "    x.observe(outputEl, {childList: true});\n",
              "}}\n",
              "\n",
              "                        })                };                            </script>        </div>\n",
              "</body>\n",
              "</html>"
            ]
          },
          "metadata": {}
        }
      ]
    },
    {
      "cell_type": "code",
      "source": [
        "profile_serie(df_limpio['Country'])"
      ],
      "metadata": {
        "colab": {
          "base_uri": "https://localhost:8080/",
          "height": 809
        },
        "outputId": "7255ad23-c0a5-42d0-a788-e3772c54e81d",
        "id": "qSg5Vy4ASi6r"
      },
      "execution_count": 162,
      "outputs": [
        {
          "output_type": "display_data",
          "data": {
            "text/plain": [
              "<IPython.core.display.Markdown object>"
            ],
            "text/markdown": "## Country Profile"
          },
          "metadata": {}
        },
        {
          "output_type": "display_data",
          "data": {
            "text/plain": [
              "Type                              object\n",
              "Number of observations            509017\n",
              "Unique                                40\n",
              "Top                       United Kingdom\n",
              "Freq                              471497\n",
              "                                        \n",
              "Missing cells                          0\n",
              "Missing cells (%)                  0.0 %\n",
              "Duplicate rows                    509017\n",
              "Duplicate rows (%)               100.0 %\n",
              "Total size in memory       4072264 bytes\n",
              "dtype: object"
            ]
          },
          "metadata": {}
        },
        {
          "output_type": "display_data",
          "data": {
            "text/html": [
              "<html>\n",
              "<head><meta charset=\"utf-8\" /></head>\n",
              "<body>\n",
              "    <div>            <script src=\"https://cdnjs.cloudflare.com/ajax/libs/mathjax/2.7.5/MathJax.js?config=TeX-AMS-MML_SVG\"></script><script type=\"text/javascript\">if (window.MathJax && window.MathJax.Hub && && window.MathJax.Hub.Config) {window.MathJax.Hub.Config({SVG: {font: \"STIX-Web\"}});}</script>                <script type=\"text/javascript\">window.PlotlyConfig = {MathJaxConfig: 'local'};</script>\n",
              "        <script src=\"https://cdn.plot.ly/plotly-2.12.1.min.js\"></script>                <div id=\"cdb6e640-8e86-4add-86ed-36550603bc3c\" class=\"plotly-graph-div\" style=\"height:525px; width:100%;\"></div>            <script type=\"text/javascript\">                                    window.PLOTLYENV=window.PLOTLYENV || {};                                    if (document.getElementById(\"cdb6e640-8e86-4add-86ed-36550603bc3c\")) {                    Plotly.newPlot(                        \"cdb6e640-8e86-4add-86ed-36550603bc3c\",                        [{\"alignmentgroup\":\"True\",\"hovertemplate\":\"x=%{x}<br>y=%{y}<extra></extra>\",\"legendgroup\":\"\",\"marker\":{\"color\":\"#636efa\",\"pattern\":{\"shape\":\"\"}},\"name\":\"\",\"offsetgroup\":\"\",\"orientation\":\"v\",\"showlegend\":false,\"textposition\":\"auto\",\"x\":[\"United Kingdom\",\"EIRE\",\"Germany\",\"France\",\"Netherlands\",\"Spain\",\"Switzerland\",\"Portugal\",\"Belgium\",\"Channel Islands\",\"Sweden\",\"Italy\",\"Australia\",\"Cyprus\",\"Austria\",\"Greece\",\"United Arab Emirates\",\"Norway\",\"Denmark\",\"Finland\",\"Unspecified\",\"USA\",\"Poland\",\"Malta\",\"Japan\",\"Lithuania\",\"Singapore\",\"RSA\",\"Bahrain\",\"Canada\",\"Israel\",\"Hong Kong\",\"Thailand\",\"Iceland\",\"Brazil\",\"West Indies\",\"Korea\",\"Bermuda\",\"Nigeria\",\"Lebanon\"],\"xaxis\":\"x\",\"y\":[471497,9282,7629,5481,2509,1214,1167,1061,1036,820,818,709,614,541,524,512,396,363,362,347,306,229,182,168,156,154,117,109,106,77,74,72,71,71,62,54,53,32,30,12],\"yaxis\":\"y\",\"type\":\"bar\"}],                        {\"template\":{\"data\":{\"histogram2dcontour\":[{\"type\":\"histogram2dcontour\",\"colorbar\":{\"outlinewidth\":0,\"ticks\":\"\"},\"colorscale\":[[0.0,\"#0d0887\"],[0.1111111111111111,\"#46039f\"],[0.2222222222222222,\"#7201a8\"],[0.3333333333333333,\"#9c179e\"],[0.4444444444444444,\"#bd3786\"],[0.5555555555555556,\"#d8576b\"],[0.6666666666666666,\"#ed7953\"],[0.7777777777777778,\"#fb9f3a\"],[0.8888888888888888,\"#fdca26\"],[1.0,\"#f0f921\"]]}],\"choropleth\":[{\"type\":\"choropleth\",\"colorbar\":{\"outlinewidth\":0,\"ticks\":\"\"}}],\"histogram2d\":[{\"type\":\"histogram2d\",\"colorbar\":{\"outlinewidth\":0,\"ticks\":\"\"},\"colorscale\":[[0.0,\"#0d0887\"],[0.1111111111111111,\"#46039f\"],[0.2222222222222222,\"#7201a8\"],[0.3333333333333333,\"#9c179e\"],[0.4444444444444444,\"#bd3786\"],[0.5555555555555556,\"#d8576b\"],[0.6666666666666666,\"#ed7953\"],[0.7777777777777778,\"#fb9f3a\"],[0.8888888888888888,\"#fdca26\"],[1.0,\"#f0f921\"]]}],\"heatmap\":[{\"type\":\"heatmap\",\"colorbar\":{\"outlinewidth\":0,\"ticks\":\"\"},\"colorscale\":[[0.0,\"#0d0887\"],[0.1111111111111111,\"#46039f\"],[0.2222222222222222,\"#7201a8\"],[0.3333333333333333,\"#9c179e\"],[0.4444444444444444,\"#bd3786\"],[0.5555555555555556,\"#d8576b\"],[0.6666666666666666,\"#ed7953\"],[0.7777777777777778,\"#fb9f3a\"],[0.8888888888888888,\"#fdca26\"],[1.0,\"#f0f921\"]]}],\"heatmapgl\":[{\"type\":\"heatmapgl\",\"colorbar\":{\"outlinewidth\":0,\"ticks\":\"\"},\"colorscale\":[[0.0,\"#0d0887\"],[0.1111111111111111,\"#46039f\"],[0.2222222222222222,\"#7201a8\"],[0.3333333333333333,\"#9c179e\"],[0.4444444444444444,\"#bd3786\"],[0.5555555555555556,\"#d8576b\"],[0.6666666666666666,\"#ed7953\"],[0.7777777777777778,\"#fb9f3a\"],[0.8888888888888888,\"#fdca26\"],[1.0,\"#f0f921\"]]}],\"contourcarpet\":[{\"type\":\"contourcarpet\",\"colorbar\":{\"outlinewidth\":0,\"ticks\":\"\"}}],\"contour\":[{\"type\":\"contour\",\"colorbar\":{\"outlinewidth\":0,\"ticks\":\"\"},\"colorscale\":[[0.0,\"#0d0887\"],[0.1111111111111111,\"#46039f\"],[0.2222222222222222,\"#7201a8\"],[0.3333333333333333,\"#9c179e\"],[0.4444444444444444,\"#bd3786\"],[0.5555555555555556,\"#d8576b\"],[0.6666666666666666,\"#ed7953\"],[0.7777777777777778,\"#fb9f3a\"],[0.8888888888888888,\"#fdca26\"],[1.0,\"#f0f921\"]]}],\"surface\":[{\"type\":\"surface\",\"colorbar\":{\"outlinewidth\":0,\"ticks\":\"\"},\"colorscale\":[[0.0,\"#0d0887\"],[0.1111111111111111,\"#46039f\"],[0.2222222222222222,\"#7201a8\"],[0.3333333333333333,\"#9c179e\"],[0.4444444444444444,\"#bd3786\"],[0.5555555555555556,\"#d8576b\"],[0.6666666666666666,\"#ed7953\"],[0.7777777777777778,\"#fb9f3a\"],[0.8888888888888888,\"#fdca26\"],[1.0,\"#f0f921\"]]}],\"mesh3d\":[{\"type\":\"mesh3d\",\"colorbar\":{\"outlinewidth\":0,\"ticks\":\"\"}}],\"scatter\":[{\"fillpattern\":{\"fillmode\":\"overlay\",\"size\":10,\"solidity\":0.2},\"type\":\"scatter\"}],\"parcoords\":[{\"type\":\"parcoords\",\"line\":{\"colorbar\":{\"outlinewidth\":0,\"ticks\":\"\"}}}],\"scatterpolargl\":[{\"type\":\"scatterpolargl\",\"marker\":{\"colorbar\":{\"outlinewidth\":0,\"ticks\":\"\"}}}],\"bar\":[{\"error_x\":{\"color\":\"#2a3f5f\"},\"error_y\":{\"color\":\"#2a3f5f\"},\"marker\":{\"line\":{\"color\":\"#E5ECF6\",\"width\":0.5},\"pattern\":{\"fillmode\":\"overlay\",\"size\":10,\"solidity\":0.2}},\"type\":\"bar\"}],\"scattergeo\":[{\"type\":\"scattergeo\",\"marker\":{\"colorbar\":{\"outlinewidth\":0,\"ticks\":\"\"}}}],\"scatterpolar\":[{\"type\":\"scatterpolar\",\"marker\":{\"colorbar\":{\"outlinewidth\":0,\"ticks\":\"\"}}}],\"histogram\":[{\"marker\":{\"pattern\":{\"fillmode\":\"overlay\",\"size\":10,\"solidity\":0.2}},\"type\":\"histogram\"}],\"scattergl\":[{\"type\":\"scattergl\",\"marker\":{\"colorbar\":{\"outlinewidth\":0,\"ticks\":\"\"}}}],\"scatter3d\":[{\"type\":\"scatter3d\",\"line\":{\"colorbar\":{\"outlinewidth\":0,\"ticks\":\"\"}},\"marker\":{\"colorbar\":{\"outlinewidth\":0,\"ticks\":\"\"}}}],\"scattermapbox\":[{\"type\":\"scattermapbox\",\"marker\":{\"colorbar\":{\"outlinewidth\":0,\"ticks\":\"\"}}}],\"scatterternary\":[{\"type\":\"scatterternary\",\"marker\":{\"colorbar\":{\"outlinewidth\":0,\"ticks\":\"\"}}}],\"scattercarpet\":[{\"type\":\"scattercarpet\",\"marker\":{\"colorbar\":{\"outlinewidth\":0,\"ticks\":\"\"}}}],\"carpet\":[{\"aaxis\":{\"endlinecolor\":\"#2a3f5f\",\"gridcolor\":\"white\",\"linecolor\":\"white\",\"minorgridcolor\":\"white\",\"startlinecolor\":\"#2a3f5f\"},\"baxis\":{\"endlinecolor\":\"#2a3f5f\",\"gridcolor\":\"white\",\"linecolor\":\"white\",\"minorgridcolor\":\"white\",\"startlinecolor\":\"#2a3f5f\"},\"type\":\"carpet\"}],\"table\":[{\"cells\":{\"fill\":{\"color\":\"#EBF0F8\"},\"line\":{\"color\":\"white\"}},\"header\":{\"fill\":{\"color\":\"#C8D4E3\"},\"line\":{\"color\":\"white\"}},\"type\":\"table\"}],\"barpolar\":[{\"marker\":{\"line\":{\"color\":\"#E5ECF6\",\"width\":0.5},\"pattern\":{\"fillmode\":\"overlay\",\"size\":10,\"solidity\":0.2}},\"type\":\"barpolar\"}],\"pie\":[{\"automargin\":true,\"type\":\"pie\"}]},\"layout\":{\"autotypenumbers\":\"strict\",\"colorway\":[\"#636efa\",\"#EF553B\",\"#00cc96\",\"#ab63fa\",\"#FFA15A\",\"#19d3f3\",\"#FF6692\",\"#B6E880\",\"#FF97FF\",\"#FECB52\"],\"font\":{\"color\":\"#2a3f5f\"},\"hovermode\":\"closest\",\"hoverlabel\":{\"align\":\"left\"},\"paper_bgcolor\":\"white\",\"plot_bgcolor\":\"#E5ECF6\",\"polar\":{\"bgcolor\":\"#E5ECF6\",\"angularaxis\":{\"gridcolor\":\"white\",\"linecolor\":\"white\",\"ticks\":\"\"},\"radialaxis\":{\"gridcolor\":\"white\",\"linecolor\":\"white\",\"ticks\":\"\"}},\"ternary\":{\"bgcolor\":\"#E5ECF6\",\"aaxis\":{\"gridcolor\":\"white\",\"linecolor\":\"white\",\"ticks\":\"\"},\"baxis\":{\"gridcolor\":\"white\",\"linecolor\":\"white\",\"ticks\":\"\"},\"caxis\":{\"gridcolor\":\"white\",\"linecolor\":\"white\",\"ticks\":\"\"}},\"coloraxis\":{\"colorbar\":{\"outlinewidth\":0,\"ticks\":\"\"}},\"colorscale\":{\"sequential\":[[0.0,\"#0d0887\"],[0.1111111111111111,\"#46039f\"],[0.2222222222222222,\"#7201a8\"],[0.3333333333333333,\"#9c179e\"],[0.4444444444444444,\"#bd3786\"],[0.5555555555555556,\"#d8576b\"],[0.6666666666666666,\"#ed7953\"],[0.7777777777777778,\"#fb9f3a\"],[0.8888888888888888,\"#fdca26\"],[1.0,\"#f0f921\"]],\"sequentialminus\":[[0.0,\"#0d0887\"],[0.1111111111111111,\"#46039f\"],[0.2222222222222222,\"#7201a8\"],[0.3333333333333333,\"#9c179e\"],[0.4444444444444444,\"#bd3786\"],[0.5555555555555556,\"#d8576b\"],[0.6666666666666666,\"#ed7953\"],[0.7777777777777778,\"#fb9f3a\"],[0.8888888888888888,\"#fdca26\"],[1.0,\"#f0f921\"]],\"diverging\":[[0,\"#8e0152\"],[0.1,\"#c51b7d\"],[0.2,\"#de77ae\"],[0.3,\"#f1b6da\"],[0.4,\"#fde0ef\"],[0.5,\"#f7f7f7\"],[0.6,\"#e6f5d0\"],[0.7,\"#b8e186\"],[0.8,\"#7fbc41\"],[0.9,\"#4d9221\"],[1,\"#276419\"]]},\"xaxis\":{\"gridcolor\":\"white\",\"linecolor\":\"white\",\"ticks\":\"\",\"title\":{\"standoff\":15},\"zerolinecolor\":\"white\",\"automargin\":true,\"zerolinewidth\":2},\"yaxis\":{\"gridcolor\":\"white\",\"linecolor\":\"white\",\"ticks\":\"\",\"title\":{\"standoff\":15},\"zerolinecolor\":\"white\",\"automargin\":true,\"zerolinewidth\":2},\"scene\":{\"xaxis\":{\"backgroundcolor\":\"#E5ECF6\",\"gridcolor\":\"white\",\"linecolor\":\"white\",\"showbackground\":true,\"ticks\":\"\",\"zerolinecolor\":\"white\",\"gridwidth\":2},\"yaxis\":{\"backgroundcolor\":\"#E5ECF6\",\"gridcolor\":\"white\",\"linecolor\":\"white\",\"showbackground\":true,\"ticks\":\"\",\"zerolinecolor\":\"white\",\"gridwidth\":2},\"zaxis\":{\"backgroundcolor\":\"#E5ECF6\",\"gridcolor\":\"white\",\"linecolor\":\"white\",\"showbackground\":true,\"ticks\":\"\",\"zerolinecolor\":\"white\",\"gridwidth\":2}},\"shapedefaults\":{\"line\":{\"color\":\"#2a3f5f\"}},\"annotationdefaults\":{\"arrowcolor\":\"#2a3f5f\",\"arrowhead\":0,\"arrowwidth\":1},\"geo\":{\"bgcolor\":\"white\",\"landcolor\":\"#E5ECF6\",\"subunitcolor\":\"white\",\"showland\":true,\"showlakes\":true,\"lakecolor\":\"white\"},\"title\":{\"x\":0.05},\"mapbox\":{\"style\":\"light\"}}},\"xaxis\":{\"anchor\":\"y\",\"domain\":[0.0,1.0],\"title\":{\"text\":\"x\"}},\"yaxis\":{\"anchor\":\"x\",\"domain\":[0.0,1.0],\"title\":{\"text\":\"y\"}},\"legend\":{\"tracegroupgap\":0},\"title\":{\"text\":\"100 Most common categories of Country\"},\"barmode\":\"relative\"},                        {\"responsive\": true}                    ).then(function(){\n",
              "                            \n",
              "var gd = document.getElementById('cdb6e640-8e86-4add-86ed-36550603bc3c');\n",
              "var x = new MutationObserver(function (mutations, observer) {{\n",
              "        var display = window.getComputedStyle(gd).display;\n",
              "        if (!display || display === 'none') {{\n",
              "            console.log([gd, 'removed!']);\n",
              "            Plotly.purge(gd);\n",
              "            observer.disconnect();\n",
              "        }}\n",
              "}});\n",
              "\n",
              "// Listen for the removal of the full notebook cells\n",
              "var notebookContainer = gd.closest('#notebook-container');\n",
              "if (notebookContainer) {{\n",
              "    x.observe(notebookContainer, {childList: true});\n",
              "}}\n",
              "\n",
              "// Listen for the clearing of the current output cell\n",
              "var outputEl = gd.closest('.output');\n",
              "if (outputEl) {{\n",
              "    x.observe(outputEl, {childList: true});\n",
              "}}\n",
              "\n",
              "                        })                };                            </script>        </div>\n",
              "</body>\n",
              "</html>"
            ]
          },
          "metadata": {}
        }
      ]
    },
    {
      "cell_type": "code",
      "source": [
        "profile_df(df_limpio)"
      ],
      "metadata": {
        "colab": {
          "base_uri": "https://localhost:8080/",
          "height": 1000
        },
        "id": "xtb_i4RrPEwC",
        "outputId": "bf95f252-47f5-4fd0-c78f-d43f75df63d7"
      },
      "execution_count": 163,
      "outputs": [
        {
          "output_type": "display_data",
          "data": {
            "text/plain": [
              "<IPython.core.display.Markdown object>"
            ],
            "text/markdown": "## Bivariant Analysis:"
          },
          "metadata": {}
        },
        {
          "output_type": "display_data",
          "data": {
            "text/plain": [
              "<Figure size 432x288 with 1 Axes>"
            ],
            "image/png": "[encoded data removed]"
          },
          "metadata": {
            "needs_background": "light"
          }
        },
        {
          "output_type": "display_data",
          "data": {
            "text/plain": [
              "<Figure size 432x288 with 1 Axes>"
            ],
            "image/png": "[encoded data removed]"
          },
          "metadata": {
            "needs_background": "light"
          }
        },
        {
          "output_type": "display_data",
          "data": {
            "text/plain": [
              "<Figure size 432x288 with 1 Axes>"
            ],
            "image/png": "[encoded data removed]"
          },
          "metadata": {
            "needs_background": "light"
          }
        },
        {
          "output_type": "display_data",
          "data": {
            "text/plain": [
              "<IPython.core.display.Markdown object>"
            ],
            "text/markdown": "## Correlation:"
          },
          "metadata": {}
        },
        {
          "output_type": "display_data",
          "data": {
            "text/html": [
              "<html>\n",
              "<head><meta charset=\"utf-8\" /></head>\n",
              "<body>\n",
              "    <div>            <script src=\"https://cdnjs.cloudflare.com/ajax/libs/mathjax/2.7.5/MathJax.js?config=TeX-AMS-MML_SVG\"></script><script type=\"text/javascript\">if (window.MathJax && window.MathJax.Hub && && window.MathJax.Hub.Config) {window.MathJax.Hub.Config({SVG: {font: \"STIX-Web\"}});}</script>                <script type=\"text/javascript\">window.PlotlyConfig = {MathJaxConfig: 'local'};</script>\n",
              "        <script src=\"https://cdn.plot.ly/plotly-2.12.1.min.js\"></script>                <div id=\"cfbd701f-05ce-4d2e-8538-1e8605a5ef8f\" class=\"plotly-graph-div\" style=\"height:525px; width:100%;\"></div>            <script type=\"text/javascript\">                                    window.PLOTLYENV=window.PLOTLYENV || {};                                    if (document.getElementById(\"cfbd701f-05ce-4d2e-8538-1e8605a5ef8f\")) {                    Plotly.newPlot(                        \"cfbd701f-05ce-4d2e-8538-1e8605a5ef8f\",                        [{\"coloraxis\":\"coloraxis\",\"name\":\"0\",\"x\":[\"Quantity\",\"Price\"],\"y\":[\"Quantity\",\"Price\"],\"z\":[[1.0,-0.12170670905090478],[-0.12170670905090478,1.0]],\"type\":\"heatmap\",\"xaxis\":\"x\",\"yaxis\":\"y\",\"hovertemplate\":\"x: %{x}<br>y: %{y}<br>color: %{z}<extra></extra>\"}],                        {\"template\":{\"data\":{\"histogram2dcontour\":[{\"type\":\"histogram2dcontour\",\"colorbar\":{\"outlinewidth\":0,\"ticks\":\"\"},\"colorscale\":[[0.0,\"#0d0887\"],[0.1111111111111111,\"#46039f\"],[0.2222222222222222,\"#7201a8\"],[0.3333333333333333,\"#9c179e\"],[0.4444444444444444,\"#bd3786\"],[0.5555555555555556,\"#d8576b\"],[0.6666666666666666,\"#ed7953\"],[0.7777777777777778,\"#fb9f3a\"],[0.8888888888888888,\"#fdca26\"],[1.0,\"#f0f921\"]]}],\"choropleth\":[{\"type\":\"choropleth\",\"colorbar\":{\"outlinewidth\":0,\"ticks\":\"\"}}],\"histogram2d\":[{\"type\":\"histogram2d\",\"colorbar\":{\"outlinewidth\":0,\"ticks\":\"\"},\"colorscale\":[[0.0,\"#0d0887\"],[0.1111111111111111,\"#46039f\"],[0.2222222222222222,\"#7201a8\"],[0.3333333333333333,\"#9c179e\"],[0.4444444444444444,\"#bd3786\"],[0.5555555555555556,\"#d8576b\"],[0.6666666666666666,\"#ed7953\"],[0.7777777777777778,\"#fb9f3a\"],[0.8888888888888888,\"#fdca26\"],[1.0,\"#f0f921\"]]}],\"heatmap\":[{\"type\":\"heatmap\",\"colorbar\":{\"outlinewidth\":0,\"ticks\":\"\"},\"colorscale\":[[0.0,\"#0d0887\"],[0.1111111111111111,\"#46039f\"],[0.2222222222222222,\"#7201a8\"],[0.3333333333333333,\"#9c179e\"],[0.4444444444444444,\"#bd3786\"],[0.5555555555555556,\"#d8576b\"],[0.6666666666666666,\"#ed7953\"],[0.7777777777777778,\"#fb9f3a\"],[0.8888888888888888,\"#fdca26\"],[1.0,\"#f0f921\"]]}],\"heatmapgl\":[{\"type\":\"heatmapgl\",\"colorbar\":{\"outlinewidth\":0,\"ticks\":\"\"},\"colorscale\":[[0.0,\"#0d0887\"],[0.1111111111111111,\"#46039f\"],[0.2222222222222222,\"#7201a8\"],[0.3333333333333333,\"#9c179e\"],[0.4444444444444444,\"#bd3786\"],[0.5555555555555556,\"#d8576b\"],[0.6666666666666666,\"#ed7953\"],[0.7777777777777778,\"#fb9f3a\"],[0.8888888888888888,\"#fdca26\"],[1.0,\"#f0f921\"]]}],\"contourcarpet\":[{\"type\":\"contourcarpet\",\"colorbar\":{\"outlinewidth\":0,\"ticks\":\"\"}}],\"contour\":[{\"type\":\"contour\",\"colorbar\":{\"outlinewidth\":0,\"ticks\":\"\"},\"colorscale\":[[0.0,\"#0d0887\"],[0.1111111111111111,\"#46039f\"],[0.2222222222222222,\"#7201a8\"],[0.3333333333333333,\"#9c179e\"],[0.4444444444444444,\"#bd3786\"],[0.5555555555555556,\"#d8576b\"],[0.6666666666666666,\"#ed7953\"],[0.7777777777777778,\"#fb9f3a\"],[0.8888888888888888,\"#fdca26\"],[1.0,\"#f0f921\"]]}],\"surface\":[{\"type\":\"surface\",\"colorbar\":{\"outlinewidth\":0,\"ticks\":\"\"},\"colorscale\":[[0.0,\"#0d0887\"],[0.1111111111111111,\"#46039f\"],[0.2222222222222222,\"#7201a8\"],[0.3333333333333333,\"#9c179e\"],[0.4444444444444444,\"#bd3786\"],[0.5555555555555556,\"#d8576b\"],[0.6666666666666666,\"#ed7953\"],[0.7777777777777778,\"#fb9f3a\"],[0.8888888888888888,\"#fdca26\"],[1.0,\"#f0f921\"]]}],\"mesh3d\":[{\"type\":\"mesh3d\",\"colorbar\":{\"outlinewidth\":0,\"ticks\":\"\"}}],\"scatter\":[{\"fillpattern\":{\"fillmode\":\"overlay\",\"size\":10,\"solidity\":0.2},\"type\":\"scatter\"}],\"parcoords\":[{\"type\":\"parcoords\",\"line\":{\"colorbar\":{\"outlinewidth\":0,\"ticks\":\"\"}}}],\"scatterpolargl\":[{\"type\":\"scatterpolargl\",\"marker\":{\"colorbar\":{\"outlinewidth\":0,\"ticks\":\"\"}}}],\"bar\":[{\"error_x\":{\"color\":\"#2a3f5f\"},\"error_y\":{\"color\":\"#2a3f5f\"},\"marker\":{\"line\":{\"color\":\"#E5ECF6\",\"width\":0.5},\"pattern\":{\"fillmode\":\"overlay\",\"size\":10,\"solidity\":0.2}},\"type\":\"bar\"}],\"scattergeo\":[{\"type\":\"scattergeo\",\"marker\":{\"colorbar\":{\"outlinewidth\":0,\"ticks\":\"\"}}}],\"scatterpolar\":[{\"type\":\"scatterpolar\",\"marker\":{\"colorbar\":{\"outlinewidth\":0,\"ticks\":\"\"}}}],\"histogram\":[{\"marker\":{\"pattern\":{\"fillmode\":\"overlay\",\"size\":10,\"solidity\":0.2}},\"type\":\"histogram\"}],\"scattergl\":[{\"type\":\"scattergl\",\"marker\":{\"colorbar\":{\"outlinewidth\":0,\"ticks\":\"\"}}}],\"scatter3d\":[{\"type\":\"scatter3d\",\"line\":{\"colorbar\":{\"outlinewidth\":0,\"ticks\":\"\"}},\"marker\":{\"colorbar\":{\"outlinewidth\":0,\"ticks\":\"\"}}}],\"scattermapbox\":[{\"type\":\"scattermapbox\",\"marker\":{\"colorbar\":{\"outlinewidth\":0,\"ticks\":\"\"}}}],\"scatterternary\":[{\"type\":\"scatterternary\",\"marker\":{\"colorbar\":{\"outlinewidth\":0,\"ticks\":\"\"}}}],\"scattercarpet\":[{\"type\":\"scattercarpet\",\"marker\":{\"colorbar\":{\"outlinewidth\":0,\"ticks\":\"\"}}}],\"carpet\":[{\"aaxis\":{\"endlinecolor\":\"#2a3f5f\",\"gridcolor\":\"white\",\"linecolor\":\"white\",\"minorgridcolor\":\"white\",\"startlinecolor\":\"#2a3f5f\"},\"baxis\":{\"endlinecolor\":\"#2a3f5f\",\"gridcolor\":\"white\",\"linecolor\":\"white\",\"minorgridcolor\":\"white\",\"startlinecolor\":\"#2a3f5f\"},\"type\":\"carpet\"}],\"table\":[{\"cells\":{\"fill\":{\"color\":\"#EBF0F8\"},\"line\":{\"color\":\"white\"}},\"header\":{\"fill\":{\"color\":\"#C8D4E3\"},\"line\":{\"color\":\"white\"}},\"type\":\"table\"}],\"barpolar\":[{\"marker\":{\"line\":{\"color\":\"#E5ECF6\",\"width\":0.5},\"pattern\":{\"fillmode\":\"overlay\",\"size\":10,\"solidity\":0.2}},\"type\":\"barpolar\"}],\"pie\":[{\"automargin\":true,\"type\":\"pie\"}]},\"layout\":{\"autotypenumbers\":\"strict\",\"colorway\":[\"#636efa\",\"#EF553B\",\"#00cc96\",\"#ab63fa\",\"#FFA15A\",\"#19d3f3\",\"#FF6692\",\"#B6E880\",\"#FF97FF\",\"#FECB52\"],\"font\":{\"color\":\"#2a3f5f\"},\"hovermode\":\"closest\",\"hoverlabel\":{\"align\":\"left\"},\"paper_bgcolor\":\"white\",\"plot_bgcolor\":\"#E5ECF6\",\"polar\":{\"bgcolor\":\"#E5ECF6\",\"angularaxis\":{\"gridcolor\":\"white\",\"linecolor\":\"white\",\"ticks\":\"\"},\"radialaxis\":{\"gridcolor\":\"white\",\"linecolor\":\"white\",\"ticks\":\"\"}},\"ternary\":{\"bgcolor\":\"#E5ECF6\",\"aaxis\":{\"gridcolor\":\"white\",\"linecolor\":\"white\",\"ticks\":\"\"},\"baxis\":{\"gridcolor\":\"white\",\"linecolor\":\"white\",\"ticks\":\"\"},\"caxis\":{\"gridcolor\":\"white\",\"linecolor\":\"white\",\"ticks\":\"\"}},\"coloraxis\":{\"colorbar\":{\"outlinewidth\":0,\"ticks\":\"\"}},\"colorscale\":{\"sequential\":[[0.0,\"#0d0887\"],[0.1111111111111111,\"#46039f\"],[0.2222222222222222,\"#7201a8\"],[0.3333333333333333,\"#9c179e\"],[0.4444444444444444,\"#bd3786\"],[0.5555555555555556,\"#d8576b\"],[0.6666666666666666,\"#ed7953\"],[0.7777777777777778,\"#fb9f3a\"],[0.8888888888888888,\"#fdca26\"],[1.0,\"#f0f921\"]],\"sequentialminus\":[[0.0,\"#0d0887\"],[0.1111111111111111,\"#46039f\"],[0.2222222222222222,\"#7201a8\"],[0.3333333333333333,\"#9c179e\"],[0.4444444444444444,\"#bd3786\"],[0.5555555555555556,\"#d8576b\"],[0.6666666666666666,\"#ed7953\"],[0.7777777777777778,\"#fb9f3a\"],[0.8888888888888888,\"#fdca26\"],[1.0,\"#f0f921\"]],\"diverging\":[[0,\"#8e0152\"],[0.1,\"#c51b7d\"],[0.2,\"#de77ae\"],[0.3,\"#f1b6da\"],[0.4,\"#fde0ef\"],[0.5,\"#f7f7f7\"],[0.6,\"#e6f5d0\"],[0.7,\"#b8e186\"],[0.8,\"#7fbc41\"],[0.9,\"#4d9221\"],[1,\"#276419\"]]},\"xaxis\":{\"gridcolor\":\"white\",\"linecolor\":\"white\",\"ticks\":\"\",\"title\":{\"standoff\":15},\"zerolinecolor\":\"white\",\"automargin\":true,\"zerolinewidth\":2},\"yaxis\":{\"gridcolor\":\"white\",\"linecolor\":\"white\",\"ticks\":\"\",\"title\":{\"standoff\":15},\"zerolinecolor\":\"white\",\"automargin\":true,\"zerolinewidth\":2},\"scene\":{\"xaxis\":{\"backgroundcolor\":\"#E5ECF6\",\"gridcolor\":\"white\",\"linecolor\":\"white\",\"showbackground\":true,\"ticks\":\"\",\"zerolinecolor\":\"white\",\"gridwidth\":2},\"yaxis\":{\"backgroundcolor\":\"#E5ECF6\",\"gridcolor\":\"white\",\"linecolor\":\"white\",\"showbackground\":true,\"ticks\":\"\",\"zerolinecolor\":\"white\",\"gridwidth\":2},\"zaxis\":{\"backgroundcolor\":\"#E5ECF6\",\"gridcolor\":\"white\",\"linecolor\":\"white\",\"showbackground\":true,\"ticks\":\"\",\"zerolinecolor\":\"white\",\"gridwidth\":2}},\"shapedefaults\":{\"line\":{\"color\":\"#2a3f5f\"}},\"annotationdefaults\":{\"arrowcolor\":\"#2a3f5f\",\"arrowhead\":0,\"arrowwidth\":1},\"geo\":{\"bgcolor\":\"white\",\"landcolor\":\"#E5ECF6\",\"subunitcolor\":\"white\",\"showland\":true,\"showlakes\":true,\"lakecolor\":\"white\"},\"title\":{\"x\":0.05},\"mapbox\":{\"style\":\"light\"}}},\"xaxis\":{\"anchor\":\"y\",\"domain\":[0.0,1.0],\"scaleanchor\":\"y\",\"constrain\":\"domain\"},\"yaxis\":{\"anchor\":\"x\",\"domain\":[0.0,1.0],\"autorange\":\"reversed\",\"constrain\":\"domain\"},\"coloraxis\":{\"colorscale\":[[0.0,\"#0d0887\"],[0.1111111111111111,\"#46039f\"],[0.2222222222222222,\"#7201a8\"],[0.3333333333333333,\"#9c179e\"],[0.4444444444444444,\"#bd3786\"],[0.5555555555555556,\"#d8576b\"],[0.6666666666666666,\"#ed7953\"],[0.7777777777777778,\"#fb9f3a\"],[0.8888888888888888,\"#fdca26\"],[1.0,\"#f0f921\"]]},\"margin\":{\"t\":60}},                        {\"responsive\": true}                    ).then(function(){\n",
              "                            \n",
              "var gd = document.getElementById('cfbd701f-05ce-4d2e-8538-1e8605a5ef8f');\n",
              "var x = new MutationObserver(function (mutations, observer) {{\n",
              "        var display = window.getComputedStyle(gd).display;\n",
              "        if (!display || display === 'none') {{\n",
              "            console.log([gd, 'removed!']);\n",
              "            Plotly.purge(gd);\n",
              "            observer.disconnect();\n",
              "        }}\n",
              "}});\n",
              "\n",
              "// Listen for the removal of the full notebook cells\n",
              "var notebookContainer = gd.closest('#notebook-container');\n",
              "if (notebookContainer) {{\n",
              "    x.observe(notebookContainer, {childList: true});\n",
              "}}\n",
              "\n",
              "// Listen for the clearing of the current output cell\n",
              "var outputEl = gd.closest('.output');\n",
              "if (outputEl) {{\n",
              "    x.observe(outputEl, {childList: true});\n",
              "}}\n",
              "\n",
              "                        })                };                            </script>        </div>\n",
              "</body>\n",
              "</html>"
            ]
          },
          "metadata": {}
        },
        {
          "output_type": "display_data",
          "data": {
            "text/plain": [
              "<IPython.core.display.Markdown object>"
            ],
            "text/markdown": "## Missing Matrix:"
          },
          "metadata": {}
        },
        {
          "output_type": "display_data",
          "data": {
            "text/plain": [
              "<Figure size 1080x720 with 1 Axes>"
            ],
            "image/png": "[encoded data removed]"
          },
          "metadata": {
            "needs_background": "light"
          }
        }
      ]
    },
    {
      "cell_type": "markdown",
      "source": [
        "Para la variable Quantity en diferencia con respecto al gráfico sin limpieza, se tiene que ya no hay cantidades negativas, y no se observa una gran cantidad de outliers, ya que fueron filtrados.\n",
        "\n",
        "Para la variable invoiceDate se filtran los datos negativos.\n",
        "\n",
        "En el gráfico de Quantity vs Price, se observa claramente la existencia de productos con alta demanda y bajo precio, mientras que los productos con altos precios tienen baja demanda, lo cual no se observaba antes de la limpieza.\n",
        "\n",
        "En el gráfico de InvoiceDAte vs Quantity ahora el posible visualizar que durante todos los días del año se tienen boletas de 50 productos o menos.\n",
        "\n",
        "En cuanto a la matriz de correlación no se observa un cambio. En esta se ve claramente que no existe una correlación entre la variable Quantity y Price.\n",
        "\n",
        "Para la missing matrix no se presentas cambios sustanciales cuando se limpian los datos. Se tiene que solo la columna customerID presenta NaNs, debido a que esas personas no están registradas en el supermercado.\n",
        "\n",
        "Finalmente, se tiene que al filtrar los datos ahora se tienen 509.017 filas en vez de las 525.461 filas originales."
      ],
      "metadata": {
        "id": "QJJep2f6SNj1"
      }
    },
    {
      "cell_type": "markdown",
      "source": [
        "### 1.2.4 Obtención de TOPs [0.75 ptos]"
      ],
      "metadata": {
        "id": "dkyp81nkBghF",
        "cell_id": "00028-b5630b67-565d-42f3-a387-f67a80dda8ea",
        "deepnote_cell_type": "markdown",
        "deepnote_cell_height": 61.03334045410156
      }
    },
    {
      "cell_type": "markdown",
      "source": [
        "Sin considerar los comentarios realizados en la sección 1.2 , *Don Mora* les pide obtener el **Top de 30 productos que generan más ganancias** para la tienda de retail. Deben considerar todo el registro temporal presente en el dataset y entregar la información en un gráfico de barras de los ingresos/cantidades v/s el nombre de los productos (Utilice `plotly`). ¿Los artículos más vendidos son los mismos que generan más ganancias?, Comente los resultados obtenidos.\n",
        "\n",
        "**Resultados:**"
      ],
      "metadata": {
        "id": "FqWpKnmn6W0y",
        "cell_id": "00029-71382778-46fe-4d49-9481-afec1667525a",
        "deepnote_cell_type": "markdown",
        "deepnote_cell_height": 177.43333435058594
      }
    },
    {
      "cell_type": "code",
      "metadata": {
        "tags": [],
        "cell_id": "00029-6e40375f-f1de-4643-8460-b3b2f74ec335",
        "deepnote_cell_type": "code",
        "deepnote_cell_height": 65.03334045410156,
        "id": "IGtR1jAUE-Mj"
      },
      "source": [
        "top_30 = df_limpio.copy() #copiamos el dataframe\n",
        "top_30['Ganancia'] = top_30['Quantity'] * top_30['Price'] #calculamos las ganancias\n",
        "top_30 = top_30.groupby(['Description']).sum().sort_values('Ganancia',ascending= False).reset_index().loc[:29] #agrupamos por producto sumando las columnas, ordenamos descendente por ganancia y selecionamos los primeros 30"
      ],
      "execution_count": 201,
      "outputs": []
    },
    {
      "cell_type": "code",
      "source": [
        "top_30"
      ],
      "metadata": {
        "colab": {
          "base_uri": "https://localhost:8080/",
          "height": 0
        },
        "id": "-e-MrHT0YCKp",
        "outputId": "67b54a0e-a6a5-422a-b9ea-a8c627d1cae9"
      },
      "execution_count": 202,
      "outputs": [
        {
          "output_type": "execute_result",
          "data": {
            "text/plain": [
              "                           Description  Quantity     Price   Ganancia\n",
              "0             REGENCY CAKESTAND 3 TIER     12598  29330.50  158033.51\n",
              "1   WHITE HANGING HEART T-LIGHT HOLDER     47417  10569.35  131101.41\n",
              "2                       DOTCOM POSTAGE       632  64749.98   64749.98\n",
              "3        ASSORTED COLOUR BIRD ORNAMENT     34527   2861.65   56928.30\n",
              "4              JUMBO BAG RED RETROSPOT     26805   2824.87   49995.51\n",
              "5                              POSTAGE      2307  18740.41   47986.66\n",
              "6                        PARTY BUNTING      9829   5787.86   47315.44\n",
              "7      PAPER CHAIN KIT 50'S CHRISTMAS      12685   3323.39   40877.60\n",
              "8       STRAWBERRY CERAMIC TRINKET BOX     25615   2496.88   32798.20\n",
              "9           VINTAGE UNION JACK BUNTING      3748   7753.68   32506.75\n",
              "10              JUMBO STORAGE BAG SUKI     15849   2784.63   31515.16\n",
              "11      JUMBO  BAG BAROQUE BLACK WHITE     16744   2220.46   31295.29\n",
              "12                JUMBO BAG STRAWBERRY     16618   2433.79   31153.36\n",
              "13            HOME BUILDING BLOCK WORD      5067   9033.70   31029.77\n",
              "14   HOT WATER BOTTLE TEA AND SYMPATHY      6715   4818.47   30515.16\n",
              "15           EDWARDIAN PARASOL NATURAL      5429   4460.38   30337.26\n",
              "16                LUNCH BAG RED SPOTTY     17943   2439.50   29866.97\n",
              "17                       CHILLI LIGHTS      6006   2862.86   29364.31\n",
              "18   JUMBO SHOPPER VINTAGE RED PAISLEY     14330   2357.39   28320.50\n",
              "19          CHOCOLATE HOT WATER BOTTLE      5531   5372.63   27896.94\n",
              "20        SCOTTIE DOG HOT WATER BOTTLE      5552   5903.36   27682.47\n",
              "21    SET/4 WHITE RETRO STORAGE CUBES        714   8106.61   27558.21\n",
              "22            RED RETROSPOT CAKE STAND      2555   8159.25   27129.35\n",
              "23         WOODEN FRAME ANTIQUE WHITE       9056   3805.52   26490.06\n",
              "24    RED HANGING HEART T-LIGHT HOLDER      9473   3371.40   26462.47\n",
              "25      JUMBO BAG PINK VINTAGE PAISLEY     14247   1808.89   25997.96\n",
              "26     JUMBO BAG PINK WITH WHITE SPOTS     13913   1762.85   25769.11\n",
              "27     TEA TIME CAKE STAND IN GIFT BOX      2469   6163.48   25471.33\n",
              "28                 DOOR MAT UNION FLAG      3780   5011.72   24808.26\n",
              "29    SET/5 RED SPOTTY LID GLASS BOWLS      8814   2875.32   24648.72"
            ],
            "text/html": [
              "\n",
              "  <div id=\"df-a2bc82d2-64b1-4297-b007-82b19de6aab7\">\n",
              "    <div class=\"colab-df-container\">\n",
              "      <div>\n",
              "<style scoped>\n",
              "    .dataframe tbody tr th:only-of-type {\n",
              "        vertical-align: middle;\n",
              "    }\n",
              "\n",
              "    .dataframe tbody tr th {\n",
              "        vertical-align: top;\n",
              "    }\n",
              "\n",
              "    .dataframe thead th {\n",
              "        text-align: right;\n",
              "    }\n",
              "</style>\n",
              "<table border=\"1\" class=\"dataframe\">\n",
              "  <thead>\n",
              "    <tr style=\"text-align: right;\">\n",
              "      <th></th>\n",
              "      <th>Description</th>\n",
              "      <th>Quantity</th>\n",
              "      <th>Price</th>\n",
              "      <th>Ganancia</th>\n",
              "    </tr>\n",
              "  </thead>\n",
              "  <tbody>\n",
              "    <tr>\n",
              "      <th>0</th>\n",
              "      <td>REGENCY CAKESTAND 3 TIER</td>\n",
              "      <td>12598</td>\n",
              "      <td>29330.50</td>\n",
              "      <td>158033.51</td>\n",
              "    </tr>\n",
              "    <tr>\n",
              "      <th>1</th>\n",
              "      <td>WHITE HANGING HEART T-LIGHT HOLDER</td>\n",
              "      <td>47417</td>\n",
              "      <td>10569.35</td>\n",
              "      <td>131101.41</td>\n",
              "    </tr>\n",
              "    <tr>\n",
              "      <th>2</th>\n",
              "      <td>DOTCOM POSTAGE</td>\n",
              "      <td>632</td>\n",
              "      <td>64749.98</td>\n",
              "      <td>64749.98</td>\n",
              "    </tr>\n",
              "    <tr>\n",
              "      <th>3</th>\n",
              "      <td>ASSORTED COLOUR BIRD ORNAMENT</td>\n",
              "      <td>34527</td>\n",
              "      <td>2861.65</td>\n",
              "      <td>56928.30</td>\n",
              "    </tr>\n",
              "    <tr>\n",
              "      <th>4</th>\n",
              "      <td>JUMBO BAG RED RETROSPOT</td>\n",
              "      <td>26805</td>\n",
              "      <td>2824.87</td>\n",
              "      <td>49995.51</td>\n",
              "    </tr>\n",
              "    <tr>\n",
              "      <th>5</th>\n",
              "      <td>POSTAGE</td>\n",
              "      <td>2307</td>\n",
              "      <td>18740.41</td>\n",
              "      <td>47986.66</td>\n",
              "    </tr>\n",
              "    <tr>\n",
              "      <th>6</th>\n",
              "      <td>PARTY BUNTING</td>\n",
              "      <td>9829</td>\n",
              "      <td>5787.86</td>\n",
              "      <td>47315.44</td>\n",
              "    </tr>\n",
              "    <tr>\n",
              "      <th>7</th>\n",
              "      <td>PAPER CHAIN KIT 50'S CHRISTMAS</td>\n",
              "      <td>12685</td>\n",
              "      <td>3323.39</td>\n",
              "      <td>40877.60</td>\n",
              "    </tr>\n",
              "    <tr>\n",
              "      <th>8</th>\n",
              "      <td>STRAWBERRY CERAMIC TRINKET BOX</td>\n",
              "      <td>25615</td>\n",
              "      <td>2496.88</td>\n",
              "      <td>32798.20</td>\n",
              "    </tr>\n",
              "    <tr>\n",
              "      <th>9</th>\n",
              "      <td>VINTAGE UNION JACK BUNTING</td>\n",
              "      <td>3748</td>\n",
              "      <td>7753.68</td>\n",
              "      <td>32506.75</td>\n",
              "    </tr>\n",
              "    <tr>\n",
              "      <th>10</th>\n",
              "      <td>JUMBO STORAGE BAG SUKI</td>\n",
              "      <td>15849</td>\n",
              "      <td>2784.63</td>\n",
              "      <td>31515.16</td>\n",
              "    </tr>\n",
              "    <tr>\n",
              "      <th>11</th>\n",
              "      <td>JUMBO  BAG BAROQUE BLACK WHITE</td>\n",
              "      <td>16744</td>\n",
              "      <td>2220.46</td>\n",
              "      <td>31295.29</td>\n",
              "    </tr>\n",
              "    <tr>\n",
              "      <th>12</th>\n",
              "      <td>JUMBO BAG STRAWBERRY</td>\n",
              "      <td>16618</td>\n",
              "      <td>2433.79</td>\n",
              "      <td>31153.36</td>\n",
              "    </tr>\n",
              "    <tr>\n",
              "      <th>13</th>\n",
              "      <td>HOME BUILDING BLOCK WORD</td>\n",
              "      <td>5067</td>\n",
              "      <td>9033.70</td>\n",
              "      <td>31029.77</td>\n",
              "    </tr>\n",
              "    <tr>\n",
              "      <th>14</th>\n",
              "      <td>HOT WATER BOTTLE TEA AND SYMPATHY</td>\n",
              "      <td>6715</td>\n",
              "      <td>4818.47</td>\n",
              "      <td>30515.16</td>\n",
              "    </tr>\n",
              "    <tr>\n",
              "      <th>15</th>\n",
              "      <td>EDWARDIAN PARASOL NATURAL</td>\n",
              "      <td>5429</td>\n",
              "      <td>4460.38</td>\n",
              "      <td>30337.26</td>\n",
              "    </tr>\n",
              "    <tr>\n",
              "      <th>16</th>\n",
              "      <td>LUNCH BAG RED SPOTTY</td>\n",
              "      <td>17943</td>\n",
              "      <td>2439.50</td>\n",
              "      <td>29866.97</td>\n",
              "    </tr>\n",
              "    <tr>\n",
              "      <th>17</th>\n",
              "      <td>CHILLI LIGHTS</td>\n",
              "      <td>6006</td>\n",
              "      <td>2862.86</td>\n",
              "      <td>29364.31</td>\n",
              "    </tr>\n",
              "    <tr>\n",
              "      <th>18</th>\n",
              "      <td>JUMBO SHOPPER VINTAGE RED PAISLEY</td>\n",
              "      <td>14330</td>\n",
              "      <td>2357.39</td>\n",
              "      <td>28320.50</td>\n",
              "    </tr>\n",
              "    <tr>\n",
              "      <th>19</th>\n",
              "      <td>CHOCOLATE HOT WATER BOTTLE</td>\n",
              "      <td>5531</td>\n",
              "      <td>5372.63</td>\n",
              "      <td>27896.94</td>\n",
              "    </tr>\n",
              "    <tr>\n",
              "      <th>20</th>\n",
              "      <td>SCOTTIE DOG HOT WATER BOTTLE</td>\n",
              "      <td>5552</td>\n",
              "      <td>5903.36</td>\n",
              "      <td>27682.47</td>\n",
              "    </tr>\n",
              "    <tr>\n",
              "      <th>21</th>\n",
              "      <td>SET/4 WHITE RETRO STORAGE CUBES</td>\n",
              "      <td>714</td>\n",
              "      <td>8106.61</td>\n",
              "      <td>27558.21</td>\n",
              "    </tr>\n",
              "    <tr>\n",
              "      <th>22</th>\n",
              "      <td>RED RETROSPOT CAKE STAND</td>\n",
              "      <td>2555</td>\n",
              "      <td>8159.25</td>\n",
              "      <td>27129.35</td>\n",
              "    </tr>\n",
              "    <tr>\n",
              "      <th>23</th>\n",
              "      <td>WOODEN FRAME ANTIQUE WHITE</td>\n",
              "      <td>9056</td>\n",
              "      <td>3805.52</td>\n",
              "      <td>26490.06</td>\n",
              "    </tr>\n",
              "    <tr>\n",
              "      <th>24</th>\n",
              "      <td>RED HANGING HEART T-LIGHT HOLDER</td>\n",
              "      <td>9473</td>\n",
              "      <td>3371.40</td>\n",
              "      <td>26462.47</td>\n",
              "    </tr>\n",
              "    <tr>\n",
              "      <th>25</th>\n",
              "      <td>JUMBO BAG PINK VINTAGE PAISLEY</td>\n",
              "      <td>14247</td>\n",
              "      <td>1808.89</td>\n",
              "      <td>25997.96</td>\n",
              "    </tr>\n",
              "    <tr>\n",
              "      <th>26</th>\n",
              "      <td>JUMBO BAG PINK WITH WHITE SPOTS</td>\n",
              "      <td>13913</td>\n",
              "      <td>1762.85</td>\n",
              "      <td>25769.11</td>\n",
              "    </tr>\n",
              "    <tr>\n",
              "      <th>27</th>\n",
              "      <td>TEA TIME CAKE STAND IN GIFT BOX</td>\n",
              "      <td>2469</td>\n",
              "      <td>6163.48</td>\n",
              "      <td>25471.33</td>\n",
              "    </tr>\n",
              "    <tr>\n",
              "      <th>28</th>\n",
              "      <td>DOOR MAT UNION FLAG</td>\n",
              "      <td>3780</td>\n",
              "      <td>5011.72</td>\n",
              "      <td>24808.26</td>\n",
              "    </tr>\n",
              "    <tr>\n",
              "      <th>29</th>\n",
              "      <td>SET/5 RED SPOTTY LID GLASS BOWLS</td>\n",
              "      <td>8814</td>\n",
              "      <td>2875.32</td>\n",
              "      <td>24648.72</td>\n",
              "    </tr>\n",
              "  </tbody>\n",
              "</table>\n",
              "</div>\n",
              "      <button class=\"colab-df-convert\" onclick=\"convertToInteractive('df-a2bc82d2-64b1-4297-b007-82b19de6aab7')\"\n",
              "              title=\"Convert this dataframe to an interactive table.\"\n",
              "              style=\"display:none;\">\n",
              "        \n",
              "  <svg xmlns=\"http://www.w3.org/2000/svg\" height=\"24px\"viewBox=\"0 0 24 24\"\n",
              "       width=\"24px\">\n",
              "    <path d=\"M0 0h24v24H0V0z\" fill=\"none\"/>\n",
              "    <path d=\"M18.56 5.44l.94 2.06.94-2.06 2.06-.94-2.06-.94-.94-2.06-.94 2.06-2.06.94zm-11 1L8.5 8.5l.94-2.06 2.06-.94-2.06-.94L8.5 2.5l-.94 2.06-2.06.94zm10 10l.94 2.06.94-2.06 2.06-.94-2.06-.94-.94-2.06-.94 2.06-2.06.94z\"/><path d=\"M17.41 7.96l-1.37-1.37c-.4-.4-.92-.59-1.43-.59-.52 0-1.04.2-1.43.59L10.3 9.45l-7.72 7.72c-.78.78-.78 2.05 0 2.83L4 21.41c.39.39.9.59 1.41.59.51 0 1.02-.2 1.41-.59l7.78-7.78 2.81-2.81c.8-.78.8-2.07 0-2.86zM5.41 20L4 18.59l7.72-7.72 1.47 1.35L5.41 20z\"/>\n",
              "  </svg>\n",
              "      </button>\n",
              "      \n",
              "  <style>\n",
              "    .colab-df-container {\n",
              "      display:flex;\n",
              "      flex-wrap:wrap;\n",
              "      gap: 12px;\n",
              "    }\n",
              "\n",
              "    .colab-df-convert {\n",
              "      background-color: #E8F0FE;\n",
              "      border: none;\n",
              "      border-radius: 50%;\n",
              "      cursor: pointer;\n",
              "      display: none;\n",
              "      fill: #1967D2;\n",
              "      height: 32px;\n",
              "      padding: 0 0 0 0;\n",
              "      width: 32px;\n",
              "    }\n",
              "\n",
              "    .colab-df-convert:hover {\n",
              "      background-color: #E2EBFA;\n",
              "      box-shadow: 0px 1px 2px rgba(60, 64, 67, 0.3), 0px 1px 3px 1px rgba(60, 64, 67, 0.15);\n",
              "      fill: #174EA6;\n",
              "    }\n",
              "\n",
              "    [theme=dark] .colab-df-convert {\n",
              "      background-color: #3B4455;\n",
              "      fill: #D2E3FC;\n",
              "    }\n",
              "\n",
              "    [theme=dark] .colab-df-convert:hover {\n",
              "      background-color: #434B5C;\n",
              "      box-shadow: 0px 1px 3px 1px rgba(0, 0, 0, 0.15);\n",
              "      filter: drop-shadow(0px 1px 2px rgba(0, 0, 0, 0.3));\n",
              "      fill: #FFFFFF;\n",
              "    }\n",
              "  </style>\n",
              "\n",
              "      <script>\n",
              "        const buttonEl =\n",
              "          document.querySelector('#df-a2bc82d2-64b1-4297-b007-82b19de6aab7 button.colab-df-convert');\n",
              "        buttonEl.style.display =\n",
              "          google.colab.kernel.accessAllowed ? 'block' : 'none';\n",
              "\n",
              "        async function convertToInteractive(key) {\n",
              "          const element = document.querySelector('#df-a2bc82d2-64b1-4297-b007-82b19de6aab7');\n",
              "          const dataTable =\n",
              "            await google.colab.kernel.invokeFunction('convertToInteractive',\n",
              "                                                     [key], {});\n",
              "          if (!dataTable) return;\n",
              "\n",
              "          const docLinkHtml = 'Like what you see? Visit the ' +\n",
              "            '<a target=\"_blank\" href=https://colab.research.google.com/notebooks/data_table.ipynb>data table notebook</a>'\n",
              "            + ' to learn more about interactive tables.';\n",
              "          element.innerHTML = '';\n",
              "          dataTable['output_type'] = 'display_data';\n",
              "          await google.colab.output.renderOutput(dataTable, element);\n",
              "          const docLink = document.createElement('div');\n",
              "          docLink.innerHTML = docLinkHtml;\n",
              "          element.appendChild(docLink);\n",
              "        }\n",
              "      </script>\n",
              "    </div>\n",
              "  </div>\n",
              "  "
            ]
          },
          "metadata": {},
          "execution_count": 202
        }
      ]
    },
    {
      "cell_type": "code",
      "source": [
        "figura = px.bar(top_30, y='Ganancia', x='Description')\n",
        "figura.show()"
      ],
      "metadata": {
        "colab": {
          "base_uri": "https://localhost:8080/",
          "height": 0
        },
        "id": "y6hU6ke2aHfw",
        "outputId": "5b8aabaa-50db-4c03-e84b-87d57c6f1813"
      },
      "execution_count": 208,
      "outputs": [
        {
          "output_type": "display_data",
          "data": {
            "text/html": [
              "<html>\n",
              "<head><meta charset=\"utf-8\" /></head>\n",
              "<body>\n",
              "    <div>            <script src=\"https://cdnjs.cloudflare.com/ajax/libs/mathjax/2.7.5/MathJax.js?config=TeX-AMS-MML_SVG\"></script><script type=\"text/javascript\">if (window.MathJax && window.MathJax.Hub && && window.MathJax.Hub.Config) {window.MathJax.Hub.Config({SVG: {font: \"STIX-Web\"}});}</script>                <script type=\"text/javascript\">window.PlotlyConfig = {MathJaxConfig: 'local'};</script>\n",
              "        <script src=\"https://cdn.plot.ly/plotly-2.12.1.min.js\"></script>                <div id=\"19228489-4712-4945-81f5-5da77a5b9733\" class=\"plotly-graph-div\" style=\"height:525px; width:100%;\"></div>            <script type=\"text/javascript\">                                    window.PLOTLYENV=window.PLOTLYENV || {};                                    if (document.getElementById(\"19228489-4712-4945-81f5-5da77a5b9733\")) {                    Plotly.newPlot(                        \"19228489-4712-4945-81f5-5da77a5b9733\",                        [{\"alignmentgroup\":\"True\",\"hovertemplate\":\"Description=%{x}<br>Ganancia=%{y}<extra></extra>\",\"legendgroup\":\"\",\"marker\":{\"color\":\"#636efa\",\"pattern\":{\"shape\":\"\"}},\"name\":\"\",\"offsetgroup\":\"\",\"orientation\":\"v\",\"showlegend\":false,\"textposition\":\"auto\",\"x\":[\"REGENCY CAKESTAND 3 TIER\",\"WHITE HANGING HEART T-LIGHT HOLDER\",\"DOTCOM POSTAGE\",\"ASSORTED COLOUR BIRD ORNAMENT\",\"JUMBO BAG RED RETROSPOT\",\"POSTAGE\",\"PARTY BUNTING\",\"PAPER CHAIN KIT 50'S CHRISTMAS \",\"STRAWBERRY CERAMIC TRINKET BOX\",\"VINTAGE UNION JACK BUNTING\",\"JUMBO STORAGE BAG SUKI\",\"JUMBO  BAG BAROQUE BLACK WHITE\",\"JUMBO BAG STRAWBERRY\",\"HOME BUILDING BLOCK WORD\",\"HOT WATER BOTTLE TEA AND SYMPATHY\",\"EDWARDIAN PARASOL NATURAL\",\"LUNCH BAG RED SPOTTY\",\"CHILLI LIGHTS\",\"JUMBO SHOPPER VINTAGE RED PAISLEY\",\"CHOCOLATE HOT WATER BOTTLE\",\"SCOTTIE DOG HOT WATER BOTTLE\",\"SET/4 WHITE RETRO STORAGE CUBES \",\"RED RETROSPOT CAKE STAND\",\"WOODEN FRAME ANTIQUE WHITE \",\"RED HANGING HEART T-LIGHT HOLDER\",\"JUMBO BAG PINK VINTAGE PAISLEY\",\"JUMBO BAG PINK WITH WHITE SPOTS\",\"TEA TIME CAKE STAND IN GIFT BOX\",\"DOOR MAT UNION FLAG\",\"SET/5 RED SPOTTY LID GLASS BOWLS\"],\"xaxis\":\"x\",\"y\":[158033.50999999998,131101.41,64749.98,56928.3,49995.51,47986.66,47315.44,40877.6,32798.2,32506.75,31515.16,31295.29,31153.36,31029.77,30515.160000000003,30337.260000000002,29866.97,29364.31,28320.5,27896.940000000002,27682.47,27558.210000000003,27129.35,26490.06,26462.47,25997.96,25769.11,25471.329999999998,24808.26,24648.72],\"yaxis\":\"y\",\"type\":\"bar\"}],                        {\"template\":{\"data\":{\"histogram2dcontour\":[{\"type\":\"histogram2dcontour\",\"colorbar\":{\"outlinewidth\":0,\"ticks\":\"\"},\"colorscale\":[[0.0,\"#0d0887\"],[0.1111111111111111,\"#46039f\"],[0.2222222222222222,\"#7201a8\"],[0.3333333333333333,\"#9c179e\"],[0.4444444444444444,\"#bd3786\"],[0.5555555555555556,\"#d8576b\"],[0.6666666666666666,\"#ed7953\"],[0.7777777777777778,\"#fb9f3a\"],[0.8888888888888888,\"#fdca26\"],[1.0,\"#f0f921\"]]}],\"choropleth\":[{\"type\":\"choropleth\",\"colorbar\":{\"outlinewidth\":0,\"ticks\":\"\"}}],\"histogram2d\":[{\"type\":\"histogram2d\",\"colorbar\":{\"outlinewidth\":0,\"ticks\":\"\"},\"colorscale\":[[0.0,\"#0d0887\"],[0.1111111111111111,\"#46039f\"],[0.2222222222222222,\"#7201a8\"],[0.3333333333333333,\"#9c179e\"],[0.4444444444444444,\"#bd3786\"],[0.5555555555555556,\"#d8576b\"],[0.6666666666666666,\"#ed7953\"],[0.7777777777777778,\"#fb9f3a\"],[0.8888888888888888,\"#fdca26\"],[1.0,\"#f0f921\"]]}],\"heatmap\":[{\"type\":\"heatmap\",\"colorbar\":{\"outlinewidth\":0,\"ticks\":\"\"},\"colorscale\":[[0.0,\"#0d0887\"],[0.1111111111111111,\"#46039f\"],[0.2222222222222222,\"#7201a8\"],[0.3333333333333333,\"#9c179e\"],[0.4444444444444444,\"#bd3786\"],[0.5555555555555556,\"#d8576b\"],[0.6666666666666666,\"#ed7953\"],[0.7777777777777778,\"#fb9f3a\"],[0.8888888888888888,\"#fdca26\"],[1.0,\"#f0f921\"]]}],\"heatmapgl\":[{\"type\":\"heatmapgl\",\"colorbar\":{\"outlinewidth\":0,\"ticks\":\"\"},\"colorscale\":[[0.0,\"#0d0887\"],[0.1111111111111111,\"#46039f\"],[0.2222222222222222,\"#7201a8\"],[0.3333333333333333,\"#9c179e\"],[0.4444444444444444,\"#bd3786\"],[0.5555555555555556,\"#d8576b\"],[0.6666666666666666,\"#ed7953\"],[0.7777777777777778,\"#fb9f3a\"],[0.8888888888888888,\"#fdca26\"],[1.0,\"#f0f921\"]]}],\"contourcarpet\":[{\"type\":\"contourcarpet\",\"colorbar\":{\"outlinewidth\":0,\"ticks\":\"\"}}],\"contour\":[{\"type\":\"contour\",\"colorbar\":{\"outlinewidth\":0,\"ticks\":\"\"},\"colorscale\":[[0.0,\"#0d0887\"],[0.1111111111111111,\"#46039f\"],[0.2222222222222222,\"#7201a8\"],[0.3333333333333333,\"#9c179e\"],[0.4444444444444444,\"#bd3786\"],[0.5555555555555556,\"#d8576b\"],[0.6666666666666666,\"#ed7953\"],[0.7777777777777778,\"#fb9f3a\"],[0.8888888888888888,\"#fdca26\"],[1.0,\"#f0f921\"]]}],\"surface\":[{\"type\":\"surface\",\"colorbar\":{\"outlinewidth\":0,\"ticks\":\"\"},\"colorscale\":[[0.0,\"#0d0887\"],[0.1111111111111111,\"#46039f\"],[0.2222222222222222,\"#7201a8\"],[0.3333333333333333,\"#9c179e\"],[0.4444444444444444,\"#bd3786\"],[0.5555555555555556,\"#d8576b\"],[0.6666666666666666,\"#ed7953\"],[0.7777777777777778,\"#fb9f3a\"],[0.8888888888888888,\"#fdca26\"],[1.0,\"#f0f921\"]]}],\"mesh3d\":[{\"type\":\"mesh3d\",\"colorbar\":{\"outlinewidth\":0,\"ticks\":\"\"}}],\"scatter\":[{\"fillpattern\":{\"fillmode\":\"overlay\",\"size\":10,\"solidity\":0.2},\"type\":\"scatter\"}],\"parcoords\":[{\"type\":\"parcoords\",\"line\":{\"colorbar\":{\"outlinewidth\":0,\"ticks\":\"\"}}}],\"scatterpolargl\":[{\"type\":\"scatterpolargl\",\"marker\":{\"colorbar\":{\"outlinewidth\":0,\"ticks\":\"\"}}}],\"bar\":[{\"error_x\":{\"color\":\"#2a3f5f\"},\"error_y\":{\"color\":\"#2a3f5f\"},\"marker\":{\"line\":{\"color\":\"#E5ECF6\",\"width\":0.5},\"pattern\":{\"fillmode\":\"overlay\",\"size\":10,\"solidity\":0.2}},\"type\":\"bar\"}],\"scattergeo\":[{\"type\":\"scattergeo\",\"marker\":{\"colorbar\":{\"outlinewidth\":0,\"ticks\":\"\"}}}],\"scatterpolar\":[{\"type\":\"scatterpolar\",\"marker\":{\"colorbar\":{\"outlinewidth\":0,\"ticks\":\"\"}}}],\"histogram\":[{\"marker\":{\"pattern\":{\"fillmode\":\"overlay\",\"size\":10,\"solidity\":0.2}},\"type\":\"histogram\"}],\"scattergl\":[{\"type\":\"scattergl\",\"marker\":{\"colorbar\":{\"outlinewidth\":0,\"ticks\":\"\"}}}],\"scatter3d\":[{\"type\":\"scatter3d\",\"line\":{\"colorbar\":{\"outlinewidth\":0,\"ticks\":\"\"}},\"marker\":{\"colorbar\":{\"outlinewidth\":0,\"ticks\":\"\"}}}],\"scattermapbox\":[{\"type\":\"scattermapbox\",\"marker\":{\"colorbar\":{\"outlinewidth\":0,\"ticks\":\"\"}}}],\"scatterternary\":[{\"type\":\"scatterternary\",\"marker\":{\"colorbar\":{\"outlinewidth\":0,\"ticks\":\"\"}}}],\"scattercarpet\":[{\"type\":\"scattercarpet\",\"marker\":{\"colorbar\":{\"outlinewidth\":0,\"ticks\":\"\"}}}],\"carpet\":[{\"aaxis\":{\"endlinecolor\":\"#2a3f5f\",\"gridcolor\":\"white\",\"linecolor\":\"white\",\"minorgridcolor\":\"white\",\"startlinecolor\":\"#2a3f5f\"},\"baxis\":{\"endlinecolor\":\"#2a3f5f\",\"gridcolor\":\"white\",\"linecolor\":\"white\",\"minorgridcolor\":\"white\",\"startlinecolor\":\"#2a3f5f\"},\"type\":\"carpet\"}],\"table\":[{\"cells\":{\"fill\":{\"color\":\"#EBF0F8\"},\"line\":{\"color\":\"white\"}},\"header\":{\"fill\":{\"color\":\"#C8D4E3\"},\"line\":{\"color\":\"white\"}},\"type\":\"table\"}],\"barpolar\":[{\"marker\":{\"line\":{\"color\":\"#E5ECF6\",\"width\":0.5},\"pattern\":{\"fillmode\":\"overlay\",\"size\":10,\"solidity\":0.2}},\"type\":\"barpolar\"}],\"pie\":[{\"automargin\":true,\"type\":\"pie\"}]},\"layout\":{\"autotypenumbers\":\"strict\",\"colorway\":[\"#636efa\",\"#EF553B\",\"#00cc96\",\"#ab63fa\",\"#FFA15A\",\"#19d3f3\",\"#FF6692\",\"#B6E880\",\"#FF97FF\",\"#FECB52\"],\"font\":{\"color\":\"#2a3f5f\"},\"hovermode\":\"closest\",\"hoverlabel\":{\"align\":\"left\"},\"paper_bgcolor\":\"white\",\"plot_bgcolor\":\"#E5ECF6\",\"polar\":{\"bgcolor\":\"#E5ECF6\",\"angularaxis\":{\"gridcolor\":\"white\",\"linecolor\":\"white\",\"ticks\":\"\"},\"radialaxis\":{\"gridcolor\":\"white\",\"linecolor\":\"white\",\"ticks\":\"\"}},\"ternary\":{\"bgcolor\":\"#E5ECF6\",\"aaxis\":{\"gridcolor\":\"white\",\"linecolor\":\"white\",\"ticks\":\"\"},\"baxis\":{\"gridcolor\":\"white\",\"linecolor\":\"white\",\"ticks\":\"\"},\"caxis\":{\"gridcolor\":\"white\",\"linecolor\":\"white\",\"ticks\":\"\"}},\"coloraxis\":{\"colorbar\":{\"outlinewidth\":0,\"ticks\":\"\"}},\"colorscale\":{\"sequential\":[[0.0,\"#0d0887\"],[0.1111111111111111,\"#46039f\"],[0.2222222222222222,\"#7201a8\"],[0.3333333333333333,\"#9c179e\"],[0.4444444444444444,\"#bd3786\"],[0.5555555555555556,\"#d8576b\"],[0.6666666666666666,\"#ed7953\"],[0.7777777777777778,\"#fb9f3a\"],[0.8888888888888888,\"#fdca26\"],[1.0,\"#f0f921\"]],\"sequentialminus\":[[0.0,\"#0d0887\"],[0.1111111111111111,\"#46039f\"],[0.2222222222222222,\"#7201a8\"],[0.3333333333333333,\"#9c179e\"],[0.4444444444444444,\"#bd3786\"],[0.5555555555555556,\"#d8576b\"],[0.6666666666666666,\"#ed7953\"],[0.7777777777777778,\"#fb9f3a\"],[0.8888888888888888,\"#fdca26\"],[1.0,\"#f0f921\"]],\"diverging\":[[0,\"#8e0152\"],[0.1,\"#c51b7d\"],[0.2,\"#de77ae\"],[0.3,\"#f1b6da\"],[0.4,\"#fde0ef\"],[0.5,\"#f7f7f7\"],[0.6,\"#e6f5d0\"],[0.7,\"#b8e186\"],[0.8,\"#7fbc41\"],[0.9,\"#4d9221\"],[1,\"#276419\"]]},\"xaxis\":{\"gridcolor\":\"white\",\"linecolor\":\"white\",\"ticks\":\"\",\"title\":{\"standoff\":15},\"zerolinecolor\":\"white\",\"automargin\":true,\"zerolinewidth\":2},\"yaxis\":{\"gridcolor\":\"white\",\"linecolor\":\"white\",\"ticks\":\"\",\"title\":{\"standoff\":15},\"zerolinecolor\":\"white\",\"automargin\":true,\"zerolinewidth\":2},\"scene\":{\"xaxis\":{\"backgroundcolor\":\"#E5ECF6\",\"gridcolor\":\"white\",\"linecolor\":\"white\",\"showbackground\":true,\"ticks\":\"\",\"zerolinecolor\":\"white\",\"gridwidth\":2},\"yaxis\":{\"backgroundcolor\":\"#E5ECF6\",\"gridcolor\":\"white\",\"linecolor\":\"white\",\"showbackground\":true,\"ticks\":\"\",\"zerolinecolor\":\"white\",\"gridwidth\":2},\"zaxis\":{\"backgroundcolor\":\"#E5ECF6\",\"gridcolor\":\"white\",\"linecolor\":\"white\",\"showbackground\":true,\"ticks\":\"\",\"zerolinecolor\":\"white\",\"gridwidth\":2}},\"shapedefaults\":{\"line\":{\"color\":\"#2a3f5f\"}},\"annotationdefaults\":{\"arrowcolor\":\"#2a3f5f\",\"arrowhead\":0,\"arrowwidth\":1},\"geo\":{\"bgcolor\":\"white\",\"landcolor\":\"#E5ECF6\",\"subunitcolor\":\"white\",\"showland\":true,\"showlakes\":true,\"lakecolor\":\"white\"},\"title\":{\"x\":0.05},\"mapbox\":{\"style\":\"light\"}}},\"xaxis\":{\"anchor\":\"y\",\"domain\":[0.0,1.0],\"title\":{\"text\":\"Description\"}},\"yaxis\":{\"anchor\":\"x\",\"domain\":[0.0,1.0],\"title\":{\"text\":\"Ganancia\"}},\"legend\":{\"tracegroupgap\":0},\"margin\":{\"t\":60},\"barmode\":\"relative\"},                        {\"responsive\": true}                    ).then(function(){\n",
              "                            \n",
              "var gd = document.getElementById('19228489-4712-4945-81f5-5da77a5b9733');\n",
              "var x = new MutationObserver(function (mutations, observer) {{\n",
              "        var display = window.getComputedStyle(gd).display;\n",
              "        if (!display || display === 'none') {{\n",
              "            console.log([gd, 'removed!']);\n",
              "            Plotly.purge(gd);\n",
              "            observer.disconnect();\n",
              "        }}\n",
              "}});\n",
              "\n",
              "// Listen for the removal of the full notebook cells\n",
              "var notebookContainer = gd.closest('#notebook-container');\n",
              "if (notebookContainer) {{\n",
              "    x.observe(notebookContainer, {childList: true});\n",
              "}}\n",
              "\n",
              "// Listen for the clearing of the current output cell\n",
              "var outputEl = gd.closest('.output');\n",
              "if (outputEl) {{\n",
              "    x.observe(outputEl, {childList: true});\n",
              "}}\n",
              "\n",
              "                        })                };                            </script>        </div>\n",
              "</body>\n",
              "</html>"
            ]
          },
          "metadata": {}
        }
      ]
    },
    {
      "cell_type": "code",
      "source": [
        "figura = px.bar(top_30, y='Quantity', x='Description')\n",
        "figura.show()"
      ],
      "metadata": {
        "colab": {
          "base_uri": "https://localhost:8080/",
          "height": 0
        },
        "id": "emSWGmvFb-kJ",
        "outputId": "3ea914ca-72e3-445e-845b-24b17914d19b"
      },
      "execution_count": 207,
      "outputs": [
        {
          "output_type": "display_data",
          "data": {
            "text/html": [
              "<html>\n",
              "<head><meta charset=\"utf-8\" /></head>\n",
              "<body>\n",
              "    <div>            <script src=\"https://cdnjs.cloudflare.com/ajax/libs/mathjax/2.7.5/MathJax.js?config=TeX-AMS-MML_SVG\"></script><script type=\"text/javascript\">if (window.MathJax && window.MathJax.Hub && && window.MathJax.Hub.Config) {window.MathJax.Hub.Config({SVG: {font: \"STIX-Web\"}});}</script>                <script type=\"text/javascript\">window.PlotlyConfig = {MathJaxConfig: 'local'};</script>\n",
              "        <script src=\"https://cdn.plot.ly/plotly-2.12.1.min.js\"></script>                <div id=\"aaeebdd6-906a-4683-9982-111bfbd9a9ce\" class=\"plotly-graph-div\" style=\"height:525px; width:100%;\"></div>            <script type=\"text/javascript\">                                    window.PLOTLYENV=window.PLOTLYENV || {};                                    if (document.getElementById(\"aaeebdd6-906a-4683-9982-111bfbd9a9ce\")) {                    Plotly.newPlot(                        \"aaeebdd6-906a-4683-9982-111bfbd9a9ce\",                        [{\"alignmentgroup\":\"True\",\"hovertemplate\":\"Description=%{x}<br>Quantity=%{y}<extra></extra>\",\"legendgroup\":\"\",\"marker\":{\"color\":\"#636efa\",\"pattern\":{\"shape\":\"\"}},\"name\":\"\",\"offsetgroup\":\"\",\"orientation\":\"v\",\"showlegend\":false,\"textposition\":\"auto\",\"x\":[\"REGENCY CAKESTAND 3 TIER\",\"WHITE HANGING HEART T-LIGHT HOLDER\",\"DOTCOM POSTAGE\",\"ASSORTED COLOUR BIRD ORNAMENT\",\"JUMBO BAG RED RETROSPOT\",\"POSTAGE\",\"PARTY BUNTING\",\"PAPER CHAIN KIT 50'S CHRISTMAS \",\"STRAWBERRY CERAMIC TRINKET BOX\",\"VINTAGE UNION JACK BUNTING\",\"JUMBO STORAGE BAG SUKI\",\"JUMBO  BAG BAROQUE BLACK WHITE\",\"JUMBO BAG STRAWBERRY\",\"HOME BUILDING BLOCK WORD\",\"HOT WATER BOTTLE TEA AND SYMPATHY\",\"EDWARDIAN PARASOL NATURAL\",\"LUNCH BAG RED SPOTTY\",\"CHILLI LIGHTS\",\"JUMBO SHOPPER VINTAGE RED PAISLEY\",\"CHOCOLATE HOT WATER BOTTLE\",\"SCOTTIE DOG HOT WATER BOTTLE\",\"SET/4 WHITE RETRO STORAGE CUBES \",\"RED RETROSPOT CAKE STAND\",\"WOODEN FRAME ANTIQUE WHITE \",\"RED HANGING HEART T-LIGHT HOLDER\",\"JUMBO BAG PINK VINTAGE PAISLEY\",\"JUMBO BAG PINK WITH WHITE SPOTS\",\"TEA TIME CAKE STAND IN GIFT BOX\",\"DOOR MAT UNION FLAG\",\"SET/5 RED SPOTTY LID GLASS BOWLS\"],\"xaxis\":\"x\",\"y\":[12598,47417,632,34527,26805,2307,9829,12685,25615,3748,15849,16744,16618,5067,6715,5429,17943,6006,14330,5531,5552,714,2555,9056,9473,14247,13913,2469,3780,8814],\"yaxis\":\"y\",\"type\":\"bar\"}],                        {\"template\":{\"data\":{\"histogram2dcontour\":[{\"type\":\"histogram2dcontour\",\"colorbar\":{\"outlinewidth\":0,\"ticks\":\"\"},\"colorscale\":[[0.0,\"#0d0887\"],[0.1111111111111111,\"#46039f\"],[0.2222222222222222,\"#7201a8\"],[0.3333333333333333,\"#9c179e\"],[0.4444444444444444,\"#bd3786\"],[0.5555555555555556,\"#d8576b\"],[0.6666666666666666,\"#ed7953\"],[0.7777777777777778,\"#fb9f3a\"],[0.8888888888888888,\"#fdca26\"],[1.0,\"#f0f921\"]]}],\"choropleth\":[{\"type\":\"choropleth\",\"colorbar\":{\"outlinewidth\":0,\"ticks\":\"\"}}],\"histogram2d\":[{\"type\":\"histogram2d\",\"colorbar\":{\"outlinewidth\":0,\"ticks\":\"\"},\"colorscale\":[[0.0,\"#0d0887\"],[0.1111111111111111,\"#46039f\"],[0.2222222222222222,\"#7201a8\"],[0.3333333333333333,\"#9c179e\"],[0.4444444444444444,\"#bd3786\"],[0.5555555555555556,\"#d8576b\"],[0.6666666666666666,\"#ed7953\"],[0.7777777777777778,\"#fb9f3a\"],[0.8888888888888888,\"#fdca26\"],[1.0,\"#f0f921\"]]}],\"heatmap\":[{\"type\":\"heatmap\",\"colorbar\":{\"outlinewidth\":0,\"ticks\":\"\"},\"colorscale\":[[0.0,\"#0d0887\"],[0.1111111111111111,\"#46039f\"],[0.2222222222222222,\"#7201a8\"],[0.3333333333333333,\"#9c179e\"],[0.4444444444444444,\"#bd3786\"],[0.5555555555555556,\"#d8576b\"],[0.6666666666666666,\"#ed7953\"],[0.7777777777777778,\"#fb9f3a\"],[0.8888888888888888,\"#fdca26\"],[1.0,\"#f0f921\"]]}],\"heatmapgl\":[{\"type\":\"heatmapgl\",\"colorbar\":{\"outlinewidth\":0,\"ticks\":\"\"},\"colorscale\":[[0.0,\"#0d0887\"],[0.1111111111111111,\"#46039f\"],[0.2222222222222222,\"#7201a8\"],[0.3333333333333333,\"#9c179e\"],[0.4444444444444444,\"#bd3786\"],[0.5555555555555556,\"#d8576b\"],[0.6666666666666666,\"#ed7953\"],[0.7777777777777778,\"#fb9f3a\"],[0.8888888888888888,\"#fdca26\"],[1.0,\"#f0f921\"]]}],\"contourcarpet\":[{\"type\":\"contourcarpet\",\"colorbar\":{\"outlinewidth\":0,\"ticks\":\"\"}}],\"contour\":[{\"type\":\"contour\",\"colorbar\":{\"outlinewidth\":0,\"ticks\":\"\"},\"colorscale\":[[0.0,\"#0d0887\"],[0.1111111111111111,\"#46039f\"],[0.2222222222222222,\"#7201a8\"],[0.3333333333333333,\"#9c179e\"],[0.4444444444444444,\"#bd3786\"],[0.5555555555555556,\"#d8576b\"],[0.6666666666666666,\"#ed7953\"],[0.7777777777777778,\"#fb9f3a\"],[0.8888888888888888,\"#fdca26\"],[1.0,\"#f0f921\"]]}],\"surface\":[{\"type\":\"surface\",\"colorbar\":{\"outlinewidth\":0,\"ticks\":\"\"},\"colorscale\":[[0.0,\"#0d0887\"],[0.1111111111111111,\"#46039f\"],[0.2222222222222222,\"#7201a8\"],[0.3333333333333333,\"#9c179e\"],[0.4444444444444444,\"#bd3786\"],[0.5555555555555556,\"#d8576b\"],[0.6666666666666666,\"#ed7953\"],[0.7777777777777778,\"#fb9f3a\"],[0.8888888888888888,\"#fdca26\"],[1.0,\"#f0f921\"]]}],\"mesh3d\":[{\"type\":\"mesh3d\",\"colorbar\":{\"outlinewidth\":0,\"ticks\":\"\"}}],\"scatter\":[{\"fillpattern\":{\"fillmode\":\"overlay\",\"size\":10,\"solidity\":0.2},\"type\":\"scatter\"}],\"parcoords\":[{\"type\":\"parcoords\",\"line\":{\"colorbar\":{\"outlinewidth\":0,\"ticks\":\"\"}}}],\"scatterpolargl\":[{\"type\":\"scatterpolargl\",\"marker\":{\"colorbar\":{\"outlinewidth\":0,\"ticks\":\"\"}}}],\"bar\":[{\"error_x\":{\"color\":\"#2a3f5f\"},\"error_y\":{\"color\":\"#2a3f5f\"},\"marker\":{\"line\":{\"color\":\"#E5ECF6\",\"width\":0.5},\"pattern\":{\"fillmode\":\"overlay\",\"size\":10,\"solidity\":0.2}},\"type\":\"bar\"}],\"scattergeo\":[{\"type\":\"scattergeo\",\"marker\":{\"colorbar\":{\"outlinewidth\":0,\"ticks\":\"\"}}}],\"scatterpolar\":[{\"type\":\"scatterpolar\",\"marker\":{\"colorbar\":{\"outlinewidth\":0,\"ticks\":\"\"}}}],\"histogram\":[{\"marker\":{\"pattern\":{\"fillmode\":\"overlay\",\"size\":10,\"solidity\":0.2}},\"type\":\"histogram\"}],\"scattergl\":[{\"type\":\"scattergl\",\"marker\":{\"colorbar\":{\"outlinewidth\":0,\"ticks\":\"\"}}}],\"scatter3d\":[{\"type\":\"scatter3d\",\"line\":{\"colorbar\":{\"outlinewidth\":0,\"ticks\":\"\"}},\"marker\":{\"colorbar\":{\"outlinewidth\":0,\"ticks\":\"\"}}}],\"scattermapbox\":[{\"type\":\"scattermapbox\",\"marker\":{\"colorbar\":{\"outlinewidth\":0,\"ticks\":\"\"}}}],\"scatterternary\":[{\"type\":\"scatterternary\",\"marker\":{\"colorbar\":{\"outlinewidth\":0,\"ticks\":\"\"}}}],\"scattercarpet\":[{\"type\":\"scattercarpet\",\"marker\":{\"colorbar\":{\"outlinewidth\":0,\"ticks\":\"\"}}}],\"carpet\":[{\"aaxis\":{\"endlinecolor\":\"#2a3f5f\",\"gridcolor\":\"white\",\"linecolor\":\"white\",\"minorgridcolor\":\"white\",\"startlinecolor\":\"#2a3f5f\"},\"baxis\":{\"endlinecolor\":\"#2a3f5f\",\"gridcolor\":\"white\",\"linecolor\":\"white\",\"minorgridcolor\":\"white\",\"startlinecolor\":\"#2a3f5f\"},\"type\":\"carpet\"}],\"table\":[{\"cells\":{\"fill\":{\"color\":\"#EBF0F8\"},\"line\":{\"color\":\"white\"}},\"header\":{\"fill\":{\"color\":\"#C8D4E3\"},\"line\":{\"color\":\"white\"}},\"type\":\"table\"}],\"barpolar\":[{\"marker\":{\"line\":{\"color\":\"#E5ECF6\",\"width\":0.5},\"pattern\":{\"fillmode\":\"overlay\",\"size\":10,\"solidity\":0.2}},\"type\":\"barpolar\"}],\"pie\":[{\"automargin\":true,\"type\":\"pie\"}]},\"layout\":{\"autotypenumbers\":\"strict\",\"colorway\":[\"#636efa\",\"#EF553B\",\"#00cc96\",\"#ab63fa\",\"#FFA15A\",\"#19d3f3\",\"#FF6692\",\"#B6E880\",\"#FF97FF\",\"#FECB52\"],\"font\":{\"color\":\"#2a3f5f\"},\"hovermode\":\"closest\",\"hoverlabel\":{\"align\":\"left\"},\"paper_bgcolor\":\"white\",\"plot_bgcolor\":\"#E5ECF6\",\"polar\":{\"bgcolor\":\"#E5ECF6\",\"angularaxis\":{\"gridcolor\":\"white\",\"linecolor\":\"white\",\"ticks\":\"\"},\"radialaxis\":{\"gridcolor\":\"white\",\"linecolor\":\"white\",\"ticks\":\"\"}},\"ternary\":{\"bgcolor\":\"#E5ECF6\",\"aaxis\":{\"gridcolor\":\"white\",\"linecolor\":\"white\",\"ticks\":\"\"},\"baxis\":{\"gridcolor\":\"white\",\"linecolor\":\"white\",\"ticks\":\"\"},\"caxis\":{\"gridcolor\":\"white\",\"linecolor\":\"white\",\"ticks\":\"\"}},\"coloraxis\":{\"colorbar\":{\"outlinewidth\":0,\"ticks\":\"\"}},\"colorscale\":{\"sequential\":[[0.0,\"#0d0887\"],[0.1111111111111111,\"#46039f\"],[0.2222222222222222,\"#7201a8\"],[0.3333333333333333,\"#9c179e\"],[0.4444444444444444,\"#bd3786\"],[0.5555555555555556,\"#d8576b\"],[0.6666666666666666,\"#ed7953\"],[0.7777777777777778,\"#fb9f3a\"],[0.8888888888888888,\"#fdca26\"],[1.0,\"#f0f921\"]],\"sequentialminus\":[[0.0,\"#0d0887\"],[0.1111111111111111,\"#46039f\"],[0.2222222222222222,\"#7201a8\"],[0.3333333333333333,\"#9c179e\"],[0.4444444444444444,\"#bd3786\"],[0.5555555555555556,\"#d8576b\"],[0.6666666666666666,\"#ed7953\"],[0.7777777777777778,\"#fb9f3a\"],[0.8888888888888888,\"#fdca26\"],[1.0,\"#f0f921\"]],\"diverging\":[[0,\"#8e0152\"],[0.1,\"#c51b7d\"],[0.2,\"#de77ae\"],[0.3,\"#f1b6da\"],[0.4,\"#fde0ef\"],[0.5,\"#f7f7f7\"],[0.6,\"#e6f5d0\"],[0.7,\"#b8e186\"],[0.8,\"#7fbc41\"],[0.9,\"#4d9221\"],[1,\"#276419\"]]},\"xaxis\":{\"gridcolor\":\"white\",\"linecolor\":\"white\",\"ticks\":\"\",\"title\":{\"standoff\":15},\"zerolinecolor\":\"white\",\"automargin\":true,\"zerolinewidth\":2},\"yaxis\":{\"gridcolor\":\"white\",\"linecolor\":\"white\",\"ticks\":\"\",\"title\":{\"standoff\":15},\"zerolinecolor\":\"white\",\"automargin\":true,\"zerolinewidth\":2},\"scene\":{\"xaxis\":{\"backgroundcolor\":\"#E5ECF6\",\"gridcolor\":\"white\",\"linecolor\":\"white\",\"showbackground\":true,\"ticks\":\"\",\"zerolinecolor\":\"white\",\"gridwidth\":2},\"yaxis\":{\"backgroundcolor\":\"#E5ECF6\",\"gridcolor\":\"white\",\"linecolor\":\"white\",\"showbackground\":true,\"ticks\":\"\",\"zerolinecolor\":\"white\",\"gridwidth\":2},\"zaxis\":{\"backgroundcolor\":\"#E5ECF6\",\"gridcolor\":\"white\",\"linecolor\":\"white\",\"showbackground\":true,\"ticks\":\"\",\"zerolinecolor\":\"white\",\"gridwidth\":2}},\"shapedefaults\":{\"line\":{\"color\":\"#2a3f5f\"}},\"annotationdefaults\":{\"arrowcolor\":\"#2a3f5f\",\"arrowhead\":0,\"arrowwidth\":1},\"geo\":{\"bgcolor\":\"white\",\"landcolor\":\"#E5ECF6\",\"subunitcolor\":\"white\",\"showland\":true,\"showlakes\":true,\"lakecolor\":\"white\"},\"title\":{\"x\":0.05},\"mapbox\":{\"style\":\"light\"}}},\"xaxis\":{\"anchor\":\"y\",\"domain\":[0.0,1.0],\"title\":{\"text\":\"Description\"}},\"yaxis\":{\"anchor\":\"x\",\"domain\":[0.0,1.0],\"title\":{\"text\":\"Quantity\"}},\"legend\":{\"tracegroupgap\":0},\"margin\":{\"t\":60},\"barmode\":\"relative\"},                        {\"responsive\": true}                    ).then(function(){\n",
              "                            \n",
              "var gd = document.getElementById('aaeebdd6-906a-4683-9982-111bfbd9a9ce');\n",
              "var x = new MutationObserver(function (mutations, observer) {{\n",
              "        var display = window.getComputedStyle(gd).display;\n",
              "        if (!display || display === 'none') {{\n",
              "            console.log([gd, 'removed!']);\n",
              "            Plotly.purge(gd);\n",
              "            observer.disconnect();\n",
              "        }}\n",
              "}});\n",
              "\n",
              "// Listen for the removal of the full notebook cells\n",
              "var notebookContainer = gd.closest('#notebook-container');\n",
              "if (notebookContainer) {{\n",
              "    x.observe(notebookContainer, {childList: true});\n",
              "}}\n",
              "\n",
              "// Listen for the clearing of the current output cell\n",
              "var outputEl = gd.closest('.output');\n",
              "if (outputEl) {{\n",
              "    x.observe(outputEl, {childList: true});\n",
              "}}\n",
              "\n",
              "                        })                };                            </script>        </div>\n",
              "</body>\n",
              "</html>"
            ]
          },
          "metadata": {}
        }
      ]
    },
    {
      "cell_type": "markdown",
      "source": [
        "El producto que entrega mayores ganancias es *REGENCY CAKESTAND 3 TIER* (158k de ganancias), a su vez, este producto es el segundo más vendido.\n",
        "\n",
        "El producto más vendido es *WHITE HANGING HEART T-LIGHT HOLDER* el cual corresponde al segundo producto que genera más ganancias (131k de ganancias).\n",
        "\n",
        "De este modo, y viendo las diferencias en los gráficos, es posible reconocer una relación directa entre cantidad de ventas y ganancias, pero no se cumple que los artículos más vendidos son los mismos que generan más ganancias."
      ],
      "metadata": {
        "id": "swDoTWjubsTu"
      }
    },
    {
      "cell_type": "markdown",
      "source": [
        "### 1.2.5 Visualización del registro temporal [0,75 ptos]"
      ],
      "metadata": {
        "tags": [],
        "cell_id": "00032-61832905-3832-49f7-884b-4ffdd1045252",
        "deepnote_cell_type": "markdown",
        "deepnote_cell_height": 61.03334045410156,
        "id": "jqrW8gudE-Mj"
      }
    },
    {
      "cell_type": "markdown",
      "source": [
        "El dueño del retail en su afán por saber más sobre los datos de su firma les solicita que grafiquen las ventas respecto al tiempo. Con esto les aclara que durante el día tienen muchas variaciones en sus ventas, por lo que les recomienda que consideren el registro temporal como `año-mes-día`. ¿Es posible observar datos extraños?, Comente lo que observa del gráfico."
      ],
      "metadata": {
        "tags": [],
        "cell_id": "00033-7886e714-8ad0-4387-b204-9d01f927df14",
        "deepnote_cell_type": "markdown",
        "deepnote_cell_height": 118.63333129882812,
        "id": "5HG5sGALE-Mj"
      }
    },
    {
      "cell_type": "code",
      "metadata": {
        "id": "SBr7gQOAkmGV",
        "deepnote_to_be_reexecuted": false,
        "source_hash": "1c692b9d",
        "execution_start": 1634274396771,
        "execution_millis": 1,
        "cell_id": "00034-de869967-0472-43f2-b4c7-63ec649e6447",
        "deepnote_cell_type": "code",
        "deepnote_cell_height": 98.03334045410156
      },
      "source": [
        "def plot_ventas(dataframe):\n",
        "    df = limpiar(dataframe).copy() #limpiamos el dataset\n",
        "    df['Ganancias'] = df['Quantity'] * df['Price'] #calculamos ganancias\n",
        "    df = df.groupby([df['InvoiceDate'].dt.date]).sum().reset_index() #agrupamos por fecha sumando columnas\n",
        "    fig = px.line(df, x='InvoiceDate', y='Ganancias') #creamos el gráfico\n",
        "    fig.show() #mostramos"
      ],
      "execution_count": 209,
      "outputs": []
    },
    {
      "cell_type": "code",
      "source": [
        "plot_ventas(df_retail)"
      ],
      "metadata": {
        "colab": {
          "base_uri": "https://localhost:8080/",
          "height": 0
        },
        "id": "jS1-DeXmd8y3",
        "outputId": "db3c428b-2a46-4195-cadb-584d181e2293"
      },
      "execution_count": 210,
      "outputs": [
        {
          "output_type": "display_data",
          "data": {
            "text/html": [
              "<html>\n",
              "<head><meta charset=\"utf-8\" /></head>\n",
              "<body>\n",
              "    <div>            <script src=\"https://cdnjs.cloudflare.com/ajax/libs/mathjax/2.7.5/MathJax.js?config=TeX-AMS-MML_SVG\"></script><script type=\"text/javascript\">if (window.MathJax && window.MathJax.Hub && && window.MathJax.Hub.Config) {window.MathJax.Hub.Config({SVG: {font: \"STIX-Web\"}});}</script>                <script type=\"text/javascript\">window.PlotlyConfig = {MathJaxConfig: 'local'};</script>\n",
              "        <script src=\"https://cdn.plot.ly/plotly-2.12.1.min.js\"></script>                <div id=\"be329db8-42e3-4d24-bb11-dbea4caf9ef7\" class=\"plotly-graph-div\" style=\"height:525px; width:100%;\"></div>            <script type=\"text/javascript\">                                    window.PLOTLYENV=window.PLOTLYENV || {};                                    if (document.getElementById(\"be329db8-42e3-4d24-bb11-dbea4caf9ef7\")) {                    Plotly.newPlot(                        \"be329db8-42e3-4d24-bb11-dbea4caf9ef7\",                        [{\"hovertemplate\":\"InvoiceDate=%{x}<br>Ganancias=%{y}<extra></extra>\",\"legendgroup\":\"\",\"line\":{\"color\":\"#636efa\",\"dash\":\"solid\"},\"marker\":{\"symbol\":\"circle\"},\"mode\":\"lines\",\"name\":\"\",\"orientation\":\"v\",\"showlegend\":false,\"x\":[\"2009-12-01\",\"2009-12-02\",\"2009-12-03\",\"2009-12-04\",\"2009-12-05\",\"2009-12-06\",\"2009-12-07\",\"2009-12-08\",\"2009-12-09\",\"2009-12-10\",\"2009-12-11\",\"2009-12-13\",\"2009-12-14\",\"2009-12-15\",\"2009-12-16\",\"2009-12-17\",\"2009-12-18\",\"2009-12-20\",\"2009-12-21\",\"2009-12-22\",\"2009-12-23\",\"2010-01-04\",\"2010-01-05\",\"2010-01-06\",\"2010-01-07\",\"2010-01-08\",\"2010-01-10\",\"2010-01-11\",\"2010-01-12\",\"2010-01-13\",\"2010-01-14\",\"2010-01-15\",\"2010-01-17\",\"2010-01-18\",\"2010-01-19\",\"2010-01-20\",\"2010-01-21\",\"2010-01-22\",\"2010-01-24\",\"2010-01-25\",\"2010-01-26\",\"2010-01-27\",\"2010-01-28\",\"2010-01-29\",\"2010-01-31\",\"2010-02-01\",\"2010-02-02\",\"2010-02-03\",\"2010-02-04\",\"2010-02-05\",\"2010-02-07\",\"2010-02-08\",\"2010-02-09\",\"2010-02-10\",\"2010-02-11\",\"2010-02-12\",\"2010-02-14\",\"2010-02-15\",\"2010-02-16\",\"2010-02-17\",\"2010-02-18\",\"2010-02-19\",\"2010-02-21\",\"2010-02-22\",\"2010-02-23\",\"2010-02-24\",\"2010-02-25\",\"2010-02-26\",\"2010-02-28\",\"2010-03-01\",\"2010-03-02\",\"2010-03-03\",\"2010-03-04\",\"2010-03-05\",\"2010-03-07\",\"2010-03-08\",\"2010-03-09\",\"2010-03-10\",\"2010-03-11\",\"2010-03-12\",\"2010-03-14\",\"2010-03-15\",\"2010-03-16\",\"2010-03-17\",\"2010-03-18\",\"2010-03-19\",\"2010-03-21\",\"2010-03-22\",\"2010-03-23\",\"2010-03-24\",\"2010-03-25\",\"2010-03-26\",\"2010-03-28\",\"2010-03-29\",\"2010-03-30\",\"2010-03-31\",\"2010-04-01\",\"2010-04-06\",\"2010-04-07\",\"2010-04-08\",\"2010-04-09\",\"2010-04-11\",\"2010-04-12\",\"2010-04-13\",\"2010-04-14\",\"2010-04-15\",\"2010-04-16\",\"2010-04-18\",\"2010-04-19\",\"2010-04-20\",\"2010-04-21\",\"2010-04-22\",\"2010-04-23\",\"2010-04-25\",\"2010-04-26\",\"2010-04-27\",\"2010-04-28\",\"2010-04-29\",\"2010-04-30\",\"2010-05-02\",\"2010-05-04\",\"2010-05-05\",\"2010-05-06\",\"2010-05-07\",\"2010-05-09\",\"2010-05-10\",\"2010-05-11\",\"2010-05-12\",\"2010-05-13\",\"2010-05-14\",\"2010-05-16\",\"2010-05-17\",\"2010-05-18\",\"2010-05-19\",\"2010-05-20\",\"2010-05-21\",\"2010-05-23\",\"2010-05-24\",\"2010-05-25\",\"2010-05-26\",\"2010-05-27\",\"2010-05-28\",\"2010-05-30\",\"2010-06-01\",\"2010-06-02\",\"2010-06-03\",\"2010-06-04\",\"2010-06-06\",\"2010-06-07\",\"2010-06-08\",\"2010-06-09\",\"2010-06-10\",\"2010-06-11\",\"2010-06-13\",\"2010-06-14\",\"2010-06-15\",\"2010-06-16\",\"2010-06-17\",\"2010-06-18\",\"2010-06-20\",\"2010-06-21\",\"2010-06-22\",\"2010-06-23\",\"2010-06-24\",\"2010-06-25\",\"2010-06-27\",\"2010-06-28\",\"2010-06-29\",\"2010-06-30\",\"2010-07-01\",\"2010-07-02\",\"2010-07-04\",\"2010-07-05\",\"2010-07-06\",\"2010-07-07\",\"2010-07-08\",\"2010-07-09\",\"2010-07-11\",\"2010-07-12\",\"2010-07-13\",\"2010-07-14\",\"2010-07-15\",\"2010-07-16\",\"2010-07-18\",\"2010-07-19\",\"2010-07-20\",\"2010-07-21\",\"2010-07-22\",\"2010-07-23\",\"2010-07-25\",\"2010-07-26\",\"2010-07-27\",\"2010-07-28\",\"2010-07-29\",\"2010-07-30\",\"2010-08-01\",\"2010-08-02\",\"2010-08-03\",\"2010-08-04\",\"2010-08-05\",\"2010-08-06\",\"2010-08-08\",\"2010-08-09\",\"2010-08-10\",\"2010-08-11\",\"2010-08-12\",\"2010-08-13\",\"2010-08-15\",\"2010-08-16\",\"2010-08-17\",\"2010-08-18\",\"2010-08-19\",\"2010-08-20\",\"2010-08-22\",\"2010-08-23\",\"2010-08-24\",\"2010-08-25\",\"2010-08-26\",\"2010-08-27\",\"2010-08-29\",\"2010-08-31\",\"2010-09-01\",\"2010-09-02\",\"2010-09-03\",\"2010-09-05\",\"2010-09-06\",\"2010-09-07\",\"2010-09-08\",\"2010-09-09\",\"2010-09-10\",\"2010-09-12\",\"2010-09-13\",\"2010-09-14\",\"2010-09-15\",\"2010-09-16\",\"2010-09-17\",\"2010-09-19\",\"2010-09-20\",\"2010-09-21\",\"2010-09-22\",\"2010-09-23\",\"2010-09-24\",\"2010-09-26\",\"2010-09-27\",\"2010-09-28\",\"2010-09-29\",\"2010-09-30\",\"2010-10-01\",\"2010-10-03\",\"2010-10-04\",\"2010-10-05\",\"2010-10-06\",\"2010-10-07\",\"2010-10-08\",\"2010-10-10\",\"2010-10-11\",\"2010-10-12\",\"2010-10-13\",\"2010-10-14\",\"2010-10-15\",\"2010-10-17\",\"2010-10-18\",\"2010-10-19\",\"2010-10-20\",\"2010-10-21\",\"2010-10-22\",\"2010-10-24\",\"2010-10-25\",\"2010-10-26\",\"2010-10-27\",\"2010-10-28\",\"2010-10-29\",\"2010-10-31\",\"2010-11-01\",\"2010-11-02\",\"2010-11-03\",\"2010-11-04\",\"2010-11-05\",\"2010-11-07\",\"2010-11-08\",\"2010-11-09\",\"2010-11-10\",\"2010-11-11\",\"2010-11-12\",\"2010-11-14\",\"2010-11-15\",\"2010-11-16\",\"2010-11-17\",\"2010-11-18\",\"2010-11-19\",\"2010-11-21\",\"2010-11-22\",\"2010-11-23\",\"2010-11-24\",\"2010-11-25\",\"2010-11-26\",\"2010-11-28\",\"2010-11-29\",\"2010-11-30\",\"2010-12-01\",\"2010-12-02\",\"2010-12-03\",\"2010-12-05\",\"2010-12-06\",\"2010-12-07\",\"2010-12-08\",\"2010-12-09\"],\"xaxis\":\"x\",\"y\":[51836.31,53869.51,45338.68,38424.87,9803.05,24613.64,42776.05,44940.92,38900.58,41243.28,26507.28,22313.09,62302.21,46778.07,49731.48,28971.74,38359.89,11450.68,13153.76,22926.12,10592.7,8685.81,18689.29,7560.34,44704.98,18352.33,17062.68,35122.62,26422.99,20697.44,30384.48,12791.69,16923.24,19225.44,28140.851,13388.25,20402.56,29723.21,15955.76,22888.760000000002,33807.75,26299.14,19865.670000000002,18652.301,18704.68,18283.161,20310.8,21450.191,20987.1,21713.06,12844.61,16569.52,19616.14,9254.83,14496.32,10285.54,17685.49,22449.151,29014.670000000002,22901.010000000002,30198.23,26541.36,11477.911,26049.83,21159.52,29941.571,40264.340000000004,16208.701,16824.86,23294.05,25356.03,29864.03,31485.65,20100.52,20001.22,35049.94,21731.91,26049.19,20821.6,18951.08,9032.7,24065.711,23818.02,22637.74,38979.0,23434.7,18420.23,22741.05,20544.56,25918.39,32120.2,27458.77,22409.98,43231.6,34037.81,29071.78,30182.59,17430.36,31576.75,43357.52,16556.42,18755.32,26420.411,22891.4,26609.28,20238.36,16197.03,23967.28,44416.61,23327.15,27719.78,35187.67,16053.55,16774.12,31620.38,43584.18,31849.04,32732.971,20136.68,12005.33,21849.04,26361.73,49157.84,31422.17,23143.29,29305.14,28030.66,29940.19,29315.3,17378.15,18209.01,23226.73,22542.82,17481.28,24399.54,27124.68,25256.37,24634.15,21251.85,34521.99,30667.39,21491.48,10814.960000000001,15732.15,15044.45,28092.28,20992.78,25686.0,36767.659999999996,33507.1,29448.37,18099.96,30105.32,21616.44,23049.97,28944.8,30750.39,24197.91,18393.64,8825.43,20496.83,14749.68,23891.18,25180.0,17060.82,18041.12,39620.0,32464.73,32582.14,30264.41,16832.79,10493.66,31979.0,22628.95,30920.63,19586.61,25475.02,6713.53,19780.9,19418.51,22769.77,24720.01,21107.38,14809.59,29080.57,24853.87,21782.61,25746.91,18041.32,16935.9,24274.13,23061.07,22664.48,31249.84,14776.43,8740.29,26615.34,22440.36,20989.46,24066.64,14564.08,14060.14,19525.16,31464.32,15757.1,28212.01,34439.82,19164.93,17075.32,29112.59,33333.51,28595.95,23136.73,21792.41,21901.25,24453.43,30876.95,32234.3,14786.69,14033.66,30324.4,21307.39,30557.8,26632.3,12389.65,26989.47,24819.91,17635.87,25137.94,16599.59,15560.69,27935.64,21261.079999999998,32803.31,27193.991,18918.93,23035.66,37880.6,58750.89,25630.36,36258.97,39683.71,21758.72,55389.89,46029.08,37961.04,45936.8,31101.3,37344.87,37598.04,52616.090000000004,27171.12,52580.78,43019.2,23197.98,40507.47,42288.19,47005.56,63065.53,44870.69,33135.75,40740.38,40695.39,41421.340000000004,39117.01,37129.38,28785.09,26102.86,44068.08,31897.93,24754.59,40170.04,30174.38,27057.63,42834.91,40152.88,62418.37,41300.27,31972.57,66321.581,59395.15,63037.23,49019.3,45098.65,29088.08,80003.82,69188.36,47572.941,42986.0,45384.33,32448.6,41288.23,55834.17,56643.24,62026.5,40180.94,26821.58,73361.3,58432.75,53140.37,42788.020000000004,45327.32,31049.19,49206.020000000004,57633.5,43835.12,45583.68],\"yaxis\":\"y\",\"type\":\"scatter\"}],                        {\"template\":{\"data\":{\"histogram2dcontour\":[{\"type\":\"histogram2dcontour\",\"colorbar\":{\"outlinewidth\":0,\"ticks\":\"\"},\"colorscale\":[[0.0,\"#0d0887\"],[0.1111111111111111,\"#46039f\"],[0.2222222222222222,\"#7201a8\"],[0.3333333333333333,\"#9c179e\"],[0.4444444444444444,\"#bd3786\"],[0.5555555555555556,\"#d8576b\"],[0.6666666666666666,\"#ed7953\"],[0.7777777777777778,\"#fb9f3a\"],[0.8888888888888888,\"#fdca26\"],[1.0,\"#f0f921\"]]}],\"choropleth\":[{\"type\":\"choropleth\",\"colorbar\":{\"outlinewidth\":0,\"ticks\":\"\"}}],\"histogram2d\":[{\"type\":\"histogram2d\",\"colorbar\":{\"outlinewidth\":0,\"ticks\":\"\"},\"colorscale\":[[0.0,\"#0d0887\"],[0.1111111111111111,\"#46039f\"],[0.2222222222222222,\"#7201a8\"],[0.3333333333333333,\"#9c179e\"],[0.4444444444444444,\"#bd3786\"],[0.5555555555555556,\"#d8576b\"],[0.6666666666666666,\"#ed7953\"],[0.7777777777777778,\"#fb9f3a\"],[0.8888888888888888,\"#fdca26\"],[1.0,\"#f0f921\"]]}],\"heatmap\":[{\"type\":\"heatmap\",\"colorbar\":{\"outlinewidth\":0,\"ticks\":\"\"},\"colorscale\":[[0.0,\"#0d0887\"],[0.1111111111111111,\"#46039f\"],[0.2222222222222222,\"#7201a8\"],[0.3333333333333333,\"#9c179e\"],[0.4444444444444444,\"#bd3786\"],[0.5555555555555556,\"#d8576b\"],[0.6666666666666666,\"#ed7953\"],[0.7777777777777778,\"#fb9f3a\"],[0.8888888888888888,\"#fdca26\"],[1.0,\"#f0f921\"]]}],\"heatmapgl\":[{\"type\":\"heatmapgl\",\"colorbar\":{\"outlinewidth\":0,\"ticks\":\"\"},\"colorscale\":[[0.0,\"#0d0887\"],[0.1111111111111111,\"#46039f\"],[0.2222222222222222,\"#7201a8\"],[0.3333333333333333,\"#9c179e\"],[0.4444444444444444,\"#bd3786\"],[0.5555555555555556,\"#d8576b\"],[0.6666666666666666,\"#ed7953\"],[0.7777777777777778,\"#fb9f3a\"],[0.8888888888888888,\"#fdca26\"],[1.0,\"#f0f921\"]]}],\"contourcarpet\":[{\"type\":\"contourcarpet\",\"colorbar\":{\"outlinewidth\":0,\"ticks\":\"\"}}],\"contour\":[{\"type\":\"contour\",\"colorbar\":{\"outlinewidth\":0,\"ticks\":\"\"},\"colorscale\":[[0.0,\"#0d0887\"],[0.1111111111111111,\"#46039f\"],[0.2222222222222222,\"#7201a8\"],[0.3333333333333333,\"#9c179e\"],[0.4444444444444444,\"#bd3786\"],[0.5555555555555556,\"#d8576b\"],[0.6666666666666666,\"#ed7953\"],[0.7777777777777778,\"#fb9f3a\"],[0.8888888888888888,\"#fdca26\"],[1.0,\"#f0f921\"]]}],\"surface\":[{\"type\":\"surface\",\"colorbar\":{\"outlinewidth\":0,\"ticks\":\"\"},\"colorscale\":[[0.0,\"#0d0887\"],[0.1111111111111111,\"#46039f\"],[0.2222222222222222,\"#7201a8\"],[0.3333333333333333,\"#9c179e\"],[0.4444444444444444,\"#bd3786\"],[0.5555555555555556,\"#d8576b\"],[0.6666666666666666,\"#ed7953\"],[0.7777777777777778,\"#fb9f3a\"],[0.8888888888888888,\"#fdca26\"],[1.0,\"#f0f921\"]]}],\"mesh3d\":[{\"type\":\"mesh3d\",\"colorbar\":{\"outlinewidth\":0,\"ticks\":\"\"}}],\"scatter\":[{\"fillpattern\":{\"fillmode\":\"overlay\",\"size\":10,\"solidity\":0.2},\"type\":\"scatter\"}],\"parcoords\":[{\"type\":\"parcoords\",\"line\":{\"colorbar\":{\"outlinewidth\":0,\"ticks\":\"\"}}}],\"scatterpolargl\":[{\"type\":\"scatterpolargl\",\"marker\":{\"colorbar\":{\"outlinewidth\":0,\"ticks\":\"\"}}}],\"bar\":[{\"error_x\":{\"color\":\"#2a3f5f\"},\"error_y\":{\"color\":\"#2a3f5f\"},\"marker\":{\"line\":{\"color\":\"#E5ECF6\",\"width\":0.5},\"pattern\":{\"fillmode\":\"overlay\",\"size\":10,\"solidity\":0.2}},\"type\":\"bar\"}],\"scattergeo\":[{\"type\":\"scattergeo\",\"marker\":{\"colorbar\":{\"outlinewidth\":0,\"ticks\":\"\"}}}],\"scatterpolar\":[{\"type\":\"scatterpolar\",\"marker\":{\"colorbar\":{\"outlinewidth\":0,\"ticks\":\"\"}}}],\"histogram\":[{\"marker\":{\"pattern\":{\"fillmode\":\"overlay\",\"size\":10,\"solidity\":0.2}},\"type\":\"histogram\"}],\"scattergl\":[{\"type\":\"scattergl\",\"marker\":{\"colorbar\":{\"outlinewidth\":0,\"ticks\":\"\"}}}],\"scatter3d\":[{\"type\":\"scatter3d\",\"line\":{\"colorbar\":{\"outlinewidth\":0,\"ticks\":\"\"}},\"marker\":{\"colorbar\":{\"outlinewidth\":0,\"ticks\":\"\"}}}],\"scattermapbox\":[{\"type\":\"scattermapbox\",\"marker\":{\"colorbar\":{\"outlinewidth\":0,\"ticks\":\"\"}}}],\"scatterternary\":[{\"type\":\"scatterternary\",\"marker\":{\"colorbar\":{\"outlinewidth\":0,\"ticks\":\"\"}}}],\"scattercarpet\":[{\"type\":\"scattercarpet\",\"marker\":{\"colorbar\":{\"outlinewidth\":0,\"ticks\":\"\"}}}],\"carpet\":[{\"aaxis\":{\"endlinecolor\":\"#2a3f5f\",\"gridcolor\":\"white\",\"linecolor\":\"white\",\"minorgridcolor\":\"white\",\"startlinecolor\":\"#2a3f5f\"},\"baxis\":{\"endlinecolor\":\"#2a3f5f\",\"gridcolor\":\"white\",\"linecolor\":\"white\",\"minorgridcolor\":\"white\",\"startlinecolor\":\"#2a3f5f\"},\"type\":\"carpet\"}],\"table\":[{\"cells\":{\"fill\":{\"color\":\"#EBF0F8\"},\"line\":{\"color\":\"white\"}},\"header\":{\"fill\":{\"color\":\"#C8D4E3\"},\"line\":{\"color\":\"white\"}},\"type\":\"table\"}],\"barpolar\":[{\"marker\":{\"line\":{\"color\":\"#E5ECF6\",\"width\":0.5},\"pattern\":{\"fillmode\":\"overlay\",\"size\":10,\"solidity\":0.2}},\"type\":\"barpolar\"}],\"pie\":[{\"automargin\":true,\"type\":\"pie\"}]},\"layout\":{\"autotypenumbers\":\"strict\",\"colorway\":[\"#636efa\",\"#EF553B\",\"#00cc96\",\"#ab63fa\",\"#FFA15A\",\"#19d3f3\",\"#FF6692\",\"#B6E880\",\"#FF97FF\",\"#FECB52\"],\"font\":{\"color\":\"#2a3f5f\"},\"hovermode\":\"closest\",\"hoverlabel\":{\"align\":\"left\"},\"paper_bgcolor\":\"white\",\"plot_bgcolor\":\"#E5ECF6\",\"polar\":{\"bgcolor\":\"#E5ECF6\",\"angularaxis\":{\"gridcolor\":\"white\",\"linecolor\":\"white\",\"ticks\":\"\"},\"radialaxis\":{\"gridcolor\":\"white\",\"linecolor\":\"white\",\"ticks\":\"\"}},\"ternary\":{\"bgcolor\":\"#E5ECF6\",\"aaxis\":{\"gridcolor\":\"white\",\"linecolor\":\"white\",\"ticks\":\"\"},\"baxis\":{\"gridcolor\":\"white\",\"linecolor\":\"white\",\"ticks\":\"\"},\"caxis\":{\"gridcolor\":\"white\",\"linecolor\":\"white\",\"ticks\":\"\"}},\"coloraxis\":{\"colorbar\":{\"outlinewidth\":0,\"ticks\":\"\"}},\"colorscale\":{\"sequential\":[[0.0,\"#0d0887\"],[0.1111111111111111,\"#46039f\"],[0.2222222222222222,\"#7201a8\"],[0.3333333333333333,\"#9c179e\"],[0.4444444444444444,\"#bd3786\"],[0.5555555555555556,\"#d8576b\"],[0.6666666666666666,\"#ed7953\"],[0.7777777777777778,\"#fb9f3a\"],[0.8888888888888888,\"#fdca26\"],[1.0,\"#f0f921\"]],\"sequentialminus\":[[0.0,\"#0d0887\"],[0.1111111111111111,\"#46039f\"],[0.2222222222222222,\"#7201a8\"],[0.3333333333333333,\"#9c179e\"],[0.4444444444444444,\"#bd3786\"],[0.5555555555555556,\"#d8576b\"],[0.6666666666666666,\"#ed7953\"],[0.7777777777777778,\"#fb9f3a\"],[0.8888888888888888,\"#fdca26\"],[1.0,\"#f0f921\"]],\"diverging\":[[0,\"#8e0152\"],[0.1,\"#c51b7d\"],[0.2,\"#de77ae\"],[0.3,\"#f1b6da\"],[0.4,\"#fde0ef\"],[0.5,\"#f7f7f7\"],[0.6,\"#e6f5d0\"],[0.7,\"#b8e186\"],[0.8,\"#7fbc41\"],[0.9,\"#4d9221\"],[1,\"#276419\"]]},\"xaxis\":{\"gridcolor\":\"white\",\"linecolor\":\"white\",\"ticks\":\"\",\"title\":{\"standoff\":15},\"zerolinecolor\":\"white\",\"automargin\":true,\"zerolinewidth\":2},\"yaxis\":{\"gridcolor\":\"white\",\"linecolor\":\"white\",\"ticks\":\"\",\"title\":{\"standoff\":15},\"zerolinecolor\":\"white\",\"automargin\":true,\"zerolinewidth\":2},\"scene\":{\"xaxis\":{\"backgroundcolor\":\"#E5ECF6\",\"gridcolor\":\"white\",\"linecolor\":\"white\",\"showbackground\":true,\"ticks\":\"\",\"zerolinecolor\":\"white\",\"gridwidth\":2},\"yaxis\":{\"backgroundcolor\":\"#E5ECF6\",\"gridcolor\":\"white\",\"linecolor\":\"white\",\"showbackground\":true,\"ticks\":\"\",\"zerolinecolor\":\"white\",\"gridwidth\":2},\"zaxis\":{\"backgroundcolor\":\"#E5ECF6\",\"gridcolor\":\"white\",\"linecolor\":\"white\",\"showbackground\":true,\"ticks\":\"\",\"zerolinecolor\":\"white\",\"gridwidth\":2}},\"shapedefaults\":{\"line\":{\"color\":\"#2a3f5f\"}},\"annotationdefaults\":{\"arrowcolor\":\"#2a3f5f\",\"arrowhead\":0,\"arrowwidth\":1},\"geo\":{\"bgcolor\":\"white\",\"landcolor\":\"#E5ECF6\",\"subunitcolor\":\"white\",\"showland\":true,\"showlakes\":true,\"lakecolor\":\"white\"},\"title\":{\"x\":0.05},\"mapbox\":{\"style\":\"light\"}}},\"xaxis\":{\"anchor\":\"y\",\"domain\":[0.0,1.0],\"title\":{\"text\":\"InvoiceDate\"}},\"yaxis\":{\"anchor\":\"x\",\"domain\":[0.0,1.0],\"title\":{\"text\":\"Ganancias\"}},\"legend\":{\"tracegroupgap\":0},\"margin\":{\"t\":60}},                        {\"responsive\": true}                    ).then(function(){\n",
              "                            \n",
              "var gd = document.getElementById('be329db8-42e3-4d24-bb11-dbea4caf9ef7');\n",
              "var x = new MutationObserver(function (mutations, observer) {{\n",
              "        var display = window.getComputedStyle(gd).display;\n",
              "        if (!display || display === 'none') {{\n",
              "            console.log([gd, 'removed!']);\n",
              "            Plotly.purge(gd);\n",
              "            observer.disconnect();\n",
              "        }}\n",
              "}});\n",
              "\n",
              "// Listen for the removal of the full notebook cells\n",
              "var notebookContainer = gd.closest('#notebook-container');\n",
              "if (notebookContainer) {{\n",
              "    x.observe(notebookContainer, {childList: true});\n",
              "}}\n",
              "\n",
              "// Listen for the clearing of the current output cell\n",
              "var outputEl = gd.closest('.output');\n",
              "if (outputEl) {{\n",
              "    x.observe(outputEl, {childList: true});\n",
              "}}\n",
              "\n",
              "                        })                };                            </script>        </div>\n",
              "</body>\n",
              "</html>"
            ]
          },
          "metadata": {}
        }
      ]
    },
    {
      "cell_type": "markdown",
      "source": [
        "A pesar de que las ganancias fluctuan bastante entre los días, la tendencia es al alza en los meses finales del año (noviembre y diciembre), probablemente por las festividades. Además, se observa que no se tienen datos entre el 23 de diciembre de 2009 y el 7 de enero de 2010, lo cual lleva a la gráfica a presentar una caída en dicha temporalidad."
      ],
      "metadata": {
        "id": "Q2619jhdewpH"
      }
    },
    {
      "cell_type": "markdown",
      "source": [
        "# Conclusión\n",
        "Eso ha sido todo para el lab de hoy, recuerden que el laboratorio tiene un plazo de entrega de una semana y que **los días de atraso no se pueden utilizar para entregas de lab** solo para tareas. Cualquier duda del laboratorio, no duden en contactarnos por mail o U-cursos.\n",
        "\n",
        "![Gracias Totales!](https://i.pinimg.com/originals/65/ae/27/65ae270df87c3c4adcea997e48f60852.gif \"bruno\")\n"
      ],
      "metadata": {
        "id": "Rg4ZMq8ezAH6",
        "cell_id": "00043-719d1a35-6773-42d7-8f88-1cc37eda7a1b",
        "deepnote_cell_type": "markdown",
        "deepnote_cell_height": 491.23333740234375
      }
    },
    {
      "cell_type": "markdown",
      "source": [
        "<br>\n",
        "<center>\n",
        "<img src=\"https://i.kym-cdn.com/photos/images/original/001/194/195/b18.png\" width=100 height=50 />\n",
        "</center>\n",
        "<br>"
      ],
      "metadata": {
        "id": "wCL1lACBzAH7",
        "cell_id": "00044-b636da8f-c28b-4f2c-894e-1326a421926b",
        "deepnote_cell_type": "markdown",
        "deepnote_cell_height": 170.4499969482422
      }
    },
    {
      "cell_type": "markdown",
      "source": [
        "<a style='text-decoration:none;line-height:16px;display:flex;color:#5B5B62;padding:10px;justify-content:end;' href='https://deepnote.com?utm_source=created-in-deepnote-cell&projectId=87110296-876e-426f-b91d-aaf681223468' target=\"_blank\">\n",
        "<img alt='Created in deepnote.com' style='display:inline;max-height:16px;margin:0px;margin-right:7.5px;' src='data:image/svg+xml;base64,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' > </img>\n",
        "Created in <span style='font-weight:600;margin-left:4px;'>Deepnote</span></a>"
      ],
      "metadata": {
        "tags": [],
        "created_in_deepnote_cell": true,
        "deepnote_cell_type": "markdown",
        "id": "4XCRJcRfE-Mk"
      }
    }
  ],
  "nbformat": 4,
  "nbformat_minor": 0,
  "metadata": {
    "kernelspec": {
      "display_name": "Python 3",
      "language": "python",
      "name": "python3"
    },
    "language_info": {
      "codemirror_mode": {
        "name": "ipython",
        "version": 3
      },
      "file_extension": ".py",
      "mimetype": "text/x-python",
      "name": "python",
      "nbconvert_exporter": "python",
      "pygments_lexer": "ipython3",
      "version": "3.8.3"
    },
    "toc": {
      "base_numbering": 1,
      "nav_menu": {},
      "number_sections": true,
      "sideBar": true,
      "skip_h1_title": true,
      "title_cell": "Tabla de Contenidos",
      "title_sidebar": "Contenidos",
      "toc_cell": false,
      "toc_position": {
        "height": "calc(100% - 180px)",
        "left": "10px",
        "top": "150px",
        "width": "241.867px"
      },
      "toc_section_display": true,
      "toc_window_display": true
    },
    "varInspector": {
      "cols": {
        "lenName": 16,
        "lenType": 16,
        "lenVar": 40
      },
      "kernels_config": {
        "python": {
          "delete_cmd_postfix": "",
          "delete_cmd_prefix": "del ",
          "library": "var_list.py",
          "varRefreshCmd": "print(var_dic_list())"
        },
        "r": {
          "delete_cmd_postfix": ") ",
          "delete_cmd_prefix": "rm(",
          "library": "var_list.r",
          "varRefreshCmd": "cat(var_dic_list()) "
        }
      },
      "types_to_exclude": [
        "module",
        "function",
        "builtin_function_or_method",
        "instance",
        "_Feature"
      ],
      "window_display": false
    },
    "colab": {
      "name": "Laboratorio 5 - Claro - Meneses.ipynb",
      "provenance": [],
      "collapsed_sections": [
        "wrG4gYabzAHs",
        "MhISwri4zAHy",
        "vRj3n4U9E-Me",
        "KrhxwiAsE-Mg",
        "bJ1D6CiP484X",
        "GtSBmprP5_14",
        "8HnURW5o6Oof",
        "vXaVB5CG6uH_",
        "LOFk-__X4isP",
        "7ZCVzfjo6_-3",
        "loynvft-7Kno",
        "dkyp81nkBghF",
        "jqrW8gudE-Mj"
      ]
    },
    "deepnote_notebook_id": "15b5ce14-e074-4f33-9c56-8f169cc96a69",
    "deepnote": {},
    "deepnote_execution_queue": []
  }
}