{
  "cells": [
    {
      "cell_type": "markdown",
      "source": [
        "<h1><center>Laboratorio 9: Benchmark Estadístico con Reddit 🧮</center></h1>\n",
        "\n",
        "<center><strong>MDS7202: Laboratorio de Programación Científica para Ciencia de Datos</strong></center>"
      ],
      "metadata": {
        "id": "XUZ1dFPHzAHl",
        "cell_id": "00000-e61b8f99-434b-4848-a553-4bbae63045cc",
        "deepnote_cell_type": "markdown",
        "deepnote_cell_height": 156.390625
      }
    },
    {
      "cell_type": "markdown",
      "source": [
        "### Cuerpo Docente:\n",
        "\n",
        "- Profesor: Pablo Badilla\n",
        "- Auxiliar: Ignacio Meza D.\n",
        "- Ayudante: Patricio Ortiz"
      ],
      "metadata": {
        "id": "UD8X1uhGzAHq",
        "cell_id": "00001-231091e0-d755-42af-83b0-809301b54cfe",
        "deepnote_cell_type": "markdown",
        "deepnote_cell_height": 165.1875
      }
    },
    {
      "cell_type": "markdown",
      "source": [
        "### Equipo: SUPER IMPORTANTE - notebooks sin nombre no serán revisados\n",
        "\n",
        "- Nombre de alumno 1: Gonzalo Claro.\n",
        "- Nombre de alumno 2: Camilo Meneses.\n"
      ],
      "metadata": {
        "id": "tXflExjqzAHr",
        "cell_id": "00002-65747a66-3e34-4df6-9e4a-c63f6d47f1f1",
        "deepnote_cell_type": "markdown",
        "deepnote_cell_height": 171.796875
      }
    },
    {
      "cell_type": "markdown",
      "source": [
        "### [Link de repositorio de GitHub](https://github.com/GonzaloClaro/evaluaciones_mds7202_grupo23)"
      ],
      "metadata": {
        "id": "AD-V0bbZzAHr",
        "cell_id": "00003-f842b0e0-851a-405c-a104-53fa53260fa5",
        "deepnote_cell_type": "markdown",
        "deepnote_cell_height": 62
      }
    },
    {
      "cell_type": "markdown",
      "source": [
        "# Temas a tratar\n",
        "\n",
        "- Optimización de Código en Python.\n",
        "- Utilización de librerías para medir el tiempo de ejecución de funciones.\n",
        "- Métodos para optimizar el rendimiento de las funciones.\n",
        "\n",
        "# Reglas:\n",
        "\n",
        "- Fecha de entrega: 3/12/2021\n",
        "- **Grupos de 2 personas**\n",
        "- **Ausentes** deberán realizar la actividad solos. \n",
        "- Cualquier duda fuera del horario de clases al foro. Mensajes al equipo docente serán respondidos por este medio.\n",
        "- Prohibidas las copias. \n",
        "- Pueden usar cualquer matrial del curso que estimen conveniente.\n",
        "\n",
        "# Objetivos principales del laboratorio\n",
        "\n",
        "- Utilizar la API de Reddit a partir de la librería `praw` y visualizar cuales post son más probables que sean puntuados positivamente.\n",
        "- Utilizar `cache_lru` para cachear resultados de funciones.\n",
        "- Aplicar un atajo estadístico para obtener la mean posterior de datos.\n",
        "- Medir el tiempo de ejecución como también el uso de memoria de la función anterior.\n",
        "- Optimizar la función anterior a través de `numba`."
      ],
      "metadata": {
        "id": "6uBLPj1PzAHs",
        "cell_id": "00004-d2b77039-39dd-4985-bec7-914bd5a67d98",
        "deepnote_cell_type": "markdown",
        "deepnote_cell_height": 669
      }
    },
    {
      "cell_type": "markdown",
      "source": [
        "#Importamos librerias utiles 😸"
      ],
      "metadata": {
        "id": "MhISwri4zAHy",
        "cell_id": "00005-5a5cbaa6-e809-4c62-9709-7e650430b7ba",
        "deepnote_cell_type": "markdown",
        "deepnote_cell_height": 52.390625
      }
    },
    {
      "cell_type": "code",
      "metadata": {
        "deepnote_to_be_reexecuted": false,
        "execution_millis": 24248,
        "execution_start": 1638299092849,
        "id": "cO7AQ9ciQ59U",
        "source_hash": "1240e4a3",
        "cell_id": "00006-00a9ab85-c6e5-4b3d-b6ba-2004ff409a6d",
        "deepnote_cell_type": "code",
        "deepnote_cell_height": 432.1875
      },
      "source": [
        "%%capture\n",
        "!pip install praw\n",
        "!pip install line_profiler\n",
        "!pip install numba\n",
        "\n",
        "%load_ext line_profiler\n",
        "%load_ext autoreload\n",
        "%autoreload 2\n",
        "!pip install -q memory_profiler\n",
        "%load_ext memory_profiler\n",
        "\n",
        "import sys\n",
        "import praw\n",
        "import time\n",
        "import numpy as np\n",
        "import pandas as pd\n",
        "from numba import jit\n",
        "import plotly.express as px\n",
        "from functools import lru_cache\n",
        "from IPython.core.display import Image"
      ],
      "execution_count": 1,
      "outputs": []
    },
    {
      "cell_type": "markdown",
      "source": [
        "# 1. Recomendando Posts de Subreddit"
      ],
      "metadata": {
        "id": "xpOTbQcxbSiy",
        "cell_id": "00007-853a08fe-06d7-4051-b347-1e29226924ee",
        "deepnote_cell_type": "markdown",
        "deepnote_cell_height": 82
      }
    },
    {
      "cell_type": "markdown",
      "source": [
        "<p align=\"center\">\n",
        "  <img src=\"https://preview.redd.it/3sxusxcjge791.png?auto=webp&s=88bc1f9a3c59eafda24b0e32dd87d7cf596d205d\">\n",
        "</p>"
      ],
      "metadata": {
        "id": "3Q93vbNS25bM",
        "cell_id": "00008-ca941d35-4377-406f-8b9c-cdf3ce096c64",
        "owner_user_id": "d50c3174-babb-4861-9c71-7e3af66458b8",
        "deepnote_cell_type": "markdown",
        "deepnote_cell_height": 376
      }
    },
    {
      "cell_type": "markdown",
      "source": [
        "Unos intrépidos alumnos del curso, quienes frecuentemente participan en subreddits y foros de reviews, se preguntan lo siguiente: ¿Podremos confiar que un post es bueno, si este tiene solamente 1 o 3 votos positivos?. los compañeros, creen que esto claramente no representa una opinión general, ya que estamos mucho menos seguros acerca de la verdadera proporción de votos a favor de los comentarios con pocos datos. ¿Pero cómo podemos obtener una representación más creíble para este problema?.\n",
        "\n",
        "Lo señalado forma parte de un problema estadísticos, donde a través del cálculo de la posterior se puede conocer que tan probable es que un post sea bueno. Para efectos de este laboratorio, no se exige un conocimiento previo para resolver este problema, simplemente se deberá aplicar las ecuaciones presentadas más adelante (De igual forma si quedan interesados sobre el tema se les invita a tomar el ramo [CC6104](https://github.com/dccuchile/CC6104))."
      ],
      "metadata": {
        "id": "jnmZfFpxTTYX",
        "cell_id": "00009-bb6e6ae1-d939-400e-aa39-a9b5cf6fe725",
        "deepnote_cell_type": "markdown",
        "deepnote_cell_height": 245.59375
      }
    },
    {
      "cell_type": "markdown",
      "source": [
        "## 1.1 Obtención de Subrredits y Análisis [1 Punto]"
      ],
      "metadata": {
        "id": "xdbrb3AMi6EF",
        "cell_id": "00010-11ff1022-47d3-4e16-a067-862aff4fa1e6",
        "deepnote_cell_type": "markdown",
        "deepnote_cell_height": 70
      }
    },
    {
      "cell_type": "markdown",
      "source": [
        "Para estudiar que tan probable es que un post sea positivo se comenzará cargando datos reales del subreddit chile desde reddit (si usted desea puede cambiar el subreddit a uno de su gusto). Para esto le proponemos la utilización de la función que aparece mas abajo, la que presenta un usuario ya creado por el equipo docente. Dese un tiempo para entender que hace cada parte de la función, visualizando que se obtiene de estas.\n",
        "\n",
        "Revisada la función, utilice un **perfilador** para monitorear el tiempo y memoria que les toma a cada liena de código para ser ejecutada. Señale cuales son los procesos que mas tiempo consumen en la ejecución del Código, comentando si es posible mejorar el desempeño de la función.\n",
        "\n",
        "**TO-DO:**\n",
        "- [ ] Estudiar la función propuesta por el equipo docente.\n",
        "- [ ] Estudiar los tiempos de ejecución del código a través de un perfilador.\n",
        "- [ ] Estudiar la memoria ocupada por el código a través de un perfilador.\n",
        "- [ ] Comente los resultados. ¿Qué lineas ocupan más memoria o más/menos tiempo?¿Por qué?"
      ],
      "metadata": {
        "id": "YI-IRspcjPee",
        "cell_id": "00011-098a5246-642a-47aa-9f10-2261697c2603",
        "deepnote_cell_type": "markdown",
        "deepnote_cell_height": 363.796875
      }
    },
    {
      "cell_type": "code",
      "metadata": {
        "deepnote_to_be_reexecuted": false,
        "execution_millis": 1,
        "execution_start": 1637947497504,
        "id": "R4PQbceVPJzh",
        "source_hash": "a55fad36",
        "cell_id": "00012-48fd53e5-c751-4583-b193-5f95afab5819",
        "deepnote_cell_type": "code",
        "deepnote_cell_height": 675
      },
      "source": [
        "def praw_reddit(nombre_subreddit=\"chile\", n_hot=1000):\n",
        "    reddit = praw.Reddit(\n",
        "        client_id=\"-w2hyFINxZ8T3g\",\n",
        "        client_secret=\"zGPCI4s3g6Ic6AsRi7vIpP0NoxbFdw\",\n",
        "        password=\"ClasesMDS7202\",\n",
        "        user_agent=\"Clases\",\n",
        "        username=\"DocenciaDataScience\",\n",
        "        check_for_async=False,\n",
        "    )\n",
        "    subreddit = reddit.subreddit(nombre_subreddit)\n",
        "\n",
        "    votes, post, url = {}, {}, {}\n",
        "    top_submissions = list(subreddit.hot(limit=n_hot))\n",
        "    for it, top_n in enumerate(range(50, len(top_submissions), 50)):\n",
        "        top_n_submissions = top_submissions[:top_n]\n",
        "        upvotes, downvotes, url[it], post[it] = [], [], [], []\n",
        "\n",
        "        for submission in top_n_submissions:\n",
        "            try:\n",
        "                ratio = submission.upvote_ratio\n",
        "                ups = int(\n",
        "                    round((ratio * submission.score) / (2 * ratio - 1))\n",
        "                    if ratio != 0.5\n",
        "                    else round(submission.score / 2)\n",
        "                )\n",
        "                upvotes.append(ups)\n",
        "                downvotes.append(ups - submission.score)\n",
        "                post[it].append(submission.title)\n",
        "                url[it].append(submission.url)\n",
        "            except Exception as e:\n",
        "                continue\n",
        "        votes[it] = np.array([upvotes, downvotes]).T\n",
        "    return votes, post, url"
      ],
      "execution_count": 2,
      "outputs": []
    },
    {
      "cell_type": "code",
      "metadata": {
        "deepnote_to_be_reexecuted": false,
        "execution_millis": 11242,
        "execution_start": 1637947497523,
        "id": "v4rjrWf_pJHJ",
        "source_hash": "4b31fefe",
        "cell_id": "00013-c9f108eb-9054-438f-9360-21669aced1bb",
        "deepnote_cell_type": "code",
        "deepnote_cell_height": 81
      },
      "source": [
        "votes, post, url = praw_reddit()"
      ],
      "execution_count": 3,
      "outputs": []
    },
    {
      "cell_type": "markdown",
      "source": [
        "Medimos tiempo (resultados se muestran en pestaña ayuda de colab)"
      ],
      "metadata": {
        "id": "lBkmZy6wi5kx"
      }
    },
    {
      "cell_type": "code",
      "source": [
        "%lprun -f praw_reddit praw_reddit()"
      ],
      "metadata": {
        "id": "InHBmlqWgQ2P"
      },
      "execution_count": 4,
      "outputs": []
    },
    {
      "cell_type": "markdown",
      "source": [
        "Medimos memoria"
      ],
      "metadata": {
        "id": "maOfOqC8i7wZ"
      }
    },
    {
      "cell_type": "code",
      "source": [
        "%memit praw_reddit()"
      ],
      "metadata": {
        "colab": {
          "base_uri": "https://localhost:8080/"
        },
        "id": "xSdxVpRGiiXF",
        "outputId": "5bd012a6-b8bb-49e8-e804-b10f63cc4ded"
      },
      "execution_count": 5,
      "outputs": [
        {
          "output_type": "stream",
          "name": "stdout",
          "text": [
            "peak memory: 258.78 MiB, increment: 1.04 MiB\n"
          ]
        }
      ]
    },
    {
      "cell_type": "markdown",
      "source": [
        "Al igual que se vió en clases, se crea el módulo con un archivo .py y se analiza"
      ],
      "metadata": {
        "id": "5axRC-l-nQBv"
      }
    },
    {
      "cell_type": "code",
      "source": [
        "%%file praw_reddit.py\n",
        "import praw\n",
        "import numpy as np\n",
        "\n",
        "def praw_reddit(nombre_subreddit=\"chile\", n_hot=1000):\n",
        "    reddit = praw.Reddit(\n",
        "        client_id=\"-w2hyFINxZ8T3g\",\n",
        "        client_secret=\"zGPCI4s3g6Ic6AsRi7vIpP0NoxbFdw\",\n",
        "        password=\"ClasesMDS7202\",\n",
        "        user_agent=\"Clases\",\n",
        "        username=\"DocenciaDataScience\",\n",
        "        check_for_async=False,\n",
        "    )\n",
        "    subreddit = reddit.subreddit(nombre_subreddit)\n",
        "\n",
        "    votes, post, url = {}, {}, {}\n",
        "    top_submissions = list(subreddit.hot(limit=n_hot))\n",
        "    for it, top_n in enumerate(range(50, len(top_submissions), 50)):\n",
        "        top_n_submissions = top_submissions[:top_n]\n",
        "        upvotes, downvotes, url[it], post[it] = [], [], [], []\n",
        "\n",
        "        for submission in top_n_submissions:\n",
        "            try:\n",
        "                ratio = submission.upvote_ratio\n",
        "                ups = int(\n",
        "                    round((ratio * submission.score) / (2 * ratio - 1))\n",
        "                    if ratio != 0.5\n",
        "                    else round(submission.score / 2)\n",
        "                )\n",
        "                upvotes.append(ups)\n",
        "                downvotes.append(ups - submission.score)\n",
        "                post[it].append(submission.title)\n",
        "                url[it].append(submission.url)\n",
        "            except Exception as e:\n",
        "                continue\n",
        "        votes[it] = np.array([upvotes, downvotes]).T\n",
        "    return votes, post, url"
      ],
      "metadata": {
        "colab": {
          "base_uri": "https://localhost:8080/"
        },
        "id": "ldP7FQnym8Gg",
        "outputId": "e98e10dd-3f6e-4905-fd9d-f9f88fb5d5e4"
      },
      "execution_count": 6,
      "outputs": [
        {
          "output_type": "stream",
          "name": "stdout",
          "text": [
            "Writing praw_reddit.py\n"
          ]
        }
      ]
    },
    {
      "cell_type": "code",
      "source": [
        "from praw_reddit import praw_reddit\n",
        "%mprun -f praw_reddit praw_reddit()"
      ],
      "metadata": {
        "colab": {
          "base_uri": "https://localhost:8080/"
        },
        "id": "GIM1Vzkcm-zS",
        "outputId": "d6097838-cb69-4655-e957-c147120f874e"
      },
      "execution_count": 7,
      "outputs": [
        {
          "output_type": "stream",
          "name": "stderr",
          "text": [
            "\n",
            "PYDEV DEBUGGER WARNING:\n",
            "sys.settrace() should not be used when the debugger is being used.\n",
            "This may cause the debugger to stop working correctly.\n",
            "If this is needed, please check: \n",
            "http://pydev.blogspot.com/2007/06/why-cant-pydev-debugger-work-with.html\n",
            "to see how to restore the debug tracing back correctly.\n",
            "Call Location:\n",
            "  File \"/usr/local/lib/python3.7/dist-packages/memory_profiler.py\", line 845, in enable\n",
            "    sys.settrace(self.trace_memory_usage)\n",
            "\n",
            "\n",
            "PYDEV DEBUGGER WARNING:\n",
            "sys.settrace() should not be used when the debugger is being used.\n",
            "This may cause the debugger to stop working correctly.\n",
            "If this is needed, please check: \n",
            "http://pydev.blogspot.com/2007/06/why-cant-pydev-debugger-work-with.html\n",
            "to see how to restore the debug tracing back correctly.\n",
            "Call Location:\n",
            "  File \"/usr/local/lib/python3.7/dist-packages/memory_profiler.py\", line 848, in disable\n",
            "    sys.settrace(self._original_trace_function)\n",
            "\n"
          ]
        },
        {
          "output_type": "stream",
          "name": "stdout",
          "text": [
            "\n"
          ]
        }
      ]
    },
    {
      "cell_type": "markdown",
      "source": [
        "**Respuesta:**"
      ],
      "metadata": {
        "id": "-diI_GpXmzqS",
        "cell_id": "00015-ba1d4036-9f0c-49c7-885f-be416a89deb8",
        "deepnote_cell_type": "markdown",
        "deepnote_cell_height": 52.390625
      }
    },
    {
      "cell_type": "markdown",
      "source": [
        "Respecto al tiempo de cómputo el proceso que más tarda es el de crear la lista de los n_hot post en subreddit Chile. Se podría pasar dicha memoria a caché para hacer más eficientes los tiempos de cómputo.\n",
        "\n",
        "A su vez, el doble ciclo for ocupa la segunda posición en el tiempo de computo ya que utiliza if else para realizar acciones. Esto se puede mejorar utilizando arrays y aplicando de manera paralela las operaciones.\n",
        "\n",
        "Por otra parte, la memoria no presenta un importante cambio para un solo proceso."
      ],
      "metadata": {
        "id": "6gdqQBi1m_cu",
        "cell_id": "00016-64888967-a91d-455b-9d60-d105f449ae74",
        "deepnote_cell_type": "markdown",
        "deepnote_cell_height": 52.390625
      }
    },
    {
      "cell_type": "markdown",
      "source": [
        "## 1.2 LRU y Análisis de Tiempo con Cache [1 Punto]"
      ],
      "metadata": {
        "id": "tNDS2OpFnMnH",
        "cell_id": "00017-2673822e-79de-4fbe-86af-5fd583216f57",
        "deepnote_cell_type": "markdown",
        "deepnote_cell_height": 70
      }
    },
    {
      "cell_type": "markdown",
      "source": [
        "Respondan las siguientes preguntas:\n",
        "\n",
        "1.\t¿Qué es la memoria cache y a que se refiere las siglas LRU?\n",
        "2.\t¿Cuáles son los costos que tiene la aplicación de técnicas de Caching?\n",
        "3. ¿Cuál es la consecuencía de ocupar caching en la función anterior?.\n",
        "\n",
        "Respondidas las preguntas, se le solicita que aplique alguna técnica de caching para mejorar el desempeño de la función `praw_reddit`. Para esto compare solo el tiempo de ejecución del algoritmo con y sin caching, señalando el tiempo total de ejecución y el tiempo promedio que le toma ejecutar cada loop a la función. Con lo anterior, ¿es posible visualizar mejoras en este caso?.\n",
        "\n",
        "\n",
        "**TO-DO:**\n",
        "- [ ] Responder las preguntas.\n",
        "- [ ] Mejorar el código con cache.\n",
        "- [ ] Explicar las consecuencias de usar lru_cache sobre praw_reddit"
      ],
      "metadata": {
        "id": "i3nsxCbAna4t",
        "cell_id": "00018-d9701b8d-f3fe-4cd1-9f59-295dfdaeca48",
        "deepnote_cell_type": "markdown",
        "deepnote_cell_height": 380.796875
      }
    },
    {
      "cell_type": "markdown",
      "source": [
        "**Respuestas Teóricas:**"
      ],
      "metadata": {
        "id": "fbQPpvYorOAF",
        "cell_id": "00019-26287e8f-b23a-4e51-9645-b9fb99a93eea",
        "deepnote_cell_type": "markdown",
        "deepnote_cell_height": 52.390625
      }
    },
    {
      "cell_type": "markdown",
      "source": [
        "Respuestas: \n",
        "\n",
        "1. Es uno de los recursos con los que cuenta una CPU para almacenar temporalmente datos recientemente procesados en una memoria auxiliar. Se trata de un memoria muy rápida y colocada cerca de la CPU. También conocida coloquialmente como memoria del procesador.\n",
        "\n",
        "2. Los costos de Caching se relacionan al aumento en el uso de la memoria. Esto puede conllevar problemas debido a que la memoria cuenta con ciertas limitaciones dadas por las especificaciones de cada equipo. Existe 3 tipos de memorias caché L1, L2 y L3. Donde L1 es la de menor capacidad pero la más rápida y L3 la de mayor memoria y más lenta.\n",
        "\n",
        "3. Aumentaría considerablemente el uso de memoria (en pro de la reducción del tiempo de cómputo)."
      ],
      "metadata": {
        "id": "-_YoWz_-tZrq"
      }
    },
    {
      "cell_type": "markdown",
      "source": [
        "Medimos el actual"
      ],
      "metadata": {
        "id": "UchUIwwJwy0T"
      }
    },
    {
      "cell_type": "code",
      "source": [
        "###### Código Aquí ######\n",
        "def praw_reddit(nombre_subreddit=\"chile\", n_hot=1000):\n",
        "    reddit = praw.Reddit(\n",
        "        client_id=\"-w2hyFINxZ8T3g\",\n",
        "        client_secret=\"zGPCI4s3g6Ic6AsRi7vIpP0NoxbFdw\",\n",
        "        password=\"ClasesMDS7202\",\n",
        "        user_agent=\"Clases\",\n",
        "        username=\"DocenciaDataScience\",\n",
        "        check_for_async=False,\n",
        "    )\n",
        "        \n",
        "    subreddit  = reddit.subreddit(nombre_subreddit)\n",
        "\n",
        "    votes, post, url = {}, {}, {}\n",
        "    top_submissions = list(subreddit.hot(limit = n_hot))\n",
        "    for it, top_n in enumerate(range(50, len(top_submissions),50)):\n",
        "        top_n_submissions = top_submissions[:top_n]\n",
        "        \n",
        "    upvotes, downvotes, url[it], post[it] = [], [], [], []\n",
        "\n",
        "    for submission in top_n_submissions:\n",
        "        try:\n",
        "            ratio = submission.upvote_ratio\n",
        "            ups = int(round((ratio*submission.score)/(2*ratio - 1)) if ratio != 0.5 else round(submission.score/2))\n",
        "            upvotes.append(ups)\n",
        "            downvotes.append(ups - submission.score)\n",
        "            post[it].append(submission.title)\n",
        "            url[it].append(submission.url)\n",
        "        except Exception as e:\n",
        "            continue\n",
        "    votes[it] = np.array([upvotes, downvotes]).T\n",
        "    return votes, post, url"
      ],
      "metadata": {
        "id": "EPCzSzIw0gXZ"
      },
      "execution_count": 8,
      "outputs": []
    },
    {
      "cell_type": "code",
      "source": [
        "%lprun -f praw_reddit praw_reddit()"
      ],
      "metadata": {
        "id": "TGALWlCE12KP"
      },
      "execution_count": 9,
      "outputs": []
    },
    {
      "cell_type": "code",
      "metadata": {
        "id": "X0u4WU11rLJd",
        "cell_id": "00021-ed8c6162-10ed-414a-a7c0-e5eed7d2715e",
        "deepnote_cell_type": "code",
        "deepnote_cell_height": 66,
        "colab": {
          "base_uri": "https://localhost:8080/"
        },
        "outputId": "4e1a8dd6-4f97-4afa-8917-b1d00931b758"
      },
      "source": [
        "%%timeit\n",
        "praw_reddit()"
      ],
      "execution_count": 10,
      "outputs": [
        {
          "output_type": "stream",
          "name": "stdout",
          "text": [
            "1 loop, best of 5: 15.5 s per loop\n"
          ]
        }
      ]
    },
    {
      "cell_type": "markdown",
      "source": [
        "En total 17.25 s."
      ],
      "metadata": {
        "id": "GEAuZyJf13cx"
      }
    },
    {
      "cell_type": "markdown",
      "source": [
        "Optimizamos con caché"
      ],
      "metadata": {
        "id": "dU7OKAE3w0cK"
      }
    },
    {
      "cell_type": "code",
      "source": [
        "@lru_cache()\n",
        "def praw_reddit(nombre_subreddit=\"chile\", n_hot=1000):\n",
        "    reddit = praw.Reddit(\n",
        "        client_id=\"-w2hyFINxZ8T3g\",\n",
        "        client_secret=\"zGPCI4s3g6Ic6AsRi7vIpP0NoxbFdw\",\n",
        "        password=\"ClasesMDS7202\",\n",
        "        user_agent=\"Clases\",\n",
        "        username=\"DocenciaDataScience\",\n",
        "        check_for_async=False,\n",
        "    )\n",
        "        \n",
        "    subreddit  = reddit.subreddit(nombre_subreddit)\n",
        "\n",
        "    votes, post, url = {}, {}, {}\n",
        "    top_submissions = list(subreddit.hot(limit = n_hot))\n",
        "    for it, top_n in enumerate(range(50, len(top_submissions),50)):\n",
        "        top_n_submissions = top_submissions[:top_n]\n",
        "        \n",
        "    upvotes, downvotes, url[it], post[it] = [], [], [], []\n",
        "\n",
        "    for submission in top_n_submissions:\n",
        "        try:\n",
        "            ratio = submission.upvote_ratio\n",
        "            ups = int(round((ratio*submission.score)/(2*ratio - 1)) if ratio != 0.5 else round(submission.score/2))\n",
        "            upvotes.append(ups)\n",
        "            downvotes.append(ups - submission.score)\n",
        "            post[it].append(submission.title)\n",
        "            url[it].append(submission.url)\n",
        "        except Exception as e:\n",
        "            continue\n",
        "    votes[it] = np.array([upvotes, downvotes]).T\n",
        "    return votes, post, url"
      ],
      "metadata": {
        "id": "8IAZreUKwxv1"
      },
      "execution_count": 11,
      "outputs": []
    },
    {
      "cell_type": "markdown",
      "source": [
        "Medimos con caché"
      ],
      "metadata": {
        "id": "gRwo1LG4w9i7"
      }
    },
    {
      "cell_type": "code",
      "source": [
        "%lprun -f praw_reddit praw_reddit()"
      ],
      "metadata": {
        "colab": {
          "base_uri": "https://localhost:8080/"
        },
        "id": "r09wVB7A1pIn",
        "outputId": "2ffc84e1-4cbb-4131-d18a-16e78563f5b7"
      },
      "execution_count": 18,
      "outputs": [
        {
          "output_type": "stream",
          "name": "stderr",
          "text": [
            "/usr/local/lib/python3.7/dist-packages/line_profiler/ipython_extension.py:71: UserWarning: Could not extract a code object for the object <functools._lru_cache_wrapper object at 0x7f475a9d7f50>\n",
            "  profile = LineProfiler(*funcs)\n"
          ]
        }
      ]
    },
    {
      "cell_type": "code",
      "source": [
        "%%timeit\n",
        "praw_reddit()"
      ],
      "metadata": {
        "colab": {
          "base_uri": "https://localhost:8080/"
        },
        "id": "AoZGeNTYw9IP",
        "outputId": "ccce7d75-b67e-4646-db83-cad47ee3372e"
      },
      "execution_count": 13,
      "outputs": [
        {
          "output_type": "stream",
          "name": "stdout",
          "text": [
            "The slowest run took 40.43 times longer than the fastest. This could mean that an intermediate result is being cached.\n",
            "10000000 loops, best of 5: 71.1 ns per loop\n"
          ]
        }
      ]
    },
    {
      "cell_type": "markdown",
      "source": [
        "Tiempo total menor a 1 s."
      ],
      "metadata": {
        "id": "Mh22uiHe3FqZ"
      }
    },
    {
      "cell_type": "markdown",
      "source": [
        "**Respuesta de lru_cache sobre praw_reddit**"
      ],
      "metadata": {
        "cell_id": "00022-f295ab8f-b06d-4171-90b7-73dabfe0598d",
        "deepnote_cell_type": "markdown",
        "deepnote_cell_height": 52.390625,
        "id": "3EN_h5ovLey5"
      }
    },
    {
      "cell_type": "markdown",
      "source": [
        "El uso de lru_cache supone una disminución de tiempo de computo de decenas de segundos a menos de un segundo."
      ],
      "metadata": {
        "cell_id": "00023-56264983-6b36-48c6-a43c-19d19702f8f4",
        "deepnote_cell_type": "markdown",
        "deepnote_cell_height": 52.390625,
        "id": "E919AtiWLey6"
      }
    },
    {
      "cell_type": "markdown",
      "source": [
        "## 1.3 Obtención de Mean Posterior y Standard Error [1 Punto]\n",
        "\n",
        "Una forma de obtener la mean posterior y el Standard Error de los datos de reddit es aplicando un atajo de inferencia estadística. Este atajo se define de la siguiente forma:\n",
        "\n",
        "Sea **u** los votos positivos y **d** los votos negativos del subreddit, tendremos que:\n",
        "\n",
        "$$a = 1+u$$\n",
        "\n",
        "$$b = 1+d$$\n",
        "\n",
        "$$\\sigma= 1.65\\sqrt(\\dfrac{ab}{(a + b)^2(a + b + 1)})$$\n",
        "\n",
        "$$\\mu = \\dfrac{a}{a+b}$$\n",
        "\n",
        "Donde $\\mu$ es la mean posterior y $\\sigma$ el standard error.\n",
        "\n",
        "Con lo anterior, genere dos funciones que tengan como salida $\\mu$ y $\\sigma$ de acuerdo a las ecuaciones señaladas. La primera función, deberá ser construida sin el uso de numpy, aplicando for y aplicando comandos nativos de Python. Por otro lado, deberá generar una segunda función con el uso exclusivo de numpy. **OJO** que las funciones deben tener como entrada solo un elemento del diccionario votes (por ejemplo `votes[1]`), por lo que estas no deben tener como entrada el conjunto completo de datos."
      ],
      "metadata": {
        "id": "2pS26u-trdg6",
        "cell_id": "00024-87380659-431c-4ae7-9d12-6647f21ca9ff",
        "deepnote_cell_type": "markdown",
        "deepnote_cell_height": 542.5625
      }
    },
    {
      "cell_type": "code",
      "metadata": {
        "deepnote_to_be_reexecuted": false,
        "execution_millis": 15,
        "execution_start": 1637947536256,
        "id": "ahzpJ-Sk0DOD",
        "source_hash": "b9b21217",
        "cell_id": "00025-f63243e1-47cb-4c2c-be14-9c38dcbd24bb",
        "deepnote_cell_type": "code",
        "deepnote_cell_height": 81
      },
      "source": [
        "###### Código Aquí ######\n",
        "\n",
        "def intervalos_sin_numpy(u, d):\n",
        "    suma_u, suma_d = 0, 0\n",
        "    for i in range(len(d)):\n",
        "        suma_u += u[i]\n",
        "        suma_d += d[i]\n",
        "    a = int(1+suma_u)\n",
        "    b = int(1+suma_d)\n",
        "    sigma = 1.65 * (a*b/(((a+b)**2)*(a+b+1)))**0.5\n",
        "    mu = a/(a+b)\n",
        "    return mu,sigma\n",
        "\n",
        "def intervalos_con_numpy(u, d):\n",
        "    suma_u = np.sum(u)\n",
        "    suma_d = np.sum(d)\n",
        "    a = int(1+suma_u)\n",
        "    b = int(1+suma_d)\n",
        "    sigma = 1.65 * np.sqrt(a*b/(((a+b)**2)*(a+b+1)))\n",
        "    mu = a/(a+b)\n",
        "    return mu,sigma"
      ],
      "execution_count": 27,
      "outputs": []
    },
    {
      "cell_type": "code",
      "source": [
        "votes_in = votes[1]"
      ],
      "metadata": {
        "id": "HY3EkM934tiT"
      },
      "execution_count": 21,
      "outputs": []
    },
    {
      "cell_type": "code",
      "source": [
        "%timeit intervalos_sin_numpy(votes_in[:, 0], votes_in[:, 1])"
      ],
      "metadata": {
        "colab": {
          "base_uri": "https://localhost:8080/"
        },
        "id": "h-LV9CkW4vgZ",
        "outputId": "1350f1db-8788-46e2-df2b-84c9d5034443"
      },
      "execution_count": 22,
      "outputs": [
        {
          "output_type": "stream",
          "name": "stdout",
          "text": [
            "10000 loops, best of 5: 32.6 µs per loop\n"
          ]
        }
      ]
    },
    {
      "cell_type": "code",
      "source": [
        "%timeit intervalos_con_numpy(votes_in[:, 0], votes_in[:, 1])"
      ],
      "metadata": {
        "colab": {
          "base_uri": "https://localhost:8080/"
        },
        "id": "V-ZFBZ-o40ML",
        "outputId": "4fd0063a-9215-467e-bd96-97c229b5115c"
      },
      "execution_count": 23,
      "outputs": [
        {
          "output_type": "stream",
          "name": "stdout",
          "text": [
            "The slowest run took 290.93 times longer than the fastest. This could mean that an intermediate result is being cached.\n",
            "100000 loops, best of 5: 12.1 µs per loop\n"
          ]
        }
      ]
    },
    {
      "cell_type": "code",
      "source": [
        "intervalos_sin_numpy(votes_in[:, 0], votes_in[:, 1])==intervalos_con_numpy(votes_in[:, 0], votes_in[:, 1])"
      ],
      "metadata": {
        "colab": {
          "base_uri": "https://localhost:8080/"
        },
        "id": "6quH_TQd44xW",
        "outputId": "32a128ef-fdcb-46c8-a1c1-1694c3786d33"
      },
      "execution_count": 24,
      "outputs": [
        {
          "output_type": "execute_result",
          "data": {
            "text/plain": [
              "True"
            ]
          },
          "metadata": {},
          "execution_count": 24
        }
      ]
    },
    {
      "cell_type": "markdown",
      "source": [
        "## 1.4 Comparación de Rendimiento [2 Puntos]\n",
        "\n",
        "Ahora, aplique el compilador **Numba** sobre las funciones 1.3 y compare el tiempo de ejecución con los obtenidos sin el compilador. \n",
        "\n",
        "Para esto genere un gráfico de linea utilizando plotly, en donde se pueda observar el tiempo que toma ejecutar cada función (el eje y) diferentes cantidades de datos (ejemplo, en el eje x considerar 100, 200, 300, ..., 1000 datos) sobre cada función implementada (series `Python`, `Numpy`, `Python-JIT`, `Numpy-JIT`). ¿Es posible observar diferencias? ¿A qué se debe esto?.\n",
        "\n",
        "**Nota:** Ejecuten las funciones compiladas con algún ejemplo antes de graficar. De lo contrario, les indicará el tiempo de compilación, cosa que no queremos medir\n",
        "\n",
        "**Nota 2**: En el caso que su computador sea muy rápido, se recomienda graficar el eje y (tiempo) como logaritmo usando `log_y=True`.\n"
      ],
      "metadata": {
        "id": "VhHhiTRYwpGu",
        "cell_id": "00026-42ed3992-3ac8-4452-b6f1-031bb91fa5e6",
        "owner_user_id": "badcc427-fd3d-4615-9296-faa43ec69cfb",
        "deepnote_cell_type": "markdown",
        "deepnote_cell_height": 352
      }
    },
    {
      "cell_type": "code",
      "metadata": {
        "id": "b02IokToxPpO",
        "cell_id": "00027-a686fa21-e957-40c6-8fd1-a6fef560928c",
        "deepnote_cell_type": "code",
        "deepnote_cell_height": 66
      },
      "source": [
        "###### Código Aquí ######\n",
        "\n",
        "@jit(nopython=True)\n",
        "def intervalos_py_JIT(u, d):\n",
        "    suma_u, suma_d = 0, 0\n",
        "    for i in range(len(d)):\n",
        "        suma_u += u[i]\n",
        "        suma_d += d[i]\n",
        "    a = int(1+suma_u)\n",
        "    b = int(1+suma_d)\n",
        "    sigma = 1.65 * (a*b/(((a+b)**2)*(a+b+1)))**0.5\n",
        "    mu = a/(a+b)\n",
        "    return mu,sigma\n",
        "\n",
        "@jit(nopython=True)\n",
        "def intervalos_numpy_JIT(u, d):\n",
        "    suma_u = np.sum(u)\n",
        "    suma_d = np.sum(d)\n",
        "    a = int(1+suma_u)\n",
        "    b = int(1+suma_d)\n",
        "    sigma = 1.65 * np.sqrt(a*b/(((a+b)**2)*(a+b+1)))\n",
        "    mu = a/(a+b)\n",
        "    return mu,sigma"
      ],
      "execution_count": 30,
      "outputs": []
    },
    {
      "cell_type": "code",
      "source": [
        "intervalos_py_JIT(votes_in[:, 0], votes_in[:, 1])==intervalos_numpy_JIT(votes_in[:, 0], votes_in[:, 1])"
      ],
      "metadata": {
        "colab": {
          "base_uri": "https://localhost:8080/"
        },
        "id": "gd7_yPAj6X9H",
        "outputId": "bb0159c7-929a-49df-c8cb-34334428b9c9"
      },
      "execution_count": 31,
      "outputs": [
        {
          "output_type": "execute_result",
          "data": {
            "text/plain": [
              "True"
            ]
          },
          "metadata": {},
          "execution_count": 31
        }
      ]
    },
    {
      "cell_type": "code",
      "source": [
        "from timeit import timeit\n",
        "t_py = []\n",
        "t_numpy = []\n",
        "t_py_JIT = []\n",
        "t_numpy_JIT = []\n",
        "for i in range(0, 18, 1):\n",
        "    t_i = timeit(lambda: intervalos_sin_numpy(votes[i][:, 0], votes[i][:, 1]), number=1)\n",
        "    t_py.append(t_i)\n",
        "    t_i = timeit(lambda: intervalos_con_numpy(votes[i][:, 0], votes[i][:, 1]), number=1)\n",
        "    t_numpy.append(t_i)\n",
        "    t_i = timeit(lambda: intervalos_py_JIT(votes[i][:, 0], votes[i][:, 1]), number=1)\n",
        "    t_py_JIT.append(t_i)\n",
        "    t_i = timeit(lambda: intervalos_numpy_JIT(votes[i][:, 0], votes[i][:, 1]), number=1)\n",
        "    t_numpy_JIT.append(t_i)"
      ],
      "metadata": {
        "id": "DXe4zF0g6fFN"
      },
      "execution_count": 32,
      "outputs": []
    },
    {
      "cell_type": "code",
      "source": [
        "import pandas as pd\n",
        "x = list(range(50, 901, 50))\n",
        "df = pd.DataFrame({'Datos': x, 'Tiempos_py': t_py,'Tiempos_numpy': t_numpy,'Tiempos_py_JIT': t_py_JIT,'Tiempos_numpy_JIT': t_numpy_JIT})\n",
        "\n",
        "px.line(df, y=['Tiempos_py', 'Tiempos_numpy', 'Tiempos_py_JIT', 'Tiempos_numpy_JIT'], x='Datos', log_y=True)"
      ],
      "metadata": {
        "colab": {
          "base_uri": "https://localhost:8080/",
          "height": 542
        },
        "id": "qtbT0GDs7Nqk",
        "outputId": "5b95fc7c-6dd8-4036-e050-a74f0096b563"
      },
      "execution_count": 38,
      "outputs": [
        {
          "output_type": "display_data",
          "data": {
            "text/html": [
              "<html>\n",
              "<head><meta charset=\"utf-8\" /></head>\n",
              "<body>\n",
              "    <div>            <script src=\"https://cdnjs.cloudflare.com/ajax/libs/mathjax/2.7.5/MathJax.js?config=TeX-AMS-MML_SVG\"></script><script type=\"text/javascript\">if (window.MathJax) {MathJax.Hub.Config({SVG: {font: \"STIX-Web\"}});}</script>                <script type=\"text/javascript\">window.PlotlyConfig = {MathJaxConfig: 'local'};</script>\n",
              "        <script src=\"https://cdn.plot.ly/plotly-2.8.3.min.js\"></script>                <div id=\"905c5c68-e4b7-483d-9873-3feacc871041\" class=\"plotly-graph-div\" style=\"height:525px; width:100%;\"></div>            <script type=\"text/javascript\">                                    window.PLOTLYENV=window.PLOTLYENV || {};                                    if (document.getElementById(\"905c5c68-e4b7-483d-9873-3feacc871041\")) {                    Plotly.newPlot(                        \"905c5c68-e4b7-483d-9873-3feacc871041\",                        [{\"hovertemplate\":\"variable=Tiempos_py<br>Datos=%{x}<br>value=%{y}<extra></extra>\",\"legendgroup\":\"Tiempos_py\",\"line\":{\"color\":\"#636efa\",\"dash\":\"solid\"},\"marker\":{\"symbol\":\"circle\"},\"mode\":\"lines\",\"name\":\"Tiempos_py\",\"orientation\":\"v\",\"showlegend\":true,\"x\":[50,100,150,200,250,300,350,400,450,500,550,600,650,700,750,800,850,900],\"xaxis\":\"x\",\"y\":[7.752800001981086e-05,3.931699984605075e-05,5.2769999911106424e-05,7.593999998789513e-05,8.188900005734467e-05,9.96940000277391e-05,0.00011958300001424504,0.00013032900005782722,0.0001538510000500537,0.0001633080000829068,0.0001781890000529529,0.00020405500004017085,0.0002053069999874424,0.00023951599996507866,0.00023517199997513671,0.0002537240000037855,0.00027088999991065066,0.0002828020001288678],\"yaxis\":\"y\",\"type\":\"scatter\"},{\"hovertemplate\":\"variable=Tiempos_numpy<br>Datos=%{x}<br>value=%{y}<extra></extra>\",\"legendgroup\":\"Tiempos_numpy\",\"line\":{\"color\":\"#EF553B\",\"dash\":\"solid\"},\"marker\":{\"symbol\":\"circle\"},\"mode\":\"lines\",\"name\":\"Tiempos_numpy\",\"orientation\":\"v\",\"showlegend\":true,\"x\":[50,100,150,200,250,300,350,400,450,500,550,600,650,700,750,800,850,900],\"xaxis\":\"x\",\"y\":[9.182700000565092e-05,2.480100010870956e-05,3.918800007340906e-05,2.4177000113922986e-05,2.1090000018375576e-05,2.0746000018334598e-05,2.4151000161509728e-05,2.5413000003027264e-05,2.120700014529575e-05,2.9318000088096596e-05,2.4599999960628338e-05,2.6555999966149102e-05,2.1517000050153e-05,2.4020000182645163e-05,2.2095999838711577e-05,2.1263000007820665e-05,2.3602000055689132e-05,2.2129000171844382e-05],\"yaxis\":\"y\",\"type\":\"scatter\"},{\"hovertemplate\":\"variable=Tiempos_py_JIT<br>Datos=%{x}<br>value=%{y}<extra></extra>\",\"legendgroup\":\"Tiempos_py_JIT\",\"line\":{\"color\":\"#00cc96\",\"dash\":\"solid\"},\"marker\":{\"symbol\":\"circle\"},\"mode\":\"lines\",\"name\":\"Tiempos_py_JIT\",\"orientation\":\"v\",\"showlegend\":true,\"x\":[50,100,150,200,250,300,350,400,450,500,550,600,650,700,750,800,850,900],\"xaxis\":\"x\",\"y\":[1.3151999837646144e-05,3.5099999422527617e-06,5.1410002015472855e-06,3.3459998576290673e-06,3.4049999158014543e-06,1.642200004425831e-05,4.260000196154579e-06,3.451999873504974e-06,7.440999979735352e-06,3.504999995129765e-06,3.5630000638775527e-06,3.724000180227449e-06,3.480000032141106e-06,3.5319999369676225e-06,3.3769999845389975e-06,3.3039998470485443e-06,3.5569998999562813e-06,3.4980000691575697e-06],\"yaxis\":\"y\",\"type\":\"scatter\"},{\"hovertemplate\":\"variable=Tiempos_numpy_JIT<br>Datos=%{x}<br>value=%{y}<extra></extra>\",\"legendgroup\":\"Tiempos_numpy_JIT\",\"line\":{\"color\":\"#ab63fa\",\"dash\":\"solid\"},\"marker\":{\"symbol\":\"circle\"},\"mode\":\"lines\",\"name\":\"Tiempos_numpy_JIT\",\"orientation\":\"v\",\"showlegend\":true,\"x\":[50,100,150,200,250,300,350,400,450,500,550,600,650,700,750,800,850,900],\"xaxis\":\"x\",\"y\":[5.594999947788892e-06,2.8660001589742023e-06,3.4029999369522557e-06,3.0250000691012247e-06,2.787000084936153e-06,2.9979998998896917e-06,4.614999852492474e-06,2.981000079671503e-06,4.0079999052977655e-06,3.06999982058187e-06,3.059999926335877e-06,3.057999947486678e-06,2.871000106097199e-06,2.9499999527615728e-06,2.964000032079639e-06,3.516000106174033e-06,3.107000111413072e-06,2.9850000373699004e-06],\"yaxis\":\"y\",\"type\":\"scatter\"}],                        {\"template\":{\"data\":{\"bar\":[{\"error_x\":{\"color\":\"#2a3f5f\"},\"error_y\":{\"color\":\"#2a3f5f\"},\"marker\":{\"line\":{\"color\":\"#E5ECF6\",\"width\":0.5},\"pattern\":{\"fillmode\":\"overlay\",\"size\":10,\"solidity\":0.2}},\"type\":\"bar\"}],\"barpolar\":[{\"marker\":{\"line\":{\"color\":\"#E5ECF6\",\"width\":0.5},\"pattern\":{\"fillmode\":\"overlay\",\"size\":10,\"solidity\":0.2}},\"type\":\"barpolar\"}],\"carpet\":[{\"aaxis\":{\"endlinecolor\":\"#2a3f5f\",\"gridcolor\":\"white\",\"linecolor\":\"white\",\"minorgridcolor\":\"white\",\"startlinecolor\":\"#2a3f5f\"},\"baxis\":{\"endlinecolor\":\"#2a3f5f\",\"gridcolor\":\"white\",\"linecolor\":\"white\",\"minorgridcolor\":\"white\",\"startlinecolor\":\"#2a3f5f\"},\"type\":\"carpet\"}],\"choropleth\":[{\"colorbar\":{\"outlinewidth\":0,\"ticks\":\"\"},\"type\":\"choropleth\"}],\"contour\":[{\"colorbar\":{\"outlinewidth\":0,\"ticks\":\"\"},\"colorscale\":[[0.0,\"#0d0887\"],[0.1111111111111111,\"#46039f\"],[0.2222222222222222,\"#7201a8\"],[0.3333333333333333,\"#9c179e\"],[0.4444444444444444,\"#bd3786\"],[0.5555555555555556,\"#d8576b\"],[0.6666666666666666,\"#ed7953\"],[0.7777777777777778,\"#fb9f3a\"],[0.8888888888888888,\"#fdca26\"],[1.0,\"#f0f921\"]],\"type\":\"contour\"}],\"contourcarpet\":[{\"colorbar\":{\"outlinewidth\":0,\"ticks\":\"\"},\"type\":\"contourcarpet\"}],\"heatmap\":[{\"colorbar\":{\"outlinewidth\":0,\"ticks\":\"\"},\"colorscale\":[[0.0,\"#0d0887\"],[0.1111111111111111,\"#46039f\"],[0.2222222222222222,\"#7201a8\"],[0.3333333333333333,\"#9c179e\"],[0.4444444444444444,\"#bd3786\"],[0.5555555555555556,\"#d8576b\"],[0.6666666666666666,\"#ed7953\"],[0.7777777777777778,\"#fb9f3a\"],[0.8888888888888888,\"#fdca26\"],[1.0,\"#f0f921\"]],\"type\":\"heatmap\"}],\"heatmapgl\":[{\"colorbar\":{\"outlinewidth\":0,\"ticks\":\"\"},\"colorscale\":[[0.0,\"#0d0887\"],[0.1111111111111111,\"#46039f\"],[0.2222222222222222,\"#7201a8\"],[0.3333333333333333,\"#9c179e\"],[0.4444444444444444,\"#bd3786\"],[0.5555555555555556,\"#d8576b\"],[0.6666666666666666,\"#ed7953\"],[0.7777777777777778,\"#fb9f3a\"],[0.8888888888888888,\"#fdca26\"],[1.0,\"#f0f921\"]],\"type\":\"heatmapgl\"}],\"histogram\":[{\"marker\":{\"pattern\":{\"fillmode\":\"overlay\",\"size\":10,\"solidity\":0.2}},\"type\":\"histogram\"}],\"histogram2d\":[{\"colorbar\":{\"outlinewidth\":0,\"ticks\":\"\"},\"colorscale\":[[0.0,\"#0d0887\"],[0.1111111111111111,\"#46039f\"],[0.2222222222222222,\"#7201a8\"],[0.3333333333333333,\"#9c179e\"],[0.4444444444444444,\"#bd3786\"],[0.5555555555555556,\"#d8576b\"],[0.6666666666666666,\"#ed7953\"],[0.7777777777777778,\"#fb9f3a\"],[0.8888888888888888,\"#fdca26\"],[1.0,\"#f0f921\"]],\"type\":\"histogram2d\"}],\"histogram2dcontour\":[{\"colorbar\":{\"outlinewidth\":0,\"ticks\":\"\"},\"colorscale\":[[0.0,\"#0d0887\"],[0.1111111111111111,\"#46039f\"],[0.2222222222222222,\"#7201a8\"],[0.3333333333333333,\"#9c179e\"],[0.4444444444444444,\"#bd3786\"],[0.5555555555555556,\"#d8576b\"],[0.6666666666666666,\"#ed7953\"],[0.7777777777777778,\"#fb9f3a\"],[0.8888888888888888,\"#fdca26\"],[1.0,\"#f0f921\"]],\"type\":\"histogram2dcontour\"}],\"mesh3d\":[{\"colorbar\":{\"outlinewidth\":0,\"ticks\":\"\"},\"type\":\"mesh3d\"}],\"parcoords\":[{\"line\":{\"colorbar\":{\"outlinewidth\":0,\"ticks\":\"\"}},\"type\":\"parcoords\"}],\"pie\":[{\"automargin\":true,\"type\":\"pie\"}],\"scatter\":[{\"marker\":{\"colorbar\":{\"outlinewidth\":0,\"ticks\":\"\"}},\"type\":\"scatter\"}],\"scatter3d\":[{\"line\":{\"colorbar\":{\"outlinewidth\":0,\"ticks\":\"\"}},\"marker\":{\"colorbar\":{\"outlinewidth\":0,\"ticks\":\"\"}},\"type\":\"scatter3d\"}],\"scattercarpet\":[{\"marker\":{\"colorbar\":{\"outlinewidth\":0,\"ticks\":\"\"}},\"type\":\"scattercarpet\"}],\"scattergeo\":[{\"marker\":{\"colorbar\":{\"outlinewidth\":0,\"ticks\":\"\"}},\"type\":\"scattergeo\"}],\"scattergl\":[{\"marker\":{\"colorbar\":{\"outlinewidth\":0,\"ticks\":\"\"}},\"type\":\"scattergl\"}],\"scattermapbox\":[{\"marker\":{\"colorbar\":{\"outlinewidth\":0,\"ticks\":\"\"}},\"type\":\"scattermapbox\"}],\"scatterpolar\":[{\"marker\":{\"colorbar\":{\"outlinewidth\":0,\"ticks\":\"\"}},\"type\":\"scatterpolar\"}],\"scatterpolargl\":[{\"marker\":{\"colorbar\":{\"outlinewidth\":0,\"ticks\":\"\"}},\"type\":\"scatterpolargl\"}],\"scatterternary\":[{\"marker\":{\"colorbar\":{\"outlinewidth\":0,\"ticks\":\"\"}},\"type\":\"scatterternary\"}],\"surface\":[{\"colorbar\":{\"outlinewidth\":0,\"ticks\":\"\"},\"colorscale\":[[0.0,\"#0d0887\"],[0.1111111111111111,\"#46039f\"],[0.2222222222222222,\"#7201a8\"],[0.3333333333333333,\"#9c179e\"],[0.4444444444444444,\"#bd3786\"],[0.5555555555555556,\"#d8576b\"],[0.6666666666666666,\"#ed7953\"],[0.7777777777777778,\"#fb9f3a\"],[0.8888888888888888,\"#fdca26\"],[1.0,\"#f0f921\"]],\"type\":\"surface\"}],\"table\":[{\"cells\":{\"fill\":{\"color\":\"#EBF0F8\"},\"line\":{\"color\":\"white\"}},\"header\":{\"fill\":{\"color\":\"#C8D4E3\"},\"line\":{\"color\":\"white\"}},\"type\":\"table\"}]},\"layout\":{\"annotationdefaults\":{\"arrowcolor\":\"#2a3f5f\",\"arrowhead\":0,\"arrowwidth\":1},\"autotypenumbers\":\"strict\",\"coloraxis\":{\"colorbar\":{\"outlinewidth\":0,\"ticks\":\"\"}},\"colorscale\":{\"diverging\":[[0,\"#8e0152\"],[0.1,\"#c51b7d\"],[0.2,\"#de77ae\"],[0.3,\"#f1b6da\"],[0.4,\"#fde0ef\"],[0.5,\"#f7f7f7\"],[0.6,\"#e6f5d0\"],[0.7,\"#b8e186\"],[0.8,\"#7fbc41\"],[0.9,\"#4d9221\"],[1,\"#276419\"]],\"sequential\":[[0.0,\"#0d0887\"],[0.1111111111111111,\"#46039f\"],[0.2222222222222222,\"#7201a8\"],[0.3333333333333333,\"#9c179e\"],[0.4444444444444444,\"#bd3786\"],[0.5555555555555556,\"#d8576b\"],[0.6666666666666666,\"#ed7953\"],[0.7777777777777778,\"#fb9f3a\"],[0.8888888888888888,\"#fdca26\"],[1.0,\"#f0f921\"]],\"sequentialminus\":[[0.0,\"#0d0887\"],[0.1111111111111111,\"#46039f\"],[0.2222222222222222,\"#7201a8\"],[0.3333333333333333,\"#9c179e\"],[0.4444444444444444,\"#bd3786\"],[0.5555555555555556,\"#d8576b\"],[0.6666666666666666,\"#ed7953\"],[0.7777777777777778,\"#fb9f3a\"],[0.8888888888888888,\"#fdca26\"],[1.0,\"#f0f921\"]]},\"colorway\":[\"#636efa\",\"#EF553B\",\"#00cc96\",\"#ab63fa\",\"#FFA15A\",\"#19d3f3\",\"#FF6692\",\"#B6E880\",\"#FF97FF\",\"#FECB52\"],\"font\":{\"color\":\"#2a3f5f\"},\"geo\":{\"bgcolor\":\"white\",\"lakecolor\":\"white\",\"landcolor\":\"#E5ECF6\",\"showlakes\":true,\"showland\":true,\"subunitcolor\":\"white\"},\"hoverlabel\":{\"align\":\"left\"},\"hovermode\":\"closest\",\"mapbox\":{\"style\":\"light\"},\"paper_bgcolor\":\"white\",\"plot_bgcolor\":\"#E5ECF6\",\"polar\":{\"angularaxis\":{\"gridcolor\":\"white\",\"linecolor\":\"white\",\"ticks\":\"\"},\"bgcolor\":\"#E5ECF6\",\"radialaxis\":{\"gridcolor\":\"white\",\"linecolor\":\"white\",\"ticks\":\"\"}},\"scene\":{\"xaxis\":{\"backgroundcolor\":\"#E5ECF6\",\"gridcolor\":\"white\",\"gridwidth\":2,\"linecolor\":\"white\",\"showbackground\":true,\"ticks\":\"\",\"zerolinecolor\":\"white\"},\"yaxis\":{\"backgroundcolor\":\"#E5ECF6\",\"gridcolor\":\"white\",\"gridwidth\":2,\"linecolor\":\"white\",\"showbackground\":true,\"ticks\":\"\",\"zerolinecolor\":\"white\"},\"zaxis\":{\"backgroundcolor\":\"#E5ECF6\",\"gridcolor\":\"white\",\"gridwidth\":2,\"linecolor\":\"white\",\"showbackground\":true,\"ticks\":\"\",\"zerolinecolor\":\"white\"}},\"shapedefaults\":{\"line\":{\"color\":\"#2a3f5f\"}},\"ternary\":{\"aaxis\":{\"gridcolor\":\"white\",\"linecolor\":\"white\",\"ticks\":\"\"},\"baxis\":{\"gridcolor\":\"white\",\"linecolor\":\"white\",\"ticks\":\"\"},\"bgcolor\":\"#E5ECF6\",\"caxis\":{\"gridcolor\":\"white\",\"linecolor\":\"white\",\"ticks\":\"\"}},\"title\":{\"x\":0.05},\"xaxis\":{\"automargin\":true,\"gridcolor\":\"white\",\"linecolor\":\"white\",\"ticks\":\"\",\"title\":{\"standoff\":15},\"zerolinecolor\":\"white\",\"zerolinewidth\":2},\"yaxis\":{\"automargin\":true,\"gridcolor\":\"white\",\"linecolor\":\"white\",\"ticks\":\"\",\"title\":{\"standoff\":15},\"zerolinecolor\":\"white\",\"zerolinewidth\":2}}},\"xaxis\":{\"anchor\":\"y\",\"domain\":[0.0,1.0],\"title\":{\"text\":\"Datos\"}},\"yaxis\":{\"anchor\":\"x\",\"domain\":[0.0,1.0],\"title\":{\"text\":\"value\"},\"type\":\"log\"},\"legend\":{\"title\":{\"text\":\"variable\"},\"tracegroupgap\":0},\"margin\":{\"t\":60}},                        {\"responsive\": true}                    ).then(function(){\n",
              "                            \n",
              "var gd = document.getElementById('905c5c68-e4b7-483d-9873-3feacc871041');\n",
              "var x = new MutationObserver(function (mutations, observer) {{\n",
              "        var display = window.getComputedStyle(gd).display;\n",
              "        if (!display || display === 'none') {{\n",
              "            console.log([gd, 'removed!']);\n",
              "            Plotly.purge(gd);\n",
              "            observer.disconnect();\n",
              "        }}\n",
              "}});\n",
              "\n",
              "// Listen for the removal of the full notebook cells\n",
              "var notebookContainer = gd.closest('#notebook-container');\n",
              "if (notebookContainer) {{\n",
              "    x.observe(notebookContainer, {childList: true});\n",
              "}}\n",
              "\n",
              "// Listen for the clearing of the current output cell\n",
              "var outputEl = gd.closest('.output');\n",
              "if (outputEl) {{\n",
              "    x.observe(outputEl, {childList: true});\n",
              "}}\n",
              "\n",
              "                        })                };                            </script>        </div>\n",
              "</body>\n",
              "</html>"
            ]
          },
          "metadata": {}
        }
      ]
    },
    {
      "cell_type": "markdown",
      "source": [
        "Si se obserban diferencias. En primer lugar las funciones con numba presentan el mejor rendimiento ya que dicha librería se encarga de optimizar funciones matemáticas.\n",
        "\n",
        "Por otra parte, las funciones con numpy presentaron mejor rendimiento respecto a las funciones sin numpy ya que realizan los computos de manera paralela."
      ],
      "metadata": {
        "id": "EyPKkExt8IVT"
      }
    },
    {
      "cell_type": "markdown",
      "source": [
        "## 1.5 Plot de Resultados de Análisis de Votos [1 Punto]"
      ],
      "metadata": {
        "id": "DljdJw8m0gYC",
        "cell_id": "00030-01881ca2-384a-44f1-bcaf-ad095552aac2",
        "deepnote_cell_type": "markdown",
        "deepnote_cell_height": 70
      }
    },
    {
      "cell_type": "markdown",
      "source": [
        "Llego la hora de visualizar los resultados obtenidos, para esto solo ejecute las siguientes celdas y observe lo que sucede :3. ¿Qué logra observar de los resultados?, ¿La solución resulta trivial?\n",
        "\n",
        "En esta sección esperamos que solo comenten con lo que logran visualizar de los dataframes."
      ],
      "metadata": {
        "id": "cQAxOM5D08Hl",
        "cell_id": "00031-1bfb8e5a-3a40-45f2-8f0f-f94c9264f8e2",
        "deepnote_cell_type": "markdown",
        "deepnote_cell_height": 111.1875
      }
    },
    {
      "cell_type": "code",
      "metadata": {
        "id": "N5E2mNYXaafI",
        "scrolled": true,
        "cell_id": "00032-107c679d-f291-40ec-8854-fd17864ba743",
        "deepnote_cell_type": "code",
        "deepnote_cell_height": 318
      },
      "source": [
        "votos = votes[len(votes) - 1]\n",
        "posteo = post[len(post) - 1]\n",
        "print(\"lower bounds aproximados:\")\n",
        "posterior_mean, std_err = intervalos_con_numpy(votos[:, 0], votos[:, 1])\n",
        "lb = posterior_mean - std_err\n",
        "print(\"\\nTop 20 post ordenador por el limite inferior:\\n\")\n",
        "order = np.argsort(-lb)\n",
        "vote_post = {\n",
        "    'Votos (+)': votos[order[:20], 0],\n",
        "    'Votos (-)': votos[order[:20], 1],\n",
        "    'Post': np.array(posteo)[order[:20]],\n",
        "    'url': np.array(url[len(url) - 1])[order[:20]]\n",
        "}\n",
        "df = pd.DataFrame(data=vote_post)\n",
        "ordered_post = df.Post"
      ],
      "execution_count": null,
      "outputs": []
    },
    {
      "cell_type": "code",
      "source": [
        "posterior_mean, std_err = [], []\n",
        "\n",
        "for i in range(len(votes)):\n",
        "  votos = votes[i]\n",
        "  posteo = post[i]\n",
        "  p_mean, s_err = intervalos_con_numpy(votos[:, 0], votos[:, 1])\n",
        "  posterior_mean.append(p_mean)\n",
        "  std_err.append(s_err)"
      ],
      "metadata": {
        "id": "YmX6auft_GRL"
      },
      "execution_count": 67,
      "outputs": []
    },
    {
      "cell_type": "code",
      "source": [
        "r_order = int(order[::-1][-20:])\n",
        "data_dic = {\n",
        "    'mean': posterior_mean[r_order],\n",
        "    'std_err': std_err[r_order],\n",
        "    'post': ordered_post[::-1]\n",
        "}\n",
        "df = pd.DataFrame(data=data_dic)\n",
        "fig = px.scatter(df, x=\"mean\", y=\"post\", error_x=\"std_err\")\n",
        "fig.show()"
      ],
      "metadata": {
        "cell_id": "2a0efceb16224059bb6aca51848d260f",
        "tags": [],
        "deepnote_cell_type": "code",
        "deepnote_cell_height": 210,
        "id": "1cNWzdkOLezA",
        "colab": {
          "base_uri": "https://localhost:8080/",
          "height": 542
        },
        "outputId": "39a122c6-fa79-4533-8dc6-e03d6a4ce896"
      },
      "outputs": [
        {
          "output_type": "display_data",
          "data": {
            "text/html": [
              "<html>\n",
              "<head><meta charset=\"utf-8\" /></head>\n",
              "<body>\n",
              "    <div>            <script src=\"https://cdnjs.cloudflare.com/ajax/libs/mathjax/2.7.5/MathJax.js?config=TeX-AMS-MML_SVG\"></script><script type=\"text/javascript\">if (window.MathJax) {MathJax.Hub.Config({SVG: {font: \"STIX-Web\"}});}</script>                <script type=\"text/javascript\">window.PlotlyConfig = {MathJaxConfig: 'local'};</script>\n",
              "        <script src=\"https://cdn.plot.ly/plotly-2.8.3.min.js\"></script>                <div id=\"d5d50fc0-e143-4cca-b024-cdd523b4df25\" class=\"plotly-graph-div\" style=\"height:525px; width:100%;\"></div>            <script type=\"text/javascript\">                                    window.PLOTLYENV=window.PLOTLYENV || {};                                    if (document.getElementById(\"d5d50fc0-e143-4cca-b024-cdd523b4df25\")) {                    Plotly.newPlot(                        \"d5d50fc0-e143-4cca-b024-cdd523b4df25\",                        [{\"error_x\":{\"array\":[0.005760652640159999]},\"hovertemplate\":\"mean=%{x}<br>post=%{y}<extra></extra>\",\"legendgroup\":\"\",\"marker\":{\"color\":\"#636efa\",\"symbol\":\"circle\"},\"mode\":\"markers\",\"name\":\"\",\"orientation\":\"h\",\"showlegend\":false,\"x\":[0.8925031766200763],\"xaxis\":\"x\",\"y\":[\"Discusi\\u00f3n random semanal\"],\"yaxis\":\"y\",\"type\":\"scatter\"}],                        {\"template\":{\"data\":{\"bar\":[{\"error_x\":{\"color\":\"#2a3f5f\"},\"error_y\":{\"color\":\"#2a3f5f\"},\"marker\":{\"line\":{\"color\":\"#E5ECF6\",\"width\":0.5},\"pattern\":{\"fillmode\":\"overlay\",\"size\":10,\"solidity\":0.2}},\"type\":\"bar\"}],\"barpolar\":[{\"marker\":{\"line\":{\"color\":\"#E5ECF6\",\"width\":0.5},\"pattern\":{\"fillmode\":\"overlay\",\"size\":10,\"solidity\":0.2}},\"type\":\"barpolar\"}],\"carpet\":[{\"aaxis\":{\"endlinecolor\":\"#2a3f5f\",\"gridcolor\":\"white\",\"linecolor\":\"white\",\"minorgridcolor\":\"white\",\"startlinecolor\":\"#2a3f5f\"},\"baxis\":{\"endlinecolor\":\"#2a3f5f\",\"gridcolor\":\"white\",\"linecolor\":\"white\",\"minorgridcolor\":\"white\",\"startlinecolor\":\"#2a3f5f\"},\"type\":\"carpet\"}],\"choropleth\":[{\"colorbar\":{\"outlinewidth\":0,\"ticks\":\"\"},\"type\":\"choropleth\"}],\"contour\":[{\"colorbar\":{\"outlinewidth\":0,\"ticks\":\"\"},\"colorscale\":[[0.0,\"#0d0887\"],[0.1111111111111111,\"#46039f\"],[0.2222222222222222,\"#7201a8\"],[0.3333333333333333,\"#9c179e\"],[0.4444444444444444,\"#bd3786\"],[0.5555555555555556,\"#d8576b\"],[0.6666666666666666,\"#ed7953\"],[0.7777777777777778,\"#fb9f3a\"],[0.8888888888888888,\"#fdca26\"],[1.0,\"#f0f921\"]],\"type\":\"contour\"}],\"contourcarpet\":[{\"colorbar\":{\"outlinewidth\":0,\"ticks\":\"\"},\"type\":\"contourcarpet\"}],\"heatmap\":[{\"colorbar\":{\"outlinewidth\":0,\"ticks\":\"\"},\"colorscale\":[[0.0,\"#0d0887\"],[0.1111111111111111,\"#46039f\"],[0.2222222222222222,\"#7201a8\"],[0.3333333333333333,\"#9c179e\"],[0.4444444444444444,\"#bd3786\"],[0.5555555555555556,\"#d8576b\"],[0.6666666666666666,\"#ed7953\"],[0.7777777777777778,\"#fb9f3a\"],[0.8888888888888888,\"#fdca26\"],[1.0,\"#f0f921\"]],\"type\":\"heatmap\"}],\"heatmapgl\":[{\"colorbar\":{\"outlinewidth\":0,\"ticks\":\"\"},\"colorscale\":[[0.0,\"#0d0887\"],[0.1111111111111111,\"#46039f\"],[0.2222222222222222,\"#7201a8\"],[0.3333333333333333,\"#9c179e\"],[0.4444444444444444,\"#bd3786\"],[0.5555555555555556,\"#d8576b\"],[0.6666666666666666,\"#ed7953\"],[0.7777777777777778,\"#fb9f3a\"],[0.8888888888888888,\"#fdca26\"],[1.0,\"#f0f921\"]],\"type\":\"heatmapgl\"}],\"histogram\":[{\"marker\":{\"pattern\":{\"fillmode\":\"overlay\",\"size\":10,\"solidity\":0.2}},\"type\":\"histogram\"}],\"histogram2d\":[{\"colorbar\":{\"outlinewidth\":0,\"ticks\":\"\"},\"colorscale\":[[0.0,\"#0d0887\"],[0.1111111111111111,\"#46039f\"],[0.2222222222222222,\"#7201a8\"],[0.3333333333333333,\"#9c179e\"],[0.4444444444444444,\"#bd3786\"],[0.5555555555555556,\"#d8576b\"],[0.6666666666666666,\"#ed7953\"],[0.7777777777777778,\"#fb9f3a\"],[0.8888888888888888,\"#fdca26\"],[1.0,\"#f0f921\"]],\"type\":\"histogram2d\"}],\"histogram2dcontour\":[{\"colorbar\":{\"outlinewidth\":0,\"ticks\":\"\"},\"colorscale\":[[0.0,\"#0d0887\"],[0.1111111111111111,\"#46039f\"],[0.2222222222222222,\"#7201a8\"],[0.3333333333333333,\"#9c179e\"],[0.4444444444444444,\"#bd3786\"],[0.5555555555555556,\"#d8576b\"],[0.6666666666666666,\"#ed7953\"],[0.7777777777777778,\"#fb9f3a\"],[0.8888888888888888,\"#fdca26\"],[1.0,\"#f0f921\"]],\"type\":\"histogram2dcontour\"}],\"mesh3d\":[{\"colorbar\":{\"outlinewidth\":0,\"ticks\":\"\"},\"type\":\"mesh3d\"}],\"parcoords\":[{\"line\":{\"colorbar\":{\"outlinewidth\":0,\"ticks\":\"\"}},\"type\":\"parcoords\"}],\"pie\":[{\"automargin\":true,\"type\":\"pie\"}],\"scatter\":[{\"marker\":{\"colorbar\":{\"outlinewidth\":0,\"ticks\":\"\"}},\"type\":\"scatter\"}],\"scatter3d\":[{\"line\":{\"colorbar\":{\"outlinewidth\":0,\"ticks\":\"\"}},\"marker\":{\"colorbar\":{\"outlinewidth\":0,\"ticks\":\"\"}},\"type\":\"scatter3d\"}],\"scattercarpet\":[{\"marker\":{\"colorbar\":{\"outlinewidth\":0,\"ticks\":\"\"}},\"type\":\"scattercarpet\"}],\"scattergeo\":[{\"marker\":{\"colorbar\":{\"outlinewidth\":0,\"ticks\":\"\"}},\"type\":\"scattergeo\"}],\"scattergl\":[{\"marker\":{\"colorbar\":{\"outlinewidth\":0,\"ticks\":\"\"}},\"type\":\"scattergl\"}],\"scattermapbox\":[{\"marker\":{\"colorbar\":{\"outlinewidth\":0,\"ticks\":\"\"}},\"type\":\"scattermapbox\"}],\"scatterpolar\":[{\"marker\":{\"colorbar\":{\"outlinewidth\":0,\"ticks\":\"\"}},\"type\":\"scatterpolar\"}],\"scatterpolargl\":[{\"marker\":{\"colorbar\":{\"outlinewidth\":0,\"ticks\":\"\"}},\"type\":\"scatterpolargl\"}],\"scatterternary\":[{\"marker\":{\"colorbar\":{\"outlinewidth\":0,\"ticks\":\"\"}},\"type\":\"scatterternary\"}],\"surface\":[{\"colorbar\":{\"outlinewidth\":0,\"ticks\":\"\"},\"colorscale\":[[0.0,\"#0d0887\"],[0.1111111111111111,\"#46039f\"],[0.2222222222222222,\"#7201a8\"],[0.3333333333333333,\"#9c179e\"],[0.4444444444444444,\"#bd3786\"],[0.5555555555555556,\"#d8576b\"],[0.6666666666666666,\"#ed7953\"],[0.7777777777777778,\"#fb9f3a\"],[0.8888888888888888,\"#fdca26\"],[1.0,\"#f0f921\"]],\"type\":\"surface\"}],\"table\":[{\"cells\":{\"fill\":{\"color\":\"#EBF0F8\"},\"line\":{\"color\":\"white\"}},\"header\":{\"fill\":{\"color\":\"#C8D4E3\"},\"line\":{\"color\":\"white\"}},\"type\":\"table\"}]},\"layout\":{\"annotationdefaults\":{\"arrowcolor\":\"#2a3f5f\",\"arrowhead\":0,\"arrowwidth\":1},\"autotypenumbers\":\"strict\",\"coloraxis\":{\"colorbar\":{\"outlinewidth\":0,\"ticks\":\"\"}},\"colorscale\":{\"diverging\":[[0,\"#8e0152\"],[0.1,\"#c51b7d\"],[0.2,\"#de77ae\"],[0.3,\"#f1b6da\"],[0.4,\"#fde0ef\"],[0.5,\"#f7f7f7\"],[0.6,\"#e6f5d0\"],[0.7,\"#b8e186\"],[0.8,\"#7fbc41\"],[0.9,\"#4d9221\"],[1,\"#276419\"]],\"sequential\":[[0.0,\"#0d0887\"],[0.1111111111111111,\"#46039f\"],[0.2222222222222222,\"#7201a8\"],[0.3333333333333333,\"#9c179e\"],[0.4444444444444444,\"#bd3786\"],[0.5555555555555556,\"#d8576b\"],[0.6666666666666666,\"#ed7953\"],[0.7777777777777778,\"#fb9f3a\"],[0.8888888888888888,\"#fdca26\"],[1.0,\"#f0f921\"]],\"sequentialminus\":[[0.0,\"#0d0887\"],[0.1111111111111111,\"#46039f\"],[0.2222222222222222,\"#7201a8\"],[0.3333333333333333,\"#9c179e\"],[0.4444444444444444,\"#bd3786\"],[0.5555555555555556,\"#d8576b\"],[0.6666666666666666,\"#ed7953\"],[0.7777777777777778,\"#fb9f3a\"],[0.8888888888888888,\"#fdca26\"],[1.0,\"#f0f921\"]]},\"colorway\":[\"#636efa\",\"#EF553B\",\"#00cc96\",\"#ab63fa\",\"#FFA15A\",\"#19d3f3\",\"#FF6692\",\"#B6E880\",\"#FF97FF\",\"#FECB52\"],\"font\":{\"color\":\"#2a3f5f\"},\"geo\":{\"bgcolor\":\"white\",\"lakecolor\":\"white\",\"landcolor\":\"#E5ECF6\",\"showlakes\":true,\"showland\":true,\"subunitcolor\":\"white\"},\"hoverlabel\":{\"align\":\"left\"},\"hovermode\":\"closest\",\"mapbox\":{\"style\":\"light\"},\"paper_bgcolor\":\"white\",\"plot_bgcolor\":\"#E5ECF6\",\"polar\":{\"angularaxis\":{\"gridcolor\":\"white\",\"linecolor\":\"white\",\"ticks\":\"\"},\"bgcolor\":\"#E5ECF6\",\"radialaxis\":{\"gridcolor\":\"white\",\"linecolor\":\"white\",\"ticks\":\"\"}},\"scene\":{\"xaxis\":{\"backgroundcolor\":\"#E5ECF6\",\"gridcolor\":\"white\",\"gridwidth\":2,\"linecolor\":\"white\",\"showbackground\":true,\"ticks\":\"\",\"zerolinecolor\":\"white\"},\"yaxis\":{\"backgroundcolor\":\"#E5ECF6\",\"gridcolor\":\"white\",\"gridwidth\":2,\"linecolor\":\"white\",\"showbackground\":true,\"ticks\":\"\",\"zerolinecolor\":\"white\"},\"zaxis\":{\"backgroundcolor\":\"#E5ECF6\",\"gridcolor\":\"white\",\"gridwidth\":2,\"linecolor\":\"white\",\"showbackground\":true,\"ticks\":\"\",\"zerolinecolor\":\"white\"}},\"shapedefaults\":{\"line\":{\"color\":\"#2a3f5f\"}},\"ternary\":{\"aaxis\":{\"gridcolor\":\"white\",\"linecolor\":\"white\",\"ticks\":\"\"},\"baxis\":{\"gridcolor\":\"white\",\"linecolor\":\"white\",\"ticks\":\"\"},\"bgcolor\":\"#E5ECF6\",\"caxis\":{\"gridcolor\":\"white\",\"linecolor\":\"white\",\"ticks\":\"\"}},\"title\":{\"x\":0.05},\"xaxis\":{\"automargin\":true,\"gridcolor\":\"white\",\"linecolor\":\"white\",\"ticks\":\"\",\"title\":{\"standoff\":15},\"zerolinecolor\":\"white\",\"zerolinewidth\":2},\"yaxis\":{\"automargin\":true,\"gridcolor\":\"white\",\"linecolor\":\"white\",\"ticks\":\"\",\"title\":{\"standoff\":15},\"zerolinecolor\":\"white\",\"zerolinewidth\":2}}},\"xaxis\":{\"anchor\":\"y\",\"domain\":[0.0,1.0],\"title\":{\"text\":\"mean\"}},\"yaxis\":{\"anchor\":\"x\",\"domain\":[0.0,1.0],\"title\":{\"text\":\"post\"}},\"legend\":{\"tracegroupgap\":0},\"margin\":{\"t\":60}},                        {\"responsive\": true}                    ).then(function(){\n",
              "                            \n",
              "var gd = document.getElementById('d5d50fc0-e143-4cca-b024-cdd523b4df25');\n",
              "var x = new MutationObserver(function (mutations, observer) {{\n",
              "        var display = window.getComputedStyle(gd).display;\n",
              "        if (!display || display === 'none') {{\n",
              "            console.log([gd, 'removed!']);\n",
              "            Plotly.purge(gd);\n",
              "            observer.disconnect();\n",
              "        }}\n",
              "}});\n",
              "\n",
              "// Listen for the removal of the full notebook cells\n",
              "var notebookContainer = gd.closest('#notebook-container');\n",
              "if (notebookContainer) {{\n",
              "    x.observe(notebookContainer, {childList: true});\n",
              "}}\n",
              "\n",
              "// Listen for the clearing of the current output cell\n",
              "var outputEl = gd.closest('.output');\n",
              "if (outputEl) {{\n",
              "    x.observe(outputEl, {childList: true});\n",
              "}}\n",
              "\n",
              "                        })                };                            </script>        </div>\n",
              "</body>\n",
              "</html>"
            ]
          },
          "metadata": {}
        }
      ],
      "execution_count": 75
    },
    {
      "cell_type": "markdown",
      "source": [
        "**Respuesta:**"
      ],
      "metadata": {
        "id": "szOjXLKA1Rif",
        "cell_id": "00033-eddd71de-b9a7-4779-924a-964c68603845",
        "deepnote_cell_type": "markdown",
        "deepnote_cell_height": 52.390625
      }
    },
    {
      "cell_type": "markdown",
      "source": [
        "No funciona el código dado."
      ],
      "metadata": {
        "id": "0F83QdD61Pd1",
        "cell_id": "00034-92ca5c7c-071c-4e99-9f17-dec033ed4c24",
        "deepnote_cell_type": "markdown",
        "deepnote_cell_height": 52.390625
      }
    },
    {
      "cell_type": "markdown",
      "source": [
        "<p align=\"center\">\n",
        "  <img src=\"https://media1.tenor.com/images/fb5bf7cc5a4acb91b4177672886a88ba/tenor.gif?itemid=5591338\">\n",
        "</p>"
      ],
      "metadata": {
        "id": "Rg4ZMq8ezAH6",
        "cell_id": "00035-93d50cd9-ff61-4aa8-ae41-e84009a3f64e",
        "deepnote_cell_type": "markdown",
        "deepnote_cell_height": 269
      }
    },
    {
      "cell_type": "markdown",
      "source": [
        "<a style='text-decoration:none;line-height:16px;display:flex;color:#5B5B62;padding:10px;justify-content:end;' href='https://deepnote.com?utm_source=created-in-deepnote-cell&projectId=87110296-876e-426f-b91d-aaf681223468' target=\"_blank\">\n",
        "<img alt='Created in deepnote.com' style='display:inline;max-height:16px;margin:0px;margin-right:7.5px;' src='data:image/svg+xml;base64,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' > </img>\n",
        "Created in <span style='font-weight:600;margin-left:4px;'>Deepnote</span></a>"
      ],
      "metadata": {
        "tags": [],
        "created_in_deepnote_cell": true,
        "deepnote_cell_type": "markdown",
        "id": "N66xV4GsLezC"
      }
    }
  ],
  "nbformat": 4,
  "nbformat_minor": 0,
  "metadata": {
    "colab": {
      "collapsed_sections": [],
      "name": "Laboratorio 9.ipynb",
      "provenance": []
    },
    "deepnote": {},
    "deepnote_execution_queue": [],
    "deepnote_notebook_id": "86c0ae4d-10d9-41be-9dc9-0e76fdf26f7b",
    "kernelspec": {
      "display_name": "Python 3 (ipykernel)",
      "language": "python",
      "name": "python3"
    },
    "language_info": {
      "codemirror_mode": {
        "name": "ipython",
        "version": 3
      },
      "file_extension": ".py",
      "mimetype": "text/x-python",
      "name": "python",
      "nbconvert_exporter": "python",
      "pygments_lexer": "ipython3",
      "version": "3.9.7"
    },
    "toc": {
      "base_numbering": 1,
      "nav_menu": {},
      "number_sections": true,
      "sideBar": true,
      "skip_h1_title": true,
      "title_cell": "Tabla de Contenidos",
      "title_sidebar": "Contenidos",
      "toc_cell": false,
      "toc_position": {
        "height": "calc(100% - 180px)",
        "left": "10px",
        "top": "150px",
        "width": "241.867px"
      },
      "toc_section_display": true,
      "toc_window_display": true
    },
    "varInspector": {
      "cols": {
        "lenName": 16,
        "lenType": 16,
        "lenVar": 40
      },
      "kernels_config": {
        "python": {
          "delete_cmd_postfix": "",
          "delete_cmd_prefix": "del ",
          "library": "var_list.py",
          "varRefreshCmd": "print(var_dic_list())"
        },
        "r": {
          "delete_cmd_postfix": ") ",
          "delete_cmd_prefix": "rm(",
          "library": "var_list.r",
          "varRefreshCmd": "cat(var_dic_list()) "
        }
      },
      "types_to_exclude": [
        "module",
        "function",
        "builtin_function_or_method",
        "instance",
        "_Feature"
      ],
      "window_display": false
    }
  }
}