{
  "cells": [
    {
      "cell_type": "markdown",
      "source": [
        "<h1><center>Laboratorio 7: Aprendizaje Supervisado 🔮</center></h1>\n",
        "\n",
        "<center><strong>MDS7202: Laboratorio de Programación Científica para Ciencia de Datos</strong></center>"
      ],
      "metadata": {
        "id": "XUZ1dFPHzAHl",
        "cell_id": "00000-73f3e32f-2ef2-4c8f-8a16-d0512209e3ca",
        "deepnote_cell_type": "markdown",
        "deepnote_cell_height": 103.43333435058594
      }
    },
    {
      "cell_type": "markdown",
      "source": [
        "### Cuerpo Docente:\n",
        "\n",
        "- Profesor: Pablo Badilla\n",
        "- Auxiliar: Ignacio Meza D.\n",
        "- Ayudante: Patricio Ortiz"
      ],
      "metadata": {
        "id": "UD8X1uhGzAHq",
        "cell_id": "00001-f0f6f193-27cb-4e14-8eb4-8192d12f7721",
        "deepnote_cell_type": "markdown",
        "deepnote_cell_height": 165.78334045410156
      }
    },
    {
      "cell_type": "markdown",
      "source": [
        "### Equipo: SUPER IMPORTANTE - notebooks sin nombre no serán revisados\n",
        "\n",
        "- Gonzalo Claro\n",
        "- Camilo Meneses\n"
      ],
      "metadata": {
        "id": "tXflExjqzAHr",
        "cell_id": "00002-cbc359e4-c6bf-4a18-b935-8b000e48c13d",
        "deepnote_cell_type": "markdown",
        "deepnote_cell_height": 139.86666870117188
      }
    },
    {
      "cell_type": "markdown",
      "source": [
        "### [Link de repositorio de GitHub](https://github.com/GonzaloClaro/evaluaciones_mds7202_grupo23)"
      ],
      "metadata": {
        "id": "AD-V0bbZzAHr",
        "cell_id": "00003-50e2b812-e515-42a0-b713-6dbfaa83c601",
        "deepnote_cell_type": "markdown",
        "deepnote_cell_height": 61.56666564941406
      }
    },
    {
      "cell_type": "markdown",
      "source": [
        "## Temas a tratar\n",
        "\n",
        "- Aprendizaje Supervisado\n",
        "- Flujos de datos a través de `Pipelines`.\n",
        "\n",
        "## Reglas\n",
        "\n",
        "- Fecha de entrega: TBD\n",
        "- **Grupos de 2 personas**\n",
        "- **Ausentes** deberán realizar la actividad solos. \n",
        "- Cualquier duda fuera del horario de clases al foro. Mensajes al equipo docente serán respondidos por este medio.\n",
        "- Prohibidas las copias. \n",
        "- Pueden usar cualquer matrial del curso que estimen conveniente.\n",
        "\n",
        "## Objetivos principales del laboratorio\n",
        "\n",
        "- Comprender el funcionamiento de clasificadores/regresores.\n",
        "- Generar múltiples modelos predictivos.\n",
        "- Comprender las ventajas de crear modelos en pipeline vs hacer las operaciones a mano.\n",
        "\n",
        "El laboratorio deberá ser desarrollado sin el uso indiscriminado de iteradores nativos de python (aka \"for\", \"while\"). La idea es que aprendan a exprimir al máximo las funciones optimizadas que nos entrega `pandas`, las cuales vale mencionar, son bastante más eficientes que los iteradores nativos sobre `DataFrames`."
      ],
      "metadata": {
        "id": "6uBLPj1PzAHs",
        "cell_id": "00005-119cf881-89af-4ccc-8bf7-2763d5eb0785",
        "deepnote_cell_type": "markdown",
        "deepnote_cell_height": 606.316650390625
      }
    },
    {
      "cell_type": "markdown",
      "source": [
        "### Importamos librerias utiles 😸"
      ],
      "metadata": {
        "id": "MhISwri4zAHy",
        "cell_id": "00006-d1bce751-1f1d-4470-8cbb-a77ba271ef39",
        "deepnote_cell_type": "markdown",
        "deepnote_cell_height": 61.03334045410156
      }
    },
    {
      "cell_type": "code",
      "metadata": {
        "ExecuteTime": {
          "end_time": "2021-03-29T00:08:16.884674Z",
          "start_time": "2021-03-29T00:08:16.349846Z"
        },
        "id": "uyc33dKdzAHy",
        "colab": {
          "base_uri": "https://localhost:8080/"
        },
        "outputId": "310e2814-76ac-4dbc-9ffe-232f5cbc83be",
        "deepnote_to_be_reexecuted": false,
        "source_hash": "cb3614e",
        "execution_start": 1636741163382,
        "execution_millis": 7630,
        "cell_id": "00007-e1ebdc56-4008-489c-85bc-b1ffb9cbbced",
        "deepnote_cell_type": "code",
        "deepnote_cell_height": 954.25
      },
      "source": [
        "# Libreria Core del lab.\n",
        "import numpy as np\n",
        "import pandas as pd\n",
        "from sklearn.pipeline import Pipeline\n",
        "from sklearn.compose import ColumnTransformer\n",
        "from sklearn.model_selection import train_test_split \n",
        "\n",
        "# Pre-procesamiento\n",
        "from sklearn.preprocessing import MinMaxScaler\n",
        "from sklearn.preprocessing import StandardScaler\n",
        "from sklearn.preprocessing import FunctionTransformer\n",
        "from sklearn.preprocessing import PowerTransformer\n",
        "from sklearn.preprocessing import OneHotEncoder\n",
        "from sklearn.tree import DecisionTreeClassifier\n",
        "\n",
        "# Metricas de evaluación\n",
        "from sklearn.metrics import classification_report\n",
        "from sklearn.metrics import accuracy_score\n",
        "from sklearn.metrics import f1_score\n",
        "from sklearn.metrics import cohen_kappa_score\n",
        "\n",
        "#Libreria para plotear\n",
        "!pip install --upgrade plotly\n",
        "import plotly.express as px\n",
        "from plotly.subplots import make_subplots\n",
        "import plotly.graph_objects as go\n",
        "\n",
        "# UMAP\n",
        "!pip install umap-learn"
      ],
      "execution_count": null,
      "outputs": [
        {
          "output_type": "stream",
          "name": "stdout",
          "text": [
            "Looking in indexes: https://pypi.org/simple, https://us-python.pkg.dev/colab-wheels/public/simple/\n",
            "Requirement already satisfied: plotly in /usr/local/lib/python3.7/dist-packages (5.5.0)\n",
            "Collecting plotly\n",
            "  Downloading plotly-5.8.2-py2.py3-none-any.whl (15.2 MB)\n",
            "\u001b[K     |████████████████████████████████| 15.2 MB 27.7 MB/s \n",
            "\u001b[?25hRequirement already satisfied: tenacity>=6.2.0 in /usr/local/lib/python3.7/dist-packages (from plotly) (8.0.1)\n",
            "Installing collected packages: plotly\n",
            "  Attempting uninstall: plotly\n",
            "    Found existing installation: plotly 5.5.0\n",
            "    Uninstalling plotly-5.5.0:\n",
            "      Successfully uninstalled plotly-5.5.0\n",
            "Successfully installed plotly-5.8.2\n",
            "Looking in indexes: https://pypi.org/simple, https://us-python.pkg.dev/colab-wheels/public/simple/\n",
            "Collecting umap-learn\n",
            "  Downloading umap-learn-0.5.3.tar.gz (88 kB)\n",
            "\u001b[K     |████████████████████████████████| 88 kB 5.5 MB/s \n",
            "\u001b[?25hRequirement already satisfied: numpy>=1.17 in /usr/local/lib/python3.7/dist-packages (from umap-learn) (1.21.6)\n",
            "Requirement already satisfied: scikit-learn>=0.22 in /usr/local/lib/python3.7/dist-packages (from umap-learn) (1.0.2)\n",
            "Requirement already satisfied: scipy>=1.0 in /usr/local/lib/python3.7/dist-packages (from umap-learn) (1.4.1)\n",
            "Requirement already satisfied: numba>=0.49 in /usr/local/lib/python3.7/dist-packages (from umap-learn) (0.51.2)\n",
            "Collecting pynndescent>=0.5\n",
            "  Downloading pynndescent-0.5.7.tar.gz (1.1 MB)\n",
            "\u001b[K     |████████████████████████████████| 1.1 MB 41.4 MB/s \n",
            "\u001b[?25hRequirement already satisfied: tqdm in /usr/local/lib/python3.7/dist-packages (from umap-learn) (4.64.0)\n",
            "Requirement already satisfied: setuptools in /usr/local/lib/python3.7/dist-packages (from numba>=0.49->umap-learn) (57.4.0)\n",
            "Requirement already satisfied: llvmlite<0.35,>=0.34.0.dev0 in /usr/local/lib/python3.7/dist-packages (from numba>=0.49->umap-learn) (0.34.0)\n",
            "Requirement already satisfied: joblib>=0.11 in /usr/local/lib/python3.7/dist-packages (from pynndescent>=0.5->umap-learn) (1.1.0)\n",
            "Requirement already satisfied: threadpoolctl>=2.0.0 in /usr/local/lib/python3.7/dist-packages (from scikit-learn>=0.22->umap-learn) (3.1.0)\n",
            "Building wheels for collected packages: umap-learn, pynndescent\n",
            "  Building wheel for umap-learn (setup.py) ... \u001b[?25l\u001b[?25hdone\n",
            "  Created wheel for umap-learn: filename=umap_learn-0.5.3-py3-none-any.whl size=82829 sha256=985fa8e3cb2ee710464dd7f5847f019e0c46f6ea586321d39bb590d2059c5d0a\n",
            "  Stored in directory: /root/.cache/pip/wheels/b3/52/a5/1fd9e3e76a7ab34f134c07469cd6f16e27ef3a37aeff1fe821\n",
            "  Building wheel for pynndescent (setup.py) ... \u001b[?25l\u001b[?25hdone\n",
            "  Created wheel for pynndescent: filename=pynndescent-0.5.7-py3-none-any.whl size=54286 sha256=c3bb002ba70c21daa63e206f098c1148def8ca25bf4c506048e055cd6af0bb7c\n",
            "  Stored in directory: /root/.cache/pip/wheels/7f/2a/f8/7bd5dcec71bd5c669f6f574db3113513696b98f3f9b51f496c\n",
            "Successfully built umap-learn pynndescent\n",
            "Installing collected packages: pynndescent, umap-learn\n",
            "Successfully installed pynndescent-0.5.7 umap-learn-0.5.3\n"
          ]
        }
      ]
    },
    {
      "cell_type": "markdown",
      "source": [
        "https://www.kaggle.com/antoinekrajnc/soccer-players-statistics"
      ],
      "metadata": {
        "id": "5FTGE74b3FBU",
        "cell_id": "00008-7877e530-5ed5-483e-af0a-4fd26434d7dc",
        "deepnote_cell_type": "markdown",
        "deepnote_cell_height": 51.43333435058594
      }
    },
    {
      "cell_type": "markdown",
      "source": [
        "# 1. Predicciones Futboleras\n",
        "\n",
        "<p align=\"center\">\n",
        "  <img src=\"https://drive.google.com/uc?export=view&id=1BnO4tyh3vM2P199Ec9s3JjngQ4qQ9seP\"\n",
        "\" width=\"300\">\n",
        "</p>\n",
        "\n",
        "\n",
        "Tras el trágico despido de la mítica mascota de Maipú, Renacín decide adentrarse como consultor en el mercado futbolero, el cuál (para variar...) está cargado en especulaciones. \n",
        "\n",
        "Como su principal tarea será asesorar a los directivos de los clubes sobre cuál jugador comprar y cuál no, Renacín desea generar modelos predictivos que evaluén distintas características de los jugadores; todo con el fin de tomar decisiones concretas basadas en los datos.\n",
        "\n",
        "Sin embargo, su condición de corporeo le impidió tomar la versión anterior de MDS7202, por lo que este motivo Renacín contrata a su equipo para lograr su objetivo final. Dado que aún tiene fuertes vínculos con la dirección de deportes de la municipalidad, el corporeo le entrega base de datos con las estadísticas de cada jugador para que su equipo empieze a trabajar ya con un dataset listo para ser usado.\n"
      ],
      "metadata": {
        "id": "xpOTbQcxbSiy",
        "cell_id": "00009-2d8a21b8-a5ac-41ee-9a17-15c179c9b666",
        "deepnote_cell_type": "markdown",
        "deepnote_cell_height": 645.0166625976562
      }
    },
    {
      "cell_type": "markdown",
      "source": [
        "**Los Datos**\n",
        "\n",
        "Para este laboratorio deberán trabajar con los csv `statsplayers.csv` y `salarios.pickle`, donde deberán aplicar algoritmos de de aprendizaje supervisado (clasificación y regresión) en base a características que describen de jugadores de futbol.\n",
        "\n",
        "Para comenzar cargue el dataset señalado y a continuación vea el reporte **`Player_Stats_Report.html`** (adjunto en la carpeta del enunciado) que describe las características principales del `DataFrame`."
      ],
      "metadata": {
        "id": "jnmZfFpxTTYX",
        "cell_id": "00010-6b2847d4-5b92-44b7-9ce0-c6b6779ac157",
        "deepnote_cell_type": "markdown",
        "deepnote_cell_height": 169.03334045410156
      }
    },
    {
      "cell_type": "code",
      "metadata": {
        "colab": {
          "base_uri": "https://localhost:8080/"
        },
        "id": "Jqq-s010Iwl1",
        "outputId": "9d3472ef-f3f5-4bf9-d06d-7872c85e1151",
        "deepnote_to_be_reexecuted": false,
        "source_hash": "c60dc4a7",
        "execution_start": 1636741171022,
        "execution_millis": 7,
        "cell_id": "00011-41e0cc7d-f280-4fd4-9186-b97a9c9f2245",
        "deepnote_cell_type": "code",
        "deepnote_cell_height": 218.53334045410156
      },
      "source": [
        "# Si usted está utilizando Colabolatory le puede ser útil este código para cargar los archivos.\n",
        "try:\n",
        "    from google.colab import drive\n",
        "    drive.mount(\"/content/drive\")\n",
        "    path = '/content/drive/Othercomputers/Camilo!/Universidad/Laboratorio de Programación Científica para Ciencia de Datos/Laboratorios/Laboratorio 7/Archivos/'\n",
        "except: \n",
        "    print('Ignorando conexión drive-colab')"
      ],
      "execution_count": null,
      "outputs": [
        {
          "output_type": "stream",
          "name": "stdout",
          "text": [
            "Drive already mounted at /content/drive; to attempt to forcibly remount, call drive.mount(\"/content/drive\", force_remount=True).\n"
          ]
        }
      ]
    },
    {
      "cell_type": "code",
      "metadata": {
        "id": "bED3w3tDbSCf",
        "colab": {
          "base_uri": "https://localhost:8080/",
          "height": 661
        },
        "outputId": "b7de50d7-75df-4862-dbac-96fe3606eb9c",
        "deepnote_to_be_reexecuted": false,
        "source_hash": "65944a94",
        "execution_start": 1636742947300,
        "execution_millis": 184,
        "cell_id": "00012-64bcb839-4478-423e-9bd1-cdb81eefc97e",
        "deepnote_cell_type": "code",
        "deepnote_cell_height": 489.54998779296875,
        "deepnote_output_heights": [
          376
        ]
      },
      "source": [
        "df_players = pd.read_csv(path+'stats_players.csv')\n",
        "df_players"
      ],
      "execution_count": null,
      "outputs": [
        {
          "output_type": "execute_result",
          "data": {
            "text/plain": [
              "                    Name          Nationality National_Position Club_Position  \\\n",
              "0      Cristiano Ronaldo             Portugal                LS            LW   \n",
              "1           Lionel Messi            Argentina                RW            RW   \n",
              "2                 Neymar               Brazil                LW            LW   \n",
              "3            Luis Suárez              Uruguay                LS            ST   \n",
              "4           Manuel Neuer              Germany                GK            GK   \n",
              "...                  ...                  ...               ...           ...   \n",
              "17583        Adam Dunbar  Republic of Ireland               NaN           Sub   \n",
              "17584       Dylan McGoey  Republic of Ireland               NaN           Sub   \n",
              "17585    Tommy Ouldridge              England               NaN           Res   \n",
              "17586         Mark Foden             Scotland               NaN           Sub   \n",
              "17587   Barry Richardson              England               NaN           Sub   \n",
              "\n",
              "       Height  Weight Preffered_Foot  Age        Work_Rate  Weak_foot  ...  \\\n",
              "0         185      80          Right   32       High / Low          4  ...   \n",
              "1         170      72           Left   29  Medium / Medium          4  ...   \n",
              "2         174      68          Right   25    High / Medium          5  ...   \n",
              "3         182      85          Right   30    High / Medium          4  ...   \n",
              "4         193      92          Right   31  Medium / Medium          4  ...   \n",
              "...       ...     ...            ...  ...              ...        ...  ...   \n",
              "17583     183      82          Right   19  Medium / Medium          1  ...   \n",
              "17584     185      80          Right   19  Medium / Medium          2  ...   \n",
              "17585     173      61          Right   18    High / Medium          2  ...   \n",
              "17586     180      80          Right   21  Medium / Medium          3  ...   \n",
              "17587     185      77          Right   47  Medium / Medium          2  ...   \n",
              "\n",
              "       Agility  Jumping  Heading  Shot_Power  Finishing  Long_Shots  Curve  \\\n",
              "0           90       95       85          92         93          90     81   \n",
              "1           90       68       71          85         95          88     89   \n",
              "2           96       61       62          78         89          77     79   \n",
              "3           86       69       77          87         94          86     86   \n",
              "4           52       78       25          25         13          16     14   \n",
              "...        ...      ...      ...         ...        ...         ...    ...   \n",
              "17583       27       56       14          16         13          13     11   \n",
              "17584       28       53       12          17         12          11     12   \n",
              "17585       54       61       41          44         28          42     35   \n",
              "17586       34       48       15          23         14          12     13   \n",
              "17587       38       51       12          13         11          16     12   \n",
              "\n",
              "       Freekick_Accuracy  Penalties  Volleys  \n",
              "0                     76         85       88  \n",
              "1                     90         74       85  \n",
              "2                     84         81       83  \n",
              "3                     84         85       88  \n",
              "4                     11         47       11  \n",
              "...                  ...        ...      ...  \n",
              "17583                 13         15       12  \n",
              "17584                 13         16       12  \n",
              "17585                 36         42       37  \n",
              "17586                 12         24       12  \n",
              "17587                 11         22       12  \n",
              "\n",
              "[17588 rows x 39 columns]"
            ],
            "text/html": [
              "\n",
              "  <div id=\"df-5c70b325-2c2d-4fe0-885b-b602ec6ba20b\">\n",
              "    <div class=\"colab-df-container\">\n",
              "      <div>\n",
              "<style scoped>\n",
              "    .dataframe tbody tr th:only-of-type {\n",
              "        vertical-align: middle;\n",
              "    }\n",
              "\n",
              "    .dataframe tbody tr th {\n",
              "        vertical-align: top;\n",
              "    }\n",
              "\n",
              "    .dataframe thead th {\n",
              "        text-align: right;\n",
              "    }\n",
              "</style>\n",
              "<table border=\"1\" class=\"dataframe\">\n",
              "  <thead>\n",
              "    <tr style=\"text-align: right;\">\n",
              "      <th></th>\n",
              "      <th>Name</th>\n",
              "      <th>Nationality</th>\n",
              "      <th>National_Position</th>\n",
              "      <th>Club_Position</th>\n",
              "      <th>Height</th>\n",
              "      <th>Weight</th>\n",
              "      <th>Preffered_Foot</th>\n",
              "      <th>Age</th>\n",
              "      <th>Work_Rate</th>\n",
              "      <th>Weak_foot</th>\n",
              "      <th>...</th>\n",
              "      <th>Agility</th>\n",
              "      <th>Jumping</th>\n",
              "      <th>Heading</th>\n",
              "      <th>Shot_Power</th>\n",
              "      <th>Finishing</th>\n",
              "      <th>Long_Shots</th>\n",
              "      <th>Curve</th>\n",
              "      <th>Freekick_Accuracy</th>\n",
              "      <th>Penalties</th>\n",
              "      <th>Volleys</th>\n",
              "    </tr>\n",
              "  </thead>\n",
              "  <tbody>\n",
              "    <tr>\n",
              "      <th>0</th>\n",
              "      <td>Cristiano Ronaldo</td>\n",
              "      <td>Portugal</td>\n",
              "      <td>LS</td>\n",
              "      <td>LW</td>\n",
              "      <td>185</td>\n",
              "      <td>80</td>\n",
              "      <td>Right</td>\n",
              "      <td>32</td>\n",
              "      <td>High / Low</td>\n",
              "      <td>4</td>\n",
              "      <td>...</td>\n",
              "      <td>90</td>\n",
              "      <td>95</td>\n",
              "      <td>85</td>\n",
              "      <td>92</td>\n",
              "      <td>93</td>\n",
              "      <td>90</td>\n",
              "      <td>81</td>\n",
              "      <td>76</td>\n",
              "      <td>85</td>\n",
              "      <td>88</td>\n",
              "    </tr>\n",
              "    <tr>\n",
              "      <th>1</th>\n",
              "      <td>Lionel Messi</td>\n",
              "      <td>Argentina</td>\n",
              "      <td>RW</td>\n",
              "      <td>RW</td>\n",
              "      <td>170</td>\n",
              "      <td>72</td>\n",
              "      <td>Left</td>\n",
              "      <td>29</td>\n",
              "      <td>Medium / Medium</td>\n",
              "      <td>4</td>\n",
              "      <td>...</td>\n",
              "      <td>90</td>\n",
              "      <td>68</td>\n",
              "      <td>71</td>\n",
              "      <td>85</td>\n",
              "      <td>95</td>\n",
              "      <td>88</td>\n",
              "      <td>89</td>\n",
              "      <td>90</td>\n",
              "      <td>74</td>\n",
              "      <td>85</td>\n",
              "    </tr>\n",
              "    <tr>\n",
              "      <th>2</th>\n",
              "      <td>Neymar</td>\n",
              "      <td>Brazil</td>\n",
              "      <td>LW</td>\n",
              "      <td>LW</td>\n",
              "      <td>174</td>\n",
              "      <td>68</td>\n",
              "      <td>Right</td>\n",
              "      <td>25</td>\n",
              "      <td>High / Medium</td>\n",
              "      <td>5</td>\n",
              "      <td>...</td>\n",
              "      <td>96</td>\n",
              "      <td>61</td>\n",
              "      <td>62</td>\n",
              "      <td>78</td>\n",
              "      <td>89</td>\n",
              "      <td>77</td>\n",
              "      <td>79</td>\n",
              "      <td>84</td>\n",
              "      <td>81</td>\n",
              "      <td>83</td>\n",
              "    </tr>\n",
              "    <tr>\n",
              "      <th>3</th>\n",
              "      <td>Luis Suárez</td>\n",
              "      <td>Uruguay</td>\n",
              "      <td>LS</td>\n",
              "      <td>ST</td>\n",
              "      <td>182</td>\n",
              "      <td>85</td>\n",
              "      <td>Right</td>\n",
              "      <td>30</td>\n",
              "      <td>High / Medium</td>\n",
              "      <td>4</td>\n",
              "      <td>...</td>\n",
              "      <td>86</td>\n",
              "      <td>69</td>\n",
              "      <td>77</td>\n",
              "      <td>87</td>\n",
              "      <td>94</td>\n",
              "      <td>86</td>\n",
              "      <td>86</td>\n",
              "      <td>84</td>\n",
              "      <td>85</td>\n",
              "      <td>88</td>\n",
              "    </tr>\n",
              "    <tr>\n",
              "      <th>4</th>\n",
              "      <td>Manuel Neuer</td>\n",
              "      <td>Germany</td>\n",
              "      <td>GK</td>\n",
              "      <td>GK</td>\n",
              "      <td>193</td>\n",
              "      <td>92</td>\n",
              "      <td>Right</td>\n",
              "      <td>31</td>\n",
              "      <td>Medium / Medium</td>\n",
              "      <td>4</td>\n",
              "      <td>...</td>\n",
              "      <td>52</td>\n",
              "      <td>78</td>\n",
              "      <td>25</td>\n",
              "      <td>25</td>\n",
              "      <td>13</td>\n",
              "      <td>16</td>\n",
              "      <td>14</td>\n",
              "      <td>11</td>\n",
              "      <td>47</td>\n",
              "      <td>11</td>\n",
              "    </tr>\n",
              "    <tr>\n",
              "      <th>...</th>\n",
              "      <td>...</td>\n",
              "      <td>...</td>\n",
              "      <td>...</td>\n",
              "      <td>...</td>\n",
              "      <td>...</td>\n",
              "      <td>...</td>\n",
              "      <td>...</td>\n",
              "      <td>...</td>\n",
              "      <td>...</td>\n",
              "      <td>...</td>\n",
              "      <td>...</td>\n",
              "      <td>...</td>\n",
              "      <td>...</td>\n",
              "      <td>...</td>\n",
              "      <td>...</td>\n",
              "      <td>...</td>\n",
              "      <td>...</td>\n",
              "      <td>...</td>\n",
              "      <td>...</td>\n",
              "      <td>...</td>\n",
              "      <td>...</td>\n",
              "    </tr>\n",
              "    <tr>\n",
              "      <th>17583</th>\n",
              "      <td>Adam Dunbar</td>\n",
              "      <td>Republic of Ireland</td>\n",
              "      <td>NaN</td>\n",
              "      <td>Sub</td>\n",
              "      <td>183</td>\n",
              "      <td>82</td>\n",
              "      <td>Right</td>\n",
              "      <td>19</td>\n",
              "      <td>Medium / Medium</td>\n",
              "      <td>1</td>\n",
              "      <td>...</td>\n",
              "      <td>27</td>\n",
              "      <td>56</td>\n",
              "      <td>14</td>\n",
              "      <td>16</td>\n",
              "      <td>13</td>\n",
              "      <td>13</td>\n",
              "      <td>11</td>\n",
              "      <td>13</td>\n",
              "      <td>15</td>\n",
              "      <td>12</td>\n",
              "    </tr>\n",
              "    <tr>\n",
              "      <th>17584</th>\n",
              "      <td>Dylan McGoey</td>\n",
              "      <td>Republic of Ireland</td>\n",
              "      <td>NaN</td>\n",
              "      <td>Sub</td>\n",
              "      <td>185</td>\n",
              "      <td>80</td>\n",
              "      <td>Right</td>\n",
              "      <td>19</td>\n",
              "      <td>Medium / Medium</td>\n",
              "      <td>2</td>\n",
              "      <td>...</td>\n",
              "      <td>28</td>\n",
              "      <td>53</td>\n",
              "      <td>12</td>\n",
              "      <td>17</td>\n",
              "      <td>12</td>\n",
              "      <td>11</td>\n",
              "      <td>12</td>\n",
              "      <td>13</td>\n",
              "      <td>16</td>\n",
              "      <td>12</td>\n",
              "    </tr>\n",
              "    <tr>\n",
              "      <th>17585</th>\n",
              "      <td>Tommy Ouldridge</td>\n",
              "      <td>England</td>\n",
              "      <td>NaN</td>\n",
              "      <td>Res</td>\n",
              "      <td>173</td>\n",
              "      <td>61</td>\n",
              "      <td>Right</td>\n",
              "      <td>18</td>\n",
              "      <td>High / Medium</td>\n",
              "      <td>2</td>\n",
              "      <td>...</td>\n",
              "      <td>54</td>\n",
              "      <td>61</td>\n",
              "      <td>41</td>\n",
              "      <td>44</td>\n",
              "      <td>28</td>\n",
              "      <td>42</td>\n",
              "      <td>35</td>\n",
              "      <td>36</td>\n",
              "      <td>42</td>\n",
              "      <td>37</td>\n",
              "    </tr>\n",
              "    <tr>\n",
              "      <th>17586</th>\n",
              "      <td>Mark Foden</td>\n",
              "      <td>Scotland</td>\n",
              "      <td>NaN</td>\n",
              "      <td>Sub</td>\n",
              "      <td>180</td>\n",
              "      <td>80</td>\n",
              "      <td>Right</td>\n",
              "      <td>21</td>\n",
              "      <td>Medium / Medium</td>\n",
              "      <td>3</td>\n",
              "      <td>...</td>\n",
              "      <td>34</td>\n",
              "      <td>48</td>\n",
              "      <td>15</td>\n",
              "      <td>23</td>\n",
              "      <td>14</td>\n",
              "      <td>12</td>\n",
              "      <td>13</td>\n",
              "      <td>12</td>\n",
              "      <td>24</td>\n",
              "      <td>12</td>\n",
              "    </tr>\n",
              "    <tr>\n",
              "      <th>17587</th>\n",
              "      <td>Barry Richardson</td>\n",
              "      <td>England</td>\n",
              "      <td>NaN</td>\n",
              "      <td>Sub</td>\n",
              "      <td>185</td>\n",
              "      <td>77</td>\n",
              "      <td>Right</td>\n",
              "      <td>47</td>\n",
              "      <td>Medium / Medium</td>\n",
              "      <td>2</td>\n",
              "      <td>...</td>\n",
              "      <td>38</td>\n",
              "      <td>51</td>\n",
              "      <td>12</td>\n",
              "      <td>13</td>\n",
              "      <td>11</td>\n",
              "      <td>16</td>\n",
              "      <td>12</td>\n",
              "      <td>11</td>\n",
              "      <td>22</td>\n",
              "      <td>12</td>\n",
              "    </tr>\n",
              "  </tbody>\n",
              "</table>\n",
              "<p>17588 rows × 39 columns</p>\n",
              "</div>\n",
              "      <button class=\"colab-df-convert\" onclick=\"convertToInteractive('df-5c70b325-2c2d-4fe0-885b-b602ec6ba20b')\"\n",
              "              title=\"Convert this dataframe to an interactive table.\"\n",
              "              style=\"display:none;\">\n",
              "        \n",
              "  <svg xmlns=\"http://www.w3.org/2000/svg\" height=\"24px\"viewBox=\"0 0 24 24\"\n",
              "       width=\"24px\">\n",
              "    <path d=\"M0 0h24v24H0V0z\" fill=\"none\"/>\n",
              "    <path d=\"M18.56 5.44l.94 2.06.94-2.06 2.06-.94-2.06-.94-.94-2.06-.94 2.06-2.06.94zm-11 1L8.5 8.5l.94-2.06 2.06-.94-2.06-.94L8.5 2.5l-.94 2.06-2.06.94zm10 10l.94 2.06.94-2.06 2.06-.94-2.06-.94-.94-2.06-.94 2.06-2.06.94z\"/><path d=\"M17.41 7.96l-1.37-1.37c-.4-.4-.92-.59-1.43-.59-.52 0-1.04.2-1.43.59L10.3 9.45l-7.72 7.72c-.78.78-.78 2.05 0 2.83L4 21.41c.39.39.9.59 1.41.59.51 0 1.02-.2 1.41-.59l7.78-7.78 2.81-2.81c.8-.78.8-2.07 0-2.86zM5.41 20L4 18.59l7.72-7.72 1.47 1.35L5.41 20z\"/>\n",
              "  </svg>\n",
              "      </button>\n",
              "      \n",
              "  <style>\n",
              "    .colab-df-container {\n",
              "      display:flex;\n",
              "      flex-wrap:wrap;\n",
              "      gap: 12px;\n",
              "    }\n",
              "\n",
              "    .colab-df-convert {\n",
              "      background-color: #E8F0FE;\n",
              "      border: none;\n",
              "      border-radius: 50%;\n",
              "      cursor: pointer;\n",
              "      display: none;\n",
              "      fill: #1967D2;\n",
              "      height: 32px;\n",
              "      padding: 0 0 0 0;\n",
              "      width: 32px;\n",
              "    }\n",
              "\n",
              "    .colab-df-convert:hover {\n",
              "      background-color: #E2EBFA;\n",
              "      box-shadow: 0px 1px 2px rgba(60, 64, 67, 0.3), 0px 1px 3px 1px rgba(60, 64, 67, 0.15);\n",
              "      fill: #174EA6;\n",
              "    }\n",
              "\n",
              "    [theme=dark] .colab-df-convert {\n",
              "      background-color: #3B4455;\n",
              "      fill: #D2E3FC;\n",
              "    }\n",
              "\n",
              "    [theme=dark] .colab-df-convert:hover {\n",
              "      background-color: #434B5C;\n",
              "      box-shadow: 0px 1px 3px 1px rgba(0, 0, 0, 0.15);\n",
              "      filter: drop-shadow(0px 1px 2px rgba(0, 0, 0, 0.3));\n",
              "      fill: #FFFFFF;\n",
              "    }\n",
              "  </style>\n",
              "\n",
              "      <script>\n",
              "        const buttonEl =\n",
              "          document.querySelector('#df-5c70b325-2c2d-4fe0-885b-b602ec6ba20b button.colab-df-convert');\n",
              "        buttonEl.style.display =\n",
              "          google.colab.kernel.accessAllowed ? 'block' : 'none';\n",
              "\n",
              "        async function convertToInteractive(key) {\n",
              "          const element = document.querySelector('#df-5c70b325-2c2d-4fe0-885b-b602ec6ba20b');\n",
              "          const dataTable =\n",
              "            await google.colab.kernel.invokeFunction('convertToInteractive',\n",
              "                                                     [key], {});\n",
              "          if (!dataTable) return;\n",
              "\n",
              "          const docLinkHtml = 'Like what you see? Visit the ' +\n",
              "            '<a target=\"_blank\" href=https://colab.research.google.com/notebooks/data_table.ipynb>data table notebook</a>'\n",
              "            + ' to learn more about interactive tables.';\n",
              "          element.innerHTML = '';\n",
              "          dataTable['output_type'] = 'display_data';\n",
              "          await google.colab.output.renderOutput(dataTable, element);\n",
              "          const docLink = document.createElement('div');\n",
              "          docLink.innerHTML = docLinkHtml;\n",
              "          element.appendChild(docLink);\n",
              "        }\n",
              "      </script>\n",
              "    </div>\n",
              "  </div>\n",
              "  "
            ]
          },
          "metadata": {},
          "execution_count": 5
        }
      ]
    },
    {
      "cell_type": "markdown",
      "source": [
        "## 1.1 Predicción de Seleccionados Nacionales \n",
        "\n",
        "Como primera tarea, Renacín, intrigado por la posibilidad de saber qué tan reconocido es un jugador, le consulta a su equipo si es posible predecir si un jugador será o no seleccionado nacional a partir de sus estadísticas en el juego. \n",
        "\n",
        "<p align=\"center\">\n",
        "  <img src=\"https://thumbs.gfycat.com/ThornyFrankFoxhound-size_restricted.gif\" width=\"500\">\n",
        "</p>"
      ],
      "metadata": {
        "id": "2R3b7Qe501t5",
        "cell_id": "00013-1b1d1556-4dbe-499e-8a34-90748e76565e",
        "deepnote_cell_type": "markdown",
        "deepnote_cell_height": 169.8333282470703
      }
    },
    {
      "cell_type": "markdown",
      "source": [
        "### 1.1.1 Generación de Labels para la Clasificación [Sin Puntaje]\n",
        "\n",
        "\n",
        "Primero comience generando las labels para la clasificación. Para esto, trabaje sobre el atributo ```National_Position``` suponiendo que los valores nulos son jugadores no seleccionados para representar a su país. \n",
        "\n",
        "Hecho esto, ¿Cuantos ejemplos por cada clase se tienen? Comente lo que observa.\n",
        "\n"
      ],
      "metadata": {
        "id": "PIe_Ha58pQRC",
        "cell_id": "00014-33fe54d0-08a3-457a-932d-d07eb29b7ee3",
        "deepnote_cell_type": "markdown",
        "deepnote_cell_height": 158.23333740234375
      }
    },
    {
      "cell_type": "markdown",
      "source": [
        "**Respuesta:**"
      ],
      "metadata": {
        "tags": [],
        "cell_id": "00015-f7029512-357f-4f07-9897-aaf5d65430a6",
        "deepnote_cell_type": "markdown",
        "deepnote_cell_height": 51.43333435058594,
        "id": "4kwXzap_fn2u"
      }
    },
    {
      "cell_type": "code",
      "metadata": {
        "id": "uwKaIuho4lqn",
        "deepnote_to_be_reexecuted": false,
        "source_hash": "43ce1981",
        "execution_start": 1636741171250,
        "execution_millis": 3,
        "cell_id": "00016-ea27a011-47ab-4d54-b2cf-f07037d65135",
        "deepnote_cell_type": "code",
        "deepnote_cell_height": 80.03334045410156,
        "colab": {
          "base_uri": "https://localhost:8080/"
        },
        "outputId": "8b3d207c-fe54-47b9-87fc-1fc5e24dfc64"
      },
      "source": [
        "df_players.loc[df_players['National_Position'].isna(),'labels'] = 0\n",
        "df_players.loc[df_players['labels'].isna(),'labels'] = 1\n",
        "\n",
        "df_players['labels'].value_counts()"
      ],
      "execution_count": null,
      "outputs": [
        {
          "output_type": "execute_result",
          "data": {
            "text/plain": [
              "0.0    16513\n",
              "1.0     1075\n",
              "Name: labels, dtype: int64"
            ]
          },
          "metadata": {},
          "execution_count": 21
        }
      ]
    },
    {
      "cell_type": "markdown",
      "source": [
        "Se tiene que la gran mayoría (aprox 94%) de los jugadores no tienen posiciones en sus selecciones, es decir, no son convocados en ella."
      ],
      "metadata": {
        "id": "pwd1TeFl9Q-v"
      }
    },
    {
      "cell_type": "markdown",
      "source": [
        "### 1.1.2 Camino a la clasificación [1 punto]\n",
        "\n",
        "<p align=\"center\">\n",
        "  <img src=\"https://c.tenor.com/SoXZJHWnhKAAAAAC/pitbull-medel.gif\" width=\"500\">\n",
        "</p>\n",
        "\n",
        "Para preprocesar el dataset, genere un `ColumnTransformer` en donde especifique las transformaciones que hay que realizar para cada columna (por ejemplo StandarScaler, MinMaxScaler, OneHotEncoder, etc...) para que puedan ser utilizadas correctamente por el modelo predictivo y guardelo en algúna variable.\n",
        "\n",
        "Luego, comente y justifique las transformaciones elegidas sobre cada una de las variables (para esto utilice el material ```Player_Stats_Report.html``` que viene en el zip del lab), al igual que las transformaciones aplicadas.\n",
        "\n",
        "Hecho lo anterior, **defina al menos 3 pipelines para la clasificación**, en donde utilice el mismo ColumnTransformer definido anteriormente, pero que varie entre cada pipeline los clasificadores. \n",
        "\n",
        "Para seleccionar los clasificadores más adecuados, utilice la siguiente guía:\n",
        "\n",
        "<p align=\"center\">\n",
        "  <img src=\"https://scikit-learn.org/stable/_static/ml_map.png\" width=\"500\">\n",
        "</p>\n",
        "\n",
        "<br/>\n",
        "\n",
        "Con ella, comente y justifique cada una de las decisiones tomadas al momento de desarrollar su pipeline.\n",
        "\n",
        "**Nota:** Si tiene problemas al utilizar OneHotEncoder puede utilizar el parámetro handle_unknown='ignore'. Esto hace que en la codificación se omitan las categorias que no aparecen en el entrenamiento. Pregunta dudosa (no tiene puntaje), ¿esto tiene sentido a nivel de modelos?.\n",
        "\n",
        "**To-Do:**\n",
        "\n",
        "- [ ] Genere un ```ColumnTransformer``` enfocado en preprocesar los datos.\n",
        "- [ ] Indicar y Justificar que preprocesamiento utiliza sobre cada columna.\n",
        "- [ ] Crear 3 ``pipelines`` con diferentes clasificadores.\n",
        "- [ ] Para seleccionar los clasificadores base sus decisiones en la siguiente [guía](https://scikit-learn.org/stable/tutorial/machine_learning_map/index.html)\n",
        "- [ ] No entrenar los ``pipelines`` aún.\n",
        "\n",
        "**Nota:** No es necesario entrenar los clasificadores aún."
      ],
      "metadata": {
        "id": "0F70XPRFpWH9",
        "cell_id": "00019-645127af-999a-40ce-b7a1-aa62bb742b4a",
        "owner_user_id": "badcc427-fd3d-4615-9296-faa43ec69cfb",
        "deepnote_cell_type": "markdown",
        "deepnote_cell_height": 1393.3499755859375
      }
    },
    {
      "cell_type": "markdown",
      "source": [
        "**Respuesta:**"
      ],
      "metadata": {
        "tags": [],
        "cell_id": "00020-4620fe7d-8e00-4c8b-976f-4212347359e6",
        "deepnote_cell_type": "markdown",
        "deepnote_cell_height": 51.43333435058594,
        "id": "slLTx4wHfn2v"
      }
    },
    {
      "cell_type": "code",
      "source": [
        "preprocessing = ColumnTransformer(\n",
        "    transformers=[\n",
        "        ('OneHotEncoder', OneHotEncoder(sparse=False, handle_unknown=\"ignore\"),  ['Nationality','Club_Position','Preffered_Foot',\n",
        "                                                                                  'Work_Rate','Weak_foot','Skill_Moves']),\n",
        "        (\"MinMaxScaler\",MinMaxScaler(),[\"Ball_Control\",\"Dribbling\",\"Marking\",\"Sliding_Tackle\",\"Standing_Tackle\",\"Interceptions\",\"Crossing\",\n",
        "                                        \"Short_Pass\",\"Long_Pass\",\"Stamina\",\"Heading\",\"Shot_Power\",\"Curve\",\"Freekick_Accuracy\",\"Long_Shots\"]),\n",
        "        ('StandardScaler', StandardScaler(),[\"Weight\",\"Height\",\"Aggression\",\"Reactions\",\"Vision\",\"Composure\",\"Acceleration\",\"Speed\",\n",
        "                                             \"Balance\",\"Strength\",\"Agility\",\"Jumping\",\"Finishing\",\"Volleys\",\"Penalties\"])\n",
        "        ])\n"
      ],
      "metadata": {
        "id": "iwHxnxGVCthI"
      },
      "execution_count": null,
      "outputs": []
    },
    {
      "cell_type": "markdown",
      "source": [
        "Para las variables categoricas se utiliza one-hot encoder. A su vez, para las variables numéricas que distribuyen como normales se utiliza StandardScaler y para el resto de variables numéricas se utiliza MinMaxScaler."
      ],
      "metadata": {
        "id": "It0SICkcKZVO"
      }
    },
    {
      "cell_type": "code",
      "source": [
        "from sklearn.svm import LinearSVC\n",
        "from sklearn.svm import SVC\n",
        "from sklearn.neighbors import KNeighborsClassifier\n",
        "\n",
        "pipeline_linear_SVC = Pipeline([(\"preprocessing\", preprocessing),(\"linear_SVC\", LinearSVC())])\n",
        "\n",
        "pipeline_SVC = Pipeline([(\"preprocessing\", preprocessing), (\"SVC\", SVC())])\n",
        "\n",
        "pipeline_KNN = Pipeline([(\"preprocessing\", preprocessing), (\"KNN\", KNeighborsClassifier())])"
      ],
      "metadata": {
        "id": "OBPaA5EdTRMD"
      },
      "execution_count": null,
      "outputs": []
    },
    {
      "cell_type": "markdown",
      "source": [
        "### 1.1.3 Entrenemos los pipelines [1 punto]\n",
        "\n",
        "<p align=\"center\">\n",
        "  <img src=\"https://i.gifer.com/7Cc8.gif\" width=\"350\">\n",
        "</p>\n"
      ],
      "metadata": {
        "id": "MpKq6oO3vCNL",
        "cell_id": "00022-c2604b33-63e0-4f34-88cf-019afa3b2225",
        "deepnote_cell_type": "markdown",
        "deepnote_cell_height": 440.1333312988281
      }
    },
    {
      "cell_type": "markdown",
      "source": [
        "Ahora, entrene los `pipeline` generados en los pasos anteriores. Para esto, primero separe los datos de entrenamiento en un conjunto de entrenamiento y de prueba  (la proporción queda a su juicio).\n",
        "\n",
        "En este paso, seleccione los ejemplos de forma aleatoria e intente mantener la distribución original de labels de cada clase en los conjuntos de prueba/entrenamiento. (vea la documentación de `train_test_split`).\n",
        "\n",
        "\n",
        "Luego, entrene los pipelines\n",
        "\n",
        "Una vez entrenado su modelo, evalue su rendimiento a través de diferentes métricas, comentando que significa cada uno de los valores obtenidos. Puede usar la función `classification_report` para corroborar sus resultados.\n",
        "\n",
        "- ¿Qué implican los valores de accuracy, precisión y recall de la clase positiva (la que indica que un jugador es seleccionado nacional)?\n",
        "- ¿Podrían mejorarse los resultados?, ¿Cómo?\n",
        "- ¿Influye la cantidad de ejemplos por clase?\n",
        "\n",
        "**To-Do**:\n",
        "\n",
        "- [ ] Separar el conjunto de datos en entrenamiento y de prueba.\n",
        "- [ ] Entrenar los `pipelines`.\n",
        "- [ ] Utilizar las métricas para evaluar los modelos generados.\n"
      ],
      "metadata": {
        "id": "wE_1aZaIvOeN",
        "cell_id": "00023-664600ec-8c7d-4e9a-8673-edd18d5145a3",
        "deepnote_cell_type": "markdown",
        "deepnote_cell_height": 455.73333740234375
      }
    },
    {
      "cell_type": "markdown",
      "source": [
        "**Respuesta:**"
      ],
      "metadata": {
        "tags": [],
        "cell_id": "00024-b842d4aa-fb47-4513-8649-e942f6094140",
        "deepnote_cell_type": "markdown",
        "deepnote_cell_height": 51.43333435058594,
        "id": "ifNIEe-Nfn2w"
      }
    },
    {
      "cell_type": "code",
      "metadata": {
        "tags": [],
        "cell_id": "00023-f6cdd4bf-3786-444f-a249-62e47133e558",
        "deepnote_cell_type": "code",
        "deepnote_cell_height": 65.03334045410156,
        "id": "h5qKBKhhfn2w",
        "colab": {
          "base_uri": "https://localhost:8080/"
        },
        "outputId": "35b37417-ef4e-4fd4-f19f-218ed8dbd1d1"
      },
      "source": [
        "#separamos entre train y test\n",
        "X = df_players.drop([\"Name\", \"National_Position\", \"labels\"],axis=1)\n",
        "y = df_players[\"labels\"]\n",
        "\n",
        "X_train, X_test, y_train, y_test = train_test_split(X, y, test_size=0.2, random_state=7, stratify=y)\n",
        "\n",
        "#entrenamos los pipelines\n",
        "pipeline_linear_SVC.fit(X_train, y_train)\n",
        "y_pred = pipeline_linear_SVC.predict(X_test)\n",
        "print('linear_SVC')\n",
        "print(classification_report(y_pred, y_test))\n",
        "\n",
        "pipeline_SVC.fit(X_train, y_train)\n",
        "y_pred = pipeline_SVC.predict(X_test)\n",
        "print('SVC')\n",
        "print(classification_report(y_pred, y_test))\n",
        "\n",
        "\n",
        "pipeline_KNN.fit(X_train, y_train)\n",
        "y_pred = pipeline_KNN.predict(X_test)\n",
        "print('KNN')\n",
        "print(classification_report(y_pred, y_test))"
      ],
      "execution_count": null,
      "outputs": [
        {
          "output_type": "stream",
          "name": "stderr",
          "text": [
            "/usr/local/lib/python3.7/dist-packages/sklearn/svm/_base.py:1208: ConvergenceWarning: Liblinear failed to converge, increase the number of iterations.\n",
            "  ConvergenceWarning,\n"
          ]
        },
        {
          "output_type": "stream",
          "name": "stdout",
          "text": [
            "linear_SVC\n",
            "              precision    recall  f1-score   support\n",
            "\n",
            "         0.0       0.99      0.96      0.98      3397\n",
            "         1.0       0.41      0.74      0.53       121\n",
            "\n",
            "    accuracy                           0.96      3518\n",
            "   macro avg       0.70      0.85      0.75      3518\n",
            "weighted avg       0.97      0.96      0.96      3518\n",
            "\n",
            "SVC\n",
            "              precision    recall  f1-score   support\n",
            "\n",
            "         0.0       1.00      0.94      0.97      3516\n",
            "         1.0       0.01      1.00      0.02         2\n",
            "\n",
            "    accuracy                           0.94      3518\n",
            "   macro avg       0.50      0.97      0.49      3518\n",
            "weighted avg       1.00      0.94      0.97      3518\n",
            "\n",
            "KNN\n",
            "              precision    recall  f1-score   support\n",
            "\n",
            "         0.0       0.99      0.94      0.97      3480\n",
            "         1.0       0.07      0.42      0.13        38\n",
            "\n",
            "    accuracy                           0.94      3518\n",
            "   macro avg       0.53      0.68      0.55      3518\n",
            "weighted avg       0.98      0.94      0.96      3518\n",
            "\n"
          ]
        }
      ]
    },
    {
      "cell_type": "markdown",
      "source": [
        "**Respuesta**:\n",
        "\n",
        "Considerando el accuracy promedio de las clases (macro avg acc) como métrica de rendimiento se tiene que los rendimientos de los clasificadores son bajos, a pesar de presentar accuracy general alto. Lo anterior se debe al desbalance de clases presentado en los datos.\n",
        "\n",
        "Para mejorar los resultado se podrían emplear métodos para balancear las clases (undersampling, oversampling, etc)."
      ],
      "metadata": {
        "id": "QgSeo0aIx9ow",
        "cell_id": "00028-42eb3af5-2635-48e6-9049-736e2d4b3306",
        "deepnote_cell_type": "markdown",
        "deepnote_cell_height": 106.23333740234375
      }
    },
    {
      "cell_type": "markdown",
      "source": [
        "## 1.2 Predicción de posiciones de jugadores [2 puntos]\n",
        "\n",
        "<p align=\"center\">\n",
        "  <img src=\"https://pbs.twimg.com/media/E1rfA1aWEAYU6Ny.jpg\" width=\"500\">\n",
        "</p>"
      ],
      "metadata": {
        "id": "ix97Ho4uOARH",
        "cell_id": "00029-25d6c3d3-9c25-49f0-a27b-beface2dd794",
        "deepnote_cell_type": "markdown",
        "deepnote_cell_height": 420.2833251953125
      }
    },
    {
      "cell_type": "markdown",
      "source": [
        "En una nueva jornada de desmesuradas transacciones deportivas, Renacín escuchó a sus colegas discutir acerca de que el precio de cada jugador depende en gran medida de la posición en la cancha en la que juega. Y además, que hay bastantes jugadores nuevos que no tienen muy claro en que posición verdaderamente brillarían, por lo que actualmente puede que estén jugando en posiciones sub-optimas. \n",
        "\n",
        "Viendo que los resultados del primer análisis no son tan esperanzadores, el corporeo los comanda a cambiar su tarea: ahora, les solicita que construyan un clasificador enfocado en predecir la mejor posición de los jugadores en la cancha según sus características. \n",
        "\n",
        "Para lograr esto, primero, les pide que etiqueten de la siguiente manera los valores que aparecen en el atributo ```Club_Position```, pidiendo que agrupen los valores en los siguientes grupos:\n",
        "\n",
        "**Nota**:  Renacín les recalca que **no deben utilizar los valores ```Sub``` y ```Res``` de esta columna**.\n",
        "\n",
        "```python\n",
        "ataque = ['ST', 'CF'] \n",
        "central_ataque = ['RW', 'CAM', 'LW'] \n",
        "central = ['RM', 'CM', 'LM'] \n",
        "central_defensa = ['RWB', 'CDM', 'LWB']\n",
        "defensa = ['RB', 'CB', 'LB']\n",
        "arquero = ['GK']\n",
        "```\n",
        "\n",
        "Cabe señalar que al igual como lo realizado con la clasificación binaria, deberá justificar en base a la [guía](https://scikit-learn.org/stable/tutorial/machine_learning_map/index.html) la elección del clasificador y se deben comentar los resultados obtenidos en la clasificación.\n",
        "\n",
        "**Nota:** Clasifique solamente con las clases señaladas, si observa mas clases eliminelas de la clasficación.\n",
        "\n",
        "**To-Do**:\n",
        "\n",
        "- [ ] Aplique las etiquetas descritas anteriormente en cada uno de los valores señalados en esta sección.\n",
        "- [ ] Cuente cuantos por clase quedan.\n",
        "- [ ] Entrene el nuevo pipeline y ejecute una evaluación de este.  \n",
        "- [ ] Comente los resultados obtenidos."
      ],
      "metadata": {
        "id": "oHAwZfV8hMsk",
        "cell_id": "00030-38a30ede-8d53-4a7c-930b-bfeaa4d499ff",
        "deepnote_cell_type": "markdown",
        "deepnote_cell_height": 687.2999877929688
      }
    },
    {
      "cell_type": "markdown",
      "source": [
        "**Respuesta:**"
      ],
      "metadata": {
        "tags": [],
        "cell_id": "00031-e53db99a-2bcc-474a-92b1-1f55458afc1d",
        "deepnote_cell_type": "markdown",
        "deepnote_cell_height": 51.43333435058594,
        "id": "RhGLvxSgfn2x"
      }
    },
    {
      "cell_type": "code",
      "metadata": {
        "tags": [],
        "cell_id": "00028-f8dd9230-e314-42be-a0f8-2c295dd45e54",
        "deepnote_cell_type": "code",
        "deepnote_cell_height": 65.03334045410156,
        "id": "0__9aZp0fn2x",
        "colab": {
          "base_uri": "https://localhost:8080/"
        },
        "outputId": "a5f0890b-dcd8-471a-b440-6bd2547564a5"
      },
      "source": [
        "etiquetas = {\"ST\": \"ataque\",\"CF\": \"ataque\",\"RW\": \"central_ataque\",\"CAM\": \"central_ataque\",\"LW\": \"central_ataque\",\"RM\": \"central\",\n",
        "             \"CM\": \"central\",\"LM\": \"central\",\"RWB\": \"central_defensa\",\"CDM\": \"central_defensa\",\"LWB\": \"central_defensa\",\"RB\": \"defensa\",\n",
        "             \"CB\": \"defensa\",\"LB\": \"defensa\",\"GK\": \"arquero\"}\n",
        "\n",
        "df_posiciones = df_players.copy() #copiamos el dataframe\n",
        "df_posiciones[\"Posicion\"] = df_posiciones[\"Club_Position\"].map(etiquetas) #creamos la nueva columna con nuevas etiquetas\n",
        "df_posiciones[\"Posicion\"] = df_posiciones[\"Posicion\"].astype('category') #cambiamos el formato de la columna a categórica\n",
        "df_posiciones = df_posiciones.dropna(subset = ['Posicion']) #eliminamos filas con NaNs en \"Posicion\"\n",
        "df_posiciones = df_posiciones.drop(['National_Position', 'Club_Position', 'labels'], axis = 1)\n",
        "\n",
        "df_posiciones['Posicion'].value_counts() #contamos por clases"
      ],
      "execution_count": null,
      "outputs": [
        {
          "output_type": "execute_result",
          "data": {
            "text/plain": [
              "defensa            1180\n",
              "central             907\n",
              "arquero             632\n",
              "central_ataque      581\n",
              "ataque              430\n",
              "central_defensa     209\n",
              "Name: Posicion, dtype: int64"
            ]
          },
          "metadata": {},
          "execution_count": 67
        }
      ]
    },
    {
      "cell_type": "code",
      "source": [
        "preprocessing = ColumnTransformer(\n",
        "    transformers=[\n",
        "        ('OneHotEncoder', OneHotEncoder(sparse=False, handle_unknown=\"ignore\"),  ['Nationality','Preffered_Foot',\n",
        "                                                                                  'Work_Rate','Weak_foot','Skill_Moves']),\n",
        "        (\"MinMaxScaler\",MinMaxScaler(),[\"Ball_Control\",\"Dribbling\",\"Marking\",\"Sliding_Tackle\",\"Standing_Tackle\",\"Interceptions\",\"Crossing\",\n",
        "                                        \"Short_Pass\",\"Long_Pass\",\"Stamina\",\"Heading\",\"Shot_Power\",\"Curve\",\"Freekick_Accuracy\",\"Long_Shots\"]),\n",
        "        ('StandardScaler', StandardScaler(),[\"Weight\",\"Height\",\"Aggression\",\"Reactions\",\"Vision\",\"Composure\",\"Acceleration\",\"Speed\",\n",
        "                                             \"Balance\",\"Strength\",\"Agility\",\"Jumping\",\"Finishing\",\"Volleys\",\"Penalties\"])\n",
        "        ])\n",
        "\n",
        "pipeline_linear_SVC = Pipeline([(\"preprocessing\", preprocessing),(\"linear_SVC\", LinearSVC())])\n",
        "\n",
        "pipeline_SVC = Pipeline([(\"preprocessing\", preprocessing), (\"SVC\", SVC())])\n",
        "\n",
        "pipeline_KNN = Pipeline([(\"preprocessing\", preprocessing), (\"KNN\", KNeighborsClassifier())])"
      ],
      "metadata": {
        "id": "6BLQD4hcc7o6"
      },
      "execution_count": null,
      "outputs": []
    },
    {
      "cell_type": "code",
      "source": [
        "#separamos entre train y test\n",
        "X = df_posiciones.drop([\"Name\", \"Posicion\"],axis=1)\n",
        "y = df_posiciones[\"Posicion\"]\n",
        "\n",
        "X_train, X_test, y_train, y_test = train_test_split(X, y, test_size=0.2, random_state=7, stratify=y)\n",
        "\n",
        "#entrenamos los pipelines\n",
        "pipeline_linear_SVC.fit(X_train, y_train)\n",
        "y_pred = pipeline_linear_SVC.predict(X_test)\n",
        "print('linear_SVC')\n",
        "print(classification_report(y_pred, y_test))\n",
        "\n",
        "pipeline_SVC.fit(X_train, y_train)\n",
        "y_pred = pipeline_SVC.predict(X_test)\n",
        "print('SVC')\n",
        "print(classification_report(y_pred, y_test))\n",
        "\n",
        "\n",
        "pipeline_KNN.fit(X_train, y_train)\n",
        "y_pred = pipeline_KNN.predict(X_test)\n",
        "print('KNN')\n",
        "print(classification_report(y_pred, y_test))"
      ],
      "metadata": {
        "colab": {
          "base_uri": "https://localhost:8080/"
        },
        "id": "QVbko2YydpWE",
        "outputId": "f9875cd9-42b9-4a3c-d93e-e240d9dcd830"
      },
      "execution_count": null,
      "outputs": [
        {
          "output_type": "stream",
          "name": "stderr",
          "text": [
            "/usr/local/lib/python3.7/dist-packages/sklearn/svm/_base.py:1208: ConvergenceWarning: Liblinear failed to converge, increase the number of iterations.\n",
            "  ConvergenceWarning,\n"
          ]
        },
        {
          "output_type": "stream",
          "name": "stdout",
          "text": [
            "linear_SVC\n",
            "                 precision    recall  f1-score   support\n",
            "\n",
            "        arquero       1.00      1.00      1.00       126\n",
            "         ataque       0.76      0.77      0.76        84\n",
            "        central       0.63      0.58      0.60       197\n",
            " central_ataque       0.37      0.55      0.44        78\n",
            "central_defensa       0.21      0.38      0.27        24\n",
            "        defensa       0.95      0.81      0.87       279\n",
            "\n",
            "       accuracy                           0.74       788\n",
            "      macro avg       0.65      0.68      0.66       788\n",
            "   weighted avg       0.78      0.74      0.75       788\n",
            "\n",
            "SVC\n",
            "                 precision    recall  f1-score   support\n",
            "\n",
            "        arquero       1.00      1.00      1.00       126\n",
            "         ataque       0.81      0.79      0.80        89\n",
            "        central       0.68      0.54      0.60       231\n",
            " central_ataque       0.25      0.58      0.35        50\n",
            "central_defensa       0.14      0.67      0.24         9\n",
            "        defensa       0.95      0.79      0.86       283\n",
            "\n",
            "       accuracy                           0.73       788\n",
            "      macro avg       0.64      0.73      0.64       788\n",
            "   weighted avg       0.81      0.73      0.76       788\n",
            "\n",
            "KNN\n",
            "                 precision    recall  f1-score   support\n",
            "\n",
            "        arquero       1.00      1.00      1.00       126\n",
            "         ataque       0.73      0.62      0.67       102\n",
            "        central       0.58      0.48      0.53       219\n",
            " central_ataque       0.29      0.56      0.38        61\n",
            "central_defensa       0.19      0.40      0.26        20\n",
            "        defensa       0.88      0.80      0.83       260\n",
            "\n",
            "       accuracy                           0.69       788\n",
            "      macro avg       0.61      0.64      0.61       788\n",
            "   weighted avg       0.73      0.69      0.71       788\n",
            "\n"
          ]
        }
      ]
    },
    {
      "cell_type": "markdown",
      "source": [
        "**Respuesta**:\n",
        "\n",
        "Dados los resultados, se tiene que para los mismos modelos del problema anterior, se presentan resultados de mejor rendimiento.\n",
        "\n",
        "Además, para las clases con mayor cantidad de individuos se presenta un mejor rendimiento respecto a las clases con menor cantidad de indiviudos.\n",
        "\n",
        "Considerando el accuracy promedio de las clases (macro avg acc) como métrica de rendimiento, el mejor modelo corresponde a una máquina de soporte vectorial con kernel gaussiano.\n",
        "\n",
        "Los resultado pueden mejorar utilizando técnicas de balance de clases (subsamplig, oversampling, etc), como también modificando los parámetros de cada clasificador."
      ],
      "metadata": {
        "tags": [],
        "cell_id": "00037-49e50b09-156f-4996-8fec-1e3e6cf51802",
        "deepnote_cell_type": "markdown",
        "deepnote_cell_height": 106.23333740234375,
        "id": "j4mBxA3Bfn2x"
      }
    },
    {
      "cell_type": "markdown",
      "source": [
        "## 1.3 Predicción de Sueldos [2 puntos]\n",
        "\n",
        "<p align=\"center\">\n",
        "  <img src=\"https://media.giphy.com/media/3oEjHWtHAFcOKS4iA0/giphy.gif\" width=\"460\">\n",
        "</p>"
      ],
      "metadata": {
        "id": "C-vkB4xoOGtM",
        "cell_id": "00038-b8c6c19d-0688-4899-9abb-c89f94c2b89a",
        "deepnote_cell_type": "markdown",
        "deepnote_cell_height": 312.20001220703125
      }
    },
    {
      "cell_type": "markdown",
      "source": [
        "Queriendo ahondar aún más en el mercado del balompíe, Renacin, logra obtener (de una manera no muy formal) los sueldos de múltiples futbolistas y los guarda en el archivo ```sueldos.csv```. Con ellos les solicita que generen un regresor que les permita predecir el sueldo de los futbolistas en base a las características de los pichichis, esto, debido a su motivación por invertir y/o realizar especulación sobre los sueldos de jugadores.\n",
        "\n",
        "Renacin es claro señalando que deben seguir utilizando la [guía](https://scikit-learn.org/stable/tutorial/machine_learning_map/index.html) y comenten cada uno de los pasos realizados, para obtener su regresión lineal. Señalándoles que no aceptara un $R^2$ inferior a 0.35 para el modelo solicitado.\n",
        "\n",
        "Para esta parte usted tiene total libertad en la generación del regresor, la unica exigencia es que utilice un pipeline para generar la regresión y utilice la metrica $R^2$ para medir el rendimiento de esta.\n",
        "\n",
        "**To-Do**:\n",
        "\n",
        "- [ ] Explique en que consiste la métrica $R^2$\n",
        "- [ ] Generar un pipeline para la regresión.\n",
        "- [ ] Obtener un regresor con un $R^2$ superior a  $0.35$.\n",
        "- [ ] Comente sus resultados y si es posible mejorar los resultados obtenidos. ¿Se necesitarían más datos o otros tipos de características o una combinación de ambos?"
      ],
      "metadata": {
        "tags": [],
        "cell_id": "00039-e50ff971-8882-46be-832a-deaff22bdf89",
        "deepnote_cell_type": "markdown",
        "deepnote_cell_height": 423.70001220703125,
        "id": "jExQBhUrfn2y"
      }
    },
    {
      "cell_type": "markdown",
      "source": [
        "**Respuesta**"
      ],
      "metadata": {
        "tags": [],
        "cell_id": "00040-487b67d5-7731-400d-8fa5-a8fb3b59c7f5",
        "deepnote_cell_type": "markdown",
        "deepnote_cell_height": 51.43333435058594,
        "id": "vNLBMDT2fn2y"
      }
    },
    {
      "cell_type": "code",
      "source": [
        "df_salarios = pd.read_csv(path+'salarios.csv')\n",
        "df_salarios= df_salarios.rename({'Player': 'Name'}, axis = 1)\n",
        "df_final = df_players.merge(df_salarios.loc[:,['Name', 'Weekly Salary']], on='Name')\n",
        "df_final['Weekly Salary'] = df_final['Weekly Salary'].astype(int)\n",
        "\n",
        "\n",
        "df_final.head()"
      ],
      "metadata": {
        "colab": {
          "base_uri": "https://localhost:8080/",
          "height": 403
        },
        "id": "1ghZoMmgjtxy",
        "outputId": "f92fdb00-8434-48a2-ee86-65f6743d03e5"
      },
      "execution_count": 97,
      "outputs": [
        {
          "output_type": "execute_result",
          "data": {
            "text/plain": [
              "                Name Nationality National_Position Club_Position  Height  \\\n",
              "0  Cristiano Ronaldo    Portugal                LS            LW     185   \n",
              "1       Lionel Messi   Argentina                RW            RW     170   \n",
              "2             Neymar      Brazil                LW            LW     174   \n",
              "3        Luis Suárez     Uruguay                LS            ST     182   \n",
              "4       Manuel Neuer     Germany                GK            GK     193   \n",
              "\n",
              "   Weight Preffered_Foot  Age        Work_Rate  Weak_foot  ...  Heading  \\\n",
              "0      80          Right   32       High / Low          4  ...       85   \n",
              "1      72           Left   29  Medium / Medium          4  ...       71   \n",
              "2      68          Right   25    High / Medium          5  ...       62   \n",
              "3      85          Right   30    High / Medium          4  ...       77   \n",
              "4      92          Right   31  Medium / Medium          4  ...       25   \n",
              "\n",
              "   Shot_Power  Finishing  Long_Shots  Curve  Freekick_Accuracy  Penalties  \\\n",
              "0          92         93          90     81                 76         85   \n",
              "1          85         95          88     89                 90         74   \n",
              "2          78         89          77     79                 84         81   \n",
              "3          87         94          86     86                 84         85   \n",
              "4          25         13          16     14                 11         47   \n",
              "\n",
              "   Volleys  labels  Weekly Salary  \n",
              "0       88     1.0        1248536  \n",
              "1       85     1.0        1538905  \n",
              "2       83     1.0         797726  \n",
              "3       88     1.0         508923  \n",
              "4       11     1.0         326233  \n",
              "\n",
              "[5 rows x 41 columns]"
            ],
            "text/html": [
              "\n",
              "  <div id=\"df-de12d90e-9026-4a76-847d-ea0730f9c314\">\n",
              "    <div class=\"colab-df-container\">\n",
              "      <div>\n",
              "<style scoped>\n",
              "    .dataframe tbody tr th:only-of-type {\n",
              "        vertical-align: middle;\n",
              "    }\n",
              "\n",
              "    .dataframe tbody tr th {\n",
              "        vertical-align: top;\n",
              "    }\n",
              "\n",
              "    .dataframe thead th {\n",
              "        text-align: right;\n",
              "    }\n",
              "</style>\n",
              "<table border=\"1\" class=\"dataframe\">\n",
              "  <thead>\n",
              "    <tr style=\"text-align: right;\">\n",
              "      <th></th>\n",
              "      <th>Name</th>\n",
              "      <th>Nationality</th>\n",
              "      <th>National_Position</th>\n",
              "      <th>Club_Position</th>\n",
              "      <th>Height</th>\n",
              "      <th>Weight</th>\n",
              "      <th>Preffered_Foot</th>\n",
              "      <th>Age</th>\n",
              "      <th>Work_Rate</th>\n",
              "      <th>Weak_foot</th>\n",
              "      <th>...</th>\n",
              "      <th>Heading</th>\n",
              "      <th>Shot_Power</th>\n",
              "      <th>Finishing</th>\n",
              "      <th>Long_Shots</th>\n",
              "      <th>Curve</th>\n",
              "      <th>Freekick_Accuracy</th>\n",
              "      <th>Penalties</th>\n",
              "      <th>Volleys</th>\n",
              "      <th>labels</th>\n",
              "      <th>Weekly Salary</th>\n",
              "    </tr>\n",
              "  </thead>\n",
              "  <tbody>\n",
              "    <tr>\n",
              "      <th>0</th>\n",
              "      <td>Cristiano Ronaldo</td>\n",
              "      <td>Portugal</td>\n",
              "      <td>LS</td>\n",
              "      <td>LW</td>\n",
              "      <td>185</td>\n",
              "      <td>80</td>\n",
              "      <td>Right</td>\n",
              "      <td>32</td>\n",
              "      <td>High / Low</td>\n",
              "      <td>4</td>\n",
              "      <td>...</td>\n",
              "      <td>85</td>\n",
              "      <td>92</td>\n",
              "      <td>93</td>\n",
              "      <td>90</td>\n",
              "      <td>81</td>\n",
              "      <td>76</td>\n",
              "      <td>85</td>\n",
              "      <td>88</td>\n",
              "      <td>1.0</td>\n",
              "      <td>1248536</td>\n",
              "    </tr>\n",
              "    <tr>\n",
              "      <th>1</th>\n",
              "      <td>Lionel Messi</td>\n",
              "      <td>Argentina</td>\n",
              "      <td>RW</td>\n",
              "      <td>RW</td>\n",
              "      <td>170</td>\n",
              "      <td>72</td>\n",
              "      <td>Left</td>\n",
              "      <td>29</td>\n",
              "      <td>Medium / Medium</td>\n",
              "      <td>4</td>\n",
              "      <td>...</td>\n",
              "      <td>71</td>\n",
              "      <td>85</td>\n",
              "      <td>95</td>\n",
              "      <td>88</td>\n",
              "      <td>89</td>\n",
              "      <td>90</td>\n",
              "      <td>74</td>\n",
              "      <td>85</td>\n",
              "      <td>1.0</td>\n",
              "      <td>1538905</td>\n",
              "    </tr>\n",
              "    <tr>\n",
              "      <th>2</th>\n",
              "      <td>Neymar</td>\n",
              "      <td>Brazil</td>\n",
              "      <td>LW</td>\n",
              "      <td>LW</td>\n",
              "      <td>174</td>\n",
              "      <td>68</td>\n",
              "      <td>Right</td>\n",
              "      <td>25</td>\n",
              "      <td>High / Medium</td>\n",
              "      <td>5</td>\n",
              "      <td>...</td>\n",
              "      <td>62</td>\n",
              "      <td>78</td>\n",
              "      <td>89</td>\n",
              "      <td>77</td>\n",
              "      <td>79</td>\n",
              "      <td>84</td>\n",
              "      <td>81</td>\n",
              "      <td>83</td>\n",
              "      <td>1.0</td>\n",
              "      <td>797726</td>\n",
              "    </tr>\n",
              "    <tr>\n",
              "      <th>3</th>\n",
              "      <td>Luis Suárez</td>\n",
              "      <td>Uruguay</td>\n",
              "      <td>LS</td>\n",
              "      <td>ST</td>\n",
              "      <td>182</td>\n",
              "      <td>85</td>\n",
              "      <td>Right</td>\n",
              "      <td>30</td>\n",
              "      <td>High / Medium</td>\n",
              "      <td>4</td>\n",
              "      <td>...</td>\n",
              "      <td>77</td>\n",
              "      <td>87</td>\n",
              "      <td>94</td>\n",
              "      <td>86</td>\n",
              "      <td>86</td>\n",
              "      <td>84</td>\n",
              "      <td>85</td>\n",
              "      <td>88</td>\n",
              "      <td>1.0</td>\n",
              "      <td>508923</td>\n",
              "    </tr>\n",
              "    <tr>\n",
              "      <th>4</th>\n",
              "      <td>Manuel Neuer</td>\n",
              "      <td>Germany</td>\n",
              "      <td>GK</td>\n",
              "      <td>GK</td>\n",
              "      <td>193</td>\n",
              "      <td>92</td>\n",
              "      <td>Right</td>\n",
              "      <td>31</td>\n",
              "      <td>Medium / Medium</td>\n",
              "      <td>4</td>\n",
              "      <td>...</td>\n",
              "      <td>25</td>\n",
              "      <td>25</td>\n",
              "      <td>13</td>\n",
              "      <td>16</td>\n",
              "      <td>14</td>\n",
              "      <td>11</td>\n",
              "      <td>47</td>\n",
              "      <td>11</td>\n",
              "      <td>1.0</td>\n",
              "      <td>326233</td>\n",
              "    </tr>\n",
              "  </tbody>\n",
              "</table>\n",
              "<p>5 rows × 41 columns</p>\n",
              "</div>\n",
              "      <button class=\"colab-df-convert\" onclick=\"convertToInteractive('df-de12d90e-9026-4a76-847d-ea0730f9c314')\"\n",
              "              title=\"Convert this dataframe to an interactive table.\"\n",
              "              style=\"display:none;\">\n",
              "        \n",
              "  <svg xmlns=\"http://www.w3.org/2000/svg\" height=\"24px\"viewBox=\"0 0 24 24\"\n",
              "       width=\"24px\">\n",
              "    <path d=\"M0 0h24v24H0V0z\" fill=\"none\"/>\n",
              "    <path d=\"M18.56 5.44l.94 2.06.94-2.06 2.06-.94-2.06-.94-.94-2.06-.94 2.06-2.06.94zm-11 1L8.5 8.5l.94-2.06 2.06-.94-2.06-.94L8.5 2.5l-.94 2.06-2.06.94zm10 10l.94 2.06.94-2.06 2.06-.94-2.06-.94-.94-2.06-.94 2.06-2.06.94z\"/><path d=\"M17.41 7.96l-1.37-1.37c-.4-.4-.92-.59-1.43-.59-.52 0-1.04.2-1.43.59L10.3 9.45l-7.72 7.72c-.78.78-.78 2.05 0 2.83L4 21.41c.39.39.9.59 1.41.59.51 0 1.02-.2 1.41-.59l7.78-7.78 2.81-2.81c.8-.78.8-2.07 0-2.86zM5.41 20L4 18.59l7.72-7.72 1.47 1.35L5.41 20z\"/>\n",
              "  </svg>\n",
              "      </button>\n",
              "      \n",
              "  <style>\n",
              "    .colab-df-container {\n",
              "      display:flex;\n",
              "      flex-wrap:wrap;\n",
              "      gap: 12px;\n",
              "    }\n",
              "\n",
              "    .colab-df-convert {\n",
              "      background-color: #E8F0FE;\n",
              "      border: none;\n",
              "      border-radius: 50%;\n",
              "      cursor: pointer;\n",
              "      display: none;\n",
              "      fill: #1967D2;\n",
              "      height: 32px;\n",
              "      padding: 0 0 0 0;\n",
              "      width: 32px;\n",
              "    }\n",
              "\n",
              "    .colab-df-convert:hover {\n",
              "      background-color: #E2EBFA;\n",
              "      box-shadow: 0px 1px 2px rgba(60, 64, 67, 0.3), 0px 1px 3px 1px rgba(60, 64, 67, 0.15);\n",
              "      fill: #174EA6;\n",
              "    }\n",
              "\n",
              "    [theme=dark] .colab-df-convert {\n",
              "      background-color: #3B4455;\n",
              "      fill: #D2E3FC;\n",
              "    }\n",
              "\n",
              "    [theme=dark] .colab-df-convert:hover {\n",
              "      background-color: #434B5C;\n",
              "      box-shadow: 0px 1px 3px 1px rgba(0, 0, 0, 0.15);\n",
              "      filter: drop-shadow(0px 1px 2px rgba(0, 0, 0, 0.3));\n",
              "      fill: #FFFFFF;\n",
              "    }\n",
              "  </style>\n",
              "\n",
              "      <script>\n",
              "        const buttonEl =\n",
              "          document.querySelector('#df-de12d90e-9026-4a76-847d-ea0730f9c314 button.colab-df-convert');\n",
              "        buttonEl.style.display =\n",
              "          google.colab.kernel.accessAllowed ? 'block' : 'none';\n",
              "\n",
              "        async function convertToInteractive(key) {\n",
              "          const element = document.querySelector('#df-de12d90e-9026-4a76-847d-ea0730f9c314');\n",
              "          const dataTable =\n",
              "            await google.colab.kernel.invokeFunction('convertToInteractive',\n",
              "                                                     [key], {});\n",
              "          if (!dataTable) return;\n",
              "\n",
              "          const docLinkHtml = 'Like what you see? Visit the ' +\n",
              "            '<a target=\"_blank\" href=https://colab.research.google.com/notebooks/data_table.ipynb>data table notebook</a>'\n",
              "            + ' to learn more about interactive tables.';\n",
              "          element.innerHTML = '';\n",
              "          dataTable['output_type'] = 'display_data';\n",
              "          await google.colab.output.renderOutput(dataTable, element);\n",
              "          const docLink = document.createElement('div');\n",
              "          docLink.innerHTML = docLinkHtml;\n",
              "          element.appendChild(docLink);\n",
              "        }\n",
              "      </script>\n",
              "    </div>\n",
              "  </div>\n",
              "  "
            ]
          },
          "metadata": {},
          "execution_count": 97
        }
      ]
    },
    {
      "cell_type": "code",
      "source": [
        "from sklearn.linear_model import LinearRegression\n",
        "from sklearn.ensemble import RandomForestRegressor\n",
        "\n",
        "preprocessing = ColumnTransformer(\n",
        "    transformers=[\n",
        "        ('OneHotEncoder', OneHotEncoder(sparse=False, handle_unknown=\"ignore\"),  ['Nationality','Club_Position','Preffered_Foot',\n",
        "                                                                                  'Work_Rate','Weak_foot','Skill_Moves']),\n",
        "        (\"MinMaxScaler\",MinMaxScaler(),[\"Ball_Control\",\"Dribbling\",\"Marking\",\"Sliding_Tackle\",\"Standing_Tackle\",\"Interceptions\",\"Crossing\",\n",
        "                                        \"Short_Pass\",\"Long_Pass\",\"Stamina\",\"Heading\",\"Shot_Power\",\"Curve\",\"Freekick_Accuracy\",\"Long_Shots\"]),\n",
        "        ('StandardScaler', StandardScaler(),[\"Weight\",\"Height\",\"Aggression\",\"Reactions\",\"Vision\",\"Composure\",\"Acceleration\",\"Speed\",\n",
        "                                             \"Balance\",\"Strength\",\"Agility\",\"Jumping\",\"Finishing\",\"Volleys\",\"Penalties\"])\n",
        "        ])\n",
        "\n",
        "pipeline_linear_reg = Pipeline([(\"preprocessing\", preprocessing), (\"linear_reg\", LinearRegression())])\n",
        "\n",
        "pipeline_random_forest = Pipeline([(\"preprocessing\", preprocessing), (\"random_forest\", RandomForestRegressor())])"
      ],
      "metadata": {
        "id": "w22Kv7Arlb-A"
      },
      "execution_count": 130,
      "outputs": []
    },
    {
      "cell_type": "code",
      "source": [
        "from sklearn.metrics import r2_score\n",
        "\n",
        "X = df_final.drop([\"Name\", \"National_Position\", \"labels\",\"Weekly Salary\"],axis=1)\n",
        "y = df_final[\"Weekly Salary\"]\n",
        "\n",
        "X_train, X_test, y_train, y_test = train_test_split(X, y, test_size=0.2, random_state=7)\n",
        "\n",
        "#entrenamos los pipelines\n",
        "pipeline_linear_reg.fit(X_train, y_train)\n",
        "y_pred = pipeline_linear_reg.predict(X_test)\n",
        "print('R2 de linear_reg: ',r2_score(y_test, y_pred))\n",
        "\n",
        "pipeline_random_forest.fit(X_train, y_train)\n",
        "y_pred = pipeline_random_forest.predict(X_test)\n",
        "print('R2 de random_forest: ',r2_score(y_test, y_pred))"
      ],
      "metadata": {
        "colab": {
          "base_uri": "https://localhost:8080/"
        },
        "id": "9uixiNrVnccM",
        "outputId": "c77be509-a795-41fe-e464-5e997af9dff5"
      },
      "execution_count": 131,
      "outputs": [
        {
          "output_type": "stream",
          "name": "stdout",
          "text": [
            "R2 de linear_reg:  0.28864939847072446\n",
            "R2 de random_forest:  0.5905424466776521\n"
          ]
        }
      ]
    },
    {
      "cell_type": "markdown",
      "source": [
        "**Respuesta**:\n",
        "\n",
        "\n",
        "$R^2$ es una métrica que representa la intensidad de variaciones que sufre la variable dependiente.\n",
        "\n",
        "Se realiza practicamente el mismo preprocesamiento de datos que en los casos anteriores. Se intenta con una regresión lineal simple, pero como no se llega al resultado mínimo esperado, se selecciona como regresor el RandomForestRegressor (siguiendo el diagrama de selección de sckilearn). Se logra un rendimiento de $R^2 = 0.591$, es decir, el modelo explica en un 59.1% la variación de los sueldos semanales de los jugadores mediante las variables utilizadas.\n",
        "\n",
        "Se podría mejorar el modelo agregando variables que concentren información importante, como por ejemplo la división en que juegan, el país de la liga, etc."
      ],
      "metadata": {
        "tags": [],
        "cell_id": "00044-db7abb06-7339-40b0-9021-01c6111e5459",
        "deepnote_cell_type": "markdown",
        "deepnote_cell_height": 106.23333740234375,
        "id": "qPbcMY6Gfn2z"
      }
    },
    {
      "cell_type": "markdown",
      "source": [
        "# Conclusión\n",
        "Eso ha sido todo para el lab de hoy, recuerden que el laboratorio tiene un plazo de entrega de una semana. Cualquier duda del laboratorio, no duden en contactarnos por mail o U-cursos.\n",
        "\n",
        "<p align=\"center\">\n",
        "  <img src=\"https://media2.giphy.com/media/l1J3CbFgn5o7DGRuE/giphy.gif\">\n",
        "</p>"
      ],
      "metadata": {
        "id": "Rg4ZMq8ezAH6",
        "cell_id": "00045-bd3cc055-46c7-47ae-ac82-07ddb96f99de",
        "deepnote_cell_type": "markdown",
        "deepnote_cell_height": 490.83331298828125
      }
    },
    {
      "cell_type": "markdown",
      "source": [
        "<br>\n",
        "<center>\n",
        "<img src=\"https://i.kym-cdn.com/photos/images/original/001/194/195/b18.png\" width=100 height=50 />\n",
        "</center>\n",
        "<br>"
      ],
      "metadata": {
        "id": "wCL1lACBzAH7",
        "cell_id": "00047-2acde338-38a4-455c-879b-3be406525767",
        "deepnote_cell_type": "markdown",
        "deepnote_cell_height": 170.4499969482422
      }
    },
    {
      "cell_type": "markdown",
      "source": [
        "<a style='text-decoration:none;line-height:16px;display:flex;color:#5B5B62;padding:10px;justify-content:end;' href='https://deepnote.com?utm_source=created-in-deepnote-cell&projectId=87110296-876e-426f-b91d-aaf681223468' target=\"_blank\">\n",
        "<img alt='Created in deepnote.com' style='display:inline;max-height:16px;margin:0px;margin-right:7.5px;' src='data:image/svg+xml;base64,PD94bWwgdmVyc2lvbj0iMS4wIiBlbmNvZGluZz0iVVRGLTgiPz4KPHN2ZyB3aWR0aD0iODBweCIgaGVpZ2h0PSI4MHB4IiB2aWV3Qm94PSIwIDAgODAgODAiIHZlcnNpb249IjEuMSIgeG1sbnM9Imh0dHA6Ly93d3cudzMub3JnLzIwMDAvc3ZnIiB4bWxuczp4bGluaz0iaHR0cDovL3d3dy53My5vcmcvMTk5OS94bGluayI+CiAgICA8IS0tIEdlbmVyYXRvcjogU2tldGNoIDU0LjEgKDc2NDkwKSAtIGh0dHBzOi8vc2tldGNoYXBwLmNvbSAtLT4KICAgIDx0aXRsZT5Hcm91cCAzPC90aXRsZT4KICAgIDxkZXNjPkNyZWF0ZWQgd2l0aCBTa2V0Y2guPC9kZXNjPgogICAgPGcgaWQ9IkxhbmRpbmciIHN0cm9rZT0ibm9uZSIgc3Ryb2tlLXdpZHRoPSIxIiBmaWxsPSJub25lIiBmaWxsLXJ1bGU9ImV2ZW5vZGQiPgogICAgICAgIDxnIGlkPSJBcnRib2FyZCIgdHJhbnNmb3JtPSJ0cmFuc2xhdGUoLTEyMzUuMDAwMDAwLCAtNzkuMDAwMDAwKSI+CiAgICAgICAgICAgIDxnIGlkPSJHcm91cC0zIiB0cmFuc2Zvcm09InRyYW5zbGF0ZSgxMjM1LjAwMDAwMCwgNzkuMDAwMDAwKSI+CiAgICAgICAgICAgICAgICA8cG9seWdvbiBpZD0iUGF0aC0yMCIgZmlsbD0iIzAyNjVCNCIgcG9pbnRzPSIyLjM3NjIzNzYyIDgwIDM4LjA0NzY2NjcgODAgNTcuODIxNzgyMiA3My44MDU3NTkyIDU3LjgyMTc4MjIgMzIuNzU5MjczOSAzOS4xNDAyMjc4IDMxLjY4MzE2ODMiPjwvcG9seWdvbj4KICAgICAgICAgICAgICAgIDxwYXRoIGQ9Ik0zNS4wMDc3MTgsODAgQzQyLjkwNjIwMDcsNzYuNDU0OTM1OCA0Ny41NjQ5MTY3LDcxLjU0MjI2NzEgNDguOTgzODY2LDY1LjI2MTk5MzkgQzUxLjExMjI4OTksNTUuODQxNTg0MiA0MS42NzcxNzk1LDQ5LjIxMjIyODQgMjUuNjIzOTg0Niw0OS4yMTIyMjg0IEMyNS40ODQ5Mjg5LDQ5LjEyNjg0NDggMjkuODI2MTI5Niw0My4yODM4MjQ4IDM4LjY0NzU4NjksMzEuNjgzMTY4MyBMNzIuODcxMjg3MSwzMi41NTQ0MjUgTDY1LjI4MDk3Myw2Ny42NzYzNDIxIEw1MS4xMTIyODk5LDc3LjM3NjE0NCBMMzUuMDA3NzE4LDgwIFoiIGlkPSJQYXRoLTIyIiBmaWxsPSIjMDAyODY4Ij48L3BhdGg+CiAgICAgICAgICAgICAgICA8cGF0aCBkPSJNMCwzNy43MzA0NDA1IEwyNy4xMTQ1MzcsMC4yNTcxMTE0MzYgQzYyLjM3MTUxMjMsLTEuOTkwNzE3MDEgODAsMTAuNTAwMzkyNyA4MCwzNy43MzA0NDA1IEM4MCw2NC45NjA0ODgyIDY0Ljc3NjUwMzgsNzkuMDUwMzQxNCAzNC4zMjk1MTEzLDgwIEM0Ny4wNTUzNDg5LDc3LjU2NzA4MDggNTMuNDE4MjY3Nyw3MC4zMTM2MTAzIDUzLjQxODI2NzcsNTguMjM5NTg4NSBDNTMuNDE4MjY3Nyw0MC4xMjg1NTU3IDM2LjMwMzk1NDQsMzcuNzMwNDQwNSAyNS4yMjc0MTcsMzcuNzMwNDQwNSBDMTcuODQzMDU4NiwzNy43MzA0NDA1IDkuNDMzOTE5NjYsMzcuNzMwNDQwNSAwLDM3LjczMDQ0MDUgWiIgaWQ9IlBhdGgtMTkiIGZpbGw9IiMzNzkzRUYiPjwvcGF0aD4KICAgICAgICAgICAgPC9nPgogICAgICAgIDwvZz4KICAgIDwvZz4KPC9zdmc+' > </img>\n",
        "Created in <span style='font-weight:600;margin-left:4px;'>Deepnote</span></a>"
      ],
      "metadata": {
        "tags": [],
        "created_in_deepnote_cell": true,
        "deepnote_cell_type": "markdown",
        "id": "6P0UHXrFfn2z"
      }
    }
  ],
  "nbformat": 4,
  "nbformat_minor": 0,
  "metadata": {
    "kernelspec": {
      "display_name": "Python 3",
      "language": "python",
      "name": "python3"
    },
    "language_info": {
      "codemirror_mode": {
        "name": "ipython",
        "version": 3
      },
      "file_extension": ".py",
      "mimetype": "text/x-python",
      "name": "python",
      "nbconvert_exporter": "python",
      "pygments_lexer": "ipython3",
      "version": "3.8.3"
    },
    "toc": {
      "base_numbering": 1,
      "nav_menu": {},
      "number_sections": true,
      "sideBar": true,
      "skip_h1_title": true,
      "title_cell": "Tabla de Contenidos",
      "title_sidebar": "Contenidos",
      "toc_cell": false,
      "toc_position": {
        "height": "calc(100% - 180px)",
        "left": "10px",
        "top": "150px",
        "width": "241.867px"
      },
      "toc_section_display": true,
      "toc_window_display": true
    },
    "varInspector": {
      "cols": {
        "lenName": 16,
        "lenType": 16,
        "lenVar": 40
      },
      "kernels_config": {
        "python": {
          "delete_cmd_postfix": "",
          "delete_cmd_prefix": "del ",
          "library": "var_list.py",
          "varRefreshCmd": "print(var_dic_list())"
        },
        "r": {
          "delete_cmd_postfix": ") ",
          "delete_cmd_prefix": "rm(",
          "library": "var_list.r",
          "varRefreshCmd": "cat(var_dic_list()) "
        }
      },
      "types_to_exclude": [
        "module",
        "function",
        "builtin_function_or_method",
        "instance",
        "_Feature"
      ],
      "window_display": false
    },
    "colab": {
      "name": "Laboratorio 7 - Claro - Meneses.ipynb",
      "provenance": [],
      "collapsed_sections": []
    },
    "deepnote_notebook_id": "350d39d6-937f-44f2-9da5-3b4d715597f9",
    "deepnote": {},
    "deepnote_execution_queue": []
  }
}