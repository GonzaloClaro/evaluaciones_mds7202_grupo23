{
  "cells": [
    {
      "cell_type": "markdown",
      "source": [
        "<h1><center>Laboratorio 6: La desperación de Mr. Lepin 🐼</center></h1>\n",
        "\n",
        "<center><strong>MDS7202: Laboratorio de Programación Científica para Ciencia de Datos</strong></center>"
      ],
      "metadata": {
        "id": "XUZ1dFPHzAHl",
        "cell_id": "00000-d883b314-09da-429e-a3a3-57745182fbf1",
        "deepnote_cell_type": "markdown",
        "deepnote_cell_height": 156.390625
      }
    },
    {
      "cell_type": "markdown",
      "source": [
        "### Cuerpo Docente:\n",
        "\n",
        "- Profesor: Pablo Badilla\n",
        "- Auxiliar: Ignacio Meza D.\n",
        "- Ayudante: Patricio Ortiz"
      ],
      "metadata": {
        "id": "UD8X1uhGzAHq",
        "cell_id": "00001-311235ca-1e52-4b99-a8ed-ecc0efb3fddd",
        "deepnote_cell_type": "markdown",
        "deepnote_cell_height": 165.1875
      }
    },
    {
      "cell_type": "markdown",
      "source": [
        "### Equipo: SUPER IMPORTANTE - notebooks sin nombre no serán revisados\n",
        "\n",
        "- Nombre de alumno 1: Gonzalo Claro\n",
        "- Nombre de alumno 2: Camilo Meneses\n"
      ],
      "metadata": {
        "id": "tXflExjqzAHr",
        "cell_id": "00002-6c6c932b-c2ca-4e5c-8f35-4bcf76e99ae9",
        "owner_user_id": "badcc427-fd3d-4615-9296-faa43ec69cfb",
        "deepnote_cell_type": "markdown",
        "deepnote_cell_height": 139.796875
      }
    },
    {
      "cell_type": "markdown",
      "source": [
        "### **Link de repositorio de GitHub:** https://github.com/GonzaloClaro/evaluaciones_mds7202_grupo23"
      ],
      "metadata": {
        "id": "AD-V0bbZzAHr",
        "cell_id": "00003-78f31a0b-b9ea-415b-b6b1-c31406be9140",
        "deepnote_cell_type": "markdown",
        "deepnote_cell_height": 62
      }
    },
    {
      "cell_type": "markdown",
      "source": [
        "### Indice \n",
        "\n",
        "1. [Temas a tratar](#Temas-a-tratar:)\n",
        "3. [Descripcción del laboratorio](#Descripción-del-laboratorio.)\n",
        "4. [Desarrollo](#Desarrollo)"
      ],
      "metadata": {
        "id": "EcnsiQMkzAHr",
        "cell_id": "00004-813a4b9f-ec89-4439-9b6e-4d6558759415",
        "deepnote_cell_type": "markdown",
        "deepnote_cell_height": 165.1875
      }
    },
    {
      "cell_type": "markdown",
      "source": [
        "# Temas a tratar\n",
        "\n",
        "- Aplicar Pandas para obtener características de un DataFrame.\n",
        "- Aplicar Pipelines.\n",
        "- Aplicar Clusters sobre un conjunto de datos.\n",
        "\n",
        "## Reglas:\n",
        "\n",
        "- Fecha de entrega: 09/06/2021\n",
        "- **Grupos de 2 personas**\n",
        "- **Ausentes** deberán realizar la actividad solos. \n",
        "- Cualquier duda fuera del horario de clases al foro. Mensajes al equipo docente serán respondidos por este medio.\n",
        "- Prohibidas las copias. \n",
        "- Pueden usar cualquer matrial del curso que estimen conveniente.\n",
        "- Código que no se pueda ejecutar, no será revisado.\n",
        "\n",
        "### Objetivos principales del laboratorio\n",
        "\n",
        "- Comprender y aprovechar las ventajas que nos ofrece la librería `pandas` con respecto a trabajar en Python 'puro'.\n",
        "- Crear nuevas características para entrenar un modelo de clustering.\n",
        "- Comprender como aplicar pipelines de Scikit-Learn para generar procesos más limpios.\n",
        "\n",
        "El laboratorio deberá ser desarrollado sin el uso indiscriminado de iteradores nativos de python (aka \"for\", \"while\"). La idea es que aprendan a exprimir al máximo las funciones optimizadas que nos entrega `numpy`, las cuales vale mencionar, son bastante más eficientes que los iteradores nativos sobre arreglos (*o tensores*)."
      ],
      "metadata": {
        "id": "6uBLPj1PzAHs",
        "cell_id": "00005-30720d0a-a8ea-4112-8a56-7830fced4c1e",
        "owner_user_id": "d50c3174-babb-4861-9c71-7e3af66458b8",
        "deepnote_cell_type": "markdown",
        "deepnote_cell_height": 632.390625
      }
    },
    {
      "cell_type": "markdown",
      "source": [
        "## Descripción del laboratorio."
      ],
      "metadata": {
        "id": "wrG4gYabzAHs",
        "cell_id": "00006-0d097eb1-85d1-4f26-8119-593d58e99a79",
        "deepnote_cell_type": "markdown",
        "deepnote_cell_height": 70
      }
    },
    {
      "cell_type": "markdown",
      "source": [
        "### Importamos librerias utiles 😸"
      ],
      "metadata": {
        "id": "MhISwri4zAHy",
        "cell_id": "00007-b3b99a7c-5696-433b-a20c-3c6acdd9eb76",
        "deepnote_cell_type": "markdown",
        "deepnote_cell_height": 62
      }
    },
    {
      "cell_type": "code",
      "metadata": {
        "ExecuteTime": {
          "end_time": "2021-03-29T00:08:16.884674Z",
          "start_time": "2021-03-29T00:08:16.349846Z"
        },
        "id": "uyc33dKdzAHy",
        "colab": {
          "base_uri": "https://localhost:8080/"
        },
        "outputId": "ffb0134f-4794-4a29-808d-b98ce355f11a",
        "deepnote_to_be_reexecuted": false,
        "source_hash": "a3741fd5",
        "execution_start": 1635469788590,
        "execution_millis": 8517,
        "cell_id": "00008-147c370f-05a3-40e6-88ce-931f568c02ba",
        "deepnote_cell_type": "code",
        "deepnote_cell_height": 516
      },
      "source": [
        "# Libreria Core del lab.\n",
        "import numpy as np\n",
        "import pandas as pd\n",
        "import datetime\n",
        "from IPython.display import HTML\n",
        "\n",
        "# Libreria para plotear (En colab esta desactualizado plotly)\n",
        "!pip install --upgrade plotly\n",
        "import plotly.express as px\n",
        "import plotly.graph_objects as go\n",
        "\n",
        "# Librerias utiles\n",
        "from sklearn.manifold import TSNE\n",
        "from sklearn.cluster import KMeans\n",
        "from sklearn.base import BaseEstimator, TransformerMixin\n",
        "from sklearn.model_selection import train_test_split \n",
        "from sklearn.pipeline import Pipeline\n",
        "from sklearn.compose import ColumnTransformer\n",
        "from sklearn.preprocessing import FunctionTransformer"
      ],
      "execution_count": 1,
      "outputs": [
        {
          "output_type": "stream",
          "name": "stdout",
          "text": [
            "Looking in indexes: https://pypi.org/simple, https://us-python.pkg.dev/colab-wheels/public/simple/\n",
            "Requirement already satisfied: plotly in /usr/local/lib/python3.7/dist-packages (5.5.0)\n",
            "Collecting plotly\n",
            "  Downloading plotly-5.8.1-py2.py3-none-any.whl (15.2 MB)\n",
            "\u001b[K     |████████████████████████████████| 15.2 MB 7.9 MB/s \n",
            "\u001b[?25hRequirement already satisfied: tenacity>=6.2.0 in /usr/local/lib/python3.7/dist-packages (from plotly) (8.0.1)\n",
            "Installing collected packages: plotly\n",
            "  Attempting uninstall: plotly\n",
            "    Found existing installation: plotly 5.5.0\n",
            "    Uninstalling plotly-5.5.0:\n",
            "      Successfully uninstalled plotly-5.5.0\n",
            "Successfully installed plotly-5.8.1\n"
          ]
        }
      ]
    },
    {
      "cell_type": "code",
      "metadata": {
        "id": "gQ0-zPV4NNrq",
        "deepnote_to_be_reexecuted": false,
        "source_hash": "c60dc4a7",
        "execution_start": 1635165625274,
        "execution_millis": 7,
        "cell_id": "00009-8a73dd07-b0c0-471a-8db1-e539107fe785",
        "deepnote_cell_type": "code",
        "deepnote_cell_height": 220,
        "colab": {
          "base_uri": "https://localhost:8080/"
        },
        "outputId": "3d98a77c-a0cb-42d4-89a1-3d9160053ca6"
      },
      "source": [
        "# Si usted está utilizando Colabolatory le puede ser útil este código para cargar los archivos.\n",
        "try:\n",
        "    from google.colab import drive\n",
        "    drive.mount(\"/content/drive\")\n",
        "except: \n",
        "    print('Ignorando conexión drive-colab')"
      ],
      "execution_count": 2,
      "outputs": [
        {
          "output_type": "stream",
          "name": "stdout",
          "text": [
            "Mounted at /content/drive\n"
          ]
        }
      ]
    },
    {
      "cell_type": "code",
      "source": [
        "path = '/content/drive/MyDrive/Universidad /2022-1/Lab programación científica/Lab 6/'"
      ],
      "metadata": {
        "id": "J-vmiS172Yss"
      },
      "execution_count": 3,
      "outputs": []
    },
    {
      "cell_type": "markdown",
      "source": [
        "# Segmentación de Clientes en Tienda de Retail 🛍️"
      ],
      "metadata": {
        "id": "QDwIXTh7bK_A",
        "cell_id": "00011-44ff4b7f-0721-4a5a-91cf-0fed38291eb2",
        "deepnote_cell_type": "markdown",
        "deepnote_cell_height": 134
      }
    },
    {
      "cell_type": "markdown",
      "source": [
        "<p align=\"center\">\n",
        "  <img width=300 src=\"https://s1.eestatic.com/2018/04/14/social/la_jungla_-_social_299733421_73842361_854x640.jpg\">\n",
        "</p>"
      ],
      "metadata": {
        "tags": [],
        "cell_id": "00012-3f997299-ad75-4cd4-80b4-839d33c07b2a",
        "deepnote_cell_type": "markdown",
        "deepnote_cell_height": 294.8125,
        "id": "4eU0vYKN1mBR"
      }
    },
    {
      "cell_type": "markdown",
      "source": [
        "## 1.1 Cargar Dataset"
      ],
      "metadata": {
        "tags": [],
        "cell_id": "00013-21aecb33-d28d-4fcb-93db-67307326ab2b",
        "deepnote_cell_type": "markdown",
        "deepnote_cell_height": 70,
        "id": "Wwx7LupN1mBS"
      }
    },
    {
      "cell_type": "markdown",
      "source": [
        "Mr. Lepin, en una nueva reunión, le cuenta a ud y su equipo que los resultados derivados del análisis exploratorio de dato presentaron una gran utilidad para la empresa y que tiene un gran entusiasmo por continuar trabajando con ustedes.\n",
        "Es por esto, que Mr. Lepin les pide que cargue y visualicen algunas de las filas que componen el Dataset.\n",
        "A continuación un extracto de lo parlamentado en la reunión:\n",
        "\n",
        "    - Usted: Es un gran logro para nuestro equipo que usted haya encontrado excelente el EDA. ¿Qué tiene en mente ahora?\n",
        "    - Mr. Lepin: Resulta que hace algún tiempo, mientras tomaba un mojito en una reunión de gerentes en Panamá, oí a un *chato* acerca de **LRMFP**, que es un modelo que permite personificar a los clientes a través de la farbicación de distintos atributos que describen a los clientes. Lo encontré es-tu-pendo ñatito. \n",
        "    - Usted: Ehh bueno. Investigaremos acerca de este modelo y veremos lo que podemos hacer.\n",
        "\n",
        "Por ende, su siguiente tarea es calcular **LRMFP** sobre cada cliente y luego hacer un análisis de las características generadas. Para esto, el área de ventas les entrega un nuevo archivo llamado `online_retail_II_cleaned.pickle`, quien posee los datos del DataFrame original limpios y listos para obtener las características solicitadas por Mr. Lepin."
      ],
      "metadata": {
        "tags": [],
        "cell_id": "00014-bfeb4dba-666e-4613-af4b-c609a72df95e",
        "deepnote_cell_type": "markdown",
        "deepnote_cell_height": 345.59375,
        "id": "COrb3-qj1mBT"
      }
    },
    {
      "cell_type": "code",
      "metadata": {
        "id": "7FNOu-CvjV5m",
        "colab": {
          "base_uri": "https://localhost:8080/",
          "height": 250
        },
        "outputId": "46cad6ca-dcdb-4d33-8469-ba893faa10cf",
        "deepnote_to_be_reexecuted": false,
        "source_hash": "d52b246c",
        "execution_start": 1635469797118,
        "execution_millis": 466,
        "cell_id": "00015-9f304f85-cc91-43d5-b9e0-e16decca6cd0",
        "deepnote_cell_type": "code",
        "deepnote_cell_height": 490,
        "deepnote_output_heights": [
          177
        ]
      },
      "source": [
        "df_retail = pd.read_pickle(path+\"online_retail_II_cleaned.pickle\")\n",
        "df_retail = df_retail.astype(\n",
        "    {\n",
        "        \"Invoice\": \"category\",\n",
        "        \"StockCode\": \"category\",\n",
        "        \"Description\": \"category\",\n",
        "        \"Description\": str,\n",
        "        \"Customer ID\": \"category\",\n",
        "        \"Country\": \"category\"\n",
        "    }\n",
        ")\n",
        "df_retail.head()\n"
      ],
      "execution_count": 4,
      "outputs": [
        {
          "output_type": "execute_result",
          "data": {
            "text/plain": [
              "  Invoice StockCode                          Description  Quantity  \\\n",
              "0  489434     85048  15CM CHRISTMAS GLASS BALL 20 LIGHTS        12   \n",
              "1  489434    79323P                   PINK CHERRY LIGHTS        12   \n",
              "2  489434    79323W                  WHITE CHERRY LIGHTS        12   \n",
              "3  489434     22041         RECORD FRAME 7\" SINGLE SIZE         48   \n",
              "4  489434     21232       STRAWBERRY CERAMIC TRINKET BOX        24   \n",
              "\n",
              "          InvoiceDate  Price Customer ID         Country  \n",
              "0 2009-12-01 07:45:00   6.95     13085.0  United Kingdom  \n",
              "1 2009-12-01 07:45:00   6.75     13085.0  United Kingdom  \n",
              "2 2009-12-01 07:45:00   6.75     13085.0  United Kingdom  \n",
              "3 2009-12-01 07:45:00   2.10     13085.0  United Kingdom  \n",
              "4 2009-12-01 07:45:00   1.25     13085.0  United Kingdom  "
            ],
            "text/html": [
              "\n",
              "  <div id=\"df-bd01a08a-25c1-4ea6-8a26-3df0e7c0858f\">\n",
              "    <div class=\"colab-df-container\">\n",
              "      <div>\n",
              "<style scoped>\n",
              "    .dataframe tbody tr th:only-of-type {\n",
              "        vertical-align: middle;\n",
              "    }\n",
              "\n",
              "    .dataframe tbody tr th {\n",
              "        vertical-align: top;\n",
              "    }\n",
              "\n",
              "    .dataframe thead th {\n",
              "        text-align: right;\n",
              "    }\n",
              "</style>\n",
              "<table border=\"1\" class=\"dataframe\">\n",
              "  <thead>\n",
              "    <tr style=\"text-align: right;\">\n",
              "      <th></th>\n",
              "      <th>Invoice</th>\n",
              "      <th>StockCode</th>\n",
              "      <th>Description</th>\n",
              "      <th>Quantity</th>\n",
              "      <th>InvoiceDate</th>\n",
              "      <th>Price</th>\n",
              "      <th>Customer ID</th>\n",
              "      <th>Country</th>\n",
              "    </tr>\n",
              "  </thead>\n",
              "  <tbody>\n",
              "    <tr>\n",
              "      <th>0</th>\n",
              "      <td>489434</td>\n",
              "      <td>85048</td>\n",
              "      <td>15CM CHRISTMAS GLASS BALL 20 LIGHTS</td>\n",
              "      <td>12</td>\n",
              "      <td>2009-12-01 07:45:00</td>\n",
              "      <td>6.95</td>\n",
              "      <td>13085.0</td>\n",
              "      <td>United Kingdom</td>\n",
              "    </tr>\n",
              "    <tr>\n",
              "      <th>1</th>\n",
              "      <td>489434</td>\n",
              "      <td>79323P</td>\n",
              "      <td>PINK CHERRY LIGHTS</td>\n",
              "      <td>12</td>\n",
              "      <td>2009-12-01 07:45:00</td>\n",
              "      <td>6.75</td>\n",
              "      <td>13085.0</td>\n",
              "      <td>United Kingdom</td>\n",
              "    </tr>\n",
              "    <tr>\n",
              "      <th>2</th>\n",
              "      <td>489434</td>\n",
              "      <td>79323W</td>\n",
              "      <td>WHITE CHERRY LIGHTS</td>\n",
              "      <td>12</td>\n",
              "      <td>2009-12-01 07:45:00</td>\n",
              "      <td>6.75</td>\n",
              "      <td>13085.0</td>\n",
              "      <td>United Kingdom</td>\n",
              "    </tr>\n",
              "    <tr>\n",
              "      <th>3</th>\n",
              "      <td>489434</td>\n",
              "      <td>22041</td>\n",
              "      <td>RECORD FRAME 7\" SINGLE SIZE</td>\n",
              "      <td>48</td>\n",
              "      <td>2009-12-01 07:45:00</td>\n",
              "      <td>2.10</td>\n",
              "      <td>13085.0</td>\n",
              "      <td>United Kingdom</td>\n",
              "    </tr>\n",
              "    <tr>\n",
              "      <th>4</th>\n",
              "      <td>489434</td>\n",
              "      <td>21232</td>\n",
              "      <td>STRAWBERRY CERAMIC TRINKET BOX</td>\n",
              "      <td>24</td>\n",
              "      <td>2009-12-01 07:45:00</td>\n",
              "      <td>1.25</td>\n",
              "      <td>13085.0</td>\n",
              "      <td>United Kingdom</td>\n",
              "    </tr>\n",
              "  </tbody>\n",
              "</table>\n",
              "</div>\n",
              "      <button class=\"colab-df-convert\" onclick=\"convertToInteractive('df-bd01a08a-25c1-4ea6-8a26-3df0e7c0858f')\"\n",
              "              title=\"Convert this dataframe to an interactive table.\"\n",
              "              style=\"display:none;\">\n",
              "        \n",
              "  <svg xmlns=\"http://www.w3.org/2000/svg\" height=\"24px\"viewBox=\"0 0 24 24\"\n",
              "       width=\"24px\">\n",
              "    <path d=\"M0 0h24v24H0V0z\" fill=\"none\"/>\n",
              "    <path d=\"M18.56 5.44l.94 2.06.94-2.06 2.06-.94-2.06-.94-.94-2.06-.94 2.06-2.06.94zm-11 1L8.5 8.5l.94-2.06 2.06-.94-2.06-.94L8.5 2.5l-.94 2.06-2.06.94zm10 10l.94 2.06.94-2.06 2.06-.94-2.06-.94-.94-2.06-.94 2.06-2.06.94z\"/><path d=\"M17.41 7.96l-1.37-1.37c-.4-.4-.92-.59-1.43-.59-.52 0-1.04.2-1.43.59L10.3 9.45l-7.72 7.72c-.78.78-.78 2.05 0 2.83L4 21.41c.39.39.9.59 1.41.59.51 0 1.02-.2 1.41-.59l7.78-7.78 2.81-2.81c.8-.78.8-2.07 0-2.86zM5.41 20L4 18.59l7.72-7.72 1.47 1.35L5.41 20z\"/>\n",
              "  </svg>\n",
              "      </button>\n",
              "      \n",
              "  <style>\n",
              "    .colab-df-container {\n",
              "      display:flex;\n",
              "      flex-wrap:wrap;\n",
              "      gap: 12px;\n",
              "    }\n",
              "\n",
              "    .colab-df-convert {\n",
              "      background-color: #E8F0FE;\n",
              "      border: none;\n",
              "      border-radius: 50%;\n",
              "      cursor: pointer;\n",
              "      display: none;\n",
              "      fill: #1967D2;\n",
              "      height: 32px;\n",
              "      padding: 0 0 0 0;\n",
              "      width: 32px;\n",
              "    }\n",
              "\n",
              "    .colab-df-convert:hover {\n",
              "      background-color: #E2EBFA;\n",
              "      box-shadow: 0px 1px 2px rgba(60, 64, 67, 0.3), 0px 1px 3px 1px rgba(60, 64, 67, 0.15);\n",
              "      fill: #174EA6;\n",
              "    }\n",
              "\n",
              "    [theme=dark] .colab-df-convert {\n",
              "      background-color: #3B4455;\n",
              "      fill: #D2E3FC;\n",
              "    }\n",
              "\n",
              "    [theme=dark] .colab-df-convert:hover {\n",
              "      background-color: #434B5C;\n",
              "      box-shadow: 0px 1px 3px 1px rgba(0, 0, 0, 0.15);\n",
              "      filter: drop-shadow(0px 1px 2px rgba(0, 0, 0, 0.3));\n",
              "      fill: #FFFFFF;\n",
              "    }\n",
              "  </style>\n",
              "\n",
              "      <script>\n",
              "        const buttonEl =\n",
              "          document.querySelector('#df-bd01a08a-25c1-4ea6-8a26-3df0e7c0858f button.colab-df-convert');\n",
              "        buttonEl.style.display =\n",
              "          google.colab.kernel.accessAllowed ? 'block' : 'none';\n",
              "\n",
              "        async function convertToInteractive(key) {\n",
              "          const element = document.querySelector('#df-bd01a08a-25c1-4ea6-8a26-3df0e7c0858f');\n",
              "          const dataTable =\n",
              "            await google.colab.kernel.invokeFunction('convertToInteractive',\n",
              "                                                     [key], {});\n",
              "          if (!dataTable) return;\n",
              "\n",
              "          const docLinkHtml = 'Like what you see? Visit the ' +\n",
              "            '<a target=\"_blank\" href=https://colab.research.google.com/notebooks/data_table.ipynb>data table notebook</a>'\n",
              "            + ' to learn more about interactive tables.';\n",
              "          element.innerHTML = '';\n",
              "          dataTable['output_type'] = 'display_data';\n",
              "          await google.colab.output.renderOutput(dataTable, element);\n",
              "          const docLink = document.createElement('div');\n",
              "          docLink.innerHTML = docLinkHtml;\n",
              "          element.appendChild(docLink);\n",
              "        }\n",
              "      </script>\n",
              "    </div>\n",
              "  </div>\n",
              "  "
            ]
          },
          "metadata": {},
          "execution_count": 4
        }
      ]
    },
    {
      "cell_type": "markdown",
      "source": [
        "## 1.2 Creación de nuevas Caracteristicas [2 Puntos] "
      ],
      "metadata": {
        "tags": [],
        "cell_id": "00016-245c3eeb-d33d-4da1-b738-a91d4e055fa1",
        "deepnote_cell_type": "markdown",
        "deepnote_cell_height": 70,
        "id": "TD2bJq-Y1mBW"
      }
    },
    {
      "cell_type": "markdown",
      "source": [
        "Como ya se les comento, Mr. Lepin esta interesado en obtener las características **LRMFP**, para esto les señala que estas características se construyen en base a las siguientes definiciones:\n",
        "\n",
        "- **Length (L)**: Intervalo de tiempo, en días, entre la primera y la última visita del cliente. Mientras mas grande sea el valor, mas fiel es el cliente.\n",
        "- **Recency (R)**: Indica la actualidad de la interacción de un cliente con la empresa, y da información sobre la tendencia a repetir la compra. Se define como: \n",
        "$$Recency(n)=\\dfrac{1}{n} \\sum^n_{i=1} date\\_diff(t_{fecha final}, t_{m-i+1})$$\n",
        "\n",
        " Donde $date\\_diff$ representa la diferencia en días entre la fecha de finalización del periodo de observación ($t_{fecha final}$), y la fecha de una visita del cliente cercana a $t_{fecha final}$, $t_{m-i+1}; t_{m}$ es la última visita del cliente; y n es el número de visitas recientes del cliente consideradas.\n",
        "\n",
        "- **Monetary (M)**: El término \"monetario\" se refiere a la cantidad media de dinero gastada por cada visita del cliente durante el período de observación y refleja la contribución del cliente a los ingresos de la empresa.\n",
        "\n",
        "- **Frequency (F)**: Se refiere al número total de visitas del cliente durante el periodo de observación. Cuanto mayor sea la frecuencia, mayor será la fidelidad del cliente. \n",
        "\n",
        "- **Periodicity (P)**: Representa si los clientes visitan las tiendas con regularidad.\n",
        "\n",
        "$$Periodicity(n)=std(IVT_1, ..., IVT_n)$$\n",
        "\n",
        "&nbsp;&nbsp; &nbsp;&nbsp;&nbsp;&nbsp;&nbsp;&nbsp;Donde $IVT$ denota el tiempo entre visitas y n representa el número de valores de tiempo entre visitas de un cliente.\n",
        " \n",
        "\n",
        "$$IVT_i=date\\_diff(t_{i+1},t)$$\n",
        "\n",
        "En base a las definiciones señaladas, diseñe una función que permita obtener las características **LRMFP** recibiendo un DataFrame como entrada. Para esto, no estará permitido el uso de iteradores, utilice todas las herramientas que les ofrece `pandas` para realizar esto.\n",
        "\n",
        "Una referencia que le puede ser útil es el [documento original](https://www.researchgate.net/publication/315979555_LRFMP_model_for_customer_segmentation_in_the_grocery_retail_industry_a_case_study) en donde se propone este método.\n",
        "\n",
        "**Nota:** Para la $fechafinal$ utilice la fecha máxima del dataset más 1 día."
      ],
      "metadata": {
        "tags": [],
        "cell_id": "00017-011b89ed-d830-4f8e-9e4d-2c8d156651c3",
        "deepnote_cell_type": "markdown",
        "deepnote_cell_height": 707.75,
        "id": "1h0nel071mBX"
      }
    },
    {
      "cell_type": "markdown",
      "source": [
        "**Ejemplo de Resultado Esperado:**\n",
        "\n",
        "| Customer ID | Length | Recency | Frequency | Monetary | Periodicity |\n",
        "|------------:|-------:|--------:|----------:|---------:|------------:|\n",
        "|   12346.0   |    294 |      67 |        46 |   -64.68 |        37.0 |\n",
        "|   12347.0   |     37 |       3 |        71 |  1323.32 |         0.0 |\n",
        "|   12349.0   |    327 |      43 |       107 |  2646.99 |        78.0 |\n",
        "|   12352.0   |     16 |      11 |        18 |   343.80 |         0.0 |\n",
        "|   12356.0   |     44 |      16 |        84 |  3562.25 |        12.0 |"
      ],
      "metadata": {
        "tags": [],
        "cell_id": "00018-24bac8c8-bd63-41ac-8e0f-de55e02c56f0",
        "deepnote_cell_type": "markdown",
        "deepnote_cell_height": 212.796875,
        "id": "nRuJloP_1mBY"
      }
    },
    {
      "cell_type": "markdown",
      "source": [
        "**Respuesta:**"
      ],
      "metadata": {
        "tags": [],
        "cell_id": "00019-0bbd888f-87e7-49f7-a5d5-81564c13fe16",
        "deepnote_cell_type": "markdown",
        "deepnote_cell_height": 52.390625,
        "id": "GZBHdBjK1mBZ"
      }
    },
    {
      "cell_type": "code",
      "metadata": {
        "tags": [],
        "cell_id": "00020-1a24ff7c-fd2f-416e-8275-2107b7dc2a78",
        "deepnote_cell_type": "code",
        "deepnote_cell_height": 84,
        "id": "OXrsPiAj1mBZ"
      },
      "source": [
        "def custom_features(dataframe_in):\n",
        "    #Calculamos Length\n",
        "    df_length = dataframe_in.copy()\n",
        "    df_length = (df_length.groupby(\"Customer ID\")[\"InvoiceDate\"].agg([\"first\", \"last\"]).reset_index())\n",
        "    df_length[\"Length\"] = (df_length[\"last\"] - df_length[\"first\"]).dt.days\n",
        "    df_length = df_length.loc[:, [\"Customer ID\", \"Length\"]]\n",
        "    df_LRMFP = df_length\n",
        "\n",
        "    #Calculamos Recency\n",
        "    df_max = (dataframe_in.copy().groupby(\"Customer ID\").max().reset_index())\n",
        "    df_max = df_max.rename(columns={\"InvoiceDate\": \"Max\"}).loc[:, [\"Customer ID\", \"Max\"]]\n",
        "    df_recency = dataframe_in.merge(df_max, how='left')\n",
        "    df_recency[\"Recency\"] = (df_recency[\"Max\"] + datetime.timedelta(days = 1) - df_recency[\"InvoiceDate\"]).dt.days\n",
        "    df_recency = (df_recency.groupby(\"Customer ID\")[\"Recency\"].mean().reset_index().round())\n",
        "    df_LRMFP = pd.merge(df_LRMFP, df_recency, how='left')\n",
        "\n",
        "    #Calculamos Frequency\n",
        "    df_frequency = dataframe_in.copy()\n",
        "    df_frequency = df_frequency.groupby('Invoice').first().reset_index()\n",
        "    df_frequency = df_frequency.groupby('Customer ID').size().reset_index()\n",
        "    df_frequency = df_frequency.rename({0: 'Frequency'},axis='columns')\n",
        "    df_LRMFP = pd.merge(df_LRMFP, df_frequency, how='left')\n",
        "\n",
        "    #Calculamos Monetary\n",
        "    df_monetary = dataframe_in.copy()\n",
        "    df_monetary['Monetary'] = df_monetary['Quantity']*df_monetary['Price']\n",
        "    df_monetary = df_monetary.groupby('Customer ID').sum().loc[:,'Monetary'].reset_index()\n",
        "    df_LRMFP = pd.merge(df_LRMFP, df_monetary, how='left')\n",
        "    df_LRMFP['Monetary'] = df_LRMFP['Monetary']/df_LRMFP['Frequency']\n",
        "    \n",
        "    #Calculamos Periodicity\n",
        "    df_periodicity = dataframe_in.copy()\n",
        "    df_periodicity = df_periodicity.groupby('Invoice').first().reset_index() \n",
        "    df_periodicity = df_periodicity.sort_values(['Customer ID', 'InvoiceDate'])\n",
        "    df_periodicity['PrevDate'] = df_periodicity.groupby('Customer ID')['InvoiceDate'].shift()\n",
        "    df_periodicity['Periodicity'] = (df_periodicity['InvoiceDate'] - df_periodicity['PrevDate']).dt.seconds/(3600*24)\n",
        "    df_periodicity = df_periodicity.groupby('Customer ID').std().loc[:,['Periodicity']].reset_index()\n",
        "    df_LRMFP = pd.merge(df_LRMFP, df_periodicity, how='left')\n",
        "    \n",
        "    df_LRMFP['Customer ID'] = df_LRMFP['Customer ID'].astype(int)\n",
        "    df_LRMFP = df_LRMFP.dropna().reset_index(drop=True)\n",
        "\n",
        "    return df_LRMFP"
      ],
      "execution_count": 87,
      "outputs": []
    },
    {
      "cell_type": "code",
      "source": [
        "df_lrmfp = custom_features(df_retail)\n",
        "display(df_lrmfp)"
      ],
      "metadata": {
        "colab": {
          "base_uri": "https://localhost:8080/",
          "height": 513
        },
        "id": "qGXXlnGFjD2r",
        "outputId": "f55a2eee-165b-4990-da9d-ca1081e50e2e"
      },
      "execution_count": 88,
      "outputs": [
        {
          "output_type": "stream",
          "name": "stderr",
          "text": [
            "/usr/local/lib/python3.7/dist-packages/ipykernel_launcher.py:10: FutureWarning:\n",
            "\n",
            "Dropping invalid columns in DataFrameGroupBy.max is deprecated. In a future version, a TypeError will be raised. Before calling .max, select only columns which should be valid for the function.\n",
            "\n"
          ]
        },
        {
          "output_type": "display_data",
          "data": {
            "text/plain": [
              "      Customer ID  Length  Recency  Frequency     Monetary  Periodicity\n",
              "0           12346     196     69.0         11    33.896364     0.477915\n",
              "1           12349     181     84.0          3   890.380000     0.053524\n",
              "2           12356      44     24.0          3  1186.766667     0.510688\n",
              "3           12358     356    159.0          3   906.336667     0.529839\n",
              "4           12359     308    167.0          6   427.226667     0.445477\n",
              "...           ...     ...      ...        ...          ...          ...\n",
              "2078        18272      97     57.0          3   435.800000     0.021606\n",
              "2079        18276     336    148.0          5   264.132000     0.414071\n",
              "2080        18277      97     39.0          4   267.417500     0.078341\n",
              "2081        18283     275    159.0          6   103.228333     0.492313\n",
              "2082        18287     188    136.0          4   586.427500     0.561356\n",
              "\n",
              "[2083 rows x 6 columns]"
            ],
            "text/html": [
              "\n",
              "  <div id=\"df-503d582a-1fb9-4ba6-8c33-dd4117b36fe1\">\n",
              "    <div class=\"colab-df-container\">\n",
              "      <div>\n",
              "<style scoped>\n",
              "    .dataframe tbody tr th:only-of-type {\n",
              "        vertical-align: middle;\n",
              "    }\n",
              "\n",
              "    .dataframe tbody tr th {\n",
              "        vertical-align: top;\n",
              "    }\n",
              "\n",
              "    .dataframe thead th {\n",
              "        text-align: right;\n",
              "    }\n",
              "</style>\n",
              "<table border=\"1\" class=\"dataframe\">\n",
              "  <thead>\n",
              "    <tr style=\"text-align: right;\">\n",
              "      <th></th>\n",
              "      <th>Customer ID</th>\n",
              "      <th>Length</th>\n",
              "      <th>Recency</th>\n",
              "      <th>Frequency</th>\n",
              "      <th>Monetary</th>\n",
              "      <th>Periodicity</th>\n",
              "    </tr>\n",
              "  </thead>\n",
              "  <tbody>\n",
              "    <tr>\n",
              "      <th>0</th>\n",
              "      <td>12346</td>\n",
              "      <td>196</td>\n",
              "      <td>69.0</td>\n",
              "      <td>11</td>\n",
              "      <td>33.896364</td>\n",
              "      <td>0.477915</td>\n",
              "    </tr>\n",
              "    <tr>\n",
              "      <th>1</th>\n",
              "      <td>12349</td>\n",
              "      <td>181</td>\n",
              "      <td>84.0</td>\n",
              "      <td>3</td>\n",
              "      <td>890.380000</td>\n",
              "      <td>0.053524</td>\n",
              "    </tr>\n",
              "    <tr>\n",
              "      <th>2</th>\n",
              "      <td>12356</td>\n",
              "      <td>44</td>\n",
              "      <td>24.0</td>\n",
              "      <td>3</td>\n",
              "      <td>1186.766667</td>\n",
              "      <td>0.510688</td>\n",
              "    </tr>\n",
              "    <tr>\n",
              "      <th>3</th>\n",
              "      <td>12358</td>\n",
              "      <td>356</td>\n",
              "      <td>159.0</td>\n",
              "      <td>3</td>\n",
              "      <td>906.336667</td>\n",
              "      <td>0.529839</td>\n",
              "    </tr>\n",
              "    <tr>\n",
              "      <th>4</th>\n",
              "      <td>12359</td>\n",
              "      <td>308</td>\n",
              "      <td>167.0</td>\n",
              "      <td>6</td>\n",
              "      <td>427.226667</td>\n",
              "      <td>0.445477</td>\n",
              "    </tr>\n",
              "    <tr>\n",
              "      <th>...</th>\n",
              "      <td>...</td>\n",
              "      <td>...</td>\n",
              "      <td>...</td>\n",
              "      <td>...</td>\n",
              "      <td>...</td>\n",
              "      <td>...</td>\n",
              "    </tr>\n",
              "    <tr>\n",
              "      <th>2078</th>\n",
              "      <td>18272</td>\n",
              "      <td>97</td>\n",
              "      <td>57.0</td>\n",
              "      <td>3</td>\n",
              "      <td>435.800000</td>\n",
              "      <td>0.021606</td>\n",
              "    </tr>\n",
              "    <tr>\n",
              "      <th>2079</th>\n",
              "      <td>18276</td>\n",
              "      <td>336</td>\n",
              "      <td>148.0</td>\n",
              "      <td>5</td>\n",
              "      <td>264.132000</td>\n",
              "      <td>0.414071</td>\n",
              "    </tr>\n",
              "    <tr>\n",
              "      <th>2080</th>\n",
              "      <td>18277</td>\n",
              "      <td>97</td>\n",
              "      <td>39.0</td>\n",
              "      <td>4</td>\n",
              "      <td>267.417500</td>\n",
              "      <td>0.078341</td>\n",
              "    </tr>\n",
              "    <tr>\n",
              "      <th>2081</th>\n",
              "      <td>18283</td>\n",
              "      <td>275</td>\n",
              "      <td>159.0</td>\n",
              "      <td>6</td>\n",
              "      <td>103.228333</td>\n",
              "      <td>0.492313</td>\n",
              "    </tr>\n",
              "    <tr>\n",
              "      <th>2082</th>\n",
              "      <td>18287</td>\n",
              "      <td>188</td>\n",
              "      <td>136.0</td>\n",
              "      <td>4</td>\n",
              "      <td>586.427500</td>\n",
              "      <td>0.561356</td>\n",
              "    </tr>\n",
              "  </tbody>\n",
              "</table>\n",
              "<p>2083 rows × 6 columns</p>\n",
              "</div>\n",
              "      <button class=\"colab-df-convert\" onclick=\"convertToInteractive('df-503d582a-1fb9-4ba6-8c33-dd4117b36fe1')\"\n",
              "              title=\"Convert this dataframe to an interactive table.\"\n",
              "              style=\"display:none;\">\n",
              "        \n",
              "  <svg xmlns=\"http://www.w3.org/2000/svg\" height=\"24px\"viewBox=\"0 0 24 24\"\n",
              "       width=\"24px\">\n",
              "    <path d=\"M0 0h24v24H0V0z\" fill=\"none\"/>\n",
              "    <path d=\"M18.56 5.44l.94 2.06.94-2.06 2.06-.94-2.06-.94-.94-2.06-.94 2.06-2.06.94zm-11 1L8.5 8.5l.94-2.06 2.06-.94-2.06-.94L8.5 2.5l-.94 2.06-2.06.94zm10 10l.94 2.06.94-2.06 2.06-.94-2.06-.94-.94-2.06-.94 2.06-2.06.94z\"/><path d=\"M17.41 7.96l-1.37-1.37c-.4-.4-.92-.59-1.43-.59-.52 0-1.04.2-1.43.59L10.3 9.45l-7.72 7.72c-.78.78-.78 2.05 0 2.83L4 21.41c.39.39.9.59 1.41.59.51 0 1.02-.2 1.41-.59l7.78-7.78 2.81-2.81c.8-.78.8-2.07 0-2.86zM5.41 20L4 18.59l7.72-7.72 1.47 1.35L5.41 20z\"/>\n",
              "  </svg>\n",
              "      </button>\n",
              "      \n",
              "  <style>\n",
              "    .colab-df-container {\n",
              "      display:flex;\n",
              "      flex-wrap:wrap;\n",
              "      gap: 12px;\n",
              "    }\n",
              "\n",
              "    .colab-df-convert {\n",
              "      background-color: #E8F0FE;\n",
              "      border: none;\n",
              "      border-radius: 50%;\n",
              "      cursor: pointer;\n",
              "      display: none;\n",
              "      fill: #1967D2;\n",
              "      height: 32px;\n",
              "      padding: 0 0 0 0;\n",
              "      width: 32px;\n",
              "    }\n",
              "\n",
              "    .colab-df-convert:hover {\n",
              "      background-color: #E2EBFA;\n",
              "      box-shadow: 0px 1px 2px rgba(60, 64, 67, 0.3), 0px 1px 3px 1px rgba(60, 64, 67, 0.15);\n",
              "      fill: #174EA6;\n",
              "    }\n",
              "\n",
              "    [theme=dark] .colab-df-convert {\n",
              "      background-color: #3B4455;\n",
              "      fill: #D2E3FC;\n",
              "    }\n",
              "\n",
              "    [theme=dark] .colab-df-convert:hover {\n",
              "      background-color: #434B5C;\n",
              "      box-shadow: 0px 1px 3px 1px rgba(0, 0, 0, 0.15);\n",
              "      filter: drop-shadow(0px 1px 2px rgba(0, 0, 0, 0.3));\n",
              "      fill: #FFFFFF;\n",
              "    }\n",
              "  </style>\n",
              "\n",
              "      <script>\n",
              "        const buttonEl =\n",
              "          document.querySelector('#df-503d582a-1fb9-4ba6-8c33-dd4117b36fe1 button.colab-df-convert');\n",
              "        buttonEl.style.display =\n",
              "          google.colab.kernel.accessAllowed ? 'block' : 'none';\n",
              "\n",
              "        async function convertToInteractive(key) {\n",
              "          const element = document.querySelector('#df-503d582a-1fb9-4ba6-8c33-dd4117b36fe1');\n",
              "          const dataTable =\n",
              "            await google.colab.kernel.invokeFunction('convertToInteractive',\n",
              "                                                     [key], {});\n",
              "          if (!dataTable) return;\n",
              "\n",
              "          const docLinkHtml = 'Like what you see? Visit the ' +\n",
              "            '<a target=\"_blank\" href=https://colab.research.google.com/notebooks/data_table.ipynb>data table notebook</a>'\n",
              "            + ' to learn more about interactive tables.';\n",
              "          element.innerHTML = '';\n",
              "          dataTable['output_type'] = 'display_data';\n",
              "          await google.colab.output.renderOutput(dataTable, element);\n",
              "          const docLink = document.createElement('div');\n",
              "          docLink.innerHTML = docLinkHtml;\n",
              "          element.appendChild(docLink);\n",
              "        }\n",
              "      </script>\n",
              "    </div>\n",
              "  </div>\n",
              "  "
            ]
          },
          "metadata": {}
        }
      ]
    },
    {
      "cell_type": "markdown",
      "source": [
        "**Resúesta de Pauta:**"
      ],
      "metadata": {
        "tags": [],
        "cell_id": "00021-7a165a57-848e-4404-870f-cdaba339a9d8",
        "deepnote_cell_type": "markdown",
        "deepnote_cell_height": 52.390625,
        "id": "lpajmZ0G1mBa"
      }
    },
    {
      "cell_type": "markdown",
      "source": [
        "## 1.3 Pipelines 👷"
      ],
      "metadata": {
        "tags": [],
        "cell_id": "00024-d2150b7a-431a-4480-a6b3-801f31c9e464",
        "deepnote_cell_type": "markdown",
        "deepnote_cell_height": 70,
        "id": "qIAWwyZt1mBb"
      }
    },
    {
      "cell_type": "markdown",
      "source": [
        "Finalmente *Don Mora* le pregunta si seria posible realizar un pipeline para realizar una segmentación de los clientes con los nuevos datos generados, a lo que usted responde que **sí** y propone la utilización de k-means para la segmentación.\n",
        "\n",
        "A continuación siga los pasos requeridos para obtener la segmentación de clientes."
      ],
      "metadata": {
        "tags": [],
        "cell_id": "00025-34c61ca0-c2da-4708-90a6-d8a6919da07b",
        "deepnote_cell_type": "markdown",
        "deepnote_cell_height": 111.1875,
        "id": "KrS98UDh1mBb"
      }
    },
    {
      "cell_type": "markdown",
      "source": [
        "### 1.3.1 Estandarizar Caracteristicas [0.5 puntos]"
      ],
      "metadata": {
        "tags": [],
        "cell_id": "00026-f8effaef-07fa-40a9-a9cc-1b2f7f4bc137",
        "deepnote_cell_type": "markdown",
        "deepnote_cell_height": 62,
        "id": "a78qrSW41mBc"
      }
    },
    {
      "cell_type": "markdown",
      "source": [
        "Construya una clase llamada ``MinMax()`` utilizando ``BaseEstimator`` y ``TransformerMixin`` para realizar una transformación de cada una de las columnas de un DataFrame utilizando ``ColumnTransformer()`` más tarde (tome como referencia el siguiente [enlace](https://sklearn-template.readthedocs.io/en/latest/user_guide.html#transformer)).\n",
        "\n",
        "\n",
        " Para esto considere que Min-Max escaler queda dada por la ecuación:\n",
        "\n",
        "$$MinMax = \\dfrac{x-min(x)}{max(x) - min(x)}$$\n",
        "\n",
        "Con esto buscamos que los valores que componen a las columnas se muevan en el rango de valores $[0, 1]$."
      ],
      "metadata": {
        "tags": [],
        "cell_id": "00027-278c72d0-3d92-448e-85a2-af5dab7d6d77",
        "deepnote_cell_type": "markdown",
        "deepnote_cell_height": 224.015625,
        "id": "BVc5PhEJ1mBc"
      }
    },
    {
      "cell_type": "markdown",
      "source": [
        "**Respuesta:**"
      ],
      "metadata": {
        "tags": [],
        "cell_id": "00028-db77257b-6ecc-4dee-9f70-4f105e6aba42",
        "deepnote_cell_type": "markdown",
        "deepnote_cell_height": 52.390625,
        "id": "LxMPcq0I1mBd"
      }
    },
    {
      "cell_type": "code",
      "metadata": {
        "tags": [],
        "cell_id": "00029-b78cc7d2-05a8-4f86-a882-02e13ae67762",
        "deepnote_cell_type": "code",
        "deepnote_cell_height": 84,
        "id": "sA7BMYds1mBd"
      },
      "source": [
        "class MinMax(BaseEstimator, TransformerMixin):\n",
        "    def fit(self, X, y=None):\n",
        "        return self\n",
        "\n",
        "    def transform(self, X):\n",
        "        X = (X - X.min(axis=0))/(X.max(axis=0)-X.min(axis=0))\n",
        "        return X"
      ],
      "execution_count": 89,
      "outputs": []
    },
    {
      "cell_type": "markdown",
      "source": [
        "### 1.3.2 `T-SNA` Pipeline [1.0 puntos]"
      ],
      "metadata": {
        "tags": [],
        "cell_id": "00032-0ca1a5f5-1aab-4290-a8d4-b19be46f81ff",
        "deepnote_cell_type": "markdown",
        "deepnote_cell_height": 62,
        "id": "d_z2UrlV1mBd"
      }
    },
    {
      "cell_type": "markdown",
      "source": [
        "Para comenzar introduciéndose en el uso de pipeline, decide probar realizando un pipeline enfocado en la reducción de dimensionalidad y así hacer no decepcionar a Mr. Lepin con la clusterización del modelo. \n",
        "\n",
        "Configure un pipeline utilizando el algoritmo `T-SNE` sobre los datos **LRMFP**, donde, para la realización del pipeline considera los siguientes pasos:\n",
        "\n",
        "1. Como primer paso obtenga las características **LRMFP** desde el DataFrame ``df_retail_II_cleaned.pickle`` utilizando la función ``custom_features`` creada anteriormente, junto a ``FunctionTransformer()``. Considere esto como el primer paso de su pipeline.\n",
        "2. En segundo lugar usando ``ColumnTransformer()`` aplique el MinxMax scaler creado por usted sobre todas las columnas generadas en el paso anterior. \n",
        "3. Finalmente, aplique un último paso donde obtiene las 2 componentes más relevantes utilizando el algoritmo T-sne de sckit-learn.\n",
        "\n",
        "Tras aplicar las transformaciones sobre el dataset **LRMFP**, gráfique las componentes obtenidas en la reducción de dimensionalidad."
      ],
      "metadata": {
        "tags": [],
        "cell_id": "00033-5056169a-b068-46d2-ad1b-8b7659ab956c",
        "deepnote_cell_type": "markdown",
        "deepnote_cell_height": 346.796875,
        "id": "B_CrYkxP1mBe"
      }
    },
    {
      "cell_type": "markdown",
      "source": [
        "**Respuesta:**"
      ],
      "metadata": {
        "tags": [],
        "cell_id": "00034-eb18fbe8-72dd-496b-9f30-16cfb3ab5558",
        "deepnote_cell_type": "markdown",
        "deepnote_cell_height": 52.390625,
        "id": "g3aMv8WF1mBe"
      }
    },
    {
      "cell_type": "code",
      "metadata": {
        "tags": [],
        "cell_id": "00035-8231e7d2-13c6-45ec-9b9d-e9ecc8c27d94",
        "deepnote_cell_type": "code",
        "deepnote_cell_height": 66,
        "colab": {
          "base_uri": "https://localhost:8080/"
        },
        "id": "A6lV4iTw1mBf",
        "outputId": "41368961-bbaa-4b39-dc3f-fff4c8b70182"
      },
      "source": [
        "LRMFP = Pipeline([('Preprocessing',FunctionTransformer(custom_features)), \n",
        "                ('MinMaxTransform', MinMax()),\n",
        "                ('T-SNE', TSNE())])\n",
        "\n",
        "\n",
        "proy_LRMFP = LRMFP.fit_transform(df_retail)\n",
        "proy_LRMFP              "
      ],
      "execution_count": 90,
      "outputs": [
        {
          "output_type": "stream",
          "name": "stderr",
          "text": [
            "/usr/local/lib/python3.7/dist-packages/ipykernel_launcher.py:10: FutureWarning:\n",
            "\n",
            "Dropping invalid columns in DataFrameGroupBy.max is deprecated. In a future version, a TypeError will be raised. Before calling .max, select only columns which should be valid for the function.\n",
            "\n",
            "/usr/local/lib/python3.7/dist-packages/sklearn/manifold/_t_sne.py:783: FutureWarning:\n",
            "\n",
            "The default initialization in TSNE will change from 'random' to 'pca' in 1.2.\n",
            "\n",
            "/usr/local/lib/python3.7/dist-packages/sklearn/manifold/_t_sne.py:793: FutureWarning:\n",
            "\n",
            "The default learning rate in TSNE will change from 200.0 to 'auto' in 1.2.\n",
            "\n"
          ]
        },
        {
          "output_type": "execute_result",
          "data": {
            "text/plain": [
              "array([[  8.427461 ,  27.529516 ],\n",
              "       [ -6.5408487,  60.46388  ],\n",
              "       [ 28.976255 ,  26.663485 ],\n",
              "       ...,\n",
              "       [-21.73445  ,  77.627396 ],\n",
              "       [ 22.34733  , -41.71903  ],\n",
              "       [ 29.348455 , -34.874203 ]], dtype=float32)"
            ]
          },
          "metadata": {},
          "execution_count": 90
        }
      ]
    },
    {
      "cell_type": "markdown",
      "source": [
        "Graficamos las componentes obtenidas en reducción de dimensionalidad"
      ],
      "metadata": {
        "id": "EphWPBu5zCGX"
      }
    },
    {
      "cell_type": "code",
      "source": [
        "fig = px.scatter(proy_LRMFP, x=0, y=1,)\n",
        "fig.show()"
      ],
      "metadata": {
        "colab": {
          "base_uri": "https://localhost:8080/",
          "height": 542
        },
        "id": "9AcYE9yYyMuh",
        "outputId": "82836d96-4f30-4758-eeef-da7ec9356271"
      },
      "execution_count": 91,
      "outputs": [
        {
          "output_type": "display_data",
          "data": {
            "text/html": [
              "<html>\n",
              "<head><meta charset=\"utf-8\" /></head>\n",
              "<body>\n",
              "    <div>            <script src=\"https://cdnjs.cloudflare.com/ajax/libs/mathjax/2.7.5/MathJax.js?config=TeX-AMS-MML_SVG\"></script><script type=\"text/javascript\">if (window.MathJax && window.MathJax.Hub && && window.MathJax.Hub.Config) {window.MathJax.Hub.Config({SVG: {font: \"STIX-Web\"}});}</script>                <script type=\"text/javascript\">window.PlotlyConfig = {MathJaxConfig: 'local'};</script>\n",
              "        <script src=\"https://cdn.plot.ly/plotly-2.12.1.min.js\"></script>                <div id=\"d7bb53d4-37c2-4fad-a0cf-629ff5c29ba9\" class=\"plotly-graph-div\" style=\"height:525px; width:100%;\"></div>            <script type=\"text/javascript\">                                    window.PLOTLYENV=window.PLOTLYENV || {};                                    if (document.getElementById(\"d7bb53d4-37c2-4fad-a0cf-629ff5c29ba9\")) {                    Plotly.newPlot(                        \"d7bb53d4-37c2-4fad-a0cf-629ff5c29ba9\",                        [{\"hovertemplate\":\"0=%{x}<br>1=%{y}<extra></extra>\",\"legendgroup\":\"\",\"marker\":{\"color\":\"#636efa\",\"symbol\":\"circle\"},\"mode\":\"markers\",\"name\":\"\",\"showlegend\":false,\"x\":[8.427460670471191,-6.540848731994629,28.976255416870117,-24.43471336364746,-30.16577911376953,-7.433680534362793,7.07863712310791,7.2482147216796875,-2.9861366748809814,7.361667156219482,12.682295799255371,2.0058934688568115,-1.9703888893127441,-7.251110076904297,-9.314848899841309,6.474708080291748,-6.899139404296875,-32.04263687133789,15.04482650756836,13.771836280822754,-5.501473903656006,-2.790217399597168,13.810436248779297,-30.463430404663086,-8.18252944946289,-27.877925872802734,11.555262565612793,-37.4406623840332,22.721830368041992,-26.316469192504883,-36.454261779785156,26.61138343811035,-2.2025630474090576,-0.6972405314445496,-18.98986053466797,13.677143096923828,-41.32360076904297,-32.6744384765625,-11.215668678283691,23.335195541381836,-3.9988176822662354,16.750213623046875,-1.016212821006775,24.375141143798828,-30.191560745239258,2.6892831325531006,-37.72226333618164,-8.645186424255371,-16.577714920043945,-13.051599502563477,-37.39741897583008,-11.2979736328125,18.408567428588867,0.3523567020893097,-19.812105178833008,-34.75712203979492,18.664783477783203,-26.333057403564453,-11.299031257629395,-3.1117382049560547,-5.38491678237915,-26.554201126098633,-34.324485778808594,-24.516204833984375,-7.700741767883301,-11.07202434539795,-2.5562477111816406,-9.46767807006836,11.831790924072266,3.58927059173584,-37.997154235839844,24.61939811706543,-33.483970642089844,-38.41960906982422,-0.21747161448001862,-27.29034423828125,-19.567638397216797,-0.9659004807472229,13.331901550292969,14.466609001159668,0.0992501750588417,-6.043500900268555,-11.605064392089844,-35.7470817565918,-9.532111167907715,-28.632492065429688,26.612581253051758,15.687835693359375,-7.586553573608398,-32.63914108276367,24.851835250854492,-35.86383819580078,-34.42007064819336,-38.787960052490234,-36.99929428100586,13.770524978637695,-5.609982490539551,23.26861572265625,28.140039443969727,18.16166877746582,-37.06536865234375,-39.34294509887695,-36.234580993652344,-36.53760528564453,18.11641502380371,13.263447761535645,1.7876311540603638,6.371708869934082,7.31101655960083,1.801604151725769,-21.05657958984375,22.022846221923828,8.690730094909668,-37.641197204589844,-46.58865737915039,16.772266387939453,-38.24220275878906,-32.6634521484375,-26.046659469604492,16.751888275146484,-2.2040185928344727,8.357491493225098,-33.83830261230469,20.977752685546875,27.70258140563965,-16.859682083129883,-9.190138816833496,21.310142517089844,-9.671865463256836,12.955163955688477,23.301782608032227,-7.095252513885498,-35.61334991455078,-12.745240211486816,-30.188129425048828,-35.95875930786133,-34.86554718017578,5.9945387840271,-36.02451705932617,6.7112507820129395,19.34784698486328,-37.85115051269531,8.179622650146484,-3.8325371742248535,15.881413459777832,28.779172897338867,0.0870366320014,-1.7195695638656616,-26.2381534576416,-3.2742607593536377,8.18720817565918,-37.17803955078125,-9.375308990478516,-10.540033340454102,19.83810043334961,4.125761032104492,-10.24116039276123,7.803531169891357,-3.3209917545318604,-32.39768600463867,2.368393659591675,6.393495082855225,-23.47406578063965,15.815401077270508,-41.757015228271484,-36.34975051879883,-23.05791664123535,13.564159393310547,-43.01527786254883,20.142253875732422,-26.010286331176758,-2.399156093597412,-8.926247596740723,-25.522459030151367,-32.60387420654297,-28.50967025756836,26.177845001220703,12.517135620117188,-10.735492706298828,19.889291763305664,-30.506427764892578,-28.364330291748047,-11.11469841003418,-10.429571151733398,-13.427762031555176,30.207998275756836,-39.5234375,-32.428253173828125,-1.4877640008926392,-8.209181785583496,-12.503067970275879,-33.36735534667969,4.427156925201416,3.3119020462036133,2.371169090270996,19.699745178222656,-34.481204986572266,-35.99993133544922,-6.696148872375488,-31.561649322509766,17.126853942871094,-3.276475191116333,-36.47138977050781,-31.714950561523438,-16.303014755249023,-33.721248626708984,14.822511672973633,27.475187301635742,-36.973609924316406,22.162508010864258,20.004318237304688,14.299750328063965,3.010021924972534,-34.3324089050293,-4.651474475860596,-32.387943267822266,-3.429729700088501,-5.416004180908203,-1.202991008758545,18.34602165222168,16.305282592773438,-5.629299640655518,-1.599510908126831,-32.55968475341797,-41.501407623291016,8.67597770690918,-36.93411636352539,-9.494452476501465,26.100566864013672,-46.25416946411133,20.08783721923828,-11.844842910766602,-42.95161437988281,-37.361637115478516,9.457927703857422,2.5404245853424072,1.9807896614074707,-4.978042125701904,-18.17540740966797,-15.216240882873535,-2.922433614730835,-8.214759826660156,27.776750564575195,-12.813654899597168,-4.297329425811768,-31.986934661865234,22.714336395263672,-5.681883335113525,-31.63950538635254,-9.866692543029785,-31.285860061645508,-6.112590789794922,-12.855401039123535,-13.411392211914062,22.661148071289062,-19.719436645507812,0.6427794694900513,-38.317718505859375,-36.58522415161133,-33.310157775878906,-34.36526870727539,-3.546489715576172,-3.394709348678589,9.854939460754395,14.809691429138184,-7.636187553405762,-40.584720611572266,20.478857040405273,-35.16084289550781,-29.559009552001953,-39.3862419128418,-12.338159561157227,16.3757266998291,-35.68167495727539,17.754295349121094,-2.61061429977417,-4.228362083435059,-33.83320236206055,-8.499739646911621,25.744524002075195,-6.514536380767822,4.506587505340576,11.026445388793945,21.94368553161621,-13.892128944396973,-17.91212272644043,30.020475387573242,-23.13141632080078,-33.54241180419922,-34.088661193847656,7.921450614929199,-6.827744007110596,9.456817626953125,-5.7572174072265625,-5.2184271812438965,2.662982940673828,-7.929630279541016,-6.270713806152344,-17.041234970092773,-8.58896255493164,19.13468360900879,16.10045051574707,8.873522758483887,-12.231071472167969,-4.878530502319336,0.23652848601341248,-30.088430404663086,-42.97810363769531,20.286739349365234,-36.288211822509766,-28.437572479248047,-9.464410781860352,7.581521034240723,-7.750080585479736,-4.18850564956665,20.287620544433594,15.415722846984863,-5.2997941970825195,26.408641815185547,-24.374536514282227,-29.55544662475586,-20.210721969604492,21.735261917114258,19.94182586669922,-35.82653045654297,-4.884228229522705,26.726896286010742,1.2639631032943726,8.72524356842041,24.796154022216797,-43.47526168823242,-25.6604061126709,27.77994155883789,20.68012809753418,-16.12958335876465,20.835416793823242,-28.835691452026367,-11.848749160766602,-34.03664779663086,2.8608288764953613,-5.159841537475586,15.293374061584473,-12.555160522460938,26.600189208984375,35.302757263183594,-0.7444026470184326,-9.318596839904785,-34.421146392822266,-2.18375563621521,-4.839910984039307,-32.58198165893555,3.466451406478882,-19.67254638671875,17.299396514892578,0.4498904347419739,-42.249080657958984,20.2872314453125,8.351706504821777,-1.3160539865493774,2.3059427738189697,-32.72574234008789,-30.619434356689453,-23.962949752807617,-37.52546310424805,-28.501976013183594,-18.69635581970215,2.8695638179779053,25.359310150146484,-30.804136276245117,1.2163758277893066,-15.976133346557617,-34.84728240966797,-5.725841999053955,-34.763084411621094,19.912246704101562,-5.969418525695801,2.1949386596679688,-9.66549015045166,-35.27116012573242,1.9395195245742798,0.579692542552948,26.48236083984375,-23.30449676513672,-34.7335319519043,-7.8282151222229,-16.509937286376953,-42.79755783081055,10.066186904907227,22.548370361328125,-5.064568042755127,-30.221920013427734,10.265338897705078,-34.4925537109375,-33.46367263793945,-12.765832901000977,11.17724609375,-10.429569244384766,-15.384486198425293,-29.737340927124023,-6.068885326385498,-11.20539665222168,18.790855407714844,-8.23249626159668,-35.75645065307617,-8.883758544921875,-19.15524673461914,-32.32378005981445,0.6211850643157959,-5.1536736488342285,26.405391693115234,-36.654354095458984,-4.728457450866699,2.2603094577789307,-28.24458885192871,-2.3529891967773438,24.141979217529297,-3.8356192111968994,-24.735614776611328,23.211214065551758,-30.73956298828125,20.090961456298828,-17.81668472290039,-12.876893997192383,-24.488903045654297,0.0818888396024704,-16.787551879882812,-10.647308349609375,-8.165817260742188,-4.898336887359619,33.55904006958008,-26.86151695251465,1.6277371644973755,-16.185382843017578,-12.059642791748047,-35.946353912353516,-45.61533737182617,-12.401373863220215,-4.535280704498291,-7.745987892150879,34.19655227661133,-3.7043955326080322,-23.534053802490234,10.860008239746094,-11.547301292419434,3.5013999938964844,-0.037818022072315216,0.47466233372688293,25.47857666015625,-32.86183547973633,-13.175777435302734,28.788049697875977,-29.000268936157227,-19.758098602294922,-20.04400062561035,-25.013046264648438,-10.537772178649902,-8.208364486694336,-29.825410842895508,-37.03089904785156,-9.703124046325684,18.699848175048828,25.06493377685547,-6.147199630737305,-42.62443161010742,-30.094440460205078,-6.52980899810791,22.901779174804688,0.48592662811279297,-42.832157135009766,35.4841423034668,-3.478844165802002,-11.277397155761719,-4.48818826675415,30.57377815246582,-25.79144287109375,1.4747018814086914,-3.4517509937286377,9.714499473571777,-43.501434326171875,18.4827823638916,-14.364872932434082,-18.366058349609375,13.94883918762207,-0.924782395362854,35.35990524291992,8.12355899810791,-18.85780143737793,-25.08671760559082,-4.819446086883545,-38.54594039916992,19.413957595825195,13.7747220993042,-14.042219161987305,-32.05464553833008,12.29348087310791,-6.494538307189941,-28.454593658447266,-13.434029579162598,21.22966194152832,16.71087646484375,33.170589447021484,-18.30682945251465,-8.705194473266602,-17.65085220336914,-10.498292922973633,-4.037686347961426,20.12360191345215,-33.84454345703125,-5.652160167694092,13.881091117858887,-14.282758712768555,-23.14525604248047,26.136934280395508,15.242837905883789,-17.322595596313477,-25.04062843322754,13.103826522827148,-12.347214698791504,-34.47300720214844,29.283357620239258,-11.790270805358887,0.8987576961517334,21.665075302124023,-22.446260452270508,-8.299116134643555,-26.165834426879883,29.036035537719727,16.255531311035156,-28.62569236755371,-39.050201416015625,-17.788734436035156,-28.930133819580078,-18.43390464782715,-2.5340416431427,-27.650178909301758,34.28147506713867,-0.06481605768203735,-12.61929988861084,-2.8997743129730225,-3.651252508163452,-14.991950035095215,20.51217269897461,-23.864450454711914,5.951340198516846,-23.518280029296875,-34.35694122314453,-26.11297035217285,-5.039417743682861,-7.557706356048584,-31.94482421875,-23.72329330444336,-4.9948410987854,22.385330200195312,-30.384668350219727,-21.203746795654297,23.029478073120117,-5.6118483543396,22.945045471191406,-14.189672470092773,1.6891337633132935,23.959144592285156,-0.5960656404495239,-28.3350887298584,-36.34272766113281,-26.593873977661133,-11.916452407836914,-11.735754013061523,-29.4218692779541,-1.3621766567230225,-31.595529556274414,-14.036916732788086,3.715355396270752,-28.22075080871582,-26.90587615966797,-3.884345531463623,-15.292625427246094,-31.94247817993164,-20.524911880493164,-4.567054748535156,-5.77105188369751,36.50800704956055,-8.656015396118164,-11.056178092956543,-22.96095085144043,-37.17241287231445,1.1614910364151,-35.29633712768555,29.296350479125977,-29.0020694732666,-26.89557456970215,4.674007892608643,-11.35731029510498,-17.504573822021484,-0.4576321244239807,-13.886613845825195,2.4414188861846924,-33.912784576416016,2.2161855697631836,-21.71662712097168,38.05412673950195,19.549785614013672,-26.79104232788086,-31.339401245117188,-29.841800689697266,-32.09208297729492,-6.567121505737305,20.229894638061523,-10.290841102600098,-1.114163875579834,-1.6438883543014526,-10.413063049316406,-45.274803161621094,-13.267338752746582,-28.800941467285156,28.20355796813965,-24.19348907470703,1.7065187692642212,-5.314517498016357,-5.945516586303711,3.4595835208892822,-7.623561382293701,20.354894638061523,21.180946350097656,6.487123012542725,-11.135773658752441,4.828802108764648,-9.933207511901855,34.840328216552734,14.932695388793945,-13.801881790161133,-15.948202133178711,-1.8070865869522095,-13.30644416809082,-23.132673263549805,-14.359447479248047,-38.72109603881836,21.270004272460938,20.061979293823242,16.694904327392578,-5.2204437255859375,-3.0800833702087402,-8.406357765197754,36.48228073120117,34.349403381347656,14.386466979980469,22.38194465637207,23.081140518188477,-13.691438674926758,23.734514236450195,17.719491958618164,-8.111289978027344,12.128157615661621,-10.676802635192871,-32.31951904296875,-7.4755778312683105,-13.861075401306152,13.252643585205078,-2.3700385093688965,-17.541004180908203,-9.60945987701416,-8.292106628417969,18.089628219604492,-17.979942321777344,-17.724531173706055,-29.337371826171875,3.9271535873413086,-27.65104103088379,-12.426847457885742,-43.03853225708008,-35.80813980102539,-14.536477088928223,-17.109432220458984,-22.923011779785156,-31.2747745513916,23.33793830871582,3.9031944274902344,-10.421637535095215,-13.460650444030762,-22.146467208862305,-28.635305404663086,21.632034301757812,-22.00757598876953,-11.473321914672852,-8.49279499053955,-7.310711860656738,10.54073429107666,5.25322961807251,-11.912893295288086,-12.248316764831543,37.69316864013672,-1.8114588260650635,-38.24238967895508,-10.517638206481934,-10.284625053405762,-33.63489532470703,-7.235030651092529,7.640935897827148,1.8806242942810059,-20.518428802490234,-15.342784881591797,8.46035099029541,-29.455514907836914,-17.280717849731445,-2.0448479652404785,35.08838653564453,-16.521615982055664,6.0027265548706055,-6.407019138336182,-26.600597381591797,-10.871403694152832,-3.6942555904388428,37.41219711303711,6.676358222961426,-12.535082817077637,-23.45641326904297,36.78957748413086,-31.236896514892578,-13.053827285766602,-8.56756591796875,-31.913183212280273,-19.96221160888672,-3.534212112426758,-3.8322088718414307,-23.469070434570312,-18.16535758972168,-16.842485427856445,-7.847300052642822,31.474777221679688,-17.719972610473633,-13.865097045898438,20.664899826049805,-3.349757194519043,-7.8707733154296875,-11.379281044006348,35.35675811767578,-23.00048065185547,4.540515422821045,-18.816129684448242,-11.560860633850098,42.237754821777344,-24.51775550842285,-10.936613082885742,-8.829826354980469,21.351362228393555,32.43061447143555,40.059791564941406,-4.309539794921875,-44.92543411254883,-11.219884872436523,-10.782349586486816,4.0774312019348145,4.3773274421691895,-7.100414276123047,-11.838953971862793,-35.03608322143555,-9.286158561706543,-33.00898361206055,-32.980690002441406,-6.87435245513916,-19.023273468017578,3.7916643619537354,34.99735641479492,-19.024126052856445,35.445640563964844,35.95999526977539,-33.21925735473633,-9.515787124633789,-10.315740585327148,25.64727783203125,-13.580667495727539,-11.714994430541992,-18.74294662475586,11.344368934631348,5.401626110076904,38.581905364990234,-20.665266036987305,-23.365385055541992,37.8935432434082,-23.589828491210938,-45.94980239868164,-6.752425670623779,-23.979307174682617,-8.649949073791504,24.44147491455078,21.355241775512695,21.430784225463867,-0.9479034543037415,8.129313468933105,-24.743261337280273,-31.181476593017578,-6.511963844299316,-9.339729309082031,28.26906394958496,-3.665330171585083,-8.196613311767578,30.655166625976562,-18.405332565307617,-44.600711822509766,-20.65264129638672,-12.45926570892334,5.266519546508789,6.472347259521484,7.347757339477539,-13.008637428283691,-17.165443420410156,-25.74970054626465,34.75519943237305,-7.150240898132324,2.4159371852874756,-24.902969360351562,-44.66592025756836,-17.539094924926758,3.4482460021972656,26.251420974731445,7.496521472930908,35.03657150268555,6.3537983894348145,33.18851089477539,-15.492730140686035,-8.611917495727539,8.109668731689453,-30.275646209716797,-8.442046165466309,-28.94196319580078,-25.15729331970215,-25.87965202331543,-16.402843475341797,7.087163925170898,-20.150936126708984,-11.094305992126465,11.357516288757324,-31.149829864501953,34.21406173706055,30.28464698791504,-28.535640716552734,-33.405147552490234,2.4259748458862305,-0.5596831440925598,27.70738410949707,-6.841724872589111,-3.8805935382843018,-3.7620794773101807,-26.741201400756836,11.763875007629395,13.975019454956055,-29.28087043762207,12.507797241210938,38.45509719848633,-30.714187622070312,-8.690727233886719,-19.142223358154297,-9.047447204589844,36.97479248046875,-15.588525772094727,41.878028869628906,9.147950172424316,6.558295726776123,12.933959007263184,-3.4530537128448486,-12.943380355834961,-6.874560356140137,-1.198756456375122,-28.366483688354492,38.945640563964844,-9.591647148132324,6.929488658905029,-12.567378997802734,-32.84638977050781,20.33327293395996,-27.592426300048828,22.344438552856445,5.722859859466553,-14.572996139526367,-10.59526538848877,-11.220025062561035,13.013890266418457,-31.547565460205078,-18.516773223876953,31.3579158782959,-30.712865829467773,39.134098052978516,-30.3902530670166,-16.809181213378906,7.9970574378967285,25.663467407226562,-8.36298656463623,4.590114116668701,-27.7540225982666,-31.607460021972656,-4.245561122894287,-31.869102478027344,31.245712280273438,-29.22730255126953,5.4912261962890625,11.295950889587402,-47.22367858886719,2.9186835289001465,31.49590492248535,-28.600269317626953,13.395915031433105,19.408170700073242,27.01952362060547,39.543724060058594,42.651798248291016,14.608685493469238,-14.908212661743164,-3.288749933242798,1.6464381217956543,-2.5304832458496094,-29.05872917175293,-7.437763214111328,31.531736373901367,-29.231433868408203,40.36488723754883,30.064651489257812,-22.33045768737793,-13.44352912902832,-7.314863204956055,23.906749725341797,-13.88798999786377,-30.085020065307617,8.338146209716797,8.597208976745605,-30.670970916748047,9.615623474121094,-26.505083084106445,13.09400463104248,6.713005065917969,-12.770444869995117,31.278905868530273,-6.899972915649414,37.90664291381836,1.2590664625167847,-7.849541187286377,-4.769851207733154,-31.0799617767334,-17.71151351928711,14.270840644836426,-8.248393058776855,-24.532947540283203,36.4210090637207,-29.90958023071289,-8.120049476623535,-27.655683517456055,-17.51422119140625,-13.145459175109863,3.1930127143859863,-28.018579483032227,-45.53046798706055,-15.587504386901855,-4.105905532836914,-32.80262756347656,-2.4844324588775635,-31.158653259277344,-27.290260314941406,21.451496124267578,-32.84041213989258,3.9274981021881104,-26.317665100097656,37.01162338256836,33.482852935791016,10.16038990020752,-15.859728813171387,13.993439674377441,-16.84111976623535,25.24724769592285,13.55689811706543,23.76233673095703,-10.228278160095215,-13.32740592956543,-8.91850471496582,-10.695053100585938,34.64961242675781,39.83241271972656,-6.526744365692139,4.172855377197266,-0.7913329601287842,-28.238332748413086,11.133316040039062,-1.784101963043213,42.0486946105957,-17.270811080932617,32.291744232177734,-16.67458152770996,-19.58571434020996,-31.80394744873047,-15.582162857055664,-8.240053176879883,11.903705596923828,-7.405648231506348,-26.255403518676758,31.85942840576172,7.091350555419922,-6.763965606689453,-2.538637161254883,-1.2875397205352783,31.909656524658203,-14.743032455444336,7.588821887969971,40.2076416015625,-32.341888427734375,-16.694313049316406,11.62148666381836,-14.414677619934082,13.04345417022705,-6.831115245819092,-16.24644660949707,11.695907592773438,-12.960286140441895,21.473928451538086,-23.56484603881836,-9.050081253051758,-11.71770191192627,30.692750930786133,-11.316597938537598,25.374311447143555,9.958992004394531,-9.509258270263672,33.29651641845703,-8.206637382507324,34.396705627441406,30.696247100830078,-13.449338912963867,-6.509563446044922,4.86856746673584,-30.555150985717773,4.218731880187988,-27.141984939575195,-21.597610473632812,36.531246185302734,24.10411834716797,32.20945739746094,-46.26747512817383,-33.175209045410156,9.053435325622559,34.19397735595703,4.8490777015686035,23.057960510253906,-26.198240280151367,37.5469856262207,27.757490158081055,6.4207563400268555,35.24264144897461,37.39559555053711,-26.683250427246094,-9.0620698928833,39.0746955871582,-22.5898380279541,39.86371994018555,42.178062438964844,4.777612686157227,7.314539909362793,-7.03977632522583,5.473635196685791,14.013798713684082,9.609786987304688,34.62757110595703,-26.976791381835938,26.735933303833008,-23.554950714111328,-7.452668190002441,42.41768264770508,-15.964811325073242,-11.574400901794434,25.26995277404785,10.61374282836914,34.708885192871094,29.4146785736084,-8.144649505615234,-25.66262435913086,-6.3039140701293945,-10.059802055358887,11.430377960205078,-21.449399948120117,-10.474061012268066,6.9389424324035645,-12.239715576171875,24.805871963500977,-31.333349227905273,34.05045700073242,27.96913719177246,-23.748626708984375,-25.27242660522461,-31.218629837036133,38.03913116455078,21.33806037902832,-25.861406326293945,-6.2962822914123535,-27.422088623046875,33.93263626098633,-8.042730331420898,5.742552757263184,5.457003116607666,-17.78968048095703,-24.141746520996094,11.953848838806152,30.758325576782227,39.03286361694336,-23.86558723449707,-26.750694274902344,-21.849828720092773,-9.065387725830078,-23.25298500061035,-24.128358840942383,25.458436965942383,27.40085792541504,-17.352191925048828,-21.30908966064453,-26.257326126098633,-4.351967811584473,-26.146137237548828,25.835691452026367,-22.05391502380371,-9.925714492797852,-16.785341262817383,5.858126640319824,7.8232340812683105,-13.58276081085205,-18.442392349243164,38.198394775390625,39.37674331665039,42.73477554321289,-6.50029993057251,-26.111127853393555,-14.800158500671387,32.70769500732422,10.807826042175293,40.340003967285156,-15.7492036819458,24.976835250854492,-25.410442352294922,-20.130435943603516,-23.313840866088867,9.026427268981934,23.740888595581055,-8.68167781829834,21.946271896362305,-23.496505737304688,34.54799270629883,10.66889762878418,-22.415138244628906,25.114206314086914,-20.637611389160156,-13.721833229064941,11.526312828063965,-20.98833465576172,9.075652122497559,-18.06548500061035,-24.97890853881836,-10.330290794372559,41.49405288696289,39.04835510253906,-28.45812225341797,-9.59264850616455,12.365828514099121,15.086540222167969,29.41064453125,15.326333045959473,-6.288644790649414,-24.695959091186523,17.28024673461914,13.887289047241211,-31.047590255737305,-13.172605514526367,9.404199600219727,47.04563522338867,-25.381256103515625,-20.501991271972656,35.04673767089844,35.740604400634766,-27.244449615478516,24.679332733154297,-26.48219108581543,20.274333953857422,28.6114559173584,-5.200423717498779,-20.649328231811523,-25.43460464477539,-7.802629470825195,-19.828096389770508,-3.837311029434204,39.64554214477539,24.92926025390625,-21.42313003540039,25.396778106689453,9.481895446777344,-2.640063762664795,-22.931623458862305,-14.02985954284668,10.92105770111084,33.02049255371094,-21.424123764038086,-18.25437355041504,-14.800288200378418,-26.415489196777344,10.00574016571045,11.198217391967773,29.72799301147461,-17.65732192993164,14.710759162902832,-18.236730575561523,-24.824251174926758,-4.608473777770996,-20.544443130493164,-15.772409439086914,17.184009552001953,10.345046997070312,-26.87139320373535,-21.808879852294922,46.85066223144531,-11.090740203857422,-17.035985946655273,26.201244354248047,-19.051883697509766,-15.227034568786621,-12.763813972473145,-21.05913734436035,-26.265308380126953,-15.453963279724121,13.275652885437012,-20.625137329101562,-15.558572769165039,-25.678800582885742,43.079498291015625,-10.587989807128906,-4.909781455993652,-22.489112854003906,-27.158916473388672,-5.764097690582275,30.75482749938965,25.755538940429688,-26.99982261657715,19.974388122558594,-25.896011352539062,-17.212356567382812,39.58979797363281,-13.75839614868164,42.47895431518555,-3.782531499862671,39.22239303588867,-20.038970947265625,-29.056386947631836,27.944931030273438,-4.495820999145508,29.737184524536133,-15.100823402404785,-4.273226261138916,-26.338865280151367,-16.468122482299805,-7.17815637588501,-16.0471134185791,3.283024311065674,33.628700256347656,-10.764993667602539,44.5820198059082,-15.787860870361328,-15.474817276000977,-17.108949661254883,27.305856704711914,44.57038116455078,34.71978759765625,43.6890754699707,13.008715629577637,-28.173778533935547,-23.790245056152344,38.11650466918945,23.820165634155273,-26.0233211517334,-15.353863716125488,17.41891860961914,42.61437225341797,-17.82617950439453,15.400622367858887,45.79472732543945,-19.680681228637695,-21.337177276611328,44.20595169067383,-0.055169813334941864,-18.405750274658203,10.276642799377441,-21.892532348632812,44.089996337890625,39.55241775512695,46.16453170776367,23.877531051635742,-11.958141326904297,40.29023361206055,43.681312561035156,26.2685604095459,34.282039642333984,25.14203643798828,18.430864334106445,24.367694854736328,15.785654067993164,39.27259063720703,26.05423927307129,40.06631851196289,-16.199167251586914,37.52113342285156,34.69057083129883,-9.305163383483887,-16.107948303222656,-27.98310089111328,-3.3946778774261475,42.05065155029297,17.81024932861328,9.241697311401367,-18.673625946044922,17.21346092224121,35.42108917236328,-6.279421806335449,-15.852032661437988,26.385576248168945,30.386507034301758,24.149200439453125,-16.054670333862305,-18.074317932128906,43.741355895996094,-23.23504638671875,-23.697914123535156,-17.92919921875,39.89269256591797,40.970123291015625,16.048175811767578,-23.909326553344727,15.909157752990723,40.9077033996582,-20.27728843688965,-22.86322021484375,20.169918060302734,-0.763974666595459,-18.144615173339844,38.482879638671875,24.067102432250977,-18.836868286132812,16.30083465576172,0.8733342885971069,-8.288544654846191,-25.856189727783203,-15.688939094543457,-20.813968658447266,14.20411491394043,-12.22243881225586,40.40460968017578,41.09540939331055,19.931598663330078,19.912691116333008,44.101531982421875,18.802804946899414,-11.519950866699219,-18.77989387512207,-6.252628803253174,-9.986177444458008,16.744163513183594,17.351905822753906,-22.708518981933594,-15.121926307678223,-17.577699661254883,33.288124084472656,-8.687211990356445,13.49438190460205,-18.71373748779297,-21.16016387939453,26.396499633789062,39.07956314086914,1.2709189653396606,45.275367736816406,23.461305618286133,19.170265197753906,40.13837814331055,-23.600454330444336,-14.572830200195312,42.497718811035156,44.145294189453125,-12.763900756835938,13.730708122253418,-4.50773286819458,-22.123022079467773,-3.8058955669403076,15.410383224487305,30.987035751342773,-12.07822322845459,14.29389762878418,23.636478424072266,18.961698532104492,-21.90302848815918,-2.92549729347229,38.24334716796875,13.33984088897705,-9.880023956298828,43.59540939331055,45.951969146728516,-24.36105728149414,14.166912078857422,32.505313873291016,-0.01798119582235813,42.13991928100586,-16.816707611083984,19.329652786254883,-8.439151763916016,-4.515406608581543,-20.875898361206055,-3.823791027069092,15.859319686889648,18.658235549926758,38.009727478027344,24.182151794433594,9.498750686645508,-19.479995727539062,34.51388168334961,13.985236167907715,46.3658332824707,-15.187755584716797,-18.770999908447266,30.86893081665039,-20.686857223510742,8.765412330627441,-21.003156661987305,-19.010095596313477,26.540048599243164,31.030555725097656,32.10451889038086,0.33173295855522156,29.40479278564453,17.607563018798828,-18.838930130004883,27.131616592407227,-20.531227111816406,-7.563022136688232,-15.507966995239258,25.337377548217773,44.586692810058594,-6.245935440063477,47.705448150634766,9.067434310913086,-21.910066604614258,9.827951431274414,41.62785720825195,-12.642196655273438,-14.960173606872559,8.516388893127441,14.501666069030762,47.97883987426758,44.26017761230469,22.485206604003906,16.914199829101562,48.91720199584961,17.274513244628906,14.817010879516602,24.368345260620117,1.5744684934616089,10.117949485778809,-4.897679805755615,-24.196950912475586,40.81357955932617,-0.579646110534668,33.14936065673828,47.618465423583984,-13.965801239013672,24.370006561279297,-20.431425094604492,39.2266731262207,-15.983956336975098,-23.183908462524414,34.89582061767578,-20.882610321044922,5.988325595855713,30.757991790771484,15.454071998596191,-20.28671646118164,48.564151763916016,46.42287063598633,-13.908248901367188,25.317485809326172,36.311073303222656,44.01679611206055,17.52561378479004,-19.597858428955078,-14.816963195800781,15.827219009399414,-4.988760471343994,-12.123769760131836,-22.207380294799805,-7.021374225616455,-20.529956817626953,-9.30765151977539,32.60824966430664,41.81232833862305,16.437562942504883,17.09685516357422,-23.140586853027344,24.4029541015625,-7.533947944641113,-7.21520471572876,-2.0567266941070557,-20.103708267211914,-9.405418395996094,24.54432487487793,10.936026573181152,-6.5922746658325195,-25.343778610229492,-22.110557556152344,-21.773101806640625,41.43745422363281,25.27476692199707,-1.7394297122955322,21.96915626525879,42.423702239990234,41.743125915527344,20.478239059448242,7.858160018920898,13.051934242248535,-1.0966285467147827,9.176770210266113,9.54419231414795,26.503398895263672,12.029459953308105,-15.105267524719238,31.826772689819336,-11.032036781311035,-5.456151008605957,5.780298709869385,-19.16313934326172,-19.804956436157227,-0.8585215210914612,-15.015475273132324,-2.6270384788513184,11.23128604888916,-5.869295597076416,-18.633769989013672,-19.96105194091797,-19.308704376220703,-9.64371109008789,-22.57574462890625,-6.566110610961914,-10.28592586517334,-6.155114650726318,-24.965192794799805,0.804180920124054,-7.5441179275512695,12.089730262756348,17.394752502441406,39.62621307373047,-6.099164009094238,-8.777255058288574,14.545967102050781,15.483602523803711,16.84379005432129,-21.933835983276367,-18.374849319458008,-24.327457427978516,42.49478530883789,-25.547550201416016,-23.323501586914062,10.950940132141113,47.49786376953125,-22.404911041259766,-20.943208694458008,-6.557448387145996,18.6453914642334,-20.21051025390625,5.7825469970703125,-5.7541608810424805,-20.121381759643555,11.607819557189941,1.2067365646362305,-9.347243309020996,34.24784851074219,34.18675994873047,-21.137304306030273,28.447154998779297,48.50453567504883,11.451290130615234,47.810306549072266,-8.857694625854492,44.314449310302734,27.008081436157227,5.2912163734436035,23.448192596435547,0.7802779674530029,14.886219024658203,-0.0009167144307866693,-14.585403442382812,-18.955902099609375,18.76495361328125,21.278738021850586,43.58634567260742,33.242584228515625,32.94059753417969,48.16871643066406,20.31739616394043,15.022284507751465,-7.9966230392456055,1.2920435667037964,33.8293571472168,-19.537385940551758,-19.01017951965332,-13.908820152282715,7.178720474243164,32.533695220947266,48.47828674316406,-9.818554878234863,-21.179824829101562,33.69635009765625,2.7977066040039062,26.375171661376953,49.64444351196289,-1.6032977104187012,41.65596389770508,0.3771107792854309,28.241914749145508,10.35771369934082,-13.40110969543457,-18.15382957458496,8.587698936462402,-15.052779197692871,6.019603252410889,-22.03273582458496,5.879253387451172,-9.36397933959961,6.318636894226074,9.413495063781738,20.027881622314453,-1.125188946723938,-25.486764907836914,-14.408352851867676,2.1429975032806396,7.086155414581299,46.71699905395508,7.9797868728637695,49.19778060913086,48.231170654296875,10.252236366271973,-20.153602600097656,7.995038986206055,-18.63788414001465,11.540422439575195,-14.338495254516602,16.9282283782959,26.16492462158203,31.21268081665039,18.30193328857422,9.16444206237793,-18.22003746032715,-5.111514091491699,34.98875045776367,11.485556602478027,-25.77267837524414,-24.008697509765625,44.198219299316406,11.01452922821045,9.281902313232422,27.731367111206055,33.00932693481445,-18.846725463867188,-5.760472297668457,33.321128845214844,-0.8879757523536682,18.275007247924805,15.04835033416748,-13.998627662658691,33.58804702758789,3.474104881286621,49.337249755859375,-4.285247325897217,52.01327896118164,16.840229034423828,-9.926030158996582,4.412014007568359,4.679720401763916,1.4134490489959717,37.44057846069336,-24.3297119140625,-18.78035545349121,17.35357093811035,-6.170697212219238,37.6591682434082,-9.656965255737305,19.091354370117188,10.885869026184082,27.537073135375977,-22.156278610229492,34.17491912841797,14.455557823181152,40.484928131103516,27.931177139282227,-20.849563598632812,48.23405075073242,14.391887664794922,30.966110229492188,-23.915874481201172,6.504461288452148,-13.509737014770508,1.8396639823913574,-25.245534896850586,4.870447158813477,44.24333953857422,16.520503997802734,16.917495727539062,-17.90418243408203,21.447256088256836,16.43290901184082,-7.117130756378174,-9.827202796936035,-15.384201049804688,33.59806823730469,15.153058052062988,51.33884811401367,5.420069217681885,33.94053649902344,19.25012969970703,-6.301498889923096,5.378244400024414,-22.02259635925293,-13.032169342041016,31.244728088378906,-16.749162673950195,-17.888214111328125,-17.47696876525879,10.057412147521973,15.585375785827637,52.32246780395508,24.261676788330078,-3.6787917613983154,15.20921516418457,28.06280517578125,-6.398449420928955,29.124080657958984,20.895111083984375,-6.942808628082275,-21.838083267211914,0.9739196300506592,21.69628143310547,-9.265219688415527,-27.84366798400879,35.28861618041992,4.2312541007995605,-5.863011360168457,-1.205483078956604,3.789188861846924,-7.012107849121094,52.9152717590332,7.856940746307373,7.162299633026123,-4.694864273071289,-25.71078872680664,10.628164291381836,6.036509990692139,-4.717068672180176,49.633934020996094,6.462612152099609,34.38593292236328,8.440969467163086,4.016077518463135,-5.977769374847412,-13.747706413269043,39.06938171386719,12.509137153625488,12.961397171020508,34.678863525390625,-1.251523733139038,-16.98875617980957,-5.710136890411377,22.448503494262695,33.49755096435547,11.516755104064941,15.092954635620117,-0.4181270897388458,-13.163371086120605,39.21048355102539,11.125988006591797,50.39762496948242,0.7097316980361938,51.34684753417969,-8.933621406555176,8.389883995056152,-5.166070461273193,-21.28318977355957,-6.531209945678711,22.10000991821289,-9.016672134399414,40.766117095947266,30.923648834228516,39.36991500854492,10.220169067382812,-5.5941081047058105,49.38376235961914,-22.669435501098633,6.908400535583496,14.962725639343262,-8.379020690917969,12.49014949798584,-10.483287811279297,3.784233331680298,11.095409393310547,8.89390754699707,51.1341667175293,8.954523086547852,39.362648010253906,28.33441734313965,-8.11482048034668,37.72734451293945,6.938961505889893,-19.205339431762695,28.619728088378906,17.231443405151367,37.98340606689453,-4.156687259674072,29.372465133666992,23.650423049926758,-8.226418495178223,-1.0913150310516357,0.24876321852207184,-0.7217997312545776,38.8484992980957,22.480484008789062,39.803157806396484,12.510705947875977,50.96420669555664,-9.864627838134766,-9.832240104675293,16.899616241455078,36.280513763427734,-9.070523262023926,-9.359212875366211,-28.775924682617188,25.224323272705078,42.08773422241211,22.565185546875,-13.594846725463867,-25.10344886779785,51.0914192199707,19.642480850219727,17.49104881286621,-22.448101043701172,-23.124317169189453,15.069665908813477,-27.865055084228516,7.7179460525512695,-6.810743808746338,51.829200744628906,-6.5917229652404785,34.99238586425781,27.791322708129883,51.912906646728516,21.213241577148438,19.387720108032227,-11.23437786102295,-8.672571182250977,-24.435100555419922,38.864166259765625,42.33226013183594,-25.43722915649414,22.809843063354492,22.979084014892578,1.583491325378418,2.615123987197876,-20.881986618041992,8.161888122558594,51.45229721069336,4.052835941314697,19.464599609375,-14.78860092163086,52.51080322265625,35.9564208984375,41.643619537353516,20.29813575744629,4.193697929382324,20.065702438354492,-7.773428916931152,51.2593879699707,51.99276351928711,-14.59765338897705,24.642160415649414,51.92261505126953,25.167884826660156,-25.261747360229492,19.874237060546875,20.749340057373047,-5.9865641593933105,20.77534294128418,-7.061793804168701,23.694353103637695,41.98819351196289,17.988380432128906,-24.5129337310791,8.75230884552002,9.770331382751465,35.669761657714844,37.843475341796875,-26.76926040649414,0.3799241781234741,-7.893288612365723,7.961891174316406,-4.419428825378418,38.34418487548828,-24.54320526123047,43.01955795288086,-0.010000231675803661,25.709585189819336,11.277040481567383,26.81316375732422,41.938812255859375,-22.286865234375,41.646419525146484,19.81550407409668,-9.017827987670898,-1.4903619289398193,3.3711791038513184,-23.10655403137207,12.035355567932129,-14.378959655761719,-14.264906883239746,7.58268404006958,38.49834060668945,20.13568687438965,52.07356643676758,-27.95482635498047,-3.259274959564209,6.217508316040039,20.733394622802734,-14.773174285888672,35.699676513671875,52.40741729736328,-1.9725446701049805,-3.7528634071350098,-26.19338607788086,1.2050237655639648,-28.508081436157227,-27.5125675201416,-15.378230094909668,4.178401947021484,52.623355865478516,36.79207992553711,-18.64427947998047,52.00592041015625,4.5504469871521,-23.631288528442383,38.56719970703125,21.751733779907227,21.3642635345459,-8.441535949707031,-15.09912109375,2.4139535427093506,36.77294158935547,-8.535979270935059,-12.566757202148438,-18.733686447143555,4.794745445251465,12.238021850585938,-5.782222270965576,-2.9848227500915527,-12.16276741027832,36.18907928466797,13.293192863464355,-7.0265936851501465,-1.1204832792282104,35.16925811767578,10.4578275680542,-4.766575336456299,19.78372573852539,37.792327880859375,-5.676107883453369,36.79479217529297,-6.639072895050049,27.069862365722656,42.45921325683594,26.273656845092773,-0.6788744330406189,-3.052288293838501,-0.8035667538642883,53.21604919433594,-7.7078142166137695,40.94403076171875,37.364315032958984,2.7524256706237793,19.5424747467041,21.634708404541016,6.5969624519348145,16.095619201660156,42.60810089111328,-14.140289306640625,-8.152731895446777,5.75521993637085,-24.346040725708008,-14.215157508850098,-8.219935417175293,-23.76125144958496,27.58734703063965,-7.607473373413086,42.01246643066406,37.82798767089844,23.769624710083008,51.90953063964844,41.3890380859375,-14.886083602905273,5.027369499206543,-24.74175453186035,23.079010009765625,-28.708078384399414,24.232789993286133,35.700286865234375,-14.382512092590332,12.451239585876465,-4.99688196182251,3.322618007659912,16.900541305541992,41.361446380615234,36.98894119262695,26.349123001098633,1.8112545013427734,-1.0400813817977905,22.081798553466797,-0.4304499626159668,30.111793518066406,42.538429260253906,52.290008544921875,-27.191726684570312,-6.567532062530518,25.342927932739258,25.393890380859375,2.5753333568573,20.884241104125977,-5.8370561599731445,40.064109802246094,-5.061790943145752,26.155685424804688,-6.976658344268799,-8.881268501281738,29.954282760620117,22.571504592895508,30.13905143737793,51.152366638183594,2.6632561683654785,19.804780960083008,-6.501892566680908,-25.626197814941406,37.69948196411133,52.91352462768555,53.32371139526367,23.351741790771484,-4.457347869873047,-2.1149048805236816,24.041709899902344,24.198715209960938,41.090431213378906,-3.927086353302002,1.1667821407318115,25.807353973388672,-0.006883594207465649,-24.342864990234375,22.773334503173828,-2.5360896587371826,-25.35354232788086,39.851051330566406,19.43793296813965,-28.441627502441406,-15.385138511657715,29.533695220947266,3.396437406539917,-2.296638250350952,-7.964177131652832,3.8553152084350586,25.078214645385742,5.906717777252197,0.0018543476471677423,27.17035484313965,28.729345321655273,18.39417266845703,22.352081298828125,-25.789043426513672,15.975749015808105,30.064760208129883,27.795915603637695,41.03800964355469,4.375502586364746,6.343637466430664,38.896419525146484,-22.287012100219727,1.4315109252929688,-21.73444938659668,22.34733009338379,29.34845542907715],\"xaxis\":\"x\",\"y\":[27.529516220092773,60.4638786315918,26.663484573364258,14.229216575622559,14.201517105102539,24.66173553466797,21.135852813720703,26.809223175048828,69.91975402832031,24.636491775512695,28.45102882385254,29.760059356689453,26.499582290649414,59.632232666015625,57.38311004638672,20.96434783935547,24.70530128479004,16.01692771911621,21.68838882446289,32.257728576660156,61.87726593017578,71.00515747070312,32.2980842590332,13.834317207336426,58.75654983520508,13.680891036987305,27.94685173034668,10.129870414733887,28.55607795715332,11.002211570739746,10.194308280944824,26.68851661682129,69.3421630859375,71.01200866699219,16.23921012878418,21.66375160217285,6.247676372528076,10.688724517822266,21.876737594604492,28.893081665039062,28.55175018310547,22.992916107177734,27.872474670410156,30.675870895385742,14.499032974243164,28.803979873657227,8.704448699951172,58.043434143066406,16.865053176879883,19.514141082763672,8.538629531860352,22.59101104736328,29.1358585357666,27.10495948791504,14.014174461364746,8.950904846191406,26.751359939575195,11.048965454101562,21.640024185180664,68.96234130859375,62.922340393066406,7.991774559020996,8.666510581970215,15.3340482711792,59.83626937866211,22.999774932861328,71.28984832763672,22.41521644592285,27.49951171875,27.894256591796875,8.20459270477295,29.800762176513672,8.455107688903809,10.35100269317627,27.588699340820312,14.505321502685547,15.943127632141113,26.73570442199707,28.45511245727539,26.320510864257812,27.399553298950195,24.48041534423828,17.56947135925293,11.114245414733887,22.279212951660156,10.010560989379883,26.117172241210938,25.71300506591797,21.017074584960938,15.965347290039062,29.188894271850586,14.777891159057617,9.442700386047363,7.700072288513184,8.351893424987793,22.589923858642578,62.2861442565918,26.097932815551758,26.06095314025879,28.489986419677734,7.689866542816162,9.27801513671875,8.329497337341309,13.795631408691406,26.864768981933594,21.985769271850586,27.784948348999023,24.61139488220215,20.88646697998047,29.918304443359375,14.805960655212402,27.894207000732422,26.789825439453125,7.643253803253174,-0.4835646450519562,23.12127113342285,10.761983871459961,16.0795841217041,13.488226890563965,27.856313705444336,69.97940826416016,23.19626235961914,7.856496810913086,31.14569091796875,25.974815368652344,16.251018524169922,58.1568489074707,30.76248550415039,20.46973991394043,28.820032119750977,30.922178268432617,61.31045150756836,6.906918048858643,18.318206787109375,9.100141525268555,11.765425682067871,7.111666202545166,27.261768341064453,8.02751350402832,24.2900447845459,27.516616821289062,6.606805801391602,24.25082015991211,24.03032684326172,28.196069717407227,25.87044906616211,25.724397659301758,22.428647994995117,13.62221622467041,70.86235046386719,19.904775619506836,4.85603141784668,58.76017761230469,20.61188316345215,26.629526138305664,26.816261291503906,57.73686599731445,22.371675491333008,23.669677734375,10.642723083496094,27.197811126708984,20.516345977783203,14.243396759033203,22.160879135131836,5.007087230682373,6.484698295593262,14.182587623596191,26.392520904541016,5.228473663330078,27.26046371459961,6.811968803405762,21.03249740600586,20.379730224609375,10.763729095458984,9.841127395629883,9.90135669708252,31.21784782409668,26.324724197387695,57.95262145996094,31.874170303344727,8.707215309143066,6.700952529907227,57.13964080810547,21.151939392089844,16.81004524230957,25.50080680847168,-2.5439581871032715,9.232827186584473,21.208932876586914,19.47195053100586,16.571300506591797,13.215391159057617,26.681886672973633,26.119659423828125,26.79719352722168,32.2868766784668,12.013648986816406,6.371190071105957,62.499534606933594,6.104010581970215,28.72366714477539,23.0628662109375,4.397658348083496,8.799941062927246,16.17622947692871,13.821136474609375,24.91063690185547,25.50926971435547,6.045605182647705,23.826400756835938,28.253355026245117,22.39768409729004,26.522014617919922,6.254336357116699,14.444592475891113,6.900092601776123,22.844017028808594,65.22274017333984,20.957843780517578,30.74912452697754,28.755239486694336,23.53208351135254,21.962081909179688,4.127241134643555,4.755180358886719,21.687501907348633,13.719494819641113,19.9331111907959,29.3364200592041,-0.6421528458595276,29.709354400634766,15.631061553955078,4.947829723358154,3.129925012588501,21.6411075592041,26.25393295288086,25.38091468811035,23.534156799316406,12.578203201293945,15.211106300354004,14.577594757080078,18.074007034301758,25.339635848999023,15.396252632141113,23.232345581054688,4.280165672302246,24.820232391357422,64.2893295288086,5.4254608154296875,59.29658889770508,5.17285680770874,63.8995246887207,16.260725021362305,55.93980407714844,23.814897537231445,12.812087059020996,25.29465675354004,-1.0448664426803589,2.987682342529297,5.496505260467529,13.190584182739258,20.48919105529785,71.82767486572266,21.862010955810547,24.80582046508789,62.21355056762695,4.138862609863281,30.553932189941406,4.458827018737793,7.49006986618042,-2.4806442260742188,56.08821105957031,29.560733795166016,3.484135150909424,30.628110885620117,14.155755996704102,22.493724822998047,14.280097007751465,17.881603240966797,29.43392562866211,19.16596031188965,23.636516571044922,22.357471466064453,22.638774871826172,14.501619338989258,12.256632804870605,25.2337703704834,8.626849174499512,3.999757766723633,3.5872726440429688,19.101545333862305,63.26544952392578,19.970481872558594,18.568574905395508,65.98897552490234,25.264877319335938,17.124143600463867,65.18487548828125,12.585118293762207,61.368858337402344,25.197254180908203,29.574081420898438,22.566484451293945,14.86037826538086,20.492650985717773,24.6290340423584,5.091245651245117,3.1567647457122803,25.767059326171875,1.345649003982544,4.754807949066162,60.448577880859375,18.815237045288086,62.8916015625,28.52727699279785,24.72903060913086,24.16488265991211,13.735032081604004,29.924068450927734,9.472700119018555,3.2482218742370605,8.753748893737793,25.500131607055664,23.953935623168945,1.3145281076431274,20.45142936706543,28.666353225708008,14.240337371826172,19.257871627807617,25.431814193725586,3.0712263584136963,4.834406852722168,27.81716537475586,23.857805252075195,13.325981140136719,25.158796310424805,4.765500068664551,58.022029876708984,1.9121662378311157,20.860593795776367,18.213722229003906,14.725772857666016,57.484745025634766,30.364465713500977,20.86486053466797,15.134482383728027,13.508428573608398,1.4979459047317505,14.025653839111328,22.181589126586914,2.0345730781555176,17.44425392150879,8.766557693481445,11.651985168457031,16.369197845458984,3.0792126655578613,23.662883758544922,18.79784393310547,14.109020233154297,17.11934471130371,1.7826683521270752,1.8627270460128784,8.066878318786621,-1.2977067232131958,2.86631178855896,10.789734840393066,16.132471084594727,28.188247680664062,0.8648747205734253,15.054572105407715,12.536291122436523,0.9371885061264038,22.22319221496582,-0.5343404412269592,24.48012351989746,16.786460876464844,14.128796577453613,61.036983489990234,-1.2113144397735596,19.494800567626953,17.052183151245117,24.53910255432129,8.29092025756836,-2.5170862674713135,13.655492782592773,9.738913536071777,2.6865603923797607,19.647903442382812,21.494197845458984,70.95003509521484,2.2173526287078857,16.176252365112305,0.7490498423576355,-2.8323912620544434,13.635497093200684,16.49987030029297,60.65196228027344,10.43233585357666,1.614883542060852,16.638595581054688,12.751961708068848,20.290115356445312,63.61213684082031,-1.733657717704773,62.58146667480469,10.641319274902344,-2.235848903656006,13.587271690368652,16.836318969726562,23.36345863342285,-1.100611686706543,13.090180397033691,17.682830810546875,-0.8023358583450317,18.049713134765625,23.009315490722656,72.71859741210938,4.500598430633545,21.41645622253418,0.04509395360946655,13.253411293029785,9.423535346984863,56.83770751953125,5.775343418121338,13.410127639770508,10.247607231140137,12.140026092529297,4.080583095550537,17.173526763916016,20.54299545288086,4.071077823638916,19.43284797668457,11.312255859375,59.05282974243164,-0.5156151056289673,-1.3389233350753784,58.55155563354492,8.456779479980469,4.472925662994385,20.732830047607422,11.225533485412598,-1.2193149328231812,19.764766693115234,12.514106750488281,16.260900497436523,12.301579475402832,11.855690002441406,22.426790237426758,-2.613797903060913,58.10272216796875,20.659086227416992,0.5065549612045288,7.8123273849487305,6.804939270019531,4.079493999481201,11.687782287597656,65.40320587158203,-0.46951067447662354,-3.4045817852020264,62.27595901489258,18.47543716430664,27.652498245239258,70.39655303955078,1.7666672468185425,-0.6891347765922546,7.342486381530762,20.369855880737305,18.992414474487305,1.6208823919296265,20.028385162353516,17.392444610595703,61.2255859375,72.3061294555664,24.24623680114746,-2.550806999206543,18.68079376220703,10.890337944030762,18.7159423828125,1.501365303993225,11.695966720581055,5.224592685699463,56.689659118652344,14.193758010864258,18.68937110900879,20.426677703857422,17.8460636138916,10.18659782409668,-2.608577013015747,10.9899320602417,-6.1808552742004395,19.839374542236328,14.705345153808594,0.46807464957237244,-3.0532665252685547,15.830062866210938,7.3714280128479,-1.9300284385681152,58.664424896240234,14.083374977111816,14.959695816040039,21.123584747314453,6.760415554046631,3.3781564235687256,10.10481071472168,61.81693649291992,8.336055755615234,12.397577285766602,-3.3703737258911133,71.20282745361328,15.741362571716309,5.459707736968994,3.965792179107666,22.71994972229004,17.454730987548828,8.857267379760742,-4.360294818878174,16.19113540649414,59.712562561035156,-3.892826557159424,18.371686935424805,11.353970527648926,11.427078247070312,19.195465087890625,4.30325984954834,3.238849401473999,-3.81042742729187,20.451383590698242,15.066555976867676,-3.8040125370025635,-7.990443229675293,56.95381546020508,-3.5162127017974854,6.802314281463623,10.424564361572266,-4.756157875061035,19.56419563293457,11.231733322143555,9.845739364624023,8.298901557922363,10.061954498291016,9.056365013122559,14.34973430633545,3.7367684841156006,9.756600379943848,-2.5412678718566895,-5.804240703582764,-5.429543972015381,6.554981708526611,69.03145599365234,-3.803022861480713,3.325875997543335,72.9464340209961,18.365863800048828,-4.720890522003174,3.9374172687530518,16.903074264526367,72.08499145507812,16.080570220947266,4.090683460235596,10.263701438903809,15.066936492919922,71.65099334716797,-5.191744327545166,-6.87446928024292,-4.7884111404418945,60.76517868041992,9.534629821777344,-4.527266502380371,8.068241119384766,-6.268243789672852,-0.638821542263031,9.624266624450684,-5.537959575653076,-4.158927917480469,7.653860569000244,58.4187126159668,-7.186313629150391,-0.41365545988082886,10.24471378326416,72.31709289550781,17.77960968017578,67.37091064453125,10.372350692749023,-3.1805970668792725,-5.643574237823486,4.174474716186523,-6.549154281616211,18.71396827697754,-6.163397312164307,-5.589193344116211,9.60348892211914,62.54011535644531,1.5439581871032715,7.335803985595703,-1.0291094779968262,12.348650932312012,-6.219324588775635,12.187747955322266,2.5034291744232178,16.686613082885742,8.783844947814941,-5.952117919921875,-6.736966609954834,-6.388485908508301,-11.326462745666504,71.88408660888672,16.84794044494629,3.0022449493408203,8.414531707763672,7.774562835693359,3.2822182178497314,-1.7214723825454712,61.93729019165039,-6.559591293334961,13.43359088897705,-6.421607494354248,10.683201789855957,73.5381851196289,72.93899536132812,9.191638946533203,2.562497854232788,11.175924301147461,12.188718795776367,9.205801963806152,0.9325535893440247,7.887251853942871,1.899342656135559,18.454662322998047,16.43218994140625,60.77329635620117,-8.76641845703125,8.378288269042969,-0.4098812937736511,-4.8103179931640625,-2.0976245403289795,-6.922935485839844,13.304365158081055,15.407320976257324,17.267650604248047,1.7887272834777832,1.535030484199524,69.18704986572266,15.466259002685547,18.23090934753418,17.412925720214844,17.897876739501953,14.421158790588379,-2.1767382621765137,15.952788352966309,17.65137481689453,-1.9944031238555908,6.172791004180908,-6.585927486419678,-7.266192436218262,70.68128204345703,59.367820739746094,13.465517044067383,6.875645637512207,1.5939363241195679,2.134897232055664,69.60769653320312,10.663570404052734,57.2017936706543,-6.073376655578613,-7.496696472167969,8.846537590026855,-7.114778995513916,-2.6384124755859375,0.2618388235569,-7.053232192993164,59.19871520996094,-7.013423442840576,-1.0720933675765991,-8.915740013122559,15.102103233337402,7.824728488922119,66.537353515625,62.340721130371094,-3.6270592212677,-7.6871185302734375,15.878111839294434,-4.951617240905762,-7.494454860687256,-2.7164478302001953,71.51116943359375,5.834367275238037,5.804802417755127,0.6245096921920776,65.84073638916016,15.522249221801758,-1.2089815139770508,-8.034528732299805,-5.565568923950195,-0.717866837978363,-12.858713150024414,0.6335341334342957,8.17695426940918,4.164182186126709,-11.033409118652344,-8.800247192382812,8.436409950256348,-8.18657398223877,-6.684072017669678,1.3666136264801025,17.82660484313965,-8.119900703430176,6.448962211608887,-3.4783334732055664,-9.296952247619629,0.08377271145582199,1.9155218601226807,16.434452056884766,2.068992853164673,-3.876734972000122,-7.4087018966674805,14.30615520477295,-12.667878150939941,-3.574075222015381,-1.4790130853652954,-13.474788665771484,-11.382893562316895,0.9456818103790283,1.1382566690444946,-7.4566755294799805,-9.395553588867188,-9.43430233001709,-4.3122878074646,12.628438949584961,-6.82932710647583,65.75788116455078,8.473100662231445,0.08073616772890091,-5.221591472625732,67.04676055908203,15.315777778625488,-10.792478561401367,2.1089704036712646,-14.106159210205078,65.44261169433594,15.44153118133545,-10.627135276794434,66.50039672851562,1.5310617685317993,9.8350830078125,12.991683959960938,14.84544849395752,3.1389567852020264,-4.386605262756348,-4.501290798187256,-8.636866569519043,7.351158142089844,-0.4672888517379761,-0.6401192545890808,66.67359161376953,-13.358661651611328,-1.188673973083496,-14.398598670959473,-12.953091621398926,-0.27801772952079773,57.966758728027344,2.346684455871582,17.257244110107422,-10.95085334777832,16.82136344909668,16.208404541015625,-14.516241073608398,-4.984696388244629,68.49678802490234,5.648927211761475,63.84990692138672,1.8029142618179321,57.63933181762695,5.666765213012695,5.0687994956970215,13.953479766845703,-5.170457363128662,-11.343608856201172,14.311518669128418,-7.6711106300354,-2.706200361251831,-4.002788066864014,-12.79897689819336,-5.397286415100098,4.765336990356445,8.668102264404297,8.586536407470703,-1.6265641450881958,7.764370918273926,-11.353283882141113,-13.788000106811523,0.7326783537864685,71.047607421875,12.5636568069458,-0.8809159994125366,-4.423370361328125,12.005982398986816,-11.188944816589355,-1.7633131742477417,-5.002468585968018,-5.055213928222656,-0.24885568022727966,5.677445888519287,6.735284328460693,64.7060546875,-12.018528938293457,-16.634855270385742,16.66379165649414,73.72488403320312,-0.30276358127593994,-12.090350151062012,-4.797992706298828,58.81002426147461,-0.7369729280471802,4.7727508544921875,1.7494114637374878,14.213090896606445,4.939535617828369,13.27384090423584,62.491886138916016,70.93669128417969,1.7787208557128906,-21.702350616455078,71.52012634277344,-18.05672264099121,-12.41636848449707,-11.552825927734375,57.83818054199219,4.3114213943481445,-14.068248748779297,67.40685272216797,5.504864692687988,-14.583316802978516,11.067667961120605,11.532907485961914,-16.234663009643555,-15.585954666137695,-1.0704312324523926,-1.6248539686203003,5.105075359344482,74.61944580078125,-4.230246067047119,-3.995126962661743,-14.061914443969727,5.057589530944824,-3.010999917984009,-13.419589042663574,-1.8161225318908691,14.903305053710938,-14.96284294128418,71.86518859863281,-14.393179893493652,-10.99841022491455,13.163910865783691,63.15758514404297,14.859217643737793,2.791293144226074,-0.13651001453399658,-0.5681586861610413,-8.207453727722168,-17.95994758605957,-5.66793155670166,-3.55361270904541,-18.709556579589844,14.879947662353516,72.91022491455078,0.414482057094574,-9.35909366607666,-15.904592514038086,5.525078773498535,-15.624475479125977,7.470495223999023,-1.2072248458862305,65.14276885986328,-9.944597244262695,68.71224975585938,-1.3215093612670898,-15.388448715209961,-14.755586624145508,11.217711448669434,-15.444026947021484,13.535215377807617,-20.291885375976562,59.17713928222656,2.3610739707946777,4.520595073699951,-6.65320348739624,-1.2523387670516968,-18.02745246887207,-21.677392959594727,-9.12913703918457,-19.902433395385742,3.053374767303467,-22.235698699951172,1.630033254623413,4.641592025756836,-1.8876924514770508,-7.536377906799316,11.232073783874512,-14.174633026123047,-3.600306510925293,5.105690002441406,3.875230312347412,10.624130249023438,15.08511734008789,0.20009425282478333,-11.009443283081055,-4.803533554077148,-3.8356740474700928,-4.21824312210083,-16.60603904724121,75.46224975585938,2.1582024097442627,-19.489009857177734,13.683124542236328,4.673217296600342,-12.960403442382812,-10.321770668029785,-9.686803817749023,3.604334831237793,-10.294801712036133,-22.075326919555664,0.7798616886138916,2.072732925415039,-20.26612091064453,-3.656508684158325,-17.33519172668457,-0.48134109377861023,-1.2106059789657593,67.48921966552734,3.792165517807007,-14.467695236206055,12.377015113830566,-3.9242329597473145,75.01209259033203,-5.710351467132568,-16.007225036621094,-15.422024726867676,-0.008291471749544144,74.2238998413086,-17.00242805480957,11.822352409362793,-16.89480209350586,-11.449366569519043,-22.964778900146484,59.41182327270508,-10.627366065979004,-7.489537239074707,-22.939851760864258,-2.6270196437835693,65.26708221435547,-9.257015228271484,-24.124603271484375,-7.334573745727539,-17.551685333251953,-37.998924255371094,4.893364906311035,-16.749393463134766,-8.17906379699707,-22.43600845336914,11.491425514221191,8.998403549194336,2.224647045135498,65.7553939819336,-5.834505081176758,65.49339294433594,2.9519481658935547,-6.5515007972717285,3.021322250366211,72.0746841430664,-22.907413482666016,73.26316833496094,72.41508483886719,10.376567840576172,12.736233711242676,-15.873659133911133,-8.441184043884277,-4.688515663146973,-20.04861068725586,-6.6069512367248535,-6.276864528656006,12.647561073303223,65.67708587646484,6.45234489440918,62.866455078125,58.69226837158203,-17.376914978027344,-16.860313415527344,-12.874249458312988,-5.655975341796875,76.77169036865234,-22.99479866027832,3.3758554458618164,-2.0053985118865967,-14.58658218383789,-6.059903144836426,-5.088400363922119,4.0292277336120605,66.28838348388672,-7.356319904327393,11.598044395446777,-17.551910400390625,63.40102005004883,-3.1386873722076416,70.13280487060547,-4.96010160446167,-12.3113431930542,64.0608139038086,-2.960530996322632,-19.45627784729004,4.807783603668213,-27.507064819335938,74.84253692626953,-19.52883529663086,-4.473937034606934,-21.453096389770508,2.436305522918701,-4.395379543304443,74.0757827758789,5.687508583068848,-13.82354736328125,10.115601539611816,-4.496005535125732,-23.19706153869629,-16.87005043029785,-7.128253936767578,-18.132383346557617,-9.399868965148926,-25.276134490966797,62.28518295288086,10.29368782043457,2.221041202545166,3.620347023010254,-2.851701021194458,-17.93824577331543,-7.237621784210205,7.835915565490723,-5.964280605316162,6.175576686859131,-23.84457778930664,4.0913238525390625,-0.44435688853263855,-7.549985885620117,8.779336929321289,10.860190391540527,-26.610149383544922,76.93215942382812,11.876896858215332,-27.89134979248047,11.383503913879395,11.75804615020752,-4.933665752410889,-7.944123268127441,-15.878129959106445,-4.417169094085693,-7.009884834289551,-4.900149822235107,9.604528427124023,-38.47658157348633,-4.099385738372803,-29.225801467895508,-13.376337051391602,9.452558517456055,68.24777221679688,-20.06329917907715,0.5631904602050781,-4.640603542327881,10.702198028564453,-7.417555332183838,-14.92541790008545,-25.425336837768555,-17.43004035949707,-13.34436321258545,-7.671064376831055,60.10490417480469,-21.384151458740234,-8.370508193969727,-19.676977157592773,-3.0721395015716553,-30.418123245239258,6.299336910247803,-3.7346131801605225,-23.278217315673828,-27.037487030029297,-30.633838653564453,10.602213859558105,-5.148022174835205,-26.108606338500977,-17.501882553100586,-27.668292999267578,4.507534503936768,-19.9044189453125,-10.36025333404541,-4.75237512588501,-25.27617835998535,-27.39695930480957,-4.018416881561279,-4.831777572631836,4.73295259475708,-25.764633178710938,-37.43358612060547,-24.381616592407227,-20.645076751708984,-29.203927993774414,-24.00124740600586,-4.27220344543457,0.9407339096069336,63.61743927001953,-22.60295295715332,-27.393892288208008,-17.537817001342773,-27.073619842529297,-0.7824297547340393,-28.250091552734375,-13.572273254394531,68.89933013916016,-10.480348587036133,-9.3414306640625,-19.591341018676758,66.22615814208984,4.0477519035339355,4.916341304779053,8.86916732788086,-18.534822463989258,-34.497703552246094,71.72783660888672,8.589865684509277,-9.009063720703125,5.764069080352783,70.99651336669922,-1.5611481666564941,-34.52995681762695,-27.66922378540039,-23.137971878051758,-10.835222244262695,-0.23361948132514954,-15.680989265441895,-5.236146926879883,-26.91294288635254,5.067580699920654,-13.938131332397461,-24.6209659576416,-3.8642048835754395,-27.293672561645508,73.51768493652344,-9.418292999267578,-22.75836944580078,-8.826186180114746,-25.59316062927246,-25.572954177856445,76.68730163574219,10.627799034118652,4.057993412017822,-28.74012565612793,-21.29922103881836,-7.738668441772461,-8.804727554321289,-8.591686248779297,-10.037179946899414,-20.760135650634766,-31.529056549072266,-10.543269157409668,-8.857891082763672,-30.963638305664062,-24.22190284729004,-11.351523399353027,8.864419937133789,-30.915451049804688,58.53842544555664,5.415396213531494,8.097472190856934,-30.42623519897461,-1.3322950601577759,-29.58028793334961,-11.30350112915039,-5.881930351257324,-20.16876983642578,-21.4664249420166,-33.81479263305664,-21.25096893310547,-28.260414123535156,-18.611309051513672,2.5468251705169678,-5.624763011932373,-26.63019561767578,-1.2482460737228394,-8.974946022033691,-18.168724060058594,-29.975324630737305,74.076416015625,-10.692924499511719,-3.407898187637329,-26.18337631225586,67.78768157958984,72.84744262695312,-31.099231719970703,-14.837634086608887,-11.515155792236328,-7.636038303375244,68.79557800292969,-10.477682113647461,-29.116086959838867,-34.511375427246094,-19.645734786987305,-21.551006317138672,72.03570556640625,-11.633710861206055,-11.525373458862305,-40.68779754638672,-25.503379821777344,8.545502662658691,-29.507369995117188,-26.449420928955078,-1.9539936780929565,67.0265121459961,-17.56009864807129,-24.466415405273438,-29.749591827392578,-30.72542953491211,-30.3696231842041,-11.264313697814941,-24.940065383911133,73.31724548339844,-32.890628814697266,7.090822696685791,77.96183776855469,-21.941999435424805,61.94761276245117,-31.186952590942383,-21.66312026977539,-8.112845420837402,-5.359460353851318,-31.00420379638672,-12.230206489562988,-33.94393539428711,70.98863220214844,0.6947653293609619,-20.383548736572266,5.831846237182617,-20.517974853515625,1.0658094882965088,-21.765750885009766,-32.138343811035156,-4.832610607147217,-21.11423110961914,-10.670002937316895,73.76519775390625,-28.407033920288086,-39.19721603393555,71.90258026123047,-22.40595817565918,-29.78028106689453,-19.01395606994629,-5.608285427093506,78.42266845703125,-0.9097504019737244,-29.85134506225586,-30.065406799316406,-26.55880355834961,-5.303120136260986,-0.1564524918794632,-4.431699275970459,4.082265853881836,-12.350117683410645,-30.648855209350586,-33.079078674316406,-1.7505004405975342,-1.5676991939544678,-31.84665298461914,-25.561683654785156,-12.443326950073242,5.22157621383667,70.6311264038086,-19.695125579833984,0.48065826296806335,-30.971036911010742,-33.19386291503906,7.332517147064209,-25.96788787841797,-29.482603073120117,-14.713260650634766,-33.364501953125,-0.8320767283439636,-1.8382203578948975,7.98724365234375,-9.263280868530273,73.97590637207031,-2.065364122390747,-0.38371485471725464,-8.442706108093262,-5.158059120178223,-9.094836235046387,-12.62217903137207,-7.544138431549072,-11.810715675354004,-0.009574771858751774,-2.562246799468994,1.7575569152832031,72.58348083496094,-2.245990753173828,-2.5381510257720947,-23.87384033203125,-34.6479606628418,-31.406455993652344,-23.682491302490234,4.599925994873047,-15.57965087890625,-25.913259506225586,-31.368946075439453,-15.985577583312988,-3.734677791595459,-23.987852096557617,-39.771446228027344,-7.837108612060547,-8.555825233459473,-8.362421989440918,-26.41401481628418,70.2250747680664,6.186753273010254,61.86081314086914,-38.587894439697266,-27.35040855407715,-3.497180461883545,4.2934770584106445,-11.906656265258789,-37.06557846069336,-21.753726959228516,-3.1928348541259766,67.45301818847656,60.86800765991211,-13.411531448364258,-23.826168060302734,-31.057355880737305,-3.8815252780914307,-17.86733055114746,-31.152671813964844,-12.880857467651367,-26.251789093017578,-25.242780685424805,-39.582679748535156,-26.099327087402344,-33.093597412109375,-22.832204818725586,77.82288360595703,-2.8336095809936523,4.700368881225586,-13.588881492614746,-14.600420951843262,3.8691327571868896,-13.256940841674805,78.58782196044922,-30.888263702392578,-25.016719818115234,-31.431943893432617,-22.966360092163086,-23.431791305541992,-42.552032470703125,-34.64439392089844,72.2788314819336,-6.221463680267334,-24.363786697387695,-21.294742584228516,70.91175079345703,-31.37920379638672,-14.37650203704834,-2.7224600315093994,-22.313152313232422,7.52600622177124,-14.941581726074219,-14.824239730834961,-3.8347506523132324,-38.94414138793945,75.52259063720703,-2.847604274749756,-1.8731898069381714,78.0019302368164,-21.89276695251465,-24.639232635498047,66.1513900756836,-25.0418643951416,-22.812606811523438,-9.137391090393066,78.66389465332031,-21.64839744567871,-18.340499877929688,-13.991703987121582,66.9426040649414,-27.090343475341797,-0.19644476473331451,-13.47324275970459,-32.07222366333008,-2.743117570877075,-0.28677207231521606,63.22116470336914,-20.525171279907227,-7.85239839553833,-28.457660675048828,3.8287980556488037,73.16547393798828,-18.094135284423828,-24.53961944580078,-23.686519622802734,-37.57961654663086,-24.827808380126953,-17.769975662231445,-15.408756256103516,-5.960713863372803,-10.185705184936523,-25.928991317749023,70.49424743652344,-6.513892650604248,-21.71991539001465,-0.3247648775577545,-35.29780960083008,-32.400177001953125,-9.768409729003906,70.16036224365234,-22.174631118774414,-39.56879806518555,72.00120544433594,-9.111893653869629,-11.302395820617676,-9.771379470825195,-26.492572784423828,-10.973518371582031,-22.264707565307617,72.83615112304688,-8.807660102844238,-38.05595397949219,-29.522403717041016,-35.8790168762207,-15.453009605407715,6.187075614929199,-32.57304382324219,7.2389631271362305,-21.91938018798828,65.71708679199219,-21.539236068725586,2.876046895980835,-32.65900421142578,75.92819213867188,-22.273494720458984,-21.242578506469727,1.4306362867355347,5.571181774139404,-15.633670806884766,-18.57489585876465,7.619388103485107,-24.24151039123535,-26.789730072021484,-14.973925590515137,-22.464828491210938,-27.776517868041992,-30.54030418395996,64.04517364501953,-5.06273078918457,-27.117464065551758,-9.29285717010498,6.725986003875732,-35.250038146972656,-18.62967300415039,71.09315490722656,-5.067262172698975,-36.91971206665039,65.97745513916016,-7.229061603546143,-49.29136657714844,-25.558879852294922,-11.32940673828125,-25.83295440673828,-40.233463287353516,7.242973327636719,-1.1587804555892944,77.77921295166016,-16.519556045532227,-7.145229816436768,3.519587516784668,-18.994264602661133,-39.69272232055664,-40.647647857666016,-24.758682250976562,-32.31854248046875,79.66619873046875,-39.84441375732422,-35.89374542236328,-42.35013961791992,-32.534156799316406,-8.1080322265625,2.013669013977051,-26.653297424316406,-21.58083152770996,67.42852783203125,-15.799238204956055,-34.58916091918945,-29.563026428222656,-27.170299530029297,-46.67203903198242,-35.571868896484375,-19.358980178833008,-27.155054092407227,-34.08492660522461,62.428890228271484,-43.29641342163086,69.81800079345703,-5.810912609100342,-16.20909881591797,-36.9429817199707,-22.607027053833008,-3.7077629566192627,-5.162399768829346,-22.92319679260254,-28.30272102355957,-29.702625274658203,-35.513118743896484,-28.081344604492188,-22.172643661499023,-15.359077453613281,-28.048540115356445,-36.75695037841797,-14.90751838684082,-29.58473014831543,-33.92061996459961,-28.010927200317383,-41.65031433105469,-40.91397476196289,-36.47117614746094,-41.26673889160156,-34.646114349365234,-28.06664276123047,-33.06211471557617,-39.79263687133789,-42.1269645690918,-40.238555908203125,-36.3161506652832,-40.064693450927734,-34.714420318603516,-37.666385650634766,-34.899078369140625,64.2566146850586,-29.603466033935547,-34.79018020629883,-28.80071449279785,-27.956180572509766,-6.88450288772583,-36.43254470825195,-34.15151596069336,-45.788021087646484,-27.36155128479004,-27.283964157104492,70.86064147949219,-42.24668502807617,65.0168685913086,-5.010712146759033,62.716033935546875,64.91053771972656,-28.650388717651367,-1.865153431892395,67.8644027709961,-44.03368377685547,-36.66748046875,-30.1982364654541,-48.4234619140625,-29.137739181518555,-34.55535125732422,-48.657005310058594,-28.585735321044922,-29.796356201171875,-36.12959289550781,-25.967864990234375,-9.692843437194824,72.6386947631836,-18.301876068115234,1.2033178806304932,-29.233537673950195,-1.4046738147735596,-35.51612091064453,-16.979169845581055,-16.889171600341797,-36.31431579589844,-22.556631088256836,-35.907997131347656,-31.20214080810547,-36.361228942871094,78.50361633300781,-41.2227897644043,-28.87504768371582,-27.974796295166016,-6.866090297698975,-14.878978729248047,-10.576951026916504,-0.4509671628475189,-23.27104949951172,-27.775300979614258,-42.7108154296875,-40.39569854736328,-10.305459976196289,74.27342987060547,-45.33510208129883,79.0814437866211,-28.147491455078125,-10.89936637878418,-0.6352030038833618,-39.33890914916992,73.4244384765625,-14.858027458190918,-30.098751068115234,-20.870729446411133,6.7471394538879395,-38.98493576049805,-6.854281425476074,-36.68889617919922,-19.11685562133789,-36.439430236816406,79.70198822021484,-44.382511138916016,-28.96024513244629,79.31787872314453,-37.24681854248047,71.88484954833984,-37.260616302490234,-38.01407241821289,-32.854732513427734,-30.933557510375977,-29.20857048034668,-37.43244171142578,64.43502044677734,-42.11043167114258,-40.04518127441406,-29.064682006835938,-3.55342960357666,-28.953998565673828,4.000565528869629,-1.9014719724655151,-29.453935623168945,-43.39592742919922,-32.36219787597656,-46.50230407714844,-38.62444305419922,79.47994232177734,-30.446229934692383,-21.140134811401367,-17.95960807800293,-30.85192108154297,-50.021827697753906,-45.48129653930664,-37.05431365966797,-25.745656967163086,-39.06863784790039,63.23820114135742,66.10795593261719,-17.12500762939453,-39.156005859375,-30.82756233215332,-20.417495727539062,-11.068161964416504,-45.83967590332031,-38.33751678466797,-16.033517837524414,-38.357852935791016,-26.842065811157227,-32.294517517089844,-42.00952911376953,-10.78181266784668,-38.915836334228516,3.8762247562408447,-42.2202033996582,5.194442272186279,-32.16682052612305,-38.7081298828125,-38.744564056396484,-38.630252838134766,-30.448877334594727,-23.344985961914062,66.32491302490234,-47.89180374145508,-31.22100067138672,-37.19511032104492,-23.576229095458984,-37.84032440185547,-26.169082641601562,-39.78950881958008,-21.182315826416016,72.74053192138672,-15.537676811218262,-44.75607681274414,-16.662294387817383,-20.7611083984375,75.74773406982422,-2.686143398284912,-37.6545295715332,-22.040416717529297,68.98590087890625,-32.92106246948242,-43.37158203125,-37.88894271850586,65.35256958007812,-29.711261749267578,-17.704124450683594,-29.29784393310547,-29.239423751831055,-46.87979507446289,-29.251991271972656,-31.304954528808594,-44.213417053222656,-48.703617095947266,78.5080795288086,-16.491487503051758,-33.053245544433594,5.8449482917785645,-39.10806655883789,-26.327425003051758,-31.110210418701172,-43.14990234375,-33.276206970214844,73.81963348388672,80.71307373046875,-19.86524200439453,78.8155746459961,-45.90651321411133,-45.634246826171875,-41.17930221557617,-35.45302200317383,3.918480396270752,-28.915294647216797,-42.838157653808594,-33.42122268676758,-21.510391235351562,-45.04214859008789,-19.88737678527832,-30.3735408782959,-43.82902145385742,75.00653076171875,-42.14292526245117,-32.101654052734375,-56.160099029541016,65.26586151123047,-11.226567268371582,-30.092470169067383,-44.157142639160156,-41.3427848815918,-40.55710983276367,-46.513519287109375,4.084873676300049,-36.49414825439453,-47.14906692504883,-43.88545608520508,65.3189468383789,-40.631988525390625,-39.075992584228516,-43.96982955932617,-2.2031846046447754,-41.801307678222656,-16.621299743652344,-49.88872146606445,-40.47868347167969,-45.53538131713867,80.7369155883789,-17.504287719726562,-38.47673034667969,-43.8941650390625,-16.53777503967285,-41.820980072021484,-46.23646926879883,-44.5081901550293,-30.708114624023438,-17.643953323364258,-35.38587951660156,-36.28270721435547,-43.40800476074219,81.26659393310547,-18.01765251159668,-35.96913528442383,6.414028167724609,-43.2282829284668,6.3959760665893555,-49.33699417114258,-40.75210952758789,-44.89391326904297,76.03719329833984,-46.11739730834961,-31.935937881469727,-56.42661666870117,-17.68435287475586,-22.05438995361328,-18.356040954589844,-41.47688293457031,-38.96432876586914,-2.937991142272949,74.30158233642578,-47.21323013305664,-45.0530891418457,-49.45615768432617,-43.70815658569336,-50.40727615356445,-42.31098175048828,-44.6215934753418,-43.136688232421875,0.9899019598960876,-49.976593017578125,-24.209728240966797,-28.18260383605957,-45.03582763671875,-14.262313842773438,-47.313236236572266,-49.658329010009766,-27.926469802856445,-38.57466506958008,-25.29865837097168,-44.422645568847656,17.855674743652344,-30.582948684692383,-49.231285095214844,-43.99480438232422,-43.95515441894531,-44.28856658935547,-23.54318618774414,-33.492122650146484,-18.242563247680664,-42.436004638671875,3.3095855712890625,-49.93180847167969,-45.50141525268555,-36.13380813598633,-18.333677291870117,-51.18818283081055,-50.18428421020508,63.69719696044922,-29.25897979736328,-20.06494903564453,-32.851112365722656,81.63758850097656,76.23836517333984,-0.9115437269210815,-40.93361282348633,-35.9100456237793,75.54475402832031,75.08695220947266,-39.67380905151367,63.70587158203125,-49.874446868896484,-47.38270950317383,1.0917208194732666,-49.16484451293945,-17.646747589111328,-29.287160873413086,3.410916328430176,-37.093467712402344,-38.997535705566406,-49.480430603027344,-50.268646240234375,75.47512817382812,-23.373924255371094,-23.868743896484375,66.38404083251953,-34.436424255371094,-34.71158981323242,-45.028568267822266,-53.76679611206055,76.98432159423828,-42.32694625854492,4.407938003540039,-43.73661422729492,-43.35540008544922,-49.05242919921875,4.368260383605957,-19.593955993652344,-18.866178512573242,-37.00370788574219,-43.630184173583984,-39.86507034301758,-50.03790283203125,-1.4391292333602905,0.8897610306739807,80.8320083618164,-30.500093460083008,2.060452938079834,-32.63149642944336,72.94459533691406,-41.830299377441406,-39.33494186401367,-55.04362487792969,-38.972999572753906,-54.21379470825195,-34.79458236694336,-20.349767684936523,-37.85247039794922,71.85191345214844,-42.276893615722656,-42.81011199951172,-15.018092155456543,-19.527132034301758,63.82160568237305,-49.77218246459961,-50.59483337402344,-44.84286880493164,-46.57888412475586,-19.27214813232422,73.5798568725586,-22.72030258178711,-48.94993209838867,-32.50369644165039,-42.00545120239258,-31.424076080322266,-23.01744842529297,76.19810485839844,-23.61016082763672,-36.323997497558594,-52.32868194580078,-44.61677551269531,-44.23621368408203,75.51025390625,-35.182456970214844,-50.05290222167969,81.41632080078125,-45.470184326171875,-20.120676040649414,-40.40704345703125,6.0596208572387695,63.18900680541992,-48.56453323364258,-43.00307846069336,-40.71198654174805,81.71729278564453,-21.024097442626953,0.9245182275772095,-48.63463592529297,-49.40424346923828,66.9231185913086,-49.52317810058594,63.16999435424805,62.66199493408203,80.87938690185547,-50.373146057128906,0.10602150112390518,-18.626480102539062,-49.942054748535156,2.579782247543335,-49.74958038330078,73.62911987304688,-15.482300758361816,-38.39944076538086,-41.23350143432617,-57.389068603515625,81.28717803955078,-48.931884765625,-20.292316436767578,-58.26826095581055,-50.36457061767578,-50.05312728881836,-47.50061798095703,-35.787479400634766,-51.243717193603516,-47.56922912597656,-50.69974136352539,-17.114229202270508,-41.541839599609375,-53.882816314697266,-49.493709564208984,-19.25700569152832,-42.59083938598633,-50.57270431518555,-44.06343460083008,-14.661206245422363,-50.45499801635742,-15.595621109008789,-50.77083206176758,-28.221973419189453,-21.798126220703125,-32.65115737915039,-46.52257537841797,-48.128013610839844,-49.94694137573242,3.177914619445801,-55.083560943603516,-23.676809310913086,-16.08186912536621,-51.59239959716797,-37.03171920776367,-40.42970657348633,-49.287601470947266,-45.92812728881836,-23.557498931884766,82.19872283935547,-57.099971771240234,-48.61496353149414,73.04378509521484,-48.5395622253418,-56.606468200683594,74.32764434814453,-30.698753356933594,-51.94485855102539,-21.080442428588867,-17.825090408325195,-38.79499053955078,-0.49451085925102234,-22.532358169555664,-48.5806884765625,-48.82679748535156,74.64884185791016,-40.21742248535156,64.82498931884766,-41.037261962890625,-12.98750114440918,-50.44520950317383,-36.41447448730469,-52.500240325927734,-54.11936950683594,-43.431793212890625,-21.61457633972168,-17.611419677734375,-34.0479621887207,-50.46106719970703,-46.90012741088867,-40.84759521484375,-50.59353256225586,-30.203319549560547,-21.12278175354004,-1.0341827869415283,62.776126861572266,-52.25798416137695,-34.09224319458008,-34.932823181152344,-53.047645568847656,-42.868831634521484,-52.794795989990234,-20.838226318359375,-51.851680755615234,-36.21516036987305,-51.99717712402344,-53.074249267578125,-30.3088436126709,-38.16328811645508,-32.04052734375,2.52520751953125,-52.80815124511719,-45.10292434692383,-57.69314193725586,70.68791198730469,-20.66028594970703,1.5565927028656006,2.4101362228393555,-39.88247299194336,-52.04277801513672,-51.15720748901367,-40.479331970214844,-39.71296310424805,-20.80776596069336,-51.269989013671875,-52.041996002197266,-34.75905227661133,-51.607601165771484,74.55259704589844,-37.49332809448242,-49.243194580078125,74.42208099365234,-20.078962326049805,-37.35569381713867,62.855342864990234,82.025146484375,-31.081409454345703,-51.097721099853516,-49.60956954956055,-52.96360397338867,-51.51087188720703,-36.812252044677734,-51.174957275390625,-46.745094299316406,-33.26112747192383,-30.735321044921875,-36.266178131103516,-39.929237365722656,71.32539367675781,-45.25077819824219,-33.195167541503906,-32.29533386230469,-21.6607723236084,-51.006656646728516,-50.5234260559082,-20.902040481567383,77.24518585205078,-51.500328063964844,77.62739562988281,-41.71902847290039,-34.874202728271484],\"yaxis\":\"y\",\"type\":\"scattergl\"}],                        {\"template\":{\"data\":{\"histogram2dcontour\":[{\"type\":\"histogram2dcontour\",\"colorbar\":{\"outlinewidth\":0,\"ticks\":\"\"},\"colorscale\":[[0.0,\"#0d0887\"],[0.1111111111111111,\"#46039f\"],[0.2222222222222222,\"#7201a8\"],[0.3333333333333333,\"#9c179e\"],[0.4444444444444444,\"#bd3786\"],[0.5555555555555556,\"#d8576b\"],[0.6666666666666666,\"#ed7953\"],[0.7777777777777778,\"#fb9f3a\"],[0.8888888888888888,\"#fdca26\"],[1.0,\"#f0f921\"]]}],\"choropleth\":[{\"type\":\"choropleth\",\"colorbar\":{\"outlinewidth\":0,\"ticks\":\"\"}}],\"histogram2d\":[{\"type\":\"histogram2d\",\"colorbar\":{\"outlinewidth\":0,\"ticks\":\"\"},\"colorscale\":[[0.0,\"#0d0887\"],[0.1111111111111111,\"#46039f\"],[0.2222222222222222,\"#7201a8\"],[0.3333333333333333,\"#9c179e\"],[0.4444444444444444,\"#bd3786\"],[0.5555555555555556,\"#d8576b\"],[0.6666666666666666,\"#ed7953\"],[0.7777777777777778,\"#fb9f3a\"],[0.8888888888888888,\"#fdca26\"],[1.0,\"#f0f921\"]]}],\"heatmap\":[{\"type\":\"heatmap\",\"colorbar\":{\"outlinewidth\":0,\"ticks\":\"\"},\"colorscale\":[[0.0,\"#0d0887\"],[0.1111111111111111,\"#46039f\"],[0.2222222222222222,\"#7201a8\"],[0.3333333333333333,\"#9c179e\"],[0.4444444444444444,\"#bd3786\"],[0.5555555555555556,\"#d8576b\"],[0.6666666666666666,\"#ed7953\"],[0.7777777777777778,\"#fb9f3a\"],[0.8888888888888888,\"#fdca26\"],[1.0,\"#f0f921\"]]}],\"heatmapgl\":[{\"type\":\"heatmapgl\",\"colorbar\":{\"outlinewidth\":0,\"ticks\":\"\"},\"colorscale\":[[0.0,\"#0d0887\"],[0.1111111111111111,\"#46039f\"],[0.2222222222222222,\"#7201a8\"],[0.3333333333333333,\"#9c179e\"],[0.4444444444444444,\"#bd3786\"],[0.5555555555555556,\"#d8576b\"],[0.6666666666666666,\"#ed7953\"],[0.7777777777777778,\"#fb9f3a\"],[0.8888888888888888,\"#fdca26\"],[1.0,\"#f0f921\"]]}],\"contourcarpet\":[{\"type\":\"contourcarpet\",\"colorbar\":{\"outlinewidth\":0,\"ticks\":\"\"}}],\"contour\":[{\"type\":\"contour\",\"colorbar\":{\"outlinewidth\":0,\"ticks\":\"\"},\"colorscale\":[[0.0,\"#0d0887\"],[0.1111111111111111,\"#46039f\"],[0.2222222222222222,\"#7201a8\"],[0.3333333333333333,\"#9c179e\"],[0.4444444444444444,\"#bd3786\"],[0.5555555555555556,\"#d8576b\"],[0.6666666666666666,\"#ed7953\"],[0.7777777777777778,\"#fb9f3a\"],[0.8888888888888888,\"#fdca26\"],[1.0,\"#f0f921\"]]}],\"surface\":[{\"type\":\"surface\",\"colorbar\":{\"outlinewidth\":0,\"ticks\":\"\"},\"colorscale\":[[0.0,\"#0d0887\"],[0.1111111111111111,\"#46039f\"],[0.2222222222222222,\"#7201a8\"],[0.3333333333333333,\"#9c179e\"],[0.4444444444444444,\"#bd3786\"],[0.5555555555555556,\"#d8576b\"],[0.6666666666666666,\"#ed7953\"],[0.7777777777777778,\"#fb9f3a\"],[0.8888888888888888,\"#fdca26\"],[1.0,\"#f0f921\"]]}],\"mesh3d\":[{\"type\":\"mesh3d\",\"colorbar\":{\"outlinewidth\":0,\"ticks\":\"\"}}],\"scatter\":[{\"fillpattern\":{\"fillmode\":\"overlay\",\"size\":10,\"solidity\":0.2},\"type\":\"scatter\"}],\"parcoords\":[{\"type\":\"parcoords\",\"line\":{\"colorbar\":{\"outlinewidth\":0,\"ticks\":\"\"}}}],\"scatterpolargl\":[{\"type\":\"scatterpolargl\",\"marker\":{\"colorbar\":{\"outlinewidth\":0,\"ticks\":\"\"}}}],\"bar\":[{\"error_x\":{\"color\":\"#2a3f5f\"},\"error_y\":{\"color\":\"#2a3f5f\"},\"marker\":{\"line\":{\"color\":\"#E5ECF6\",\"width\":0.5},\"pattern\":{\"fillmode\":\"overlay\",\"size\":10,\"solidity\":0.2}},\"type\":\"bar\"}],\"scattergeo\":[{\"type\":\"scattergeo\",\"marker\":{\"colorbar\":{\"outlinewidth\":0,\"ticks\":\"\"}}}],\"scatterpolar\":[{\"type\":\"scatterpolar\",\"marker\":{\"colorbar\":{\"outlinewidth\":0,\"ticks\":\"\"}}}],\"histogram\":[{\"marker\":{\"pattern\":{\"fillmode\":\"overlay\",\"size\":10,\"solidity\":0.2}},\"type\":\"histogram\"}],\"scattergl\":[{\"type\":\"scattergl\",\"marker\":{\"colorbar\":{\"outlinewidth\":0,\"ticks\":\"\"}}}],\"scatter3d\":[{\"type\":\"scatter3d\",\"line\":{\"colorbar\":{\"outlinewidth\":0,\"ticks\":\"\"}},\"marker\":{\"colorbar\":{\"outlinewidth\":0,\"ticks\":\"\"}}}],\"scattermapbox\":[{\"type\":\"scattermapbox\",\"marker\":{\"colorbar\":{\"outlinewidth\":0,\"ticks\":\"\"}}}],\"scatterternary\":[{\"type\":\"scatterternary\",\"marker\":{\"colorbar\":{\"outlinewidth\":0,\"ticks\":\"\"}}}],\"scattercarpet\":[{\"type\":\"scattercarpet\",\"marker\":{\"colorbar\":{\"outlinewidth\":0,\"ticks\":\"\"}}}],\"carpet\":[{\"aaxis\":{\"endlinecolor\":\"#2a3f5f\",\"gridcolor\":\"white\",\"linecolor\":\"white\",\"minorgridcolor\":\"white\",\"startlinecolor\":\"#2a3f5f\"},\"baxis\":{\"endlinecolor\":\"#2a3f5f\",\"gridcolor\":\"white\",\"linecolor\":\"white\",\"minorgridcolor\":\"white\",\"startlinecolor\":\"#2a3f5f\"},\"type\":\"carpet\"}],\"table\":[{\"cells\":{\"fill\":{\"color\":\"#EBF0F8\"},\"line\":{\"color\":\"white\"}},\"header\":{\"fill\":{\"color\":\"#C8D4E3\"},\"line\":{\"color\":\"white\"}},\"type\":\"table\"}],\"barpolar\":[{\"marker\":{\"line\":{\"color\":\"#E5ECF6\",\"width\":0.5},\"pattern\":{\"fillmode\":\"overlay\",\"size\":10,\"solidity\":0.2}},\"type\":\"barpolar\"}],\"pie\":[{\"automargin\":true,\"type\":\"pie\"}]},\"layout\":{\"autotypenumbers\":\"strict\",\"colorway\":[\"#636efa\",\"#EF553B\",\"#00cc96\",\"#ab63fa\",\"#FFA15A\",\"#19d3f3\",\"#FF6692\",\"#B6E880\",\"#FF97FF\",\"#FECB52\"],\"font\":{\"color\":\"#2a3f5f\"},\"hovermode\":\"closest\",\"hoverlabel\":{\"align\":\"left\"},\"paper_bgcolor\":\"white\",\"plot_bgcolor\":\"#E5ECF6\",\"polar\":{\"bgcolor\":\"#E5ECF6\",\"angularaxis\":{\"gridcolor\":\"white\",\"linecolor\":\"white\",\"ticks\":\"\"},\"radialaxis\":{\"gridcolor\":\"white\",\"linecolor\":\"white\",\"ticks\":\"\"}},\"ternary\":{\"bgcolor\":\"#E5ECF6\",\"aaxis\":{\"gridcolor\":\"white\",\"linecolor\":\"white\",\"ticks\":\"\"},\"baxis\":{\"gridcolor\":\"white\",\"linecolor\":\"white\",\"ticks\":\"\"},\"caxis\":{\"gridcolor\":\"white\",\"linecolor\":\"white\",\"ticks\":\"\"}},\"coloraxis\":{\"colorbar\":{\"outlinewidth\":0,\"ticks\":\"\"}},\"colorscale\":{\"sequential\":[[0.0,\"#0d0887\"],[0.1111111111111111,\"#46039f\"],[0.2222222222222222,\"#7201a8\"],[0.3333333333333333,\"#9c179e\"],[0.4444444444444444,\"#bd3786\"],[0.5555555555555556,\"#d8576b\"],[0.6666666666666666,\"#ed7953\"],[0.7777777777777778,\"#fb9f3a\"],[0.8888888888888888,\"#fdca26\"],[1.0,\"#f0f921\"]],\"sequentialminus\":[[0.0,\"#0d0887\"],[0.1111111111111111,\"#46039f\"],[0.2222222222222222,\"#7201a8\"],[0.3333333333333333,\"#9c179e\"],[0.4444444444444444,\"#bd3786\"],[0.5555555555555556,\"#d8576b\"],[0.6666666666666666,\"#ed7953\"],[0.7777777777777778,\"#fb9f3a\"],[0.8888888888888888,\"#fdca26\"],[1.0,\"#f0f921\"]],\"diverging\":[[0,\"#8e0152\"],[0.1,\"#c51b7d\"],[0.2,\"#de77ae\"],[0.3,\"#f1b6da\"],[0.4,\"#fde0ef\"],[0.5,\"#f7f7f7\"],[0.6,\"#e6f5d0\"],[0.7,\"#b8e186\"],[0.8,\"#7fbc41\"],[0.9,\"#4d9221\"],[1,\"#276419\"]]},\"xaxis\":{\"gridcolor\":\"white\",\"linecolor\":\"white\",\"ticks\":\"\",\"title\":{\"standoff\":15},\"zerolinecolor\":\"white\",\"automargin\":true,\"zerolinewidth\":2},\"yaxis\":{\"gridcolor\":\"white\",\"linecolor\":\"white\",\"ticks\":\"\",\"title\":{\"standoff\":15},\"zerolinecolor\":\"white\",\"automargin\":true,\"zerolinewidth\":2},\"scene\":{\"xaxis\":{\"backgroundcolor\":\"#E5ECF6\",\"gridcolor\":\"white\",\"linecolor\":\"white\",\"showbackground\":true,\"ticks\":\"\",\"zerolinecolor\":\"white\",\"gridwidth\":2},\"yaxis\":{\"backgroundcolor\":\"#E5ECF6\",\"gridcolor\":\"white\",\"linecolor\":\"white\",\"showbackground\":true,\"ticks\":\"\",\"zerolinecolor\":\"white\",\"gridwidth\":2},\"zaxis\":{\"backgroundcolor\":\"#E5ECF6\",\"gridcolor\":\"white\",\"linecolor\":\"white\",\"showbackground\":true,\"ticks\":\"\",\"zerolinecolor\":\"white\",\"gridwidth\":2}},\"shapedefaults\":{\"line\":{\"color\":\"#2a3f5f\"}},\"annotationdefaults\":{\"arrowcolor\":\"#2a3f5f\",\"arrowhead\":0,\"arrowwidth\":1},\"geo\":{\"bgcolor\":\"white\",\"landcolor\":\"#E5ECF6\",\"subunitcolor\":\"white\",\"showland\":true,\"showlakes\":true,\"lakecolor\":\"white\"},\"title\":{\"x\":0.05},\"mapbox\":{\"style\":\"light\"}}},\"xaxis\":{\"anchor\":\"y\",\"domain\":[0.0,1.0],\"title\":{\"text\":\"0\"}},\"yaxis\":{\"anchor\":\"x\",\"domain\":[0.0,1.0],\"title\":{\"text\":\"1\"}},\"legend\":{\"tracegroupgap\":0},\"margin\":{\"t\":60}},                        {\"responsive\": true}                    ).then(function(){\n",
              "                            \n",
              "var gd = document.getElementById('d7bb53d4-37c2-4fad-a0cf-629ff5c29ba9');\n",
              "var x = new MutationObserver(function (mutations, observer) {{\n",
              "        var display = window.getComputedStyle(gd).display;\n",
              "        if (!display || display === 'none') {{\n",
              "            console.log([gd, 'removed!']);\n",
              "            Plotly.purge(gd);\n",
              "            observer.disconnect();\n",
              "        }}\n",
              "}});\n",
              "\n",
              "// Listen for the removal of the full notebook cells\n",
              "var notebookContainer = gd.closest('#notebook-container');\n",
              "if (notebookContainer) {{\n",
              "    x.observe(notebookContainer, {childList: true});\n",
              "}}\n",
              "\n",
              "// Listen for the clearing of the current output cell\n",
              "var outputEl = gd.closest('.output');\n",
              "if (outputEl) {{\n",
              "    x.observe(outputEl, {childList: true});\n",
              "}}\n",
              "\n",
              "                        })                };                            </script>        </div>\n",
              "</body>\n",
              "</html>"
            ]
          },
          "metadata": {}
        }
      ]
    },
    {
      "cell_type": "markdown",
      "source": [
        "### 1.3.3 Clustering"
      ],
      "metadata": {
        "tags": [],
        "cell_id": "00040-719e872a-f25c-422d-ac77-28a5cd88d28c",
        "deepnote_cell_type": "markdown",
        "deepnote_cell_height": 62,
        "id": "hw3IPpWp1mBf"
      }
    },
    {
      "cell_type": "markdown",
      "source": [
        "#### 1.3.3.1 Método del Codo [1 puntos]"
      ],
      "metadata": {
        "tags": [],
        "cell_id": "00041-8ddce401-e8d1-498d-bd79-e6d3f11d9174",
        "deepnote_cell_type": "markdown",
        "deepnote_cell_height": 54,
        "id": "lKN7DRaN1mBg"
      }
    },
    {
      "cell_type": "markdown",
      "source": [
        "Utilizando la clase creada para escalamiento, aplique el método del codo para visualizar cual es el número de clusters que mejor se ajustan a los datos. Realice esto utilizando el algoritmo K-means dentro de un pipeline para un $k \\in [1,20]$, donde k representa el número de clusters del k-means. Para la realización de esta sección y la próxima (1.3.3.2), considere los mismos pasos utilizados para el t-sne, pero permutando el algoritmo de reducción de dimensionalidad por k-means.\n",
        "\n",
        "A través del grafico obtenido, comente y justifique que valor de k escogería para realizar el k-means."
      ],
      "metadata": {
        "tags": [],
        "cell_id": "00042-b4254feb-88f4-4a6c-8556-e11b1b5911d0",
        "deepnote_cell_type": "markdown",
        "deepnote_cell_height": 156.3125,
        "id": "Ju5E1txs1mBg"
      }
    },
    {
      "cell_type": "markdown",
      "source": [
        "**Respuesta:**"
      ],
      "metadata": {
        "tags": [],
        "cell_id": "00035-bbbef3bf-d15b-48e5-a4bb-cd9234b57e0f",
        "deepnote_cell_type": "markdown",
        "deepnote_cell_height": 52.390625,
        "id": "gXp5aruj1mBh"
      }
    },
    {
      "cell_type": "code",
      "source": [
        "inercia = []\n",
        "num_clusters = []\n",
        "for i in range(2, 20):\n",
        "    kmeans = KMeans(n_clusters = i, random_state = 0)\n",
        "    kmeans.fit(proy_LRMFP)\n",
        "    num_clusters.append(i)\n",
        "    inercia.append(kmeans.inertia_)\n",
        "\n",
        "inercia = pd.DataFrame(list(zip(num_clusters,inercia)), columns=[\"numero de clusters\", \"inercia\"])\n",
        "\n",
        "#graficamos el metodo del codo\n",
        "px.line(inercia, x=\"numero de clusters\", y=\"inercia\", title=\"Método del Codo con K-Means\")"
      ],
      "metadata": {
        "colab": {
          "base_uri": "https://localhost:8080/",
          "height": 542
        },
        "id": "hZAVwxRFuBjs",
        "outputId": "64569705-dab5-46b7-91ae-fcde8005b953"
      },
      "execution_count": 95,
      "outputs": [
        {
          "output_type": "display_data",
          "data": {
            "text/html": [
              "<html>\n",
              "<head><meta charset=\"utf-8\" /></head>\n",
              "<body>\n",
              "    <div>            <script src=\"https://cdnjs.cloudflare.com/ajax/libs/mathjax/2.7.5/MathJax.js?config=TeX-AMS-MML_SVG\"></script><script type=\"text/javascript\">if (window.MathJax && window.MathJax.Hub && && window.MathJax.Hub.Config) {window.MathJax.Hub.Config({SVG: {font: \"STIX-Web\"}});}</script>                <script type=\"text/javascript\">window.PlotlyConfig = {MathJaxConfig: 'local'};</script>\n",
              "        <script src=\"https://cdn.plot.ly/plotly-2.12.1.min.js\"></script>                <div id=\"f4719271-108a-4895-8ecb-a35094eff581\" class=\"plotly-graph-div\" style=\"height:525px; width:100%;\"></div>            <script type=\"text/javascript\">                                    window.PLOTLYENV=window.PLOTLYENV || {};                                    if (document.getElementById(\"f4719271-108a-4895-8ecb-a35094eff581\")) {                    Plotly.newPlot(                        \"f4719271-108a-4895-8ecb-a35094eff581\",                        [{\"hovertemplate\":\"numero de clusters=%{x}<br>inercia=%{y}<extra></extra>\",\"legendgroup\":\"\",\"line\":{\"color\":\"#636efa\",\"dash\":\"solid\"},\"marker\":{\"symbol\":\"circle\"},\"mode\":\"lines\",\"name\":\"\",\"orientation\":\"v\",\"showlegend\":false,\"x\":[2,3,4,5,6,7,8,9,10,11,12,13,14,15,16,17,18,19],\"xaxis\":\"x\",\"y\":[1965456.5,1140841.25,677149.875,495326.03125,390598.0,326905.4375,274273.28125,237522.5,206339.34375,188005.28125,174521.78125,163067.703125,150822.90625,140313.59375,131164.96875,123449.9921875,114744.125,108106.265625],\"yaxis\":\"y\",\"type\":\"scatter\"}],                        {\"template\":{\"data\":{\"histogram2dcontour\":[{\"type\":\"histogram2dcontour\",\"colorbar\":{\"outlinewidth\":0,\"ticks\":\"\"},\"colorscale\":[[0.0,\"#0d0887\"],[0.1111111111111111,\"#46039f\"],[0.2222222222222222,\"#7201a8\"],[0.3333333333333333,\"#9c179e\"],[0.4444444444444444,\"#bd3786\"],[0.5555555555555556,\"#d8576b\"],[0.6666666666666666,\"#ed7953\"],[0.7777777777777778,\"#fb9f3a\"],[0.8888888888888888,\"#fdca26\"],[1.0,\"#f0f921\"]]}],\"choropleth\":[{\"type\":\"choropleth\",\"colorbar\":{\"outlinewidth\":0,\"ticks\":\"\"}}],\"histogram2d\":[{\"type\":\"histogram2d\",\"colorbar\":{\"outlinewidth\":0,\"ticks\":\"\"},\"colorscale\":[[0.0,\"#0d0887\"],[0.1111111111111111,\"#46039f\"],[0.2222222222222222,\"#7201a8\"],[0.3333333333333333,\"#9c179e\"],[0.4444444444444444,\"#bd3786\"],[0.5555555555555556,\"#d8576b\"],[0.6666666666666666,\"#ed7953\"],[0.7777777777777778,\"#fb9f3a\"],[0.8888888888888888,\"#fdca26\"],[1.0,\"#f0f921\"]]}],\"heatmap\":[{\"type\":\"heatmap\",\"colorbar\":{\"outlinewidth\":0,\"ticks\":\"\"},\"colorscale\":[[0.0,\"#0d0887\"],[0.1111111111111111,\"#46039f\"],[0.2222222222222222,\"#7201a8\"],[0.3333333333333333,\"#9c179e\"],[0.4444444444444444,\"#bd3786\"],[0.5555555555555556,\"#d8576b\"],[0.6666666666666666,\"#ed7953\"],[0.7777777777777778,\"#fb9f3a\"],[0.8888888888888888,\"#fdca26\"],[1.0,\"#f0f921\"]]}],\"heatmapgl\":[{\"type\":\"heatmapgl\",\"colorbar\":{\"outlinewidth\":0,\"ticks\":\"\"},\"colorscale\":[[0.0,\"#0d0887\"],[0.1111111111111111,\"#46039f\"],[0.2222222222222222,\"#7201a8\"],[0.3333333333333333,\"#9c179e\"],[0.4444444444444444,\"#bd3786\"],[0.5555555555555556,\"#d8576b\"],[0.6666666666666666,\"#ed7953\"],[0.7777777777777778,\"#fb9f3a\"],[0.8888888888888888,\"#fdca26\"],[1.0,\"#f0f921\"]]}],\"contourcarpet\":[{\"type\":\"contourcarpet\",\"colorbar\":{\"outlinewidth\":0,\"ticks\":\"\"}}],\"contour\":[{\"type\":\"contour\",\"colorbar\":{\"outlinewidth\":0,\"ticks\":\"\"},\"colorscale\":[[0.0,\"#0d0887\"],[0.1111111111111111,\"#46039f\"],[0.2222222222222222,\"#7201a8\"],[0.3333333333333333,\"#9c179e\"],[0.4444444444444444,\"#bd3786\"],[0.5555555555555556,\"#d8576b\"],[0.6666666666666666,\"#ed7953\"],[0.7777777777777778,\"#fb9f3a\"],[0.8888888888888888,\"#fdca26\"],[1.0,\"#f0f921\"]]}],\"surface\":[{\"type\":\"surface\",\"colorbar\":{\"outlinewidth\":0,\"ticks\":\"\"},\"colorscale\":[[0.0,\"#0d0887\"],[0.1111111111111111,\"#46039f\"],[0.2222222222222222,\"#7201a8\"],[0.3333333333333333,\"#9c179e\"],[0.4444444444444444,\"#bd3786\"],[0.5555555555555556,\"#d8576b\"],[0.6666666666666666,\"#ed7953\"],[0.7777777777777778,\"#fb9f3a\"],[0.8888888888888888,\"#fdca26\"],[1.0,\"#f0f921\"]]}],\"mesh3d\":[{\"type\":\"mesh3d\",\"colorbar\":{\"outlinewidth\":0,\"ticks\":\"\"}}],\"scatter\":[{\"fillpattern\":{\"fillmode\":\"overlay\",\"size\":10,\"solidity\":0.2},\"type\":\"scatter\"}],\"parcoords\":[{\"type\":\"parcoords\",\"line\":{\"colorbar\":{\"outlinewidth\":0,\"ticks\":\"\"}}}],\"scatterpolargl\":[{\"type\":\"scatterpolargl\",\"marker\":{\"colorbar\":{\"outlinewidth\":0,\"ticks\":\"\"}}}],\"bar\":[{\"error_x\":{\"color\":\"#2a3f5f\"},\"error_y\":{\"color\":\"#2a3f5f\"},\"marker\":{\"line\":{\"color\":\"#E5ECF6\",\"width\":0.5},\"pattern\":{\"fillmode\":\"overlay\",\"size\":10,\"solidity\":0.2}},\"type\":\"bar\"}],\"scattergeo\":[{\"type\":\"scattergeo\",\"marker\":{\"colorbar\":{\"outlinewidth\":0,\"ticks\":\"\"}}}],\"scatterpolar\":[{\"type\":\"scatterpolar\",\"marker\":{\"colorbar\":{\"outlinewidth\":0,\"ticks\":\"\"}}}],\"histogram\":[{\"marker\":{\"pattern\":{\"fillmode\":\"overlay\",\"size\":10,\"solidity\":0.2}},\"type\":\"histogram\"}],\"scattergl\":[{\"type\":\"scattergl\",\"marker\":{\"colorbar\":{\"outlinewidth\":0,\"ticks\":\"\"}}}],\"scatter3d\":[{\"type\":\"scatter3d\",\"line\":{\"colorbar\":{\"outlinewidth\":0,\"ticks\":\"\"}},\"marker\":{\"colorbar\":{\"outlinewidth\":0,\"ticks\":\"\"}}}],\"scattermapbox\":[{\"type\":\"scattermapbox\",\"marker\":{\"colorbar\":{\"outlinewidth\":0,\"ticks\":\"\"}}}],\"scatterternary\":[{\"type\":\"scatterternary\",\"marker\":{\"colorbar\":{\"outlinewidth\":0,\"ticks\":\"\"}}}],\"scattercarpet\":[{\"type\":\"scattercarpet\",\"marker\":{\"colorbar\":{\"outlinewidth\":0,\"ticks\":\"\"}}}],\"carpet\":[{\"aaxis\":{\"endlinecolor\":\"#2a3f5f\",\"gridcolor\":\"white\",\"linecolor\":\"white\",\"minorgridcolor\":\"white\",\"startlinecolor\":\"#2a3f5f\"},\"baxis\":{\"endlinecolor\":\"#2a3f5f\",\"gridcolor\":\"white\",\"linecolor\":\"white\",\"minorgridcolor\":\"white\",\"startlinecolor\":\"#2a3f5f\"},\"type\":\"carpet\"}],\"table\":[{\"cells\":{\"fill\":{\"color\":\"#EBF0F8\"},\"line\":{\"color\":\"white\"}},\"header\":{\"fill\":{\"color\":\"#C8D4E3\"},\"line\":{\"color\":\"white\"}},\"type\":\"table\"}],\"barpolar\":[{\"marker\":{\"line\":{\"color\":\"#E5ECF6\",\"width\":0.5},\"pattern\":{\"fillmode\":\"overlay\",\"size\":10,\"solidity\":0.2}},\"type\":\"barpolar\"}],\"pie\":[{\"automargin\":true,\"type\":\"pie\"}]},\"layout\":{\"autotypenumbers\":\"strict\",\"colorway\":[\"#636efa\",\"#EF553B\",\"#00cc96\",\"#ab63fa\",\"#FFA15A\",\"#19d3f3\",\"#FF6692\",\"#B6E880\",\"#FF97FF\",\"#FECB52\"],\"font\":{\"color\":\"#2a3f5f\"},\"hovermode\":\"closest\",\"hoverlabel\":{\"align\":\"left\"},\"paper_bgcolor\":\"white\",\"plot_bgcolor\":\"#E5ECF6\",\"polar\":{\"bgcolor\":\"#E5ECF6\",\"angularaxis\":{\"gridcolor\":\"white\",\"linecolor\":\"white\",\"ticks\":\"\"},\"radialaxis\":{\"gridcolor\":\"white\",\"linecolor\":\"white\",\"ticks\":\"\"}},\"ternary\":{\"bgcolor\":\"#E5ECF6\",\"aaxis\":{\"gridcolor\":\"white\",\"linecolor\":\"white\",\"ticks\":\"\"},\"baxis\":{\"gridcolor\":\"white\",\"linecolor\":\"white\",\"ticks\":\"\"},\"caxis\":{\"gridcolor\":\"white\",\"linecolor\":\"white\",\"ticks\":\"\"}},\"coloraxis\":{\"colorbar\":{\"outlinewidth\":0,\"ticks\":\"\"}},\"colorscale\":{\"sequential\":[[0.0,\"#0d0887\"],[0.1111111111111111,\"#46039f\"],[0.2222222222222222,\"#7201a8\"],[0.3333333333333333,\"#9c179e\"],[0.4444444444444444,\"#bd3786\"],[0.5555555555555556,\"#d8576b\"],[0.6666666666666666,\"#ed7953\"],[0.7777777777777778,\"#fb9f3a\"],[0.8888888888888888,\"#fdca26\"],[1.0,\"#f0f921\"]],\"sequentialminus\":[[0.0,\"#0d0887\"],[0.1111111111111111,\"#46039f\"],[0.2222222222222222,\"#7201a8\"],[0.3333333333333333,\"#9c179e\"],[0.4444444444444444,\"#bd3786\"],[0.5555555555555556,\"#d8576b\"],[0.6666666666666666,\"#ed7953\"],[0.7777777777777778,\"#fb9f3a\"],[0.8888888888888888,\"#fdca26\"],[1.0,\"#f0f921\"]],\"diverging\":[[0,\"#8e0152\"],[0.1,\"#c51b7d\"],[0.2,\"#de77ae\"],[0.3,\"#f1b6da\"],[0.4,\"#fde0ef\"],[0.5,\"#f7f7f7\"],[0.6,\"#e6f5d0\"],[0.7,\"#b8e186\"],[0.8,\"#7fbc41\"],[0.9,\"#4d9221\"],[1,\"#276419\"]]},\"xaxis\":{\"gridcolor\":\"white\",\"linecolor\":\"white\",\"ticks\":\"\",\"title\":{\"standoff\":15},\"zerolinecolor\":\"white\",\"automargin\":true,\"zerolinewidth\":2},\"yaxis\":{\"gridcolor\":\"white\",\"linecolor\":\"white\",\"ticks\":\"\",\"title\":{\"standoff\":15},\"zerolinecolor\":\"white\",\"automargin\":true,\"zerolinewidth\":2},\"scene\":{\"xaxis\":{\"backgroundcolor\":\"#E5ECF6\",\"gridcolor\":\"white\",\"linecolor\":\"white\",\"showbackground\":true,\"ticks\":\"\",\"zerolinecolor\":\"white\",\"gridwidth\":2},\"yaxis\":{\"backgroundcolor\":\"#E5ECF6\",\"gridcolor\":\"white\",\"linecolor\":\"white\",\"showbackground\":true,\"ticks\":\"\",\"zerolinecolor\":\"white\",\"gridwidth\":2},\"zaxis\":{\"backgroundcolor\":\"#E5ECF6\",\"gridcolor\":\"white\",\"linecolor\":\"white\",\"showbackground\":true,\"ticks\":\"\",\"zerolinecolor\":\"white\",\"gridwidth\":2}},\"shapedefaults\":{\"line\":{\"color\":\"#2a3f5f\"}},\"annotationdefaults\":{\"arrowcolor\":\"#2a3f5f\",\"arrowhead\":0,\"arrowwidth\":1},\"geo\":{\"bgcolor\":\"white\",\"landcolor\":\"#E5ECF6\",\"subunitcolor\":\"white\",\"showland\":true,\"showlakes\":true,\"lakecolor\":\"white\"},\"title\":{\"x\":0.05},\"mapbox\":{\"style\":\"light\"}}},\"xaxis\":{\"anchor\":\"y\",\"domain\":[0.0,1.0],\"title\":{\"text\":\"numero de clusters\"}},\"yaxis\":{\"anchor\":\"x\",\"domain\":[0.0,1.0],\"title\":{\"text\":\"inercia\"}},\"legend\":{\"tracegroupgap\":0},\"title\":{\"text\":\"M\\u00e9todo del Codo con K-Means\"}},                        {\"responsive\": true}                    ).then(function(){\n",
              "                            \n",
              "var gd = document.getElementById('f4719271-108a-4895-8ecb-a35094eff581');\n",
              "var x = new MutationObserver(function (mutations, observer) {{\n",
              "        var display = window.getComputedStyle(gd).display;\n",
              "        if (!display || display === 'none') {{\n",
              "            console.log([gd, 'removed!']);\n",
              "            Plotly.purge(gd);\n",
              "            observer.disconnect();\n",
              "        }}\n",
              "}});\n",
              "\n",
              "// Listen for the removal of the full notebook cells\n",
              "var notebookContainer = gd.closest('#notebook-container');\n",
              "if (notebookContainer) {{\n",
              "    x.observe(notebookContainer, {childList: true});\n",
              "}}\n",
              "\n",
              "// Listen for the clearing of the current output cell\n",
              "var outputEl = gd.closest('.output');\n",
              "if (outputEl) {{\n",
              "    x.observe(outputEl, {childList: true});\n",
              "}}\n",
              "\n",
              "                        })                };                            </script>        </div>\n",
              "</body>\n",
              "</html>"
            ]
          },
          "metadata": {}
        }
      ]
    },
    {
      "cell_type": "markdown",
      "source": [
        "El método del codo calcula la suma de errores cuadráticos dentro del clúster para diferentes valores de K. Posteriormente se elige el K para la cual la suma de errores cuadráticos comienza a disminuir.\n",
        "\n",
        "Observamos que la disminución del error cuadrático medio, a partir de los 5 clusters, cae manera pronunciada y posteriormente comienza a decaer con una pendiente más cercana a 0."
      ],
      "metadata": {
        "id": "HVryXCGizMb5"
      }
    },
    {
      "cell_type": "markdown",
      "source": [
        "#### 1.3.3.2 Segmentación de Clientes con K-Means 🎁 [1 punto]"
      ],
      "metadata": {
        "tags": [],
        "cell_id": "00044-df589bc4-557f-423c-9487-748b15b95e60",
        "deepnote_cell_type": "markdown",
        "deepnote_cell_height": 54,
        "id": "Wgr1H3JG1mBi"
      }
    },
    {
      "cell_type": "markdown",
      "source": [
        "En base a la elección de k realizada en la sección anterior, utilice este valor escogido y entrene un modelo de K-means utilizando el mismo pipeline de scikit-learn utilizado anteriormente.\n",
        "\n",
        "Una vez ajustado los datos, genere una tabla con los promedios (o medianas) para cada uno de los atributos, agrupando estos por el clúster que pertenecen. ¿Es posible observar agrupaciones coherentes?, ¿Qué tipo de clientes posee el retail?, Justifique su respuesta y no decepcione a Mr. Lepin.\n"
      ],
      "metadata": {
        "tags": [],
        "cell_id": "00045-eb892d43-2d7d-49a0-8002-164dcb56e1e1",
        "deepnote_cell_type": "markdown",
        "deepnote_cell_height": 156,
        "id": "2lZslEu11mBj"
      }
    },
    {
      "cell_type": "markdown",
      "source": [
        "**Respuesta:**"
      ],
      "metadata": {
        "tags": [],
        "cell_id": "00046-e66d7746-b52e-4c05-b1b4-b89934c4c92c",
        "deepnote_cell_type": "markdown",
        "deepnote_cell_height": 52.390625,
        "id": "-vJVoMCB1mBj"
      }
    },
    {
      "cell_type": "code",
      "metadata": {
        "tags": [],
        "cell_id": "00047-48846aeb-9c0c-454e-b45c-dac210f5a007",
        "deepnote_cell_type": "code",
        "deepnote_cell_height": 66,
        "colab": {
          "base_uri": "https://localhost:8080/",
          "height": 237
        },
        "id": "vqelUinV1mBk",
        "outputId": "26dd9905-5e41-4192-c5cc-334c07f658fd"
      },
      "source": [
        "kmeans = KMeans(n_clusters=5, random_state=0)\n",
        "kmeans.fit(proy_LRMFP)\n",
        "df_lrmfp['Cluster'] = kmeans.labels_\n",
        "df_LRMFP= pd.DataFrame(proy_LRMFP)\n",
        "df_LRMFP['Cluster'] = kmeans.labels_\n",
        "\n",
        "#se crea una tabla con los promedios para cada uno de los atributos, agrupando estos por el clúster que pertenecen\n",
        "df_lrmfp = df_lrmfp.groupby('Cluster').mean()\n",
        "df_lrmfp"
      ],
      "execution_count": 93,
      "outputs": [
        {
          "output_type": "execute_result",
          "data": {
            "text/plain": [
              "          Customer ID      Length     Recency  Frequency    Monetary  \\\n",
              "Cluster                                                                \n",
              "0        16966.062738  310.942966  151.410646  10.167300  395.393532   \n",
              "1        13709.535047  200.934579   97.815421   5.453271  444.997175   \n",
              "2        14072.755056  330.633708  166.321348  12.588764  454.390868   \n",
              "3        16279.605201  127.669031   65.460993   4.796690  332.168706   \n",
              "4        15394.992337  158.969349   82.827586   3.298851  361.932596   \n",
              "\n",
              "         Periodicity  \n",
              "Cluster               \n",
              "0           0.438178  \n",
              "1           0.461549  \n",
              "2           0.431349  \n",
              "3           0.483502  \n",
              "4           0.047064  "
            ],
            "text/html": [
              "\n",
              "  <div id=\"df-5b5040ef-1355-48e5-89d2-94e12e60638c\">\n",
              "    <div class=\"colab-df-container\">\n",
              "      <div>\n",
              "<style scoped>\n",
              "    .dataframe tbody tr th:only-of-type {\n",
              "        vertical-align: middle;\n",
              "    }\n",
              "\n",
              "    .dataframe tbody tr th {\n",
              "        vertical-align: top;\n",
              "    }\n",
              "\n",
              "    .dataframe thead th {\n",
              "        text-align: right;\n",
              "    }\n",
              "</style>\n",
              "<table border=\"1\" class=\"dataframe\">\n",
              "  <thead>\n",
              "    <tr style=\"text-align: right;\">\n",
              "      <th></th>\n",
              "      <th>Customer ID</th>\n",
              "      <th>Length</th>\n",
              "      <th>Recency</th>\n",
              "      <th>Frequency</th>\n",
              "      <th>Monetary</th>\n",
              "      <th>Periodicity</th>\n",
              "    </tr>\n",
              "    <tr>\n",
              "      <th>Cluster</th>\n",
              "      <th></th>\n",
              "      <th></th>\n",
              "      <th></th>\n",
              "      <th></th>\n",
              "      <th></th>\n",
              "      <th></th>\n",
              "    </tr>\n",
              "  </thead>\n",
              "  <tbody>\n",
              "    <tr>\n",
              "      <th>0</th>\n",
              "      <td>16966.062738</td>\n",
              "      <td>310.942966</td>\n",
              "      <td>151.410646</td>\n",
              "      <td>10.167300</td>\n",
              "      <td>395.393532</td>\n",
              "      <td>0.438178</td>\n",
              "    </tr>\n",
              "    <tr>\n",
              "      <th>1</th>\n",
              "      <td>13709.535047</td>\n",
              "      <td>200.934579</td>\n",
              "      <td>97.815421</td>\n",
              "      <td>5.453271</td>\n",
              "      <td>444.997175</td>\n",
              "      <td>0.461549</td>\n",
              "    </tr>\n",
              "    <tr>\n",
              "      <th>2</th>\n",
              "      <td>14072.755056</td>\n",
              "      <td>330.633708</td>\n",
              "      <td>166.321348</td>\n",
              "      <td>12.588764</td>\n",
              "      <td>454.390868</td>\n",
              "      <td>0.431349</td>\n",
              "    </tr>\n",
              "    <tr>\n",
              "      <th>3</th>\n",
              "      <td>16279.605201</td>\n",
              "      <td>127.669031</td>\n",
              "      <td>65.460993</td>\n",
              "      <td>4.796690</td>\n",
              "      <td>332.168706</td>\n",
              "      <td>0.483502</td>\n",
              "    </tr>\n",
              "    <tr>\n",
              "      <th>4</th>\n",
              "      <td>15394.992337</td>\n",
              "      <td>158.969349</td>\n",
              "      <td>82.827586</td>\n",
              "      <td>3.298851</td>\n",
              "      <td>361.932596</td>\n",
              "      <td>0.047064</td>\n",
              "    </tr>\n",
              "  </tbody>\n",
              "</table>\n",
              "</div>\n",
              "      <button class=\"colab-df-convert\" onclick=\"convertToInteractive('df-5b5040ef-1355-48e5-89d2-94e12e60638c')\"\n",
              "              title=\"Convert this dataframe to an interactive table.\"\n",
              "              style=\"display:none;\">\n",
              "        \n",
              "  <svg xmlns=\"http://www.w3.org/2000/svg\" height=\"24px\"viewBox=\"0 0 24 24\"\n",
              "       width=\"24px\">\n",
              "    <path d=\"M0 0h24v24H0V0z\" fill=\"none\"/>\n",
              "    <path d=\"M18.56 5.44l.94 2.06.94-2.06 2.06-.94-2.06-.94-.94-2.06-.94 2.06-2.06.94zm-11 1L8.5 8.5l.94-2.06 2.06-.94-2.06-.94L8.5 2.5l-.94 2.06-2.06.94zm10 10l.94 2.06.94-2.06 2.06-.94-2.06-.94-.94-2.06-.94 2.06-2.06.94z\"/><path d=\"M17.41 7.96l-1.37-1.37c-.4-.4-.92-.59-1.43-.59-.52 0-1.04.2-1.43.59L10.3 9.45l-7.72 7.72c-.78.78-.78 2.05 0 2.83L4 21.41c.39.39.9.59 1.41.59.51 0 1.02-.2 1.41-.59l7.78-7.78 2.81-2.81c.8-.78.8-2.07 0-2.86zM5.41 20L4 18.59l7.72-7.72 1.47 1.35L5.41 20z\"/>\n",
              "  </svg>\n",
              "      </button>\n",
              "      \n",
              "  <style>\n",
              "    .colab-df-container {\n",
              "      display:flex;\n",
              "      flex-wrap:wrap;\n",
              "      gap: 12px;\n",
              "    }\n",
              "\n",
              "    .colab-df-convert {\n",
              "      background-color: #E8F0FE;\n",
              "      border: none;\n",
              "      border-radius: 50%;\n",
              "      cursor: pointer;\n",
              "      display: none;\n",
              "      fill: #1967D2;\n",
              "      height: 32px;\n",
              "      padding: 0 0 0 0;\n",
              "      width: 32px;\n",
              "    }\n",
              "\n",
              "    .colab-df-convert:hover {\n",
              "      background-color: #E2EBFA;\n",
              "      box-shadow: 0px 1px 2px rgba(60, 64, 67, 0.3), 0px 1px 3px 1px rgba(60, 64, 67, 0.15);\n",
              "      fill: #174EA6;\n",
              "    }\n",
              "\n",
              "    [theme=dark] .colab-df-convert {\n",
              "      background-color: #3B4455;\n",
              "      fill: #D2E3FC;\n",
              "    }\n",
              "\n",
              "    [theme=dark] .colab-df-convert:hover {\n",
              "      background-color: #434B5C;\n",
              "      box-shadow: 0px 1px 3px 1px rgba(0, 0, 0, 0.15);\n",
              "      filter: drop-shadow(0px 1px 2px rgba(0, 0, 0, 0.3));\n",
              "      fill: #FFFFFF;\n",
              "    }\n",
              "  </style>\n",
              "\n",
              "      <script>\n",
              "        const buttonEl =\n",
              "          document.querySelector('#df-5b5040ef-1355-48e5-89d2-94e12e60638c button.colab-df-convert');\n",
              "        buttonEl.style.display =\n",
              "          google.colab.kernel.accessAllowed ? 'block' : 'none';\n",
              "\n",
              "        async function convertToInteractive(key) {\n",
              "          const element = document.querySelector('#df-5b5040ef-1355-48e5-89d2-94e12e60638c');\n",
              "          const dataTable =\n",
              "            await google.colab.kernel.invokeFunction('convertToInteractive',\n",
              "                                                     [key], {});\n",
              "          if (!dataTable) return;\n",
              "\n",
              "          const docLinkHtml = 'Like what you see? Visit the ' +\n",
              "            '<a target=\"_blank\" href=https://colab.research.google.com/notebooks/data_table.ipynb>data table notebook</a>'\n",
              "            + ' to learn more about interactive tables.';\n",
              "          element.innerHTML = '';\n",
              "          dataTable['output_type'] = 'display_data';\n",
              "          await google.colab.output.renderOutput(dataTable, element);\n",
              "          const docLink = document.createElement('div');\n",
              "          docLink.innerHTML = docLinkHtml;\n",
              "          element.appendChild(docLink);\n",
              "        }\n",
              "      </script>\n",
              "    </div>\n",
              "  </div>\n",
              "  "
            ]
          },
          "metadata": {},
          "execution_count": 93
        }
      ]
    },
    {
      "cell_type": "markdown",
      "source": [
        "**Respuesta** ¿Es posible observar agrupaciones coherentes?, ¿Qué tipo de clientes posee el retail?:\n",
        "\n",
        "Dados los resultados de clustering y el promedio para las métricas de LRFMP se pueden observar agrupaciones coherentes. A continuación se mencionan ciertas características de cada grupo de clientes, teniendo en cuenta que siempre son con respecto al resto de clusters.\n",
        "\n",
        "\n",
        "* El **cluster 0** corresponde a clientes muy fieles a Mr. Lepin, con un alto Lenght y Frecuency, sólo superados por el grupo número 2. En cuanto a su gasto (Monetary) se ve que se encuentran justo en la mitad, sin gastar mucho ni poco. \n",
        "-El **cluster 1** se podría decir que son clientes promedio, pero que destacan en ser de los grupos de clientes que más gastan en promedio, sólo superados por el cluster 2.\n",
        "-El **cluster 2** que posee los clientes más fieles con diferencia ya que es el grupo con mayor Length (antiguedad), además de ser los que más gastan en promedio (alto Monetary) y los que visitan la tienda más seguido (Frequency). Los clientes top de Mr. Lepin.\n",
        "-El **cluster 3** son clientes poco fieles, reflejados en ser los con menor Lenght y la segunda menor Frecuency de todos. Son los clientes más nuevos, los que menos gastan y en periodos más separados de tiempo. Por los que Mr. Lepin debería cautivarlos con algún tipo de campaña personalizada.\n",
        "-El **cluster 4** corresponde a clientes muy poco fieles, relativamente recientes y con aún menor frecuencia de visitas que el grupo anterior. De todas formas tienen la particularidad de ser los que visitan la tienda más seguido pese a tener poca cantidad de visitas totales. Esto puede ser debido a que buscan algun producto en particular probablemente. Habría que poner ojo con Mr. Lepin a cómo enganchar a estos clientes, aprovechando que visitan la tienda regularmente, para que gasten más y la visiten más veces al día. \n"
      ],
      "metadata": {
        "id": "V00MnkUF5tbp"
      }
    },
    {
      "cell_type": "markdown",
      "source": [
        "**Respuesta Esperada:**\n",
        "\n",
        "|         | Length  | Recency   | Frequency | Monetary | Periodicity |       |\n",
        "|---------|---------|-----------|----------|-------------|-------|-------|\n",
        "| Cluster |         |           |          |             |       |       |\n",
        "|    0    |   258.8 |      45.2 |     76.1 |      1107.7 | 107.6 |   449 |\n",
        "|    1    |    76.1 |     217.6 |     45.5 |       791.7 |  14.1 |   466 |\n",
        "|    2    |   368.5 |       4.8 |   2715.0 |    226621.6 |   4.2 |     4 |\n",
        "|    3    |    85.3 |      45.7 |     65.8 |      1047.0 |  10.5 |   987 |\n",
        "|    4    |   347.2 |      15.9 |   1658.0 |     35829.3 |   8.0 |    25 |\n",
        "|    5    |   298.0 |      29.8 |    183.8 |      3639.9 |  32.0 |  1188 |"
      ],
      "metadata": {
        "tags": [],
        "cell_id": "00053-4802e3b0-f4e2-4235-909a-43e607f46997",
        "deepnote_cell_type": "markdown",
        "deepnote_cell_height": 261.59375,
        "id": "Od_5XImP1mBk"
      }
    },
    {
      "cell_type": "markdown",
      "source": [
        "#### 1.3.3.3 Plot de K-Means 📈 [0.5 puntos]\n",
        "\n"
      ],
      "metadata": {
        "tags": [],
        "cell_id": "00042-95fcbe7f-ad2e-4116-92da-49ae755a4311",
        "deepnote_cell_type": "markdown",
        "deepnote_cell_height": 54,
        "id": "e6xlusOY1mBk"
      }
    },
    {
      "cell_type": "markdown",
      "source": [
        "Por último, Mr. Lepin, impaciente de no entender lo que usted intenta explicarle, le solicita que por favor muestre algún resultado \"visual\" de los grupos encontrados.\n",
        "\n",
        "Para esto, grafique nuevamente las características encontradas usando `T-SNE` (no calcule de nuevo, simplemente utilice las proyecciones encontradas) y agregue las labels calculadas con kmeans como el argumento `color`.   \n",
        "\n",
        "Comente: ¿Se separan bien los distintos clusters en la visualización?\n"
      ],
      "metadata": {
        "tags": [],
        "cell_id": "00043-33a035f7-7aaf-4aad-98a2-0c4295fa136f",
        "deepnote_cell_type": "markdown",
        "deepnote_cell_height": 170,
        "id": "eMTNIEh_1mBk"
      }
    },
    {
      "cell_type": "markdown",
      "source": [
        "**Respuesta:**"
      ],
      "metadata": {
        "tags": [],
        "cell_id": "00044-d04e1a07-81ac-4440-9cf0-65f9f8dd6a8c",
        "deepnote_cell_type": "markdown",
        "deepnote_cell_height": 52.390625,
        "id": "eg254ESW1mBl"
      }
    },
    {
      "cell_type": "code",
      "metadata": {
        "tags": [],
        "cell_id": "00043-f95cb727-b787-474b-845d-b3d85199bea9",
        "deepnote_cell_type": "code",
        "deepnote_cell_height": 66,
        "id": "TF-E68jI1mBm",
        "colab": {
          "base_uri": "https://localhost:8080/",
          "height": 542
        },
        "outputId": "609b7427-1f9b-4dd7-ab06-6e6e02216f14"
      },
      "source": [
        "fig = px.scatter(df_LRMFP, x=0, y=1, color= 'Cluster' )\n",
        "fig.show()"
      ],
      "execution_count": 94,
      "outputs": [
        {
          "output_type": "display_data",
          "data": {
            "text/html": [
              "<html>\n",
              "<head><meta charset=\"utf-8\" /></head>\n",
              "<body>\n",
              "    <div>            <script src=\"https://cdnjs.cloudflare.com/ajax/libs/mathjax/2.7.5/MathJax.js?config=TeX-AMS-MML_SVG\"></script><script type=\"text/javascript\">if (window.MathJax && window.MathJax.Hub && && window.MathJax.Hub.Config) {window.MathJax.Hub.Config({SVG: {font: \"STIX-Web\"}});}</script>                <script type=\"text/javascript\">window.PlotlyConfig = {MathJaxConfig: 'local'};</script>\n",
              "        <script src=\"https://cdn.plot.ly/plotly-2.12.1.min.js\"></script>                <div id=\"d67a18fd-0ab7-4688-a080-95d31c9d698e\" class=\"plotly-graph-div\" style=\"height:525px; width:100%;\"></div>            <script type=\"text/javascript\">                                    window.PLOTLYENV=window.PLOTLYENV || {};                                    if (document.getElementById(\"d67a18fd-0ab7-4688-a080-95d31c9d698e\")) {                    Plotly.newPlot(                        \"d67a18fd-0ab7-4688-a080-95d31c9d698e\",                        [{\"hovertemplate\":\"0=%{x}<br>1=%{y}<br>Cluster=%{marker.color}<extra></extra>\",\"legendgroup\":\"\",\"marker\":{\"color\":[1,4,1,2,2,1,1,1,4,1,1,1,1,4,4,1,1,2,1,1,4,4,1,2,4,2,1,2,1,2,2,1,4,4,2,1,2,2,1,1,1,1,1,1,2,1,2,4,2,1,2,1,1,1,2,2,1,2,1,4,4,2,2,2,4,1,4,1,1,1,2,1,2,2,1,2,2,1,1,1,1,1,1,2,1,2,1,1,1,2,1,2,2,2,2,1,4,1,1,1,2,2,2,2,1,1,1,1,1,1,2,1,1,2,2,1,2,2,2,1,4,1,2,1,1,2,4,1,1,1,1,4,2,1,2,2,2,1,2,1,1,2,1,1,1,1,1,1,2,4,1,2,4,1,1,1,4,1,1,2,1,1,2,1,2,2,2,1,2,1,2,1,1,2,2,2,1,1,4,1,2,2,4,1,1,1,2,2,1,1,1,2,1,1,1,1,2,2,4,2,1,1,2,2,2,2,1,1,2,1,1,1,1,2,1,2,1,4,1,1,1,1,1,2,2,1,2,1,1,2,1,1,2,2,1,1,1,1,2,2,1,1,1,1,1,2,1,4,2,4,2,4,1,4,1,2,1,2,2,2,2,1,4,1,1,4,2,1,2,2,2,4,1,2,1,1,1,2,1,1,1,1,1,1,2,2,1,2,2,2,1,4,1,1,4,1,1,4,2,4,1,1,1,1,1,1,2,2,1,2,2,4,1,4,1,1,1,1,1,2,2,2,1,1,2,1,1,1,1,1,2,2,1,1,2,1,2,4,2,1,1,1,4,1,3,1,1,2,1,1,2,1,2,1,1,2,1,1,1,1,2,2,2,2,2,2,1,1,2,1,2,2,1,2,1,1,1,4,2,1,1,1,2,2,1,2,2,1,1,4,2,1,2,2,1,1,4,2,2,1,1,1,4,2,4,2,2,1,1,1,2,1,1,2,1,1,4,2,1,2,1,2,4,2,1,2,1,2,1,3,2,1,2,4,2,2,4,1,1,3,1,2,1,1,1,1,1,1,2,4,1,2,2,2,2,1,4,2,2,4,1,1,4,2,2,1,1,1,2,3,1,4,4,1,2,1,1,1,2,1,2,4,1,1,3,1,2,2,1,2,1,1,2,2,1,1,2,4,1,1,1,2,2,2,4,1,1,2,4,1,2,2,1,1,2,2,1,4,2,1,1,1,1,2,2,2,1,1,2,2,4,2,2,1,2,3,1,2,1,1,2,1,2,1,2,2,2,1,4,2,2,4,1,2,2,1,4,1,2,1,1,4,2,2,2,4,2,2,1,2,2,1,2,2,1,4,2,2,1,4,3,4,1,2,2,1,2,1,2,2,1,4,2,1,2,1,2,1,2,3,1,2,2,2,2,4,1,2,1,1,2,2,4,2,3,2,1,4,4,1,2,1,1,1,2,1,2,3,1,4,2,1,2,2,2,2,1,1,1,1,1,4,3,3,1,1,1,2,1,1,2,1,2,2,4,4,1,1,2,2,4,1,4,2,2,1,2,2,2,2,4,2,2,2,1,1,4,4,2,2,1,2,2,2,4,1,1,2,4,3,1,2,2,2,2,2,1,1,2,2,1,2,2,1,3,2,1,2,2,2,1,3,1,2,2,3,2,2,2,2,2,1,1,2,2,2,2,3,2,4,1,1,2,4,3,2,1,2,4,3,2,4,2,1,3,3,1,2,2,2,1,1,2,4,2,2,2,2,2,4,1,3,2,3,3,2,2,4,3,4,2,4,1,1,3,2,2,3,2,2,2,2,2,3,1,1,1,1,2,2,2,4,3,1,2,3,2,2,2,2,1,1,1,4,2,2,3,4,1,2,2,4,1,3,1,3,1,3,4,4,1,2,4,2,2,2,4,1,2,4,1,2,3,3,2,2,1,1,3,4,2,2,2,1,1,2,1,3,2,4,2,2,3,4,3,1,1,1,2,2,2,1,2,3,4,1,2,2,1,2,1,1,4,2,4,1,2,2,3,2,3,2,4,1,3,2,1,2,2,2,2,3,2,1,1,2,1,3,2,1,1,3,3,3,1,2,2,1,1,2,4,3,2,3,3,2,2,2,3,2,2,1,1,2,1,2,1,1,4,3,2,3,1,4,2,2,2,1,4,2,3,2,2,2,4,2,1,2,2,4,2,2,2,2,0,3,2,1,2,3,3,1,4,3,4,3,3,3,4,0,4,4,3,3,0,1,1,2,1,1,3,4,3,4,4,2,2,2,1,4,2,3,1,2,2,1,3,4,1,3,2,4,1,4,1,2,4,1,2,3,2,4,0,3,0,3,1,4,3,2,3,3,0,0,1,2,1,2,4,3,3,3,2,2,1,3,1,3,2,3,3,1,3,3,2,4,3,0,3,3,1,1,0,1,3,1,3,0,3,0,2,3,4,0,3,1,3,3,2,2,0,2,3,4,0,1,0,3,2,3,3,2,2,2,3,3,2,0,2,3,0,1,1,0,2,1,3,3,2,0,2,0,0,2,3,3,4,2,2,0,2,3,0,2,4,1,1,2,4,3,3,3,0,0,4,3,3,3,4,3,0,0,2,3,3,2,3,2,3,3,2,3,0,4,3,2,1,0,2,4,3,3,2,0,3,3,3,3,0,0,3,3,2,0,3,3,0,4,3,3,2,3,2,3,3,0,2,0,0,0,0,3,3,0,3,1,0,0,4,3,3,2,4,4,0,0,3,3,4,3,0,0,0,2,4,3,3,0,2,3,0,0,3,4,2,0,0,0,0,3,2,4,0,3,4,0,4,0,0,3,3,0,3,0,4,3,2,3,0,3,2,0,3,0,3,4,0,0,4,0,0,0,3,4,3,0,0,0,3,3,3,3,3,2,0,3,3,0,0,3,3,4,0,3,0,0,3,0,0,0,0,3,3,3,3,4,3,3,3,3,3,3,3,3,3,3,3,4,3,3,0,0,0,0,3,3,0,0,3,3,0,0,3,3,3,0,4,3,4,0,0,3,3,3,0,0,3,4,4,3,0,0,3,3,0,3,0,0,0,0,0,0,4,3,3,3,3,3,3,4,0,0,0,0,0,0,0,4,3,0,0,4,0,3,3,0,3,3,3,3,0,4,3,3,4,0,0,4,0,0,3,4,0,3,3,4,0,3,3,0,3,3,4,0,3,0,3,4,3,0,0,0,0,3,3,3,3,0,4,3,0,3,0,0,3,4,0,0,4,3,3,3,0,3,0,4,3,0,0,0,3,3,0,3,0,4,0,3,0,4,0,0,3,3,3,3,3,0,0,3,0,0,0,4,3,0,3,3,0,3,4,3,0,4,3,0,0,3,0,0,3,3,4,3,3,3,3,0,0,0,0,4,0,0,0,0,3,3,0,0,4,3,0,0,0,0,0,3,0,0,4,0,4,3,3,0,3,3,3,3,0,0,0,0,0,3,0,0,3,0,0,0,0,0,0,0,0,0,0,0,0,0,0,0,0,0,0,4,0,0,0,0,3,0,0,0,0,0,4,0,4,3,4,4,0,3,4,0,0,0,0,0,0,0,0,0,0,3,3,4,3,3,0,3,0,3,3,0,3,0,0,0,4,0,0,0,3,3,3,3,3,0,0,0,3,4,0,4,0,3,3,0,4,3,0,3,3,0,3,0,3,0,4,0,0,4,0,4,0,0,0,0,0,0,4,0,0,0,3,0,3,3,0,0,0,0,0,4,0,3,3,0,0,0,0,3,0,4,4,3,0,0,3,3,0,0,3,0,0,0,0,3,0,3,0,3,0,0,0,0,0,3,4,0,0,0,3,0,0,0,3,4,3,0,3,3,4,3,0,3,4,0,0,0,4,0,3,0,0,0,0,0,0,0,4,3,0,3,0,3,0,0,0,4,4,3,4,0,0,0,0,3,3,0,0,3,0,3,0,0,4,0,0,0,4,3,0,0,0,0,0,3,0,0,0,4,0,0,0,3,0,3,0,0,0,4,3,0,0,3,0,0,0,0,3,0,0,0,4,3,0,3,0,3,0,0,0,4,0,0,0,3,3,3,0,0,3,4,0,0,0,0,0,0,0,0,3,0,3,3,0,3,0,0,3,0,3,0,1,0,0,0,0,0,3,0,3,0,3,0,0,0,3,0,0,4,3,3,0,4,4,3,0,0,4,4,0,4,0,0,3,0,3,3,3,0,0,0,0,4,3,3,4,0,0,0,0,4,0,3,0,0,0,3,3,3,0,0,0,0,3,3,4,0,3,0,4,0,0,0,0,0,0,3,0,4,0,0,3,3,4,0,0,0,0,3,4,3,0,0,0,3,3,4,3,0,0,0,0,4,0,0,4,0,3,0,3,4,0,0,0,4,3,3,0,0,4,0,4,4,4,0,3,3,0,3,0,4,3,0,0,0,4,0,3,0,0,0,0,0,0,0,0,3,0,0,0,3,0,0,0,3,0,3,0,3,3,0,0,0,0,3,0,3,3,0,0,0,0,0,3,4,0,0,4,0,0,4,3,0,3,3,0,3,3,0,0,4,0,4,0,3,0,0,0,0,0,3,3,0,0,0,0,0,3,3,3,4,0,0,0,0,0,0,3,0,0,0,0,3,0,3,3,0,0,0,4,3,3,3,0,0,0,0,0,3,0,0,0,0,4,0,0,4,3,0,4,4,3,0,0,0,0,0,0,0,0,3,0,0,4,0,3,3,3,0,0,3,4,0,4,0,0],\"coloraxis\":\"coloraxis\",\"symbol\":\"circle\"},\"mode\":\"markers\",\"name\":\"\",\"showlegend\":false,\"x\":[8.427460670471191,-6.540848731994629,28.976255416870117,-24.43471336364746,-30.16577911376953,-7.433680534362793,7.07863712310791,7.2482147216796875,-2.9861366748809814,7.361667156219482,12.682295799255371,2.0058934688568115,-1.9703888893127441,-7.251110076904297,-9.314848899841309,6.474708080291748,-6.899139404296875,-32.04263687133789,15.04482650756836,13.771836280822754,-5.501473903656006,-2.790217399597168,13.810436248779297,-30.463430404663086,-8.18252944946289,-27.877925872802734,11.555262565612793,-37.4406623840332,22.721830368041992,-26.316469192504883,-36.454261779785156,26.61138343811035,-2.2025630474090576,-0.6972405314445496,-18.98986053466797,13.677143096923828,-41.32360076904297,-32.6744384765625,-11.215668678283691,23.335195541381836,-3.9988176822662354,16.750213623046875,-1.016212821006775,24.375141143798828,-30.191560745239258,2.6892831325531006,-37.72226333618164,-8.645186424255371,-16.577714920043945,-13.051599502563477,-37.39741897583008,-11.2979736328125,18.408567428588867,0.3523567020893097,-19.812105178833008,-34.75712203979492,18.664783477783203,-26.333057403564453,-11.299031257629395,-3.1117382049560547,-5.38491678237915,-26.554201126098633,-34.324485778808594,-24.516204833984375,-7.700741767883301,-11.07202434539795,-2.5562477111816406,-9.46767807006836,11.831790924072266,3.58927059173584,-37.997154235839844,24.61939811706543,-33.483970642089844,-38.41960906982422,-0.21747161448001862,-27.29034423828125,-19.567638397216797,-0.9659004807472229,13.331901550292969,14.466609001159668,0.0992501750588417,-6.043500900268555,-11.605064392089844,-35.7470817565918,-9.532111167907715,-28.632492065429688,26.612581253051758,15.687835693359375,-7.586553573608398,-32.63914108276367,24.851835250854492,-35.86383819580078,-34.42007064819336,-38.787960052490234,-36.99929428100586,13.770524978637695,-5.609982490539551,23.26861572265625,28.140039443969727,18.16166877746582,-37.06536865234375,-39.34294509887695,-36.234580993652344,-36.53760528564453,18.11641502380371,13.263447761535645,1.7876311540603638,6.371708869934082,7.31101655960083,1.801604151725769,-21.05657958984375,22.022846221923828,8.690730094909668,-37.641197204589844,-46.58865737915039,16.772266387939453,-38.24220275878906,-32.6634521484375,-26.046659469604492,16.751888275146484,-2.2040185928344727,8.357491493225098,-33.83830261230469,20.977752685546875,27.70258140563965,-16.859682083129883,-9.190138816833496,21.310142517089844,-9.671865463256836,12.955163955688477,23.301782608032227,-7.095252513885498,-35.61334991455078,-12.745240211486816,-30.188129425048828,-35.95875930786133,-34.86554718017578,5.9945387840271,-36.02451705932617,6.7112507820129395,19.34784698486328,-37.85115051269531,8.179622650146484,-3.8325371742248535,15.881413459777832,28.779172897338867,0.0870366320014,-1.7195695638656616,-26.2381534576416,-3.2742607593536377,8.18720817565918,-37.17803955078125,-9.375308990478516,-10.540033340454102,19.83810043334961,4.125761032104492,-10.24116039276123,7.803531169891357,-3.3209917545318604,-32.39768600463867,2.368393659591675,6.393495082855225,-23.47406578063965,15.815401077270508,-41.757015228271484,-36.34975051879883,-23.05791664123535,13.564159393310547,-43.01527786254883,20.142253875732422,-26.010286331176758,-2.399156093597412,-8.926247596740723,-25.522459030151367,-32.60387420654297,-28.50967025756836,26.177845001220703,12.517135620117188,-10.735492706298828,19.889291763305664,-30.506427764892578,-28.364330291748047,-11.11469841003418,-10.429571151733398,-13.427762031555176,30.207998275756836,-39.5234375,-32.428253173828125,-1.4877640008926392,-8.209181785583496,-12.503067970275879,-33.36735534667969,4.427156925201416,3.3119020462036133,2.371169090270996,19.699745178222656,-34.481204986572266,-35.99993133544922,-6.696148872375488,-31.561649322509766,17.126853942871094,-3.276475191116333,-36.47138977050781,-31.714950561523438,-16.303014755249023,-33.721248626708984,14.822511672973633,27.475187301635742,-36.973609924316406,22.162508010864258,20.004318237304688,14.299750328063965,3.010021924972534,-34.3324089050293,-4.651474475860596,-32.387943267822266,-3.429729700088501,-5.416004180908203,-1.202991008758545,18.34602165222168,16.305282592773438,-5.629299640655518,-1.599510908126831,-32.55968475341797,-41.501407623291016,8.67597770690918,-36.93411636352539,-9.494452476501465,26.100566864013672,-46.25416946411133,20.08783721923828,-11.844842910766602,-42.95161437988281,-37.361637115478516,9.457927703857422,2.5404245853424072,1.9807896614074707,-4.978042125701904,-18.17540740966797,-15.216240882873535,-2.922433614730835,-8.214759826660156,27.776750564575195,-12.813654899597168,-4.297329425811768,-31.986934661865234,22.714336395263672,-5.681883335113525,-31.63950538635254,-9.866692543029785,-31.285860061645508,-6.112590789794922,-12.855401039123535,-13.411392211914062,22.661148071289062,-19.719436645507812,0.6427794694900513,-38.317718505859375,-36.58522415161133,-33.310157775878906,-34.36526870727539,-3.546489715576172,-3.394709348678589,9.854939460754395,14.809691429138184,-7.636187553405762,-40.584720611572266,20.478857040405273,-35.16084289550781,-29.559009552001953,-39.3862419128418,-12.338159561157227,16.3757266998291,-35.68167495727539,17.754295349121094,-2.61061429977417,-4.228362083435059,-33.83320236206055,-8.499739646911621,25.744524002075195,-6.514536380767822,4.506587505340576,11.026445388793945,21.94368553161621,-13.892128944396973,-17.91212272644043,30.020475387573242,-23.13141632080078,-33.54241180419922,-34.088661193847656,7.921450614929199,-6.827744007110596,9.456817626953125,-5.7572174072265625,-5.2184271812438965,2.662982940673828,-7.929630279541016,-6.270713806152344,-17.041234970092773,-8.58896255493164,19.13468360900879,16.10045051574707,8.873522758483887,-12.231071472167969,-4.878530502319336,0.23652848601341248,-30.088430404663086,-42.97810363769531,20.286739349365234,-36.288211822509766,-28.437572479248047,-9.464410781860352,7.581521034240723,-7.750080585479736,-4.18850564956665,20.287620544433594,15.415722846984863,-5.2997941970825195,26.408641815185547,-24.374536514282227,-29.55544662475586,-20.210721969604492,21.735261917114258,19.94182586669922,-35.82653045654297,-4.884228229522705,26.726896286010742,1.2639631032943726,8.72524356842041,24.796154022216797,-43.47526168823242,-25.6604061126709,27.77994155883789,20.68012809753418,-16.12958335876465,20.835416793823242,-28.835691452026367,-11.848749160766602,-34.03664779663086,2.8608288764953613,-5.159841537475586,15.293374061584473,-12.555160522460938,26.600189208984375,35.302757263183594,-0.7444026470184326,-9.318596839904785,-34.421146392822266,-2.18375563621521,-4.839910984039307,-32.58198165893555,3.466451406478882,-19.67254638671875,17.299396514892578,0.4498904347419739,-42.249080657958984,20.2872314453125,8.351706504821777,-1.3160539865493774,2.3059427738189697,-32.72574234008789,-30.619434356689453,-23.962949752807617,-37.52546310424805,-28.501976013183594,-18.69635581970215,2.8695638179779053,25.359310150146484,-30.804136276245117,1.2163758277893066,-15.976133346557617,-34.84728240966797,-5.725841999053955,-34.763084411621094,19.912246704101562,-5.969418525695801,2.1949386596679688,-9.66549015045166,-35.27116012573242,1.9395195245742798,0.579692542552948,26.48236083984375,-23.30449676513672,-34.7335319519043,-7.8282151222229,-16.509937286376953,-42.79755783081055,10.066186904907227,22.548370361328125,-5.064568042755127,-30.221920013427734,10.265338897705078,-34.4925537109375,-33.46367263793945,-12.765832901000977,11.17724609375,-10.429569244384766,-15.384486198425293,-29.737340927124023,-6.068885326385498,-11.20539665222168,18.790855407714844,-8.23249626159668,-35.75645065307617,-8.883758544921875,-19.15524673461914,-32.32378005981445,0.6211850643157959,-5.1536736488342285,26.405391693115234,-36.654354095458984,-4.728457450866699,2.2603094577789307,-28.24458885192871,-2.3529891967773438,24.141979217529297,-3.8356192111968994,-24.735614776611328,23.211214065551758,-30.73956298828125,20.090961456298828,-17.81668472290039,-12.876893997192383,-24.488903045654297,0.0818888396024704,-16.787551879882812,-10.647308349609375,-8.165817260742188,-4.898336887359619,33.55904006958008,-26.86151695251465,1.6277371644973755,-16.185382843017578,-12.059642791748047,-35.946353912353516,-45.61533737182617,-12.401373863220215,-4.535280704498291,-7.745987892150879,34.19655227661133,-3.7043955326080322,-23.534053802490234,10.860008239746094,-11.547301292419434,3.5013999938964844,-0.037818022072315216,0.47466233372688293,25.47857666015625,-32.86183547973633,-13.175777435302734,28.788049697875977,-29.000268936157227,-19.758098602294922,-20.04400062561035,-25.013046264648438,-10.537772178649902,-8.208364486694336,-29.825410842895508,-37.03089904785156,-9.703124046325684,18.699848175048828,25.06493377685547,-6.147199630737305,-42.62443161010742,-30.094440460205078,-6.52980899810791,22.901779174804688,0.48592662811279297,-42.832157135009766,35.4841423034668,-3.478844165802002,-11.277397155761719,-4.48818826675415,30.57377815246582,-25.79144287109375,1.4747018814086914,-3.4517509937286377,9.714499473571777,-43.501434326171875,18.4827823638916,-14.364872932434082,-18.366058349609375,13.94883918762207,-0.924782395362854,35.35990524291992,8.12355899810791,-18.85780143737793,-25.08671760559082,-4.819446086883545,-38.54594039916992,19.413957595825195,13.7747220993042,-14.042219161987305,-32.05464553833008,12.29348087310791,-6.494538307189941,-28.454593658447266,-13.434029579162598,21.22966194152832,16.71087646484375,33.170589447021484,-18.30682945251465,-8.705194473266602,-17.65085220336914,-10.498292922973633,-4.037686347961426,20.12360191345215,-33.84454345703125,-5.652160167694092,13.881091117858887,-14.282758712768555,-23.14525604248047,26.136934280395508,15.242837905883789,-17.322595596313477,-25.04062843322754,13.103826522827148,-12.347214698791504,-34.47300720214844,29.283357620239258,-11.790270805358887,0.8987576961517334,21.665075302124023,-22.446260452270508,-8.299116134643555,-26.165834426879883,29.036035537719727,16.255531311035156,-28.62569236755371,-39.050201416015625,-17.788734436035156,-28.930133819580078,-18.43390464782715,-2.5340416431427,-27.650178909301758,34.28147506713867,-0.06481605768203735,-12.61929988861084,-2.8997743129730225,-3.651252508163452,-14.991950035095215,20.51217269897461,-23.864450454711914,5.951340198516846,-23.518280029296875,-34.35694122314453,-26.11297035217285,-5.039417743682861,-7.557706356048584,-31.94482421875,-23.72329330444336,-4.9948410987854,22.385330200195312,-30.384668350219727,-21.203746795654297,23.029478073120117,-5.6118483543396,22.945045471191406,-14.189672470092773,1.6891337633132935,23.959144592285156,-0.5960656404495239,-28.3350887298584,-36.34272766113281,-26.593873977661133,-11.916452407836914,-11.735754013061523,-29.4218692779541,-1.3621766567230225,-31.595529556274414,-14.036916732788086,3.715355396270752,-28.22075080871582,-26.90587615966797,-3.884345531463623,-15.292625427246094,-31.94247817993164,-20.524911880493164,-4.567054748535156,-5.77105188369751,36.50800704956055,-8.656015396118164,-11.056178092956543,-22.96095085144043,-37.17241287231445,1.1614910364151,-35.29633712768555,29.296350479125977,-29.0020694732666,-26.89557456970215,4.674007892608643,-11.35731029510498,-17.504573822021484,-0.4576321244239807,-13.886613845825195,2.4414188861846924,-33.912784576416016,2.2161855697631836,-21.71662712097168,38.05412673950195,19.549785614013672,-26.79104232788086,-31.339401245117188,-29.841800689697266,-32.09208297729492,-6.567121505737305,20.229894638061523,-10.290841102600098,-1.114163875579834,-1.6438883543014526,-10.413063049316406,-45.274803161621094,-13.267338752746582,-28.800941467285156,28.20355796813965,-24.19348907470703,1.7065187692642212,-5.314517498016357,-5.945516586303711,3.4595835208892822,-7.623561382293701,20.354894638061523,21.180946350097656,6.487123012542725,-11.135773658752441,4.828802108764648,-9.933207511901855,34.840328216552734,14.932695388793945,-13.801881790161133,-15.948202133178711,-1.8070865869522095,-13.30644416809082,-23.132673263549805,-14.359447479248047,-38.72109603881836,21.270004272460938,20.061979293823242,16.694904327392578,-5.2204437255859375,-3.0800833702087402,-8.406357765197754,36.48228073120117,34.349403381347656,14.386466979980469,22.38194465637207,23.081140518188477,-13.691438674926758,23.734514236450195,17.719491958618164,-8.111289978027344,12.128157615661621,-10.676802635192871,-32.31951904296875,-7.4755778312683105,-13.861075401306152,13.252643585205078,-2.3700385093688965,-17.541004180908203,-9.60945987701416,-8.292106628417969,18.089628219604492,-17.979942321777344,-17.724531173706055,-29.337371826171875,3.9271535873413086,-27.65104103088379,-12.426847457885742,-43.03853225708008,-35.80813980102539,-14.536477088928223,-17.109432220458984,-22.923011779785156,-31.2747745513916,23.33793830871582,3.9031944274902344,-10.421637535095215,-13.460650444030762,-22.146467208862305,-28.635305404663086,21.632034301757812,-22.00757598876953,-11.473321914672852,-8.49279499053955,-7.310711860656738,10.54073429107666,5.25322961807251,-11.912893295288086,-12.248316764831543,37.69316864013672,-1.8114588260650635,-38.24238967895508,-10.517638206481934,-10.284625053405762,-33.63489532470703,-7.235030651092529,7.640935897827148,1.8806242942810059,-20.518428802490234,-15.342784881591797,8.46035099029541,-29.455514907836914,-17.280717849731445,-2.0448479652404785,35.08838653564453,-16.521615982055664,6.0027265548706055,-6.407019138336182,-26.600597381591797,-10.871403694152832,-3.6942555904388428,37.41219711303711,6.676358222961426,-12.535082817077637,-23.45641326904297,36.78957748413086,-31.236896514892578,-13.053827285766602,-8.56756591796875,-31.913183212280273,-19.96221160888672,-3.534212112426758,-3.8322088718414307,-23.469070434570312,-18.16535758972168,-16.842485427856445,-7.847300052642822,31.474777221679688,-17.719972610473633,-13.865097045898438,20.664899826049805,-3.349757194519043,-7.8707733154296875,-11.379281044006348,35.35675811767578,-23.00048065185547,4.540515422821045,-18.816129684448242,-11.560860633850098,42.237754821777344,-24.51775550842285,-10.936613082885742,-8.829826354980469,21.351362228393555,32.43061447143555,40.059791564941406,-4.309539794921875,-44.92543411254883,-11.219884872436523,-10.782349586486816,4.0774312019348145,4.3773274421691895,-7.100414276123047,-11.838953971862793,-35.03608322143555,-9.286158561706543,-33.00898361206055,-32.980690002441406,-6.87435245513916,-19.023273468017578,3.7916643619537354,34.99735641479492,-19.024126052856445,35.445640563964844,35.95999526977539,-33.21925735473633,-9.515787124633789,-10.315740585327148,25.64727783203125,-13.580667495727539,-11.714994430541992,-18.74294662475586,11.344368934631348,5.401626110076904,38.581905364990234,-20.665266036987305,-23.365385055541992,37.8935432434082,-23.589828491210938,-45.94980239868164,-6.752425670623779,-23.979307174682617,-8.649949073791504,24.44147491455078,21.355241775512695,21.430784225463867,-0.9479034543037415,8.129313468933105,-24.743261337280273,-31.181476593017578,-6.511963844299316,-9.339729309082031,28.26906394958496,-3.665330171585083,-8.196613311767578,30.655166625976562,-18.405332565307617,-44.600711822509766,-20.65264129638672,-12.45926570892334,5.266519546508789,6.472347259521484,7.347757339477539,-13.008637428283691,-17.165443420410156,-25.74970054626465,34.75519943237305,-7.150240898132324,2.4159371852874756,-24.902969360351562,-44.66592025756836,-17.539094924926758,3.4482460021972656,26.251420974731445,7.496521472930908,35.03657150268555,6.3537983894348145,33.18851089477539,-15.492730140686035,-8.611917495727539,8.109668731689453,-30.275646209716797,-8.442046165466309,-28.94196319580078,-25.15729331970215,-25.87965202331543,-16.402843475341797,7.087163925170898,-20.150936126708984,-11.094305992126465,11.357516288757324,-31.149829864501953,34.21406173706055,30.28464698791504,-28.535640716552734,-33.405147552490234,2.4259748458862305,-0.5596831440925598,27.70738410949707,-6.841724872589111,-3.8805935382843018,-3.7620794773101807,-26.741201400756836,11.763875007629395,13.975019454956055,-29.28087043762207,12.507797241210938,38.45509719848633,-30.714187622070312,-8.690727233886719,-19.142223358154297,-9.047447204589844,36.97479248046875,-15.588525772094727,41.878028869628906,9.147950172424316,6.558295726776123,12.933959007263184,-3.4530537128448486,-12.943380355834961,-6.874560356140137,-1.198756456375122,-28.366483688354492,38.945640563964844,-9.591647148132324,6.929488658905029,-12.567378997802734,-32.84638977050781,20.33327293395996,-27.592426300048828,22.344438552856445,5.722859859466553,-14.572996139526367,-10.59526538848877,-11.220025062561035,13.013890266418457,-31.547565460205078,-18.516773223876953,31.3579158782959,-30.712865829467773,39.134098052978516,-30.3902530670166,-16.809181213378906,7.9970574378967285,25.663467407226562,-8.36298656463623,4.590114116668701,-27.7540225982666,-31.607460021972656,-4.245561122894287,-31.869102478027344,31.245712280273438,-29.22730255126953,5.4912261962890625,11.295950889587402,-47.22367858886719,2.9186835289001465,31.49590492248535,-28.600269317626953,13.395915031433105,19.408170700073242,27.01952362060547,39.543724060058594,42.651798248291016,14.608685493469238,-14.908212661743164,-3.288749933242798,1.6464381217956543,-2.5304832458496094,-29.05872917175293,-7.437763214111328,31.531736373901367,-29.231433868408203,40.36488723754883,30.064651489257812,-22.33045768737793,-13.44352912902832,-7.314863204956055,23.906749725341797,-13.88798999786377,-30.085020065307617,8.338146209716797,8.597208976745605,-30.670970916748047,9.615623474121094,-26.505083084106445,13.09400463104248,6.713005065917969,-12.770444869995117,31.278905868530273,-6.899972915649414,37.90664291381836,1.2590664625167847,-7.849541187286377,-4.769851207733154,-31.0799617767334,-17.71151351928711,14.270840644836426,-8.248393058776855,-24.532947540283203,36.4210090637207,-29.90958023071289,-8.120049476623535,-27.655683517456055,-17.51422119140625,-13.145459175109863,3.1930127143859863,-28.018579483032227,-45.53046798706055,-15.587504386901855,-4.105905532836914,-32.80262756347656,-2.4844324588775635,-31.158653259277344,-27.290260314941406,21.451496124267578,-32.84041213989258,3.9274981021881104,-26.317665100097656,37.01162338256836,33.482852935791016,10.16038990020752,-15.859728813171387,13.993439674377441,-16.84111976623535,25.24724769592285,13.55689811706543,23.76233673095703,-10.228278160095215,-13.32740592956543,-8.91850471496582,-10.695053100585938,34.64961242675781,39.83241271972656,-6.526744365692139,4.172855377197266,-0.7913329601287842,-28.238332748413086,11.133316040039062,-1.784101963043213,42.0486946105957,-17.270811080932617,32.291744232177734,-16.67458152770996,-19.58571434020996,-31.80394744873047,-15.582162857055664,-8.240053176879883,11.903705596923828,-7.405648231506348,-26.255403518676758,31.85942840576172,7.091350555419922,-6.763965606689453,-2.538637161254883,-1.2875397205352783,31.909656524658203,-14.743032455444336,7.588821887969971,40.2076416015625,-32.341888427734375,-16.694313049316406,11.62148666381836,-14.414677619934082,13.04345417022705,-6.831115245819092,-16.24644660949707,11.695907592773438,-12.960286140441895,21.473928451538086,-23.56484603881836,-9.050081253051758,-11.71770191192627,30.692750930786133,-11.316597938537598,25.374311447143555,9.958992004394531,-9.509258270263672,33.29651641845703,-8.206637382507324,34.396705627441406,30.696247100830078,-13.449338912963867,-6.509563446044922,4.86856746673584,-30.555150985717773,4.218731880187988,-27.141984939575195,-21.597610473632812,36.531246185302734,24.10411834716797,32.20945739746094,-46.26747512817383,-33.175209045410156,9.053435325622559,34.19397735595703,4.8490777015686035,23.057960510253906,-26.198240280151367,37.5469856262207,27.757490158081055,6.4207563400268555,35.24264144897461,37.39559555053711,-26.683250427246094,-9.0620698928833,39.0746955871582,-22.5898380279541,39.86371994018555,42.178062438964844,4.777612686157227,7.314539909362793,-7.03977632522583,5.473635196685791,14.013798713684082,9.609786987304688,34.62757110595703,-26.976791381835938,26.735933303833008,-23.554950714111328,-7.452668190002441,42.41768264770508,-15.964811325073242,-11.574400901794434,25.26995277404785,10.61374282836914,34.708885192871094,29.4146785736084,-8.144649505615234,-25.66262435913086,-6.3039140701293945,-10.059802055358887,11.430377960205078,-21.449399948120117,-10.474061012268066,6.9389424324035645,-12.239715576171875,24.805871963500977,-31.333349227905273,34.05045700073242,27.96913719177246,-23.748626708984375,-25.27242660522461,-31.218629837036133,38.03913116455078,21.33806037902832,-25.861406326293945,-6.2962822914123535,-27.422088623046875,33.93263626098633,-8.042730331420898,5.742552757263184,5.457003116607666,-17.78968048095703,-24.141746520996094,11.953848838806152,30.758325576782227,39.03286361694336,-23.86558723449707,-26.750694274902344,-21.849828720092773,-9.065387725830078,-23.25298500061035,-24.128358840942383,25.458436965942383,27.40085792541504,-17.352191925048828,-21.30908966064453,-26.257326126098633,-4.351967811584473,-26.146137237548828,25.835691452026367,-22.05391502380371,-9.925714492797852,-16.785341262817383,5.858126640319824,7.8232340812683105,-13.58276081085205,-18.442392349243164,38.198394775390625,39.37674331665039,42.73477554321289,-6.50029993057251,-26.111127853393555,-14.800158500671387,32.70769500732422,10.807826042175293,40.340003967285156,-15.7492036819458,24.976835250854492,-25.410442352294922,-20.130435943603516,-23.313840866088867,9.026427268981934,23.740888595581055,-8.68167781829834,21.946271896362305,-23.496505737304688,34.54799270629883,10.66889762878418,-22.415138244628906,25.114206314086914,-20.637611389160156,-13.721833229064941,11.526312828063965,-20.98833465576172,9.075652122497559,-18.06548500061035,-24.97890853881836,-10.330290794372559,41.49405288696289,39.04835510253906,-28.45812225341797,-9.59264850616455,12.365828514099121,15.086540222167969,29.41064453125,15.326333045959473,-6.288644790649414,-24.695959091186523,17.28024673461914,13.887289047241211,-31.047590255737305,-13.172605514526367,9.404199600219727,47.04563522338867,-25.381256103515625,-20.501991271972656,35.04673767089844,35.740604400634766,-27.244449615478516,24.679332733154297,-26.48219108581543,20.274333953857422,28.6114559173584,-5.200423717498779,-20.649328231811523,-25.43460464477539,-7.802629470825195,-19.828096389770508,-3.837311029434204,39.64554214477539,24.92926025390625,-21.42313003540039,25.396778106689453,9.481895446777344,-2.640063762664795,-22.931623458862305,-14.02985954284668,10.92105770111084,33.02049255371094,-21.424123764038086,-18.25437355041504,-14.800288200378418,-26.415489196777344,10.00574016571045,11.198217391967773,29.72799301147461,-17.65732192993164,14.710759162902832,-18.236730575561523,-24.824251174926758,-4.608473777770996,-20.544443130493164,-15.772409439086914,17.184009552001953,10.345046997070312,-26.87139320373535,-21.808879852294922,46.85066223144531,-11.090740203857422,-17.035985946655273,26.201244354248047,-19.051883697509766,-15.227034568786621,-12.763813972473145,-21.05913734436035,-26.265308380126953,-15.453963279724121,13.275652885437012,-20.625137329101562,-15.558572769165039,-25.678800582885742,43.079498291015625,-10.587989807128906,-4.909781455993652,-22.489112854003906,-27.158916473388672,-5.764097690582275,30.75482749938965,25.755538940429688,-26.99982261657715,19.974388122558594,-25.896011352539062,-17.212356567382812,39.58979797363281,-13.75839614868164,42.47895431518555,-3.782531499862671,39.22239303588867,-20.038970947265625,-29.056386947631836,27.944931030273438,-4.495820999145508,29.737184524536133,-15.100823402404785,-4.273226261138916,-26.338865280151367,-16.468122482299805,-7.17815637588501,-16.0471134185791,3.283024311065674,33.628700256347656,-10.764993667602539,44.5820198059082,-15.787860870361328,-15.474817276000977,-17.108949661254883,27.305856704711914,44.57038116455078,34.71978759765625,43.6890754699707,13.008715629577637,-28.173778533935547,-23.790245056152344,38.11650466918945,23.820165634155273,-26.0233211517334,-15.353863716125488,17.41891860961914,42.61437225341797,-17.82617950439453,15.400622367858887,45.79472732543945,-19.680681228637695,-21.337177276611328,44.20595169067383,-0.055169813334941864,-18.405750274658203,10.276642799377441,-21.892532348632812,44.089996337890625,39.55241775512695,46.16453170776367,23.877531051635742,-11.958141326904297,40.29023361206055,43.681312561035156,26.2685604095459,34.282039642333984,25.14203643798828,18.430864334106445,24.367694854736328,15.785654067993164,39.27259063720703,26.05423927307129,40.06631851196289,-16.199167251586914,37.52113342285156,34.69057083129883,-9.305163383483887,-16.107948303222656,-27.98310089111328,-3.3946778774261475,42.05065155029297,17.81024932861328,9.241697311401367,-18.673625946044922,17.21346092224121,35.42108917236328,-6.279421806335449,-15.852032661437988,26.385576248168945,30.386507034301758,24.149200439453125,-16.054670333862305,-18.074317932128906,43.741355895996094,-23.23504638671875,-23.697914123535156,-17.92919921875,39.89269256591797,40.970123291015625,16.048175811767578,-23.909326553344727,15.909157752990723,40.9077033996582,-20.27728843688965,-22.86322021484375,20.169918060302734,-0.763974666595459,-18.144615173339844,38.482879638671875,24.067102432250977,-18.836868286132812,16.30083465576172,0.8733342885971069,-8.288544654846191,-25.856189727783203,-15.688939094543457,-20.813968658447266,14.20411491394043,-12.22243881225586,40.40460968017578,41.09540939331055,19.931598663330078,19.912691116333008,44.101531982421875,18.802804946899414,-11.519950866699219,-18.77989387512207,-6.252628803253174,-9.986177444458008,16.744163513183594,17.351905822753906,-22.708518981933594,-15.121926307678223,-17.577699661254883,33.288124084472656,-8.687211990356445,13.49438190460205,-18.71373748779297,-21.16016387939453,26.396499633789062,39.07956314086914,1.2709189653396606,45.275367736816406,23.461305618286133,19.170265197753906,40.13837814331055,-23.600454330444336,-14.572830200195312,42.497718811035156,44.145294189453125,-12.763900756835938,13.730708122253418,-4.50773286819458,-22.123022079467773,-3.8058955669403076,15.410383224487305,30.987035751342773,-12.07822322845459,14.29389762878418,23.636478424072266,18.961698532104492,-21.90302848815918,-2.92549729347229,38.24334716796875,13.33984088897705,-9.880023956298828,43.59540939331055,45.951969146728516,-24.36105728149414,14.166912078857422,32.505313873291016,-0.01798119582235813,42.13991928100586,-16.816707611083984,19.329652786254883,-8.439151763916016,-4.515406608581543,-20.875898361206055,-3.823791027069092,15.859319686889648,18.658235549926758,38.009727478027344,24.182151794433594,9.498750686645508,-19.479995727539062,34.51388168334961,13.985236167907715,46.3658332824707,-15.187755584716797,-18.770999908447266,30.86893081665039,-20.686857223510742,8.765412330627441,-21.003156661987305,-19.010095596313477,26.540048599243164,31.030555725097656,32.10451889038086,0.33173295855522156,29.40479278564453,17.607563018798828,-18.838930130004883,27.131616592407227,-20.531227111816406,-7.563022136688232,-15.507966995239258,25.337377548217773,44.586692810058594,-6.245935440063477,47.705448150634766,9.067434310913086,-21.910066604614258,9.827951431274414,41.62785720825195,-12.642196655273438,-14.960173606872559,8.516388893127441,14.501666069030762,47.97883987426758,44.26017761230469,22.485206604003906,16.914199829101562,48.91720199584961,17.274513244628906,14.817010879516602,24.368345260620117,1.5744684934616089,10.117949485778809,-4.897679805755615,-24.196950912475586,40.81357955932617,-0.579646110534668,33.14936065673828,47.618465423583984,-13.965801239013672,24.370006561279297,-20.431425094604492,39.2266731262207,-15.983956336975098,-23.183908462524414,34.89582061767578,-20.882610321044922,5.988325595855713,30.757991790771484,15.454071998596191,-20.28671646118164,48.564151763916016,46.42287063598633,-13.908248901367188,25.317485809326172,36.311073303222656,44.01679611206055,17.52561378479004,-19.597858428955078,-14.816963195800781,15.827219009399414,-4.988760471343994,-12.123769760131836,-22.207380294799805,-7.021374225616455,-20.529956817626953,-9.30765151977539,32.60824966430664,41.81232833862305,16.437562942504883,17.09685516357422,-23.140586853027344,24.4029541015625,-7.533947944641113,-7.21520471572876,-2.0567266941070557,-20.103708267211914,-9.405418395996094,24.54432487487793,10.936026573181152,-6.5922746658325195,-25.343778610229492,-22.110557556152344,-21.773101806640625,41.43745422363281,25.27476692199707,-1.7394297122955322,21.96915626525879,42.423702239990234,41.743125915527344,20.478239059448242,7.858160018920898,13.051934242248535,-1.0966285467147827,9.176770210266113,9.54419231414795,26.503398895263672,12.029459953308105,-15.105267524719238,31.826772689819336,-11.032036781311035,-5.456151008605957,5.780298709869385,-19.16313934326172,-19.804956436157227,-0.8585215210914612,-15.015475273132324,-2.6270384788513184,11.23128604888916,-5.869295597076416,-18.633769989013672,-19.96105194091797,-19.308704376220703,-9.64371109008789,-22.57574462890625,-6.566110610961914,-10.28592586517334,-6.155114650726318,-24.965192794799805,0.804180920124054,-7.5441179275512695,12.089730262756348,17.394752502441406,39.62621307373047,-6.099164009094238,-8.777255058288574,14.545967102050781,15.483602523803711,16.84379005432129,-21.933835983276367,-18.374849319458008,-24.327457427978516,42.49478530883789,-25.547550201416016,-23.323501586914062,10.950940132141113,47.49786376953125,-22.404911041259766,-20.943208694458008,-6.557448387145996,18.6453914642334,-20.21051025390625,5.7825469970703125,-5.7541608810424805,-20.121381759643555,11.607819557189941,1.2067365646362305,-9.347243309020996,34.24784851074219,34.18675994873047,-21.137304306030273,28.447154998779297,48.50453567504883,11.451290130615234,47.810306549072266,-8.857694625854492,44.314449310302734,27.008081436157227,5.2912163734436035,23.448192596435547,0.7802779674530029,14.886219024658203,-0.0009167144307866693,-14.585403442382812,-18.955902099609375,18.76495361328125,21.278738021850586,43.58634567260742,33.242584228515625,32.94059753417969,48.16871643066406,20.31739616394043,15.022284507751465,-7.9966230392456055,1.2920435667037964,33.8293571472168,-19.537385940551758,-19.01017951965332,-13.908820152282715,7.178720474243164,32.533695220947266,48.47828674316406,-9.818554878234863,-21.179824829101562,33.69635009765625,2.7977066040039062,26.375171661376953,49.64444351196289,-1.6032977104187012,41.65596389770508,0.3771107792854309,28.241914749145508,10.35771369934082,-13.40110969543457,-18.15382957458496,8.587698936462402,-15.052779197692871,6.019603252410889,-22.03273582458496,5.879253387451172,-9.36397933959961,6.318636894226074,9.413495063781738,20.027881622314453,-1.125188946723938,-25.486764907836914,-14.408352851867676,2.1429975032806396,7.086155414581299,46.71699905395508,7.9797868728637695,49.19778060913086,48.231170654296875,10.252236366271973,-20.153602600097656,7.995038986206055,-18.63788414001465,11.540422439575195,-14.338495254516602,16.9282283782959,26.16492462158203,31.21268081665039,18.30193328857422,9.16444206237793,-18.22003746032715,-5.111514091491699,34.98875045776367,11.485556602478027,-25.77267837524414,-24.008697509765625,44.198219299316406,11.01452922821045,9.281902313232422,27.731367111206055,33.00932693481445,-18.846725463867188,-5.760472297668457,33.321128845214844,-0.8879757523536682,18.275007247924805,15.04835033416748,-13.998627662658691,33.58804702758789,3.474104881286621,49.337249755859375,-4.285247325897217,52.01327896118164,16.840229034423828,-9.926030158996582,4.412014007568359,4.679720401763916,1.4134490489959717,37.44057846069336,-24.3297119140625,-18.78035545349121,17.35357093811035,-6.170697212219238,37.6591682434082,-9.656965255737305,19.091354370117188,10.885869026184082,27.537073135375977,-22.156278610229492,34.17491912841797,14.455557823181152,40.484928131103516,27.931177139282227,-20.849563598632812,48.23405075073242,14.391887664794922,30.966110229492188,-23.915874481201172,6.504461288452148,-13.509737014770508,1.8396639823913574,-25.245534896850586,4.870447158813477,44.24333953857422,16.520503997802734,16.917495727539062,-17.90418243408203,21.447256088256836,16.43290901184082,-7.117130756378174,-9.827202796936035,-15.384201049804688,33.59806823730469,15.153058052062988,51.33884811401367,5.420069217681885,33.94053649902344,19.25012969970703,-6.301498889923096,5.378244400024414,-22.02259635925293,-13.032169342041016,31.244728088378906,-16.749162673950195,-17.888214111328125,-17.47696876525879,10.057412147521973,15.585375785827637,52.32246780395508,24.261676788330078,-3.6787917613983154,15.20921516418457,28.06280517578125,-6.398449420928955,29.124080657958984,20.895111083984375,-6.942808628082275,-21.838083267211914,0.9739196300506592,21.69628143310547,-9.265219688415527,-27.84366798400879,35.28861618041992,4.2312541007995605,-5.863011360168457,-1.205483078956604,3.789188861846924,-7.012107849121094,52.9152717590332,7.856940746307373,7.162299633026123,-4.694864273071289,-25.71078872680664,10.628164291381836,6.036509990692139,-4.717068672180176,49.633934020996094,6.462612152099609,34.38593292236328,8.440969467163086,4.016077518463135,-5.977769374847412,-13.747706413269043,39.06938171386719,12.509137153625488,12.961397171020508,34.678863525390625,-1.251523733139038,-16.98875617980957,-5.710136890411377,22.448503494262695,33.49755096435547,11.516755104064941,15.092954635620117,-0.4181270897388458,-13.163371086120605,39.21048355102539,11.125988006591797,50.39762496948242,0.7097316980361938,51.34684753417969,-8.933621406555176,8.389883995056152,-5.166070461273193,-21.28318977355957,-6.531209945678711,22.10000991821289,-9.016672134399414,40.766117095947266,30.923648834228516,39.36991500854492,10.220169067382812,-5.5941081047058105,49.38376235961914,-22.669435501098633,6.908400535583496,14.962725639343262,-8.379020690917969,12.49014949798584,-10.483287811279297,3.784233331680298,11.095409393310547,8.89390754699707,51.1341667175293,8.954523086547852,39.362648010253906,28.33441734313965,-8.11482048034668,37.72734451293945,6.938961505889893,-19.205339431762695,28.619728088378906,17.231443405151367,37.98340606689453,-4.156687259674072,29.372465133666992,23.650423049926758,-8.226418495178223,-1.0913150310516357,0.24876321852207184,-0.7217997312545776,38.8484992980957,22.480484008789062,39.803157806396484,12.510705947875977,50.96420669555664,-9.864627838134766,-9.832240104675293,16.899616241455078,36.280513763427734,-9.070523262023926,-9.359212875366211,-28.775924682617188,25.224323272705078,42.08773422241211,22.565185546875,-13.594846725463867,-25.10344886779785,51.0914192199707,19.642480850219727,17.49104881286621,-22.448101043701172,-23.124317169189453,15.069665908813477,-27.865055084228516,7.7179460525512695,-6.810743808746338,51.829200744628906,-6.5917229652404785,34.99238586425781,27.791322708129883,51.912906646728516,21.213241577148438,19.387720108032227,-11.23437786102295,-8.672571182250977,-24.435100555419922,38.864166259765625,42.33226013183594,-25.43722915649414,22.809843063354492,22.979084014892578,1.583491325378418,2.615123987197876,-20.881986618041992,8.161888122558594,51.45229721069336,4.052835941314697,19.464599609375,-14.78860092163086,52.51080322265625,35.9564208984375,41.643619537353516,20.29813575744629,4.193697929382324,20.065702438354492,-7.773428916931152,51.2593879699707,51.99276351928711,-14.59765338897705,24.642160415649414,51.92261505126953,25.167884826660156,-25.261747360229492,19.874237060546875,20.749340057373047,-5.9865641593933105,20.77534294128418,-7.061793804168701,23.694353103637695,41.98819351196289,17.988380432128906,-24.5129337310791,8.75230884552002,9.770331382751465,35.669761657714844,37.843475341796875,-26.76926040649414,0.3799241781234741,-7.893288612365723,7.961891174316406,-4.419428825378418,38.34418487548828,-24.54320526123047,43.01955795288086,-0.010000231675803661,25.709585189819336,11.277040481567383,26.81316375732422,41.938812255859375,-22.286865234375,41.646419525146484,19.81550407409668,-9.017827987670898,-1.4903619289398193,3.3711791038513184,-23.10655403137207,12.035355567932129,-14.378959655761719,-14.264906883239746,7.58268404006958,38.49834060668945,20.13568687438965,52.07356643676758,-27.95482635498047,-3.259274959564209,6.217508316040039,20.733394622802734,-14.773174285888672,35.699676513671875,52.40741729736328,-1.9725446701049805,-3.7528634071350098,-26.19338607788086,1.2050237655639648,-28.508081436157227,-27.5125675201416,-15.378230094909668,4.178401947021484,52.623355865478516,36.79207992553711,-18.64427947998047,52.00592041015625,4.5504469871521,-23.631288528442383,38.56719970703125,21.751733779907227,21.3642635345459,-8.441535949707031,-15.09912109375,2.4139535427093506,36.77294158935547,-8.535979270935059,-12.566757202148438,-18.733686447143555,4.794745445251465,12.238021850585938,-5.782222270965576,-2.9848227500915527,-12.16276741027832,36.18907928466797,13.293192863464355,-7.0265936851501465,-1.1204832792282104,35.16925811767578,10.4578275680542,-4.766575336456299,19.78372573852539,37.792327880859375,-5.676107883453369,36.79479217529297,-6.639072895050049,27.069862365722656,42.45921325683594,26.273656845092773,-0.6788744330406189,-3.052288293838501,-0.8035667538642883,53.21604919433594,-7.7078142166137695,40.94403076171875,37.364315032958984,2.7524256706237793,19.5424747467041,21.634708404541016,6.5969624519348145,16.095619201660156,42.60810089111328,-14.140289306640625,-8.152731895446777,5.75521993637085,-24.346040725708008,-14.215157508850098,-8.219935417175293,-23.76125144958496,27.58734703063965,-7.607473373413086,42.01246643066406,37.82798767089844,23.769624710083008,51.90953063964844,41.3890380859375,-14.886083602905273,5.027369499206543,-24.74175453186035,23.079010009765625,-28.708078384399414,24.232789993286133,35.700286865234375,-14.382512092590332,12.451239585876465,-4.99688196182251,3.322618007659912,16.900541305541992,41.361446380615234,36.98894119262695,26.349123001098633,1.8112545013427734,-1.0400813817977905,22.081798553466797,-0.4304499626159668,30.111793518066406,42.538429260253906,52.290008544921875,-27.191726684570312,-6.567532062530518,25.342927932739258,25.393890380859375,2.5753333568573,20.884241104125977,-5.8370561599731445,40.064109802246094,-5.061790943145752,26.155685424804688,-6.976658344268799,-8.881268501281738,29.954282760620117,22.571504592895508,30.13905143737793,51.152366638183594,2.6632561683654785,19.804780960083008,-6.501892566680908,-25.626197814941406,37.69948196411133,52.91352462768555,53.32371139526367,23.351741790771484,-4.457347869873047,-2.1149048805236816,24.041709899902344,24.198715209960938,41.090431213378906,-3.927086353302002,1.1667821407318115,25.807353973388672,-0.006883594207465649,-24.342864990234375,22.773334503173828,-2.5360896587371826,-25.35354232788086,39.851051330566406,19.43793296813965,-28.441627502441406,-15.385138511657715,29.533695220947266,3.396437406539917,-2.296638250350952,-7.964177131652832,3.8553152084350586,25.078214645385742,5.906717777252197,0.0018543476471677423,27.17035484313965,28.729345321655273,18.39417266845703,22.352081298828125,-25.789043426513672,15.975749015808105,30.064760208129883,27.795915603637695,41.03800964355469,4.375502586364746,6.343637466430664,38.896419525146484,-22.287012100219727,1.4315109252929688,-21.73444938659668,22.34733009338379,29.34845542907715],\"xaxis\":\"x\",\"y\":[27.529516220092773,60.4638786315918,26.663484573364258,14.229216575622559,14.201517105102539,24.66173553466797,21.135852813720703,26.809223175048828,69.91975402832031,24.636491775512695,28.45102882385254,29.760059356689453,26.499582290649414,59.632232666015625,57.38311004638672,20.96434783935547,24.70530128479004,16.01692771911621,21.68838882446289,32.257728576660156,61.87726593017578,71.00515747070312,32.2980842590332,13.834317207336426,58.75654983520508,13.680891036987305,27.94685173034668,10.129870414733887,28.55607795715332,11.002211570739746,10.194308280944824,26.68851661682129,69.3421630859375,71.01200866699219,16.23921012878418,21.66375160217285,6.247676372528076,10.688724517822266,21.876737594604492,28.893081665039062,28.55175018310547,22.992916107177734,27.872474670410156,30.675870895385742,14.499032974243164,28.803979873657227,8.704448699951172,58.043434143066406,16.865053176879883,19.514141082763672,8.538629531860352,22.59101104736328,29.1358585357666,27.10495948791504,14.014174461364746,8.950904846191406,26.751359939575195,11.048965454101562,21.640024185180664,68.96234130859375,62.922340393066406,7.991774559020996,8.666510581970215,15.3340482711792,59.83626937866211,22.999774932861328,71.28984832763672,22.41521644592285,27.49951171875,27.894256591796875,8.20459270477295,29.800762176513672,8.455107688903809,10.35100269317627,27.588699340820312,14.505321502685547,15.943127632141113,26.73570442199707,28.45511245727539,26.320510864257812,27.399553298950195,24.48041534423828,17.56947135925293,11.114245414733887,22.279212951660156,10.010560989379883,26.117172241210938,25.71300506591797,21.017074584960938,15.965347290039062,29.188894271850586,14.777891159057617,9.442700386047363,7.700072288513184,8.351893424987793,22.589923858642578,62.2861442565918,26.097932815551758,26.06095314025879,28.489986419677734,7.689866542816162,9.27801513671875,8.329497337341309,13.795631408691406,26.864768981933594,21.985769271850586,27.784948348999023,24.61139488220215,20.88646697998047,29.918304443359375,14.805960655212402,27.894207000732422,26.789825439453125,7.643253803253174,-0.4835646450519562,23.12127113342285,10.761983871459961,16.0795841217041,13.488226890563965,27.856313705444336,69.97940826416016,23.19626235961914,7.856496810913086,31.14569091796875,25.974815368652344,16.251018524169922,58.1568489074707,30.76248550415039,20.46973991394043,28.820032119750977,30.922178268432617,61.31045150756836,6.906918048858643,18.318206787109375,9.100141525268555,11.765425682067871,7.111666202545166,27.261768341064453,8.02751350402832,24.2900447845459,27.516616821289062,6.606805801391602,24.25082015991211,24.03032684326172,28.196069717407227,25.87044906616211,25.724397659301758,22.428647994995117,13.62221622467041,70.86235046386719,19.904775619506836,4.85603141784668,58.76017761230469,20.61188316345215,26.629526138305664,26.816261291503906,57.73686599731445,22.371675491333008,23.669677734375,10.642723083496094,27.197811126708984,20.516345977783203,14.243396759033203,22.160879135131836,5.007087230682373,6.484698295593262,14.182587623596191,26.392520904541016,5.228473663330078,27.26046371459961,6.811968803405762,21.03249740600586,20.379730224609375,10.763729095458984,9.841127395629883,9.90135669708252,31.21784782409668,26.324724197387695,57.95262145996094,31.874170303344727,8.707215309143066,6.700952529907227,57.13964080810547,21.151939392089844,16.81004524230957,25.50080680847168,-2.5439581871032715,9.232827186584473,21.208932876586914,19.47195053100586,16.571300506591797,13.215391159057617,26.681886672973633,26.119659423828125,26.79719352722168,32.2868766784668,12.013648986816406,6.371190071105957,62.499534606933594,6.104010581970215,28.72366714477539,23.0628662109375,4.397658348083496,8.799941062927246,16.17622947692871,13.821136474609375,24.91063690185547,25.50926971435547,6.045605182647705,23.826400756835938,28.253355026245117,22.39768409729004,26.522014617919922,6.254336357116699,14.444592475891113,6.900092601776123,22.844017028808594,65.22274017333984,20.957843780517578,30.74912452697754,28.755239486694336,23.53208351135254,21.962081909179688,4.127241134643555,4.755180358886719,21.687501907348633,13.719494819641113,19.9331111907959,29.3364200592041,-0.6421528458595276,29.709354400634766,15.631061553955078,4.947829723358154,3.129925012588501,21.6411075592041,26.25393295288086,25.38091468811035,23.534156799316406,12.578203201293945,15.211106300354004,14.577594757080078,18.074007034301758,25.339635848999023,15.396252632141113,23.232345581054688,4.280165672302246,24.820232391357422,64.2893295288086,5.4254608154296875,59.29658889770508,5.17285680770874,63.8995246887207,16.260725021362305,55.93980407714844,23.814897537231445,12.812087059020996,25.29465675354004,-1.0448664426803589,2.987682342529297,5.496505260467529,13.190584182739258,20.48919105529785,71.82767486572266,21.862010955810547,24.80582046508789,62.21355056762695,4.138862609863281,30.553932189941406,4.458827018737793,7.49006986618042,-2.4806442260742188,56.08821105957031,29.560733795166016,3.484135150909424,30.628110885620117,14.155755996704102,22.493724822998047,14.280097007751465,17.881603240966797,29.43392562866211,19.16596031188965,23.636516571044922,22.357471466064453,22.638774871826172,14.501619338989258,12.256632804870605,25.2337703704834,8.626849174499512,3.999757766723633,3.5872726440429688,19.101545333862305,63.26544952392578,19.970481872558594,18.568574905395508,65.98897552490234,25.264877319335938,17.124143600463867,65.18487548828125,12.585118293762207,61.368858337402344,25.197254180908203,29.574081420898438,22.566484451293945,14.86037826538086,20.492650985717773,24.6290340423584,5.091245651245117,3.1567647457122803,25.767059326171875,1.345649003982544,4.754807949066162,60.448577880859375,18.815237045288086,62.8916015625,28.52727699279785,24.72903060913086,24.16488265991211,13.735032081604004,29.924068450927734,9.472700119018555,3.2482218742370605,8.753748893737793,25.500131607055664,23.953935623168945,1.3145281076431274,20.45142936706543,28.666353225708008,14.240337371826172,19.257871627807617,25.431814193725586,3.0712263584136963,4.834406852722168,27.81716537475586,23.857805252075195,13.325981140136719,25.158796310424805,4.765500068664551,58.022029876708984,1.9121662378311157,20.860593795776367,18.213722229003906,14.725772857666016,57.484745025634766,30.364465713500977,20.86486053466797,15.134482383728027,13.508428573608398,1.4979459047317505,14.025653839111328,22.181589126586914,2.0345730781555176,17.44425392150879,8.766557693481445,11.651985168457031,16.369197845458984,3.0792126655578613,23.662883758544922,18.79784393310547,14.109020233154297,17.11934471130371,1.7826683521270752,1.8627270460128784,8.066878318786621,-1.2977067232131958,2.86631178855896,10.789734840393066,16.132471084594727,28.188247680664062,0.8648747205734253,15.054572105407715,12.536291122436523,0.9371885061264038,22.22319221496582,-0.5343404412269592,24.48012351989746,16.786460876464844,14.128796577453613,61.036983489990234,-1.2113144397735596,19.494800567626953,17.052183151245117,24.53910255432129,8.29092025756836,-2.5170862674713135,13.655492782592773,9.738913536071777,2.6865603923797607,19.647903442382812,21.494197845458984,70.95003509521484,2.2173526287078857,16.176252365112305,0.7490498423576355,-2.8323912620544434,13.635497093200684,16.49987030029297,60.65196228027344,10.43233585357666,1.614883542060852,16.638595581054688,12.751961708068848,20.290115356445312,63.61213684082031,-1.733657717704773,62.58146667480469,10.641319274902344,-2.235848903656006,13.587271690368652,16.836318969726562,23.36345863342285,-1.100611686706543,13.090180397033691,17.682830810546875,-0.8023358583450317,18.049713134765625,23.009315490722656,72.71859741210938,4.500598430633545,21.41645622253418,0.04509395360946655,13.253411293029785,9.423535346984863,56.83770751953125,5.775343418121338,13.410127639770508,10.247607231140137,12.140026092529297,4.080583095550537,17.173526763916016,20.54299545288086,4.071077823638916,19.43284797668457,11.312255859375,59.05282974243164,-0.5156151056289673,-1.3389233350753784,58.55155563354492,8.456779479980469,4.472925662994385,20.732830047607422,11.225533485412598,-1.2193149328231812,19.764766693115234,12.514106750488281,16.260900497436523,12.301579475402832,11.855690002441406,22.426790237426758,-2.613797903060913,58.10272216796875,20.659086227416992,0.5065549612045288,7.8123273849487305,6.804939270019531,4.079493999481201,11.687782287597656,65.40320587158203,-0.46951067447662354,-3.4045817852020264,62.27595901489258,18.47543716430664,27.652498245239258,70.39655303955078,1.7666672468185425,-0.6891347765922546,7.342486381530762,20.369855880737305,18.992414474487305,1.6208823919296265,20.028385162353516,17.392444610595703,61.2255859375,72.3061294555664,24.24623680114746,-2.550806999206543,18.68079376220703,10.890337944030762,18.7159423828125,1.501365303993225,11.695966720581055,5.224592685699463,56.689659118652344,14.193758010864258,18.68937110900879,20.426677703857422,17.8460636138916,10.18659782409668,-2.608577013015747,10.9899320602417,-6.1808552742004395,19.839374542236328,14.705345153808594,0.46807464957237244,-3.0532665252685547,15.830062866210938,7.3714280128479,-1.9300284385681152,58.664424896240234,14.083374977111816,14.959695816040039,21.123584747314453,6.760415554046631,3.3781564235687256,10.10481071472168,61.81693649291992,8.336055755615234,12.397577285766602,-3.3703737258911133,71.20282745361328,15.741362571716309,5.459707736968994,3.965792179107666,22.71994972229004,17.454730987548828,8.857267379760742,-4.360294818878174,16.19113540649414,59.712562561035156,-3.892826557159424,18.371686935424805,11.353970527648926,11.427078247070312,19.195465087890625,4.30325984954834,3.238849401473999,-3.81042742729187,20.451383590698242,15.066555976867676,-3.8040125370025635,-7.990443229675293,56.95381546020508,-3.5162127017974854,6.802314281463623,10.424564361572266,-4.756157875061035,19.56419563293457,11.231733322143555,9.845739364624023,8.298901557922363,10.061954498291016,9.056365013122559,14.34973430633545,3.7367684841156006,9.756600379943848,-2.5412678718566895,-5.804240703582764,-5.429543972015381,6.554981708526611,69.03145599365234,-3.803022861480713,3.325875997543335,72.9464340209961,18.365863800048828,-4.720890522003174,3.9374172687530518,16.903074264526367,72.08499145507812,16.080570220947266,4.090683460235596,10.263701438903809,15.066936492919922,71.65099334716797,-5.191744327545166,-6.87446928024292,-4.7884111404418945,60.76517868041992,9.534629821777344,-4.527266502380371,8.068241119384766,-6.268243789672852,-0.638821542263031,9.624266624450684,-5.537959575653076,-4.158927917480469,7.653860569000244,58.4187126159668,-7.186313629150391,-0.41365545988082886,10.24471378326416,72.31709289550781,17.77960968017578,67.37091064453125,10.372350692749023,-3.1805970668792725,-5.643574237823486,4.174474716186523,-6.549154281616211,18.71396827697754,-6.163397312164307,-5.589193344116211,9.60348892211914,62.54011535644531,1.5439581871032715,7.335803985595703,-1.0291094779968262,12.348650932312012,-6.219324588775635,12.187747955322266,2.5034291744232178,16.686613082885742,8.783844947814941,-5.952117919921875,-6.736966609954834,-6.388485908508301,-11.326462745666504,71.88408660888672,16.84794044494629,3.0022449493408203,8.414531707763672,7.774562835693359,3.2822182178497314,-1.7214723825454712,61.93729019165039,-6.559591293334961,13.43359088897705,-6.421607494354248,10.683201789855957,73.5381851196289,72.93899536132812,9.191638946533203,2.562497854232788,11.175924301147461,12.188718795776367,9.205801963806152,0.9325535893440247,7.887251853942871,1.899342656135559,18.454662322998047,16.43218994140625,60.77329635620117,-8.76641845703125,8.378288269042969,-0.4098812937736511,-4.8103179931640625,-2.0976245403289795,-6.922935485839844,13.304365158081055,15.407320976257324,17.267650604248047,1.7887272834777832,1.535030484199524,69.18704986572266,15.466259002685547,18.23090934753418,17.412925720214844,17.897876739501953,14.421158790588379,-2.1767382621765137,15.952788352966309,17.65137481689453,-1.9944031238555908,6.172791004180908,-6.585927486419678,-7.266192436218262,70.68128204345703,59.367820739746094,13.465517044067383,6.875645637512207,1.5939363241195679,2.134897232055664,69.60769653320312,10.663570404052734,57.2017936706543,-6.073376655578613,-7.496696472167969,8.846537590026855,-7.114778995513916,-2.6384124755859375,0.2618388235569,-7.053232192993164,59.19871520996094,-7.013423442840576,-1.0720933675765991,-8.915740013122559,15.102103233337402,7.824728488922119,66.537353515625,62.340721130371094,-3.6270592212677,-7.6871185302734375,15.878111839294434,-4.951617240905762,-7.494454860687256,-2.7164478302001953,71.51116943359375,5.834367275238037,5.804802417755127,0.6245096921920776,65.84073638916016,15.522249221801758,-1.2089815139770508,-8.034528732299805,-5.565568923950195,-0.717866837978363,-12.858713150024414,0.6335341334342957,8.17695426940918,4.164182186126709,-11.033409118652344,-8.800247192382812,8.436409950256348,-8.18657398223877,-6.684072017669678,1.3666136264801025,17.82660484313965,-8.119900703430176,6.448962211608887,-3.4783334732055664,-9.296952247619629,0.08377271145582199,1.9155218601226807,16.434452056884766,2.068992853164673,-3.876734972000122,-7.4087018966674805,14.30615520477295,-12.667878150939941,-3.574075222015381,-1.4790130853652954,-13.474788665771484,-11.382893562316895,0.9456818103790283,1.1382566690444946,-7.4566755294799805,-9.395553588867188,-9.43430233001709,-4.3122878074646,12.628438949584961,-6.82932710647583,65.75788116455078,8.473100662231445,0.08073616772890091,-5.221591472625732,67.04676055908203,15.315777778625488,-10.792478561401367,2.1089704036712646,-14.106159210205078,65.44261169433594,15.44153118133545,-10.627135276794434,66.50039672851562,1.5310617685317993,9.8350830078125,12.991683959960938,14.84544849395752,3.1389567852020264,-4.386605262756348,-4.501290798187256,-8.636866569519043,7.351158142089844,-0.4672888517379761,-0.6401192545890808,66.67359161376953,-13.358661651611328,-1.188673973083496,-14.398598670959473,-12.953091621398926,-0.27801772952079773,57.966758728027344,2.346684455871582,17.257244110107422,-10.95085334777832,16.82136344909668,16.208404541015625,-14.516241073608398,-4.984696388244629,68.49678802490234,5.648927211761475,63.84990692138672,1.8029142618179321,57.63933181762695,5.666765213012695,5.0687994956970215,13.953479766845703,-5.170457363128662,-11.343608856201172,14.311518669128418,-7.6711106300354,-2.706200361251831,-4.002788066864014,-12.79897689819336,-5.397286415100098,4.765336990356445,8.668102264404297,8.586536407470703,-1.6265641450881958,7.764370918273926,-11.353283882141113,-13.788000106811523,0.7326783537864685,71.047607421875,12.5636568069458,-0.8809159994125366,-4.423370361328125,12.005982398986816,-11.188944816589355,-1.7633131742477417,-5.002468585968018,-5.055213928222656,-0.24885568022727966,5.677445888519287,6.735284328460693,64.7060546875,-12.018528938293457,-16.634855270385742,16.66379165649414,73.72488403320312,-0.30276358127593994,-12.090350151062012,-4.797992706298828,58.81002426147461,-0.7369729280471802,4.7727508544921875,1.7494114637374878,14.213090896606445,4.939535617828369,13.27384090423584,62.491886138916016,70.93669128417969,1.7787208557128906,-21.702350616455078,71.52012634277344,-18.05672264099121,-12.41636848449707,-11.552825927734375,57.83818054199219,4.3114213943481445,-14.068248748779297,67.40685272216797,5.504864692687988,-14.583316802978516,11.067667961120605,11.532907485961914,-16.234663009643555,-15.585954666137695,-1.0704312324523926,-1.6248539686203003,5.105075359344482,74.61944580078125,-4.230246067047119,-3.995126962661743,-14.061914443969727,5.057589530944824,-3.010999917984009,-13.419589042663574,-1.8161225318908691,14.903305053710938,-14.96284294128418,71.86518859863281,-14.393179893493652,-10.99841022491455,13.163910865783691,63.15758514404297,14.859217643737793,2.791293144226074,-0.13651001453399658,-0.5681586861610413,-8.207453727722168,-17.95994758605957,-5.66793155670166,-3.55361270904541,-18.709556579589844,14.879947662353516,72.91022491455078,0.414482057094574,-9.35909366607666,-15.904592514038086,5.525078773498535,-15.624475479125977,7.470495223999023,-1.2072248458862305,65.14276885986328,-9.944597244262695,68.71224975585938,-1.3215093612670898,-15.388448715209961,-14.755586624145508,11.217711448669434,-15.444026947021484,13.535215377807617,-20.291885375976562,59.17713928222656,2.3610739707946777,4.520595073699951,-6.65320348739624,-1.2523387670516968,-18.02745246887207,-21.677392959594727,-9.12913703918457,-19.902433395385742,3.053374767303467,-22.235698699951172,1.630033254623413,4.641592025756836,-1.8876924514770508,-7.536377906799316,11.232073783874512,-14.174633026123047,-3.600306510925293,5.105690002441406,3.875230312347412,10.624130249023438,15.08511734008789,0.20009425282478333,-11.009443283081055,-4.803533554077148,-3.8356740474700928,-4.21824312210083,-16.60603904724121,75.46224975585938,2.1582024097442627,-19.489009857177734,13.683124542236328,4.673217296600342,-12.960403442382812,-10.321770668029785,-9.686803817749023,3.604334831237793,-10.294801712036133,-22.075326919555664,0.7798616886138916,2.072732925415039,-20.26612091064453,-3.656508684158325,-17.33519172668457,-0.48134109377861023,-1.2106059789657593,67.48921966552734,3.792165517807007,-14.467695236206055,12.377015113830566,-3.9242329597473145,75.01209259033203,-5.710351467132568,-16.007225036621094,-15.422024726867676,-0.008291471749544144,74.2238998413086,-17.00242805480957,11.822352409362793,-16.89480209350586,-11.449366569519043,-22.964778900146484,59.41182327270508,-10.627366065979004,-7.489537239074707,-22.939851760864258,-2.6270196437835693,65.26708221435547,-9.257015228271484,-24.124603271484375,-7.334573745727539,-17.551685333251953,-37.998924255371094,4.893364906311035,-16.749393463134766,-8.17906379699707,-22.43600845336914,11.491425514221191,8.998403549194336,2.224647045135498,65.7553939819336,-5.834505081176758,65.49339294433594,2.9519481658935547,-6.5515007972717285,3.021322250366211,72.0746841430664,-22.907413482666016,73.26316833496094,72.41508483886719,10.376567840576172,12.736233711242676,-15.873659133911133,-8.441184043884277,-4.688515663146973,-20.04861068725586,-6.6069512367248535,-6.276864528656006,12.647561073303223,65.67708587646484,6.45234489440918,62.866455078125,58.69226837158203,-17.376914978027344,-16.860313415527344,-12.874249458312988,-5.655975341796875,76.77169036865234,-22.99479866027832,3.3758554458618164,-2.0053985118865967,-14.58658218383789,-6.059903144836426,-5.088400363922119,4.0292277336120605,66.28838348388672,-7.356319904327393,11.598044395446777,-17.551910400390625,63.40102005004883,-3.1386873722076416,70.13280487060547,-4.96010160446167,-12.3113431930542,64.0608139038086,-2.960530996322632,-19.45627784729004,4.807783603668213,-27.507064819335938,74.84253692626953,-19.52883529663086,-4.473937034606934,-21.453096389770508,2.436305522918701,-4.395379543304443,74.0757827758789,5.687508583068848,-13.82354736328125,10.115601539611816,-4.496005535125732,-23.19706153869629,-16.87005043029785,-7.128253936767578,-18.132383346557617,-9.399868965148926,-25.276134490966797,62.28518295288086,10.29368782043457,2.221041202545166,3.620347023010254,-2.851701021194458,-17.93824577331543,-7.237621784210205,7.835915565490723,-5.964280605316162,6.175576686859131,-23.84457778930664,4.0913238525390625,-0.44435688853263855,-7.549985885620117,8.779336929321289,10.860190391540527,-26.610149383544922,76.93215942382812,11.876896858215332,-27.89134979248047,11.383503913879395,11.75804615020752,-4.933665752410889,-7.944123268127441,-15.878129959106445,-4.417169094085693,-7.009884834289551,-4.900149822235107,9.604528427124023,-38.47658157348633,-4.099385738372803,-29.225801467895508,-13.376337051391602,9.452558517456055,68.24777221679688,-20.06329917907715,0.5631904602050781,-4.640603542327881,10.702198028564453,-7.417555332183838,-14.92541790008545,-25.425336837768555,-17.43004035949707,-13.34436321258545,-7.671064376831055,60.10490417480469,-21.384151458740234,-8.370508193969727,-19.676977157592773,-3.0721395015716553,-30.418123245239258,6.299336910247803,-3.7346131801605225,-23.278217315673828,-27.037487030029297,-30.633838653564453,10.602213859558105,-5.148022174835205,-26.108606338500977,-17.501882553100586,-27.668292999267578,4.507534503936768,-19.9044189453125,-10.36025333404541,-4.75237512588501,-25.27617835998535,-27.39695930480957,-4.018416881561279,-4.831777572631836,4.73295259475708,-25.764633178710938,-37.43358612060547,-24.381616592407227,-20.645076751708984,-29.203927993774414,-24.00124740600586,-4.27220344543457,0.9407339096069336,63.61743927001953,-22.60295295715332,-27.393892288208008,-17.537817001342773,-27.073619842529297,-0.7824297547340393,-28.250091552734375,-13.572273254394531,68.89933013916016,-10.480348587036133,-9.3414306640625,-19.591341018676758,66.22615814208984,4.0477519035339355,4.916341304779053,8.86916732788086,-18.534822463989258,-34.497703552246094,71.72783660888672,8.589865684509277,-9.009063720703125,5.764069080352783,70.99651336669922,-1.5611481666564941,-34.52995681762695,-27.66922378540039,-23.137971878051758,-10.835222244262695,-0.23361948132514954,-15.680989265441895,-5.236146926879883,-26.91294288635254,5.067580699920654,-13.938131332397461,-24.6209659576416,-3.8642048835754395,-27.293672561645508,73.51768493652344,-9.418292999267578,-22.75836944580078,-8.826186180114746,-25.59316062927246,-25.572954177856445,76.68730163574219,10.627799034118652,4.057993412017822,-28.74012565612793,-21.29922103881836,-7.738668441772461,-8.804727554321289,-8.591686248779297,-10.037179946899414,-20.760135650634766,-31.529056549072266,-10.543269157409668,-8.857891082763672,-30.963638305664062,-24.22190284729004,-11.351523399353027,8.864419937133789,-30.915451049804688,58.53842544555664,5.415396213531494,8.097472190856934,-30.42623519897461,-1.3322950601577759,-29.58028793334961,-11.30350112915039,-5.881930351257324,-20.16876983642578,-21.4664249420166,-33.81479263305664,-21.25096893310547,-28.260414123535156,-18.611309051513672,2.5468251705169678,-5.624763011932373,-26.63019561767578,-1.2482460737228394,-8.974946022033691,-18.168724060058594,-29.975324630737305,74.076416015625,-10.692924499511719,-3.407898187637329,-26.18337631225586,67.78768157958984,72.84744262695312,-31.099231719970703,-14.837634086608887,-11.515155792236328,-7.636038303375244,68.79557800292969,-10.477682113647461,-29.116086959838867,-34.511375427246094,-19.645734786987305,-21.551006317138672,72.03570556640625,-11.633710861206055,-11.525373458862305,-40.68779754638672,-25.503379821777344,8.545502662658691,-29.507369995117188,-26.449420928955078,-1.9539936780929565,67.0265121459961,-17.56009864807129,-24.466415405273438,-29.749591827392578,-30.72542953491211,-30.3696231842041,-11.264313697814941,-24.940065383911133,73.31724548339844,-32.890628814697266,7.090822696685791,77.96183776855469,-21.941999435424805,61.94761276245117,-31.186952590942383,-21.66312026977539,-8.112845420837402,-5.359460353851318,-31.00420379638672,-12.230206489562988,-33.94393539428711,70.98863220214844,0.6947653293609619,-20.383548736572266,5.831846237182617,-20.517974853515625,1.0658094882965088,-21.765750885009766,-32.138343811035156,-4.832610607147217,-21.11423110961914,-10.670002937316895,73.76519775390625,-28.407033920288086,-39.19721603393555,71.90258026123047,-22.40595817565918,-29.78028106689453,-19.01395606994629,-5.608285427093506,78.42266845703125,-0.9097504019737244,-29.85134506225586,-30.065406799316406,-26.55880355834961,-5.303120136260986,-0.1564524918794632,-4.431699275970459,4.082265853881836,-12.350117683410645,-30.648855209350586,-33.079078674316406,-1.7505004405975342,-1.5676991939544678,-31.84665298461914,-25.561683654785156,-12.443326950073242,5.22157621383667,70.6311264038086,-19.695125579833984,0.48065826296806335,-30.971036911010742,-33.19386291503906,7.332517147064209,-25.96788787841797,-29.482603073120117,-14.713260650634766,-33.364501953125,-0.8320767283439636,-1.8382203578948975,7.98724365234375,-9.263280868530273,73.97590637207031,-2.065364122390747,-0.38371485471725464,-8.442706108093262,-5.158059120178223,-9.094836235046387,-12.62217903137207,-7.544138431549072,-11.810715675354004,-0.009574771858751774,-2.562246799468994,1.7575569152832031,72.58348083496094,-2.245990753173828,-2.5381510257720947,-23.87384033203125,-34.6479606628418,-31.406455993652344,-23.682491302490234,4.599925994873047,-15.57965087890625,-25.913259506225586,-31.368946075439453,-15.985577583312988,-3.734677791595459,-23.987852096557617,-39.771446228027344,-7.837108612060547,-8.555825233459473,-8.362421989440918,-26.41401481628418,70.2250747680664,6.186753273010254,61.86081314086914,-38.587894439697266,-27.35040855407715,-3.497180461883545,4.2934770584106445,-11.906656265258789,-37.06557846069336,-21.753726959228516,-3.1928348541259766,67.45301818847656,60.86800765991211,-13.411531448364258,-23.826168060302734,-31.057355880737305,-3.8815252780914307,-17.86733055114746,-31.152671813964844,-12.880857467651367,-26.251789093017578,-25.242780685424805,-39.582679748535156,-26.099327087402344,-33.093597412109375,-22.832204818725586,77.82288360595703,-2.8336095809936523,4.700368881225586,-13.588881492614746,-14.600420951843262,3.8691327571868896,-13.256940841674805,78.58782196044922,-30.888263702392578,-25.016719818115234,-31.431943893432617,-22.966360092163086,-23.431791305541992,-42.552032470703125,-34.64439392089844,72.2788314819336,-6.221463680267334,-24.363786697387695,-21.294742584228516,70.91175079345703,-31.37920379638672,-14.37650203704834,-2.7224600315093994,-22.313152313232422,7.52600622177124,-14.941581726074219,-14.824239730834961,-3.8347506523132324,-38.94414138793945,75.52259063720703,-2.847604274749756,-1.8731898069381714,78.0019302368164,-21.89276695251465,-24.639232635498047,66.1513900756836,-25.0418643951416,-22.812606811523438,-9.137391090393066,78.66389465332031,-21.64839744567871,-18.340499877929688,-13.991703987121582,66.9426040649414,-27.090343475341797,-0.19644476473331451,-13.47324275970459,-32.07222366333008,-2.743117570877075,-0.28677207231521606,63.22116470336914,-20.525171279907227,-7.85239839553833,-28.457660675048828,3.8287980556488037,73.16547393798828,-18.094135284423828,-24.53961944580078,-23.686519622802734,-37.57961654663086,-24.827808380126953,-17.769975662231445,-15.408756256103516,-5.960713863372803,-10.185705184936523,-25.928991317749023,70.49424743652344,-6.513892650604248,-21.71991539001465,-0.3247648775577545,-35.29780960083008,-32.400177001953125,-9.768409729003906,70.16036224365234,-22.174631118774414,-39.56879806518555,72.00120544433594,-9.111893653869629,-11.302395820617676,-9.771379470825195,-26.492572784423828,-10.973518371582031,-22.264707565307617,72.83615112304688,-8.807660102844238,-38.05595397949219,-29.522403717041016,-35.8790168762207,-15.453009605407715,6.187075614929199,-32.57304382324219,7.2389631271362305,-21.91938018798828,65.71708679199219,-21.539236068725586,2.876046895980835,-32.65900421142578,75.92819213867188,-22.273494720458984,-21.242578506469727,1.4306362867355347,5.571181774139404,-15.633670806884766,-18.57489585876465,7.619388103485107,-24.24151039123535,-26.789730072021484,-14.973925590515137,-22.464828491210938,-27.776517868041992,-30.54030418395996,64.04517364501953,-5.06273078918457,-27.117464065551758,-9.29285717010498,6.725986003875732,-35.250038146972656,-18.62967300415039,71.09315490722656,-5.067262172698975,-36.91971206665039,65.97745513916016,-7.229061603546143,-49.29136657714844,-25.558879852294922,-11.32940673828125,-25.83295440673828,-40.233463287353516,7.242973327636719,-1.1587804555892944,77.77921295166016,-16.519556045532227,-7.145229816436768,3.519587516784668,-18.994264602661133,-39.69272232055664,-40.647647857666016,-24.758682250976562,-32.31854248046875,79.66619873046875,-39.84441375732422,-35.89374542236328,-42.35013961791992,-32.534156799316406,-8.1080322265625,2.013669013977051,-26.653297424316406,-21.58083152770996,67.42852783203125,-15.799238204956055,-34.58916091918945,-29.563026428222656,-27.170299530029297,-46.67203903198242,-35.571868896484375,-19.358980178833008,-27.155054092407227,-34.08492660522461,62.428890228271484,-43.29641342163086,69.81800079345703,-5.810912609100342,-16.20909881591797,-36.9429817199707,-22.607027053833008,-3.7077629566192627,-5.162399768829346,-22.92319679260254,-28.30272102355957,-29.702625274658203,-35.513118743896484,-28.081344604492188,-22.172643661499023,-15.359077453613281,-28.048540115356445,-36.75695037841797,-14.90751838684082,-29.58473014831543,-33.92061996459961,-28.010927200317383,-41.65031433105469,-40.91397476196289,-36.47117614746094,-41.26673889160156,-34.646114349365234,-28.06664276123047,-33.06211471557617,-39.79263687133789,-42.1269645690918,-40.238555908203125,-36.3161506652832,-40.064693450927734,-34.714420318603516,-37.666385650634766,-34.899078369140625,64.2566146850586,-29.603466033935547,-34.79018020629883,-28.80071449279785,-27.956180572509766,-6.88450288772583,-36.43254470825195,-34.15151596069336,-45.788021087646484,-27.36155128479004,-27.283964157104492,70.86064147949219,-42.24668502807617,65.0168685913086,-5.010712146759033,62.716033935546875,64.91053771972656,-28.650388717651367,-1.865153431892395,67.8644027709961,-44.03368377685547,-36.66748046875,-30.1982364654541,-48.4234619140625,-29.137739181518555,-34.55535125732422,-48.657005310058594,-28.585735321044922,-29.796356201171875,-36.12959289550781,-25.967864990234375,-9.692843437194824,72.6386947631836,-18.301876068115234,1.2033178806304932,-29.233537673950195,-1.4046738147735596,-35.51612091064453,-16.979169845581055,-16.889171600341797,-36.31431579589844,-22.556631088256836,-35.907997131347656,-31.20214080810547,-36.361228942871094,78.50361633300781,-41.2227897644043,-28.87504768371582,-27.974796295166016,-6.866090297698975,-14.878978729248047,-10.576951026916504,-0.4509671628475189,-23.27104949951172,-27.775300979614258,-42.7108154296875,-40.39569854736328,-10.305459976196289,74.27342987060547,-45.33510208129883,79.0814437866211,-28.147491455078125,-10.89936637878418,-0.6352030038833618,-39.33890914916992,73.4244384765625,-14.858027458190918,-30.098751068115234,-20.870729446411133,6.7471394538879395,-38.98493576049805,-6.854281425476074,-36.68889617919922,-19.11685562133789,-36.439430236816406,79.70198822021484,-44.382511138916016,-28.96024513244629,79.31787872314453,-37.24681854248047,71.88484954833984,-37.260616302490234,-38.01407241821289,-32.854732513427734,-30.933557510375977,-29.20857048034668,-37.43244171142578,64.43502044677734,-42.11043167114258,-40.04518127441406,-29.064682006835938,-3.55342960357666,-28.953998565673828,4.000565528869629,-1.9014719724655151,-29.453935623168945,-43.39592742919922,-32.36219787597656,-46.50230407714844,-38.62444305419922,79.47994232177734,-30.446229934692383,-21.140134811401367,-17.95960807800293,-30.85192108154297,-50.021827697753906,-45.48129653930664,-37.05431365966797,-25.745656967163086,-39.06863784790039,63.23820114135742,66.10795593261719,-17.12500762939453,-39.156005859375,-30.82756233215332,-20.417495727539062,-11.068161964416504,-45.83967590332031,-38.33751678466797,-16.033517837524414,-38.357852935791016,-26.842065811157227,-32.294517517089844,-42.00952911376953,-10.78181266784668,-38.915836334228516,3.8762247562408447,-42.2202033996582,5.194442272186279,-32.16682052612305,-38.7081298828125,-38.744564056396484,-38.630252838134766,-30.448877334594727,-23.344985961914062,66.32491302490234,-47.89180374145508,-31.22100067138672,-37.19511032104492,-23.576229095458984,-37.84032440185547,-26.169082641601562,-39.78950881958008,-21.182315826416016,72.74053192138672,-15.537676811218262,-44.75607681274414,-16.662294387817383,-20.7611083984375,75.74773406982422,-2.686143398284912,-37.6545295715332,-22.040416717529297,68.98590087890625,-32.92106246948242,-43.37158203125,-37.88894271850586,65.35256958007812,-29.711261749267578,-17.704124450683594,-29.29784393310547,-29.239423751831055,-46.87979507446289,-29.251991271972656,-31.304954528808594,-44.213417053222656,-48.703617095947266,78.5080795288086,-16.491487503051758,-33.053245544433594,5.8449482917785645,-39.10806655883789,-26.327425003051758,-31.110210418701172,-43.14990234375,-33.276206970214844,73.81963348388672,80.71307373046875,-19.86524200439453,78.8155746459961,-45.90651321411133,-45.634246826171875,-41.17930221557617,-35.45302200317383,3.918480396270752,-28.915294647216797,-42.838157653808594,-33.42122268676758,-21.510391235351562,-45.04214859008789,-19.88737678527832,-30.3735408782959,-43.82902145385742,75.00653076171875,-42.14292526245117,-32.101654052734375,-56.160099029541016,65.26586151123047,-11.226567268371582,-30.092470169067383,-44.157142639160156,-41.3427848815918,-40.55710983276367,-46.513519287109375,4.084873676300049,-36.49414825439453,-47.14906692504883,-43.88545608520508,65.3189468383789,-40.631988525390625,-39.075992584228516,-43.96982955932617,-2.2031846046447754,-41.801307678222656,-16.621299743652344,-49.88872146606445,-40.47868347167969,-45.53538131713867,80.7369155883789,-17.504287719726562,-38.47673034667969,-43.8941650390625,-16.53777503967285,-41.820980072021484,-46.23646926879883,-44.5081901550293,-30.708114624023438,-17.643953323364258,-35.38587951660156,-36.28270721435547,-43.40800476074219,81.26659393310547,-18.01765251159668,-35.96913528442383,6.414028167724609,-43.2282829284668,6.3959760665893555,-49.33699417114258,-40.75210952758789,-44.89391326904297,76.03719329833984,-46.11739730834961,-31.935937881469727,-56.42661666870117,-17.68435287475586,-22.05438995361328,-18.356040954589844,-41.47688293457031,-38.96432876586914,-2.937991142272949,74.30158233642578,-47.21323013305664,-45.0530891418457,-49.45615768432617,-43.70815658569336,-50.40727615356445,-42.31098175048828,-44.6215934753418,-43.136688232421875,0.9899019598960876,-49.976593017578125,-24.209728240966797,-28.18260383605957,-45.03582763671875,-14.262313842773438,-47.313236236572266,-49.658329010009766,-27.926469802856445,-38.57466506958008,-25.29865837097168,-44.422645568847656,17.855674743652344,-30.582948684692383,-49.231285095214844,-43.99480438232422,-43.95515441894531,-44.28856658935547,-23.54318618774414,-33.492122650146484,-18.242563247680664,-42.436004638671875,3.3095855712890625,-49.93180847167969,-45.50141525268555,-36.13380813598633,-18.333677291870117,-51.18818283081055,-50.18428421020508,63.69719696044922,-29.25897979736328,-20.06494903564453,-32.851112365722656,81.63758850097656,76.23836517333984,-0.9115437269210815,-40.93361282348633,-35.9100456237793,75.54475402832031,75.08695220947266,-39.67380905151367,63.70587158203125,-49.874446868896484,-47.38270950317383,1.0917208194732666,-49.16484451293945,-17.646747589111328,-29.287160873413086,3.410916328430176,-37.093467712402344,-38.997535705566406,-49.480430603027344,-50.268646240234375,75.47512817382812,-23.373924255371094,-23.868743896484375,66.38404083251953,-34.436424255371094,-34.71158981323242,-45.028568267822266,-53.76679611206055,76.98432159423828,-42.32694625854492,4.407938003540039,-43.73661422729492,-43.35540008544922,-49.05242919921875,4.368260383605957,-19.593955993652344,-18.866178512573242,-37.00370788574219,-43.630184173583984,-39.86507034301758,-50.03790283203125,-1.4391292333602905,0.8897610306739807,80.8320083618164,-30.500093460083008,2.060452938079834,-32.63149642944336,72.94459533691406,-41.830299377441406,-39.33494186401367,-55.04362487792969,-38.972999572753906,-54.21379470825195,-34.79458236694336,-20.349767684936523,-37.85247039794922,71.85191345214844,-42.276893615722656,-42.81011199951172,-15.018092155456543,-19.527132034301758,63.82160568237305,-49.77218246459961,-50.59483337402344,-44.84286880493164,-46.57888412475586,-19.27214813232422,73.5798568725586,-22.72030258178711,-48.94993209838867,-32.50369644165039,-42.00545120239258,-31.424076080322266,-23.01744842529297,76.19810485839844,-23.61016082763672,-36.323997497558594,-52.32868194580078,-44.61677551269531,-44.23621368408203,75.51025390625,-35.182456970214844,-50.05290222167969,81.41632080078125,-45.470184326171875,-20.120676040649414,-40.40704345703125,6.0596208572387695,63.18900680541992,-48.56453323364258,-43.00307846069336,-40.71198654174805,81.71729278564453,-21.024097442626953,0.9245182275772095,-48.63463592529297,-49.40424346923828,66.9231185913086,-49.52317810058594,63.16999435424805,62.66199493408203,80.87938690185547,-50.373146057128906,0.10602150112390518,-18.626480102539062,-49.942054748535156,2.579782247543335,-49.74958038330078,73.62911987304688,-15.482300758361816,-38.39944076538086,-41.23350143432617,-57.389068603515625,81.28717803955078,-48.931884765625,-20.292316436767578,-58.26826095581055,-50.36457061767578,-50.05312728881836,-47.50061798095703,-35.787479400634766,-51.243717193603516,-47.56922912597656,-50.69974136352539,-17.114229202270508,-41.541839599609375,-53.882816314697266,-49.493709564208984,-19.25700569152832,-42.59083938598633,-50.57270431518555,-44.06343460083008,-14.661206245422363,-50.45499801635742,-15.595621109008789,-50.77083206176758,-28.221973419189453,-21.798126220703125,-32.65115737915039,-46.52257537841797,-48.128013610839844,-49.94694137573242,3.177914619445801,-55.083560943603516,-23.676809310913086,-16.08186912536621,-51.59239959716797,-37.03171920776367,-40.42970657348633,-49.287601470947266,-45.92812728881836,-23.557498931884766,82.19872283935547,-57.099971771240234,-48.61496353149414,73.04378509521484,-48.5395622253418,-56.606468200683594,74.32764434814453,-30.698753356933594,-51.94485855102539,-21.080442428588867,-17.825090408325195,-38.79499053955078,-0.49451085925102234,-22.532358169555664,-48.5806884765625,-48.82679748535156,74.64884185791016,-40.21742248535156,64.82498931884766,-41.037261962890625,-12.98750114440918,-50.44520950317383,-36.41447448730469,-52.500240325927734,-54.11936950683594,-43.431793212890625,-21.61457633972168,-17.611419677734375,-34.0479621887207,-50.46106719970703,-46.90012741088867,-40.84759521484375,-50.59353256225586,-30.203319549560547,-21.12278175354004,-1.0341827869415283,62.776126861572266,-52.25798416137695,-34.09224319458008,-34.932823181152344,-53.047645568847656,-42.868831634521484,-52.794795989990234,-20.838226318359375,-51.851680755615234,-36.21516036987305,-51.99717712402344,-53.074249267578125,-30.3088436126709,-38.16328811645508,-32.04052734375,2.52520751953125,-52.80815124511719,-45.10292434692383,-57.69314193725586,70.68791198730469,-20.66028594970703,1.5565927028656006,2.4101362228393555,-39.88247299194336,-52.04277801513672,-51.15720748901367,-40.479331970214844,-39.71296310424805,-20.80776596069336,-51.269989013671875,-52.041996002197266,-34.75905227661133,-51.607601165771484,74.55259704589844,-37.49332809448242,-49.243194580078125,74.42208099365234,-20.078962326049805,-37.35569381713867,62.855342864990234,82.025146484375,-31.081409454345703,-51.097721099853516,-49.60956954956055,-52.96360397338867,-51.51087188720703,-36.812252044677734,-51.174957275390625,-46.745094299316406,-33.26112747192383,-30.735321044921875,-36.266178131103516,-39.929237365722656,71.32539367675781,-45.25077819824219,-33.195167541503906,-32.29533386230469,-21.6607723236084,-51.006656646728516,-50.5234260559082,-20.902040481567383,77.24518585205078,-51.500328063964844,77.62739562988281,-41.71902847290039,-34.874202728271484],\"yaxis\":\"y\",\"type\":\"scattergl\"}],                        {\"template\":{\"data\":{\"histogram2dcontour\":[{\"type\":\"histogram2dcontour\",\"colorbar\":{\"outlinewidth\":0,\"ticks\":\"\"},\"colorscale\":[[0.0,\"#0d0887\"],[0.1111111111111111,\"#46039f\"],[0.2222222222222222,\"#7201a8\"],[0.3333333333333333,\"#9c179e\"],[0.4444444444444444,\"#bd3786\"],[0.5555555555555556,\"#d8576b\"],[0.6666666666666666,\"#ed7953\"],[0.7777777777777778,\"#fb9f3a\"],[0.8888888888888888,\"#fdca26\"],[1.0,\"#f0f921\"]]}],\"choropleth\":[{\"type\":\"choropleth\",\"colorbar\":{\"outlinewidth\":0,\"ticks\":\"\"}}],\"histogram2d\":[{\"type\":\"histogram2d\",\"colorbar\":{\"outlinewidth\":0,\"ticks\":\"\"},\"colorscale\":[[0.0,\"#0d0887\"],[0.1111111111111111,\"#46039f\"],[0.2222222222222222,\"#7201a8\"],[0.3333333333333333,\"#9c179e\"],[0.4444444444444444,\"#bd3786\"],[0.5555555555555556,\"#d8576b\"],[0.6666666666666666,\"#ed7953\"],[0.7777777777777778,\"#fb9f3a\"],[0.8888888888888888,\"#fdca26\"],[1.0,\"#f0f921\"]]}],\"heatmap\":[{\"type\":\"heatmap\",\"colorbar\":{\"outlinewidth\":0,\"ticks\":\"\"},\"colorscale\":[[0.0,\"#0d0887\"],[0.1111111111111111,\"#46039f\"],[0.2222222222222222,\"#7201a8\"],[0.3333333333333333,\"#9c179e\"],[0.4444444444444444,\"#bd3786\"],[0.5555555555555556,\"#d8576b\"],[0.6666666666666666,\"#ed7953\"],[0.7777777777777778,\"#fb9f3a\"],[0.8888888888888888,\"#fdca26\"],[1.0,\"#f0f921\"]]}],\"heatmapgl\":[{\"type\":\"heatmapgl\",\"colorbar\":{\"outlinewidth\":0,\"ticks\":\"\"},\"colorscale\":[[0.0,\"#0d0887\"],[0.1111111111111111,\"#46039f\"],[0.2222222222222222,\"#7201a8\"],[0.3333333333333333,\"#9c179e\"],[0.4444444444444444,\"#bd3786\"],[0.5555555555555556,\"#d8576b\"],[0.6666666666666666,\"#ed7953\"],[0.7777777777777778,\"#fb9f3a\"],[0.8888888888888888,\"#fdca26\"],[1.0,\"#f0f921\"]]}],\"contourcarpet\":[{\"type\":\"contourcarpet\",\"colorbar\":{\"outlinewidth\":0,\"ticks\":\"\"}}],\"contour\":[{\"type\":\"contour\",\"colorbar\":{\"outlinewidth\":0,\"ticks\":\"\"},\"colorscale\":[[0.0,\"#0d0887\"],[0.1111111111111111,\"#46039f\"],[0.2222222222222222,\"#7201a8\"],[0.3333333333333333,\"#9c179e\"],[0.4444444444444444,\"#bd3786\"],[0.5555555555555556,\"#d8576b\"],[0.6666666666666666,\"#ed7953\"],[0.7777777777777778,\"#fb9f3a\"],[0.8888888888888888,\"#fdca26\"],[1.0,\"#f0f921\"]]}],\"surface\":[{\"type\":\"surface\",\"colorbar\":{\"outlinewidth\":0,\"ticks\":\"\"},\"colorscale\":[[0.0,\"#0d0887\"],[0.1111111111111111,\"#46039f\"],[0.2222222222222222,\"#7201a8\"],[0.3333333333333333,\"#9c179e\"],[0.4444444444444444,\"#bd3786\"],[0.5555555555555556,\"#d8576b\"],[0.6666666666666666,\"#ed7953\"],[0.7777777777777778,\"#fb9f3a\"],[0.8888888888888888,\"#fdca26\"],[1.0,\"#f0f921\"]]}],\"mesh3d\":[{\"type\":\"mesh3d\",\"colorbar\":{\"outlinewidth\":0,\"ticks\":\"\"}}],\"scatter\":[{\"fillpattern\":{\"fillmode\":\"overlay\",\"size\":10,\"solidity\":0.2},\"type\":\"scatter\"}],\"parcoords\":[{\"type\":\"parcoords\",\"line\":{\"colorbar\":{\"outlinewidth\":0,\"ticks\":\"\"}}}],\"scatterpolargl\":[{\"type\":\"scatterpolargl\",\"marker\":{\"colorbar\":{\"outlinewidth\":0,\"ticks\":\"\"}}}],\"bar\":[{\"error_x\":{\"color\":\"#2a3f5f\"},\"error_y\":{\"color\":\"#2a3f5f\"},\"marker\":{\"line\":{\"color\":\"#E5ECF6\",\"width\":0.5},\"pattern\":{\"fillmode\":\"overlay\",\"size\":10,\"solidity\":0.2}},\"type\":\"bar\"}],\"scattergeo\":[{\"type\":\"scattergeo\",\"marker\":{\"colorbar\":{\"outlinewidth\":0,\"ticks\":\"\"}}}],\"scatterpolar\":[{\"type\":\"scatterpolar\",\"marker\":{\"colorbar\":{\"outlinewidth\":0,\"ticks\":\"\"}}}],\"histogram\":[{\"marker\":{\"pattern\":{\"fillmode\":\"overlay\",\"size\":10,\"solidity\":0.2}},\"type\":\"histogram\"}],\"scattergl\":[{\"type\":\"scattergl\",\"marker\":{\"colorbar\":{\"outlinewidth\":0,\"ticks\":\"\"}}}],\"scatter3d\":[{\"type\":\"scatter3d\",\"line\":{\"colorbar\":{\"outlinewidth\":0,\"ticks\":\"\"}},\"marker\":{\"colorbar\":{\"outlinewidth\":0,\"ticks\":\"\"}}}],\"scattermapbox\":[{\"type\":\"scattermapbox\",\"marker\":{\"colorbar\":{\"outlinewidth\":0,\"ticks\":\"\"}}}],\"scatterternary\":[{\"type\":\"scatterternary\",\"marker\":{\"colorbar\":{\"outlinewidth\":0,\"ticks\":\"\"}}}],\"scattercarpet\":[{\"type\":\"scattercarpet\",\"marker\":{\"colorbar\":{\"outlinewidth\":0,\"ticks\":\"\"}}}],\"carpet\":[{\"aaxis\":{\"endlinecolor\":\"#2a3f5f\",\"gridcolor\":\"white\",\"linecolor\":\"white\",\"minorgridcolor\":\"white\",\"startlinecolor\":\"#2a3f5f\"},\"baxis\":{\"endlinecolor\":\"#2a3f5f\",\"gridcolor\":\"white\",\"linecolor\":\"white\",\"minorgridcolor\":\"white\",\"startlinecolor\":\"#2a3f5f\"},\"type\":\"carpet\"}],\"table\":[{\"cells\":{\"fill\":{\"color\":\"#EBF0F8\"},\"line\":{\"color\":\"white\"}},\"header\":{\"fill\":{\"color\":\"#C8D4E3\"},\"line\":{\"color\":\"white\"}},\"type\":\"table\"}],\"barpolar\":[{\"marker\":{\"line\":{\"color\":\"#E5ECF6\",\"width\":0.5},\"pattern\":{\"fillmode\":\"overlay\",\"size\":10,\"solidity\":0.2}},\"type\":\"barpolar\"}],\"pie\":[{\"automargin\":true,\"type\":\"pie\"}]},\"layout\":{\"autotypenumbers\":\"strict\",\"colorway\":[\"#636efa\",\"#EF553B\",\"#00cc96\",\"#ab63fa\",\"#FFA15A\",\"#19d3f3\",\"#FF6692\",\"#B6E880\",\"#FF97FF\",\"#FECB52\"],\"font\":{\"color\":\"#2a3f5f\"},\"hovermode\":\"closest\",\"hoverlabel\":{\"align\":\"left\"},\"paper_bgcolor\":\"white\",\"plot_bgcolor\":\"#E5ECF6\",\"polar\":{\"bgcolor\":\"#E5ECF6\",\"angularaxis\":{\"gridcolor\":\"white\",\"linecolor\":\"white\",\"ticks\":\"\"},\"radialaxis\":{\"gridcolor\":\"white\",\"linecolor\":\"white\",\"ticks\":\"\"}},\"ternary\":{\"bgcolor\":\"#E5ECF6\",\"aaxis\":{\"gridcolor\":\"white\",\"linecolor\":\"white\",\"ticks\":\"\"},\"baxis\":{\"gridcolor\":\"white\",\"linecolor\":\"white\",\"ticks\":\"\"},\"caxis\":{\"gridcolor\":\"white\",\"linecolor\":\"white\",\"ticks\":\"\"}},\"coloraxis\":{\"colorbar\":{\"outlinewidth\":0,\"ticks\":\"\"}},\"colorscale\":{\"sequential\":[[0.0,\"#0d0887\"],[0.1111111111111111,\"#46039f\"],[0.2222222222222222,\"#7201a8\"],[0.3333333333333333,\"#9c179e\"],[0.4444444444444444,\"#bd3786\"],[0.5555555555555556,\"#d8576b\"],[0.6666666666666666,\"#ed7953\"],[0.7777777777777778,\"#fb9f3a\"],[0.8888888888888888,\"#fdca26\"],[1.0,\"#f0f921\"]],\"sequentialminus\":[[0.0,\"#0d0887\"],[0.1111111111111111,\"#46039f\"],[0.2222222222222222,\"#7201a8\"],[0.3333333333333333,\"#9c179e\"],[0.4444444444444444,\"#bd3786\"],[0.5555555555555556,\"#d8576b\"],[0.6666666666666666,\"#ed7953\"],[0.7777777777777778,\"#fb9f3a\"],[0.8888888888888888,\"#fdca26\"],[1.0,\"#f0f921\"]],\"diverging\":[[0,\"#8e0152\"],[0.1,\"#c51b7d\"],[0.2,\"#de77ae\"],[0.3,\"#f1b6da\"],[0.4,\"#fde0ef\"],[0.5,\"#f7f7f7\"],[0.6,\"#e6f5d0\"],[0.7,\"#b8e186\"],[0.8,\"#7fbc41\"],[0.9,\"#4d9221\"],[1,\"#276419\"]]},\"xaxis\":{\"gridcolor\":\"white\",\"linecolor\":\"white\",\"ticks\":\"\",\"title\":{\"standoff\":15},\"zerolinecolor\":\"white\",\"automargin\":true,\"zerolinewidth\":2},\"yaxis\":{\"gridcolor\":\"white\",\"linecolor\":\"white\",\"ticks\":\"\",\"title\":{\"standoff\":15},\"zerolinecolor\":\"white\",\"automargin\":true,\"zerolinewidth\":2},\"scene\":{\"xaxis\":{\"backgroundcolor\":\"#E5ECF6\",\"gridcolor\":\"white\",\"linecolor\":\"white\",\"showbackground\":true,\"ticks\":\"\",\"zerolinecolor\":\"white\",\"gridwidth\":2},\"yaxis\":{\"backgroundcolor\":\"#E5ECF6\",\"gridcolor\":\"white\",\"linecolor\":\"white\",\"showbackground\":true,\"ticks\":\"\",\"zerolinecolor\":\"white\",\"gridwidth\":2},\"zaxis\":{\"backgroundcolor\":\"#E5ECF6\",\"gridcolor\":\"white\",\"linecolor\":\"white\",\"showbackground\":true,\"ticks\":\"\",\"zerolinecolor\":\"white\",\"gridwidth\":2}},\"shapedefaults\":{\"line\":{\"color\":\"#2a3f5f\"}},\"annotationdefaults\":{\"arrowcolor\":\"#2a3f5f\",\"arrowhead\":0,\"arrowwidth\":1},\"geo\":{\"bgcolor\":\"white\",\"landcolor\":\"#E5ECF6\",\"subunitcolor\":\"white\",\"showland\":true,\"showlakes\":true,\"lakecolor\":\"white\"},\"title\":{\"x\":0.05},\"mapbox\":{\"style\":\"light\"}}},\"xaxis\":{\"anchor\":\"y\",\"domain\":[0.0,1.0],\"title\":{\"text\":\"0\"}},\"yaxis\":{\"anchor\":\"x\",\"domain\":[0.0,1.0],\"title\":{\"text\":\"1\"}},\"coloraxis\":{\"colorbar\":{\"title\":{\"text\":\"Cluster\"}},\"colorscale\":[[0.0,\"#0d0887\"],[0.1111111111111111,\"#46039f\"],[0.2222222222222222,\"#7201a8\"],[0.3333333333333333,\"#9c179e\"],[0.4444444444444444,\"#bd3786\"],[0.5555555555555556,\"#d8576b\"],[0.6666666666666666,\"#ed7953\"],[0.7777777777777778,\"#fb9f3a\"],[0.8888888888888888,\"#fdca26\"],[1.0,\"#f0f921\"]]},\"legend\":{\"tracegroupgap\":0},\"margin\":{\"t\":60}},                        {\"responsive\": true}                    ).then(function(){\n",
              "                            \n",
              "var gd = document.getElementById('d67a18fd-0ab7-4688-a080-95d31c9d698e');\n",
              "var x = new MutationObserver(function (mutations, observer) {{\n",
              "        var display = window.getComputedStyle(gd).display;\n",
              "        if (!display || display === 'none') {{\n",
              "            console.log([gd, 'removed!']);\n",
              "            Plotly.purge(gd);\n",
              "            observer.disconnect();\n",
              "        }}\n",
              "}});\n",
              "\n",
              "// Listen for the removal of the full notebook cells\n",
              "var notebookContainer = gd.closest('#notebook-container');\n",
              "if (notebookContainer) {{\n",
              "    x.observe(notebookContainer, {childList: true});\n",
              "}}\n",
              "\n",
              "// Listen for the clearing of the current output cell\n",
              "var outputEl = gd.closest('.output');\n",
              "if (outputEl) {{\n",
              "    x.observe(outputEl, {childList: true});\n",
              "}}\n",
              "\n",
              "                        })                };                            </script>        </div>\n",
              "</body>\n",
              "</html>"
            ]
          },
          "metadata": {}
        }
      ]
    },
    {
      "cell_type": "markdown",
      "source": [
        "**Respuesta:**\n",
        "\n",
        "Vemos que los clusters son fácilmente diferenciables, en particular el con mayor distancia entre clusters es el grupo 4, que puede destacar al tener una periodicidad mucho menor que el resto de grupos, disparando su diferencia con el resto."
      ],
      "metadata": {
        "id": "zxl5qskDNmg-"
      }
    },
    {
      "cell_type": "markdown",
      "source": [
        "# Conclusión\n",
        "Eso ha sido todo para el lab de hoy, recuerden que el laboratorio tiene un plazo de entrega de una semana y que **los días de atraso no se pueden utilizar para entregas de lab** solo para tareas. Cualquier duda del laboratorio, no duden en contactarnos por mail o U-cursos.\n",
        "\n",
        "![Gracias Totales!](https://i.pinimg.com/originals/65/ae/27/65ae270df87c3c4adcea997e48f60852.gif \"bruno\")\n"
      ],
      "metadata": {
        "id": "Rg4ZMq8ezAH6",
        "cell_id": "00054-62f72afd-24c1-45b9-b80c-8b252273717c",
        "deepnote_cell_type": "markdown",
        "deepnote_cell_height": 492.1875
      }
    },
    {
      "cell_type": "markdown",
      "source": [
        "<br>\n",
        "<center>\n",
        "<img src=\"https://i.kym-cdn.com/photos/images/original/001/194/195/b18.png\" width=100 height=50 />\n",
        "</center>\n",
        "<br>"
      ],
      "metadata": {
        "id": "wCL1lACBzAH7",
        "cell_id": "00055-fea25dcb-f3c3-4a66-9ca6-5d64924d7396",
        "deepnote_cell_type": "markdown",
        "deepnote_cell_height": 171.40625
      }
    },
    {
      "cell_type": "markdown",
      "source": [
        "<a style='text-decoration:none;line-height:16px;display:flex;color:#5B5B62;padding:10px;justify-content:end;' href='https://deepnote.com?utm_source=created-in-deepnote-cell&projectId=87110296-876e-426f-b91d-aaf681223468' target=\"_blank\">\n",
        "<img alt='Created in deepnote.com' style='display:inline;max-height:16px;margin:0px;margin-right:7.5px;' src='data:image/svg+xml;base64,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' > </img>\n",
        "Created in <span style='font-weight:600;margin-left:4px;'>Deepnote</span></a>"
      ],
      "metadata": {
        "tags": [],
        "created_in_deepnote_cell": true,
        "deepnote_cell_type": "markdown",
        "id": "duCdO4m61mBn"
      }
    }
  ],
  "nbformat": 4,
  "nbformat_minor": 0,
  "metadata": {
    "kernelspec": {
      "display_name": "Python 3",
      "language": "python",
      "name": "python3"
    },
    "language_info": {
      "codemirror_mode": {
        "name": "ipython",
        "version": 3
      },
      "file_extension": ".py",
      "mimetype": "text/x-python",
      "name": "python",
      "nbconvert_exporter": "python",
      "pygments_lexer": "ipython3",
      "version": "3.8.3"
    },
    "toc": {
      "base_numbering": 1,
      "nav_menu": {},
      "number_sections": true,
      "sideBar": true,
      "skip_h1_title": true,
      "title_cell": "Tabla de Contenidos",
      "title_sidebar": "Contenidos",
      "toc_cell": false,
      "toc_position": {
        "height": "calc(100% - 180px)",
        "left": "10px",
        "top": "150px",
        "width": "241.867px"
      },
      "toc_section_display": true,
      "toc_window_display": true
    },
    "varInspector": {
      "cols": {
        "lenName": 16,
        "lenType": 16,
        "lenVar": 40
      },
      "kernels_config": {
        "python": {
          "delete_cmd_postfix": "",
          "delete_cmd_prefix": "del ",
          "library": "var_list.py",
          "varRefreshCmd": "print(var_dic_list())"
        },
        "r": {
          "delete_cmd_postfix": ") ",
          "delete_cmd_prefix": "rm(",
          "library": "var_list.r",
          "varRefreshCmd": "cat(var_dic_list()) "
        }
      },
      "types_to_exclude": [
        "module",
        "function",
        "builtin_function_or_method",
        "instance",
        "_Feature"
      ],
      "window_display": false
    },
    "colab": {
      "name": "Laboratorio6_Claro_Meneses.ipynb",
      "provenance": [],
      "collapsed_sections": [
        "Rcjs-dd1V-1u",
        "dkyp81nkBghF",
        "THmFfYs1AhAW"
      ],
      "toc_visible": true
    },
    "deepnote_notebook_id": "6bca2ca1-e14e-4a2d-8402-3bcc01d1af35",
    "deepnote": {},
    "deepnote_execution_queue": []
  }
}